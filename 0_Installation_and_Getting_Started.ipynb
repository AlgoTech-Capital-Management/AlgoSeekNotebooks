{
 "cells": [
  {
   "cell_type": "markdown",
   "source": [
    "# Getting Started with this repository"
   ],
   "metadata": {
    "collapsed": false,
    "pycharm": {
     "name": "#%% md\n"
    }
   }
  },
  {
   "cell_type": "code",
   "execution_count": null,
   "outputs": [],
   "source": [],
   "metadata": {
    "collapsed": false,
    "pycharm": {
     "name": "#%%\n"
    }
   }
  },
  {
   "cell_type": "markdown",
   "source": [
    "Making Data directories"
   ],
   "metadata": {
    "collapsed": false,
    "pycharm": {
     "name": "#%% md\n"
    }
   }
  },
  {
   "cell_type": "code",
   "execution_count": null,
   "outputs": [],
   "source": [
    "# Make directories\n",
    "import os\n",
    "\n",
    "# data dirs\n",
    "os.mkdir('data')\n",
    "os.mkdir('data/us_equity')\n",
    "os.mkdir('data/us_equity/reference')\n",
    "os.mkdir('data/us_equity/taq_min')\n",
    "os.mkdir('data/us_equity/basic_ohlc')\n",
    "os.mkdir('data/us_equity/basic_adj_ohlc')\n",
    "os.mkdir('data/us_equity/primary_ohlc')\n",
    "os.mkdir('data/us_equity/primary_adj_ohlc')\n",
    "os.mkdir('data/us_equity/standard_ohlc')\n",
    "os.mkdir('data/us_equity/standard_adj_ohlc')\n",
    "\n",
    "os.mkdir('data/us_equity/fundamentals')\n",
    "os.mkdir('data/us_equity/fundamentals/sec')\n",
    "\n",
    "\n",
    "# results dir\n",
    "os.mkdir('data/results')\n",
    "\n",
    "# model dirs\n",
    "os.mkdir('models')\n",
    "os.mkdir('models/intraday/')\n",
    "os.mkdir('models/daily/')\n",
    "os.mkdir('models/mixed')\n",
    "\n"
   ],
   "metadata": {
    "collapsed": false,
    "pycharm": {
     "name": "#%%\n"
    }
   }
  },
  {
   "cell_type": "code",
   "execution_count": null,
   "outputs": [],
   "source": [],
   "metadata": {
    "collapsed": false,
    "pycharm": {
     "name": "#%%\n"
    }
   }
  }
 ],
 "metadata": {
  "kernelspec": {
   "display_name": "Python 3",
   "language": "python",
   "name": "python3"
  },
  "language_info": {
   "codemirror_mode": {
    "name": "ipython",
    "version": 2
   },
   "file_extension": ".py",
   "mimetype": "text/x-python",
   "name": "python",
   "nbconvert_exporter": "python",
   "pygments_lexer": "ipython2",
   "version": "2.7.6"
  }
 },
 "nbformat": 4,
 "nbformat_minor": 0
}