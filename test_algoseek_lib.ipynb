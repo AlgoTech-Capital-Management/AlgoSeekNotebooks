{
 "cells": [
  {
   "cell_type": "code",
   "execution_count": 5,
   "outputs": [
    {
     "data": {
      "text/plain": "['.env',\n '.env.sample',\n '.gitignore',\n '.idea',\n '0_Installation_and_Getting_Started.ipynb',\n '1_Introduction_using_AlgoSeek_SDK.ipynb',\n '1_Introduction_using_Boto3.ipynb',\n 'algoseek',\n 'aws_config.json',\n 'Backtesting_Intro.ipynb',\n 'config',\n 'datasets',\n 'eda',\n 'integrations',\n 'Intraday_Data_Intro.ipynb',\n 'Introduction_to_Daily_Data.ipynb',\n 'Introduction_to_Fundamental_Analysis.ipynb',\n 'Introduction_to_Live_Data.ipynb',\n 'Local_Backtests_Using_BackTrader.ipynb',\n 'log.py',\n 'ml',\n 'notebooks',\n 'PySpark_and_EMR_Intro.ipynb',\n 'README.md',\n 'scripts',\n 'setup.py',\n 'strategies',\n 'test_algoseek_lib.ipynb',\n 'time_series_analysis',\n 'Universe_Selection.ipynb',\n 'wip']"
     },
     "execution_count": 5,
     "metadata": {},
     "output_type": "execute_result"
    }
   ],
   "source": [
    "import os\n",
    "os.chdir(\"C:/Users/julia/Documents/Coding/JupyterSamples/AlgoSeekNotebooks\")\n",
    "os.listdir()"
   ],
   "metadata": {
    "collapsed": false
   }
  },
  {
   "cell_type": "code",
   "execution_count": 19,
   "outputs": [
    {
     "name": "stdout",
     "output_type": "stream",
     "text": [
      "Requirement already satisfied: wheel in c:\\programdata\\anaconda3\\lib\\site-packages (0.37.1)\n",
      "Note: you may need to restart the kernel to use updated packages.\n",
      "Processing c:\\users\\julia\\documents\\coding\\jupytersamples\\algoseeknotebooks\n",
      "Requirement already satisfied: pandas in c:\\programdata\\anaconda3\\lib\\site-packages (from algoseek==0.1) (1.4.2)\n",
      "Requirement already satisfied: numpy>=1.18.5 in c:\\programdata\\anaconda3\\lib\\site-packages (from pandas->algoseek==0.1) (1.21.5)\n",
      "Requirement already satisfied: python-dateutil>=2.8.1 in c:\\programdata\\anaconda3\\lib\\site-packages (from pandas->algoseek==0.1) (2.8.2)\n",
      "Requirement already satisfied: pytz>=2020.1 in c:\\programdata\\anaconda3\\lib\\site-packages (from pandas->algoseek==0.1) (2021.3)\n",
      "Requirement already satisfied: six>=1.5 in c:\\programdata\\anaconda3\\lib\\site-packages (from python-dateutil>=2.8.1->pandas->algoseek==0.1) (1.16.0)\n",
      "Building wheels for collected packages: algoseek\n",
      "  Building wheel for algoseek (setup.py): started\n",
      "  Building wheel for algoseek (setup.py): finished with status 'done'\n",
      "  Created wheel for algoseek: filename=algoseek-0.1-py3-none-any.whl size=9784 sha256=293973cc83d6c604f8285fb85619b48da1e84bfb1eb7abdff60cbaaf8c9c16d3\n",
      "  Stored in directory: C:\\Users\\julia\\AppData\\Local\\Temp\\pip-ephem-wheel-cache-j3azmiq9\\wheels\\63\\76\\93\\683e3c058c7a573927faef3412d864a5807fc802d5f5953aa7\n",
      "Successfully built algoseek\n",
      "Installing collected packages: algoseek\n",
      "  Attempting uninstall: algoseek\n",
      "    Found existing installation: algoseek 0.1\n",
      "    Uninstalling algoseek-0.1:\n",
      "      Successfully uninstalled algoseek-0.1\n",
      "Successfully installed algoseek-0.1\n",
      "Note: you may need to restart the kernel to use updated packages.\n"
     ]
    },
    {
     "name": "stderr",
     "output_type": "stream",
     "text": [
      "  DEPRECATION: A future pip version will change local packages to be built in-place without first copying to a temporary directory. We recommend you use --use-feature=in-tree-build to test your packages with this new behavior before it becomes the default.\n",
      "   pip 21.3 will remove support for this functionality. You can find discussion regarding this at https://github.com/pypa/pip/issues/7555.\n"
     ]
    }
   ],
   "source": [
    "%pip install wheel\n",
    "%pip install ."
   ],
   "metadata": {
    "collapsed": false
   }
  },
  {
   "cell_type": "code",
   "execution_count": 20,
   "outputs": [],
   "source": [
    "import algoseek"
   ],
   "metadata": {
    "collapsed": false
   }
  },
  {
   "cell_type": "code",
   "execution_count": 23,
   "outputs": [],
   "source": [
    "import pandas as pd\n",
    "from numpy import log10 as npLog10\n",
    "from numpy import ndarray as npNdarray\n",
    "from pandas.core.base import PandasObject\n",
    "\n",
    "df = pd.DataFrame()\n",
    "\n",
    "class BasePandasObject(PandasObject):\n",
    "    \"\"\"\n",
    "\n",
    "    \"\"\"\n",
    "\n",
    "    def __init__(self, df, **kwargs):\n",
    "        if df.empty: return\n",
    "        if len(df.columns) > 0:\n",
    "            common_names = {\n",
    "                \"Date\": \"date\",\n",
    "                \"Time\": \"time\",\n",
    "                \"Timestamp\": \"timestamp\",\n",
    "                \"Datetime\": \"datetime\",\n",
    "                \"Open\": \"open\",\n",
    "                \"High\": \"high\",\n",
    "                \"Low\": \"low\",\n",
    "                \"Close\": \"close\",\n",
    "                \"Adj Close\": \"adj_close\",\n",
    "                \"Volume\": \"volume\",\n",
    "                \"Dividends\": \"dividends\",\n",
    "                \"Stock Splits\": \"split\",\n",
    "            }\n",
    "            # Preemptively drop the rows that are all NaNs\n",
    "            # Might need to be moved to AnalysisIndicators.__call__() to be\n",
    "            #   toggleable via kwargs.\n",
    "            # df.dropna(axis=0, inplace=True)\n",
    "            # Preemptively rename columns to lowercase\n",
    "            df.rename(columns=common_names, errors=\"ignore\", inplace=True)\n",
    "\n",
    "            # Preemptively lowercase the index\n",
    "            index_name = df.index.name\n",
    "            if index_name is not None:\n",
    "                df.index.rename(index_name.lower(), inplace=True)\n",
    "\n",
    "            self._df = df\n",
    "        else:\n",
    "            raise AttributeError(f\"[X] No columns!\")\n",
    "\n",
    "    def __call__(self, kind, *args, **kwargs):\n",
    "        raise NotImplementedError()\n",
    "\n",
    "@pd.api.extensions.register_dataframe_accessor(\"algoseek\")\n",
    "class AlgoSeekDataset():\n",
    "    \"\"\"\n",
    "\n",
    "    \"\"\"\n",
    "    def __init__(self,pandas_obj):\n",
    "        self._validate(pandas_obj)\n",
    "        self._df = pandas_obj\n",
    "\n",
    "    @staticmethod\n",
    "    def _validate(obj):\n",
    "        if \"SecId\" not in obj.columns or \"TradeDate\" not in obj.columns:\n",
    "            raise AttributeError(\"Must have 'SecId' and 'TradeDate'.\")\n",
    "\n",
    "    @property\n",
    "    def secid(self):\n",
    "        # test\n",
    "        secid = self._df.SecId\n",
    "        return(secid)\n",
    "\n",
    "    def plot(self):\n",
    "        pass"
   ],
   "metadata": {
    "collapsed": false
   }
  },
  {
   "cell_type": "code",
   "execution_count": 24,
   "outputs": [
    {
     "data": {
      "text/plain": "       Date Ticker TimeBarStart         OpenBarTime  OpenBidPrice  \\\n0  20200128   AAPL        04:00  04:00:00.000000000           NaN   \n1  20200128   AAPL        04:01  04:01:00.000000000        311.00   \n2  20200128   AAPL        04:02  04:02:00.000000000        310.03   \n3  20200128   AAPL        04:03  04:03:00.000000000        310.04   \n4  20200128   AAPL        04:04  04:04:00.000000000        310.41   \n\n   OpenBidSize  OpenAskPrice  OpenAskSize      FirstTradeTime  \\\n0          NaN           NaN          NaN  04:00:00.013359679   \n1        600.0        311.70        100.0  04:01:09.900182150   \n2        100.0        310.85        100.0  04:02:25.007722643   \n3        100.0        310.85        100.0  04:03:14.512720103   \n4        200.0        310.73        100.0  04:04:03.233987243   \n\n   FirstTradePrice  ...  FinraVolumeWeightPrice UptickVolume  DowntickVolume  \\\n0           312.60  ...                     NaN          130             716   \n1           311.01  ...                     NaN           30             661   \n2           310.33  ...                     NaN           52              11   \n3           310.33  ...                     NaN           50             150   \n4           310.50  ...                     NaN           10             120   \n\n   RepeatUptickVolume RepeatDowntickVolume  UnknownTickVolume  \\\n0                 470                  102                 25   \n1                   0                 1936                  0   \n2                 100                   90                  0   \n3                  20                    0                  0   \n4                   0                  110                  0   \n\n   TradeToMidVolWeight TradeToMidVolWeightRelative  TimeWeightBid  \\\n0             12.62543                     0.19897      311.06156   \n1             -8.92444                    -0.27127      310.34109   \n2             13.81423                     0.46047      310.03050   \n3             22.09091                     0.31558      310.22009   \n4            -13.61250                    -0.43648      310.22878   \n\n   TimeWeightAsk  \n0      311.62988  \n1      311.06929  \n2      310.67398  \n3      310.78909  \n4      310.73000  \n\n[5 rows x 61 columns]",
      "text/html": "<div>\n<style scoped>\n    .dataframe tbody tr th:only-of-type {\n        vertical-align: middle;\n    }\n\n    .dataframe tbody tr th {\n        vertical-align: top;\n    }\n\n    .dataframe thead th {\n        text-align: right;\n    }\n</style>\n<table border=\"1\" class=\"dataframe\">\n  <thead>\n    <tr style=\"text-align: right;\">\n      <th></th>\n      <th>Date</th>\n      <th>Ticker</th>\n      <th>TimeBarStart</th>\n      <th>OpenBarTime</th>\n      <th>OpenBidPrice</th>\n      <th>OpenBidSize</th>\n      <th>OpenAskPrice</th>\n      <th>OpenAskSize</th>\n      <th>FirstTradeTime</th>\n      <th>FirstTradePrice</th>\n      <th>...</th>\n      <th>FinraVolumeWeightPrice</th>\n      <th>UptickVolume</th>\n      <th>DowntickVolume</th>\n      <th>RepeatUptickVolume</th>\n      <th>RepeatDowntickVolume</th>\n      <th>UnknownTickVolume</th>\n      <th>TradeToMidVolWeight</th>\n      <th>TradeToMidVolWeightRelative</th>\n      <th>TimeWeightBid</th>\n      <th>TimeWeightAsk</th>\n    </tr>\n  </thead>\n  <tbody>\n    <tr>\n      <th>0</th>\n      <td>20200128</td>\n      <td>AAPL</td>\n      <td>04:00</td>\n      <td>04:00:00.000000000</td>\n      <td>NaN</td>\n      <td>NaN</td>\n      <td>NaN</td>\n      <td>NaN</td>\n      <td>04:00:00.013359679</td>\n      <td>312.60</td>\n      <td>...</td>\n      <td>NaN</td>\n      <td>130</td>\n      <td>716</td>\n      <td>470</td>\n      <td>102</td>\n      <td>25</td>\n      <td>12.62543</td>\n      <td>0.19897</td>\n      <td>311.06156</td>\n      <td>311.62988</td>\n    </tr>\n    <tr>\n      <th>1</th>\n      <td>20200128</td>\n      <td>AAPL</td>\n      <td>04:01</td>\n      <td>04:01:00.000000000</td>\n      <td>311.00</td>\n      <td>600.0</td>\n      <td>311.70</td>\n      <td>100.0</td>\n      <td>04:01:09.900182150</td>\n      <td>311.01</td>\n      <td>...</td>\n      <td>NaN</td>\n      <td>30</td>\n      <td>661</td>\n      <td>0</td>\n      <td>1936</td>\n      <td>0</td>\n      <td>-8.92444</td>\n      <td>-0.27127</td>\n      <td>310.34109</td>\n      <td>311.06929</td>\n    </tr>\n    <tr>\n      <th>2</th>\n      <td>20200128</td>\n      <td>AAPL</td>\n      <td>04:02</td>\n      <td>04:02:00.000000000</td>\n      <td>310.03</td>\n      <td>100.0</td>\n      <td>310.85</td>\n      <td>100.0</td>\n      <td>04:02:25.007722643</td>\n      <td>310.33</td>\n      <td>...</td>\n      <td>NaN</td>\n      <td>52</td>\n      <td>11</td>\n      <td>100</td>\n      <td>90</td>\n      <td>0</td>\n      <td>13.81423</td>\n      <td>0.46047</td>\n      <td>310.03050</td>\n      <td>310.67398</td>\n    </tr>\n    <tr>\n      <th>3</th>\n      <td>20200128</td>\n      <td>AAPL</td>\n      <td>04:03</td>\n      <td>04:03:00.000000000</td>\n      <td>310.04</td>\n      <td>100.0</td>\n      <td>310.85</td>\n      <td>100.0</td>\n      <td>04:03:14.512720103</td>\n      <td>310.33</td>\n      <td>...</td>\n      <td>NaN</td>\n      <td>50</td>\n      <td>150</td>\n      <td>20</td>\n      <td>0</td>\n      <td>0</td>\n      <td>22.09091</td>\n      <td>0.31558</td>\n      <td>310.22009</td>\n      <td>310.78909</td>\n    </tr>\n    <tr>\n      <th>4</th>\n      <td>20200128</td>\n      <td>AAPL</td>\n      <td>04:04</td>\n      <td>04:04:00.000000000</td>\n      <td>310.41</td>\n      <td>200.0</td>\n      <td>310.73</td>\n      <td>100.0</td>\n      <td>04:04:03.233987243</td>\n      <td>310.50</td>\n      <td>...</td>\n      <td>NaN</td>\n      <td>10</td>\n      <td>120</td>\n      <td>0</td>\n      <td>110</td>\n      <td>0</td>\n      <td>-13.61250</td>\n      <td>-0.43648</td>\n      <td>310.22878</td>\n      <td>310.73000</td>\n    </tr>\n  </tbody>\n</table>\n<p>5 rows × 61 columns</p>\n</div>"
     },
     "execution_count": 24,
     "metadata": {},
     "output_type": "execute_result"
    }
   ],
   "source": [
    "# import pandas as pd\n",
    "\n",
    "df = pd.read_csv('datasets/samples/equity_trade_and_quotes_1min.csv')\n",
    "df.head()"
   ],
   "metadata": {
    "collapsed": false
   }
  },
  {
   "cell_type": "code",
   "execution_count": 25,
   "outputs": [
    {
     "ename": "AttributeError",
     "evalue": "Must have 'SecId' and 'TradeDate'.",
     "output_type": "error",
     "traceback": [
      "\u001B[1;31m---------------------------------------------------------------------------\u001B[0m",
      "\u001B[1;31mAttributeError\u001B[0m                            Traceback (most recent call last)",
      "Input \u001B[1;32mIn [25]\u001B[0m, in \u001B[0;36m<cell line: 1>\u001B[1;34m()\u001B[0m\n\u001B[1;32m----> 1\u001B[0m \u001B[43mdf\u001B[49m\u001B[38;5;241;43m.\u001B[39;49m\u001B[43malgoseek\u001B[49m\u001B[38;5;241m.\u001B[39msecid()\n",
      "File \u001B[1;32mC:\\ProgramData\\Anaconda3\\lib\\site-packages\\pandas\\core\\generic.py:5575\u001B[0m, in \u001B[0;36mNDFrame.__getattr__\u001B[1;34m(self, name)\u001B[0m\n\u001B[0;32m   5568\u001B[0m \u001B[38;5;28;01mif\u001B[39;00m (\n\u001B[0;32m   5569\u001B[0m     name \u001B[38;5;129;01mnot\u001B[39;00m \u001B[38;5;129;01min\u001B[39;00m \u001B[38;5;28mself\u001B[39m\u001B[38;5;241m.\u001B[39m_internal_names_set\n\u001B[0;32m   5570\u001B[0m     \u001B[38;5;129;01mand\u001B[39;00m name \u001B[38;5;129;01mnot\u001B[39;00m \u001B[38;5;129;01min\u001B[39;00m \u001B[38;5;28mself\u001B[39m\u001B[38;5;241m.\u001B[39m_metadata\n\u001B[0;32m   5571\u001B[0m     \u001B[38;5;129;01mand\u001B[39;00m name \u001B[38;5;129;01mnot\u001B[39;00m \u001B[38;5;129;01min\u001B[39;00m \u001B[38;5;28mself\u001B[39m\u001B[38;5;241m.\u001B[39m_accessors\n\u001B[0;32m   5572\u001B[0m     \u001B[38;5;129;01mand\u001B[39;00m \u001B[38;5;28mself\u001B[39m\u001B[38;5;241m.\u001B[39m_info_axis\u001B[38;5;241m.\u001B[39m_can_hold_identifiers_and_holds_name(name)\n\u001B[0;32m   5573\u001B[0m ):\n\u001B[0;32m   5574\u001B[0m     \u001B[38;5;28;01mreturn\u001B[39;00m \u001B[38;5;28mself\u001B[39m[name]\n\u001B[1;32m-> 5575\u001B[0m \u001B[38;5;28;01mreturn\u001B[39;00m \u001B[38;5;28;43mobject\u001B[39;49m\u001B[38;5;241;43m.\u001B[39;49m\u001B[38;5;21;43m__getattribute__\u001B[39;49m\u001B[43m(\u001B[49m\u001B[38;5;28;43mself\u001B[39;49m\u001B[43m,\u001B[49m\u001B[43m \u001B[49m\u001B[43mname\u001B[49m\u001B[43m)\u001B[49m\n",
      "File \u001B[1;32mC:\\ProgramData\\Anaconda3\\lib\\site-packages\\pandas\\core\\accessor.py:182\u001B[0m, in \u001B[0;36mCachedAccessor.__get__\u001B[1;34m(self, obj, cls)\u001B[0m\n\u001B[0;32m    179\u001B[0m \u001B[38;5;28;01mif\u001B[39;00m obj \u001B[38;5;129;01mis\u001B[39;00m \u001B[38;5;28;01mNone\u001B[39;00m:\n\u001B[0;32m    180\u001B[0m     \u001B[38;5;66;03m# we're accessing the attribute of the class, i.e., Dataset.geo\u001B[39;00m\n\u001B[0;32m    181\u001B[0m     \u001B[38;5;28;01mreturn\u001B[39;00m \u001B[38;5;28mself\u001B[39m\u001B[38;5;241m.\u001B[39m_accessor\n\u001B[1;32m--> 182\u001B[0m accessor_obj \u001B[38;5;241m=\u001B[39m \u001B[38;5;28;43mself\u001B[39;49m\u001B[38;5;241;43m.\u001B[39;49m\u001B[43m_accessor\u001B[49m\u001B[43m(\u001B[49m\u001B[43mobj\u001B[49m\u001B[43m)\u001B[49m\n\u001B[0;32m    183\u001B[0m \u001B[38;5;66;03m# Replace the property with the accessor object. Inspired by:\u001B[39;00m\n\u001B[0;32m    184\u001B[0m \u001B[38;5;66;03m# https://www.pydanny.com/cached-property.html\u001B[39;00m\n\u001B[0;32m    185\u001B[0m \u001B[38;5;66;03m# We need to use object.__setattr__ because we overwrite __setattr__ on\u001B[39;00m\n\u001B[0;32m    186\u001B[0m \u001B[38;5;66;03m# NDFrame\u001B[39;00m\n\u001B[0;32m    187\u001B[0m \u001B[38;5;28mobject\u001B[39m\u001B[38;5;241m.\u001B[39m\u001B[38;5;21m__setattr__\u001B[39m(obj, \u001B[38;5;28mself\u001B[39m\u001B[38;5;241m.\u001B[39m_name, accessor_obj)\n",
      "Input \u001B[1;32mIn [23]\u001B[0m, in \u001B[0;36mAlgoSeekDataset.__init__\u001B[1;34m(self, pandas_obj)\u001B[0m\n\u001B[0;32m     54\u001B[0m \u001B[38;5;28;01mdef\u001B[39;00m \u001B[38;5;21m__init__\u001B[39m(\u001B[38;5;28mself\u001B[39m,pandas_obj):\n\u001B[1;32m---> 55\u001B[0m     \u001B[38;5;28;43mself\u001B[39;49m\u001B[38;5;241;43m.\u001B[39;49m\u001B[43m_validate\u001B[49m\u001B[43m(\u001B[49m\u001B[43mpandas_obj\u001B[49m\u001B[43m)\u001B[49m\n\u001B[0;32m     56\u001B[0m     \u001B[38;5;28mself\u001B[39m\u001B[38;5;241m.\u001B[39m_df \u001B[38;5;241m=\u001B[39m pandas_obj\n",
      "Input \u001B[1;32mIn [23]\u001B[0m, in \u001B[0;36mAlgoSeekDataset._validate\u001B[1;34m(obj)\u001B[0m\n\u001B[0;32m     58\u001B[0m \u001B[38;5;129m@staticmethod\u001B[39m\n\u001B[0;32m     59\u001B[0m \u001B[38;5;28;01mdef\u001B[39;00m \u001B[38;5;21m_validate\u001B[39m(obj):\n\u001B[0;32m     60\u001B[0m     \u001B[38;5;28;01mif\u001B[39;00m \u001B[38;5;124m\"\u001B[39m\u001B[38;5;124mSecId\u001B[39m\u001B[38;5;124m\"\u001B[39m \u001B[38;5;129;01mnot\u001B[39;00m \u001B[38;5;129;01min\u001B[39;00m obj\u001B[38;5;241m.\u001B[39mcolumns \u001B[38;5;129;01mor\u001B[39;00m \u001B[38;5;124m\"\u001B[39m\u001B[38;5;124mTradeDate\u001B[39m\u001B[38;5;124m\"\u001B[39m \u001B[38;5;129;01mnot\u001B[39;00m \u001B[38;5;129;01min\u001B[39;00m obj\u001B[38;5;241m.\u001B[39mcolumns:\n\u001B[1;32m---> 61\u001B[0m         \u001B[38;5;28;01mraise\u001B[39;00m \u001B[38;5;167;01mAttributeError\u001B[39;00m(\u001B[38;5;124m\"\u001B[39m\u001B[38;5;124mMust have \u001B[39m\u001B[38;5;124m'\u001B[39m\u001B[38;5;124mSecId\u001B[39m\u001B[38;5;124m'\u001B[39m\u001B[38;5;124m and \u001B[39m\u001B[38;5;124m'\u001B[39m\u001B[38;5;124mTradeDate\u001B[39m\u001B[38;5;124m'\u001B[39m\u001B[38;5;124m.\u001B[39m\u001B[38;5;124m\"\u001B[39m)\n",
      "\u001B[1;31mAttributeError\u001B[0m: Must have 'SecId' and 'TradeDate'."
     ]
    }
   ],
   "source": [
    "df.algoseek.secid()"
   ],
   "metadata": {
    "collapsed": false
   }
  },
  {
   "cell_type": "code",
   "execution_count": 12,
   "outputs": [
    {
     "data": {
      "text/plain": "['.env',\n '.env.example',\n '.git',\n '.gitignore',\n '.idea',\n '.ipynb_checkpoints',\n '1_AlgoSeek_Dataset_Download.ipynb',\n '2_Feature_Engineering.ipynb',\n '3.1_Linear_Regression_and_EDA.ipynb',\n '3.2_Gradient_Boosted_Trees.ipynb',\n '3.3_LSTM.ipynb',\n '3_Data_Ingestion.ipynb',\n 'AlphaFactors.ipynb',\n 'data',\n 'data.py',\n 'dataloadscript.py',\n 'Dataset_Preparation.ipynb',\n 'eda.py',\n 'Formula Images',\n 'ml',\n 'models',\n 'nasdaq_tickers.csv',\n 'README.md',\n 'Requirements.txt',\n 'taq_min_download_profile.txt',\n 'venv',\n '__pycache__']"
     },
     "execution_count": 12,
     "metadata": {},
     "output_type": "execute_result"
    }
   ],
   "source": [
    "os.listdir()"
   ],
   "metadata": {
    "collapsed": false
   }
  },
  {
   "cell_type": "code",
   "execution_count": 26,
   "outputs": [
    {
     "name": "stdout",
     "output_type": "stream",
     "text": [
      "Collecting vectorbt\n",
      "  Downloading vectorbt-0.24.2-py3-none-any.whl (526 kB)\n",
      "Requirement already satisfied: requests in c:\\programdata\\anaconda3\\lib\\site-packages (from vectorbt) (2.27.1)\n",
      "Requirement already satisfied: matplotlib in c:\\programdata\\anaconda3\\lib\\site-packages (from vectorbt) (3.6.0)\n",
      "Requirement already satisfied: tqdm in c:\\programdata\\anaconda3\\lib\\site-packages (from vectorbt) (4.64.0)\n",
      "Requirement already satisfied: plotly>=4.12.0 in c:\\programdata\\anaconda3\\lib\\site-packages (from vectorbt) (5.6.0)\n",
      "Requirement already satisfied: mypy-extensions in c:\\programdata\\anaconda3\\lib\\site-packages (from vectorbt) (0.4.3)\n",
      "Collecting dill\n",
      "  Downloading dill-0.3.6-py3-none-any.whl (110 kB)\n",
      "Requirement already satisfied: ipywidgets>=7.0.0 in c:\\programdata\\anaconda3\\lib\\site-packages (from vectorbt) (7.6.5)\n",
      "Requirement already satisfied: scikit-learn in c:\\programdata\\anaconda3\\lib\\site-packages (from vectorbt) (1.0.2)\n",
      "Collecting schedule\n",
      "  Downloading schedule-1.1.0-py2.py3-none-any.whl (10 kB)\n",
      "Collecting dateparser\n",
      "  Downloading dateparser-1.1.3-py2.py3-none-any.whl (292 kB)\n",
      "Requirement already satisfied: imageio in c:\\programdata\\anaconda3\\lib\\site-packages (from vectorbt) (2.9.0)\n",
      "Requirement already satisfied: scipy in c:\\programdata\\anaconda3\\lib\\site-packages (from vectorbt) (1.7.3)\n",
      "Requirement already satisfied: pandas in c:\\programdata\\anaconda3\\lib\\site-packages (from vectorbt) (1.4.2)\n",
      "Requirement already satisfied: pytz in c:\\programdata\\anaconda3\\lib\\site-packages (from vectorbt) (2021.3)\n",
      "Requirement already satisfied: numba>=0.53.1 in c:\\programdata\\anaconda3\\lib\\site-packages (from vectorbt) (0.55.1)\n",
      "Requirement already satisfied: numpy>=1.16.5 in c:\\programdata\\anaconda3\\lib\\site-packages (from vectorbt) (1.21.5)\n",
      "Requirement already satisfied: ipykernel>=4.5.1 in c:\\programdata\\anaconda3\\lib\\site-packages (from ipywidgets>=7.0.0->vectorbt) (6.9.1)\n",
      "Requirement already satisfied: nbformat>=4.2.0 in c:\\programdata\\anaconda3\\lib\\site-packages (from ipywidgets>=7.0.0->vectorbt) (5.3.0)\n",
      "Requirement already satisfied: jupyterlab-widgets>=1.0.0 in c:\\programdata\\anaconda3\\lib\\site-packages (from ipywidgets>=7.0.0->vectorbt) (1.0.0)\n",
      "Requirement already satisfied: traitlets>=4.3.1 in c:\\programdata\\anaconda3\\lib\\site-packages (from ipywidgets>=7.0.0->vectorbt) (5.1.1)\n",
      "Requirement already satisfied: ipython>=4.0.0 in c:\\programdata\\anaconda3\\lib\\site-packages (from ipywidgets>=7.0.0->vectorbt) (8.2.0)\n",
      "Requirement already satisfied: ipython-genutils~=0.2.0 in c:\\programdata\\anaconda3\\lib\\site-packages (from ipywidgets>=7.0.0->vectorbt) (0.2.0)\n",
      "Requirement already satisfied: widgetsnbextension~=3.5.0 in c:\\programdata\\anaconda3\\lib\\site-packages (from ipywidgets>=7.0.0->vectorbt) (3.5.2)\n",
      "Requirement already satisfied: jupyter-client<8.0 in c:\\programdata\\anaconda3\\lib\\site-packages (from ipykernel>=4.5.1->ipywidgets>=7.0.0->vectorbt) (6.1.12)\n",
      "Requirement already satisfied: debugpy<2.0,>=1.0.0 in c:\\programdata\\anaconda3\\lib\\site-packages (from ipykernel>=4.5.1->ipywidgets>=7.0.0->vectorbt) (1.5.1)\n",
      "Requirement already satisfied: matplotlib-inline<0.2.0,>=0.1.0 in c:\\programdata\\anaconda3\\lib\\site-packages (from ipykernel>=4.5.1->ipywidgets>=7.0.0->vectorbt) (0.1.2)\n",
      "Requirement already satisfied: nest-asyncio in c:\\programdata\\anaconda3\\lib\\site-packages (from ipykernel>=4.5.1->ipywidgets>=7.0.0->vectorbt) (1.5.5)\n",
      "Requirement already satisfied: tornado<7.0,>=4.2 in c:\\programdata\\anaconda3\\lib\\site-packages (from ipykernel>=4.5.1->ipywidgets>=7.0.0->vectorbt) (6.1)\n",
      "Requirement already satisfied: decorator in c:\\programdata\\anaconda3\\lib\\site-packages (from ipython>=4.0.0->ipywidgets>=7.0.0->vectorbt) (5.1.1)\n",
      "Requirement already satisfied: setuptools>=18.5 in c:\\programdata\\anaconda3\\lib\\site-packages (from ipython>=4.0.0->ipywidgets>=7.0.0->vectorbt) (61.2.0)\n",
      "Requirement already satisfied: backcall in c:\\programdata\\anaconda3\\lib\\site-packages (from ipython>=4.0.0->ipywidgets>=7.0.0->vectorbt) (0.2.0)\n",
      "Requirement already satisfied: colorama in c:\\programdata\\anaconda3\\lib\\site-packages (from ipython>=4.0.0->ipywidgets>=7.0.0->vectorbt) (0.4.4)\n",
      "Requirement already satisfied: pickleshare in c:\\programdata\\anaconda3\\lib\\site-packages (from ipython>=4.0.0->ipywidgets>=7.0.0->vectorbt) (0.7.5)\n",
      "Requirement already satisfied: prompt-toolkit!=3.0.0,!=3.0.1,<3.1.0,>=2.0.0 in c:\\programdata\\anaconda3\\lib\\site-packages (from ipython>=4.0.0->ipywidgets>=7.0.0->vectorbt) (3.0.20)\n",
      "Requirement already satisfied: stack-data in c:\\programdata\\anaconda3\\lib\\site-packages (from ipython>=4.0.0->ipywidgets>=7.0.0->vectorbt) (0.2.0)\n",
      "Requirement already satisfied: pygments>=2.4.0 in c:\\programdata\\anaconda3\\lib\\site-packages (from ipython>=4.0.0->ipywidgets>=7.0.0->vectorbt) (2.11.2)\n",
      "Requirement already satisfied: jedi>=0.16 in c:\\programdata\\anaconda3\\lib\\site-packages (from ipython>=4.0.0->ipywidgets>=7.0.0->vectorbt) (0.18.1)\n",
      "Requirement already satisfied: parso<0.9.0,>=0.8.0 in c:\\programdata\\anaconda3\\lib\\site-packages (from jedi>=0.16->ipython>=4.0.0->ipywidgets>=7.0.0->vectorbt) (0.8.3)\n",
      "Requirement already satisfied: python-dateutil>=2.1 in c:\\programdata\\anaconda3\\lib\\site-packages (from jupyter-client<8.0->ipykernel>=4.5.1->ipywidgets>=7.0.0->vectorbt) (2.8.2)\n",
      "Requirement already satisfied: pyzmq>=13 in c:\\programdata\\anaconda3\\lib\\site-packages (from jupyter-client<8.0->ipykernel>=4.5.1->ipywidgets>=7.0.0->vectorbt) (22.3.0)\n",
      "Requirement already satisfied: jupyter-core>=4.6.0 in c:\\programdata\\anaconda3\\lib\\site-packages (from jupyter-client<8.0->ipykernel>=4.5.1->ipywidgets>=7.0.0->vectorbt) (4.9.2)\n",
      "Requirement already satisfied: pywin32>=1.0 in c:\\programdata\\anaconda3\\lib\\site-packages (from jupyter-core>=4.6.0->jupyter-client<8.0->ipykernel>=4.5.1->ipywidgets>=7.0.0->vectorbt) (302)\n",
      "Requirement already satisfied: fastjsonschema in c:\\programdata\\anaconda3\\lib\\site-packages (from nbformat>=4.2.0->ipywidgets>=7.0.0->vectorbt) (2.15.1)\n",
      "Requirement already satisfied: jsonschema>=2.6 in c:\\programdata\\anaconda3\\lib\\site-packages (from nbformat>=4.2.0->ipywidgets>=7.0.0->vectorbt) (4.4.0)\n",
      "Requirement already satisfied: attrs>=17.4.0 in c:\\programdata\\anaconda3\\lib\\site-packages (from jsonschema>=2.6->nbformat>=4.2.0->ipywidgets>=7.0.0->vectorbt) (21.4.0)\n",
      "Requirement already satisfied: pyrsistent!=0.17.0,!=0.17.1,!=0.17.2,>=0.14.0 in c:\\programdata\\anaconda3\\lib\\site-packages (from jsonschema>=2.6->nbformat>=4.2.0->ipywidgets>=7.0.0->vectorbt) (0.18.0)\n",
      "Requirement already satisfied: llvmlite<0.39,>=0.38.0rc1 in c:\\programdata\\anaconda3\\lib\\site-packages (from numba>=0.53.1->vectorbt) (0.38.0)\n",
      "Requirement already satisfied: tenacity>=6.2.0 in c:\\programdata\\anaconda3\\lib\\site-packages (from plotly>=4.12.0->vectorbt) (8.0.1)\n",
      "Requirement already satisfied: six in c:\\programdata\\anaconda3\\lib\\site-packages (from plotly>=4.12.0->vectorbt) (1.16.0)\n",
      "Requirement already satisfied: wcwidth in c:\\programdata\\anaconda3\\lib\\site-packages (from prompt-toolkit!=3.0.0,!=3.0.1,<3.1.0,>=2.0.0->ipython>=4.0.0->ipywidgets>=7.0.0->vectorbt) (0.2.5)\n",
      "Requirement already satisfied: notebook>=4.4.1 in c:\\programdata\\anaconda3\\lib\\site-packages (from widgetsnbextension~=3.5.0->ipywidgets>=7.0.0->vectorbt) (6.4.8)\n",
      "Requirement already satisfied: Send2Trash>=1.8.0 in c:\\programdata\\anaconda3\\lib\\site-packages (from notebook>=4.4.1->widgetsnbextension~=3.5.0->ipywidgets>=7.0.0->vectorbt) (1.8.0)\n",
      "Requirement already satisfied: terminado>=0.8.3 in c:\\programdata\\anaconda3\\lib\\site-packages (from notebook>=4.4.1->widgetsnbextension~=3.5.0->ipywidgets>=7.0.0->vectorbt) (0.13.1)\n",
      "Requirement already satisfied: argon2-cffi in c:\\programdata\\anaconda3\\lib\\site-packages (from notebook>=4.4.1->widgetsnbextension~=3.5.0->ipywidgets>=7.0.0->vectorbt) (21.3.0)\n",
      "Requirement already satisfied: prometheus-client in c:\\programdata\\anaconda3\\lib\\site-packages (from notebook>=4.4.1->widgetsnbextension~=3.5.0->ipywidgets>=7.0.0->vectorbt) (0.13.1)\n",
      "Requirement already satisfied: nbconvert in c:\\programdata\\anaconda3\\lib\\site-packages (from notebook>=4.4.1->widgetsnbextension~=3.5.0->ipywidgets>=7.0.0->vectorbt) (6.4.4)\n",
      "Requirement already satisfied: jinja2 in c:\\programdata\\anaconda3\\lib\\site-packages (from notebook>=4.4.1->widgetsnbextension~=3.5.0->ipywidgets>=7.0.0->vectorbt) (2.11.3)\n",
      "Requirement already satisfied: pywinpty>=1.1.0 in c:\\programdata\\anaconda3\\lib\\site-packages (from terminado>=0.8.3->notebook>=4.4.1->widgetsnbextension~=3.5.0->ipywidgets>=7.0.0->vectorbt) (2.0.2)\n",
      "Requirement already satisfied: argon2-cffi-bindings in c:\\programdata\\anaconda3\\lib\\site-packages (from argon2-cffi->notebook>=4.4.1->widgetsnbextension~=3.5.0->ipywidgets>=7.0.0->vectorbt) (21.2.0)\n",
      "Requirement already satisfied: cffi>=1.0.1 in c:\\programdata\\anaconda3\\lib\\site-packages (from argon2-cffi-bindings->argon2-cffi->notebook>=4.4.1->widgetsnbextension~=3.5.0->ipywidgets>=7.0.0->vectorbt) (1.15.0)\n",
      "Requirement already satisfied: pycparser in c:\\programdata\\anaconda3\\lib\\site-packages (from cffi>=1.0.1->argon2-cffi-bindings->argon2-cffi->notebook>=4.4.1->widgetsnbextension~=3.5.0->ipywidgets>=7.0.0->vectorbt) (2.21)\n",
      "Requirement already satisfied: tzlocal in c:\\users\\julia\\appdata\\roaming\\python\\python39\\site-packages (from dateparser->vectorbt) (4.2)\n",
      "Collecting regex!=2019.02.19,!=2021.8.27,<2022.3.15\n",
      "  Downloading regex-2022.3.2-cp39-cp39-win_amd64.whl (274 kB)\n",
      "Requirement already satisfied: pillow in c:\\programdata\\anaconda3\\lib\\site-packages (from imageio->vectorbt) (9.0.1)\n",
      "Requirement already satisfied: MarkupSafe>=0.23 in c:\\programdata\\anaconda3\\lib\\site-packages (from jinja2->notebook>=4.4.1->widgetsnbextension~=3.5.0->ipywidgets>=7.0.0->vectorbt) (2.0.1)\n",
      "Requirement already satisfied: cycler>=0.10 in c:\\programdata\\anaconda3\\lib\\site-packages (from matplotlib->vectorbt) (0.11.0)\n",
      "Requirement already satisfied: kiwisolver>=1.0.1 in c:\\programdata\\anaconda3\\lib\\site-packages (from matplotlib->vectorbt) (1.3.2)\n",
      "Requirement already satisfied: fonttools>=4.22.0 in c:\\programdata\\anaconda3\\lib\\site-packages (from matplotlib->vectorbt) (4.25.0)\n",
      "Requirement already satisfied: pyparsing>=2.2.1 in c:\\programdata\\anaconda3\\lib\\site-packages (from matplotlib->vectorbt) (3.0.4)\n",
      "Requirement already satisfied: contourpy>=1.0.1 in c:\\programdata\\anaconda3\\lib\\site-packages (from matplotlib->vectorbt) (1.0.6)\n",
      "Requirement already satisfied: packaging>=20.0 in c:\\programdata\\anaconda3\\lib\\site-packages (from matplotlib->vectorbt) (21.3)\n",
      "Requirement already satisfied: bleach in c:\\programdata\\anaconda3\\lib\\site-packages (from nbconvert->notebook>=4.4.1->widgetsnbextension~=3.5.0->ipywidgets>=7.0.0->vectorbt) (4.1.0)\n",
      "Requirement already satisfied: beautifulsoup4 in c:\\programdata\\anaconda3\\lib\\site-packages (from nbconvert->notebook>=4.4.1->widgetsnbextension~=3.5.0->ipywidgets>=7.0.0->vectorbt) (4.11.1)\n",
      "Requirement already satisfied: defusedxml in c:\\programdata\\anaconda3\\lib\\site-packages (from nbconvert->notebook>=4.4.1->widgetsnbextension~=3.5.0->ipywidgets>=7.0.0->vectorbt) (0.7.1)\n",
      "Requirement already satisfied: jupyterlab-pygments in c:\\programdata\\anaconda3\\lib\\site-packages (from nbconvert->notebook>=4.4.1->widgetsnbextension~=3.5.0->ipywidgets>=7.0.0->vectorbt) (0.1.2)\n",
      "Requirement already satisfied: pandocfilters>=1.4.1 in c:\\programdata\\anaconda3\\lib\\site-packages (from nbconvert->notebook>=4.4.1->widgetsnbextension~=3.5.0->ipywidgets>=7.0.0->vectorbt) (1.5.0)\n",
      "Requirement already satisfied: entrypoints>=0.2.2 in c:\\programdata\\anaconda3\\lib\\site-packages (from nbconvert->notebook>=4.4.1->widgetsnbextension~=3.5.0->ipywidgets>=7.0.0->vectorbt) (0.4)\n",
      "Requirement already satisfied: testpath in c:\\programdata\\anaconda3\\lib\\site-packages (from nbconvert->notebook>=4.4.1->widgetsnbextension~=3.5.0->ipywidgets>=7.0.0->vectorbt) (0.5.0)\n",
      "Requirement already satisfied: mistune<2,>=0.8.1 in c:\\programdata\\anaconda3\\lib\\site-packages (from nbconvert->notebook>=4.4.1->widgetsnbextension~=3.5.0->ipywidgets>=7.0.0->vectorbt) (0.8.4)\n",
      "Requirement already satisfied: nbclient<0.6.0,>=0.5.0 in c:\\programdata\\anaconda3\\lib\\site-packages (from nbconvert->notebook>=4.4.1->widgetsnbextension~=3.5.0->ipywidgets>=7.0.0->vectorbt) (0.5.13)\n",
      "Requirement already satisfied: soupsieve>1.2 in c:\\programdata\\anaconda3\\lib\\site-packages (from beautifulsoup4->nbconvert->notebook>=4.4.1->widgetsnbextension~=3.5.0->ipywidgets>=7.0.0->vectorbt) (2.3.1)\n",
      "Requirement already satisfied: webencodings in c:\\programdata\\anaconda3\\lib\\site-packages (from bleach->nbconvert->notebook>=4.4.1->widgetsnbextension~=3.5.0->ipywidgets>=7.0.0->vectorbt) (0.5.1)\n",
      "Requirement already satisfied: charset-normalizer~=2.0.0 in c:\\programdata\\anaconda3\\lib\\site-packages (from requests->vectorbt) (2.0.4)\n",
      "Requirement already satisfied: idna<4,>=2.5 in c:\\programdata\\anaconda3\\lib\\site-packages (from requests->vectorbt) (3.3)\n",
      "Requirement already satisfied: certifi>=2017.4.17 in c:\\programdata\\anaconda3\\lib\\site-packages (from requests->vectorbt) (2021.10.8)\n",
      "Requirement already satisfied: urllib3<1.27,>=1.21.1 in c:\\programdata\\anaconda3\\lib\\site-packages (from requests->vectorbt) (1.26.9)\n",
      "Requirement already satisfied: joblib>=0.11 in c:\\programdata\\anaconda3\\lib\\site-packages (from scikit-learn->vectorbt) (1.1.0)\n",
      "Requirement already satisfied: threadpoolctl>=2.0.0 in c:\\programdata\\anaconda3\\lib\\site-packages (from scikit-learn->vectorbt) (2.2.0)\n",
      "Requirement already satisfied: pure-eval in c:\\programdata\\anaconda3\\lib\\site-packages (from stack-data->ipython>=4.0.0->ipywidgets>=7.0.0->vectorbt) (0.2.2)\n",
      "Requirement already satisfied: executing in c:\\programdata\\anaconda3\\lib\\site-packages (from stack-data->ipython>=4.0.0->ipywidgets>=7.0.0->vectorbt) (0.8.3)\n",
      "Requirement already satisfied: asttokens in c:\\programdata\\anaconda3\\lib\\site-packages (from stack-data->ipython>=4.0.0->ipywidgets>=7.0.0->vectorbt) (2.0.5)\n",
      "Requirement already satisfied: tzdata in c:\\users\\julia\\appdata\\roaming\\python\\python39\\site-packages (from tzlocal->dateparser->vectorbt) (2022.2)\n",
      "Requirement already satisfied: pytz-deprecation-shim in c:\\users\\julia\\appdata\\roaming\\python\\python39\\site-packages (from tzlocal->dateparser->vectorbt) (0.1.0.post0)\n",
      "Installing collected packages: regex, schedule, dill, dateparser, vectorbt\n",
      "  Attempting uninstall: regex\n",
      "    Found existing installation: regex 2022.3.15\n",
      "    Uninstalling regex-2022.3.15:\n",
      "      Successfully uninstalled regex-2022.3.15\n",
      "Successfully installed dateparser-1.1.3 dill-0.3.6 regex-2022.3.2 schedule-1.1.0 vectorbt-0.24.2\n",
      "Note: you may need to restart the kernel to use updated packages.\n"
     ]
    }
   ],
   "source": [
    "%pip install vectorbt\n"
   ],
   "metadata": {
    "collapsed": false
   }
  },
  {
   "cell_type": "code",
   "execution_count": null,
   "outputs": [],
   "source": [],
   "metadata": {
    "collapsed": false
   }
  }
 ],
 "metadata": {
  "kernelspec": {
   "display_name": "Python 3",
   "language": "python",
   "name": "python3"
  },
  "language_info": {
   "codemirror_mode": {
    "name": "ipython",
    "version": 2
   },
   "file_extension": ".py",
   "mimetype": "text/x-python",
   "name": "python",
   "nbconvert_exporter": "python",
   "pygments_lexer": "ipython2",
   "version": "2.7.6"
  }
 },
 "nbformat": 4,
 "nbformat_minor": 0
}
