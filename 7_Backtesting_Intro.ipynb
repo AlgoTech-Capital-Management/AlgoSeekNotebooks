{
 "cells": [
  {
   "cell_type": "markdown",
   "metadata": {},
   "source": []
  },
  {
   "cell_type": "code",
   "execution_count": 2,
   "metadata": {},
   "outputs": [],
   "source": [
    "import backtrader as bt\n",
    "import pandas as pd\n",
    "import numpy as np\n",
    "import datetime\n",
    "\n",
    "# for loading algoseek data\n",
    "import algoseek_connector\n",
    "import algoseek_connector.functions as fn\n",
    "\n",
    "# for algoseek user credentials\n",
    "from dotenv import load_dotenv\n",
    "import os\n",
    "\n",
    "# to manage paths\n",
    "import os.path\n",
    "import sys"
   ]
  },
  {
   "cell_type": "markdown",
   "metadata": {},
   "source": [
    "### Load Algoseek Data"
   ]
  },
  {
   "cell_type": "markdown",
   "metadata": {},
   "source": [
    "#### Data Fetch"
   ]
  },
  {
   "cell_type": "code",
   "execution_count": 2,
   "metadata": {},
   "outputs": [],
   "source": [
    "# load_dotenv() # load environment variables\n",
    "\n",
    "# jhost = os.getenv('host_julian')\n",
    "# juser = os.getenv('user_julian')\n",
    "# jpassword = os.getenv('password_julian')\n",
    "\n",
    "# ahost = os.getenv('host_angel')\n",
    "# auser = os.getenv('user_angel')\n",
    "# apassword = os.getenv('password_angel')"
   ]
  },
  {
   "cell_type": "code",
   "execution_count": 16,
   "metadata": {},
   "outputs": [],
   "source": [
    "# # Instantiate the session\n",
    "# session = algoseek_connector.Session(ahost, auser, apassword)\n",
    "# session.ping()\n",
    "\n",
    "# resource = algoseek_connector.DataResource(session)\n",
    "\n",
    "# taq_min = resource.datagroups.USEquityMarketData.datasets.TradeAndQuoteMinuteBar\n",
    "\n",
    "# volatile_tech_tickers = ['AMD']\n",
    "# # volatile_tech_tickers = ['AMD', 'SQ', 'TSLA']\n",
    "\n",
    "\n",
    "# taq1min = taq_min.filter(\n",
    "#        (taq_min.Ticker.isin(volatile_tech_tickers)) &\n",
    "#        # ('2022-07-11' >= taq_min.TradeDate <= '2022-07-12')\n",
    "#        ('2022-07-11' == taq_min.TradeDate)\n",
    "# ).fetch()"
   ]
  },
  {
   "cell_type": "code",
   "execution_count": 5,
   "metadata": {},
   "outputs": [],
   "source": [
    "# save backup file\n",
    "\n",
    "# os.chdir('C:/Users/angel/Documents/Documents/GitHub/AlgoSeek-Notebooks/AlgoSeekNotebooks')\n",
    "# taq1min.to_csv('AlgoSeekNotebooks/datasets/taq_1min_volatile_tech_backup.csv')"
   ]
  },
  {
   "cell_type": "markdown",
   "metadata": {},
   "source": [
    "#### Or Fetch Locally Stored Data"
   ]
  },
  {
   "cell_type": "code",
   "execution_count": 3,
   "metadata": {},
   "outputs": [],
   "source": [
    "idx = pd.IndexSlice"
   ]
  },
  {
   "cell_type": "code",
   "execution_count": 5,
   "metadata": {},
   "outputs": [],
   "source": [
    "taq_aapl = pd.read_parquet('data/us_equity/taq_min/AAPL.parquet')\n",
    "taq_aapl['BarDateTime'] = pd.to_datetime(taq_aapl['BarDateTime'], format='%Y-%m-%d %H::%M:%S')"
   ]
  },
  {
   "cell_type": "code",
   "execution_count": 6,
   "metadata": {},
   "outputs": [],
   "source": [
    "taq_aapl.set_index(['BarDateTime'], inplace=True)"
   ]
  },
  {
   "cell_type": "code",
   "execution_count": 50,
   "metadata": {},
   "outputs": [],
   "source": [
    "# taq_aapl2 = taq_aapl['2022-01-01 4:00:00-05:00': '2022-01-14 19:59:00-05:00']"
   ]
  },
  {
   "cell_type": "code",
   "execution_count": 52,
   "metadata": {},
   "outputs": [],
   "source": [
    "# taq_aapl3 = taq_aapl['2022-01-01 4:00:00-05:00': '2022-01-14 19:59:00-05:00']"
   ]
  },
  {
   "cell_type": "code",
   "execution_count": 55,
   "metadata": {},
   "outputs": [],
   "source": [
    "# taq_aapl4 = taq_aapl[taq_aapl['TradeDate'][:'2022-01-01']]"
   ]
  },
  {
   "cell_type": "code",
   "execution_count": 7,
   "metadata": {},
   "outputs": [],
   "source": [
    "taq_aapl = taq_aapl.iloc[0:1500]"
   ]
  },
  {
   "cell_type": "code",
   "execution_count": 8,
   "metadata": {},
   "outputs": [],
   "source": [
    "taq_amzn = pd.read_parquet('data/us_equity/taq_min/AMZN.parquet')\n",
    "taq_amzn['BarDateTime'] = pd.to_datetime(taq_amzn['BarDateTime'], format='%Y-%m-%d %H::%M:%S')"
   ]
  },
  {
   "cell_type": "code",
   "execution_count": 9,
   "metadata": {},
   "outputs": [],
   "source": [
    "taq_amzn.set_index(['BarDateTime'], inplace=True)"
   ]
  },
  {
   "cell_type": "code",
   "execution_count": 10,
   "metadata": {},
   "outputs": [],
   "source": [
    "taq_amzn = taq_amzn.iloc[0:1500]"
   ]
  },
  {
   "cell_type": "code",
   "execution_count": 9,
   "metadata": {},
   "outputs": [],
   "source": [
    "taq_aapl.to_csv('AAPL_sample.csv')\n",
    "taq_amzn.to_csv('AMZN_sample.csv')"
   ]
  },
  {
   "cell_type": "markdown",
   "metadata": {},
   "source": [
    "#### Data Preprocessing"
   ]
  },
  {
   "cell_type": "code",
   "execution_count": 6,
   "metadata": {},
   "outputs": [],
   "source": [
    "# # create backup variable for data prep\n",
    "# taq1min = taq\n",
    "\n",
    "# taq1min.TradeDate = pd.to_datetime(taq.TradeDate, format=\"%Y-%m-%d\")\n",
    "# taq1min.set_index(['BarDateTime', 'Ticker'], inplace=True)\n",
    "\n",
    "# taq1min.sort_index().groupby('BarDateTime', group_keys=False)\n",
    "\n",
    "# taq1min['date'] = pd.to_datetime(taq1min.index.get_level_values('BarDateTime').date)"
   ]
  },
  {
   "cell_type": "code",
   "execution_count": null,
   "metadata": {},
   "outputs": [],
   "source": [
    "# taq.to_csv('AlgoSeekNotebooks/datasets/taq_1min_volatile_tech.csv')"
   ]
  },
  {
   "cell_type": "markdown",
   "metadata": {},
   "source": [
    "### Load Data Into Backtrader"
   ]
  },
  {
   "cell_type": "code",
   "execution_count": null,
   "metadata": {},
   "outputs": [],
   "source": [
    "class PandasData(bt.feed.DataBase):\n",
    "    linesoverride = True  # discard usual OHLC structure\n",
    "    # datetime must be present and last\n",
    "    lines = ('Signal',)\n",
    "    params = (\n",
    "        ('dtformat', '%Y-%m-%d'),\n",
    "        ('Date', 0),\n",
    "        ('time', None),\n",
    "        ('open', 1),\n",
    "        ('high', 2),\n",
    "        ('low', 3),\n",
    "        ('close', 4),\n",
    "        ('volume', 5),\n",
    "        ('Signal', 6),\n",
    "        ('timeframe', bt.TimeFrame.Days),\n",
    "        ('compression', 1),\n",
    "        ('openinterest', None)\n",
    "    )"
   ]
  },
  {
   "cell_type": "code",
   "execution_count": null,
   "metadata": {},
   "outputs": [],
   "source": [
    "from backtrader.feed import DataBase\n",
    "\n",
    "class MyFeed(DataBase):\n",
    "    def __init__(self):\n",
    "        super(MyFeed, self).__init__()\n",
    "        self.list = df # dataframe with date-time OHLC structure\n",
    "        self.n = 0\n",
    "\n",
    "        self.fromdate = self.list['datetime'][0] # 1st available date within data set\n",
    "        self.todate = self.list['datetime'][len(self.list) - 1] # last available date within data set\n",
    "        self.timeframe = bt.TimeFrame.Minutes\n",
    "        print(\"from=%s,to=%s\" % (self.fromdate, self.todate))\n",
    "\n",
    "        self.m = {}\n",
    "        # print(self.list)\n",
    "\n",
    "    def start(self):\n",
    "        # Nothing to do for this data feed type\n",
    "        pass\n",
    "\n",
    "    def stop(self):\n",
    "        # Nothing to do for this data feed type\n",
    "        pass\n",
    "\n",
    "    def _load(self):\n",
    "        if self.n >= len(self.list):\n",
    "            return False\n",
    "\n",
    "        r = self.list.iloc[self.n]\n",
    "        self.lines.datetime[0] = date2num(r['datetime'])\n",
    "\n",
    "        self.lines.open[0] = r['open']\n",
    "        self.lines.high[0] = r['high']\n",
    "        self.lines.low[0] = r['low']\n",
    "        self.lines.close[0] = r['close']\n",
    "        self.lines.volume[0] = r['volume']\n",
    "        self.m[r['datetime']] = r\n",
    "\n",
    "        self.n = self.n + 1\n",
    "        return True"
   ]
  },
  {
   "cell_type": "code",
   "execution_count": 16,
   "metadata": {},
   "outputs": [],
   "source": [
    "from backtrader.feed import CSVDataBase\n",
    "\n",
    "class GenericCSVData(CSVDataBase):\n",
    "    params = (\n",
    "        ('nullvalue', float('NaN')),\n",
    "        ('dtformat', '%Y-%m-%d %H::%M:%S'), # %f%z - may need to add for UTC\n",
    "        # ('tmformat', '%H:%M:%S'),\n",
    "\n",
    "        ('datetime', None), # index contains datetime\n",
    "        # ('time', -1), # ???\n",
    "        ('open', 9),\n",
    "        ('high', 18),\n",
    "        ('low', 27),\n",
    "        ('close', 35),\n",
    "        ('volume', 48)#,\n",
    "        # ('openinterest', 6)\n",
    "    )"
   ]
  },
  {
   "cell_type": "markdown",
   "metadata": {},
   "source": [
    "### Strategy Logic\n",
    "\n",
    "#### Bollinger Band Mean Reversion\n",
    "\n",
    "- Buy when standard deviation <= -2\n",
    "- Sell when standard deviation >= 2\n",
    "- Liquidate when standard deviation <= 0.5 or 0"
   ]
  },
  {
   "cell_type": "code",
   "execution_count": null,
   "metadata": {},
   "outputs": [],
   "source": [
    "class MyStrategy(bt.Strategy):\n",
    "    lines = ('signal',)\n",
    "    params = (('p1', 5), ('p2', 30),)\n",
    "\n",
    "    def __init__(self):\n",
    "        sma1 = bt.indicators.SMA(period=self.p.p1)\n",
    "        sma2 = bt.indicators.SMA(period=self.p.p2)\n",
    "        self.lines.signal = sma1 - sma2\n",
    "\n",
    "    def log(self, txt, dt=None):\n",
    "        ''' Logging function for this strategy'''\n",
    "        dt = dt or self.datas[0].datetime.date(0)\n",
    "        print('%s, %s' % (dt.isoformat(), txt))\n",
    "\n",
    "    def __init__(self):\n",
    "        # Keep a reference to the \"close\" line in the data[0] dataseries\n",
    "        self.dataclose = self.datas[0].close\n",
    "\n",
    "    def next(self):\n",
    "        # Simply log the closing price of the series from the reference\n",
    "        self.log('Close, %.2f' % self.dataclose[0])\n",
    "\n",
    "\n",
    "'''\n",
    "def next(self):\n",
    "    for i, d in enumerate(self.datas):\n",
    "        if not self.getposition(d).size:\n",
    "            if self.crossovers[i] > 0: \n",
    "                self.buy(data = d)\n",
    "        elif self.crossovers[i] < 0: \n",
    "            self.close(data = d)\n",
    "'''"
   ]
  },
  {
   "cell_type": "code",
   "execution_count": null,
   "metadata": {},
   "outputs": [],
   "source": [
    "'''\n",
    "\n",
    "Strategy Pseudocode\n",
    "\n",
    "\n",
    "\n",
    "'''"
   ]
  },
  {
   "cell_type": "markdown",
   "metadata": {},
   "source": [
    "### Run Cerebro Engine"
   ]
  },
  {
   "cell_type": "code",
   "execution_count": 1,
   "metadata": {},
   "outputs": [
    {
     "ename": "NameError",
     "evalue": "name 'bt' is not defined",
     "output_type": "error",
     "traceback": [
      "\u001b[1;31m---------------------------------------------------------------------------\u001b[0m",
      "\u001b[1;31mNameError\u001b[0m                                 Traceback (most recent call last)",
      "\u001b[1;32m~\\AppData\\Local\\Temp/ipykernel_30228/969811198.py\u001b[0m in \u001b[0;36m<module>\u001b[1;34m\u001b[0m\n\u001b[0;32m      1\u001b[0m \u001b[1;32mif\u001b[0m \u001b[0m__name__\u001b[0m \u001b[1;33m==\u001b[0m \u001b[1;34m'__main__'\u001b[0m\u001b[1;33m:\u001b[0m\u001b[1;33m\u001b[0m\u001b[1;33m\u001b[0m\u001b[0m\n\u001b[0;32m      2\u001b[0m \u001b[1;33m\u001b[0m\u001b[0m\n\u001b[1;32m----> 3\u001b[1;33m     \u001b[0mcerebro\u001b[0m \u001b[1;33m=\u001b[0m \u001b[0mbt\u001b[0m\u001b[1;33m.\u001b[0m\u001b[0mCerebro\u001b[0m\u001b[1;33m(\u001b[0m\u001b[1;33m)\u001b[0m\u001b[1;33m\u001b[0m\u001b[1;33m\u001b[0m\u001b[0m\n\u001b[0m\u001b[0;32m      4\u001b[0m \u001b[1;33m\u001b[0m\u001b[0m\n\u001b[0;32m      5\u001b[0m     \u001b[1;31m# strats = cerebro.optstrategy(MeanReversion)\u001b[0m\u001b[1;33m\u001b[0m\u001b[1;33m\u001b[0m\u001b[0m\n",
      "\u001b[1;31mNameError\u001b[0m: name 'bt' is not defined"
     ]
    }
   ],
   "source": [
    "if __name__ == '__main__':\n",
    "\n",
    "    cerebro = bt.Cerebro()\n",
    "\n",
    "    # strats = cerebro.optstrategy(MeanReversion)\n",
    "\n",
    "    # data = bt.feeds.YahooFinanceCSVData(\n",
    "    #     dataname=datapath,\n",
    "    #     # Do not pass values before this date\n",
    "    #     fromdate=datetime.datetime(2000, 1, 1),\n",
    "    #     # Do not pass values before this date\n",
    "    #     todate=datetime.datetime(2000, 12, 31),\n",
    "    #     # Do not pass values after this date\n",
    "    #     reverse=False)\n",
    "\n",
    "    datalist = [\n",
    "        ('FAANG_data/us_equity/taq_min/AAPL_sample.csv', 'AAPL'),\n",
    "        ('FAANG_data/us_equity/taq_min/AMZN_sample.csv', 'AMZN')\n",
    "    ]\n",
    "\n",
    "    for i in range(len(datalist)):\n",
    "        data = GenericCSVData(dataname=datalist[i][0])\n",
    "        cerebro.adddata(data, name=datalist[i][1])\n",
    "\n",
    "    # modpath = os.path.dirname(os.path.abspath(sys.argv[0]))\n",
    "    # datapath = os.path.join(modpath, 'AlgoSeekNotebooks/datasets/taq_1min_volatile_tech.csv')\n",
    "\n",
    "    # # Create a Data Feed\n",
    "    # data = bt.feeds.CSVDataBase(\n",
    "    #     dataname=datapath,\n",
    "    #     reverse=False)\n",
    "\n",
    "    # Add the Data Feed to Cerebro\n",
    "    # cerebro.adddata(data)\n",
    "\n",
    "    # Set our desired cash start\n",
    "    startcash = 100000.0\n",
    "    cerebro.broker.setcash(startcash)\n",
    "\n",
    "    # Add a FixedSize sizer according to the stake\n",
    "    # cerebro.addsizer(bt.sizers.FixedSize, stake=10)\n",
    "\n",
    "    # Set the commission\n",
    "    cerebro.broker.setcommission(commission=0.0)\n",
    "\n",
    "    # Run strategy\n",
    "    # cerebro.run(maxcpus=1)\n",
    "\n",
    "    print('Starting Portfolio Value: %.2f' % cerebro.broker.getvalue())\n",
    "\n",
    "    cerebro.run()\n",
    "\n",
    "    print('Final Portfolio Value: %.2f' % cerebro.broker.getvalue())\n",
    "\n",
    "    portvalue = cerebro.broker.getvalue()\n",
    "    pnl = portvalue - startcash\n",
    "\n",
    "    #Print out the final result\n",
    "    print('Final Portfolio Value: ${}'.format(portvalue))\n",
    "    print('P/L: ${}'.format(pnl))\n",
    "\n",
    "    #Finally plot the end results\n",
    "    cerebro.plot(style='candlestick')"
   ]
  },
  {
   "cell_type": "markdown",
   "metadata": {},
   "source": [
    "### Benchmark Strategy\n",
    "\n",
    "- Buy and hold each company with equal weighted portfolio allocation"
   ]
  },
  {
   "cell_type": "code",
   "execution_count": null,
   "metadata": {},
   "outputs": [],
   "source": []
  }
 ],
 "metadata": {
  "kernelspec": {
   "display_name": "Python 3.9.13 64-bit (microsoft store)",
   "language": "python",
   "name": "python3"
  },
  "language_info": {
   "codemirror_mode": {
    "name": "ipython",
    "version": 3
   },
   "file_extension": ".py",
   "mimetype": "text/x-python",
   "name": "python",
   "nbconvert_exporter": "python",
   "pygments_lexer": "ipython3",
   "version": "3.9.13 (tags/v3.9.13:6de2ca5, May 17 2022, 16:36:42) [MSC v.1929 64 bit (AMD64)]"
  },
  "orig_nbformat": 4,
  "vscode": {
   "interpreter": {
    "hash": "8f2b8f7d7da3b55c8640ff0ad5b752ba61ffdffe564a4378c820bcd9964834b8"
   }
  }
 },
 "nbformat": 4,
 "nbformat_minor": 2
}
