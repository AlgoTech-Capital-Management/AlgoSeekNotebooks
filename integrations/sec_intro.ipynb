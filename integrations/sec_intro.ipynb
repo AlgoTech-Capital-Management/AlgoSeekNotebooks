{
 "cells": [
  {
   "cell_type": "markdown",
   "source": [
    "# Introduction to Using SEC Edgar Data with AlgoSeek Datasets"
   ],
   "metadata": {
    "collapsed": false,
    "pycharm": {
     "name": "#%% md\n"
    }
   }
  },
  {
   "cell_type": "code",
   "execution_count": null,
   "outputs": [],
   "source": [],
   "metadata": {
    "collapsed": false,
    "pycharm": {
     "name": "#%%\n"
    }
   }
  },
  {
   "cell_type": "markdown",
   "source": [
    "## 1) Introduction"
   ],
   "metadata": {
    "collapsed": false,
    "pycharm": {
     "name": "#%% md\n"
    }
   }
  },
  {
   "cell_type": "markdown",
   "source": [
    "This notebook demonstrates how to fetch sec edgar filing data and use it with AlgoSeek's Equity Data"
   ],
   "metadata": {
    "collapsed": false,
    "pycharm": {
     "name": "#%% md\n"
    }
   }
  },
  {
   "cell_type": "code",
   "execution_count": 1,
   "outputs": [],
   "source": [
    "# import libraries\n",
    "import os\n",
    "import requests\n",
    "import pandas as pd\n",
    "import numpy as np\n",
    "import seaborn as sns\n",
    "import json\n"
   ],
   "metadata": {
    "collapsed": false,
    "pycharm": {
     "name": "#%%\n"
    }
   }
  },
  {
   "cell_type": "markdown",
   "source": [
    "In order to use the SEC Edgar API, you must use a valid email address. This is simply an anti-bot measure"
   ],
   "metadata": {
    "collapsed": false,
    "pycharm": {
     "name": "#%% md\n"
    }
   }
  },
  {
   "cell_type": "code",
   "execution_count": 2,
   "outputs": [],
   "source": [
    "# headers = {'User-Agent': \"your@email.com\"}\n",
    "headers = {'User-Agent': \"julian@julianwiley.com\"}\n"
   ],
   "metadata": {
    "collapsed": false,
    "pycharm": {
     "name": "#%%\n"
    }
   }
  },
  {
   "cell_type": "markdown",
   "source": [
    "Fetch SEC Edgar index of tickers and CIK numbers for reference"
   ],
   "metadata": {
    "collapsed": false,
    "pycharm": {
     "name": "#%% md\n"
    }
   }
  },
  {
   "cell_type": "code",
   "execution_count": 3,
   "outputs": [],
   "source": [
    "tickers_cik = requests.get(\"https://www.sec.gov/files/company_tickers.json\", headers=headers)"
   ],
   "metadata": {
    "collapsed": false,
    "pycharm": {
     "name": "#%%\n"
    }
   }
  },
  {
   "cell_type": "code",
   "execution_count": 4,
   "outputs": [
    {
     "data": {
      "text/plain": "{'0': {'cik_str': 320193, 'ticker': 'AAPL', 'title': 'Apple Inc.'},\n '1': {'cik_str': 789019, 'ticker': 'MSFT', 'title': 'MICROSOFT CORP'},\n '2': {'cik_str': 1652044, 'ticker': 'GOOGL', 'title': 'Alphabet Inc.'},\n '3': {'cik_str': 1318605, 'ticker': 'TSLA', 'title': 'Tesla, Inc.'},\n '4': {'cik_str': 1067983,\n  'ticker': 'BRK-B',\n  'title': 'BERKSHIRE HATHAWAY INC'},\n '5': {'cik_str': 731766, 'ticker': 'UNH', 'title': 'UNITEDHEALTH GROUP INC'},\n '6': {'cik_str': 200406, 'ticker': 'JNJ', 'title': 'JOHNSON & JOHNSON'},\n '7': {'cik_str': 1046179,\n  'ticker': 'TSM',\n  'title': 'TAIWAN SEMICONDUCTOR MANUFACTURING CO LTD'},\n '8': {'cik_str': 34088, 'ticker': 'XOM', 'title': 'EXXON MOBIL CORP'},\n '9': {'cik_str': 1045810, 'ticker': 'NVDA', 'title': 'NVIDIA CORP'},\n '10': {'cik_str': 80424, 'ticker': 'PG', 'title': 'PROCTER & GAMBLE Co'},\n '11': {'cik_str': 884394, 'ticker': 'SPY', 'title': 'SPDR S&P 500 ETF TRUST'},\n '12': {'cik_str': 19617, 'ticker': 'JPM', 'title': 'JPMORGAN CHASE & CO'},\n '13': {'cik_str': 104169, 'ticker': 'WMT', 'title': 'Walmart Inc.'},\n '14': {'cik_str': 1577552,\n  'ticker': 'BABA',\n  'title': 'Alibaba Group Holding Ltd'},\n '15': {'cik_str': 1141391, 'ticker': 'MA', 'title': 'Mastercard Inc'},\n '16': {'cik_str': 59478, 'ticker': 'LLY', 'title': 'ELI LILLY & Co'},\n '17': {'cik_str': 824046,\n  'ticker': 'LVMUY',\n  'title': 'LVMH MOET HENNESSY LOUIS VUITTON'},\n '18': {'cik_str': 78003, 'ticker': 'PFE', 'title': 'PFIZER INC'},\n '19': {'cik_str': 354950, 'ticker': 'HD', 'title': 'HOME DEPOT, INC.'},\n '20': {'cik_str': 93410, 'ticker': 'CVX', 'title': 'CHEVRON CORP'},\n '21': {'cik_str': 21344, 'ticker': 'KO', 'title': 'COCA COLA CO'},\n '22': {'cik_str': 1551152, 'ticker': 'ABBV', 'title': 'AbbVie Inc.'},\n '23': {'cik_str': 70858,\n  'ticker': 'BAC',\n  'title': 'BANK OF AMERICA CORP /DE/'},\n '24': {'cik_str': 353278, 'ticker': 'NVO', 'title': 'NOVO NORDISK A S'},\n '25': {'cik_str': 77476, 'ticker': 'PEP', 'title': 'PEPSICO INC'},\n '26': {'cik_str': 310158, 'ticker': 'MRK', 'title': 'Merck & Co., Inc.'},\n '27': {'cik_str': 732712,\n  'ticker': 'VZ',\n  'title': 'VERIZON COMMUNICATIONS INC'},\n '28': {'cik_str': 97745,\n  'ticker': 'TMO',\n  'title': 'THERMO FISHER SCIENTIFIC INC.'},\n '29': {'cik_str': 1094517, 'ticker': 'TM', 'title': 'TOYOTA MOTOR CORP/'},\n '30': {'cik_str': 909832,\n  'ticker': 'COST',\n  'title': 'COSTCO WHOLESALE CORP /NEW'},\n '31': {'cik_str': 901832, 'ticker': 'AZN', 'title': 'ASTRAZENECA PLC'},\n '32': {'cik_str': 1730168, 'ticker': 'AVGO', 'title': 'Broadcom Inc.'},\n '33': {'cik_str': 1800, 'ticker': 'ABT', 'title': 'ABBOTT LABORATORIES'},\n '34': {'cik_str': 1341439, 'ticker': 'ORCL', 'title': 'ORACLE CORP'},\n '35': {'cik_str': 1114448, 'ticker': 'NVS', 'title': 'NOVARTIS AG'},\n '36': {'cik_str': 63908, 'ticker': 'MCD', 'title': 'MCDONALDS CORP'},\n '37': {'cik_str': 313616, 'ticker': 'DHR', 'title': 'DANAHER CORP /DE/'},\n '38': {'cik_str': 1166691, 'ticker': 'CMCSA', 'title': 'COMCAST CORP'},\n '39': {'cik_str': 937966, 'ticker': 'ASML', 'title': 'ASML HOLDING NV'},\n '40': {'cik_str': 858877, 'ticker': 'CSCO', 'title': 'CISCO SYSTEMS, INC.'},\n '41': {'cik_str': 1467373, 'ticker': 'ACN', 'title': 'Accenture plc'},\n '42': {'cik_str': 796343, 'ticker': 'ADBE', 'title': 'ADOBE INC.'},\n '43': {'cik_str': 1744489, 'ticker': 'DIS', 'title': 'Walt Disney Co'},\n '44': {'cik_str': 1283699, 'ticker': 'TMUS', 'title': 'T-Mobile US, Inc.'},\n '45': {'cik_str': 14272, 'ticker': 'BMY', 'title': 'BRISTOL MYERS SQUIBB CO'},\n '46': {'cik_str': 1108524, 'ticker': 'CRM', 'title': 'Salesforce, Inc.'},\n '47': {'cik_str': 1090727,\n  'ticker': 'UPS',\n  'title': 'UNITED PARCEL SERVICE INC'},\n '48': {'cik_str': 320187, 'ticker': 'NKE', 'title': 'NIKE, Inc.'},\n '49': {'cik_str': 72971,\n  'ticker': 'WFC',\n  'title': 'WELLS FARGO & COMPANY/MN'},\n '50': {'cik_str': 753308, 'ticker': 'NEE', 'title': 'NEXTERA ENERGY INC'},\n '51': {'cik_str': 1413329,\n  'ticker': 'PM',\n  'title': 'Philip Morris International Inc.'},\n '52': {'cik_str': 732717, 'ticker': 'T', 'title': 'AT&T INC.'},\n '53': {'cik_str': 50863, 'ticker': 'INTC', 'title': 'INTEL CORP'},\n '54': {'cik_str': 1707925, 'ticker': 'LIN', 'title': 'LINDE PLC'},\n '55': {'cik_str': 101829,\n  'ticker': 'RTX',\n  'title': 'RAYTHEON TECHNOLOGIES CORP'},\n '56': {'cik_str': 1108329, 'ticker': 'PTR', 'title': 'PETROCHINA CO LTD'},\n '57': {'cik_str': 1000275, 'ticker': 'RY', 'title': 'ROYAL BANK OF CANADA'},\n '58': {'cik_str': 100885, 'ticker': 'UNP', 'title': 'UNION PACIFIC CORP'},\n '59': {'cik_str': 804328, 'ticker': 'QCOM', 'title': 'QUALCOMM INC/DE'},\n '60': {'cik_str': 318154, 'ticker': 'AMGN', 'title': 'AMGEN INC'},\n '61': {'cik_str': 879764, 'ticker': 'TTE', 'title': 'TotalEnergies SE'},\n '62': {'cik_str': 895421, 'ticker': 'MS', 'title': 'MORGAN STANLEY'},\n '63': {'cik_str': 97476, 'ticker': 'TXN', 'title': 'TEXAS INSTRUMENTS INC'},\n '64': {'cik_str': 811809, 'ticker': 'BHP', 'title': 'BHP Group Ltd'},\n '65': {'cik_str': 1089113, 'ticker': 'HSBC', 'title': 'HSBC HOLDINGS PLC'},\n '66': {'cik_str': 1121404, 'ticker': 'SNY', 'title': 'Sanofi'},\n '67': {'cik_str': 51143,\n  'ticker': 'IBM',\n  'title': 'INTERNATIONAL BUSINESS MACHINES CORP'},\n '68': {'cik_str': 64803, 'ticker': 'CVS', 'title': 'CVS HEALTH Corp'},\n '69': {'cik_str': 1613103, 'ticker': 'MDT', 'title': 'Medtronic plc'},\n '70': {'cik_str': 316709, 'ticker': 'SCHW', 'title': 'SCHWAB CHARLES CORP'},\n '71': {'cik_str': 947263, 'ticker': 'TD', 'title': 'TORONTO DOMINION BANK'},\n '72': {'cik_str': 773840,\n  'ticker': 'HON',\n  'title': 'HONEYWELL INTERNATIONAL INC'},\n '73': {'cik_str': 1163165, 'ticker': 'COP', 'title': 'CONOCOPHILLIPS'},\n '74': {'cik_str': 936468, 'ticker': 'LMT', 'title': 'LOCKHEED MARTIN CORP'},\n '75': {'cik_str': 60667, 'ticker': 'LOW', 'title': 'LOWES COMPANIES INC'},\n '76': {'cik_str': 217410, 'ticker': 'UL', 'title': 'UNILEVER PLC'},\n '77': {'cik_str': 1053507,\n  'ticker': 'AMT',\n  'title': 'AMERICAN TOWER CORP /MA/'},\n '78': {'cik_str': 1350102,\n  'ticker': 'ASTI',\n  'title': 'Ascent Solar Technologies, Inc.'},\n '79': {'cik_str': 1067839,\n  'ticker': 'QQQ',\n  'title': 'INVESCO QQQ TRUST, SERIES 1'},\n '80': {'cik_str': 1140625, 'ticker': 'EQNR', 'title': 'EQUINOR ASA'},\n '81': {'cik_str': 1268896,\n  'ticker': 'LFC',\n  'title': 'CHINA LIFE INSURANCE CO LTD'},\n '82': {'cik_str': 1131399, 'ticker': 'GSK', 'title': 'GSK PLC'},\n '83': {'cik_str': 896878, 'ticker': 'INTU', 'title': 'INTUIT INC'},\n '84': {'cik_str': 1549802, 'ticker': 'JD', 'title': 'JD.com, Inc.'},\n '85': {'cik_str': 4962, 'ticker': 'AXP', 'title': 'AMERICAN EXPRESS CO'},\n '86': {'cik_str': 887028, 'ticker': 'RTNTF', 'title': 'RIO TINTO LTD'},\n '87': {'cik_str': 1000184, 'ticker': 'SAP', 'title': 'SAP SE'},\n '88': {'cik_str': 1144967, 'ticker': 'HDB', 'title': 'HDFC BANK LTD'},\n '89': {'cik_str': 313838, 'ticker': 'SONY', 'title': 'Sony Group Corp'},\n '90': {'cik_str': 835403, 'ticker': 'DEO', 'title': 'DIAGEO PLC'},\n '91': {'cik_str': 886982, 'ticker': 'GS', 'title': 'GOLDMAN SACHS GROUP INC'},\n '92': {'cik_str': 1303523,\n  'ticker': 'BTI',\n  'title': 'British American Tobacco p.l.c.'},\n '93': {'cik_str': 863064, 'ticker': 'RIO', 'title': 'RIO TINTO PLC'},\n '94': {'cik_str': 1668717,\n  'ticker': 'BUD',\n  'title': 'Anheuser-Busch InBev SA/NV'},\n '95': {'cik_str': 18230, 'ticker': 'CAT', 'title': 'CATERPILLAR INC'},\n '96': {'cik_str': 1373715, 'ticker': 'NOW', 'title': 'ServiceNow, Inc.'},\n '97': {'cik_str': 1364742, 'ticker': 'BLK', 'title': 'BlackRock Inc.'},\n '98': {'cik_str': 831001, 'ticker': 'C', 'title': 'CITIGROUP INC'},\n '99': {'cik_str': 313807, 'ticker': 'BP', 'title': 'BP PLC'},\n '100': {'cik_str': 315189, 'ticker': 'DE', 'title': 'DEERE & CO'},\n '101': {'cik_str': 1001250,\n  'ticker': 'EL',\n  'title': 'ESTEE LAUDER COMPANIES INC'},\n '102': {'cik_str': 8670,\n  'ticker': 'ADP',\n  'title': 'AUTOMATIC DATA PROCESSING INC'},\n '103': {'cik_str': 2488,\n  'ticker': 'AMD',\n  'title': 'ADVANCED MICRO DEVICES INC'},\n '104': {'cik_str': 1739940, 'ticker': 'CI', 'title': 'Cigna Corp'},\n '105': {'cik_str': 1045609, 'ticker': 'PLD', 'title': 'Prologis, Inc.'},\n '106': {'cik_str': 1103982,\n  'ticker': 'MDLZ',\n  'title': 'Mondelez International, Inc.'},\n '107': {'cik_str': 1274152, 'ticker': 'CSLLY', 'title': 'CSL LTD'},\n '108': {'cik_str': 895728, 'ticker': 'ENB', 'title': 'ENBRIDGE INC'},\n '109': {'cik_str': 1091667,\n  'ticker': 'CHTR',\n  'title': 'CHARTER COMMUNICATIONS, INC. /MO/'},\n '110': {'cik_str': 896159, 'ticker': 'CB', 'title': 'Chubb Ltd'},\n '111': {'cik_str': 1326160, 'ticker': 'DUK', 'title': 'Duke Energy CORP'},\n '112': {'cik_str': 1633917,\n  'ticker': 'PYPL',\n  'title': 'PayPal Holdings, Inc.'},\n '113': {'cik_str': 64040, 'ticker': 'SPGI', 'title': 'S&P Global Inc.'},\n '114': {'cik_str': 1555280, 'ticker': 'ZTS', 'title': 'Zoetis Inc.'},\n '115': {'cik_str': 12927, 'ticker': 'BA', 'title': 'BOEING CO'},\n '116': {'cik_str': 1737806, 'ticker': 'PDD', 'title': 'Pinduoduo Inc.'},\n '117': {'cik_str': 1067491, 'ticker': 'INFY', 'title': 'Infosys Ltd'},\n '118': {'cik_str': 16868,\n  'ticker': 'CNI',\n  'title': 'CANADIAN NATIONAL RAILWAY CO'},\n '119': {'cik_str': 1065280, 'ticker': 'NFLX', 'title': 'NETFLIX INC'},\n '120': {'cik_str': 1378580, 'ticker': 'EADSY', 'title': 'Airbus SE/ADR'},\n '121': {'cik_str': 62709,\n  'ticker': 'MMC',\n  'title': 'MARSH & MCLENNAN COMPANIES, INC.'},\n '122': {'cik_str': 882095,\n  'ticker': 'GILD',\n  'title': 'GILEAD SCIENCES, INC.'},\n '123': {'cik_str': 764180, 'ticker': 'MO', 'title': 'ALTRIA GROUP, INC.'},\n '124': {'cik_str': 92122, 'ticker': 'SO', 'title': 'SOUTHERN CO'},\n '125': {'cik_str': 310764, 'ticker': 'SYK', 'title': 'STRYKER CORP'},\n '126': {'cik_str': 1119639,\n  'ticker': 'PBR',\n  'title': 'PETROBRAS - PETROLEO BRASILEIRO SA'},\n '127': {'cik_str': 6951,\n  'ticker': 'AMAT',\n  'title': 'APPLIED MATERIALS INC /DE'},\n '128': {'cik_str': 1133421,\n  'ticker': 'NOC',\n  'title': 'NORTHROP GRUMMAN CORP /DE/'},\n '129': {'cik_str': 6281, 'ticker': 'ADI', 'title': 'ANALOG DEVICES INC'},\n '130': {'cik_str': 1051470,\n  'ticker': 'CCI',\n  'title': 'CROWN CASTLE INTERNATIONAL CORP'},\n '131': {'cik_str': 66740, 'ticker': 'MMM', 'title': '3M CO'},\n '132': {'cik_str': 1035267,\n  'ticker': 'ISRG',\n  'title': 'INTUITIVE SURGICAL INC'},\n '133': {'cik_str': 1156375, 'ticker': 'CME', 'title': 'CME GROUP INC.'},\n '134': {'cik_str': 875320,\n  'ticker': 'VRTX',\n  'title': 'VERTEX PHARMACEUTICALS INC / MA'},\n '135': {'cik_str': 1075531,\n  'ticker': 'BKNG',\n  'title': 'Booking Holdings Inc.'},\n '136': {'cik_str': 1438656,\n  'ticker': 'IDEXY',\n  'title': 'Industria de Diseno Textil Inditex SA / ADR'},\n '137': {'cik_str': 67088,\n  'ticker': 'MUFG',\n  'title': 'MITSUBISHI UFJ FINANCIAL GROUP INC'},\n '138': {'cik_str': 10795, 'ticker': 'BDX', 'title': 'BECTON DICKINSON & CO'},\n '139': {'cik_str': 1123658,\n  'ticker': 'SNP',\n  'title': 'CHINA PETROLEUM & CHEMICAL CORP'},\n '140': {'cik_str': 9631, 'ticker': 'BNS', 'title': 'BANK OF NOVA SCOTIA'},\n '141': {'cik_str': 1001085,\n  'ticker': 'BAM',\n  'title': 'BROOKFIELD ASSET MANAGEMENT INC.'},\n '142': {'cik_str': 40545, 'ticker': 'GE', 'title': 'GENERAL ELECTRIC CO'},\n '143': {'cik_str': 80661, 'ticker': 'PGR', 'title': 'PROGRESSIVE CORP/OH/'},\n '144': {'cik_str': 21665, 'ticker': 'CL', 'title': 'COLGATE PALMOLIVE CO'},\n '145': {'cik_str': 36104, 'ticker': 'USB', 'title': 'US BANCORP \\\\DE\\\\'},\n '146': {'cik_str': 917851, 'ticker': 'VALE', 'title': 'Vale S.A.'},\n '147': {'cik_str': 27419, 'ticker': 'TGT', 'title': 'TARGET CORP'},\n '148': {'cik_str': 713676,\n  'ticker': 'PNC',\n  'title': 'PNC FINANCIAL SERVICES GROUP, INC.'},\n '149': {'cik_str': 1524684, 'ticker': 'GLNCY', 'title': 'Glencore plc/ADR'},\n '150': {'cik_str': 109198,\n  'ticker': 'TJX',\n  'title': 'TJX COMPANIES INC /DE/'},\n '151': {'cik_str': 1065521,\n  'ticker': 'SFTBY',\n  'title': 'SOFTBANK GROUP CORP'},\n '152': {'cik_str': 16875,\n  'ticker': 'CP',\n  'title': 'CANADIAN PACIFIC RAILWAY LTD/CN'},\n '153': {'cik_str': 1393818, 'ticker': 'BX', 'title': 'Blackstone Inc.'},\n '154': {'cik_str': 1129137,\n  'ticker': 'AMOV',\n  'title': 'AMERICA MOVIL SAB DE CV/'},\n '155': {'cik_str': 715957, 'ticker': 'D', 'title': 'DOMINION ENERGY, INC'},\n '156': {'cik_str': 821189, 'ticker': 'EOG', 'title': 'EOG RESOURCES INC'},\n '157': {'cik_str': 823768, 'ticker': 'WM', 'title': 'WASTE MANAGEMENT INC'},\n '158': {'cik_str': 277948, 'ticker': 'CSX', 'title': 'CSX CORP'},\n '159': {'cik_str': 30554,\n  'ticker': 'CTA-PA',\n  'title': 'DUPONT E I DE NEMOURS & CO'},\n '160': {'cik_str': 1017413,\n  'ticker': 'CNQ',\n  'title': 'CANADIAN NATURAL RESOURCES LTD'},\n '161': {'cik_str': 92230, 'ticker': 'TFC', 'title': 'TRUIST FINANCIAL CORP'},\n '162': {'cik_str': 1110646, 'ticker': 'NTES', 'title': 'NetEase, Inc.'},\n '163': {'cik_str': 872589,\n  'ticker': 'REGN',\n  'title': 'REGENERON PHARMACEUTICALS, INC.'},\n '164': {'cik_str': 1103838, 'ticker': 'IBN', 'title': 'ICICI BANK LTD'},\n '165': {'cik_str': 927971,\n  'ticker': 'BMO',\n  'title': 'BANK OF MONTREAL /CAN/'},\n '166': {'cik_str': 40533, 'ticker': 'GD', 'title': 'GENERAL DYNAMICS CORP'},\n '167': {'cik_str': 1067318, 'ticker': 'DMLRY', 'title': 'DAIMLER AG'},\n '168': {'cik_str': 89800, 'ticker': 'SHW', 'title': 'SHERWIN WILLIAMS CO'},\n '169': {'cik_str': 49071, 'ticker': 'HUM', 'title': 'HUMANA INC'},\n '170': {'cik_str': 718877,\n  'ticker': 'ATVI',\n  'title': 'Activision Blizzard, Inc.'},\n '171': {'cik_str': 798354, 'ticker': 'FISV', 'title': 'FISERV INC'},\n '172': {'cik_str': 1099800,\n  'ticker': 'EW',\n  'title': 'Edwards Lifesciences Corp'},\n '173': {'cik_str': 1682852, 'ticker': 'MRNA', 'title': 'Moderna, Inc.'},\n '174': {'cik_str': 1101239, 'ticker': 'EQIX', 'title': 'EQUINIX INC'},\n '175': {'cik_str': 315293, 'ticker': 'AON', 'title': 'Aon plc'},\n '176': {'cik_str': 723125, 'ticker': 'MU', 'title': 'MICRON TECHNOLOGY INC'},\n '177': {'cik_str': 1463157,\n  'ticker': 'PBCRY',\n  'title': 'PT Bank Central Asia Tbk / ADR'},\n '178': {'cik_str': 1048911, 'ticker': 'FDX', 'title': 'FEDEX CORP'},\n '179': {'cik_str': 1559720, 'ticker': 'ABNB', 'title': 'Airbnb, Inc.'},\n '180': {'cik_str': 49826,\n  'ticker': 'ITW',\n  'title': 'ILLINOIS TOOL WORKS INC'},\n '181': {'cik_str': 29534, 'ticker': 'DG', 'title': 'DOLLAR GENERAL CORP'},\n '182': {'cik_str': 1136893,\n  'ticker': 'FIS',\n  'title': 'Fidelity National Information Services, Inc.'},\n '183': {'cik_str': 1096200,\n  'ticker': 'ENLAY',\n  'title': 'ENEL SOCIETA PER AZIONI'},\n '184': {'cik_str': 797468,\n  'ticker': 'OXY',\n  'title': 'OCCIDENTAL PETROLEUM CORP /DE/'},\n '185': {'cik_str': 1393311, 'ticker': 'PSA', 'title': 'Public Storage'},\n '186': {'cik_str': 702165, 'ticker': 'NSC', 'title': 'NORFOLK SOUTHERN CORP'},\n '187': {'cik_str': 707549, 'ticker': 'LRCX', 'title': 'LAM RESEARCH CORP'},\n '188': {'cik_str': 1610520, 'ticker': 'UBS', 'title': 'UBS Group AG'},\n '189': {'cik_str': 1018724, 'ticker': 'AMZN', 'title': 'AMAZON COM INC'},\n '190': {'cik_str': 1038357,\n  'ticker': 'PXD',\n  'title': 'PIONEER NATURAL RESOURCES CO'},\n '191': {'cik_str': 1420798,\n  'ticker': 'RBGLY',\n  'title': 'RECKITT BENCKISER GROUP PLC'},\n '192': {'cik_str': 860730, 'ticker': 'HCA', 'title': 'HCA Healthcare, Inc.'},\n '193': {'cik_str': 885725,\n  'ticker': 'BSX',\n  'title': 'BOSTON SCIENTIFIC CORP'},\n '194': {'cik_str': 2969,\n  'ticker': 'APD',\n  'title': 'Air Products & Chemicals, Inc.'},\n '195': {'cik_str': 1061219,\n  'ticker': 'EPD',\n  'title': 'ENTERPRISE PRODUCTS PARTNERS L.P.'},\n '196': {'cik_str': 1571949,\n  'ticker': 'ICE',\n  'title': 'Intercontinental Exchange, Inc.'},\n '197': {'cik_str': 1099219, 'ticker': 'MET', 'title': 'METLIFE INC'},\n '198': {'cik_str': 1329099, 'ticker': 'BIDU', 'title': 'Baidu, Inc.'},\n '199': {'cik_str': 1091587, 'ticker': 'ABB', 'title': 'ABB LTD'},\n '200': {'cik_str': 1510295,\n  'ticker': 'MPC',\n  'title': 'Marathon Petroleum Corp'},\n '201': {'cik_str': 311337, 'ticker': 'SU', 'title': 'SUNCOR ENERGY INC'},\n '202': {'cik_str': 929869, 'ticker': 'RELX', 'title': 'RELX PLC'},\n '203': {'cik_str': 1232384, 'ticker': 'TRP', 'title': 'TC ENERGY CORP'},\n '204': {'cik_str': 1418135,\n  'ticker': 'KDP',\n  'title': 'Keurig Dr Pepper Inc.'},\n '205': {'cik_str': 1059556, 'ticker': 'MCO', 'title': 'MOODYS CORP /DE/'},\n '206': {'cik_str': 1551182, 'ticker': 'ETN', 'title': 'Eaton Corp plc'},\n '207': {'cik_str': 1075124,\n  'ticker': 'TRI',\n  'title': 'THOMSON REUTERS CORP /CAN/'},\n '208': {'cik_str': 927653, 'ticker': 'MCK', 'title': 'MCKESSON CORP'},\n '209': {'cik_str': 1071739, 'ticker': 'CNC', 'title': 'CENTENE CORP'},\n '210': {'cik_str': 1327567,\n  'ticker': 'PANW',\n  'title': 'Palo Alto Networks Inc'},\n '211': {'cik_str': 865752,\n  'ticker': 'MNST',\n  'title': 'Monster Beverage Corp'},\n '212': {'cik_str': 87347,\n  'ticker': 'SLB',\n  'title': 'SCHLUMBERGER LIMITED/NV'},\n '213': {'cik_str': 1650372, 'ticker': 'TEAM', 'title': 'Atlassian Corp Plc'},\n '214': {'cik_str': 1032208, 'ticker': 'SRE', 'title': 'SEMPRA ENERGY'},\n '215': {'cik_str': 1164727, 'ticker': 'NEM', 'title': 'NEWMONT Corp /DE/'},\n '216': {'cik_str': 4904,\n  'ticker': 'AEP',\n  'title': 'AMERICAN ELECTRIC POWER CO INC'},\n '217': {'cik_str': 891478, 'ticker': 'SAN', 'title': 'Banco Santander, S.A.'},\n '218': {'cik_str': 32604, 'ticker': 'EMR', 'title': 'EMERSON ELECTRIC CO'},\n '219': {'cik_str': 1124610, 'ticker': 'VMW', 'title': 'VMWARE, INC.'},\n '220': {'cik_str': 1004315, 'ticker': 'NGG', 'title': 'NATIONAL GRID PLC'},\n '221': {'cik_str': 202058,\n  'ticker': 'LHX',\n  'title': 'L3HARRIS TECHNOLOGIES, INC. /DE/'},\n '222': {'cik_str': 899108,\n  'ticker': 'PRNDY',\n  'title': 'PERNOD RICARD S A /FI'},\n '223': {'cik_str': 1637459, 'ticker': 'KHC', 'title': 'Kraft Heinz Co'},\n '224': {'cik_str': 1648416, 'ticker': 'RACE', 'title': 'Ferrari N.V.'},\n '225': {'cik_str': 1467858, 'ticker': 'GM', 'title': 'General Motors Co'},\n '226': {'cik_str': 883241, 'ticker': 'SNPS', 'title': 'SYNOPSYS INC'},\n '227': {'cik_str': 55785, 'ticker': 'KMB', 'title': 'KIMBERLY CLARK CORP'},\n '228': {'cik_str': 40704, 'ticker': 'GIS', 'title': 'GENERAL MILLS INC'},\n '229': {'cik_str': 47111, 'ticker': 'HSY', 'title': 'HERSHEY CO'},\n '230': {'cik_str': 927628,\n  'ticker': 'COF',\n  'title': 'CAPITAL ONE FINANCIAL CORP'},\n '231': {'cik_str': 1048286,\n  'ticker': 'MAR',\n  'title': 'MARRIOTT INTERNATIONAL INC /MD/'},\n '232': {'cik_str': 718940, 'ticker': 'BCE', 'title': 'BCE INC'},\n '233': {'cik_str': 37996, 'ticker': 'F', 'title': 'FORD MOTOR CO'},\n '234': {'cik_str': 1725964, 'ticker': 'NTR', 'title': 'Nutrien Ltd.'},\n '235': {'cik_str': 31462, 'ticker': 'ECL', 'title': 'ECOLAB INC.'},\n '236': {'cik_str': 1109357, 'ticker': 'EXC', 'title': 'EXELON CORP'},\n '237': {'cik_str': 319201, 'ticker': 'KLAC', 'title': 'KLA CORP'},\n '238': {'cik_str': 866787, 'ticker': 'AZO', 'title': 'AUTOZONE INC'},\n '239': {'cik_str': 1640147, 'ticker': 'SNOW', 'title': 'Snowflake Inc.'},\n '240': {'cik_str': 96021, 'ticker': 'SYY', 'title': 'SYSCO CORP'},\n '241': {'cik_str': 1035002,\n  'ticker': 'VLO',\n  'title': 'VALERO ENERGY CORP/TX'},\n '242': {'cik_str': 16918,\n  'ticker': 'STZ',\n  'title': 'CONSTELLATION BRANDS, INC.'},\n '243': {'cik_str': 1395064,\n  'ticker': 'TAK',\n  'title': 'TAKEDA PHARMACEUTICAL CO LTD'},\n '244': {'cik_str': 1222333, 'ticker': 'GLD', 'title': 'SPDR GOLD TRUST'},\n '245': {'cik_str': 5272,\n  'ticker': 'AIG',\n  'title': 'AMERICAN INTERNATIONAL GROUP, INC.'},\n '246': {'cik_str': 831259, 'ticker': 'FCX', 'title': 'FREEPORT-MCMORAN INC'},\n '247': {'cik_str': 898173,\n  'ticker': 'ORLY',\n  'title': 'O REILLY AUTOMOTIVE INC'},\n '248': {'cik_str': 7084,\n  'ticker': 'ADM',\n  'title': 'Archer-Daniels-Midland Co'},\n '249': {'cik_str': 839923,\n  'ticker': 'VOD',\n  'title': 'VODAFONE GROUP PUBLIC LTD CO'},\n '250': {'cik_str': 1652499,\n  'ticker': 'CNTTQ',\n  'title': 'CannTrust Holdings Inc.'},\n '251': {'cik_str': 1002242, 'ticker': 'E', 'title': 'ENI SPA'},\n '252': {'cik_str': 882835,\n  'ticker': 'ROP',\n  'title': 'ROPER TECHNOLOGIES INC'},\n '253': {'cik_str': 1060391,\n  'ticker': 'RSG',\n  'title': 'REPUBLIC SERVICES, INC.'},\n '254': {'cik_str': 86312,\n  'ticker': 'TRV',\n  'title': 'TRAVELERS COMPANIES, INC.'},\n '255': {'cik_str': 723531, 'ticker': 'PAYX', 'title': 'PAYCHEX INC'},\n '256': {'cik_str': 1132597,\n  'ticker': 'ITUB',\n  'title': 'Itau Unibanco Holding S.A.'},\n '257': {'cik_str': 715153, 'ticker': 'HMC', 'title': 'HONDA MOTOR CO LTD'},\n '258': {'cik_str': 813672,\n  'ticker': 'CDNS',\n  'title': 'CADENCE DESIGN SYSTEMS INC'},\n '259': {'cik_str': 1543151,\n  'ticker': 'UBER',\n  'title': 'Uber Technologies, Inc'},\n '260': {'cik_str': 1535527,\n  'ticker': 'CRWD',\n  'title': 'CrowdStrike Holdings, Inc.'},\n '261': {'cik_str': 1478242, 'ticker': 'IQV', 'title': 'IQVIA HOLDINGS INC.'},\n '262': {'cik_str': 1022837,\n  'ticker': 'SMFG',\n  'title': 'SUMITOMO MITSUI FINANCIAL GROUP, INC.'},\n '263': {'cik_str': 1471055,\n  'ticker': 'BSBR',\n  'title': 'Banco Santander (Brasil) S.A.'},\n '264': {'cik_str': 1565025, 'ticker': 'ABEV', 'title': 'AMBEV S.A.'},\n '265': {'cik_str': 726728, 'ticker': 'O', 'title': 'REALTY INCOME CORP'},\n '266': {'cik_str': 1755672, 'ticker': 'CTVA', 'title': 'Corteva, Inc.'},\n '267': {'cik_str': 72903, 'ticker': 'XEL', 'title': 'XCEL ENERGY INC'},\n '268': {'cik_str': 723254, 'ticker': 'CTAS', 'title': 'CINTAS CORP'},\n '269': {'cik_str': 1791706, 'ticker': 'LI', 'title': 'Li Auto Inc.'},\n '270': {'cik_str': 1413447,\n  'ticker': 'NXPI',\n  'title': 'NXP Semiconductors N.V.'},\n '271': {'cik_str': 1605484, 'ticker': 'STLA', 'title': 'Stellantis N.V.'},\n '272': {'cik_str': 1001838,\n  'ticker': 'SCCO',\n  'title': 'SOUTHERN COPPER CORP/'},\n '273': {'cik_str': 1703399, 'ticker': 'SE', 'title': 'Sea Ltd'},\n '274': {'cik_str': 1506307, 'ticker': 'KMI', 'title': 'KINDER MORGAN, INC.'},\n '275': {'cik_str': 769397, 'ticker': 'ADSK', 'title': 'Autodesk, Inc.'},\n '276': {'cik_str': 1475260, 'ticker': 'CVE', 'title': 'CENOVUS ENERGY INC.'},\n '277': {'cik_str': 1751788, 'ticker': 'DOW', 'title': 'DOW INC.'},\n '278': {'cik_str': 1776985, 'ticker': 'BNTX', 'title': 'BioNTech SE'},\n '279': {'cik_str': 820313, 'ticker': 'APH', 'title': 'AMPHENOL CORP /DE/'},\n '280': {'cik_str': 107263,\n  'ticker': 'WMB',\n  'title': 'WILLIAMS COMPANIES, INC.'},\n '281': {'cik_str': 1039765, 'ticker': 'ING', 'title': 'ING GROEP NV'},\n '282': {'cik_str': 899051, 'ticker': 'ALL', 'title': 'ALLSTATE CORP'},\n '283': {'cik_str': 1297996,\n  'ticker': 'DLR',\n  'title': 'DIGITAL REALTY TRUST, INC.'},\n '284': {'cik_str': 1090012, 'ticker': 'DVN', 'title': 'DEVON ENERGY CORP/DE'},\n '285': {'cik_str': 4977, 'ticker': 'AFL', 'title': 'AFLAC INC'},\n '286': {'cik_str': 1534701, 'ticker': 'PSX', 'title': 'Phillips 66'},\n '287': {'cik_str': 1160106,\n  'ticker': 'LYG',\n  'title': 'Lloyds Banking Group plc'},\n '288': {'cik_str': 1137774,\n  'ticker': 'PRU',\n  'title': 'PRUDENTIAL FINANCIAL INC'},\n '289': {'cik_str': 1058090,\n  'ticker': 'CMG',\n  'title': 'CHIPOTLE MEXICAN GRILL INC'},\n '290': {'cik_str': 1385157, 'ticker': 'TEL', 'title': 'TE Connectivity Ltd.'},\n '291': {'cik_str': 766704, 'ticker': 'WELL', 'title': 'WELLTOWER INC.'},\n '292': {'cik_str': 1058290,\n  'ticker': 'CTSH',\n  'title': 'COGNIZANT TECHNOLOGY SOLUTIONS CORP'},\n '293': {'cik_str': 1090872,\n  'ticker': 'A',\n  'title': 'AGILENT TECHNOLOGIES, INC.'},\n '294': {'cik_str': 1034054,\n  'ticker': 'SBAC',\n  'title': 'SBA COMMUNICATIONS CORP'},\n '295': {'cik_str': 1835632,\n  'ticker': 'MRVL',\n  'title': 'Marvell Technology, Inc.'},\n '296': {'cik_str': 1327811, 'ticker': 'WDAY', 'title': 'Workday, Inc.'},\n '297': {'cik_str': 1048515, 'ticker': 'DANOY', 'title': 'GROUPE DANONE'},\n '298': {'cik_str': 68505,\n  'ticker': 'MSI',\n  'title': 'Motorola Solutions, Inc.'},\n '299': {'cik_str': 56873, 'ticker': 'KR', 'title': 'KROGER CO'},\n '300': {'cik_str': 935703, 'ticker': 'DLTR', 'title': 'DOLLAR TREE, INC.'},\n '301': {'cik_str': 1167379, 'ticker': 'ALC', 'title': 'ALCON INC'},\n '302': {'cik_str': 1390777,\n  'ticker': 'BK',\n  'title': 'Bank of New York Mellon Corp'},\n '303': {'cik_str': 1116578, 'ticker': 'PUK', 'title': 'PRUDENTIAL PLC'},\n '304': {'cik_str': 1372920,\n  'ticker': 'EDU',\n  'title': 'New Oriental Education & Technology Group Inc.'},\n '305': {'cik_str': 712515, 'ticker': 'EA', 'title': 'ELECTRONIC ARTS INC.'},\n '306': {'cik_str': 14693, 'ticker': 'BF-A', 'title': 'BROWN FORMAN CORP'},\n '307': {'cik_str': 47217, 'ticker': 'HPQ', 'title': 'HP INC'},\n '308': {'cik_str': 1408198, 'ticker': 'MSCI', 'title': 'MSCI Inc.'},\n '309': {'cik_str': 1047862,\n  'ticker': 'ED',\n  'title': 'CONSOLIDATED EDISON INC'},\n '310': {'cik_str': 1041061, 'ticker': 'YUM', 'title': 'YUM BRANDS INC'},\n '311': {'cik_str': 833444,\n  'ticker': 'JCI',\n  'title': 'Johnson Controls International plc'},\n '312': {'cik_str': 354190,\n  'ticker': 'AJG',\n  'title': 'Arthur J. Gallagher & Co.'},\n '313': {'cik_str': 1397187,\n  'ticker': 'LULU',\n  'title': 'lululemon athletica inc.'},\n '314': {'cik_str': 1086888,\n  'ticker': 'MFC',\n  'title': 'MANULIFE FINANCIAL CORP'},\n '315': {'cik_str': 1736541, 'ticker': 'NIO', 'title': 'NIO Inc.'},\n '316': {'cik_str': 3570, 'ticker': 'LNG', 'title': 'Cheniere Energy, Inc.'},\n '317': {'cik_str': 1618921,\n  'ticker': 'WBA',\n  'title': 'Walgreens Boots Alliance, Inc.'},\n '318': {'cik_str': 1099590, 'ticker': 'MELI', 'title': 'MERCADOLIBRE INC'},\n '319': {'cik_str': 1278680, 'ticker': 'IAU', 'title': 'ISHARES GOLD TRUST'},\n '320': {'cik_str': 1585521,\n  'ticker': 'ZM',\n  'title': 'Zoom Video Communications, Inc.'},\n '321': {'cik_str': 1318220,\n  'ticker': 'WCN',\n  'title': 'Waste Connections, Inc.'},\n '322': {'cik_str': 1060736, 'ticker': 'SGEN', 'title': 'Seagen Inc.'},\n '323': {'cik_str': 49938, 'ticker': 'IMO', 'title': 'IMPERIAL OIL LTD'},\n '324': {'cik_str': 10456,\n  'ticker': 'BAX',\n  'title': 'BAXTER INTERNATIONAL INC'},\n '325': {'cik_str': 788784,\n  'ticker': 'PEG',\n  'title': 'PUBLIC SERVICE ENTERPRISE GROUP INC'},\n '326': {'cik_str': 1571996,\n  'ticker': 'DELL',\n  'title': 'Dell Technologies Inc.'},\n '327': {'cik_str': 4447, 'ticker': 'HES', 'title': 'HESS CORP'},\n '328': {'cik_str': 895564,\n  'ticker': 'BAESY',\n  'title': 'BAE SYSTEMS PLC /FI/'},\n '329': {'cik_str': 1132924,\n  'ticker': 'CHT',\n  'title': 'CHUNGHWA TELECOM CO LTD'},\n '330': {'cik_str': 783325,\n  'ticker': 'WEC',\n  'title': 'WEC ENERGY GROUP, INC.'},\n '331': {'cik_str': 1123360, 'ticker': 'GPN', 'title': 'GLOBAL PAYMENTS INC'},\n '332': {'cik_str': 756894, 'ticker': 'GOLD', 'title': 'BARRICK GOLD CORP'},\n '333': {'cik_str': 76334, 'ticker': 'PH', 'title': 'PARKER HANNIFIN CORP'},\n '334': {'cik_str': 1276187, 'ticker': 'ET', 'title': 'Energy Transfer LP'},\n '335': {'cik_str': 312069, 'ticker': 'BCS', 'title': 'BARCLAYS PLC'},\n '336': {'cik_str': 1561550, 'ticker': 'DDOG', 'title': 'Datadog, Inc.'},\n '337': {'cik_str': 1585689,\n  'ticker': 'HLT',\n  'title': 'Hilton Worldwide Holdings Inc.'},\n '338': {'cik_str': 1063761,\n  'ticker': 'SPG',\n  'title': 'SIMON PROPERTY GROUP INC /DE/'},\n '339': {'cik_str': 943819, 'ticker': 'RMD', 'title': 'RESMED INC'},\n '340': {'cik_str': 1393052, 'ticker': 'VEEV', 'title': 'VEEVA SYSTEMS INC'},\n '341': {'cik_str': 1160330, 'ticker': 'BBD', 'title': 'BANK BRADESCO'},\n '342': {'cik_str': 1038143, 'ticker': 'ORAN', 'title': 'ORANGE'},\n '343': {'cik_str': 1466258,\n  'ticker': 'TT',\n  'title': 'Trane Technologies plc'},\n '344': {'cik_str': 1783180, 'ticker': 'CARR', 'title': 'CARRIER GLOBAL Corp'},\n '345': {'cik_str': 827054,\n  'ticker': 'MCHP',\n  'title': 'MICROCHIP TECHNOLOGY INC'},\n '346': {'cik_str': 100493, 'ticker': 'TSN', 'title': 'TYSON FOODS, INC.'},\n '347': {'cik_str': 875045, 'ticker': 'BIIB', 'title': 'BIOGEN INC.'},\n '348': {'cik_str': 1107457,\n  'ticker': 'IFNNY',\n  'title': 'INFINEON TECHNOLOGIES AG'},\n '349': {'cik_str': 844150, 'ticker': 'NWG', 'title': 'NatWest Group plc'},\n '350': {'cik_str': 868675, 'ticker': 'TU', 'title': 'TELUS CORP'},\n '351': {'cik_str': 1418091, 'ticker': 'TWTR', 'title': 'TWITTER, INC.'},\n '352': {'cik_str': 1781335, 'ticker': 'OTIS', 'title': 'Otis Worldwide Corp'},\n '353': {'cik_str': 874716,\n  'ticker': 'IDXX',\n  'title': 'IDEXX LABORATORIES INC /DE'},\n '354': {'cik_str': 51253,\n  'ticker': 'IFF',\n  'title': 'INTERNATIONAL FLAVORS & FRAGRANCES INC'},\n '355': {'cik_str': 1552000, 'ticker': 'MPLX', 'title': 'MPLX LP'},\n '356': {'cik_str': 73309, 'ticker': 'NUE', 'title': 'NUCOR CORP'},\n '357': {'cik_str': 878927,\n  'ticker': 'ODFL',\n  'title': 'OLD DOMINION FREIGHT LINE, INC.'},\n '358': {'cik_str': 72741, 'ticker': 'ES', 'title': 'EVERSOURCE ENERGY'},\n '359': {'cik_str': 1260221, 'ticker': 'TDG', 'title': 'TransDigm Group INC'},\n '360': {'cik_str': 1110803, 'ticker': 'ILMN', 'title': 'ILLUMINA, INC.'},\n '361': {'cik_str': 842180,\n  'ticker': 'BBVA',\n  'title': 'BANCO BILBAO VIZCAYA ARGENTARIA, S.A.'},\n '362': {'cik_str': 1140859,\n  'ticker': 'ABC',\n  'title': 'AMERISOURCEBERGEN CORP'},\n '363': {'cik_str': 814052, 'ticker': 'TEF', 'title': 'TELEFONICA S A'},\n '364': {'cik_str': 1123799, 'ticker': 'WIT', 'title': 'WIPRO LTD'},\n '365': {'cik_str': 1858681,\n  'ticker': 'APO',\n  'title': 'Apollo Global Management, Inc.'},\n '366': {'cik_str': 1512673, 'ticker': 'SQ', 'title': 'Block, Inc.'},\n '367': {'cik_str': 1489393,\n  'ticker': 'LYB',\n  'title': 'LyondellBasell Industries N.V.'},\n '368': {'cik_str': 1335730,\n  'ticker': 'MFG',\n  'title': 'MIZUHO FINANCIAL GROUP INC'},\n '369': {'cik_str': 75362, 'ticker': 'PCAR', 'title': 'PACCAR INC'},\n '370': {'cik_str': 1596532,\n  'ticker': 'ANET',\n  'title': 'Arista Networks, Inc.'},\n '371': {'cik_str': 1554394,\n  'ticker': 'LGFRY',\n  'title': 'Longfor Group Holdings Limited/ADR'},\n '372': {'cik_str': 1393612,\n  'ticker': 'DFS',\n  'title': 'Discover Financial Services'},\n '373': {'cik_str': 815556, 'ticker': 'FAST', 'title': 'FASTENAL CO'},\n '374': {'cik_str': 1666700,\n  'ticker': 'DD',\n  'title': 'DuPont de Nemours, Inc.'},\n '375': {'cik_str': 1442145,\n  'ticker': 'VRSK',\n  'title': 'Verisk Analytics, Inc.'},\n '376': {'cik_str': 45012, 'ticker': 'HAL', 'title': 'HALLIBURTON CO'},\n '377': {'cik_str': 1811210, 'ticker': 'LCID', 'title': 'Lucid Group, Inc.'},\n '378': {'cik_str': 79879, 'ticker': 'PPG', 'title': 'PPG INDUSTRIES INC'},\n '379': {'cik_str': 1410636,\n  'ticker': 'AWK',\n  'title': 'American Water Works Company, Inc.'},\n '380': {'cik_str': 1498632, 'ticker': 'DNBBY', 'title': 'DnB NOR ASA'},\n '381': {'cik_str': 26172, 'ticker': 'CMI', 'title': 'CUMMINS INC'},\n '382': {'cik_str': 1535628, 'ticker': 'CAIXY', 'title': 'CaixaBank/ADR'},\n '383': {'cik_str': 932787,\n  'ticker': 'STM',\n  'title': 'STMicroelectronics N.V.'},\n '384': {'cik_str': 1810997, 'ticker': 'XPEV', 'title': 'XPENG INC.'},\n '385': {'cik_str': 915912,\n  'ticker': 'AVB',\n  'title': 'AVALONBAY COMMUNITIES INC'},\n '386': {'cik_str': 906107, 'ticker': 'EQR', 'title': 'EQUITY RESIDENTIAL'},\n '387': {'cik_str': 1404912, 'ticker': 'KKR', 'title': 'KKR & Co. Inc.'},\n '388': {'cik_str': 1376891, 'ticker': 'EXPGY', 'title': 'Experian Group LTD'},\n '389': {'cik_str': 24741, 'ticker': 'GLW', 'title': 'CORNING INC /NY'},\n '390': {'cik_str': 1097362,\n  'ticker': 'SLF',\n  'title': 'SUN LIFE FINANCIAL INC'},\n '391': {'cik_str': 1001807,\n  'ticker': 'TLK',\n  'title': 'PERUSAHAAN PERSEROAN PERSERO PT TELEKOMUNIKASI INDONESIA TBK'},\n '392': {'cik_str': 849395, 'ticker': 'CRH', 'title': 'CRH PUBLIC LTD CO'},\n '393': {'cik_str': 1300514, 'ticker': 'LVS', 'title': 'LAS VEGAS SANDS CORP'},\n '394': {'cik_str': 1065088, 'ticker': 'EBAY', 'title': 'EBAY INC'},\n '395': {'cik_str': 1037646,\n  'ticker': 'MTD',\n  'title': 'METTLER TOLEDO INTERNATIONAL INC/'},\n '396': {'cik_str': 820027,\n  'ticker': 'AMP',\n  'title': 'AMERIPRISE FINANCIAL INC'},\n '397': {'cik_str': 1113169,\n  'ticker': 'TROW',\n  'title': 'PRICE T ROWE GROUP INC'},\n '398': {'cik_str': 1132979, 'ticker': 'FRC', 'title': 'FIRST REPUBLIC BANK'},\n '399': {'cik_str': 1463101,\n  'ticker': 'ENPH',\n  'title': 'Enphase Energy, Inc.'},\n '400': {'cik_str': 1834584, 'ticker': 'CPNG', 'title': 'Coupang, Inc.'},\n '401': {'cik_str': 924613, 'ticker': 'NOK', 'title': 'NOKIA CORP'},\n '402': {'cik_str': 948696,\n  'ticker': 'HCMLY',\n  'title': 'LafargeHolcim Ltd/ADR'},\n '403': {'cik_str': 939380, 'ticker': 'RWEOY', 'title': 'RWE AG /FI'},\n '404': {'cik_str': 900075, 'ticker': 'CPRT', 'title': 'COPART INC'},\n '405': {'cik_str': 1120193, 'ticker': 'NDAQ', 'title': 'NASDAQ, INC.'},\n '406': {'cik_str': 48465, 'ticker': 'HRL', 'title': 'HORMEL FOODS CORP /DE/'},\n '407': {'cik_str': 1037868, 'ticker': 'AME', 'title': 'AMETEK INC/'},\n '408': {'cik_str': 1379235,\n  'ticker': 'ARZGY',\n  'title': 'Assicurazioni Generali S.p.A.'},\n '409': {'cik_str': 1637120,\n  'ticker': 'CKHUY',\n  'title': 'CK Hutchison Holdings Limited/ADR'},\n '410': {'cik_str': 1456346, 'ticker': 'FNV', 'title': 'FRANCO NEVADA Corp'},\n '411': {'cik_str': 106535, 'ticker': 'WY', 'title': 'WEYERHAEUSER CO'},\n '412': {'cik_str': 1138118, 'ticker': 'CBRE', 'title': 'CBRE GROUP, INC.'},\n '413': {'cik_str': 1701605, 'ticker': 'BKR', 'title': 'Baker Hughes Co'},\n '414': {'cik_str': 1039684, 'ticker': 'OKE', 'title': 'ONEOK INC /NEW/'},\n '415': {'cik_str': 1041130,\n  'ticker': 'DIA',\n  'title': 'SPDR DOW JONES INDUSTRIAL AVERAGE ETF TRUST'},\n '416': {'cik_str': 745732, 'ticker': 'ROST', 'title': 'ROSS STORES, INC.'},\n '417': {'cik_str': 717826,\n  'ticker': 'ERIC',\n  'title': 'ERICSSON LM TELEPHONE CO'},\n '418': {'cik_str': 936340, 'ticker': 'DTE', 'title': 'DTE ENERGY CO'},\n '419': {'cik_str': 882184, 'ticker': 'DHI', 'title': 'HORTON D R INC /DE/'},\n '420': {'cik_str': 1601046,\n  'ticker': 'KEYS',\n  'title': 'Keysight Technologies, Inc.'},\n '421': {'cik_str': 908937,\n  'ticker': 'SIRI',\n  'title': 'SIRIUS XM HOLDINGS INC.'},\n '422': {'cik_str': 1521332, 'ticker': 'APTV', 'title': 'Aptiv PLC'},\n '423': {'cik_str': 733099,\n  'ticker': 'RCI',\n  'title': 'ROGERS COMMUNICATIONS INC'},\n '424': {'cik_str': 1061736,\n  'ticker': 'FMX',\n  'title': 'MEXICAN ECONOMIC DEVELOPMENT INC'},\n '425': {'cik_str': 1650107,\n  'ticker': 'CCEP',\n  'title': 'COCA-COLA EUROPACIFIC PARTNERS plc'},\n '426': {'cik_str': 55067, 'ticker': 'K', 'title': 'KELLOGG CO'},\n '427': {'cik_str': 1447629, 'ticker': 'LNNGY', 'title': 'Li Ning Co. Ltd.'},\n '428': {'cik_str': 1832433, 'ticker': 'FERG', 'title': 'Ferguson plc'},\n '429': {'cik_str': 827052, 'ticker': 'EIX', 'title': 'EDISON INTERNATIONAL'},\n '430': {'cik_str': 1057352, 'ticker': 'CSGP', 'title': 'COSTAR GROUP, INC.'},\n '431': {'cik_str': 909037,\n  'ticker': 'SQM',\n  'title': 'CHEMICAL & MINING CO OF CHILE INC'},\n '432': {'cik_str': 16988, 'ticker': 'CAJ', 'title': 'CANON INC'},\n '433': {'cik_str': 732834,\n  'ticker': 'CLR',\n  'title': 'CONTINENTAL RESOURCES, INC'},\n '434': {'cik_str': 915913, 'ticker': 'ALB', 'title': 'ALBEMARLE CORP'},\n '435': {'cik_str': 277135, 'ticker': 'GWW', 'title': 'W.W. GRAINGER, INC.'},\n '436': {'cik_str': 1002910, 'ticker': 'AEE', 'title': 'AMEREN CORP'},\n '437': {'cik_str': 885834, 'ticker': 'TSCDY', 'title': 'TESCO PLC /FI'},\n '438': {'cik_str': 850918,\n  'ticker': 'GWLIF',\n  'title': 'GREAT-WEST LIFECO INC.'},\n '439': {'cik_str': 1461748,\n  'ticker': 'PPERY',\n  'title': 'PT Bank Mandiri (Persero) Tbk / ADR'},\n '440': {'cik_str': 313927,\n  'ticker': 'CHD',\n  'title': 'CHURCH & DWIGHT CO INC /DE/'},\n '441': {'cik_str': 719739, 'ticker': 'SIVB', 'title': 'SVB FINANCIAL GROUP'},\n '442': {'cik_str': 1289490,\n  'ticker': 'EXR',\n  'title': 'Extra Space Storage Inc.'},\n '443': {'cik_str': 1792789, 'ticker': 'DASH', 'title': 'DoorDash, Inc.'},\n '444': {'cik_str': 1381197,\n  'ticker': 'IBKR',\n  'title': 'Interactive Brokers Group, Inc.'},\n '445': {'cik_str': 936958,\n  'ticker': 'MDY',\n  'title': 'SPDR S&P MIDCAP 400 ETF TRUST'},\n '446': {'cik_str': 93751, 'ticker': 'STT', 'title': 'STATE STREET CORP'},\n '447': {'cik_str': 65984, 'ticker': 'ETR', 'title': 'ENTERGY CORP /DE/'},\n '448': {'cik_str': 35527, 'ticker': 'FITB', 'title': 'FIFTH THIRD BANCORP'},\n '449': {'cik_str': 920148,\n  'ticker': 'LH',\n  'title': 'LABORATORY CORP OF AMERICA HOLDINGS'},\n '450': {'cik_str': 1024478,\n  'ticker': 'ROK',\n  'title': 'ROCKWELL AUTOMATION, INC'},\n '451': {'cik_str': 1004980, 'ticker': 'PCG', 'title': 'PG&E Corp'},\n '452': {'cik_str': 1035443,\n  'ticker': 'ARE',\n  'title': 'ALEXANDRIA REAL ESTATE EQUITIES, INC.'},\n '453': {'cik_str': 1666175, 'ticker': 'FTS', 'title': 'Fortis Inc.'},\n '454': {'cik_str': 105770,\n  'ticker': 'WST',\n  'title': 'WEST PHARMACEUTICAL SERVICES INC'},\n '455': {'cik_str': 1444406, 'ticker': 'EC', 'title': 'ECOPETROL S.A.'},\n '456': {'cik_str': 33185, 'ticker': 'EFX', 'title': 'EQUIFAX INC'},\n '457': {'cik_str': 1874178,\n  'ticker': 'RIVN',\n  'title': 'Rivian Automotive, Inc. / DE'},\n '458': {'cik_str': 920760, 'ticker': 'LEN', 'title': 'LENNAR CORP /NEW/'},\n '459': {'cik_str': 874766,\n  'ticker': 'HIG',\n  'title': 'HARTFORD FINANCIAL SERVICES GROUP, INC.'},\n '460': {'cik_str': 1012037,\n  'ticker': 'CODYY',\n  'title': 'COMPAGNIE DE SAINT GOBAIN'},\n '461': {'cik_str': 1031296, 'ticker': 'FE', 'title': 'FIRSTENERGY CORP'},\n '462': {'cik_str': 1136869,\n  'ticker': 'ZBH',\n  'title': 'ZIMMER BIOMET HOLDINGS, INC.'},\n '463': {'cik_str': 916365,\n  'ticker': 'TSCO',\n  'title': 'TRACTOR SUPPLY CO /DE/'},\n '464': {'cik_str': 1045520,\n  'ticker': 'CM',\n  'title': 'CANADIAN IMPERIAL BANK OF COMMERCE /CAN/'},\n '465': {'cik_str': 63754, 'ticker': 'MKC', 'title': 'MCCORMICK & CO INC'},\n '466': {'cik_str': 1330306,\n  'ticker': 'VWDRY',\n  'title': 'VESTAS WIND SYSTEMS A/S'},\n '467': {'cik_str': 1434265, 'ticker': 'GMAB', 'title': 'GENMAB A/S'},\n '468': {'cik_str': 1539838,\n  'ticker': 'FANG',\n  'title': 'Diamondback Energy, Inc.'},\n '469': {'cik_str': 1677250,\n  'ticker': 'ZTO',\n  'title': 'ZTO Express (Cayman) Inc.'},\n '470': {'cik_str': 1713683, 'ticker': 'ZS', 'title': 'Zscaler, Inc.'},\n '471': {'cik_str': 92380, 'ticker': 'LUV', 'title': 'SOUTHWEST AIRLINES CO'},\n '472': {'cik_str': 1673358,\n  'ticker': 'YUMC',\n  'title': 'Yum China Holdings, Inc.'},\n '473': {'cik_str': 1671933, 'ticker': 'TTD', 'title': 'Trade Desk, Inc.'},\n '474': {'cik_str': 858470, 'ticker': 'CTRA', 'title': 'Coterra Energy Inc.'},\n '475': {'cik_str': 783280, 'ticker': 'DRE', 'title': 'DUKE REALTY CORP'},\n '476': {'cik_str': 1383650,\n  'ticker': 'CQP',\n  'title': 'Cheniere Energy Partners, L.P.'},\n '477': {'cik_str': 1687229,\n  'ticker': 'INVH',\n  'title': 'Invitation Homes Inc.'},\n '478': {'cik_str': 1402057, 'ticker': 'CDW', 'title': 'CDW Corp'},\n '479': {'cik_str': 1564408, 'ticker': 'SNAP', 'title': 'Snap Inc'},\n '480': {'cik_str': 1445166, 'ticker': 'WEGZY', 'title': 'Weg SA'},\n '481': {'cik_str': 1757898, 'ticker': 'STE', 'title': 'STERIS plc'},\n '482': {'cik_str': 740260, 'ticker': 'VTR', 'title': 'Ventas, Inc.'},\n '483': {'cik_str': 1013462, 'ticker': 'ANSS', 'title': 'ANSYS INC'},\n '484': {'cik_str': 1243429, 'ticker': 'MT', 'title': 'ArcelorMittal'},\n '485': {'cik_str': 922224, 'ticker': 'PPL', 'title': 'PPL Corp'},\n '486': {'cik_str': 1611983,\n  'ticker': 'LBRDA',\n  'title': 'Liberty Broadband Corp'},\n '487': {'cik_str': 1403568, 'ticker': 'ULTA', 'title': 'Ulta Beauty, Inc.'},\n '488': {'cik_str': 1709048, 'ticker': 'GFS', 'title': 'GLOBALFOUNDRIES Inc.'},\n '489': {'cik_str': 1000697, 'ticker': 'WAT', 'title': 'WATERS CORP /DE/'},\n '490': {'cik_str': 36270, 'ticker': 'MTB', 'title': 'M&T BANK CORP'},\n '491': {'cik_str': 1315098, 'ticker': 'RBLX', 'title': 'Roblox Corp'},\n '492': {'cik_str': 73124, 'ticker': 'NTRS', 'title': 'NORTHERN TRUST CORP'},\n '493': {'cik_str': 1070304, 'ticker': 'IX', 'title': 'ORIX CORP'},\n '494': {'cik_str': 891103, 'ticker': 'MTCH', 'title': 'Match Group, Inc.'},\n '495': {'cik_str': 1450346,\n  'ticker': 'POAHY',\n  'title': 'Porsche Automobil Holding SE / ADR'},\n '496': {'cik_str': 912595,\n  'ticker': 'MAA',\n  'title': 'MID AMERICA APARTMENT COMMUNITIES INC.'},\n '497': {'cik_str': 1097864, 'ticker': 'ON', 'title': 'ON SEMICONDUCTOR CORP'},\n '498': {'cik_str': 926042, 'ticker': 'TTM', 'title': 'TATA MOTORS LTD/FI'},\n '499': {'cik_str': 749251, 'ticker': 'IT', 'title': 'GARTNER INC'},\n '500': {'cik_str': 811156, 'ticker': 'CMS', 'title': 'CMS ENERGY CORP'},\n '501': {'cik_str': 1659166, 'ticker': 'FTV', 'title': 'Fortive Corp'},\n '502': {'cik_str': 1697862, 'ticker': 'ARGX', 'title': 'ARGENX SE'},\n '503': {'cik_str': 1700171, 'ticker': 'ANYYY', 'title': 'Aena S.A./ADR'},\n '504': {'cik_str': 1437775, 'ticker': 'ATASY', 'title': 'Atlantia SpA'},\n '505': {'cik_str': 1546066,\n  'ticker': 'PBA',\n  'title': 'PEMBINA PIPELINE CORP'},\n '506': {'cik_str': 1097149,\n  'ticker': 'ALGN',\n  'title': 'ALIGN TECHNOLOGY INC'},\n '507': {'cik_str': 1061574, 'ticker': 'GIB', 'title': 'CGI INC'},\n '508': {'cik_str': 20286,\n  'ticker': 'CINF',\n  'title': 'CINCINNATI FINANCIAL CORP'},\n '509': {'cik_str': 1705696,\n  'ticker': 'VICI',\n  'title': 'VICI PROPERTIES INC.'},\n '510': {'cik_str': 939383,\n  'ticker': 'TSGTY',\n  'title': 'TSINGTAO BREWERY CO LTD /FI'},\n '511': {'cik_str': 1722482, 'ticker': 'AVTR', 'title': 'Avantor, Inc.'},\n '512': {'cik_str': 1748790, 'ticker': 'AMCR', 'title': 'Amcor plc'},\n '513': {'cik_str': 1130310,\n  'ticker': 'CNP',\n  'title': 'CENTERPOINT ENERGY INC'},\n '514': {'cik_str': 40987, 'ticker': 'GPC', 'title': 'GENUINE PARTS CO'},\n '515': {'cik_str': 1014473, 'ticker': 'VRSN', 'title': 'VERISIGN INC/CA'},\n '516': {'cik_str': 63271, 'ticker': 'PCRFY', 'title': 'PANASONIC Corp'},\n '517': {'cik_str': 1121788, 'ticker': 'GRMN', 'title': 'GARMIN LTD'},\n '518': {'cik_str': 1396009, 'ticker': 'VMC', 'title': 'Vulcan Materials CO'},\n '519': {'cik_str': 27904, 'ticker': 'DAL', 'title': 'DELTA AIR LINES, INC.'},\n '520': {'cik_str': 912593, 'ticker': 'SUI', 'title': 'SUN COMMUNITIES INC'},\n '521': {'cik_str': 313216,\n  'ticker': 'PHG',\n  'title': 'KONINKLIJKE PHILIPS NV'},\n '522': {'cik_str': 1639920,\n  'ticker': 'SPOT',\n  'title': 'Spotify Technology S.A.'},\n '523': {'cik_str': 1335258,\n  'ticker': 'LYV',\n  'title': 'Live Nation Entertainment, Inc.'},\n '524': {'cik_str': 1321655,\n  'ticker': 'PLTR',\n  'title': 'Palantir Technologies Inc.'},\n '525': {'cik_str': 1634997, 'ticker': 'AGR', 'title': 'Avangrid, Inc.'},\n '526': {'cik_str': 916076,\n  'ticker': 'MLM',\n  'title': 'MARTIN MARIETTA MATERIALS INC'},\n '527': {'cik_str': 720005,\n  'ticker': 'RJF',\n  'title': 'RAYMOND JAMES FINANCIAL INC'},\n '528': {'cik_str': 1802768, 'ticker': 'RPRX', 'title': 'Royalty Pharma plc'},\n '529': {'cik_str': 1492426,\n  'ticker': 'HZNP',\n  'title': 'Horizon Therapeutics Public Ltd Co'},\n '530': {'cik_str': 1596783, 'ticker': 'CTLT', 'title': 'Catalent, Inc.'},\n '531': {'cik_str': 1324404,\n  'ticker': 'CF',\n  'title': 'CF Industries Holdings, Inc.'},\n '532': {'cik_str': 1754301, 'ticker': 'FOXA', 'title': 'Fox Corp'},\n '533': {'cik_str': 31791, 'ticker': 'PKI', 'title': 'PERKINELMER INC'},\n '534': {'cik_str': 1281761,\n  'ticker': 'RF',\n  'title': 'REGIONS FINANCIAL CORP'},\n '535': {'cik_str': 1096343, 'ticker': 'MKL', 'title': 'MARKEL CORP'},\n '536': {'cik_str': 1691493, 'ticker': 'NU', 'title': 'Nu Holdings Ltd.'},\n '537': {'cik_str': 1050915,\n  'ticker': 'PWR',\n  'title': 'QUANTA SERVICES, INC.'},\n '538': {'cik_str': 1126328,\n  'ticker': 'PFG',\n  'title': 'PRINCIPAL FINANCIAL GROUP INC'},\n '539': {'cik_str': 1441816, 'ticker': 'MDB', 'title': 'MongoDB, Inc.'},\n '540': {'cik_str': 811250,\n  'ticker': 'HLDCY',\n  'title': 'HENDERSON LAND DEVELOPMENT COMPANY LTD /FI'},\n '541': {'cik_str': 1455967,\n  'ticker': 'PTAIY',\n  'title': 'PT Astra International Tbk / ADR'},\n '542': {'cik_str': 49196,\n  'ticker': 'HBAN',\n  'title': 'HUNTINGTON BANCSHARES INC /MD/'},\n '543': {'cik_str': 947484,\n  'ticker': 'ACGL',\n  'title': 'ARCH CAPITAL GROUP LTD.'},\n '544': {'cik_str': 1651308, 'ticker': 'BGNE', 'title': 'BeiGene, Ltd.'},\n '545': {'cik_str': 1178670,\n  'ticker': 'ALNY',\n  'title': 'ALNYLAM PHARMACEUTICALS, INC.'},\n '546': {'cik_str': 1159508,\n  'ticker': 'DB',\n  'title': 'DEUTSCHE BANK AKTIENGESELLSCHAFT'},\n '547': {'cik_str': 1269238, 'ticker': 'TCOM', 'title': 'Trip.com Group Ltd'},\n '548': {'cik_str': 1094285,\n  'ticker': 'TDY',\n  'title': 'TELEDYNE TECHNOLOGIES INC'},\n '549': {'cik_str': 1067701, 'ticker': 'URI', 'title': 'UNITED RENTALS, INC.'},\n '550': {'cik_str': 21076, 'ticker': 'CLX', 'title': 'CLOROX CO /DE/'},\n '551': {'cik_str': 859737, 'ticker': 'HOLX', 'title': 'HOLOGIC INC'},\n '552': {'cik_str': 29905, 'ticker': 'DOV', 'title': 'DOVER Corp'},\n '553': {'cik_str': 101778, 'ticker': 'MRO', 'title': 'MARATHON OIL CORP'},\n '554': {'cik_str': 93556,\n  'ticker': 'SWK',\n  'title': 'STANLEY BLACK & DECKER, INC.'},\n '555': {'cik_str': 1590955,\n  'ticker': 'PAYC',\n  'title': 'Paycom Software, Inc.'},\n '556': {'cik_str': 1437771, 'ticker': 'SNMRY', 'title': 'Snam Rete Gas SpA'},\n '557': {'cik_str': 1285785, 'ticker': 'MOS', 'title': 'MOSAIC CO'},\n '558': {'cik_str': 1041792, 'ticker': 'ELP', 'title': 'ENERGY CO OF PARANA'},\n '559': {'cik_str': 1175454,\n  'ticker': 'FLT',\n  'title': 'FLEETCOR TECHNOLOGIES INC'},\n '560': {'cik_str': 920522,\n  'ticker': 'ESS',\n  'title': 'ESSEX PROPERTY TRUST, INC.'},\n '561': {'cik_str': 103379, 'ticker': 'VFC', 'title': 'V F CORP'},\n '562': {'cik_str': 1060955, 'ticker': 'ICLR', 'title': 'ICON PLC'},\n '563': {'cik_str': 1699150, 'ticker': 'IR', 'title': 'Ingersoll Rand Inc.'},\n '564': {'cik_str': 84839, 'ticker': 'ROL', 'title': 'ROLLINS INC'},\n '565': {'cik_str': 879169, 'ticker': 'INCY', 'title': 'INCYTE CORP'},\n '566': {'cik_str': 1352010, 'ticker': 'EPAM', 'title': 'EPAM Systems, Inc.'},\n '567': {'cik_str': 1383312,\n  'ticker': 'BR',\n  'title': 'BROADRIDGE FINANCIAL SOLUTIONS, INC.'},\n '568': {'cik_str': 1495686,\n  'ticker': 'ZSHGY',\n  'title': 'Zhongsheng Group Holdings Limited/ADR/'},\n '569': {'cik_str': 46619, 'ticker': 'HEI', 'title': 'HEICO CORP'},\n '570': {'cik_str': 1280452,\n  'ticker': 'MPWR',\n  'title': 'MONOLITHIC POWER SYSTEMS INC'},\n '571': {'cik_str': 728535,\n  'ticker': 'JBHT',\n  'title': 'HUNT J B TRANSPORT SERVICES INC'},\n '572': {'cik_str': 749098,\n  'ticker': 'MGA',\n  'title': 'MAGNA INTERNATIONAL INC'},\n '573': {'cik_str': 1022079,\n  'ticker': 'DGX',\n  'title': 'QUEST DIAGNOSTICS INC'},\n '574': {'cik_str': 1645590,\n  'ticker': 'HPE',\n  'title': 'Hewlett Packard Enterprise Co'},\n '575': {'cik_str': 79282, 'ticker': 'BRO', 'title': 'BROWN & BROWN, INC.'},\n '576': {'cik_str': 1323404,\n  'ticker': 'WPM',\n  'title': 'Wheaton Precious Metals Corp.'},\n '577': {'cik_str': 23217, 'ticker': 'CAG', 'title': 'CONAGRA BRANDS INC.'},\n '578': {'cik_str': 746515,\n  'ticker': 'EXPD',\n  'title': 'EXPEDITORS INTERNATIONAL OF WASHINGTON INC'},\n '579': {'cik_str': 1179929,\n  'ticker': 'MOH',\n  'title': 'MOLINA HEALTHCARE, INC.'},\n '580': {'cik_str': 1015922,\n  'ticker': 'CHKP',\n  'title': 'CHECK POINT SOFTWARE TECHNOLOGIES LTD'},\n '581': {'cik_str': 52988,\n  'ticker': 'J',\n  'title': 'JACOBS ENGINEERING GROUP INC /DE/'},\n '582': {'cik_str': 91576, 'ticker': 'KEY', 'title': 'KEYCORP /NEW/'},\n '583': {'cik_str': 51434,\n  'ticker': 'IP',\n  'title': 'INTERNATIONAL PAPER CO /NEW/'},\n '584': {'cik_str': 1618756,\n  'ticker': 'QSR',\n  'title': 'Restaurant Brands International Inc.'},\n '585': {'cik_str': 1033767,\n  'ticker': 'UMC',\n  'title': 'UNITED MICROELECTRONICS CORP'},\n '586': {'cik_str': 1477333, 'ticker': 'NET', 'title': 'Cloudflare, Inc.'},\n '587': {'cik_str': 764478, 'ticker': 'BBY', 'title': 'BEST BUY CO INC'},\n '588': {'cik_str': 877212,\n  'ticker': 'ZBRA',\n  'title': 'ZEBRA TECHNOLOGIES CORP'},\n '589': {'cik_str': 1758730, 'ticker': 'TW', 'title': 'Tradeweb Markets Inc.'},\n '590': {'cik_str': 1011218, 'ticker': 'SWMAY', 'title': 'SWEDISH MATCH CORP'},\n '591': {'cik_str': 886986, 'ticker': 'TECK', 'title': 'TECK RESOURCES LTD'},\n '592': {'cik_str': 1567094, 'ticker': 'CNHI', 'title': 'CNH Industrial N.V.'},\n '593': {'cik_str': 711404,\n  'ticker': 'COO',\n  'title': 'COOPER COMPANIES, INC.'},\n '594': {'cik_str': 1552033, 'ticker': 'TRU', 'title': 'TransUnion'},\n '595': {'cik_str': 1041668,\n  'ticker': 'ZNH',\n  'title': 'CHINA SOUTHERN AIRLINES CO LTD'},\n '596': {'cik_str': 1601712, 'ticker': 'SYF', 'title': 'Synchrony Financial'},\n '597': {'cik_str': 1145197, 'ticker': 'PODD', 'title': 'INSULET CORP'},\n '598': {'cik_str': 1048477,\n  'ticker': 'BMRN',\n  'title': 'BIOMARIN PHARMACEUTICAL INC'},\n '599': {'cik_str': 1038683,\n  'ticker': 'RYAAY',\n  'title': 'RYANAIR HOLDINGS PLC'},\n '600': {'cik_str': 1766502, 'ticker': 'CHWY', 'title': 'Chewy, Inc.'},\n '601': {'cik_str': 1025378, 'ticker': 'WPC', 'title': 'W. P. Carey Inc.'},\n '602': {'cik_str': 943452,\n  'ticker': 'WAB',\n  'title': 'WESTINGHOUSE AIR BRAKE TECHNOLOGIES CORP'},\n '603': {'cik_str': 1669414,\n  'ticker': 'SMPNY',\n  'title': 'Sompo Japan Nipponkoa Holdings, Inc./ADR'},\n '604': {'cik_str': 1711269, 'ticker': 'EVRG', 'title': 'Evergy, Inc.'},\n '605': {'cik_str': 759944,\n  'ticker': 'CFG',\n  'title': 'CITIZENS FINANCIAL GROUP INC/RI'},\n '606': {'cik_str': 1137789,\n  'ticker': 'STX',\n  'title': 'Seagate Technology Holdings plc'},\n '607': {'cik_str': 1511737, 'ticker': 'UI', 'title': 'Ubiquiti Inc.'},\n '608': {'cik_str': 1816007, 'ticker': 'LU', 'title': 'Lufax Holding Ltd'},\n '609': {'cik_str': 731802, 'ticker': 'ATO', 'title': 'ATMOS ENERGY CORP'},\n '610': {'cik_str': 60086, 'ticker': 'L', 'title': 'LOEWS CORP'},\n '611': {'cik_str': 1447669, 'ticker': 'TWLO', 'title': 'TWILIO INC'},\n '612': {'cik_str': 1066119,\n  'ticker': 'VIV',\n  'title': 'TELEFONICA BRASIL S.A.'},\n '613': {'cik_str': 1805284,\n  'ticker': 'RKT',\n  'title': 'Rocket Companies, Inc.'},\n '614': {'cik_str': 4127,\n  'ticker': 'SWKS',\n  'title': 'SKYWORKS SOLUTIONS, INC.'},\n '615': {'cik_str': 1190723, 'ticker': 'TS', 'title': 'TENARIS SA'},\n '616': {'cik_str': 352541, 'ticker': 'LNT', 'title': 'ALLIANT ENERGY CORP'},\n '617': {'cik_str': 12208,\n  'ticker': 'BIO',\n  'title': 'BIO-RAD LABORATORIES, INC.'},\n '618': {'cik_str': 1170010, 'ticker': 'KMX', 'title': 'CARMAX INC'},\n '619': {'cik_str': 1086222,\n  'ticker': 'AKAM',\n  'title': 'AKAMAI TECHNOLOGIES INC'},\n '620': {'cik_str': 721371, 'ticker': 'CAH', 'title': 'CARDINAL HEALTH INC'},\n '621': {'cik_str': 1402436,\n  'ticker': 'SSNC',\n  'title': 'SS&C Technologies Holdings Inc'},\n '622': {'cik_str': 1263043,\n  'ticker': 'SHG',\n  'title': 'SHINHAN FINANCIAL GROUP CO LTD'},\n '623': {'cik_str': 1660134, 'ticker': 'OKTA', 'title': 'Okta, Inc.'},\n '624': {'cik_str': 1013237,\n  'ticker': 'FDS',\n  'title': 'FACTSET RESEARCH SYSTEMS INC'},\n '625': {'cik_str': 940944,\n  'ticker': 'DRI',\n  'title': 'DARDEN RESTAURANTS INC'},\n '626': {'cik_str': 932872,\n  'ticker': 'SJR',\n  'title': 'SHAW COMMUNICATIONS INC'},\n '627': {'cik_str': 1404655, 'ticker': 'HUBS', 'title': 'HUBSPOT INC'},\n '628': {'cik_str': 1333141,\n  'ticker': 'FMS',\n  'title': 'Fresenius Medical Care AG & Co. KGaA'},\n '629': {'cik_str': 1286681, 'ticker': 'DPZ', 'title': 'DOMINOS PIZZA INC'},\n '630': {'cik_str': 16732, 'ticker': 'CPB', 'title': 'CAMPBELL SOUP CO'},\n '631': {'cik_str': 1324424, 'ticker': 'EXPE', 'title': 'Expedia Group, Inc.'},\n '632': {'cik_str': 1353283, 'ticker': 'SPLK', 'title': 'SPLUNK INC'},\n '633': {'cik_str': 1527249, 'ticker': 'PRDSY', 'title': 'Prada S.p.A./ADR'},\n '634': {'cik_str': 864749, 'ticker': 'TRMB', 'title': 'TRIMBLE INC.'},\n '635': {'cik_str': 1397911,\n  'ticker': 'LPLA',\n  'title': 'LPL Financial Holdings Inc.'},\n '636': {'cik_str': 906163, 'ticker': 'NVR', 'title': 'NVR INC'},\n '637': {'cik_str': 1419612,\n  'ticker': 'SEDG',\n  'title': 'SOLAREDGE TECHNOLOGIES, INC.'},\n '638': {'cik_str': 1065696, 'ticker': 'LKQ', 'title': 'LKQ CORP'},\n '639': {'cik_str': 1445930,\n  'ticker': 'KB',\n  'title': 'KB Financial Group Inc.'},\n '640': {'cik_str': 946581,\n  'ticker': 'TTWO',\n  'title': 'TAKE TWO INTERACTIVE SOFTWARE INC'},\n '641': {'cik_str': 1336920,\n  'ticker': 'LDOS',\n  'title': 'Leidos Holdings, Inc.'},\n '642': {'cik_str': 74208, 'ticker': 'UDR', 'title': 'UDR, Inc.'},\n '643': {'cik_str': 765880,\n  'ticker': 'PEAK',\n  'title': 'HEALTHPEAK PROPERTIES, INC.'},\n '644': {'cik_str': 874761, 'ticker': 'AES', 'title': 'AES CORP'},\n '645': {'cik_str': 1020569, 'ticker': 'IRM', 'title': 'IRON MOUNTAIN INC'},\n '646': {'cik_str': 915191,\n  'ticker': 'FRFHF',\n  'title': 'FAIRFAX FINANCIAL HOLDINGS LTD/ CAN'},\n '647': {'cik_str': 91419, 'ticker': 'SJM', 'title': 'J M SMUCKER Co'},\n '648': {'cik_str': 1524472, 'ticker': 'XYL', 'title': 'Xylem Inc.'},\n '649': {'cik_str': 1037540,\n  'ticker': 'BXP',\n  'title': 'BOSTON PROPERTIES INC'},\n '650': {'cik_str': 945841, 'ticker': 'POOL', 'title': 'POOL CORP'},\n '651': {'cik_str': 1438077,\n  'ticker': 'JRONY',\n  'title': 'Jeronimo Martins SGPS SA'},\n '652': {'cik_str': 789570,\n  'ticker': 'MGM',\n  'title': 'MGM Resorts International'},\n '653': {'cik_str': 97210, 'ticker': 'TER', 'title': 'TERADYNE, INC'},\n '654': {'cik_str': 1389170,\n  'ticker': 'TRGP',\n  'title': 'Targa Resources Corp.'},\n '655': {'cik_str': 832101, 'ticker': 'IEX', 'title': 'IDEX CORP /DE/'},\n '656': {'cik_str': 1002047, 'ticker': 'NTAP', 'title': 'NetApp, Inc.'},\n '657': {'cik_str': 906345, 'ticker': 'CPT', 'title': 'CAMDEN PROPERTY TRUST'},\n '658': {'cik_str': 842023, 'ticker': 'TECH', 'title': 'BIO-TECHNE Corp'},\n '659': {'cik_str': 314590, 'ticker': 'SSL', 'title': 'SASOL LTD'},\n '660': {'cik_str': 1474735,\n  'ticker': 'GNRC',\n  'title': 'GENERAC HOLDINGS INC.'},\n '661': {'cik_str': 860731,\n  'ticker': 'TYL',\n  'title': 'TYLER TECHNOLOGIES INC'},\n '662': {'cik_str': 29989, 'ticker': 'OMC', 'title': 'OMNICOM GROUP INC.'},\n '663': {'cik_str': 1439124,\n  'ticker': 'EBR',\n  'title': 'BRAZILIAN ELECTRIC POWER CO'},\n '664': {'cik_str': 1794515,\n  'ticker': 'ZI',\n  'title': 'ZoomInfo Technologies Inc.'},\n '665': {'cik_str': 779152,\n  'ticker': 'JKHY',\n  'title': 'HENRY JACK & ASSOCIATES INC'},\n '666': {'cik_str': 1560385, 'ticker': 'LSXMA', 'title': 'Liberty Media Corp'},\n '667': {'cik_str': 1159510,\n  'ticker': 'CS',\n  'title': 'CREDIT SUISSE GROUP AG'},\n '668': {'cik_str': 37785, 'ticker': 'FMC', 'title': 'FMC CORP'},\n '669': {'cik_str': 8818, 'ticker': 'AVY', 'title': 'Avery Dennison Corp'},\n '670': {'cik_str': 4281, 'ticker': 'HWM', 'title': 'Howmet Aerospace Inc.'},\n '671': {'cik_str': 889132, 'ticker': 'PKX', 'title': 'POSCO HOLDINGS INC.'},\n '672': {'cik_str': 106040, 'ticker': 'WDC', 'title': 'WESTERN DIGITAL CORP'},\n '673': {'cik_str': 813762,\n  'ticker': 'IEP',\n  'title': 'ICAHN ENTERPRISES L.P.'},\n '674': {'cik_str': 217346, 'ticker': 'TXT', 'title': 'TEXTRON INC'},\n '675': {'cik_str': 1043277,\n  'ticker': 'CHRW',\n  'title': 'C. H. ROBINSON WORLDWIDE, INC.'},\n '676': {'cik_str': 895417,\n  'ticker': 'ELS',\n  'title': 'EQUITY LIFESTYLE PROPERTIES INC'},\n '677': {'cik_str': 75677,\n  'ticker': 'PKG',\n  'title': 'PACKAGING CORP OF AMERICA'},\n '678': {'cik_str': 1022671, 'ticker': 'STLD', 'title': 'STEEL DYNAMICS INC'},\n '679': {'cik_str': 1751008, 'ticker': 'APP', 'title': 'AppLovin Corp'},\n '680': {'cik_str': 1030475,\n  'ticker': 'CEA',\n  'title': 'CHINA EASTERN AIRLINES CORP LTD'},\n '681': {'cik_str': 849399, 'ticker': 'NLOK', 'title': 'NortonLifeLock Inc.'},\n '682': {'cik_str': 1792044, 'ticker': 'VTRS', 'title': 'Viatris Inc'},\n '683': {'cik_str': 33213, 'ticker': 'EQT', 'title': 'EQT Corp'},\n '684': {'cik_str': 1646972,\n  'ticker': 'ACI',\n  'title': 'Albertsons Companies, Inc.'},\n '685': {'cik_str': 909327, 'ticker': 'SUZ', 'title': 'Suzano S.A.'},\n '686': {'cik_str': 1679788,\n  'ticker': 'COIN',\n  'title': 'Coinbase Global, Inc.'},\n '687': {'cik_str': 1897982,\n  'ticker': 'AZPN',\n  'title': 'Aspen Technology, Inc.'},\n '688': {'cik_str': 1144519, 'ticker': 'BG', 'title': 'BUNGELTD'},\n '689': {'cik_str': 1483994, 'ticker': 'HTHT', 'title': 'Huazhu Group Ltd'},\n '690': {'cik_str': 1319161,\n  'ticker': 'WMG',\n  'title': 'Warner Music Group Corp.'},\n '691': {'cik_str': 1262823, 'ticker': 'WLK', 'title': 'WESTLAKE CORP'},\n '692': {'cik_str': 857005, 'ticker': 'PTC', 'title': 'PTC INC.'},\n '693': {'cik_str': 790051,\n  'ticker': 'CSL',\n  'title': 'CARLISLE COMPANIES INC'},\n '694': {'cik_str': 1306830, 'ticker': 'CE', 'title': 'Celanese Corp'},\n '695': {'cik_str': 62996, 'ticker': 'MAS', 'title': 'MASCO CORP /DE/'},\n '696': {'cik_str': 879101, 'ticker': 'KIM', 'title': 'KIMCO REALTY CORP'},\n '697': {'cik_str': 1443646,\n  'ticker': 'BAH',\n  'title': 'Booz Allen Hamilton Holding Corp'},\n '698': {'cik_str': 845982, 'ticker': 'SNN', 'title': 'SMITH & NEPHEW PLC'},\n '699': {'cik_str': 896076,\n  'ticker': 'MGDDY',\n  'title': 'MICHELIN COMPAGNIE GENERALE DES ETABLISSEMENTS MICHELIN /FI'},\n '700': {'cik_str': 11544, 'ticker': 'WRB', 'title': 'BERKLEY W R CORP'},\n '701': {'cik_str': 21175, 'ticker': 'CNA', 'title': 'CNA FINANCIAL CORP'},\n '702': {'cik_str': 1374310,\n  'ticker': 'CBOE',\n  'title': 'Cboe Global Markets, Inc.'},\n '703': {'cik_str': 1003935, 'ticker': 'NICE', 'title': 'NICE Ltd.'},\n '704': {'cik_str': 877890, 'ticker': 'CTXS', 'title': 'CITRIX SYSTEMS INC'},\n '705': {'cik_str': 1506293, 'ticker': 'PINS', 'title': 'PINTEREST, INC.'},\n '706': {'cik_str': 1261333, 'ticker': 'DOCU', 'title': 'DOCUSIGN, INC.'},\n '707': {'cik_str': 24545,\n  'ticker': 'TAP',\n  'title': 'MOLSON COORS BEVERAGE CO'},\n '708': {'cik_str': 1042046,\n  'ticker': 'AFG',\n  'title': 'AMERICAN FINANCIAL GROUP INC'},\n '709': {'cik_str': 1127248, 'ticker': 'EMRAF', 'title': 'EMERA INC'},\n '710': {'cik_str': 1487533,\n  'ticker': 'JXHLY',\n  'title': 'ENEOS Holdings, Inc./ADR'},\n '711': {'cik_str': 1438569, 'ticker': 'GRFS', 'title': 'Grifols SA'},\n '712': {'cik_str': 78128,\n  'ticker': 'WTRG',\n  'title': 'Essential Utilities, Inc.'},\n '713': {'cik_str': 1101302, 'ticker': 'ENTG', 'title': 'ENTEGRIS INC'},\n '714': {'cik_str': 915389, 'ticker': 'EMN', 'title': 'EASTMAN CHEMICAL CO'},\n '715': {'cik_str': 96943, 'ticker': 'TFX', 'title': 'TELEFLEX INC'},\n '716': {'cik_str': 1406234,\n  'ticker': 'BIP',\n  'title': 'Brookfield Infrastructure Partners L.P.'},\n '717': {'cik_str': 1219601, 'ticker': 'CCK', 'title': 'CROWN HOLDINGS INC'},\n '718': {'cik_str': 1562401,\n  'ticker': 'AMH',\n  'title': 'American Homes 4 Rent'},\n '719': {'cik_str': 40729, 'ticker': 'ALLY', 'title': 'Ally Financial Inc.'},\n '720': {'cik_str': 910631,\n  'ticker': 'KOF',\n  'title': 'COCA COLA FEMSA SAB DE CV'},\n '721': {'cik_str': 38777, 'ticker': 'BEN', 'title': 'FRANKLIN RESOURCES INC'},\n '722': {'cik_str': 1811074,\n  'ticker': 'TPL',\n  'title': 'Texas Pacific Land Corp'},\n '723': {'cik_str': 1111711, 'ticker': 'NI', 'title': 'NISOURCE INC.'},\n '724': {'cik_str': 100517,\n  'ticker': 'UAL',\n  'title': 'United Airlines Holdings, Inc.'},\n '725': {'cik_str': 72331, 'ticker': 'NDSN', 'title': 'NORDSON CORP'},\n '726': {'cik_str': 36966, 'ticker': 'FHN', 'title': 'FIRST HORIZON CORP'},\n '727': {'cik_str': 1609711, 'ticker': 'GDDY', 'title': 'GoDaddy Inc.'},\n '728': {'cik_str': 1639327, 'ticker': 'GSHN', 'title': 'Gushen, Inc'},\n '729': {'cik_str': 1570585, 'ticker': 'LBTYA', 'title': 'Liberty Global plc'},\n '730': {'cik_str': 1773383, 'ticker': 'DT', 'title': 'Dynatrace, Inc.'},\n '731': {'cik_str': 1786352,\n  'ticker': 'BILL',\n  'title': 'Bill.com Holdings, Inc.'},\n '732': {'cik_str': 806968, 'ticker': 'WPP', 'title': 'WPP plc'},\n '733': {'cik_str': 2809, 'ticker': 'AEM', 'title': 'AGNICO EAGLE MINES LTD'},\n '734': {'cik_str': 815094, 'ticker': 'ABMD', 'title': 'ABIOMED INC'},\n '735': {'cik_str': 1575965,\n  'ticker': 'GLPI',\n  'title': 'Gaming & Leisure Properties, Inc.'},\n '736': {'cik_str': 941221, 'ticker': 'ICL', 'title': 'ICL Group Ltd.'},\n '737': {'cik_str': 89089,\n  'ticker': 'SCI',\n  'title': 'SERVICE CORP INTERNATIONAL'},\n '738': {'cik_str': 887225,\n  'ticker': 'KEP',\n  'title': 'KOREA ELECTRIC POWER CORP'},\n '739': {'cik_str': 1527166, 'ticker': 'CG', 'title': 'Carlyle Group Inc.'},\n '740': {'cik_str': 775368, 'ticker': 'Y', 'title': 'ALLEGHANY CORP /DE'},\n '741': {'cik_str': 18926,\n  'ticker': 'LUMN',\n  'title': 'Lumen Technologies, Inc.'},\n '742': {'cik_str': 1792580, 'ticker': 'OVV', 'title': 'Ovintiv Inc.'},\n '743': {'cik_str': 1428439, 'ticker': 'ROKU', 'title': 'ROKU, INC'},\n '744': {'cik_str': 1692819, 'ticker': 'VST', 'title': 'Vistra Corp.'},\n '745': {'cik_str': 1842827, 'ticker': 'BZ', 'title': 'Kanzhun Ltd'},\n '746': {'cik_str': 932477, 'ticker': 'LNVGY', 'title': 'LENOVO GROUP LTD'},\n '747': {'cik_str': 46080, 'ticker': 'HAS', 'title': 'HASBRO, INC.'},\n '748': {'cik_str': 1070750,\n  'ticker': 'HST',\n  'title': 'HOST HOTELS & RESORTS, INC.'},\n '749': {'cik_str': 1163653, 'ticker': 'NMR', 'title': 'NOMURA HOLDINGS INC'},\n '750': {'cik_str': 1095073, 'ticker': 'RE', 'title': 'EVEREST RE GROUP LTD'},\n '751': {'cik_str': 814547, 'ticker': 'FICO', 'title': 'FAIR ISAAC CORP'},\n '752': {'cik_str': 1288784, 'ticker': 'SBNY', 'title': 'Signature Bank Corp'},\n '753': {'cik_str': 1100682,\n  'ticker': 'CRL',\n  'title': 'CHARLES RIVER LABORATORIES INTERNATIONAL, INC.'},\n '754': {'cik_str': 748954, 'ticker': 'ATLKY', 'title': 'ATLAS COPCO AB'},\n '755': {'cik_str': 1316835,\n  'ticker': 'BLDR',\n  'title': 'Builders FirstSource, Inc.'},\n '756': {'cik_str': 1445475, 'ticker': 'BOUYY', 'title': 'Bouygues SA'},\n '757': {'cik_str': 1810806, 'ticker': 'U', 'title': 'Unity Software Inc.'},\n '758': {'cik_str': 51644,\n  'ticker': 'IPG',\n  'title': 'INTERPUBLIC GROUP OF COMPANIES, INC.'},\n '759': {'cik_str': 1015820, 'ticker': 'QGEN', 'title': 'QIAGEN N.V.'},\n '760': {'cik_str': 1158449,\n  'ticker': 'AAP',\n  'title': 'ADVANCE AUTO PARTS INC'},\n '761': {'cik_str': 1504122,\n  'ticker': 'PTBRY',\n  'title': 'PT Bank Negara Indonesia (Persero) Tbk/ADR'},\n '762': {'cik_str': 1331875,\n  'ticker': 'FNF',\n  'title': 'Fidelity National Financial, Inc.'},\n '763': {'cik_str': 1082554,\n  'ticker': 'UTHR',\n  'title': 'UNITED THERAPEUTICS Corp'},\n '764': {'cik_str': 861884,\n  'ticker': 'RS',\n  'title': 'RELIANCE STEEL & ALUMINUM CO'},\n '765': {'cik_str': 1122411,\n  'ticker': 'ASX',\n  'title': 'ASE Technology Holding Co., Ltd.'},\n '766': {'cik_str': 1000228, 'ticker': 'HSIC', 'title': 'HENRY SCHEIN INC'},\n '767': {'cik_str': 822416, 'ticker': 'PHM', 'title': 'PULTEGROUP INC/MI/'},\n '768': {'cik_str': 1333986,\n  'ticker': 'EQH',\n  'title': 'Equitable Holdings, Inc.'},\n '769': {'cik_str': 91440, 'ticker': 'SNA', 'title': 'Snap-on Inc'},\n '770': {'cik_str': 1732845, 'ticker': 'WRK', 'title': 'WestRock Co'},\n '771': {'cik_str': 1062579, 'ticker': 'DOX', 'title': 'AMDOCS LTD'},\n '772': {'cik_str': 1127055, 'ticker': 'VIVHY', 'title': 'VIVENDI'},\n '773': {'cik_str': 1679273,\n  'ticker': 'LW',\n  'title': 'Lamb Weston Holdings, Inc.'},\n '774': {'cik_str': 110621,\n  'ticker': 'RPM',\n  'title': 'RPM INTERNATIONAL INC/DE/'},\n '775': {'cik_str': 1002638, 'ticker': 'OTEX', 'title': 'OPEN TEXT CORP'},\n '776': {'cik_str': 1158838, 'ticker': 'ATEYY', 'title': 'ADVANTEST CORP'},\n '777': {'cik_str': 910606, 'ticker': 'REG', 'title': 'REGENCY CENTERS CORP'},\n '778': {'cik_str': 1289419, 'ticker': 'MORN', 'title': 'Morningstar, Inc.'},\n '779': {'cik_str': 1126975,\n  'ticker': 'MMP',\n  'title': 'Magellan Midstream Partners, L.P.'},\n '780': {'cik_str': 815097, 'ticker': 'CCL', 'title': 'CARNIVAL CORP'},\n '781': {'cik_str': 1627014, 'ticker': 'BKI', 'title': 'Black Knight, Inc.'},\n '782': {'cik_str': 1723690, 'ticker': 'BILI', 'title': 'Bilibili Inc.'},\n '783': {'cik_str': 922621, 'ticker': 'ERIE', 'title': 'ERIE INDEMNITY CO'},\n '784': {'cik_str': 1161611,\n  'ticker': 'ACH',\n  'title': 'ALUMINUM CORP OF CHINA LTD'},\n '785': {'cik_str': 1604778, 'ticker': 'QRVO', 'title': 'Qorvo, Inc.'},\n '786': {'cik_str': 916540,\n  'ticker': 'DAR',\n  'title': 'DARLING INGREDIENTS INC.'},\n '787': {'cik_str': 320335, 'ticker': 'GL', 'title': 'GLOBE LIFE INC.'},\n '788': {'cik_str': 1370637, 'ticker': 'ETSY', 'title': 'ETSY INC'},\n '789': {'cik_str': 42888, 'ticker': 'GGG', 'title': 'GRACO INC'},\n '790': {'cik_str': 1027664, 'ticker': 'ESLT', 'title': 'ELBIT SYSTEMS LTD'},\n '791': {'cik_str': 1378789, 'ticker': 'AER', 'title': 'AerCap Holdings N.V.'},\n '792': {'cik_str': 1533945, 'ticker': 'BNTGY', 'title': 'Brenntag AG/ADR'},\n '793': {'cik_str': 1159152,\n  'ticker': 'JHX',\n  'title': 'James Hardie Industries plc'},\n '794': {'cik_str': 1176948,\n  'ticker': 'ARES',\n  'title': 'Ares Management Corp'},\n '795': {'cik_str': 1423902,\n  'ticker': 'WES',\n  'title': 'Western Midstream Partners, LP'},\n '796': {'cik_str': 1787425, 'ticker': 'XP', 'title': 'XP Inc.'},\n '797': {'cik_str': 1267238, 'ticker': 'AIZ', 'title': 'ASSURANT, INC.'},\n '798': {'cik_str': 858446,\n  'ticker': 'IHG',\n  'title': 'INTERCONTINENTAL HOTELS GROUP PLC /NEW/'},\n '799': {'cik_str': 1093691, 'ticker': 'PLUG', 'title': 'PLUG POWER INC'},\n '800': {'cik_str': 48898, 'ticker': 'HUBB', 'title': 'HUBBELL INC'},\n '801': {'cik_str': 1734722, 'ticker': 'PATH', 'title': 'UiPath, Inc.'},\n '802': {'cik_str': 1278021,\n  'ticker': 'MKTX',\n  'title': 'MARKETAXESS HOLDINGS INC'},\n '803': {'cik_str': 1591698,\n  'ticker': 'PCTY',\n  'title': 'Paylocity Holding Corp'},\n '804': {'cik_str': 1739104,\n  'ticker': 'ELAN',\n  'title': 'Elanco Animal Health Inc'},\n '805': {'cik_str': 1232524,\n  'ticker': 'JAZZ',\n  'title': 'Jazz Pharmaceuticals plc'},\n '806': {'cik_str': 28412, 'ticker': 'CMA', 'title': 'COMERICA INC /NEW/'},\n '807': {'cik_str': 1001290, 'ticker': 'BAP', 'title': 'CREDICORP LTD'},\n '808': {'cik_str': 1327068,\n  'ticker': 'USO',\n  'title': 'United States Oil Fund, LP'},\n '809': {'cik_str': 1001082, 'ticker': 'DISH', 'title': 'DISH Network CORP'},\n '810': {'cik_str': 895126,\n  'ticker': 'CHK',\n  'title': 'CHESAPEAKE ENERGY CORP'},\n '811': {'cik_str': 1838413,\n  'ticker': 'YMM',\n  'title': 'Full Truck Alliance Co. Ltd.'},\n '812': {'cik_str': 1436794, 'ticker': 'KKOYY', 'title': 'Kesko OYJ'},\n '813': {'cik_str': 1533232,\n  'ticker': 'BEP',\n  'title': 'Brookfield Renewable Partners L.P.'},\n '814': {'cik_str': 1433270, 'ticker': 'AR', 'title': 'ANTERO RESOURCES Corp'},\n '815': {'cik_str': 1109354, 'ticker': 'BRKR', 'title': 'BRUKER CORP'},\n '816': {'cik_str': 1446597,\n  'ticker': 'DQJCY',\n  'title': 'Don Quijote Holdings Co Ltd'},\n '817': {'cik_str': 1764046, 'ticker': 'CLVT', 'title': 'CLARIVATE Plc'},\n '818': {'cik_str': 106640, 'ticker': 'WHR', 'title': 'WHIRLPOOL CORP /DE/'},\n '819': {'cik_str': 1298675, 'ticker': 'CUBE', 'title': 'CubeSmart'},\n '820': {'cik_str': 1689813,\n  'ticker': 'BHVN',\n  'title': 'Biohaven Pharmaceutical Holding Co Ltd.'},\n '821': {'cik_str': 1013871, 'ticker': 'NRG', 'title': 'NRG ENERGY, INC.'},\n '822': {'cik_str': 1031308, 'ticker': 'BSY', 'title': 'BENTLEY SYSTEMS INC'},\n '823': {'cik_str': 1125259, 'ticker': 'CUK', 'title': 'CARNIVAL PLC'},\n '824': {'cik_str': 944314, 'ticker': 'LSI', 'title': 'LIFE STORAGE, INC.'},\n '825': {'cik_str': 1326380, 'ticker': 'GME', 'title': 'GameStop Corp.'},\n '826': {'cik_str': 914475,\n  'ticker': 'NBIX',\n  'title': 'NEUROCRINE BIOSCIENCES INC'},\n '827': {'cik_str': 4457, 'ticker': 'UHAL', 'title': 'AMERCO /NV/'},\n '828': {'cik_str': 1048695, 'ticker': 'FFIV', 'title': 'F5, INC.'},\n '829': {'cik_str': 1262039, 'ticker': 'FTNT', 'title': 'Fortinet, Inc.'},\n '830': {'cik_str': 1564708, 'ticker': 'NWSA', 'title': 'NEWS CORP'},\n '831': {'cik_str': 1385535,\n  'ticker': 'GLPEY',\n  'title': 'Galp Energia, SGPS, S.A.'},\n '832': {'cik_str': 1868726,\n  'ticker': 'OLPX',\n  'title': 'OLAPLEX HOLDINGS, INC.'},\n '833': {'cik_str': 105016, 'ticker': 'WSO', 'title': 'WATSCO INC'},\n '834': {'cik_str': 868857, 'ticker': 'ACM', 'title': 'AECOM'},\n '835': {'cik_str': 1287865,\n  'ticker': 'MPW',\n  'title': 'MEDICAL PROPERTIES TRUST INC'},\n '836': {'cik_str': 1069157,\n  'ticker': 'EWBC',\n  'title': 'EAST WEST BANCORP INC'},\n '837': {'cik_str': 1135951,\n  'ticker': 'RDY',\n  'title': 'DR REDDYS LABORATORIES LTD'},\n '838': {'cik_str': 1174169,\n  'ticker': 'AQN',\n  'title': 'ALGONQUIN POWER & UTILITIES CORP.'},\n '839': {'cik_str': 1579298,\n  'ticker': 'BURL',\n  'title': 'Burlington Stores, Inc.'},\n '840': {'cik_str': 1161125, 'ticker': 'BCH', 'title': 'BANK OF CHILE'},\n '841': {'cik_str': 730272, 'ticker': 'RGEN', 'title': 'REPLIGEN CORP'},\n '842': {'cik_str': 1043604,\n  'ticker': 'JNPR',\n  'title': 'JUNIPER NETWORKS INC'},\n '843': {'cik_str': 1037976,\n  'ticker': 'JLL',\n  'title': 'JONES LANG LASALLE INC'},\n '844': {'cik_str': 769218, 'ticker': 'AEG', 'title': 'AEGON NV'},\n '845': {'cik_str': 1744676,\n  'ticker': 'TME',\n  'title': 'Tencent Music Entertainment Group'},\n '846': {'cik_str': 1463172, 'ticker': 'ZEN', 'title': 'Zendesk, Inc.'},\n '847': {'cik_str': 812011, 'ticker': 'MTN', 'title': 'VAIL RESORTS INC'},\n '848': {'cik_str': 1283630,\n  'ticker': 'ACC',\n  'title': 'AMERICAN CAMPUS COMMUNITIES INC'},\n '849': {'cik_str': 884887,\n  'ticker': 'RCL',\n  'title': 'ROYAL CARIBBEAN CRUISES LTD'},\n '850': {'cik_str': 1090425,\n  'ticker': 'LAMR',\n  'title': 'LAMAR ADVERTISING CO/NEW'},\n '851': {'cik_str': 1579241, 'ticker': 'ALLE', 'title': 'Allegion plc'},\n '852': {'cik_str': 91142, 'ticker': 'AOS', 'title': 'SMITH A O CORP'},\n '853': {'cik_str': 1571283,\n  'ticker': 'REXR',\n  'title': 'Rexford Industrial Realty, Inc.'},\n '854': {'cik_str': 1855612, 'ticker': 'GRAB', 'title': 'Grab Holdings Ltd'},\n '855': {'cik_str': 1831097, 'ticker': 'AGL', 'title': 'agilon health, inc.'},\n '856': {'cik_str': 1177394, 'ticker': 'SNX', 'title': 'TD SYNNEX CORP'},\n '857': {'cik_str': 1015650, 'ticker': 'SKM', 'title': 'SK TELECOM CO LTD'},\n '858': {'cik_str': 1501585,\n  'ticker': 'HII',\n  'title': 'HUNTINGTON INGALLS INDUSTRIES, INC.'},\n '859': {'cik_str': 1043219,\n  'ticker': 'NLY',\n  'title': 'ANNALY CAPITAL MANAGEMENT INC'},\n '860': {'cik_str': 1617640, 'ticker': 'ZG', 'title': 'ZILLOW GROUP, INC.'},\n '861': {'cik_str': 1012100, 'ticker': 'SEE', 'title': 'SEALED AIR CORP/DE'},\n '862': {'cik_str': 851968, 'ticker': 'MHK', 'title': 'MOHAWK INDUSTRIES INC'},\n '863': {'cik_str': 818686,\n  'ticker': 'TEVA',\n  'title': 'TEVA PHARMACEUTICAL INDUSTRIES LTD'},\n '864': {'cik_str': 1287750, 'ticker': 'ARCC', 'title': 'ARES CAPITAL CORP'},\n '865': {'cik_str': 1821825, 'ticker': 'OGN', 'title': 'Organon & Co.'},\n '866': {'cik_str': 1009001, 'ticker': 'CCJ', 'title': 'CAMECO CORP'},\n '867': {'cik_str': 1032975,\n  'ticker': 'LOGI',\n  'title': 'LOGITECH INTERNATIONAL S.A.'},\n '868': {'cik_str': 1552653, 'ticker': 'REMYY', 'title': 'Remy Cointreau/ADR'},\n '869': {'cik_str': 1531152,\n  'ticker': 'BJ',\n  'title': \"BJ's Wholesale Club Holdings, Inc.\"},\n '870': {'cik_str': 1780232,\n  'ticker': 'GFL',\n  'title': 'GFL Environmental Inc.'},\n '871': {'cik_str': 1402388,\n  'ticker': 'WFG',\n  'title': 'WEST FRASER TIMBER CO., LTD'},\n '872': {'cik_str': 59558, 'ticker': 'LNC', 'title': 'LINCOLN NATIONAL CORP'},\n '873': {'cik_str': 1062066, 'ticker': 'ALSMY', 'title': 'ALSTOM'},\n '874': {'cik_str': 1801198, 'ticker': 'LEGN', 'title': 'Legend Biotech Corp'},\n '875': {'cik_str': 1023128, 'ticker': 'LAD', 'title': 'LITHIA MOTORS INC'},\n '876': {'cik_str': 723612,\n  'ticker': 'CAR',\n  'title': 'AVIS BUDGET GROUP, INC.'},\n '877': {'cik_str': 352915,\n  'ticker': 'UHS',\n  'title': 'UNIVERSAL HEALTH SERVICES INC'},\n '878': {'cik_str': 1450206,\n  'ticker': 'ASEKY',\n  'title': 'Aisin Seiki Co., Ltd./ADR'},\n '879': {'cik_str': 6201,\n  'ticker': 'AAL',\n  'title': 'American Airlines Group Inc.'},\n '880': {'cik_str': 1671750,\n  'ticker': 'DSCSY',\n  'title': 'Disco Corporation/ADR'},\n '881': {'cik_str': 1172724, 'ticker': 'GFI', 'title': 'GOLD FIELDS LTD'},\n '882': {'cik_str': 1116132, 'ticker': 'TPR', 'title': 'TAPESTRY, INC.'},\n '883': {'cik_str': 1492633,\n  'ticker': 'NLSN',\n  'title': 'Nielsen Holdings plc'},\n '884': {'cik_str': 927066, 'ticker': 'DVA', 'title': 'DAVITA INC.'},\n '885': {'cik_str': 764622,\n  'ticker': 'PNW',\n  'title': 'PINNACLE WEST CAPITAL CORP'},\n '886': {'cik_str': 201533,\n  'ticker': 'CMS-PB',\n  'title': 'CONSUMERS ENERGY CO'},\n '887': {'cik_str': 315213,\n  'ticker': 'RHI',\n  'title': 'ROBERT HALF INTERNATIONAL INC.'},\n '888': {'cik_str': 1675149, 'ticker': 'AA', 'title': 'Alcoa Corp'},\n '889': {'cik_str': 1519751,\n  'ticker': 'FBHS',\n  'title': 'Fortune Brands Home & Security, Inc.'},\n '890': {'cik_str': 1467623, 'ticker': 'DBX', 'title': 'DROPBOX, INC.'},\n '891': {'cik_str': 930826, 'ticker': 'SLVYY', 'title': 'SOLVAY S A /ADR/'},\n '892': {'cik_str': 884614, 'ticker': 'UGI', 'title': 'UGI CORP /PA/'},\n '893': {'cik_str': 1019849,\n  'ticker': 'PAG',\n  'title': 'PENSKE AUTOMOTIVE GROUP, INC.'},\n '894': {'cik_str': 814453, 'ticker': 'NWL', 'title': 'NEWELL BRANDS INC.'},\n '895': {'cik_str': 1468174, 'ticker': 'H', 'title': 'Hyatt Hotels Corp'},\n '896': {'cik_str': 1455863,\n  'ticker': 'COLD',\n  'title': 'AMERICOLD REALTY TRUST'},\n '897': {'cik_str': 1590895,\n  'ticker': 'CZR',\n  'title': 'Caesars Entertainment, Inc.'},\n '898': {'cik_str': 719955, 'ticker': 'WSM', 'title': 'WILLIAMS SONOMA INC'},\n '899': {'cik_str': 1749723,\n  'ticker': 'NFE',\n  'title': 'New Fortress Energy Inc.'},\n '900': {'cik_str': 100826, 'ticker': 'UELMO', 'title': 'UNION ELECTRIC CO'},\n '901': {'cik_str': 908255, 'ticker': 'BWA', 'title': 'BORGWARNER INC'},\n '902': {'cik_str': 22356,\n  'ticker': 'CBSH',\n  'title': 'COMMERCE BANCSHARES INC /MO/'},\n '903': {'cik_str': 1710583, 'ticker': 'SWCH', 'title': 'Switch, Inc.'},\n '904': {'cik_str': 1398659, 'ticker': 'G', 'title': 'Genpact LTD'},\n '905': {'cik_str': 898174,\n  'ticker': 'RGA',\n  'title': 'REINSURANCE GROUP OF AMERICA INC'},\n '906': {'cik_str': 737758, 'ticker': 'TTC', 'title': 'TORO CO'},\n '907': {'cik_str': 109380,\n  'ticker': 'ZION',\n  'title': 'ZIONS BANCORPORATION, NATIONAL ASSOCIATION /UT/'},\n '908': {'cik_str': 1021635, 'ticker': 'OGE', 'title': 'OGE ENERGY CORP.'},\n '909': {'cik_str': 1584509, 'ticker': 'ARMK', 'title': 'Aramark'},\n '910': {'cik_str': 1492691,\n  'ticker': 'KNX',\n  'title': 'Knight-Swift Transportation Holdings Inc.'},\n '911': {'cik_str': 818479, 'ticker': 'XRAY', 'title': 'DENTSPLY SIRONA Inc.'},\n '912': {'cik_str': 764065, 'ticker': 'CLF', 'title': 'CLEVELAND-CLIFFS INC.'},\n '913': {'cik_str': 1653482, 'ticker': 'GTLB', 'title': 'Gitlab Inc.'},\n '914': {'cik_str': 1645113, 'ticker': 'NVCR', 'title': 'NovoCure Ltd'},\n '915': {'cik_str': 1173382, 'ticker': 'CAE', 'title': 'CAE INC'},\n '916': {'cik_str': 1600520,\n  'ticker': 'JPXGY',\n  'title': 'Japan Exchange Group, Inc./ADR'},\n '917': {'cik_str': 1846832, 'ticker': 'DLO', 'title': 'dLocal Ltd'},\n '918': {'cik_str': 751364,\n  'ticker': 'NNN',\n  'title': 'NATIONAL RETAIL PROPERTIES, INC.'},\n '919': {'cik_str': 1632127, 'ticker': 'CABO', 'title': 'Cable One, Inc.'},\n '920': {'cik_str': 1370946, 'ticker': 'OC', 'title': 'Owens Corning'},\n '921': {'cik_str': 7536, 'ticker': 'ARW', 'title': 'ARROW ELECTRONICS INC'},\n '922': {'cik_str': 1069202,\n  'ticker': 'LII',\n  'title': 'LENNOX INTERNATIONAL INC'},\n '923': {'cik_str': 1027552,\n  'ticker': 'BSAC',\n  'title': 'BANCO SANTANDER CHILE'},\n '924': {'cik_str': 1754581, 'ticker': 'FUTU', 'title': 'Futu Holdings Ltd'},\n '925': {'cik_str': 63276, 'ticker': 'MAT', 'title': 'MATTEL INC /DE/'},\n '926': {'cik_str': 1657853,\n  'ticker': 'HTZ',\n  'title': 'HERTZ GLOBAL HOLDINGS, INC'},\n '927': {'cik_str': 1698287,\n  'ticker': 'BSMX',\n  'title': 'Banco Santander Mexico S.A., Institucion de Banca Multiple, Grupo Financiero Santander Mexico'},\n '928': {'cik_str': 77360, 'ticker': 'PNR', 'title': 'PENTAIR plc'},\n '929': {'cik_str': 851205, 'ticker': 'CGNX', 'title': 'COGNEX CORP'},\n '930': {'cik_str': 802481, 'ticker': 'PPC', 'title': 'PILGRIMS PRIDE CORP'},\n '931': {'cik_str': 82811, 'ticker': 'RRX', 'title': 'REGAL REXNORD CORP'},\n '932': {'cik_str': 1588823,\n  'ticker': 'TFII',\n  'title': 'TFI International Inc.'},\n '933': {'cik_str': 1446418,\n  'ticker': 'MTLHY',\n  'title': 'Mitsubishi Chemical Holdings Corp'},\n '934': {'cik_str': 34903,\n  'ticker': 'FRT',\n  'title': 'FEDERAL REALTY INVESTMENT TRUST'},\n '935': {'cik_str': 350894, 'ticker': 'SEIC', 'title': 'SEI INVESTMENTS CO'},\n '936': {'cik_str': 914208, 'ticker': 'IVZ', 'title': 'Invesco Ltd.'},\n '937': {'cik_str': 842162, 'ticker': 'LEA', 'title': 'LEAR CORP'},\n '938': {'cik_str': 1688568, 'ticker': 'DXC', 'title': 'DXC Technology Co'},\n '939': {'cik_str': 20212, 'ticker': 'CHDN', 'title': 'Churchill Downs Inc'},\n '940': {'cik_str': 39263,\n  'ticker': 'CFR',\n  'title': 'CULLEN/FROST BANKERS, INC.'},\n '941': {'cik_str': 880266, 'ticker': 'AGCO', 'title': 'AGCO CORP /DE'},\n '942': {'cik_str': 350698, 'ticker': 'AN', 'title': 'AUTONATION, INC.'},\n '943': {'cik_str': 1093557, 'ticker': 'DXCM', 'title': 'DEXCOM INC'},\n '944': {'cik_str': 1378992,\n  'ticker': 'BERY',\n  'title': 'BERRY GLOBAL GROUP, INC.'},\n '945': {'cik_str': 937556, 'ticker': 'MASI', 'title': 'MASIMO CORP'},\n '946': {'cik_str': 831641, 'ticker': 'TTEK', 'title': 'TETRA TECH INC'},\n '947': {'cik_str': 1212545,\n  'ticker': 'WAL',\n  'title': 'WESTERN ALLIANCE BANCORPORATION'},\n '948': {'cik_str': 1046102,\n  'ticker': 'RBA',\n  'title': 'RITCHIE BROS AUCTIONEERS INC'},\n '949': {'cik_str': 1379481,\n  'ticker': 'MDIBY',\n  'title': 'Mediobanca - Banca di Credito Finanziario SpA'},\n '950': {'cik_str': 1071371, 'ticker': 'CIB', 'title': 'BANCOLOMBIA SA'},\n '951': {'cik_str': 1610950, 'ticker': 'SYNH', 'title': 'Syneos Health, Inc.'},\n '952': {'cik_str': 1056696,\n  'ticker': 'MANH',\n  'title': 'MANHATTAN ASSOCIATES INC'},\n '953': {'cik_str': 19584, 'ticker': 'CHE', 'title': 'CHEMED CORP'},\n '954': {'cik_str': 1756497,\n  'ticker': 'CHNG',\n  'title': 'Change Healthcare Inc.'},\n '955': {'cik_str': 898293, 'ticker': 'JBL', 'title': 'JABIL INC'},\n '956': {'cik_str': 1647088,\n  'ticker': 'WSC',\n  'title': 'WillScot Mobile Mini Holdings Corp.'},\n '957': {'cik_str': 59527,\n  'ticker': 'LECO',\n  'title': 'LINCOLN ELECTRIC HOLDINGS INC'},\n '958': {'cik_str': 895419, 'ticker': 'WOLF', 'title': 'WOLFSPEED, INC.'},\n '959': {'cik_str': 1538990, 'ticker': 'STOR', 'title': 'STORE CAPITAL Corp'},\n '960': {'cik_str': 1618673,\n  'ticker': 'PFGC',\n  'title': 'Performance Food Group Co'},\n '961': {'cik_str': 1557860, 'ticker': 'GLOB', 'title': 'Globant S.A.'},\n '962': {'cik_str': 74303, 'ticker': 'OLN', 'title': 'OLIN Corp'},\n '963': {'cik_str': 1274494, 'ticker': 'FSLR', 'title': 'FIRST SOLAR, INC.'},\n '964': {'cik_str': 85535, 'ticker': 'RGLD', 'title': 'ROYAL GOLD INC'},\n '965': {'cik_str': 913144,\n  'ticker': 'RNR',\n  'title': 'RENAISSANCERE HOLDINGS LTD'},\n '966': {'cik_str': 885550,\n  'ticker': 'CACC',\n  'title': 'CREDIT ACCEPTANCE CORP'},\n '967': {'cik_str': 1725057,\n  'ticker': 'CDAY',\n  'title': 'Ceridian HCM Holding Inc.'},\n '968': {'cik_str': 1437672, 'ticker': 'PRYMY', 'title': 'Prysmian S.p.A.'},\n '969': {'cik_str': 701985,\n  'ticker': 'BBWI',\n  'title': 'Bath & Body Works, Inc.'},\n '970': {'cik_str': 1070423,\n  'ticker': 'PAA',\n  'title': 'PLAINS ALL AMERICAN PIPELINE LP'},\n '971': {'cik_str': 1073404, 'ticker': 'GGB', 'title': 'GERDAU S.A.'},\n '972': {'cik_str': 1474432, 'ticker': 'PSTG', 'title': 'Pure Storage, Inc.'},\n '973': {'cik_str': 1803599, 'ticker': 'CNXC', 'title': 'Concentrix Corp'},\n '974': {'cik_str': 1347557,\n  'ticker': 'PAC',\n  'title': 'Pacific Airport Group'},\n '975': {'cik_str': 1308547,\n  'ticker': 'DLB',\n  'title': 'Dolby Laboratories, Inc.'},\n '976': {'cik_str': 1786909,\n  'ticker': 'SBSW',\n  'title': 'Sibanye Stillwater Ltd'},\n '977': {'cik_str': 1049183, 'ticker': 'ACCYY', 'title': 'ACCOR'},\n '978': {'cik_str': 1447113,\n  'ticker': 'MIUFY',\n  'title': 'Mitsubishi UFJ Lease & Finance Co., Ltd.'},\n '979': {'cik_str': 1309108, 'ticker': 'WEX', 'title': 'WEX Inc.'},\n '980': {'cik_str': 1342874, 'ticker': 'TX', 'title': 'Ternium S.A.'},\n '981': {'cik_str': 1124140, 'ticker': 'EXAS', 'title': 'EXACT SCIENCES CORP'},\n '982': {'cik_str': 936395, 'ticker': 'CIEN', 'title': 'CIENA CORP'},\n '983': {'cik_str': 769520, 'ticker': 'MIDD', 'title': 'MIDDLEBY Corp'},\n '984': {'cik_str': 1642545,\n  'ticker': 'SWAV',\n  'title': 'Shockwave Medical, Inc.'},\n '985': {'cik_str': 1665918,\n  'ticker': 'USFD',\n  'title': 'US Foods Holding Corp.'},\n '986': {'cik_str': 1747748,\n  'ticker': 'XM',\n  'title': 'Qualtrics International Inc.'},\n '987': {'cik_str': 1411579,\n  'ticker': 'AMC',\n  'title': 'AMC ENTERTAINMENT HOLDINGS, INC.'},\n '988': {'cik_str': 74260,\n  'ticker': 'ORI',\n  'title': 'OLD REPUBLIC INTERNATIONAL CORP'},\n '989': {'cik_str': 1526125, 'ticker': 'GDS', 'title': 'GDS Holdings Ltd'},\n '990': {'cik_str': 726958,\n  'ticker': 'CASY',\n  'title': 'CASEYS GENERAL STORES INC'},\n '991': {'cik_str': 938323, 'ticker': 'PSO', 'title': 'PEARSON PLC'},\n '992': {'cik_str': 1650164, 'ticker': 'TOST', 'title': 'Toast, Inc.'},\n '993': {'cik_str': 5513, 'ticker': 'UNM', 'title': 'Unum Group'},\n '994': {'cik_str': 1529192,\n  'ticker': 'VIPS',\n  'title': 'Vipshop Holdings Ltd'},\n '995': {'cik_str': 1294591,\n  'ticker': 'RKUNY',\n  'title': 'Rakuten Group, Inc.'},\n '996': {'cik_str': 1142417,\n  'ticker': 'NXST',\n  'title': 'NEXSTAR MEDIA GROUP, INC.'},\n '997': {'cik_str': 1357615, 'ticker': 'KBR', 'title': 'KBR, INC.'},\n '998': {'cik_str': 1516513, 'ticker': 'DOCS', 'title': 'Doximity, Inc.'},\n '999': {'cik_str': 888491,\n  'ticker': 'OHI',\n  'title': 'OMEGA HEALTHCARE INVESTORS INC'},\n ...}"
     },
     "execution_count": 4,
     "metadata": {},
     "output_type": "execute_result"
    }
   ],
   "source": [
    "tickers_cik.json()"
   ],
   "metadata": {
    "collapsed": false,
    "pycharm": {
     "name": "#%%\n"
    }
   }
  },
  {
   "cell_type": "code",
   "execution_count": 5,
   "outputs": [],
   "source": [
    "tickers_cik = pd.json_normalize(pd.json_normalize(tickers_cik.json(),\n",
    "max_level=0).values[0])\n",
    "tickers_cik[\"cik_str\"] = tickers_cik[\"cik_str\"].astype(str).str.zfill(10)\n",
    "tickers_cik.set_index(\"ticker\",inplace=True)"
   ],
   "metadata": {
    "collapsed": false,
    "pycharm": {
     "name": "#%%\n"
    }
   }
  },
  {
   "cell_type": "code",
   "execution_count": 7,
   "outputs": [],
   "source": [
    "aapl_facts = requests.get(f\"https://data.sec.gov/api/xbrl/companyfacts/CIK0000320193.json\",headers=headers)"
   ],
   "metadata": {
    "collapsed": false,
    "pycharm": {
     "name": "#%%\n"
    }
   }
  },
  {
   "cell_type": "code",
   "execution_count": 13,
   "outputs": [],
   "source": [
    "aapl_f = aapl_facts.json()"
   ],
   "metadata": {
    "collapsed": false,
    "pycharm": {
     "name": "#%%\n"
    }
   }
  },
  {
   "cell_type": "code",
   "execution_count": 30,
   "outputs": [
    {
     "data": {
      "text/plain": "486"
     },
     "execution_count": 30,
     "metadata": {},
     "output_type": "execute_result"
    }
   ],
   "source": [
    "len(aapl_f['facts']['us-gaap'].keys())"
   ],
   "metadata": {
    "collapsed": false,
    "pycharm": {
     "name": "#%%\n"
    }
   }
  },
  {
   "cell_type": "code",
   "execution_count": 19,
   "outputs": [
    {
     "name": "stdout",
     "output_type": "stream",
     "text": [
      "AccountsPayable\n",
      "AccountsPayableCurrent\n",
      "AccountsReceivableNetCurrent\n",
      "AccruedIncomeTaxesCurrent\n",
      "AccruedIncomeTaxesNoncurrent\n",
      "AccruedLiabilities\n",
      "AccruedLiabilitiesCurrent\n",
      "AccruedMarketingCostsCurrent\n",
      "AccumulatedDepreciationDepletionAndAmortizationPropertyPlantAndEquipment\n",
      "AccumulatedOtherComprehensiveIncomeLossAvailableForSaleSecuritiesAdjustmentNetOfTax\n",
      "AccumulatedOtherComprehensiveIncomeLossCumulativeChangesInNetGainLossFromCashFlowHedgesEffectNetOfTax\n",
      "AccumulatedOtherComprehensiveIncomeLossForeignCurrencyTranslationAdjustmentNetOfTax\n",
      "AccumulatedOtherComprehensiveIncomeLossNetOfTax\n",
      "AdjustmentsToAdditionalPaidInCapitalSharebasedCompensationRequisiteServicePeriodRecognitionValue\n",
      "AdjustmentsToAdditionalPaidInCapitalTaxEffectFromShareBasedCompensation\n",
      "AdvertisingExpense\n",
      "AllocatedShareBasedCompensationExpense\n",
      "AllowanceForDoubtfulAccountsReceivableCurrent\n",
      "AmortizationOfIntangibleAssets\n",
      "AntidilutiveSecuritiesExcludedFromComputationOfEarningsPerShareAmount\n",
      "Assets\n",
      "AssetsCurrent\n",
      "AssetsNoncurrent\n",
      "AvailableForSaleDebtSecuritiesAccumulatedGrossUnrealizedGainBeforeTax\n",
      "AvailableForSaleDebtSecuritiesAccumulatedGrossUnrealizedLossBeforeTax\n",
      "AvailableForSaleDebtSecuritiesAmortizedCostBasis\n",
      "AvailableForSaleSecurities\n",
      "AvailableForSaleSecuritiesAccumulatedGrossUnrealizedGainBeforeTax\n",
      "AvailableForSaleSecuritiesAccumulatedGrossUnrealizedLossBeforeTax\n",
      "AvailableForSaleSecuritiesAmortizedCost\n",
      "AvailableForSaleSecuritiesContinuousUnrealizedLossPosition12MonthsOrLongerAccumulatedLoss\n",
      "AvailableForSaleSecuritiesContinuousUnrealizedLossPositionAccumulatedLoss\n",
      "AvailableForSaleSecuritiesContinuousUnrealizedLossPositionFairValue\n",
      "AvailableForSaleSecuritiesContinuousUnrealizedLossPositionLessThan12MonthsAccumulatedLoss\n",
      "AvailableForSaleSecuritiesContinuousUnrealizedLossPositionLessThanTwelveMonthsFairValue\n",
      "AvailableForSaleSecuritiesContinuousUnrealizedLossPositionTwelveMonthsOrLongerFairValue\n",
      "AvailableForSaleSecuritiesCurrent\n",
      "AvailableForSaleSecuritiesDebtMaturitiesRollingAfterYearTenFairValue\n",
      "AvailableForSaleSecuritiesDebtMaturitiesRollingYearSixThroughTenFairValue\n",
      "AvailableForSaleSecuritiesDebtMaturitiesRollingYearTwoThroughFiveFairValue\n",
      "AvailableForSaleSecuritiesDebtMaturitiesSingleMaturityDate\n",
      "AvailableForSaleSecuritiesDebtSecurities\n",
      "AvailableForSaleSecuritiesDebtSecuritiesCurrent\n",
      "AvailableForSaleSecuritiesDebtSecuritiesNoncurrent\n",
      "AvailableForSaleSecuritiesFairValueDisclosure\n",
      "AvailableForSaleSecuritiesGrossUnrealizedLosses1\n",
      "AvailableForSaleSecuritiesNoncurrent\n",
      "AvailableforsaleSecuritiesGrossUnrealizedGain\n",
      "BusinessAcquisitionCostOfAcquiredEntityPurchasePrice\n",
      "BusinessAcquisitionPurchasePriceAllocationAmortizableIntangibleAssets\n",
      "BusinessAcquisitionPurchasePriceAllocationGoodwillAmount\n",
      "BusinessAcquisitionPurchasePriceAllocationLiabilitiesAssumed\n",
      "BusinessCombinationRecognizedIdentifiableAssetsAcquiredAndLiabilitiesAssumedIntangibleAssetsOtherThanGoodwill\n",
      "BusinessCombinationRecognizedIdentifiableAssetsAcquiredAndLiabilitiesAssumedLiabilities\n",
      "CapitalExpendituresIncurredButNotYetPaid\n",
      "CapitalizedComputerSoftwareAdditions\n",
      "CapitalizedComputerSoftwareAmortization\n",
      "Cash\n",
      "CashAndCashEquivalentsAtCarryingValue\n",
      "CashAndCashEquivalentsPeriodIncreaseDecrease\n",
      "CashCashEquivalentsRestrictedCashAndRestrictedCashEquivalents\n",
      "CashCashEquivalentsRestrictedCashAndRestrictedCashEquivalentsPeriodIncreaseDecreaseIncludingExchangeRateEffect\n",
      "CashEquivalentsAtCarryingValue\n",
      "ChangeInUnrealizedGainLossOnFairValueHedgingInstruments\n",
      "CollateralAlreadyPostedAggregateFairValue\n",
      "CommercialPaper\n",
      "CommitmentsAndContingencies\n",
      "CommonStockDividendsPerShareCashPaid\n",
      "CommonStockDividendsPerShareDeclared\n",
      "CommonStockNoParValue\n",
      "CommonStockParOrStatedValuePerShare\n",
      "CommonStockSharesAuthorized\n",
      "CommonStockSharesIssued\n",
      "CommonStockSharesOutstanding\n",
      "CommonStocksIncludingAdditionalPaidInCapital\n",
      "CommonStockValue\n",
      "ComprehensiveIncomeNetOfTax\n",
      "ContractWithCustomerLiability\n",
      "ContractWithCustomerLiabilityCurrent\n",
      "ContractWithCustomerLiabilityRevenueRecognized\n",
      "CostOfGoodsAndServicesSold\n",
      "CostOfGoodsAndServicesSoldDepreciation\n",
      "CostOfReimbursableExpense\n",
      "CumulativeEffectOfInitialAdoptionOfFIN48\n",
      "CumulativeEffectOfInitialAdoptionOfNewAccountingPrinciple\n",
      "CurrentFederalTaxExpenseBenefit\n",
      "CurrentForeignTaxExpenseBenefit\n",
      "CurrentStateAndLocalTaxExpenseBenefit\n",
      "DebtInstrumentCarryingAmount\n",
      "DebtInstrumentUnamortizedDiscount\n",
      "DebtInstrumentUnamortizedDiscountPremiumAndDebtIssuanceCostsNet\n",
      "DebtInstrumentUnamortizedDiscountPremiumNet\n",
      "DebtSecuritiesAvailableForSaleContinuousUnrealizedLossPosition12MonthsOrLonger\n",
      "DebtSecuritiesAvailableForSaleContinuousUnrealizedLossPosition12MonthsOrLongerAccumulatedLoss\n",
      "DebtSecuritiesAvailableForSaleContinuousUnrealizedLossPositionLessThan12Months\n",
      "DebtSecuritiesAvailableForSaleContinuousUnrealizedLossPositionLessThan12MonthsAccumulatedLoss\n",
      "DebtSecuritiesAvailableForSaleUnrealizedLossPosition\n",
      "DebtSecuritiesAvailableForSaleUnrealizedLossPositionAccumulatedLoss\n",
      "DecreaseInUnrecognizedTaxBenefitsIsReasonablyPossible\n",
      "DeferredFederalIncomeTaxExpenseBenefit\n",
      "DeferredForeignIncomeTaxExpenseBenefit\n",
      "DeferredIncomeTaxExpenseBenefit\n",
      "DeferredIncomeTaxLiabilities\n",
      "DeferredIncomeTaxLiabilitiesNet\n",
      "DeferredRevenueCurrent\n",
      "DeferredRevenueNoncurrent\n",
      "DeferredStateAndLocalIncomeTaxExpenseBenefit\n",
      "DeferredTaxAssetsDeferredIncome\n",
      "DeferredTaxAssetsGoodwillAndIntangibleAssets\n",
      "DeferredTaxAssetsGross\n",
      "DeferredTaxAssetsLiabilitiesNet\n",
      "DeferredTaxAssetsLiabilitiesNetCurrent\n",
      "DeferredTaxAssetsNet\n",
      "DeferredTaxAssetsNetCurrent\n",
      "DeferredTaxAssetsOther\n",
      "DeferredTaxAssetsPropertyPlantAndEquipment\n",
      "DeferredTaxAssetsTaxCreditCarryforwards\n",
      "DeferredTaxAssetsTaxCreditCarryforwardsForeign\n",
      "DeferredTaxAssetsTaxCreditCarryforwardsResearch\n",
      "DeferredTaxAssetsTaxDeferredExpenseCompensationAndBenefitsShareBasedCompensationCost\n",
      "DeferredTaxAssetsTaxDeferredExpenseReservesAndAccruals\n",
      "DeferredTaxAssetsUnrealizedLossesOnAvailableforSaleSecuritiesGross\n",
      "DeferredTaxAssetsValuationAllowance\n",
      "DeferredTaxLiabilities\n",
      "DeferredTaxLiabilitiesLeasingArrangements\n",
      "DeferredTaxLiabilitiesNoncurrent\n",
      "DeferredTaxLiabilitiesOther\n",
      "DeferredTaxLiabilitiesOtherComprehensiveIncome\n",
      "DeferredTaxLiabilitiesUndistributedForeignEarnings\n",
      "DeferredTaxLiabilityNotRecognizedAmountOfUnrecognizedDeferredTaxLiabilityUndistributedEarningsOfForeignSubsidiaries\n",
      "DefinedContributionPlanCostRecognized\n",
      "DefinedContributionPlanMaximumAnnualContributionPerEmployeeAmount\n",
      "DefinedContributionPlanMaximumAnnualContributionsPerEmployeeAmount\n",
      "Depreciation\n",
      "DepreciationAmortizationAndAccretionNet\n",
      "DepreciationAndAmortization\n",
      "DepreciationDepletionAndAmortization\n",
      "DerivativeCollateralObligationToReturnCash\n",
      "DerivativeFairValueOfDerivativeNet\n",
      "DerivativeInstrumentsGainLossReclassifiedFromAccumulatedOCIIntoIncomeEffectivePortionNet\n",
      "DerivativeInstrumentsGainLossRecognizedInIncomeIneffectivePortionAndAmountExcludedFromEffectivenessTestingNet\n",
      "DerivativeInstrumentsGainLossRecognizedInOtherComprehensiveIncomeEffectivePortionNet\n",
      "DerivativeInstrumentsNotDesignatedAsHedgingInstrumentsGainLossNet\n",
      "Dividends\n",
      "EarningsPerShareBasic\n",
      "EarningsPerShareDiluted\n",
      "EffectiveIncomeTaxRateContinuingOperations\n",
      "EffectiveIncomeTaxRateReconciliationAtFederalStatutoryIncomeTaxRate\n",
      "EffectiveIncomeTaxRateReconciliationForeignIncomeTaxRateDifferential\n",
      "EffectiveIncomeTaxRateReconciliationShareBasedCompensationExcessTaxBenefitAmount\n",
      "EffectiveIncomeTaxRateReconciliationTaxCutsAndJobsActOf2017Amount\n",
      "EmployeeRelatedLiabilitiesCurrent\n",
      "EmployeeServiceShareBasedCompensationCashFlowEffectCashUsedToSettleAwards\n",
      "EmployeeServiceShareBasedCompensationNonvestedAwardsTotalCompensationCostNotYetRecognized\n",
      "EmployeeServiceShareBasedCompensationNonvestedAwardsTotalCompensationCostNotYetRecognizedPeriodForRecognition\n",
      "EmployeeServiceShareBasedCompensationTaxBenefitFromCompensationExpense\n",
      "EmployeeServiceShareBasedCompensationUnrecognizedCompensationCostsOnNonvestedAwards\n",
      "EmployeeServiceShareBasedCompensationUnrecognizedCompensationCostsOnNonvestedAwardsWeightedAveragePeriodOfRecognition\n",
      "EquitySecuritiesWithoutReadilyDeterminableFairValueAmount\n",
      "ExcessTaxBenefitFromShareBasedCompensationFinancingActivities\n",
      "FairValueAssetsMeasuredOnRecurringBasisCashAndCashEquivalents\n",
      "FairValueAssetsMeasuredOnRecurringBasisDerivativeFinancialInstrumentsAssets\n",
      "FairValueHedgesAtFairValueNet\n",
      "FairValueLiabilitiesMeasuredOnRecurringBasisDerivativeFinancialInstrumentsLiabilities\n",
      "FederalIncomeTaxExpenseBenefitContinuingOperations\n",
      "FinanceLeaseLiability\n",
      "FinanceLeaseLiabilityCurrent\n",
      "FinanceLeaseLiabilityNoncurrent\n",
      "FinanceLeaseLiabilityPaymentsDue\n",
      "FinanceLeaseLiabilityPaymentsDueAfterYearFive\n",
      "FinanceLeaseLiabilityPaymentsDueNextTwelveMonths\n",
      "FinanceLeaseLiabilityPaymentsDueYearFive\n",
      "FinanceLeaseLiabilityPaymentsDueYearFour\n",
      "FinanceLeaseLiabilityPaymentsDueYearThree\n",
      "FinanceLeaseLiabilityPaymentsDueYearTwo\n",
      "FinanceLeaseLiabilityPaymentsRemainderOfFiscalYear\n",
      "FinanceLeaseLiabilityUndiscountedExcessAmount\n",
      "FinanceLeaseRightOfUseAsset\n",
      "FiniteLivedIntangibleAssetsAccumulatedAmortization\n",
      "FiniteLivedIntangibleAssetsAmortizationExpense\n",
      "FiniteLivedIntangibleAssetsAmortizationExpenseAfterYearFive\n",
      "FiniteLivedIntangibleAssetsAmortizationExpenseNextTwelveMonths\n",
      "FiniteLivedIntangibleAssetsAmortizationExpenseYearFive\n",
      "FiniteLivedIntangibleAssetsAmortizationExpenseYearFour\n",
      "FiniteLivedIntangibleAssetsAmortizationExpenseYearThree\n",
      "FiniteLivedIntangibleAssetsAmortizationExpenseYearTwo\n",
      "FiniteLivedIntangibleAssetsGross\n",
      "FiniteLivedIntangibleAssetsNet\n",
      "FiniteLivedIntangibleAssetsUsefulLifeMaximum\n",
      "FiniteLivedIntangibleAssetsUsefulLifeMinimum\n",
      "ForeignCurrencyDerivativeAssetsAtFairValue\n",
      "ForeignCurrencyDerivativeInstrumentsNotDesignatedAsHedgingInstrumentsAssetAtFairValue\n",
      "ForeignCurrencyDerivativeInstrumentsNotDesignatedAsHedgingInstrumentsLiabilityAtFairValue\n",
      "ForeignCurrencyDerivativeLiabilitiesAtFairValue\n",
      "ForeignIncomeTaxExpenseBenefitContinuingOperations\n",
      "FurnitureAndFixturesGross\n",
      "FutureAmortizationExpenseYearFive\n",
      "FutureAmortizationExpenseYearFour\n",
      "FutureAmortizationExpenseYearOne\n",
      "FutureAmortizationExpenseYearThree\n",
      "FutureAmortizationExpenseYearTwo\n",
      "GainLossFromComponentsExcludedFromAssessmentOfFairValueHedgeEffectivenessNet\n",
      "GainLossOnSaleOfPropertyPlantEquipment\n",
      "Goodwill\n",
      "GoodwillAcquiredDuringPeriod\n",
      "GoodwillImpairmentLoss\n",
      "GrossProfit\n",
      "HeldToMaturitySecurities\n",
      "ImpairmentOfIntangibleAssetsExcludingGoodwill\n",
      "ImpairmentOfIntangibleAssetsIndefinitelivedExcludingGoodwill\n",
      "IncomeLossFromContinuingOperationsBeforeIncomeTaxesExtraordinaryItemsNoncontrollingInterest\n",
      "IncomeLossFromContinuingOperationsBeforeIncomeTaxesForeign\n",
      "IncomeLossFromContinuingOperationsBeforeIncomeTaxesMinorityInterestAndIncomeLossFromEquityMethodInvestments\n",
      "IncomeTaxExaminationInterestExpense\n",
      "IncomeTaxExpenseBenefit\n",
      "IncomeTaxesPaidNet\n",
      "IncomeTaxReconciliationDeductionsQualifiedProductionActivities\n",
      "IncomeTaxReconciliationForeignIncomeTaxRateDifferential\n",
      "IncomeTaxReconciliationIncomeTaxExpenseBenefitAtFederalStatutoryIncomeTaxRate\n",
      "IncomeTaxReconciliationNondeductibleExpenseShareBasedCompensationCost\n",
      "IncomeTaxReconciliationOtherAdjustments\n",
      "IncomeTaxReconciliationOtherReconcilingItems\n",
      "IncomeTaxReconciliationStateAndLocalIncomeTaxes\n",
      "IncomeTaxReconciliationTaxContingenciesDomestic\n",
      "IncomeTaxReconciliationTaxCreditsResearch\n",
      "IncomeTaxReconciliationTaxSettlementsDomestic\n",
      "IncreaseDecreaseInAccountsPayable\n",
      "IncreaseDecreaseInAccountsReceivable\n",
      "IncreaseDecreaseInContractWithCustomerLiability\n",
      "IncreaseDecreaseInDeferredRevenue\n",
      "IncreaseDecreaseInInventories\n",
      "IncreaseDecreaseInOtherOperatingAssets\n",
      "IncreaseDecreaseInOtherOperatingLiabilities\n",
      "IncreaseDecreaseInOtherReceivables\n",
      "IndefiniteLivedIntangibleAssetsExcludingGoodwill\n",
      "IntangibleAssetsGrossExcludingGoodwill\n",
      "IntangibleAssetsNetExcludingGoodwill\n",
      "InterestCostsIncurred\n",
      "InterestExpense\n",
      "InterestExpenseDebt\n",
      "InterestPaid\n",
      "InterestPaidNet\n",
      "InventoryFinishedGoodsNetOfReserves\n",
      "InventoryNet\n",
      "InventoryPartsAndComponentsNetOfReserves\n",
      "InvestmentIncomeInterestAndDividend\n",
      "LeaseAndRentalExpense\n",
      "LeaseholdImprovementsGross\n",
      "LesseeOperatingLeaseLiabilityPaymentsDue\n",
      "LesseeOperatingLeaseLiabilityPaymentsDueAfterYearFive\n",
      "LesseeOperatingLeaseLiabilityPaymentsDueNextTwelveMonths\n",
      "LesseeOperatingLeaseLiabilityPaymentsDueYearFive\n",
      "LesseeOperatingLeaseLiabilityPaymentsDueYearFour\n",
      "LesseeOperatingLeaseLiabilityPaymentsDueYearThree\n",
      "LesseeOperatingLeaseLiabilityPaymentsDueYearTwo\n",
      "LesseeOperatingLeaseLiabilityPaymentsRemainderOfFiscalYear\n",
      "LesseeOperatingLeaseLiabilityUndiscountedExcessAmount\n",
      "Liabilities\n",
      "LiabilitiesAndStockholdersEquity\n",
      "LiabilitiesCurrent\n",
      "LiabilitiesNoncurrent\n",
      "LongTermDebt\n",
      "LongTermDebtCurrent\n",
      "LongTermDebtMaturitiesRepaymentsOfPrincipalAfterYearFive\n",
      "LongTermDebtMaturitiesRepaymentsOfPrincipalInNextTwelveMonths\n",
      "LongTermDebtMaturitiesRepaymentsOfPrincipalInYearFive\n",
      "LongTermDebtMaturitiesRepaymentsOfPrincipalInYearFour\n",
      "LongTermDebtMaturitiesRepaymentsOfPrincipalInYearThree\n",
      "LongTermDebtMaturitiesRepaymentsOfPrincipalInYearTwo\n",
      "LongTermDebtMaturitiesRepaymentsOfPrincipalRemainderOfFiscalYear\n",
      "LongTermDebtNoncurrent\n",
      "LongTermPurchaseCommitmentAmount\n",
      "MarketableSecuritiesCurrent\n",
      "MarketableSecuritiesNoncurrent\n",
      "MarketableSecuritiesRealizedGainLoss\n",
      "MarketingExpense\n",
      "NetCashProvidedByUsedInFinancingActivities\n",
      "NetCashProvidedByUsedInFinancingActivitiesContinuingOperations\n",
      "NetCashProvidedByUsedInInvestingActivities\n",
      "NetCashProvidedByUsedInInvestingActivitiesContinuingOperations\n",
      "NetCashProvidedByUsedInOperatingActivities\n",
      "NetCashProvidedByUsedInOperatingActivitiesContinuingOperations\n",
      "NetIncomeLoss\n",
      "NoncurrentAssets\n",
      "NonoperatingIncomeExpense\n",
      "NontradeReceivablesCurrent\n",
      "NotionalAmountOfForeignCurrencyDerivativeInstrumentsNotDesignatedAsHedgingInstruments\n",
      "NumberOfStores\n",
      "OciBeforeReclassificationsBeforeTaxAttributableToParent\n",
      "OperatingExpenses\n",
      "OperatingIncomeLoss\n",
      "OperatingLeaseCost\n",
      "OperatingLeaseLiability\n",
      "OperatingLeaseLiabilityCurrent\n",
      "OperatingLeaseLiabilityNoncurrent\n",
      "OperatingLeasePayments\n",
      "OperatingLeaseRightOfUseAsset\n",
      "OperatingLeasesFutureMinimumPaymentsDue\n",
      "OperatingLeasesFutureMinimumPaymentsDueCurrent\n",
      "OperatingLeasesFutureMinimumPaymentsDueInFiveYears\n",
      "OperatingLeasesFutureMinimumPaymentsDueInFourYears\n",
      "OperatingLeasesFutureMinimumPaymentsDueInThreeYears\n",
      "OperatingLeasesFutureMinimumPaymentsDueInTwoYears\n",
      "OperatingLeasesFutureMinimumPaymentsDueThereafter\n",
      "OperatingLeasesRentExpenseNet\n",
      "OtherAccruedLiabilitiesCurrent\n",
      "OtherAccruedLiabilitiesNoncurrent\n",
      "OtherAssetsCurrent\n",
      "OtherAssetsNoncurrent\n",
      "OtherComprehensiveIncomeAvailableForSaleSecuritiesAdjustmentNetOfTaxPeriodIncreaseDecrease\n",
      "OtherComprehensiveIncomeDerivativesQualifyingAsHedgesNetOfTaxPeriodIncreaseDecrease\n",
      "OtherComprehensiveIncomeForeignCurrencyTransactionAndTranslationAdjustmentNetOfTaxPeriodIncreaseDecrease\n",
      "OtherComprehensiveIncomeLossAvailableForSaleSecuritiesAdjustmentNetOfTax\n",
      "OtherComprehensiveIncomeLossBeforeReclassificationsBeforeTax\n",
      "OtherComprehensiveIncomeLossBeforeReclassificationsNetOfTax\n",
      "OtherComprehensiveIncomeLossCashFlowHedgeGainLossBeforeReclassificationAndTax\n",
      "OtherComprehensiveIncomeLossCashFlowHedgeGainLossReclassificationAfterTax\n",
      "OtherComprehensiveIncomeLossCashFlowHedgeGainLossReclassificationBeforeTax\n",
      "OtherComprehensiveIncomeLossDerivativeExcludedComponentIncreaseDecreaseBeforeAdjustmentsAndTax\n",
      "OtherComprehensiveIncomeLossDerivativesQualifyingAsHedgesNetOfTax\n",
      "OtherComprehensiveIncomeLossForeignCurrencyTransactionAndTranslationAdjustmentNetOfTax\n",
      "OtherComprehensiveIncomeLossForeignCurrencyTranslationAdjustmentTax\n",
      "OtherComprehensiveIncomeLossNetOfTax\n",
      "OtherComprehensiveIncomeLossNetOfTaxPortionAttributableToParent\n",
      "OtherComprehensiveIncomeLossReclassificationAdjustmentForSaleOfSecuritiesIncludedInNetIncomeNetOfTax\n",
      "OtherComprehensiveIncomeLossReclassificationAdjustmentFromAOCIForSaleOfSecuritiesBeforeTax\n",
      "OtherComprehensiveIncomeLossReclassificationAdjustmentFromAOCIForSaleOfSecuritiesNetOfTax\n",
      "OtherComprehensiveIncomeLossReclassificationAdjustmentFromAOCIForSaleOfSecuritiesTax\n",
      "OtherComprehensiveIncomeLossReclassificationAdjustmentFromAOCIOnDerivativesBeforeTax\n",
      "OtherComprehensiveIncomeLossReclassificationAdjustmentFromAOCIOnDerivativesNetOfTax\n",
      "OtherComprehensiveIncomeLossReclassificationAdjustmentFromAOCIOnDerivativesTax\n",
      "OtherComprehensiveIncomeLossReclassificationAdjustmentOnDerivativesIncludedInNetIncomeNetOfTax\n",
      "OtherComprehensiveIncomeLossReclassificationAdjustmentOnDerivativesIncludedInNetIncomeTax\n",
      "OtherComprehensiveIncomeLossTax\n",
      "OtherComprehensiveIncomeLossTaxPortionAttributableToParent1\n",
      "OtherComprehensiveIncomeReclassificationAdjustmentOnDerivativesIncludedInNetIncomeNetOfTax\n",
      "OtherComprehensiveIncomeReclassificationAdjustmentOnDerivativesIncludedInNetIncomeTax\n",
      "OtherComprehensiveIncomeUnrealizedGainLossOnDerivativesArisingDuringPeriodNetOfTax\n",
      "OtherComprehensiveIncomeUnrealizedGainLossOnDerivativesArisingDuringPeriodTax\n",
      "OtherComprehensiveIncomeUnrealizedHoldingGainLossOnSecuritiesArisingDuringPeriodNetOfTax\n",
      "OtherComprehensiveIncomeUnrealizedHoldingGainLossOnSecuritiesArisingDuringPeriodTax\n",
      "OtherDeferredCreditsCurrent\n",
      "OtherLiabilitiesCurrent\n",
      "OtherLiabilitiesNoncurrent\n",
      "OtherNoncashIncomeExpense\n",
      "OtherNonoperatingIncomeExpense\n",
      "OtherPrepaidExpenseCurrent\n",
      "OtherShortTermBorrowings\n",
      "PaymentsForProceedsFromOtherInvestingActivities\n",
      "PaymentsForRepurchaseOfCommonStock\n",
      "PaymentsOfDividends\n",
      "PaymentsOfDividendsCommonStock\n",
      "PaymentsRelatedToTaxWithholdingForShareBasedCompensation\n",
      "PaymentsToAcquireAvailableForSaleSecurities\n",
      "PaymentsToAcquireAvailableForSaleSecuritiesDebt\n",
      "PaymentsToAcquireBusinessesNetOfCashAcquired\n",
      "PaymentsToAcquireIntangibleAssets\n",
      "PaymentsToAcquireOtherInvestments\n",
      "PaymentsToAcquireProductiveAssets\n",
      "PaymentsToAcquirePropertyPlantAndEquipment\n",
      "PreferredStockSharesAuthorized\n",
      "PrepaidExpenseOtherNoncurrent\n",
      "ProceedsFromIssuanceOfCommonStock\n",
      "ProceedsFromIssuanceOfLongTermDebt\n",
      "ProceedsFromMaturitiesPrepaymentsAndCallsOfAvailableForSaleSecurities\n",
      "ProceedsFromOtherShortTermDebt\n",
      "ProceedsFromPaymentsForOtherFinancingActivities\n",
      "ProceedsFromRepaymentsOfCommercialPaper\n",
      "ProceedsFromRepaymentsOfShortTermDebt\n",
      "ProceedsFromRepaymentsOfShortTermDebtMaturingInMoreThanThreeMonths\n",
      "ProceedsFromRepaymentsOfShortTermDebtMaturingInThreeMonthsOrLess\n",
      "ProceedsFromSaleAndMaturityOfOtherInvestments\n",
      "ProceedsFromSaleOfAvailableForSaleSecurities\n",
      "ProceedsFromSaleOfAvailableForSaleSecuritiesDebt\n",
      "ProceedsFromShortTermDebtMaturingInMoreThanThreeMonths\n",
      "ProductWarrantyAccrualClassifiedCurrent\n",
      "ProductWarrantyAccrualPayments\n",
      "ProductWarrantyAccrualWarrantiesIssued\n",
      "ProductWarrantyExpense\n",
      "PropertyPlantAndEquipmentGross\n",
      "PropertyPlantAndEquipmentNet\n",
      "ReclassificationFromAccumulatedOtherComprehensiveIncomeCurrentPeriodBeforeTax\n",
      "ReclassificationFromAccumulatedOtherComprehensiveIncomeCurrentPeriodNetOfTax\n",
      "ReclassificationFromAociCurrentPeriodBeforeTaxAttributableToParent\n",
      "RepaymentsOfLongTermDebt\n",
      "RepaymentsOfOtherShortTermDebt\n",
      "RepaymentsOfShortTermDebtMaturingInMoreThanThreeMonths\n",
      "ResearchAndDevelopmentExpense\n",
      "RestrictedCash\n",
      "RestrictedCashAndCashEquivalentsAtCarryingValue\n",
      "RestrictedCashAndCashEquivalentsNoncurrent\n",
      "RestrictedInvestments\n",
      "RetainedEarningsAccumulatedDeficit\n",
      "RevenueFromContractWithCustomerExcludingAssessedTax\n",
      "Revenues\n",
      "SalesRevenueNet\n",
      "SalesRevenueServicesGross\n",
      "SecuritiesSoldUnderAgreementsToRepurchaseFairValueOfCollateral\n",
      "SegmentReportingInformationOperatingIncomeLoss\n",
      "SegmentReportingReconcilingItemsAssets\n",
      "SegmentReportingSegmentAssets\n",
      "SellingGeneralAndAdministrativeExpense\n",
      "ShareBasedCompensation\n",
      "ShareBasedCompensationArrangementByShareBasedPaymentAwardEquityInstrumentsOtherThanOptionsForfeitedInPeriod\n",
      "ShareBasedCompensationArrangementByShareBasedPaymentAwardEquityInstrumentsOtherThanOptionsForfeitedInPeriodWeightedAverageGrantDateFairValue\n",
      "ShareBasedCompensationArrangementByShareBasedPaymentAwardEquityInstrumentsOtherThanOptionsForfeituresWeightedAverageGrantDateFairValue\n",
      "ShareBasedCompensationArrangementByShareBasedPaymentAwardEquityInstrumentsOtherThanOptionsGrantsInPeriod\n",
      "ShareBasedCompensationArrangementByShareBasedPaymentAwardEquityInstrumentsOtherThanOptionsGrantsInPeriodWeightedAverageGrantDateFairValue\n",
      "ShareBasedCompensationArrangementByShareBasedPaymentAwardEquityInstrumentsOtherThanOptionsNonvestedIntrinsicValue\n",
      "ShareBasedCompensationArrangementByShareBasedPaymentAwardEquityInstrumentsOtherThanOptionsNonvestedNumber\n",
      "ShareBasedCompensationArrangementByShareBasedPaymentAwardEquityInstrumentsOtherThanOptionsNonvestedWeightedAverageGrantDateFairValue\n",
      "ShareBasedCompensationArrangementByShareBasedPaymentAwardEquityInstrumentsOtherThanOptionsVestedInPeriod\n",
      "ShareBasedCompensationArrangementByShareBasedPaymentAwardEquityInstrumentsOtherThanOptionsVestedInPeriodTotalFairValue\n",
      "ShareBasedCompensationArrangementByShareBasedPaymentAwardEquityInstrumentsOtherThanOptionsVestedInPeriodWeightedAverageGrantDateFairValue\n",
      "ShareBasedCompensationArrangementByShareBasedPaymentAwardFairValueAssumptionsExpectedDividendRate\n",
      "ShareBasedCompensationArrangementByShareBasedPaymentAwardFairValueAssumptionsExpectedTerm\n",
      "ShareBasedCompensationArrangementByShareBasedPaymentAwardFairValueAssumptionsRiskFreeInterestRate\n",
      "ShareBasedCompensationArrangementByShareBasedPaymentAwardFairValueAssumptionsWeightedAverageVolatilityRate\n",
      "ShareBasedCompensationArrangementByShareBasedPaymentAwardNumberOfSharesAvailableForGrant\n",
      "ShareBasedCompensationArrangementByShareBasedPaymentAwardOptionsExercisableIntrinsicValue\n",
      "ShareBasedCompensationArrangementByShareBasedPaymentAwardOptionsExercisableNumber\n",
      "ShareBasedCompensationArrangementByShareBasedPaymentAwardOptionsExercisableWeightedAverageExercisePrice\n",
      "ShareBasedCompensationArrangementByShareBasedPaymentAwardOptionsExercisableWeightedAverageRemainingContractualTerm\n",
      "ShareBasedCompensationArrangementByShareBasedPaymentAwardOptionsExercisesInPeriod\n",
      "ShareBasedCompensationArrangementByShareBasedPaymentAwardOptionsExercisesInPeriodTotalIntrinsicValue\n",
      "ShareBasedCompensationArrangementByShareBasedPaymentAwardOptionsExercisesInPeriodWeightedAverageExercisePrice\n",
      "ShareBasedCompensationArrangementByShareBasedPaymentAwardOptionsForfeituresInPeriod\n",
      "ShareBasedCompensationArrangementByShareBasedPaymentAwardOptionsForfeituresInPeriodWeightedAverageExercisePrice\n",
      "ShareBasedCompensationArrangementByShareBasedPaymentAwardOptionsGrantsInPeriod\n",
      "ShareBasedCompensationArrangementByShareBasedPaymentAwardOptionsGrantsInPeriodWeightedAverageExercisePrice\n",
      "ShareBasedCompensationArrangementByShareBasedPaymentAwardOptionsGrantsInPeriodWeightedAverageGrantDateFairValue\n",
      "ShareBasedCompensationArrangementByShareBasedPaymentAwardOptionsOtherIncreasesDecreasesInPeriod\n",
      "ShareBasedCompensationArrangementByShareBasedPaymentAwardOptionsOutstandingIntrinsicValue\n",
      "ShareBasedCompensationArrangementByShareBasedPaymentAwardOptionsOutstandingNumber\n",
      "ShareBasedCompensationArrangementByShareBasedPaymentAwardOptionsOutstandingWeightedAverageExercisePrice\n",
      "ShareBasedCompensationArrangementByShareBasedPaymentAwardOptionsOutstandingWeightedAverageRemainingContractualTerm\n",
      "ShareBasedCompensationArrangementByShareBasedPaymentAwardOptionsVestedAndExpectedToVestOutstandingNumber\n",
      "ShareBasedCompensationArrangementsByShareBasedPaymentAwardOptionsExercisesInPeriodWeightedAverageExercisePrice\n",
      "ShareBasedCompensationArrangementsByShareBasedPaymentAwardOptionsForfeituresInPeriodWeightedAverageExercisePrice\n",
      "ShareBasedCompensationArrangementsByShareBasedPaymentAwardOptionsGrantsInPeriodWeightedAverageExercisePrice\n",
      "SharebasedCompensationArrangementBySharebasedPaymentAwardEquityInstrumentsOtherThanOptionsAggregateIntrinsicValueNonvested\n",
      "SharebasedCompensationArrangementBySharebasedPaymentAwardOptionsExercisableIntrinsicValue1\n",
      "SharebasedCompensationArrangementBySharebasedPaymentAwardOptionsOutstandingWeightedAverageRemainingContractualTerm1\n",
      "SharesPaidForTaxWithholdingForShareBasedCompensation\n",
      "ShortTermDebtWeightedAverageInterestRate\n",
      "SignificantChangeInUnrecognizedTaxBenefitsIsReasonablyPossibleEstimatedRangeOfChangeLowerBound\n",
      "SignificantChangeInUnrecognizedTaxBenefitsIsReasonablyPossibleEstimatedRangeOfChangeUpperBound\n",
      "StandardProductWarrantyAccrual\n",
      "StandardProductWarrantyAccrualPayments\n",
      "StandardProductWarrantyAccrualWarrantiesIssued\n",
      "StateAndLocalIncomeTaxExpenseBenefitContinuingOperations\n",
      "StockholdersEquity\n",
      "StockholdersEquityNoteStockSplitConversionRatio1\n",
      "StockIssuedDuringPeriodSharesStockOptionsExercised\n",
      "StockIssuedDuringPeriodValueAcquisitions\n",
      "StockIssuedDuringPeriodValueShareBasedCompensation\n",
      "StockRepurchasedAndRetiredDuringPeriodShares\n",
      "StockRepurchasedAndRetiredDuringPeriodValue\n",
      "StockRepurchaseProgramAuthorizedAmount\n",
      "StockRepurchaseProgramAuthorizedAmount1\n",
      "TaxAdjustmentsSettlementsAndUnusualProvisions\n",
      "TaxesPayableCurrent\n",
      "TranslationAdjustmentForNetInvestmentHedgeNetOfTax\n",
      "TreasuryStockValueAcquiredCostMethod\n",
      "UndistributedEarningsOfForeignSubsidiaries\n",
      "UnrecognizedTaxBenefits\n",
      "UnrecognizedTaxBenefitsDecreasesResultingFromPriorPeriodTaxPositions\n",
      "UnrecognizedTaxBenefitsDecreasesResultingFromSettlementsWithTaxingAuthorities\n",
      "UnrecognizedTaxBenefitsIncomeTaxPenaltiesAndInterestAccrued\n",
      "UnrecognizedTaxBenefitsIncomeTaxPenaltiesAndInterestExpense\n",
      "UnrecognizedTaxBenefitsIncreasesResultingFromCurrentPeriodTaxPositions\n",
      "UnrecognizedTaxBenefitsIncreasesResultingFromPriorPeriodTaxPositions\n",
      "UnrecognizedTaxBenefitsPeriodIncreaseDecrease\n",
      "UnrecognizedTaxBenefitsReductionsResultingFromLapseOfApplicableStatuteOfLimitations\n",
      "UnrecognizedTaxBenefitsThatWouldImpactEffectiveTaxRate\n",
      "UnrecordedUnconditionalPurchaseObligationBalanceOnFifthAnniversary\n",
      "UnrecordedUnconditionalPurchaseObligationBalanceOnFirstAnniversary\n",
      "UnrecordedUnconditionalPurchaseObligationBalanceOnFourthAnniversary\n",
      "UnrecordedUnconditionalPurchaseObligationBalanceOnSecondAnniversary\n",
      "UnrecordedUnconditionalPurchaseObligationBalanceOnThirdAnniversary\n",
      "UnrecordedUnconditionalPurchaseObligationBalanceSheetAmount\n",
      "UnrecordedUnconditionalPurchaseObligationDueAfterFiveYears\n",
      "VariableLeaseCost\n",
      "WeightedAverageNumberDilutedSharesOutstandingAdjustment\n",
      "WeightedAverageNumberOfDilutedSharesOutstanding\n",
      "WeightedAverageNumberOfSharesOutstandingBasic\n"
     ]
    }
   ],
   "source": [
    "for key in aapl_f['facts']['us-gaap'].keys():\n",
    "    print(key)"
   ],
   "metadata": {
    "collapsed": false,
    "pycharm": {
     "name": "#%%\n"
    }
   }
  },
  {
   "cell_type": "code",
   "execution_count": 29,
   "outputs": [
    {
     "name": "stdout",
     "output_type": "stream",
     "text": [
      "EntityCommonStockSharesOutstanding\n",
      "EntityPublicFloat\n"
     ]
    }
   ],
   "source": [
    "for key in aapl_f['facts']['dei'].keys():\n",
    "    print(key)"
   ],
   "metadata": {
    "collapsed": false,
    "pycharm": {
     "name": "#%%\n"
    }
   }
  },
  {
   "cell_type": "code",
   "execution_count": 20,
   "outputs": [],
   "source": [
    "aapl_assets = aapl_f['facts']['us-gaap']['Assets']\n",
    "aapl_assets = pd.json_normalize(aapl_assets['units']['USD'])\n",
    "aapl_assets[\"filed\"] = pd.to_datetime(aapl_assets[\"filed\"])\n",
    "aapl_assets = aapl_assets.sort_values(\"end\")\n"
   ],
   "metadata": {
    "collapsed": false,
    "pycharm": {
     "name": "#%%\n"
    }
   }
  },
  {
   "cell_type": "code",
   "execution_count": 28,
   "outputs": [
    {
     "data": {
      "text/plain": "            end           val                  accn    fy  fp    form  \\\n0    2008-09-27   39572000000  0001193125-09-153165  2009  Q3    10-Q   \n1    2008-09-27   39572000000  0001193125-09-214859  2009  FY    10-K   \n2    2008-09-27   36171000000  0001193125-10-012091  2009  FY  10-K/A   \n3    2008-09-27   36171000000  0001193125-10-238044  2010  FY    10-K   \n4    2009-06-27   48140000000  0001193125-09-153165  2009  Q3    10-Q   \n..          ...           ...                   ...   ...  ..     ...   \n109  2021-09-25  351002000000  0000320193-22-000059  2022  Q2    10-Q   \n110  2021-09-25  351002000000  0000320193-22-000070  2022  Q3    10-Q   \n111  2021-12-25  381191000000  0000320193-22-000007  2022  Q1    10-Q   \n112  2022-03-26  350662000000  0000320193-22-000059  2022  Q2    10-Q   \n113  2022-06-25  336309000000  0000320193-22-000070  2022  Q3    10-Q   \n\n         filed      frame  \n0   2009-07-22        NaN  \n1   2009-10-27        NaN  \n2   2010-01-25        NaN  \n3   2010-10-27  CY2008Q3I  \n4   2009-07-22  CY2009Q2I  \n..         ...        ...  \n109 2022-04-29        NaN  \n110 2022-07-29  CY2021Q3I  \n111 2022-01-28  CY2021Q4I  \n112 2022-04-29  CY2022Q1I  \n113 2022-07-29  CY2022Q2I  \n\n[114 rows x 8 columns]",
      "text/html": "<div>\n<style scoped>\n    .dataframe tbody tr th:only-of-type {\n        vertical-align: middle;\n    }\n\n    .dataframe tbody tr th {\n        vertical-align: top;\n    }\n\n    .dataframe thead th {\n        text-align: right;\n    }\n</style>\n<table border=\"1\" class=\"dataframe\">\n  <thead>\n    <tr style=\"text-align: right;\">\n      <th></th>\n      <th>end</th>\n      <th>val</th>\n      <th>accn</th>\n      <th>fy</th>\n      <th>fp</th>\n      <th>form</th>\n      <th>filed</th>\n      <th>frame</th>\n    </tr>\n  </thead>\n  <tbody>\n    <tr>\n      <th>0</th>\n      <td>2008-09-27</td>\n      <td>39572000000</td>\n      <td>0001193125-09-153165</td>\n      <td>2009</td>\n      <td>Q3</td>\n      <td>10-Q</td>\n      <td>2009-07-22</td>\n      <td>NaN</td>\n    </tr>\n    <tr>\n      <th>1</th>\n      <td>2008-09-27</td>\n      <td>39572000000</td>\n      <td>0001193125-09-214859</td>\n      <td>2009</td>\n      <td>FY</td>\n      <td>10-K</td>\n      <td>2009-10-27</td>\n      <td>NaN</td>\n    </tr>\n    <tr>\n      <th>2</th>\n      <td>2008-09-27</td>\n      <td>36171000000</td>\n      <td>0001193125-10-012091</td>\n      <td>2009</td>\n      <td>FY</td>\n      <td>10-K/A</td>\n      <td>2010-01-25</td>\n      <td>NaN</td>\n    </tr>\n    <tr>\n      <th>3</th>\n      <td>2008-09-27</td>\n      <td>36171000000</td>\n      <td>0001193125-10-238044</td>\n      <td>2010</td>\n      <td>FY</td>\n      <td>10-K</td>\n      <td>2010-10-27</td>\n      <td>CY2008Q3I</td>\n    </tr>\n    <tr>\n      <th>4</th>\n      <td>2009-06-27</td>\n      <td>48140000000</td>\n      <td>0001193125-09-153165</td>\n      <td>2009</td>\n      <td>Q3</td>\n      <td>10-Q</td>\n      <td>2009-07-22</td>\n      <td>CY2009Q2I</td>\n    </tr>\n    <tr>\n      <th>...</th>\n      <td>...</td>\n      <td>...</td>\n      <td>...</td>\n      <td>...</td>\n      <td>...</td>\n      <td>...</td>\n      <td>...</td>\n      <td>...</td>\n    </tr>\n    <tr>\n      <th>109</th>\n      <td>2021-09-25</td>\n      <td>351002000000</td>\n      <td>0000320193-22-000059</td>\n      <td>2022</td>\n      <td>Q2</td>\n      <td>10-Q</td>\n      <td>2022-04-29</td>\n      <td>NaN</td>\n    </tr>\n    <tr>\n      <th>110</th>\n      <td>2021-09-25</td>\n      <td>351002000000</td>\n      <td>0000320193-22-000070</td>\n      <td>2022</td>\n      <td>Q3</td>\n      <td>10-Q</td>\n      <td>2022-07-29</td>\n      <td>CY2021Q3I</td>\n    </tr>\n    <tr>\n      <th>111</th>\n      <td>2021-12-25</td>\n      <td>381191000000</td>\n      <td>0000320193-22-000007</td>\n      <td>2022</td>\n      <td>Q1</td>\n      <td>10-Q</td>\n      <td>2022-01-28</td>\n      <td>CY2021Q4I</td>\n    </tr>\n    <tr>\n      <th>112</th>\n      <td>2022-03-26</td>\n      <td>350662000000</td>\n      <td>0000320193-22-000059</td>\n      <td>2022</td>\n      <td>Q2</td>\n      <td>10-Q</td>\n      <td>2022-04-29</td>\n      <td>CY2022Q1I</td>\n    </tr>\n    <tr>\n      <th>113</th>\n      <td>2022-06-25</td>\n      <td>336309000000</td>\n      <td>0000320193-22-000070</td>\n      <td>2022</td>\n      <td>Q3</td>\n      <td>10-Q</td>\n      <td>2022-07-29</td>\n      <td>CY2022Q2I</td>\n    </tr>\n  </tbody>\n</table>\n<p>114 rows × 8 columns</p>\n</div>"
     },
     "execution_count": 28,
     "metadata": {},
     "output_type": "execute_result"
    }
   ],
   "source": [
    "aapl_assets"
   ],
   "metadata": {
    "collapsed": false,
    "pycharm": {
     "name": "#%%\n"
    }
   }
  },
  {
   "cell_type": "markdown",
   "source": [
    "Fetching Financial data"
   ],
   "metadata": {
    "collapsed": false,
    "pycharm": {
     "name": "#%% md\n"
    }
   }
  },
  {
   "cell_type": "code",
   "execution_count": null,
   "outputs": [],
   "source": [
    "def get_financials(stock_cik):\n",
    "    \"\"\"\n",
    "\n",
    "    :param stock_cik:\n",
    "    :type stock_cik:\n",
    "    :return:\n",
    "    :rtype:\n",
    "    \"\"\"\n",
    "\n",
    "    response = requests.get(f\"https://data.sec.gov/api/xbrl/companyconcept/{stock_cik}/us-gaap/Assets.json\".format(stock_cik=stock_cik), headers=headers)\n",
    "\n",
    "    return response"
   ],
   "metadata": {
    "collapsed": false,
    "pycharm": {
     "name": "#%%\n"
    }
   }
  },
  {
   "cell_type": "code",
   "execution_count": null,
   "outputs": [],
   "source": [
    "response = requests.get(\"https://data.sec.gov/api/xbrl/companyconcept/CIK0000320193/us-gaap/Assets.json\", headers=headers)"
   ],
   "metadata": {
    "collapsed": false,
    "pycharm": {
     "name": "#%%\n"
    }
   }
  }
 ],
 "metadata": {
  "kernelspec": {
   "display_name": "Python 3",
   "language": "python",
   "name": "python3"
  },
  "language_info": {
   "codemirror_mode": {
    "name": "ipython",
    "version": 2
   },
   "file_extension": ".py",
   "mimetype": "text/x-python",
   "name": "python",
   "nbconvert_exporter": "python",
   "pygments_lexer": "ipython2",
   "version": "2.7.6"
  }
 },
 "nbformat": 4,
 "nbformat_minor": 0
}