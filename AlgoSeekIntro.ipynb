{
 "cells": [
  {
   "cell_type": "code",
   "execution_count": 2,
   "id": "5929ebbc-9767-4963-aae3-35092199a689",
   "metadata": {
    "collapsed": true,
    "execution": {
     "iopub.execute_input": "2022-04-10T00:22:23.151821Z",
     "iopub.status.busy": "2022-04-10T00:22:23.151591Z",
     "iopub.status.idle": "2022-04-10T00:22:38.212363Z",
     "shell.execute_reply": "2022-04-10T00:22:38.211487Z",
     "shell.execute_reply.started": "2022-04-10T00:22:23.151796Z"
    },
    "jupyter": {
     "outputs_hidden": true
    },
    "tags": [],
    "vscode": {
     "languageId": "python"
    }
   },
   "outputs": [
    {
     "name": "stdout",
     "output_type": "stream",
     "text": [
      "Defaulting to user installation because normal site-packages is not writeable\n",
      "Collecting backtrader\n",
      "  Downloading backtrader-1.9.76.123-py2.py3-none-any.whl (410 kB)\n",
      "\u001b[K     |████████████████████████████████| 410 kB 27.5 MB/s eta 0:00:01\n",
      "\u001b[?25hCollecting awswrangler\n",
      "  Downloading awswrangler-2.15.0-py3-none-any.whl (238 kB)\n",
      "\u001b[K     |████████████████████████████████| 238 kB 86.7 MB/s eta 0:00:01\n",
      "\u001b[?25hCollecting Pandas-TA\n",
      "  Downloading pandas_ta-0.3.14b.tar.gz (115 kB)\n",
      "\u001b[K     |████████████████████████████████| 115 kB 85.8 MB/s eta 0:00:01\n",
      "\u001b[?25hCollecting progressbar2<4.0.0,>=3.53.3\n",
      "  Downloading progressbar2-3.55.0-py2.py3-none-any.whl (26 kB)\n",
      "Collecting jsonpath-ng<2.0.0,>=1.5.3\n",
      "  Downloading jsonpath_ng-1.5.3-py3-none-any.whl (29 kB)\n",
      "Collecting opensearch-py<2.0.0,>=1.0.0\n",
      "  Downloading opensearch_py-1.1.0-py2.py3-none-any.whl (207 kB)\n",
      "\u001b[K     |████████████████████████████████| 207 kB 78.0 MB/s eta 0:00:01\n",
      "\u001b[?25hCollecting pyarrow<7.1.0,>=2.0.0\n",
      "  Downloading pyarrow-7.0.0-cp37-cp37m-manylinux_2_17_x86_64.manylinux2014_x86_64.whl (26.7 MB)\n",
      "\u001b[K     |████████████████████████████████| 26.7 MB 82.4 MB/s eta 0:00:01\n",
      "\u001b[?25hCollecting backoff<2.0.0,>=1.11.1\n",
      "  Downloading backoff-1.11.1-py2.py3-none-any.whl (13 kB)\n",
      "Collecting pymysql<2.0.0,>=1.0.0\n",
      "  Downloading PyMySQL-1.0.2-py3-none-any.whl (43 kB)\n",
      "\u001b[K     |████████████████████████████████| 43 kB 5.3 MB/s  eta 0:00:01\n",
      "\u001b[?25hCollecting botocore<2.0.0,>=1.23.17\n",
      "  Downloading botocore-1.24.37-py3-none-any.whl (8.7 MB)\n",
      "\u001b[K     |████████████████████████████████| 8.7 MB 81.3 MB/s eta 0:00:01\n",
      "\u001b[?25hCollecting numpy<2.0.0,>=1.21.0\n",
      "  Downloading numpy-1.21.5-cp37-cp37m-manylinux_2_12_x86_64.manylinux2010_x86_64.whl (15.7 MB)\n",
      "\u001b[K     |████████████████████████████████| 15.7 MB 99.5 MB/s eta 0:00:01\n",
      "\u001b[?25hCollecting boto3<2.0.0,>=1.20.17\n",
      "  Downloading boto3-1.21.37-py3-none-any.whl (132 kB)\n",
      "\u001b[K     |████████████████████████████████| 132 kB 87.4 MB/s eta 0:00:01\n",
      "\u001b[?25hCollecting gremlinpython<4.0.0,>=3.5.2\n",
      "  Downloading gremlinpython-3.5.2-py2.py3-none-any.whl (70 kB)\n",
      "\u001b[K     |████████████████████████████████| 70 kB 21.7 MB/s eta 0:00:01\n",
      "\u001b[?25hCollecting requests-aws4auth<2.0.0,>=1.1.1\n",
      "  Downloading requests_aws4auth-1.1.2-py2.py3-none-any.whl (24 kB)\n",
      "Collecting openpyxl<3.1.0,>=3.0.0\n",
      "  Downloading openpyxl-3.0.9-py2.py3-none-any.whl (242 kB)\n",
      "\u001b[K     |████████████████████████████████| 242 kB 87.8 MB/s eta 0:00:01\n",
      "\u001b[?25hRequirement already satisfied: pandas<2.0.0,>=1.2.0 in /mnt/notebook-env/lib/python3.7/site-packages (from awswrangler) (1.3.1)\n",
      "Collecting pg8000<2.0.0,>=1.20.0\n",
      "  Downloading pg8000-1.24.1-py3-none-any.whl (33 kB)\n",
      "Collecting SPARQLWrapper<2.0.0,>=1.8.5\n",
      "  Downloading SPARQLWrapper-1.8.5-py3-none-any.whl (26 kB)\n",
      "Collecting redshift-connector<2.1.0,>=2.0.889\n",
      "  Downloading redshift_connector-2.0.905-py3-none-any.whl (109 kB)\n",
      "\u001b[K     |████████████████████████████████| 109 kB 115.4 MB/s eta 0:00:01\n",
      "\u001b[?25hCollecting jmespath<2.0.0,>=0.7.1\n",
      "  Downloading jmespath-1.0.0-py3-none-any.whl (23 kB)\n",
      "Collecting s3transfer<0.6.0,>=0.5.0\n",
      "  Downloading s3transfer-0.5.2-py3-none-any.whl (79 kB)\n",
      "\u001b[K     |████████████████████████████████| 79 kB 18.8 MB/s eta 0:00:01\n",
      "\u001b[?25hRequirement already satisfied: urllib3<1.27,>=1.25.4 in /mnt/notebook-env/lib/python3.7/site-packages (from botocore<2.0.0,>=1.23.17->awswrangler) (1.26.6)\n",
      "Requirement already satisfied: python-dateutil<3.0.0,>=2.1 in /mnt/notebook-env/lib/python3.7/site-packages (from botocore<2.0.0,>=1.23.17->awswrangler) (2.8.2)\n",
      "Requirement already satisfied: six<2.0.0,>=1.10.0 in /mnt/notebook-env/lib/python3.7/site-packages (from gremlinpython<4.0.0,>=3.5.2->awswrangler) (1.15.0)\n",
      "Collecting aiohttp<=3.8.1,>=3.8.0\n",
      "  Downloading aiohttp-3.8.1-cp37-cp37m-manylinux_2_5_x86_64.manylinux1_x86_64.manylinux_2_12_x86_64.manylinux2010_x86_64.whl (1.1 MB)\n",
      "\u001b[K     |████████████████████████████████| 1.1 MB 58.2 MB/s eta 0:00:01\n",
      "\u001b[?25hCollecting aenum<3.0.0,>=1.4.5\n",
      "  Downloading aenum-2.2.6-py3-none-any.whl (43 kB)\n",
      "\u001b[K     |████████████████████████████████| 43 kB 4.6 MB/s  eta 0:00:01\n",
      "\u001b[?25hCollecting isodate<1.0.0,>=0.6.0\n",
      "  Downloading isodate-0.6.1-py2.py3-none-any.whl (41 kB)\n",
      "\u001b[K     |████████████████████████████████| 41 kB 1.2 MB/s  eta 0:00:01\n",
      "\u001b[?25hCollecting nest-asyncio\n",
      "  Downloading nest_asyncio-1.5.5-py3-none-any.whl (5.2 kB)\n",
      "Collecting async-timeout<5.0,>=4.0.0a3\n",
      "  Downloading async_timeout-4.0.2-py3-none-any.whl (5.8 kB)\n",
      "Collecting charset-normalizer<3.0,>=2.0\n",
      "  Downloading charset_normalizer-2.0.12-py3-none-any.whl (39 kB)\n",
      "Requirement already satisfied: attrs>=17.3.0 in /mnt/notebook-env/lib/python3.7/site-packages (from aiohttp<=3.8.1,>=3.8.0->gremlinpython<4.0.0,>=3.5.2->awswrangler) (21.2.0)\n",
      "Collecting frozenlist>=1.1.1\n",
      "  Downloading frozenlist-1.3.0-cp37-cp37m-manylinux_2_5_x86_64.manylinux1_x86_64.manylinux_2_17_x86_64.manylinux2014_x86_64.whl (144 kB)\n",
      "\u001b[K     |████████████████████████████████| 144 kB 102.5 MB/s eta 0:00:01\n",
      "\u001b[?25hRequirement already satisfied: yarl<2.0,>=1.0 in /mnt/notebook-env/lib/python3.7/site-packages (from aiohttp<=3.8.1,>=3.8.0->gremlinpython<4.0.0,>=3.5.2->awswrangler) (1.6.3)\n",
      "Collecting aiosignal>=1.1.2\n",
      "  Downloading aiosignal-1.2.0-py3-none-any.whl (8.2 kB)\n",
      "Collecting asynctest==0.13.0\n",
      "  Downloading asynctest-0.13.0-py3-none-any.whl (26 kB)\n",
      "Requirement already satisfied: multidict<7.0,>=4.5 in /mnt/notebook-env/lib/python3.7/site-packages (from aiohttp<=3.8.1,>=3.8.0->gremlinpython<4.0.0,>=3.5.2->awswrangler) (5.1.0)\n",
      "Requirement already satisfied: typing-extensions>=3.7.4 in /mnt/notebook-env/lib/python3.7/site-packages (from aiohttp<=3.8.1,>=3.8.0->gremlinpython<4.0.0,>=3.5.2->awswrangler) (3.10.0.0)\n",
      "Collecting ply\n",
      "  Downloading ply-3.11-py2.py3-none-any.whl (49 kB)\n",
      "\u001b[K     |████████████████████████████████| 49 kB 14.5 MB/s eta 0:00:01\n",
      "\u001b[?25hRequirement already satisfied: decorator in /mnt/notebook-env/lib/python3.7/site-packages (from jsonpath-ng<2.0.0,>=1.5.3->awswrangler) (5.0.9)\n",
      "Collecting et-xmlfile\n",
      "  Downloading et_xmlfile-1.1.0-py3-none-any.whl (4.7 kB)\n",
      "Requirement already satisfied: certifi in /mnt/notebook-env/lib/python3.7/site-packages (from opensearch-py<2.0.0,>=1.0.0->awswrangler) (2021.5.30)\n",
      "Requirement already satisfied: pytz>=2017.3 in /mnt/notebook-env/lib/python3.7/site-packages (from pandas<2.0.0,>=1.2.0->awswrangler) (2021.1)\n",
      "Collecting scramp>=1.4.1\n",
      "  Downloading scramp-1.4.1-py3-none-any.whl (8.5 kB)\n",
      "Collecting python-utils>=2.3.0\n",
      "  Downloading python_utils-3.1.0-py2.py3-none-any.whl (19 kB)\n",
      "Requirement already satisfied: requests<2.27.2,>=2.23.0 in /mnt/notebook-env/lib/python3.7/site-packages (from redshift-connector<2.1.0,>=2.0.889->awswrangler) (2.25.1)\n",
      "Requirement already satisfied: packaging in /mnt/notebook-env/lib/python3.7/site-packages (from redshift-connector<2.1.0,>=2.0.889->awswrangler) (21.0)\n",
      "Collecting lxml>=4.6.5\n",
      "  Downloading lxml-4.8.0-cp37-cp37m-manylinux_2_17_x86_64.manylinux2014_x86_64.manylinux_2_24_x86_64.whl (6.4 MB)\n",
      "\u001b[K     |████████████████████████████████| 6.4 MB 69.6 MB/s eta 0:00:01                  | 2.6 MB 69.6 MB/s eta 0:00:01\n",
      "\u001b[?25hCollecting beautifulsoup4<5.0.0,>=4.7.0\n",
      "  Downloading beautifulsoup4-4.11.1-py3-none-any.whl (128 kB)\n",
      "\u001b[K     |████████████████████████████████| 128 kB 89.8 MB/s eta 0:00:01\n",
      "\u001b[?25hCollecting soupsieve>1.2\n",
      "  Downloading soupsieve-2.3.2-py3-none-any.whl (37 kB)\n",
      "Requirement already satisfied: idna<3,>=2.5 in /mnt/notebook-env/lib/python3.7/site-packages (from requests<2.27.2,>=2.23.0->redshift-connector<2.1.0,>=2.0.889->awswrangler) (2.10)\n",
      "Requirement already satisfied: chardet<5,>=3.0.2 in /mnt/notebook-env/lib/python3.7/site-packages (from requests<2.27.2,>=2.23.0->redshift-connector<2.1.0,>=2.0.889->awswrangler) (3.0.4)\n",
      "Requirement already satisfied: asn1crypto>=1.4.0 in /mnt/notebook-env/lib/python3.7/site-packages (from scramp>=1.4.1->pg8000<2.0.0,>=1.20.0->awswrangler) (1.4.0)\n",
      "Collecting rdflib>=4.0\n",
      "  Downloading rdflib-6.1.1-py3-none-any.whl (482 kB)\n",
      "\u001b[K     |████████████████████████████████| 482 kB 87.8 MB/s eta 0:00:01\n",
      "\u001b[?25hRequirement already satisfied: pyparsing in /mnt/notebook-env/lib/python3.7/site-packages (from rdflib>=4.0->SPARQLWrapper<2.0.0,>=1.8.5->awswrangler) (2.4.7)\n",
      "Requirement already satisfied: importlib-metadata in /mnt/notebook-env/lib/python3.7/site-packages (from rdflib>=4.0->SPARQLWrapper<2.0.0,>=1.8.5->awswrangler) (3.10.0)\n",
      "Requirement already satisfied: setuptools in /mnt/notebook-env/lib/python3.7/site-packages (from rdflib>=4.0->SPARQLWrapper<2.0.0,>=1.8.5->awswrangler) (52.0.0.post20210125)\n",
      "Requirement already satisfied: zipp>=0.5 in /mnt/notebook-env/lib/python3.7/site-packages (from importlib-metadata->rdflib>=4.0->SPARQLWrapper<2.0.0,>=1.8.5->awswrangler) (3.5.0)\n",
      "Building wheels for collected packages: Pandas-TA\n",
      "  Building wheel for Pandas-TA (setup.py) ... \u001b[?25ldone\n",
      "\u001b[?25h  Created wheel for Pandas-TA: filename=pandas_ta-0.3.14b0-py3-none-any.whl size=218924 sha256=c660a56e503aea72572ad50ebabd2117c90b86d09a3de2c3e9622c504731d581\n",
      "  Stored in directory: /home/emr-notebook/.cache/pip/wheels/0b/81/f0/cca85757840e4616a2c6b9fe12569d97d324c27cac60724c58\n",
      "Successfully built Pandas-TA\n",
      "Installing collected packages: jmespath, frozenlist, botocore, soupsieve, s3transfer, isodate, charset-normalizer, asynctest, async-timeout, aiosignal, scramp, rdflib, python-utils, ply, numpy, nest-asyncio, lxml, et-xmlfile, boto3, beautifulsoup4, aiohttp, aenum, SPARQLWrapper, requests-aws4auth, redshift-connector, pymysql, pyarrow, progressbar2, pg8000, opensearch-py, openpyxl, jsonpath-ng, gremlinpython, backoff, Pandas-TA, backtrader, awswrangler\n",
      "\u001b[33m  WARNING: The script normalizer is installed in '/home/emr-notebook/.local/bin' which is not on PATH.\n",
      "  Consider adding this directory to PATH or, if you prefer to suppress this warning, use --no-warn-script-location.\u001b[0m\n",
      "\u001b[33m  WARNING: The scripts csv2rdf, rdf2dot, rdfgraphisomorphism, rdfpipe and rdfs2dot are installed in '/home/emr-notebook/.local/bin' which is not on PATH.\n",
      "  Consider adding this directory to PATH or, if you prefer to suppress this warning, use --no-warn-script-location.\u001b[0m\n",
      "\u001b[33m  WARNING: The scripts f2py, f2py3 and f2py3.7 are installed in '/home/emr-notebook/.local/bin' which is not on PATH.\n",
      "  Consider adding this directory to PATH or, if you prefer to suppress this warning, use --no-warn-script-location.\u001b[0m\n",
      "\u001b[33m  WARNING: The script plasma_store is installed in '/home/emr-notebook/.local/bin' which is not on PATH.\n",
      "  Consider adding this directory to PATH or, if you prefer to suppress this warning, use --no-warn-script-location.\u001b[0m\n",
      "\u001b[33m  WARNING: The script jsonpath_ng is installed in '/home/emr-notebook/.local/bin' which is not on PATH.\n",
      "  Consider adding this directory to PATH or, if you prefer to suppress this warning, use --no-warn-script-location.\u001b[0m\n",
      "\u001b[33m  WARNING: The script btrun is installed in '/home/emr-notebook/.local/bin' which is not on PATH.\n",
      "  Consider adding this directory to PATH or, if you prefer to suppress this warning, use --no-warn-script-location.\u001b[0m\n",
      "\u001b[31mERROR: pip's dependency resolver does not currently take into account all the packages that are installed. This behaviour is the source of the following dependency conflicts.\n",
      "hdijupyterutils 0.18.0 requires jupyter>=1, which is not installed.\n",
      "hdijupyterutils 0.18.0 requires mock, which is not installed.\n",
      "hdijupyterutils 0.18.0 requires nose, which is not installed.\u001b[0m\n",
      "Successfully installed Pandas-TA-0.3.14b0 SPARQLWrapper-1.8.5 aenum-2.2.6 aiohttp-3.8.1 aiosignal-1.2.0 async-timeout-4.0.2 asynctest-0.13.0 awswrangler-2.15.0 backoff-1.11.1 backtrader-1.9.76.123 beautifulsoup4-4.11.1 boto3-1.21.37 botocore-1.24.37 charset-normalizer-2.0.12 et-xmlfile-1.1.0 frozenlist-1.3.0 gremlinpython-3.5.2 isodate-0.6.1 jmespath-1.0.0 jsonpath-ng-1.5.3 lxml-4.8.0 nest-asyncio-1.5.5 numpy-1.21.5 openpyxl-3.0.9 opensearch-py-1.1.0 pg8000-1.24.1 ply-3.11 progressbar2-3.55.0 pyarrow-7.0.0 pymysql-1.0.2 python-utils-3.1.0 rdflib-6.1.1 redshift-connector-2.0.905 requests-aws4auth-1.1.2 s3transfer-0.5.2 scramp-1.4.1 soupsieve-2.3.2\n",
      "Note: you may need to restart the kernel to use updated packages.\n"
     ]
    }
   ],
   "source": [
    "%pip install backtrader awswrangler Pandas-TA "
   ]
  },
  {
   "cell_type": "code",
   "execution_count": 86,
   "id": "6ecd5e2a-57d9-4ce1-bd05-8f4cb8cba509",
   "metadata": {
    "execution": {
     "iopub.execute_input": "2022-04-10T07:36:53.432609Z",
     "iopub.status.busy": "2022-04-10T07:36:53.432092Z",
     "iopub.status.idle": "2022-04-10T07:36:53.495466Z",
     "shell.execute_reply": "2022-04-10T07:36:53.494749Z",
     "shell.execute_reply.started": "2022-04-10T07:36:53.432571Z"
    },
    "tags": [],
    "vscode": {
     "languageId": "python"
    }
   },
   "outputs": [
    {
     "data": {
      "application/vnd.jupyter.widget-view+json": {
       "model_id": "5904cc73cb51491a91ac63d185ed1e17",
       "version_major": 2,
       "version_minor": 0
      },
      "text/plain": [
       "VBox()"
      ]
     },
     "metadata": {},
     "output_type": "display_data"
    },
    {
     "name": "stderr",
     "output_type": "stream",
     "text": [
      "An error was encountered:\n",
      "Invalid status code '404' from http://localhost:8998/sessions/0 with error payload: {\"msg\":\"Session '0' not found.\"}\n"
     ]
    }
   ],
   "source": [
    "from pyspark.sql.functions import *\n",
    "from pyspark.sql.window import Window\n",
    "import pyspark"
   ]
  },
  {
   "cell_type": "code",
   "execution_count": 36,
   "id": "0354e0da-fe06-49c3-824d-c3ee80dec36f",
   "metadata": {
    "execution": {
     "iopub.execute_input": "2022-04-10T01:57:39.932338Z",
     "iopub.status.busy": "2022-04-10T01:57:39.932085Z",
     "iopub.status.idle": "2022-04-10T01:57:39.992769Z",
     "shell.execute_reply": "2022-04-10T01:57:39.992194Z",
     "shell.execute_reply.started": "2022-04-10T01:57:39.932309Z"
    },
    "vscode": {
     "languageId": "python"
    }
   },
   "outputs": [
    {
     "data": {
      "application/vnd.jupyter.widget-view+json": {
       "model_id": "64d393ec18a3454cbccf83cd6d78b303",
       "version_major": 2,
       "version_minor": 0
      },
      "text/plain": [
       "VBox()"
      ]
     },
     "metadata": {},
     "output_type": "display_data"
    },
    {
     "data": {
      "application/vnd.jupyter.widget-view+json": {
       "model_id": "",
       "version_major": 2,
       "version_minor": 0
      },
      "text/plain": [
       "FloatProgress(value=0.0, bar_style='info', description='Progress:', layout=Layout(height='25px', width='50%'),…"
      ]
     },
     "metadata": {},
     "output_type": "display_data"
    }
   ],
   "source": [
    "tcols = ['openbartime', \n",
    "         'firsttradetime',\n",
    "         'highbidtime', \n",
    "         'highasktime', \n",
    "         'hightradetime',\n",
    "         'lowbidtime', \n",
    "         'lowasktime', \n",
    "         'lowtradetime',\n",
    "         'closebartime', \n",
    "         'lasttradetime']"
   ]
  },
  {
   "cell_type": "code",
   "execution_count": 37,
   "id": "dae5405c-5e35-40f3-8489-461f5b169ca3",
   "metadata": {
    "execution": {
     "iopub.execute_input": "2022-04-10T01:57:40.719649Z",
     "iopub.status.busy": "2022-04-10T01:57:40.719431Z",
     "iopub.status.idle": "2022-04-10T01:57:40.768691Z",
     "shell.execute_reply": "2022-04-10T01:57:40.768133Z",
     "shell.execute_reply.started": "2022-04-10T01:57:40.719625Z"
    },
    "vscode": {
     "languageId": "python"
    }
   },
   "outputs": [
    {
     "data": {
      "application/vnd.jupyter.widget-view+json": {
       "model_id": "a71f5e7d6c2248aea8130567ad2e6ef2",
       "version_major": 2,
       "version_minor": 0
      },
      "text/plain": [
       "VBox()"
      ]
     },
     "metadata": {},
     "output_type": "display_data"
    },
    {
     "data": {
      "application/vnd.jupyter.widget-view+json": {
       "model_id": "",
       "version_major": 2,
       "version_minor": 0
      },
      "text/plain": [
       "FloatProgress(value=0.0, bar_style='info', description='Progress:', layout=Layout(height='25px', width='50%'),…"
      ]
     },
     "metadata": {},
     "output_type": "display_data"
    }
   ],
   "source": [
    "keep = ['firsttradeprice', \n",
    "        'hightradeprice', \n",
    "        'lowtradeprice', \n",
    "        'lasttradeprice', \n",
    "        'minspread', \n",
    "        'maxspread',\n",
    "        'volumeweightprice', \n",
    "        'nbboquotecount', \n",
    "        'tradeatbid', \n",
    "        'tradeatbidmid', \n",
    "        'tradeatmid', \n",
    "        'tradeatmidask', \n",
    "        'tradeatask', \n",
    "        'volume', \n",
    "        'totaltrades', \n",
    "        'finravolume', \n",
    "        'finravolumeweightprice', \n",
    "        'uptickvolume', \n",
    "        'downtickvolume', \n",
    "        'repeatuptickvolume', \n",
    "        'repeatdowntickvolume', \n",
    "        'tradetomidvolweight', \n",
    "        'tradetomidvolweightrelative']"
   ]
  },
  {
   "cell_type": "code",
   "execution_count": 38,
   "id": "e87e4c4f-2027-401e-b238-7887591161c8",
   "metadata": {
    "execution": {
     "iopub.execute_input": "2022-04-10T01:58:29.844003Z",
     "iopub.status.busy": "2022-04-10T01:58:29.843781Z",
     "iopub.status.idle": "2022-04-10T01:58:29.895877Z",
     "shell.execute_reply": "2022-04-10T01:58:29.895165Z",
     "shell.execute_reply.started": "2022-04-10T01:58:29.843980Z"
    },
    "vscode": {
     "languageId": "python"
    }
   },
   "outputs": [
    {
     "data": {
      "application/vnd.jupyter.widget-view+json": {
       "model_id": "0871a8b7feb045c88f9572e1631130e4",
       "version_major": 2,
       "version_minor": 0
      },
      "text/plain": [
       "VBox()"
      ]
     },
     "metadata": {},
     "output_type": "display_data"
    },
    {
     "data": {
      "application/vnd.jupyter.widget-view+json": {
       "model_id": "",
       "version_major": 2,
       "version_minor": 0
      },
      "text/plain": [
       "FloatProgress(value=0.0, bar_style='info', description='Progress:', layout=Layout(height='25px', width='50%'),…"
      ]
     },
     "metadata": {},
     "output_type": "display_data"
    }
   ],
   "source": [
    "trades =[\n",
    "    'firsttradeprice', \n",
    "    'hightradeprice', \n",
    "    'lowtradeprice', \n",
    "    'lasttradeprice'\n",
    "]"
   ]
  },
  {
   "cell_type": "code",
   "execution_count": 74,
   "id": "c8b0630a-8854-4f57-a1bc-15fda21f9574",
   "metadata": {
    "execution": {
     "iopub.execute_input": "2022-04-10T03:50:07.722066Z",
     "iopub.status.busy": "2022-04-10T03:50:07.721842Z",
     "iopub.status.idle": "2022-04-10T04:04:08.259888Z",
     "shell.execute_reply": "2022-04-10T04:04:08.259158Z",
     "shell.execute_reply.started": "2022-04-10T03:50:07.722041Z"
    },
    "tags": [],
    "vscode": {
     "languageId": "python"
    }
   },
   "outputs": [
    {
     "data": {
      "application/vnd.jupyter.widget-view+json": {
       "model_id": "f62df2ac4cdd452d9c3a60a1aa0bb85c",
       "version_major": 2,
       "version_minor": 0
      },
      "text/plain": [
       "VBox()"
      ]
     },
     "metadata": {},
     "output_type": "display_data"
    },
    {
     "data": {
      "application/vnd.jupyter.widget-view+json": {
       "model_id": "",
       "version_major": 2,
       "version_minor": 0
      },
      "text/plain": [
       "FloatProgress(value=0.0, bar_style='info', description='Progress:', layout=Layout(height='25px', width='50%'),…"
      ]
     },
     "metadata": {},
     "output_type": "display_data"
    }
   ],
   "source": [
    "df = spark.read.load('s3://algoseekraw/us-equity-1min-taq/**/**.csv.gz',format=\"csv\",inferSchema=\"true\",header=\"true\")"
   ]
  },
  {
   "cell_type": "code",
   "execution_count": 75,
   "id": "6ed79356-42fb-4f47-b2b1-5152095d23bf",
   "metadata": {
    "execution": {
     "iopub.execute_input": "2022-04-10T04:04:40.246039Z",
     "iopub.status.busy": "2022-04-10T04:04:40.245778Z",
     "iopub.status.idle": "2022-04-10T04:04:45.549650Z",
     "shell.execute_reply": "2022-04-10T04:04:45.548793Z",
     "shell.execute_reply.started": "2022-04-10T04:04:40.246009Z"
    },
    "tags": [],
    "vscode": {
     "languageId": "python"
    }
   },
   "outputs": [
    {
     "data": {
      "application/vnd.jupyter.widget-view+json": {
       "model_id": "fd634166aaca43c1aab658811fe74732",
       "version_major": 2,
       "version_minor": 0
      },
      "text/plain": [
       "VBox()"
      ]
     },
     "metadata": {},
     "output_type": "display_data"
    },
    {
     "data": {
      "application/vnd.jupyter.widget-view+json": {
       "model_id": "",
       "version_major": 2,
       "version_minor": 0
      },
      "text/plain": [
       "FloatProgress(value=0.0, bar_style='info', description='Progress:', layout=Layout(height='25px', width='50%'),…"
      ]
     },
     "metadata": {},
     "output_type": "display_data"
    },
    {
     "name": "stdout",
     "output_type": "stream",
     "text": [
      "+--------+------+------------+------------------+------------+-----------+------------+-----------+------------------+---------------+--------------+------------------+------------+-----------+------------------+------------+-----------+------------------+--------------+-------------+------------------+-----------+----------+------------------+-----------+----------+------------------+-------------+------------+------------------+-------------+------------+-------------+------------+------------------+--------------+-------------+---------+---------+----------+-----------------+--------------+----------+-------------+----------+-------------+----------+--------------------+------+-----------+-----------+----------------------+------------+--------------+------------------+--------------------+-----------------+-------------------+---------------------------+-------------+-------------+\n",
      "|    Date|Ticker|TimeBarStart|       OpenBarTime|OpenBidPrice|OpenBidSize|OpenAskPrice|OpenAskSize|    FirstTradeTime|FirstTradePrice|FirstTradeSize|       HighBidTime|HighBidPrice|HighBidSize|       HighAskTime|HighAskPrice|HighAskSize|     HighTradeTime|HighTradePrice|HighTradeSize|        LowBidTime|LowBidPrice|LowBidSize|        LowAskTime|LowAskPrice|LowAskSize|      LowTradeTime|LowTradePrice|LowTradeSize|      CloseBarTime|CloseBidPrice|CloseBidSize|CloseAskPrice|CloseAskSize|     LastTradeTime|LastTradePrice|LastTradeSize|MinSpread|MaxSpread|CancelSize|VolumeWeightPrice|NBBOQuoteCount|TradeAtBid|TradeAtBidMid|TradeAtMid|TradeAtMidAsk|TradeAtAsk|TradeAtCrossOrLocked|Volume|TotalTrades|FinraVolume|FinraVolumeWeightPrice|UptickVolume|DowntickVolume|RepeatUptickVolume|RepeatDowntickVolume|UnknownTickVolume|TradeToMidVolWeight|TradeToMidVolWeightRelative|TimeWeightBid|TimeWeightAsk|\n",
      "+--------+------+------------+------------------+------------+-----------+------------+-----------+------------------+---------------+--------------+------------------+------------+-----------+------------------+------------+-----------+------------------+--------------+-------------+------------------+-----------+----------+------------------+-----------+----------+------------------+-------------+------------+------------------+-------------+------------+-------------+------------+------------------+--------------+-------------+---------+---------+----------+-----------------+--------------+----------+-------------+----------+-------------+----------+--------------------+------+-----------+-----------+----------------------+------------+--------------+------------------+--------------------+-----------------+-------------------+---------------------------+-------------+-------------+\n",
      "|20200908|  TSLA|       04:00|04:00:00.000000000|        null|       null|        null|       null|04:00:00.030589680|          391.0|          3784|04:00:00.752066015|       391.3|        100|04:00:00.002660681|      409.96|        100|04:00:00.383172959|        392.22|           74|04:00:00.033566221|      355.0|       300|04:00:56.754759353|     385.84|       100|04:00:55.060630062|       385.55|          10|04:00:59.999999999|       385.84|         300|        387.0|         200|04:00:59.407663922|        385.84|           80|     0.02|    54.96|      null|        389.29187|           215|      1881|         7786|       167|         4949|      1957|                   0| 20524|        390|          0|                  null|        4184|          5000|              1704|                4946|             4690|           -9.25921|                   -0.02016|    387.98051|    389.66835|\n",
      "|20200908|  TSLA|       04:01|04:01:00.000000000|      385.84|        300|       387.0|        200|04:01:00.287387993|          386.2|             2|04:01:56.411815682|       393.6|        100|04:01:58.814778561|       395.0|        200|04:01:56.535506112|         394.0|           30|04:01:00.000000000|     385.84|       300|04:01:00.000000000|      387.0|       200|04:01:00.287387993|        386.2|           2|04:01:59.999999999|        393.0|         100|        395.0|         100|04:01:59.700924074|         393.1|           10|     0.04|     2.88|      null|        389.49285|           154|      1025|         4699|       403|         4093|       540|                   0| 10760|        279|          0|                  null|        3990|          2720|              2520|                1530|                0|           -6.98332|                   -0.06461|      389.179|    390.54976|\n",
      "|20200908|  TSLA|       04:02|04:02:00.000000000|       393.0|        100|       395.0|        100|04:02:00.315184763|          394.0|             8|04:02:02.240358088|       395.0|        800|04:02:03.885690602|       395.5|        100|04:02:02.301219555|        395.13|           20|04:02:50.840451450|      390.0|      1300|04:02:54.489810119|     391.79|       100|04:02:53.237784251|       390.98|          65|04:02:59.999999999|        390.0|        1300|        392.0|         100|04:02:58.282925422|         391.0|           25|     0.13|      2.0|      null|        393.04831|           124|       552|         3510|      1061|         3293|       224|                   0|  8640|        256|          0|                  null|        1988|          4049|              1336|                1267|                0|            -1.9967|                   -0.03325|    392.20451|    393.53433|\n",
      "|20200908|  TSLA|       04:03|04:03:00.000000000|       390.0|       1300|       392.0|        100|04:03:00.508281510|         391.65|             2|04:03:08.909050510|       391.5|        100|04:03:00.000000000|       392.0|        100|04:03:01.534004628|        391.79|           18|04:03:27.698599572|      388.0|       700|04:03:34.372577244|      389.0|       100|04:03:29.650749341|        388.5|           1|04:03:59.999999999|        389.5|         300|        391.0|         400|04:03:59.668282574|        390.79|           77|     0.25|     2.96|      null|        389.89285|           188|      1124|         2098|       443|         5348|      4214|                   0| 13227|        432|          0|                  null|        3515|          2759|              4808|                2145|                0|           10.44024|                    0.19367|    389.01798|    390.24728|\n",
      "|20200908|  TSLA|       04:04|04:04:00.000000000|       389.5|        300|       391.0|        400|04:04:00.129107021|         390.79|             1|04:04:15.116225471|       390.0|        300|04:04:00.000000000|       391.0|        400|04:04:00.183138049|         390.8|            1|04:04:45.983938585|      387.0|       100|04:04:58.773690397|      389.0|       400|04:04:45.984014307|       387.53|          22|04:04:59.999999999|        388.0|         300|        389.0|         400|04:04:57.854099327|        388.51|            4|     0.11|      3.0|      null|        389.67595|            94|       165|         2306|       304|         2308|        23|                   0|  5106|        212|          0|                  null|        1450|          2144|               367|                1145|                0|           -2.75078|                   -0.00757|    388.95944|    390.29306|\n",
      "|20200908|  TSLA|       04:05|04:05:00.000000000|       388.0|        300|       389.0|        400|04:05:01.387201557|          388.8|             1|04:05:53.826113825|       389.2|        100|04:05:39.648143153|       390.5|        400|04:05:39.329434479|         390.0|            3|04:05:15.739242616|     387.08|       200|04:05:19.529754246|     387.86|       100|04:05:24.215482199|       387.53|           1|04:05:59.999999999|        389.2|         100|       390.45|         200|04:05:59.660269987|         389.7|          278|     0.46|      2.2|      null|        388.58631|           158|      1306|         5466|         3|         4009|       641|                   0| 11425|        198|          0|                  null|        2724|          5101|              2794|                 806|                0|          -11.27667|                   -0.09659|    388.14819|    389.31175|\n",
      "|20200908|  TSLA|       04:06|04:06:00.000000000|       389.2|        100|      390.45|        200|04:06:00.257964527|          389.7|            20|04:06:00.000000000|       389.2|        100|04:06:00.000000000|      390.45|        200|04:06:00.257964527|         389.7|           20|04:06:21.423328047|     386.12|       200|04:06:24.024132597|     387.19|       100|04:06:21.423330308|        386.5|          10|04:06:59.999999999|       387.23|         100|       387.87|         100|04:06:59.617728933|        387.32|           68|     0.02|     1.75|      null|        387.64864|           108|       790|         3802|         0|         2565|       408|                   0|  7565|        209|          0|                  null|        1398|          1730|              1099|                3338|                0|          -10.91355|                    -0.0981|    387.14659|    388.05579|\n",
      "|20200908|  TSLA|       04:07|04:07:00.000000000|      387.23|        100|      387.87|        100|04:07:00.145909824|          387.7|             3|04:07:56.206409623|       388.5|        100|04:07:03.232022343|       389.0|        600|04:07:50.063367567|         388.6|           99|04:07:00.000000000|     387.23|       100|04:07:01.658086271|      387.5|       100|04:07:24.576883549|        387.3|          15|04:07:59.999999999|       388.41|         100|        389.0|         400|04:07:58.108989594|         388.5|            9|     0.25|     1.77|      null|         388.0215|           126|      2030|         1672|         0|         2285|       408|                   0|  6395|        151|          0|                  null|        1249|          1066|              2262|                1818|                0|           -7.84941|                   -0.12319|    387.77217|    388.70467|\n",
      "|20200908|  TSLA|       04:08|04:08:00.000000000|      388.41|        100|       389.0|        400|04:08:01.512794819|         388.79|            50|04:08:21.526438173|       389.4|        100|04:08:03.036171092|       390.0|       2400|04:08:23.144971012|         389.7|           63|04:08:28.916978455|      388.0|       300|04:08:19.460147640|     388.55|       100|04:08:06.204823099|        388.5|          79|04:08:59.999999999|        389.0|         100|        389.6|         100|04:08:55.341679983|         389.0|            4|     0.05|     1.76|      null|        389.04366|           144|      2066|         1665|         9|         2293|       222|                   0|  6255|        147|          0|                  null|        1350|          1664|              2540|                 701|                0|           -6.54516|                   -0.41712|    388.68545|    389.65839|\n",
      "|20200908|  TSLA|       04:09|04:09:00.000000000|       389.0|        100|       389.6|        100|04:09:00.003264043|         389.02|           100|04:09:00.000000000|       389.0|        100|04:09:02.682024377|      389.79|        100|04:09:17.717330054|         389.3|            2|04:09:06.919648749|      388.0|       200|04:09:52.225669277|      389.0|       100|04:09:46.956344582|       388.25|           5|04:09:59.999999999|       388.25|         300|        389.0|        4100|04:09:59.034598698|         388.8|            5|     0.46|     1.79|      null|        388.95767|           204|         0|          280|         0|         1203|         0|                   0|  1483|         98|          0|                  null|         186|           564|                49|                 684|                0|            7.98989|                    0.06097|    388.38522|    389.35361|\n",
      "|20200908|  TSLA|       04:10|04:10:00.000000000|      388.25|        300|       389.0|       4100|04:10:00.586081355|         388.33|            75|04:10:00.000000000|      388.25|        300|04:10:00.000000000|       389.0|       4100|04:10:01.413032034|        388.78|            4|04:10:13.248184783|      387.0|      3600|04:10:42.902076614|      387.5|       300|04:10:16.444430762|        387.0|         225|04:10:59.999999999|       387.25|         500|       387.96|         100|04:10:56.383828601|        387.52|            4|     0.01|     1.75|      null|        387.64148|           142|      3651|         5069|       152|         2070|      2197|                   0| 13139|        217|          0|                  null|        2932|          3291|              4004|                2912|                0|           -9.00693|                   -0.16278|    387.26137|    388.08726|\n",
      "|20200908|  TSLA|       04:11|04:11:00.000000000|      387.25|        500|      387.96|        100|04:11:03.476254334|         387.94|             3|04:11:18.538291751|       387.6|        100|04:11:00.000000000|      387.96|        100|04:11:03.476254334|        387.94|            3|04:11:00.000000000|     387.25|       500|04:11:52.656860399|      387.9|       100|04:11:26.716309604|       387.25|         108|04:11:59.999999999|       387.33|         100|        387.9|         100|04:11:56.986210300|        387.78|            2|     0.36|     0.71|      null|        387.53274|            36|       108|         1258|         0|          730|         0|                   0|  2096|         93|          0|                  null|         301|          1209|               444|                 142|                0|           -8.42009|                   -0.09951|    387.30191|    387.95266|\n",
      "|20200908|  TSLA|       04:12|04:12:00.000000000|      387.33|        100|       387.9|        100|04:12:02.353577879|          387.5|             7|04:12:06.257502101|       388.0|        100|04:12:06.178158073|       389.0|        100|04:12:06.178182764|        388.29|            4|04:12:50.798587092|      386.5|       200|04:12:50.556204500|      387.0|       400|04:12:50.798591594|        386.7|          94|04:12:59.999999999|        387.0|         100|       387.62|         500|04:12:59.927837827|        387.59|           28|     0.25|     1.65|      null|        387.21201|           140|      2931|         3665|         0|         1527|       184|                   0|  8307|        205|          0|                  null|        1160|          1635|               788|                4724|                0|          -14.82015|                   -0.23211|    387.27767|    388.14536|\n",
      "|20200908|  TSLA|       04:13|04:13:00.000000000|       387.0|        100|      387.62|        500|04:13:00.142307782|         387.12|             1|04:13:01.338883723|       387.2|        800|04:13:04.096824075|      388.25|        200|04:13:04.096847332|         388.2|          436|04:13:31.582179986|     386.12|       100|04:13:56.535162245|     386.43|       800|04:13:59.698085262|       386.15|          23|04:13:59.999999999|       386.13|         100|       386.43|         500|04:13:59.698085262|        386.15|           23|     0.19|     1.05|      null|        386.97868|           128|      1494|         2811|         0|         1934|      1233|                   0|  7472|        152|          0|                  null|        1918|          3002|               971|                1581|                0|            0.79825|                   -0.03255|    386.62516|    387.28896|\n",
      "|20200908|  TSLA|       04:14|04:14:00.000000000|      386.13|        100|      386.43|        500|04:14:00.029504640|          386.4|            10|04:14:04.618014225|       386.3|        100|04:14:00.888952281|       387.0|        600|04:14:04.662550109|        386.51|            3|04:14:46.666985533|      382.0|       600|04:14:57.399308181|     382.75|       100|04:14:46.666996038|       382.12|         287|04:14:59.999999999|        382.5|         100|        384.0|        1900|04:14:59.471885498|        383.02|            8|     0.01|      2.9|      null|         384.5454|           202|      2981|         8794|        64|         2765|      1011|                   0| 15615|        451|          0|                  null|        1930|          6133|              1693|                5859|                0|          -22.11476|                   -0.18975|    384.14058|    385.26672|\n",
      "|20200908|  TSLA|       04:15|04:15:00.000000000|       382.5|        100|       384.0|       1900|04:15:00.241991611|         383.89|           199|04:15:52.127178608|      384.07|        200|04:15:52.386838483|       385.0|        600|04:15:52.699185698|         385.0|            4|04:15:28.890493104|     382.17|       300|04:15:30.801126901|     382.99|       100|04:15:28.890494775|        382.5|          81|04:15:59.999999999|       384.01|         100|        385.0|         600|04:15:59.716278127|        384.84|            1|      0.2|      1.7|      null|        383.65246|           138|       571|         1870|       481|         2077|      3511|                   0|  8510|        189|          0|                  null|        2395|          1105|              3936|                1074|                0|            14.4158|                    0.17493|    382.96357|    383.77414|\n",
      "|20200908|  TSLA|       04:16|04:16:00.000000000|      384.01|        100|       385.0|        600|04:16:03.485657782|         384.15|             1|04:16:02.866215595|      384.15|        100|04:16:00.000000000|       385.0|        600|04:16:07.459341412|        384.98|          291|04:16:57.648104920|      381.1|       500|04:16:56.206102467|      382.0|       100|04:16:59.710407342|       381.26|           9|04:16:59.999999999|        381.1|         500|        382.0|         100|04:16:59.710407342|        381.26|            9|     0.01|      1.5|      null|        382.93592|           148|      2178|         3847|       265|         2246|       141|                   0|  8677|        229|          0|                  null|        1185|          3049|              1327|                3116|                0|           -8.82782|                    -0.1323|    382.76574|    383.51748|\n",
      "|20200908|  TSLA|       04:17|04:17:00.000000000|       381.1|        500|       382.0|        100|04:17:00.207770644|         381.99|           154|04:17:54.258789306|       382.2|        100|04:17:55.123473833|      382.83|        100|04:17:56.524512065|        382.83|            4|04:17:00.000000000|      381.1|       500|04:17:12.945605479|     381.48|       100|04:17:16.487020890|       381.13|          12|04:17:59.999999999|       382.11|         100|       382.83|         100|04:17:59.674795515|        382.26|           60|     0.09|     1.29|      null|         381.8876|           136|       458|         2057|        55|         3836|       447|                   0|  6853|        204|          0|                  null|        2083|          1335|              2044|                1391|                0|            13.3176|                    0.14227|    381.41921|    382.10429|\n",
      "|20200908|  TSLA|       04:18|04:18:00.000000000|      382.11|        100|      382.83|        100|04:18:01.712256337|         382.59|            99|04:18:00.000000000|      382.11|        100|04:18:00.000000000|      382.83|        100|04:18:01.712256337|        382.59|           99|04:18:47.276482293|      379.0|       400|04:18:47.730262479|      379.5|       100|04:18:48.306020969|        379.0|           5|04:18:59.999999999|        379.0|         200|       379.72|         100|04:18:59.957521288|        379.18|           10|     0.03|     1.87|      null|        380.57176|           200|      5184|         8565|       192|         1252|         1|                   0| 15194|        601|          0|                  null|         874|          5199|               351|                8770|                0|          -30.71114|                   -0.33128|    380.74769|    381.56171|\n",
      "|20200908|  TSLA|       04:19|04:19:00.000000000|       379.0|        200|      379.72|        100|04:19:00.355565544|         379.47|             4|04:19:00.000000000|       379.0|        200|04:19:00.000000000|      379.72|        100|04:19:00.381453475|        379.53|            5|04:19:17.772537922|      377.0|       700|04:19:21.284698120|      377.9|       100|04:19:17.772550095|        377.3|          76|04:19:59.999999999|        378.5|         200|        379.0|         300|04:19:59.407318335|         378.5|           36|      0.1|      1.6|      null|        378.32647|           172|      2242|         5730|       113|         2592|      2331|                   0| 13008|        443|          0|                  null|        2076|          3546|              2396|                4990|                0|          -11.95172|                    0.01328|    378.08897|    379.04061|\n",
      "+--------+------+------------+------------------+------------+-----------+------------+-----------+------------------+---------------+--------------+------------------+------------+-----------+------------------+------------+-----------+------------------+--------------+-------------+------------------+-----------+----------+------------------+-----------+----------+------------------+-------------+------------+------------------+-------------+------------+-------------+------------+------------------+--------------+-------------+---------+---------+----------+-----------------+--------------+----------+-------------+----------+-------------+----------+--------------------+------+-----------+-----------+----------------------+------------+--------------+------------------+--------------------+-----------------+-------------------+---------------------------+-------------+-------------+\n",
      "only showing top 20 rows"
     ]
    }
   ],
   "source": [
    "df.show()"
   ]
  },
  {
   "cell_type": "code",
   "execution_count": 13,
   "id": "9778b046-e5ad-4611-9218-beeb1e9ef42a",
   "metadata": {
    "execution": {
     "iopub.execute_input": "2022-04-10T00:57:32.608198Z",
     "iopub.status.busy": "2022-04-10T00:57:32.607977Z",
     "iopub.status.idle": "2022-04-10T01:07:29.700855Z",
     "shell.execute_reply": "2022-04-10T01:07:29.700112Z",
     "shell.execute_reply.started": "2022-04-10T00:57:32.608175Z"
    },
    "tags": [],
    "vscode": {
     "languageId": "python"
    }
   },
   "outputs": [
    {
     "data": {
      "application/vnd.jupyter.widget-view+json": {
       "model_id": "0ea9e0d926ab4f089a7d826113682278",
       "version_major": 2,
       "version_minor": 0
      },
      "text/plain": [
       "VBox()"
      ]
     },
     "metadata": {},
     "output_type": "display_data"
    },
    {
     "data": {
      "application/vnd.jupyter.widget-view+json": {
       "model_id": "",
       "version_major": 2,
       "version_minor": 0
      },
      "text/plain": [
       "FloatProgress(value=0.0, bar_style='info', description='Progress:', layout=Layout(height='25px', width='50%'),…"
      ]
     },
     "metadata": {},
     "output_type": "display_data"
    },
    {
     "name": "stdout",
     "output_type": "stream",
     "text": [
      "+----------------------+\n",
      "|count(DISTINCT Ticker)|\n",
      "+----------------------+\n",
      "|                   100|\n",
      "+----------------------+"
     ]
    }
   ],
   "source": [
    "df.select(countDistinct(\"Ticker\")).show()"
   ]
  },
  {
   "cell_type": "code",
   "execution_count": 70,
   "id": "be2d2bc9-49f4-491e-9a6c-55304ffac5c2",
   "metadata": {
    "execution": {
     "iopub.execute_input": "2022-04-10T03:36:48.901328Z",
     "iopub.status.busy": "2022-04-10T03:36:48.901094Z",
     "iopub.status.idle": "2022-04-10T03:36:48.955724Z",
     "shell.execute_reply": "2022-04-10T03:36:48.955017Z",
     "shell.execute_reply.started": "2022-04-10T03:36:48.901302Z"
    },
    "tags": [],
    "vscode": {
     "languageId": "python"
    }
   },
   "outputs": [
    {
     "data": {
      "application/vnd.jupyter.widget-view+json": {
       "model_id": "b1f22be22e4843dc9d6553483c0dcb5d",
       "version_major": 2,
       "version_minor": 0
      },
      "text/plain": [
       "VBox()"
      ]
     },
     "metadata": {},
     "output_type": "display_data"
    },
    {
     "data": {
      "application/vnd.jupyter.widget-view+json": {
       "model_id": "",
       "version_major": 2,
       "version_minor": 0
      },
      "text/plain": [
       "FloatProgress(value=0.0, bar_style='info', description='Progress:', layout=Layout(height='25px', width='50%'),…"
      ]
     },
     "metadata": {},
     "output_type": "display_data"
    },
    {
     "name": "stderr",
     "output_type": "stream",
     "text": [
      "An error was encountered:\n",
      "'NoneType' object has no attribute 'printSchema'\n",
      "Traceback (most recent call last):\n",
      "AttributeError: 'NoneType' object has no attribute 'printSchema'\n",
      "\n"
     ]
    }
   ],
   "source": [
    "df.printSchema()"
   ]
  },
  {
   "cell_type": "code",
   "execution_count": 76,
   "id": "853f1b66-313d-4532-b7dd-180494cc86e8",
   "metadata": {
    "execution": {
     "iopub.execute_input": "2022-04-10T04:13:23.186612Z",
     "iopub.status.busy": "2022-04-10T04:13:23.186112Z",
     "iopub.status.idle": "2022-04-10T04:13:23.446868Z",
     "shell.execute_reply": "2022-04-10T04:13:23.446149Z",
     "shell.execute_reply.started": "2022-04-10T04:13:23.186569Z"
    },
    "tags": [],
    "vscode": {
     "languageId": "python"
    }
   },
   "outputs": [
    {
     "data": {
      "application/vnd.jupyter.widget-view+json": {
       "model_id": "817de651dfaf418caf57181f7f254eee",
       "version_major": 2,
       "version_minor": 0
      },
      "text/plain": [
       "VBox()"
      ]
     },
     "metadata": {},
     "output_type": "display_data"
    },
    {
     "data": {
      "application/vnd.jupyter.widget-view+json": {
       "model_id": "",
       "version_major": 2,
       "version_minor": 0
      },
      "text/plain": [
       "FloatProgress(value=0.0, bar_style='info', description='Progress:', layout=Layout(height='25px', width='50%'),…"
      ]
     },
     "metadata": {},
     "output_type": "display_data"
    }
   ],
   "source": [
    "df = df.withColumn('Date',to_date(df.Date.cast(\"string\"),'yyyyMMdd'))"
   ]
  },
  {
   "cell_type": "code",
   "execution_count": 77,
   "id": "50aed351-2e33-4ad4-bbf8-f7a3c32f5ea9",
   "metadata": {
    "execution": {
     "iopub.execute_input": "2022-04-10T04:13:25.373600Z",
     "iopub.status.busy": "2022-04-10T04:13:25.373378Z",
     "iopub.status.idle": "2022-04-10T04:13:25.421281Z",
     "shell.execute_reply": "2022-04-10T04:13:25.420643Z",
     "shell.execute_reply.started": "2022-04-10T04:13:25.373575Z"
    },
    "tags": [],
    "vscode": {
     "languageId": "python"
    }
   },
   "outputs": [
    {
     "data": {
      "application/vnd.jupyter.widget-view+json": {
       "model_id": "a93429851da24c6faa23507330dd4377",
       "version_major": 2,
       "version_minor": 0
      },
      "text/plain": [
       "VBox()"
      ]
     },
     "metadata": {},
     "output_type": "display_data"
    },
    {
     "data": {
      "application/vnd.jupyter.widget-view+json": {
       "model_id": "",
       "version_major": 2,
       "version_minor": 0
      },
      "text/plain": [
       "FloatProgress(value=0.0, bar_style='info', description='Progress:', layout=Layout(height='25px', width='50%'),…"
      ]
     },
     "metadata": {},
     "output_type": "display_data"
    }
   ],
   "source": [
    "from pyspark.sql.types import *"
   ]
  },
  {
   "cell_type": "code",
   "execution_count": 78,
   "id": "efe5efc6-d975-49b8-9c40-fe6a03660e5b",
   "metadata": {
    "execution": {
     "iopub.execute_input": "2022-04-10T04:13:26.523250Z",
     "iopub.status.busy": "2022-04-10T04:13:26.522984Z",
     "iopub.status.idle": "2022-04-10T04:13:26.782308Z",
     "shell.execute_reply": "2022-04-10T04:13:26.781661Z",
     "shell.execute_reply.started": "2022-04-10T04:13:26.523224Z"
    },
    "tags": [],
    "vscode": {
     "languageId": "python"
    }
   },
   "outputs": [
    {
     "data": {
      "application/vnd.jupyter.widget-view+json": {
       "model_id": "94ed46c7f2074979b65b16a209f9a7f1",
       "version_major": 2,
       "version_minor": 0
      },
      "text/plain": [
       "VBox()"
      ]
     },
     "metadata": {},
     "output_type": "display_data"
    },
    {
     "data": {
      "application/vnd.jupyter.widget-view+json": {
       "model_id": "",
       "version_major": 2,
       "version_minor": 0
      },
      "text/plain": [
       "FloatProgress(value=0.0, bar_style='info', description='Progress:', layout=Layout(height='25px', width='50%'),…"
      ]
     },
     "metadata": {},
     "output_type": "display_data"
    }
   ],
   "source": [
    "df = df.withColumn('datetime',to_timestamp(concat_ws(' ',df.Date,df.TimeBarStart)))"
   ]
  },
  {
   "cell_type": "code",
   "execution_count": 26,
   "id": "199d4fa1-6169-4ab2-8992-cd48ecd965c1",
   "metadata": {
    "execution": {
     "iopub.execute_input": "2022-04-10T01:41:50.314181Z",
     "iopub.status.busy": "2022-04-10T01:41:50.313945Z",
     "iopub.status.idle": "2022-04-10T01:42:01.624701Z",
     "shell.execute_reply": "2022-04-10T01:42:01.623951Z",
     "shell.execute_reply.started": "2022-04-10T01:41:50.314155Z"
    },
    "tags": [],
    "vscode": {
     "languageId": "python"
    }
   },
   "outputs": [
    {
     "data": {
      "application/vnd.jupyter.widget-view+json": {
       "model_id": "769c10fedb2f42df8be08b265a9910c4",
       "version_major": 2,
       "version_minor": 0
      },
      "text/plain": [
       "VBox()"
      ]
     },
     "metadata": {},
     "output_type": "display_data"
    },
    {
     "data": {
      "application/vnd.jupyter.widget-view+json": {
       "model_id": "",
       "version_major": 2,
       "version_minor": 0
      },
      "text/plain": [
       "FloatProgress(value=0.0, bar_style='info', description='Progress:', layout=Layout(height='25px', width='50%'),…"
      ]
     },
     "metadata": {},
     "output_type": "display_data"
    },
    {
     "name": "stdout",
     "output_type": "stream",
     "text": [
      "+----------+------+-------------------+------------------+------------+-----------+------------+-----------+------------------+---------------+--------------+------------------+------------+-----------+------------------+------------+-----------+------------------+--------------+-------------+------------------+-----------+----------+------------------+-----------+----------+------------------+-------------+------------+------------------+-------------+------------+-------------+------------+------------------+--------------+-------------+---------+---------+----------+-----------------+--------------+----------+-------------+----------+-------------+----------+--------------------+------+-----------+-----------+----------------------+------------+--------------+------------------+--------------------+-----------------+-------------------+---------------------------+-------------+-------------+\n",
      "|      Date|Ticker|       TimeBarStart|       OpenBarTime|OpenBidPrice|OpenBidSize|OpenAskPrice|OpenAskSize|    FirstTradeTime|FirstTradePrice|FirstTradeSize|       HighBidTime|HighBidPrice|HighBidSize|       HighAskTime|HighAskPrice|HighAskSize|     HighTradeTime|HighTradePrice|HighTradeSize|        LowBidTime|LowBidPrice|LowBidSize|        LowAskTime|LowAskPrice|LowAskSize|      LowTradeTime|LowTradePrice|LowTradeSize|      CloseBarTime|CloseBidPrice|CloseBidSize|CloseAskPrice|CloseAskSize|     LastTradeTime|LastTradePrice|LastTradeSize|MinSpread|MaxSpread|CancelSize|VolumeWeightPrice|NBBOQuoteCount|TradeAtBid|TradeAtBidMid|TradeAtMid|TradeAtMidAsk|TradeAtAsk|TradeAtCrossOrLocked|Volume|TotalTrades|FinraVolume|FinraVolumeWeightPrice|UptickVolume|DowntickVolume|RepeatUptickVolume|RepeatDowntickVolume|UnknownTickVolume|TradeToMidVolWeight|TradeToMidVolWeightRelative|TimeWeightBid|TimeWeightAsk|\n",
      "+----------+------+-------------------+------------------+------------+-----------+------------+-----------+------------------+---------------+--------------+------------------+------------+-----------+------------------+------------+-----------+------------------+--------------+-------------+------------------+-----------+----------+------------------+-----------+----------+------------------+-------------+------------+------------------+-------------+------------+-------------+------------+------------------+--------------+-------------+---------+---------+----------+-----------------+--------------+----------+-------------+----------+-------------+----------+--------------------+------+-----------+-----------+----------------------+------------+--------------+------------------+--------------------+-----------------+-------------------+---------------------------+-------------+-------------+\n",
      "|2020-09-08|  TSLA|1970-01-01 04:00:00|04:00:00.000000000|        null|       null|        null|       null|04:00:00.030589680|          391.0|          3784|04:00:00.752066015|       391.3|        100|04:00:00.002660681|      409.96|        100|04:00:00.383172959|        392.22|           74|04:00:00.033566221|      355.0|       300|04:00:56.754759353|     385.84|       100|04:00:55.060630062|       385.55|          10|04:00:59.999999999|       385.84|         300|        387.0|         200|04:00:59.407663922|        385.84|           80|     0.02|    54.96|      null|        389.29187|           215|      1881|         7786|       167|         4949|      1957|                   0| 20524|        390|          0|                  null|        4184|          5000|              1704|                4946|             4690|           -9.25921|                   -0.02016|    387.98051|    389.66835|\n",
      "|2020-09-08|  TSLA|1970-01-01 04:01:00|04:01:00.000000000|      385.84|        300|       387.0|        200|04:01:00.287387993|          386.2|             2|04:01:56.411815682|       393.6|        100|04:01:58.814778561|       395.0|        200|04:01:56.535506112|         394.0|           30|04:01:00.000000000|     385.84|       300|04:01:00.000000000|      387.0|       200|04:01:00.287387993|        386.2|           2|04:01:59.999999999|        393.0|         100|        395.0|         100|04:01:59.700924074|         393.1|           10|     0.04|     2.88|      null|        389.49285|           154|      1025|         4699|       403|         4093|       540|                   0| 10760|        279|          0|                  null|        3990|          2720|              2520|                1530|                0|           -6.98332|                   -0.06461|      389.179|    390.54976|\n",
      "|2020-09-08|  TSLA|1970-01-01 04:02:00|04:02:00.000000000|       393.0|        100|       395.0|        100|04:02:00.315184763|          394.0|             8|04:02:02.240358088|       395.0|        800|04:02:03.885690602|       395.5|        100|04:02:02.301219555|        395.13|           20|04:02:50.840451450|      390.0|      1300|04:02:54.489810119|     391.79|       100|04:02:53.237784251|       390.98|          65|04:02:59.999999999|        390.0|        1300|        392.0|         100|04:02:58.282925422|         391.0|           25|     0.13|      2.0|      null|        393.04831|           124|       552|         3510|      1061|         3293|       224|                   0|  8640|        256|          0|                  null|        1988|          4049|              1336|                1267|                0|            -1.9967|                   -0.03325|    392.20451|    393.53433|\n",
      "|2020-09-08|  TSLA|1970-01-01 04:03:00|04:03:00.000000000|       390.0|       1300|       392.0|        100|04:03:00.508281510|         391.65|             2|04:03:08.909050510|       391.5|        100|04:03:00.000000000|       392.0|        100|04:03:01.534004628|        391.79|           18|04:03:27.698599572|      388.0|       700|04:03:34.372577244|      389.0|       100|04:03:29.650749341|        388.5|           1|04:03:59.999999999|        389.5|         300|        391.0|         400|04:03:59.668282574|        390.79|           77|     0.25|     2.96|      null|        389.89285|           188|      1124|         2098|       443|         5348|      4214|                   0| 13227|        432|          0|                  null|        3515|          2759|              4808|                2145|                0|           10.44024|                    0.19367|    389.01798|    390.24728|\n",
      "|2020-09-08|  TSLA|1970-01-01 04:04:00|04:04:00.000000000|       389.5|        300|       391.0|        400|04:04:00.129107021|         390.79|             1|04:04:15.116225471|       390.0|        300|04:04:00.000000000|       391.0|        400|04:04:00.183138049|         390.8|            1|04:04:45.983938585|      387.0|       100|04:04:58.773690397|      389.0|       400|04:04:45.984014307|       387.53|          22|04:04:59.999999999|        388.0|         300|        389.0|         400|04:04:57.854099327|        388.51|            4|     0.11|      3.0|      null|        389.67595|            94|       165|         2306|       304|         2308|        23|                   0|  5106|        212|          0|                  null|        1450|          2144|               367|                1145|                0|           -2.75078|                   -0.00757|    388.95944|    390.29306|\n",
      "|2020-09-08|  TSLA|1970-01-01 04:05:00|04:05:00.000000000|       388.0|        300|       389.0|        400|04:05:01.387201557|          388.8|             1|04:05:53.826113825|       389.2|        100|04:05:39.648143153|       390.5|        400|04:05:39.329434479|         390.0|            3|04:05:15.739242616|     387.08|       200|04:05:19.529754246|     387.86|       100|04:05:24.215482199|       387.53|           1|04:05:59.999999999|        389.2|         100|       390.45|         200|04:05:59.660269987|         389.7|          278|     0.46|      2.2|      null|        388.58631|           158|      1306|         5466|         3|         4009|       641|                   0| 11425|        198|          0|                  null|        2724|          5101|              2794|                 806|                0|          -11.27667|                   -0.09659|    388.14819|    389.31175|\n",
      "|2020-09-08|  TSLA|1970-01-01 04:06:00|04:06:00.000000000|       389.2|        100|      390.45|        200|04:06:00.257964527|          389.7|            20|04:06:00.000000000|       389.2|        100|04:06:00.000000000|      390.45|        200|04:06:00.257964527|         389.7|           20|04:06:21.423328047|     386.12|       200|04:06:24.024132597|     387.19|       100|04:06:21.423330308|        386.5|          10|04:06:59.999999999|       387.23|         100|       387.87|         100|04:06:59.617728933|        387.32|           68|     0.02|     1.75|      null|        387.64864|           108|       790|         3802|         0|         2565|       408|                   0|  7565|        209|          0|                  null|        1398|          1730|              1099|                3338|                0|          -10.91355|                    -0.0981|    387.14659|    388.05579|\n",
      "|2020-09-08|  TSLA|1970-01-01 04:07:00|04:07:00.000000000|      387.23|        100|      387.87|        100|04:07:00.145909824|          387.7|             3|04:07:56.206409623|       388.5|        100|04:07:03.232022343|       389.0|        600|04:07:50.063367567|         388.6|           99|04:07:00.000000000|     387.23|       100|04:07:01.658086271|      387.5|       100|04:07:24.576883549|        387.3|          15|04:07:59.999999999|       388.41|         100|        389.0|         400|04:07:58.108989594|         388.5|            9|     0.25|     1.77|      null|         388.0215|           126|      2030|         1672|         0|         2285|       408|                   0|  6395|        151|          0|                  null|        1249|          1066|              2262|                1818|                0|           -7.84941|                   -0.12319|    387.77217|    388.70467|\n",
      "|2020-09-08|  TSLA|1970-01-01 04:08:00|04:08:00.000000000|      388.41|        100|       389.0|        400|04:08:01.512794819|         388.79|            50|04:08:21.526438173|       389.4|        100|04:08:03.036171092|       390.0|       2400|04:08:23.144971012|         389.7|           63|04:08:28.916978455|      388.0|       300|04:08:19.460147640|     388.55|       100|04:08:06.204823099|        388.5|          79|04:08:59.999999999|        389.0|         100|        389.6|         100|04:08:55.341679983|         389.0|            4|     0.05|     1.76|      null|        389.04366|           144|      2066|         1665|         9|         2293|       222|                   0|  6255|        147|          0|                  null|        1350|          1664|              2540|                 701|                0|           -6.54516|                   -0.41712|    388.68545|    389.65839|\n",
      "|2020-09-08|  TSLA|1970-01-01 04:09:00|04:09:00.000000000|       389.0|        100|       389.6|        100|04:09:00.003264043|         389.02|           100|04:09:00.000000000|       389.0|        100|04:09:02.682024377|      389.79|        100|04:09:17.717330054|         389.3|            2|04:09:06.919648749|      388.0|       200|04:09:52.225669277|      389.0|       100|04:09:46.956344582|       388.25|           5|04:09:59.999999999|       388.25|         300|        389.0|        4100|04:09:59.034598698|         388.8|            5|     0.46|     1.79|      null|        388.95767|           204|         0|          280|         0|         1203|         0|                   0|  1483|         98|          0|                  null|         186|           564|                49|                 684|                0|            7.98989|                    0.06097|    388.38522|    389.35361|\n",
      "|2020-09-08|  TSLA|1970-01-01 04:10:00|04:10:00.000000000|      388.25|        300|       389.0|       4100|04:10:00.586081355|         388.33|            75|04:10:00.000000000|      388.25|        300|04:10:00.000000000|       389.0|       4100|04:10:01.413032034|        388.78|            4|04:10:13.248184783|      387.0|      3600|04:10:42.902076614|      387.5|       300|04:10:16.444430762|        387.0|         225|04:10:59.999999999|       387.25|         500|       387.96|         100|04:10:56.383828601|        387.52|            4|     0.01|     1.75|      null|        387.64148|           142|      3651|         5069|       152|         2070|      2197|                   0| 13139|        217|          0|                  null|        2932|          3291|              4004|                2912|                0|           -9.00693|                   -0.16278|    387.26137|    388.08726|\n",
      "|2020-09-08|  TSLA|1970-01-01 04:11:00|04:11:00.000000000|      387.25|        500|      387.96|        100|04:11:03.476254334|         387.94|             3|04:11:18.538291751|       387.6|        100|04:11:00.000000000|      387.96|        100|04:11:03.476254334|        387.94|            3|04:11:00.000000000|     387.25|       500|04:11:52.656860399|      387.9|       100|04:11:26.716309604|       387.25|         108|04:11:59.999999999|       387.33|         100|        387.9|         100|04:11:56.986210300|        387.78|            2|     0.36|     0.71|      null|        387.53274|            36|       108|         1258|         0|          730|         0|                   0|  2096|         93|          0|                  null|         301|          1209|               444|                 142|                0|           -8.42009|                   -0.09951|    387.30191|    387.95266|\n",
      "|2020-09-08|  TSLA|1970-01-01 04:12:00|04:12:00.000000000|      387.33|        100|       387.9|        100|04:12:02.353577879|          387.5|             7|04:12:06.257502101|       388.0|        100|04:12:06.178158073|       389.0|        100|04:12:06.178182764|        388.29|            4|04:12:50.798587092|      386.5|       200|04:12:50.556204500|      387.0|       400|04:12:50.798591594|        386.7|          94|04:12:59.999999999|        387.0|         100|       387.62|         500|04:12:59.927837827|        387.59|           28|     0.25|     1.65|      null|        387.21201|           140|      2931|         3665|         0|         1527|       184|                   0|  8307|        205|          0|                  null|        1160|          1635|               788|                4724|                0|          -14.82015|                   -0.23211|    387.27767|    388.14536|\n",
      "|2020-09-08|  TSLA|1970-01-01 04:13:00|04:13:00.000000000|       387.0|        100|      387.62|        500|04:13:00.142307782|         387.12|             1|04:13:01.338883723|       387.2|        800|04:13:04.096824075|      388.25|        200|04:13:04.096847332|         388.2|          436|04:13:31.582179986|     386.12|       100|04:13:56.535162245|     386.43|       800|04:13:59.698085262|       386.15|          23|04:13:59.999999999|       386.13|         100|       386.43|         500|04:13:59.698085262|        386.15|           23|     0.19|     1.05|      null|        386.97868|           128|      1494|         2811|         0|         1934|      1233|                   0|  7472|        152|          0|                  null|        1918|          3002|               971|                1581|                0|            0.79825|                   -0.03255|    386.62516|    387.28896|\n",
      "|2020-09-08|  TSLA|1970-01-01 04:14:00|04:14:00.000000000|      386.13|        100|      386.43|        500|04:14:00.029504640|          386.4|            10|04:14:04.618014225|       386.3|        100|04:14:00.888952281|       387.0|        600|04:14:04.662550109|        386.51|            3|04:14:46.666985533|      382.0|       600|04:14:57.399308181|     382.75|       100|04:14:46.666996038|       382.12|         287|04:14:59.999999999|        382.5|         100|        384.0|        1900|04:14:59.471885498|        383.02|            8|     0.01|      2.9|      null|         384.5454|           202|      2981|         8794|        64|         2765|      1011|                   0| 15615|        451|          0|                  null|        1930|          6133|              1693|                5859|                0|          -22.11476|                   -0.18975|    384.14058|    385.26672|\n",
      "|2020-09-08|  TSLA|1970-01-01 04:15:00|04:15:00.000000000|       382.5|        100|       384.0|       1900|04:15:00.241991611|         383.89|           199|04:15:52.127178608|      384.07|        200|04:15:52.386838483|       385.0|        600|04:15:52.699185698|         385.0|            4|04:15:28.890493104|     382.17|       300|04:15:30.801126901|     382.99|       100|04:15:28.890494775|        382.5|          81|04:15:59.999999999|       384.01|         100|        385.0|         600|04:15:59.716278127|        384.84|            1|      0.2|      1.7|      null|        383.65246|           138|       571|         1870|       481|         2077|      3511|                   0|  8510|        189|          0|                  null|        2395|          1105|              3936|                1074|                0|            14.4158|                    0.17493|    382.96357|    383.77414|\n",
      "|2020-09-08|  TSLA|1970-01-01 04:16:00|04:16:00.000000000|      384.01|        100|       385.0|        600|04:16:03.485657782|         384.15|             1|04:16:02.866215595|      384.15|        100|04:16:00.000000000|       385.0|        600|04:16:07.459341412|        384.98|          291|04:16:57.648104920|      381.1|       500|04:16:56.206102467|      382.0|       100|04:16:59.710407342|       381.26|           9|04:16:59.999999999|        381.1|         500|        382.0|         100|04:16:59.710407342|        381.26|            9|     0.01|      1.5|      null|        382.93592|           148|      2178|         3847|       265|         2246|       141|                   0|  8677|        229|          0|                  null|        1185|          3049|              1327|                3116|                0|           -8.82782|                    -0.1323|    382.76574|    383.51748|\n",
      "|2020-09-08|  TSLA|1970-01-01 04:17:00|04:17:00.000000000|       381.1|        500|       382.0|        100|04:17:00.207770644|         381.99|           154|04:17:54.258789306|       382.2|        100|04:17:55.123473833|      382.83|        100|04:17:56.524512065|        382.83|            4|04:17:00.000000000|      381.1|       500|04:17:12.945605479|     381.48|       100|04:17:16.487020890|       381.13|          12|04:17:59.999999999|       382.11|         100|       382.83|         100|04:17:59.674795515|        382.26|           60|     0.09|     1.29|      null|         381.8876|           136|       458|         2057|        55|         3836|       447|                   0|  6853|        204|          0|                  null|        2083|          1335|              2044|                1391|                0|            13.3176|                    0.14227|    381.41921|    382.10429|\n",
      "|2020-09-08|  TSLA|1970-01-01 04:18:00|04:18:00.000000000|      382.11|        100|      382.83|        100|04:18:01.712256337|         382.59|            99|04:18:00.000000000|      382.11|        100|04:18:00.000000000|      382.83|        100|04:18:01.712256337|        382.59|           99|04:18:47.276482293|      379.0|       400|04:18:47.730262479|      379.5|       100|04:18:48.306020969|        379.0|           5|04:18:59.999999999|        379.0|         200|       379.72|         100|04:18:59.957521288|        379.18|           10|     0.03|     1.87|      null|        380.57176|           200|      5184|         8565|       192|         1252|         1|                   0| 15194|        601|          0|                  null|         874|          5199|               351|                8770|                0|          -30.71114|                   -0.33128|    380.74769|    381.56171|\n",
      "|2020-09-08|  TSLA|1970-01-01 04:19:00|04:19:00.000000000|       379.0|        200|      379.72|        100|04:19:00.355565544|         379.47|             4|04:19:00.000000000|       379.0|        200|04:19:00.000000000|      379.72|        100|04:19:00.381453475|        379.53|            5|04:19:17.772537922|      377.0|       700|04:19:21.284698120|      377.9|       100|04:19:17.772550095|        377.3|          76|04:19:59.999999999|        378.5|         200|        379.0|         300|04:19:59.407318335|         378.5|           36|      0.1|      1.6|      null|        378.32647|           172|      2242|         5730|       113|         2592|      2331|                   0| 13008|        443|          0|                  null|        2076|          3546|              2396|                4990|                0|          -11.95172|                    0.01328|    378.08897|    379.04061|\n",
      "+----------+------+-------------------+------------------+------------+-----------+------------+-----------+------------------+---------------+--------------+------------------+------------+-----------+------------------+------------+-----------+------------------+--------------+-------------+------------------+-----------+----------+------------------+-----------+----------+------------------+-------------+------------+------------------+-------------+------------+-------------+------------+------------------+--------------+-------------+---------+---------+----------+-----------------+--------------+----------+-------------+----------+-------------+----------+--------------------+------+-----------+-----------+----------------------+------------+--------------+------------------+--------------------+-----------------+-------------------+---------------------------+-------------+-------------+\n",
      "only showing top 20 rows"
     ]
    }
   ],
   "source": [
    "df.withColumn('TimeBarStart',to_timestamp(df.TimeBarStart,'HH:mm')).show()"
   ]
  },
  {
   "cell_type": "code",
   "execution_count": 62,
   "id": "f2ec1283-6df2-4915-bffe-36d07aa12819",
   "metadata": {
    "execution": {
     "iopub.execute_input": "2022-04-10T02:53:12.754225Z",
     "iopub.status.busy": "2022-04-10T02:53:12.754006Z",
     "iopub.status.idle": "2022-04-10T02:53:12.810825Z",
     "shell.execute_reply": "2022-04-10T02:53:12.810278Z",
     "shell.execute_reply.started": "2022-04-10T02:53:12.754201Z"
    },
    "tags": [],
    "vscode": {
     "languageId": "python"
    }
   },
   "outputs": [
    {
     "data": {
      "application/vnd.jupyter.widget-view+json": {
       "model_id": "479305c80ad1400d8c652462f69d9fb6",
       "version_major": 2,
       "version_minor": 0
      },
      "text/plain": [
       "VBox()"
      ]
     },
     "metadata": {},
     "output_type": "display_data"
    },
    {
     "data": {
      "application/vnd.jupyter.widget-view+json": {
       "model_id": "",
       "version_major": 2,
       "version_minor": 0
      },
      "text/plain": [
       "FloatProgress(value=0.0, bar_style='info', description='Progress:', layout=Layout(height='25px', width='50%'),…"
      ]
     },
     "metadata": {},
     "output_type": "display_data"
    }
   ],
   "source": [
    "df = df.withColumn('Minute',minute(df.datetime))\n",
    "# df = df.withColumn('Minute',minute(df.datetime))"
   ]
  },
  {
   "cell_type": "code",
   "execution_count": null,
   "id": "ebd96b88-4c9a-4e5d-ae3f-3f214cd5c29a",
   "metadata": {
    "vscode": {
     "languageId": "python"
    }
   },
   "outputs": [],
   "source": [
    "df.withColumn('OpenBarTime',to_timestamp(df.OpenBarTime)).show()\n"
   ]
  },
  {
   "cell_type": "code",
   "execution_count": 67,
   "id": "d675d8ff-c9fe-47e1-98fe-14eee2ef8c9d",
   "metadata": {
    "execution": {
     "iopub.execute_input": "2022-04-10T03:22:59.933025Z",
     "iopub.status.busy": "2022-04-10T03:22:59.932796Z",
     "iopub.status.idle": "2022-04-10T03:23:00.194681Z",
     "shell.execute_reply": "2022-04-10T03:23:00.194023Z",
     "shell.execute_reply.started": "2022-04-10T03:22:59.933001Z"
    },
    "tags": [],
    "vscode": {
     "languageId": "python"
    }
   },
   "outputs": [
    {
     "data": {
      "application/vnd.jupyter.widget-view+json": {
       "model_id": "74161090fa824edcb1a131f806acdbe2",
       "version_major": 2,
       "version_minor": 0
      },
      "text/plain": [
       "VBox()"
      ]
     },
     "metadata": {},
     "output_type": "display_data"
    },
    {
     "data": {
      "application/vnd.jupyter.widget-view+json": {
       "model_id": "",
       "version_major": 2,
       "version_minor": 0
      },
      "text/plain": [
       "FloatProgress(value=0.0, bar_style='info', description='Progress:', layout=Layout(height='25px', width='50%'),…"
      ]
     },
     "metadata": {},
     "output_type": "display_data"
    }
   ],
   "source": [
    "ticwindowSpec  = Window.partitionBy(\"Ticker\").orderBy(\"datetime\").rowsBetween(-1,0)\n",
    "retWindowSpec  = Window.partitionBy(\"Ticker\").orderBy(\"datetime\").rowsBetween(-1,0)\n",
    "rngTst = Window.partitionBy(\"Ticker\").orderBy(\"datetime\").rangeBetween(Window.unboundedPreceding,0)\n"
   ]
  },
  {
   "cell_type": "code",
   "execution_count": null,
   "id": "05c1fcec-2b04-4cb8-9041-1f5012b6ed15",
   "metadata": {
    "tags": [],
    "vscode": {
     "languageId": "python"
    }
   },
   "outputs": [],
   "source": [
    "df.withColumn('1minsma', avg(df.LastTradePrice).over(ticwindowSpec)).show()"
   ]
  },
  {
   "cell_type": "code",
   "execution_count": 68,
   "id": "cad8a592-400b-4ab0-9bbe-faf43bfe7ac8",
   "metadata": {
    "execution": {
     "iopub.execute_input": "2022-04-10T03:23:20.637085Z",
     "iopub.status.busy": "2022-04-10T03:23:20.636844Z",
     "iopub.status.idle": "2022-04-10T03:34:31.741133Z",
     "shell.execute_reply": "2022-04-10T03:34:31.740432Z",
     "shell.execute_reply.started": "2022-04-10T03:23:20.637060Z"
    },
    "tags": [],
    "vscode": {
     "languageId": "python"
    }
   },
   "outputs": [
    {
     "data": {
      "application/vnd.jupyter.widget-view+json": {
       "model_id": "dde7eea104324c60a9efa3a3ac222581",
       "version_major": 2,
       "version_minor": 0
      },
      "text/plain": [
       "VBox()"
      ]
     },
     "metadata": {},
     "output_type": "display_data"
    },
    {
     "data": {
      "application/vnd.jupyter.widget-view+json": {
       "model_id": "",
       "version_major": 2,
       "version_minor": 0
      },
      "text/plain": [
       "FloatProgress(value=0.0, bar_style='info', description='Progress:', layout=Layout(height='25px', width='50%'),…"
      ]
     },
     "metadata": {},
     "output_type": "display_data"
    },
    {
     "name": "stdout",
     "output_type": "stream",
     "text": [
      "+----------+------+------------+------------------+------------+-----------+------------+-----------+--------------+---------------+--------------+------------------+------------+-----------+------------------+------------+-----------+-------------+--------------+-------------+------------------+-----------+----------+------------------+-----------+----------+------------+-------------+------------+------------------+-------------+------------+-------------+------------+-------------+--------------+-------------+---------+---------+----------+-----------------+--------------+----------+-------------+----------+-------------+----------+--------------------+------+-----------+-----------+----------------------+------------+--------------+------------------+--------------------+-----------------+-------------------+---------------------------+-------------+-------------+-------------------+------+-----------+\n",
      "|      Date|Ticker|TimeBarStart|       OpenBarTime|OpenBidPrice|OpenBidSize|OpenAskPrice|OpenAskSize|FirstTradeTime|FirstTradePrice|FirstTradeSize|       HighBidTime|HighBidPrice|HighBidSize|       HighAskTime|HighAskPrice|HighAskSize|HighTradeTime|HighTradePrice|HighTradeSize|        LowBidTime|LowBidPrice|LowBidSize|        LowAskTime|LowAskPrice|LowAskSize|LowTradeTime|LowTradePrice|LowTradeSize|      CloseBarTime|CloseBidPrice|CloseBidSize|CloseAskPrice|CloseAskSize|LastTradeTime|LastTradePrice|LastTradeSize|MinSpread|MaxSpread|CancelSize|VolumeWeightPrice|NBBOQuoteCount|TradeAtBid|TradeAtBidMid|TradeAtMid|TradeAtMidAsk|TradeAtAsk|TradeAtCrossOrLocked|Volume|TotalTrades|FinraVolume|FinraVolumeWeightPrice|UptickVolume|DowntickVolume|RepeatUptickVolume|RepeatDowntickVolume|UnknownTickVolume|TradeToMidVolWeight|TradeToMidVolWeightRelative|TimeWeightBid|TimeWeightAsk|           datetime|Minute|returns1min|\n",
      "+----------+------+------------+------------------+------------+-----------+------------+-----------+--------------+---------------+--------------+------------------+------------+-----------+------------------+------------+-----------+-------------+--------------+-------------+------------------+-----------+----------+------------------+-----------+----------+------------+-------------+------------+------------------+-------------+------------+-------------+------------+-------------+--------------+-------------+---------+---------+----------+-----------------+--------------+----------+-------------+----------+-------------+----------+--------------------+------+-----------+-----------+----------------------+------------+--------------+------------------+--------------------+-----------------+-------------------+---------------------------+-------------+-------------+-------------------+------+-----------+\n",
      "|2018-01-02|  CSCO|       04:00|04:00:00.000000000|        null|       null|        null|       null|          null|           null|          null|04:00:00.055555348|       38.25|       1000|04:00:00.053749866|       38.79|        300|         null|          null|         null|04:00:00.053708539|      37.71|       200|04:00:00.053749866|      38.79|       300|        null|         null|        null|04:00:59.999999999|        38.25|        1000|        38.79|         400|         null|          null|         null|     0.54|     1.08|      null|             null|             9|         0|            0|         0|            0|         0|                   0|     0|          0|          0|                  null|           0|             0|                 0|                   0|                0|               null|                       null|     38.24999|        38.79|2018-01-02 04:00:00|     0|       null|\n",
      "|2018-01-02|  CSCO|       04:01|04:01:00.000000000|       38.25|       1000|       38.79|        400|          null|           null|          null|04:01:00.000000000|       38.25|       1000|04:01:00.000000000|       38.79|        400|         null|          null|         null|04:01:00.000000000|      38.25|      1000|04:01:00.000000000|      38.79|       400|        null|         null|        null|04:01:59.999999999|        38.25|        1000|        38.79|         400|         null|          null|         null|     0.54|     0.54|      null|             null|             0|         0|            0|         0|            0|         0|                   0|     0|          0|          0|                  null|           0|             0|                 0|                   0|                0|               null|                       null|        38.25|        38.79|2018-01-02 04:01:00|     1|       null|\n",
      "|2018-01-02|  CSCO|       04:02|04:02:00.000000000|       38.25|       1000|       38.79|        400|          null|           null|          null|04:02:00.000000000|       38.25|       1000|04:02:00.000000000|       38.79|        400|         null|          null|         null|04:02:00.000000000|      38.25|      1000|04:02:00.000000000|      38.79|       400|        null|         null|        null|04:02:59.999999999|        38.25|        1000|        38.79|         400|         null|          null|         null|     0.54|     0.54|      null|             null|             0|         0|            0|         0|            0|         0|                   0|     0|          0|          0|                  null|           0|             0|                 0|                   0|                0|               null|                       null|        38.25|        38.79|2018-01-02 04:02:00|     2|       null|\n",
      "|2018-01-02|  CSCO|       04:03|04:03:00.000000000|       38.25|       1000|       38.79|        400|          null|           null|          null|04:03:00.000000000|       38.25|       1000|04:03:00.000000000|       38.79|        400|         null|          null|         null|04:03:00.000000000|      38.25|      1000|04:03:00.000000000|      38.79|       400|        null|         null|        null|04:03:59.999999999|        38.25|        1000|        38.79|         400|         null|          null|         null|     0.54|     0.54|      null|             null|             0|         0|            0|         0|            0|         0|                   0|     0|          0|          0|                  null|           0|             0|                 0|                   0|                0|               null|                       null|        38.25|        38.79|2018-01-02 04:03:00|     3|       null|\n",
      "|2018-01-02|  CSCO|       04:04|04:04:00.000000000|       38.25|       1000|       38.79|        400|          null|           null|          null|04:04:00.000000000|       38.25|       1000|04:04:00.000000000|       38.79|        400|         null|          null|         null|04:04:00.000000000|      38.25|      1000|04:04:00.000000000|      38.79|       400|        null|         null|        null|04:04:59.999999999|        38.25|        1000|        38.79|         400|         null|          null|         null|     0.54|     0.54|      null|             null|             0|         0|            0|         0|            0|         0|                   0|     0|          0|          0|                  null|           0|             0|                 0|                   0|                0|               null|                       null|        38.25|        38.79|2018-01-02 04:04:00|     4|       null|\n",
      "|2018-01-02|  CSCO|       04:05|04:05:00.000000000|       38.25|       1000|       38.79|        400|          null|           null|          null|04:05:00.000000000|       38.25|       1000|04:05:00.000000000|       38.79|        400|         null|          null|         null|04:05:00.000000000|      38.25|      1000|04:05:00.000000000|      38.79|       400|        null|         null|        null|04:05:59.999999999|        38.25|        1000|        38.79|         400|         null|          null|         null|     0.54|     0.54|      null|             null|             0|         0|            0|         0|            0|         0|                   0|     0|          0|          0|                  null|           0|             0|                 0|                   0|                0|               null|                       null|        38.25|        38.79|2018-01-02 04:05:00|     5|       null|\n",
      "|2018-01-02|  CSCO|       04:06|04:06:00.000000000|       38.25|       1000|       38.79|        400|          null|           null|          null|04:06:00.000000000|       38.25|       1000|04:06:00.000000000|       38.79|        400|         null|          null|         null|04:06:00.000000000|      38.25|      1000|04:06:00.000000000|      38.79|       400|        null|         null|        null|04:06:59.999999999|        38.25|        1000|        38.79|         400|         null|          null|         null|     0.54|     0.54|      null|             null|             0|         0|            0|         0|            0|         0|                   0|     0|          0|          0|                  null|           0|             0|                 0|                   0|                0|               null|                       null|        38.25|        38.79|2018-01-02 04:06:00|     6|       null|\n",
      "|2018-01-02|  CSCO|       04:07|04:07:00.000000000|       38.25|       1000|       38.79|        400|          null|           null|          null|04:07:00.000000000|       38.25|       1000|04:07:00.000000000|       38.79|        400|         null|          null|         null|04:07:00.000000000|      38.25|      1000|04:07:00.000000000|      38.79|       400|        null|         null|        null|04:07:59.999999999|        38.25|        1000|        38.79|         400|         null|          null|         null|     0.54|     0.54|      null|             null|             0|         0|            0|         0|            0|         0|                   0|     0|          0|          0|                  null|           0|             0|                 0|                   0|                0|               null|                       null|        38.25|        38.79|2018-01-02 04:07:00|     7|       null|\n",
      "|2018-01-02|  CSCO|       04:08|04:08:00.000000000|       38.25|       1000|       38.79|        400|          null|           null|          null|04:08:00.000000000|       38.25|       1000|04:08:00.000000000|       38.79|        400|         null|          null|         null|04:08:00.000000000|      38.25|      1000|04:08:00.000000000|      38.79|       400|        null|         null|        null|04:08:59.999999999|        38.25|        1000|        38.79|         400|         null|          null|         null|     0.54|     0.54|      null|             null|             0|         0|            0|         0|            0|         0|                   0|     0|          0|          0|                  null|           0|             0|                 0|                   0|                0|               null|                       null|        38.25|        38.79|2018-01-02 04:08:00|     8|       null|\n",
      "|2018-01-02|  CSCO|       04:09|04:09:00.000000000|       38.25|       1000|       38.79|        400|          null|           null|          null|04:09:00.000000000|       38.25|       1000|04:09:00.000000000|       38.79|        400|         null|          null|         null|04:09:00.000000000|      38.25|      1000|04:09:00.000000000|      38.79|       400|        null|         null|        null|04:09:59.999999999|        38.25|        1000|        38.79|         400|         null|          null|         null|     0.54|     0.54|      null|             null|             0|         0|            0|         0|            0|         0|                   0|     0|          0|          0|                  null|           0|             0|                 0|                   0|                0|               null|                       null|        38.25|        38.79|2018-01-02 04:09:00|     9|       null|\n",
      "|2018-01-02|  CSCO|       04:10|04:10:00.000000000|       38.25|       1000|       38.79|        400|          null|           null|          null|04:10:00.000000000|       38.25|       1000|04:10:00.000000000|       38.79|        400|         null|          null|         null|04:10:00.000000000|      38.25|      1000|04:10:00.000000000|      38.79|       400|        null|         null|        null|04:10:59.999999999|        38.25|        1000|        38.79|         400|         null|          null|         null|     0.54|     0.54|      null|             null|             0|         0|            0|         0|            0|         0|                   0|     0|          0|          0|                  null|           0|             0|                 0|                   0|                0|               null|                       null|        38.25|        38.79|2018-01-02 04:10:00|    10|       null|\n",
      "|2018-01-02|  CSCO|       04:11|04:11:00.000000000|       38.25|       1000|       38.79|        400|          null|           null|          null|04:11:00.000000000|       38.25|       1000|04:11:00.000000000|       38.79|        400|         null|          null|         null|04:11:00.000000000|      38.25|      1000|04:11:00.000000000|      38.79|       400|        null|         null|        null|04:11:59.999999999|        38.25|        1000|        38.79|         400|         null|          null|         null|     0.54|     0.54|      null|             null|             0|         0|            0|         0|            0|         0|                   0|     0|          0|          0|                  null|           0|             0|                 0|                   0|                0|               null|                       null|        38.25|        38.79|2018-01-02 04:11:00|    11|       null|\n",
      "|2018-01-02|  CSCO|       04:12|04:12:00.000000000|       38.25|       1000|       38.79|        400|          null|           null|          null|04:12:00.000000000|       38.25|       1000|04:12:00.000000000|       38.79|        400|         null|          null|         null|04:12:00.000000000|      38.25|      1000|04:12:00.000000000|      38.79|       400|        null|         null|        null|04:12:59.999999999|        38.25|        1000|        38.79|         400|         null|          null|         null|     0.54|     0.54|      null|             null|             0|         0|            0|         0|            0|         0|                   0|     0|          0|          0|                  null|           0|             0|                 0|                   0|                0|               null|                       null|        38.25|        38.79|2018-01-02 04:12:00|    12|       null|\n",
      "|2018-01-02|  CSCO|       04:13|04:13:00.000000000|       38.25|       1000|       38.79|        400|          null|           null|          null|04:13:00.000000000|       38.25|       1000|04:13:00.000000000|       38.79|        400|         null|          null|         null|04:13:00.000000000|      38.25|      1000|04:13:00.000000000|      38.79|       400|        null|         null|        null|04:13:59.999999999|        38.25|        1000|        38.79|         400|         null|          null|         null|     0.54|     0.54|      null|             null|             0|         0|            0|         0|            0|         0|                   0|     0|          0|          0|                  null|           0|             0|                 0|                   0|                0|               null|                       null|        38.25|        38.79|2018-01-02 04:13:00|    13|       null|\n",
      "|2018-01-02|  CSCO|       04:14|04:14:00.000000000|       38.25|       1000|       38.79|        400|          null|           null|          null|04:14:00.000000000|       38.25|       1000|04:14:00.000000000|       38.79|        400|         null|          null|         null|04:14:00.000000000|      38.25|      1000|04:14:00.000000000|      38.79|       400|        null|         null|        null|04:14:59.999999999|        38.25|        1000|        38.79|         400|         null|          null|         null|     0.54|     0.54|      null|             null|             0|         0|            0|         0|            0|         0|                   0|     0|          0|          0|                  null|           0|             0|                 0|                   0|                0|               null|                       null|        38.25|        38.79|2018-01-02 04:14:00|    14|       null|\n",
      "|2018-01-02|  CSCO|       04:15|04:15:00.000000000|       38.25|       1000|       38.79|        400|          null|           null|          null|04:15:00.000000000|       38.25|       1000|04:15:00.000000000|       38.79|        400|         null|          null|         null|04:15:00.000000000|      38.25|      1000|04:15:00.000000000|      38.79|       400|        null|         null|        null|04:15:59.999999999|        38.25|        1000|        38.79|         400|         null|          null|         null|     0.54|     0.54|      null|             null|             0|         0|            0|         0|            0|         0|                   0|     0|          0|          0|                  null|           0|             0|                 0|                   0|                0|               null|                       null|        38.25|        38.79|2018-01-02 04:15:00|    15|       null|\n",
      "|2018-01-02|  CSCO|       04:16|04:16:00.000000000|       38.25|       1000|       38.79|        400|          null|           null|          null|04:16:00.000000000|       38.25|       1000|04:16:00.000000000|       38.79|        400|         null|          null|         null|04:16:00.000000000|      38.25|      1000|04:16:00.000000000|      38.79|       400|        null|         null|        null|04:16:59.999999999|        38.25|        1000|        38.79|         400|         null|          null|         null|     0.54|     0.54|      null|             null|             0|         0|            0|         0|            0|         0|                   0|     0|          0|          0|                  null|           0|             0|                 0|                   0|                0|               null|                       null|        38.25|        38.79|2018-01-02 04:16:00|    16|       null|\n",
      "|2018-01-02|  CSCO|       04:17|04:17:00.000000000|       38.25|       1000|       38.79|        400|          null|           null|          null|04:17:00.000000000|       38.25|       1000|04:17:00.000000000|       38.79|        400|         null|          null|         null|04:17:00.000000000|      38.25|      1000|04:17:00.000000000|      38.79|       400|        null|         null|        null|04:17:59.999999999|        38.25|        1000|        38.79|         400|         null|          null|         null|     0.54|     0.54|      null|             null|             0|         0|            0|         0|            0|         0|                   0|     0|          0|          0|                  null|           0|             0|                 0|                   0|                0|               null|                       null|        38.25|        38.79|2018-01-02 04:17:00|    17|       null|\n",
      "|2018-01-02|  CSCO|       04:18|04:18:00.000000000|       38.25|       1000|       38.79|        400|          null|           null|          null|04:18:00.000000000|       38.25|       1000|04:18:00.000000000|       38.79|        400|         null|          null|         null|04:18:00.000000000|      38.25|      1000|04:18:00.000000000|      38.79|       400|        null|         null|        null|04:18:59.999999999|        38.25|        1000|        38.79|         400|         null|          null|         null|     0.54|     0.54|      null|             null|             0|         0|            0|         0|            0|         0|                   0|     0|          0|          0|                  null|           0|             0|                 0|                   0|                0|               null|                       null|        38.25|        38.79|2018-01-02 04:18:00|    18|       null|\n",
      "|2018-01-02|  CSCO|       04:19|04:19:00.000000000|       38.25|       1000|       38.79|        400|          null|           null|          null|04:19:00.000000000|       38.25|       1000|04:19:00.000000000|       38.79|        400|         null|          null|         null|04:19:00.000000000|      38.25|      1000|04:19:00.000000000|      38.79|       400|        null|         null|        null|04:19:59.999999999|        38.25|        1000|        38.79|         400|         null|          null|         null|     0.54|     0.54|      null|             null|             0|         0|            0|         0|            0|         0|                   0|     0|          0|          0|                  null|           0|             0|                 0|                   0|                0|               null|                       null|        38.25|        38.79|2018-01-02 04:19:00|    19|       null|\n",
      "+----------+------+------------+------------------+------------+-----------+------------+-----------+--------------+---------------+--------------+------------------+------------+-----------+------------------+------------+-----------+-------------+--------------+-------------+------------------+-----------+----------+------------------+-----------+----------+------------+-------------+------------+------------------+-------------+------------+-------------+------------+-------------+--------------+-------------+---------+---------+----------+-----------------+--------------+----------+-------------+----------+-------------+----------+--------------------+------+-----------+-----------+----------------------+------------+--------------+------------------+--------------------+-----------------+-------------------+---------------------------+-------------+-------------+-------------------+------+-----------+\n",
      "only showing top 20 rows"
     ]
    }
   ],
   "source": [
    "winTst = Window.partitionBy(\"Ticker\").orderBy(\"datetime\")\n",
    "df = df.withColumn('returns1min', (df['LastTradePrice'] / lag(df[\"LastTradePrice\"],1).over(winTst))-1)\n"
   ]
  },
  {
   "cell_type": "code",
   "execution_count": null,
   "id": "5142c055-fb2f-4057-8999-c482cb475866",
   "metadata": {
    "vscode": {
     "languageId": "python"
    }
   },
   "outputs": [],
   "source": [
    "df = df.withColumn('returns2min', (df['LastTradePrice'] / lag(df[\"LastTradePrice\"],2).over(winTst))-1)\n",
    "df = df.withColumn('returns3min', (df['LastTradePrice'] / lag(df[\"LastTradePrice\"],3).over(winTst))-1)\n",
    "df = df.withColumn('returns4min', (df['LastTradePrice'] / lag(df[\"LastTradePrice\"],4).over(winTst))-1)\n",
    "df = df.withColumn('returns5min', (df['LastTradePrice'] / lag(df[\"LastTradePrice\"],5).over(winTst))-1)"
   ]
  },
  {
   "cell_type": "code",
   "execution_count": null,
   "id": "b130c54d-5821-4fe1-926e-fb7022c41add",
   "metadata": {
    "vscode": {
     "languageId": "python"
    }
   },
   "outputs": [],
   "source": [
    "by_ticker = df.groupBy(\"Ticker\")\n",
    "by_ticker_date = df.groupBy(\"Ticker\",\"Date\")"
   ]
  },
  {
   "cell_type": "markdown",
   "id": "f9d8335f-def7-46cb-b1d8-589796f52e0a",
   "metadata": {},
   "source": [
    "# Feature Engineering and Preprocessing"
   ]
  },
  {
   "cell_type": "markdown",
   "id": "6b2ca503-04c4-4b17-9dbe-5c58c7f99423",
   "metadata": {},
   "source": [
    "# SMA"
   ]
  },
  {
   "cell_type": "code",
   "execution_count": null,
   "id": "d617a611-caa1-4587-b630-02772607a3d6",
   "metadata": {
    "vscode": {
     "languageId": "python"
    }
   },
   "outputs": [],
   "source": [
    "smaWinSpec  = Window.partitionBy(\"Ticker\").orderBy(\"datetime\").rowsBetween(-1,0)\n"
   ]
  },
  {
   "cell_type": "code",
   "execution_count": null,
   "id": "1bd29405-408a-4f24-ae0c-8491adef905e",
   "metadata": {
    "vscode": {
     "languageId": "python"
    }
   },
   "outputs": [],
   "source": [
    "df.withColumn('1minsma', avg(df.LastTradePrice).over(ticwindowSpec)).show()"
   ]
  },
  {
   "cell_type": "markdown",
   "id": "69892dba-7e93-4db6-bc7c-e93b2a1ecdf9",
   "metadata": {},
   "source": [
    "# EMA"
   ]
  },
  {
   "cell_type": "code",
   "execution_count": null,
   "id": "0cd2c995-efe4-4ac7-80dd-477a8e801e16",
   "metadata": {
    "vscode": {
     "languageId": "json"
    }
   },
   "outputs": [],
   "source": []
  },
  {
   "cell_type": "markdown",
   "id": "270556e7-d793-416c-aab2-9718abba6f99",
   "metadata": {},
   "source": [
    "# MACD"
   ]
  },
  {
   "cell_type": "code",
   "execution_count": null,
   "id": "f34b99cc-571c-4104-927e-1abc1fd52633",
   "metadata": {
    "vscode": {
     "languageId": "json"
    }
   },
   "outputs": [],
   "source": []
  },
  {
   "cell_type": "code",
   "execution_count": null,
   "id": "ec2b0d8c-87ea-4598-8c19-d55c26ee0431",
   "metadata": {
    "vscode": {
     "languageId": "json"
    }
   },
   "outputs": [],
   "source": []
  },
  {
   "cell_type": "code",
   "execution_count": null,
   "id": "795db9fa-f4cb-4cda-87c5-1ca65e90ba78",
   "metadata": {
    "vscode": {
     "languageId": "json"
    }
   },
   "outputs": [],
   "source": []
  },
  {
   "cell_type": "markdown",
   "id": "bb5c06b6-6fcd-4359-8aa7-919d753cdefb",
   "metadata": {},
   "source": [
    "# Save partitioned table for persistence"
   ]
  },
  {
   "cell_type": "code",
   "execution_count": 79,
   "id": "fd32eb7b-0701-4cd1-b34c-0f9ef3f4f87c",
   "metadata": {
    "execution": {
     "iopub.execute_input": "2022-04-10T04:27:52.827280Z",
     "iopub.status.busy": "2022-04-10T04:27:52.826937Z",
     "iopub.status.idle": "2022-04-10T04:59:22.283506Z",
     "shell.execute_reply": "2022-04-10T04:59:22.282794Z",
     "shell.execute_reply.started": "2022-04-10T04:27:52.827239Z"
    },
    "tags": [],
    "vscode": {
     "languageId": "python"
    }
   },
   "outputs": [
    {
     "data": {
      "application/vnd.jupyter.widget-view+json": {
       "model_id": "524ae6aa27814316840c0e4f45c84c2a",
       "version_major": 2,
       "version_minor": 0
      },
      "text/plain": [
       "VBox()"
      ]
     },
     "metadata": {},
     "output_type": "display_data"
    },
    {
     "data": {
      "application/vnd.jupyter.widget-view+json": {
       "model_id": "",
       "version_major": 2,
       "version_minor": 0
      },
      "text/plain": [
       "FloatProgress(value=0.0, bar_style='info', description='Progress:', layout=Layout(height='25px', width='50%'),…"
      ]
     },
     "metadata": {},
     "output_type": "display_data"
    }
   ],
   "source": [
    "df.write.partitionBy('Ticker','Date').parquet(\"s3://strategymodeldata/equityprice/emrout/equity_1min_taq.parquet\")"
   ]
  },
  {
   "cell_type": "code",
   "execution_count": 84,
   "id": "f5440148-4da1-4771-a2b1-d50dc8e2157b",
   "metadata": {
    "execution": {
     "iopub.execute_input": "2022-04-10T05:20:12.773822Z",
     "iopub.status.busy": "2022-04-10T05:20:12.773570Z",
     "iopub.status.idle": "2022-04-10T05:22:55.180339Z",
     "shell.execute_reply": "2022-04-10T05:22:55.179624Z",
     "shell.execute_reply.started": "2022-04-10T05:20:12.773780Z"
    },
    "tags": [],
    "vscode": {
     "languageId": "python"
    }
   },
   "outputs": [
    {
     "data": {
      "application/vnd.jupyter.widget-view+json": {
       "model_id": "0c4872cc2e9d444a941a7c24532037e0",
       "version_major": 2,
       "version_minor": 0
      },
      "text/plain": [
       "VBox()"
      ]
     },
     "metadata": {},
     "output_type": "display_data"
    },
    {
     "data": {
      "application/vnd.jupyter.widget-view+json": {
       "model_id": "",
       "version_major": 2,
       "version_minor": 0
      },
      "text/plain": [
       "FloatProgress(value=0.0, bar_style='info', description='Progress:', layout=Layout(height='25px', width='50%'),…"
      ]
     },
     "metadata": {},
     "output_type": "display_data"
    },
    {
     "name": "stderr",
     "output_type": "stream",
     "text": [
      "An error was encountered:\n",
      "An error occurred while calling o520.parquet.\n",
      ": org.apache.spark.SparkException: Job aborted.\n",
      "\tat org.apache.spark.sql.execution.datasources.FileFormatWriter$.write(FileFormatWriter.scala:231)\n",
      "\tat org.apache.spark.sql.execution.datasources.InsertIntoHadoopFsRelationCommand.run(InsertIntoHadoopFsRelationCommand.scala:195)\n",
      "\tat org.apache.spark.sql.execution.command.DataWritingCommandExec.sideEffectResult$lzycompute(commands.scala:108)\n",
      "\tat org.apache.spark.sql.execution.command.DataWritingCommandExec.sideEffectResult(commands.scala:106)\n",
      "\tat org.apache.spark.sql.execution.command.DataWritingCommandExec.doExecute(commands.scala:131)\n",
      "\tat org.apache.spark.sql.execution.SparkPlan.$anonfun$execute$1(SparkPlan.scala:194)\n",
      "\tat org.apache.spark.sql.execution.SparkPlan.$anonfun$executeQuery$1(SparkPlan.scala:232)\n",
      "\tat org.apache.spark.rdd.RDDOperationScope$.withScope(RDDOperationScope.scala:151)\n",
      "\tat org.apache.spark.sql.execution.SparkPlan.executeQuery(SparkPlan.scala:229)\n",
      "\tat org.apache.spark.sql.execution.SparkPlan.execute(SparkPlan.scala:190)\n",
      "\tat org.apache.spark.sql.execution.QueryExecution.toRdd$lzycompute(QueryExecution.scala:134)\n",
      "\tat org.apache.spark.sql.execution.QueryExecution.toRdd(QueryExecution.scala:133)\n",
      "\tat org.apache.spark.sql.DataFrameWriter.$anonfun$runCommand$1(DataFrameWriter.scala:989)\n",
      "\tat org.apache.spark.sql.catalyst.QueryPlanningTracker$.withTracker(QueryPlanningTracker.scala:107)\n",
      "\tat org.apache.spark.sql.execution.SQLExecution$.withTracker(SQLExecution.scala:232)\n",
      "\tat org.apache.spark.sql.execution.SQLExecution$.executeQuery$1(SQLExecution.scala:110)\n",
      "\tat org.apache.spark.sql.execution.SQLExecution$.$anonfun$withNewExecutionId$6(SQLExecution.scala:135)\n",
      "\tat org.apache.spark.sql.catalyst.QueryPlanningTracker$.withTracker(QueryPlanningTracker.scala:107)\n",
      "\tat org.apache.spark.sql.execution.SQLExecution$.withTracker(SQLExecution.scala:232)\n",
      "\tat org.apache.spark.sql.execution.SQLExecution$.$anonfun$withNewExecutionId$5(SQLExecution.scala:135)\n",
      "\tat org.apache.spark.sql.execution.SQLExecution$.withSQLConfPropagated(SQLExecution.scala:253)\n",
      "\tat org.apache.spark.sql.execution.SQLExecution$.$anonfun$withNewExecutionId$1(SQLExecution.scala:134)\n",
      "\tat org.apache.spark.sql.SparkSession.withActive(SparkSession.scala:775)\n",
      "\tat org.apache.spark.sql.execution.SQLExecution$.withNewExecutionId(SQLExecution.scala:68)\n",
      "\tat org.apache.spark.sql.DataFrameWriter.runCommand(DataFrameWriter.scala:989)\n",
      "\tat org.apache.spark.sql.DataFrameWriter.saveToV1Source(DataFrameWriter.scala:438)\n",
      "\tat org.apache.spark.sql.DataFrameWriter.saveInternal(DataFrameWriter.scala:415)\n",
      "\tat org.apache.spark.sql.DataFrameWriter.save(DataFrameWriter.scala:293)\n",
      "\tat org.apache.spark.sql.DataFrameWriter.parquet(DataFrameWriter.scala:874)\n",
      "\tat sun.reflect.NativeMethodAccessorImpl.invoke0(Native Method)\n",
      "\tat sun.reflect.NativeMethodAccessorImpl.invoke(NativeMethodAccessorImpl.java:62)\n",
      "\tat sun.reflect.DelegatingMethodAccessorImpl.invoke(DelegatingMethodAccessorImpl.java:43)\n",
      "\tat java.lang.reflect.Method.invoke(Method.java:498)\n",
      "\tat py4j.reflection.MethodInvoker.invoke(MethodInvoker.java:244)\n",
      "\tat py4j.reflection.ReflectionEngine.invoke(ReflectionEngine.java:357)\n",
      "\tat py4j.Gateway.invoke(Gateway.java:282)\n",
      "\tat py4j.commands.AbstractCommand.invokeMethod(AbstractCommand.java:132)\n",
      "\tat py4j.commands.CallCommand.execute(CallCommand.java:79)\n",
      "\tat py4j.GatewayConnection.run(GatewayConnection.java:238)\n",
      "\tat java.lang.Thread.run(Thread.java:750)\n",
      "Caused by: org.apache.spark.SparkException: Job aborted due to stage failure: Task 77 in stage 48.0 failed 4 times, most recent failure: Lost task 77.3 in stage 48.0 (TID 109969) (ip-10-0-20-78.ec2.internal executor 124): ExecutorLostFailure (executor 124 exited caused by one of the running tasks) Reason: Container from a bad node: container_1649544835656_0007_01_000211 on host: ip-10-0-20-78.ec2.internal. Exit status: 137. Diagnostics: [2022-04-10 05:22:53.116]Container killed on request. Exit code is 137\n",
      "[2022-04-10 05:22:53.116]Container exited with a non-zero exit code 137. \n",
      "[2022-04-10 05:22:53.116]Killed by external signal\n",
      ".\n",
      "Driver stacktrace:\n",
      "\tat org.apache.spark.scheduler.DAGScheduler.failJobAndIndependentStages(DAGScheduler.scala:2470)\n",
      "\tat org.apache.spark.scheduler.DAGScheduler.$anonfun$abortStage$2(DAGScheduler.scala:2419)\n",
      "\tat org.apache.spark.scheduler.DAGScheduler.$anonfun$abortStage$2$adapted(DAGScheduler.scala:2418)\n",
      "\tat scala.collection.mutable.ResizableArray.foreach(ResizableArray.scala:62)\n",
      "\tat scala.collection.mutable.ResizableArray.foreach$(ResizableArray.scala:55)\n",
      "\tat scala.collection.mutable.ArrayBuffer.foreach(ArrayBuffer.scala:49)\n",
      "\tat org.apache.spark.scheduler.DAGScheduler.abortStage(DAGScheduler.scala:2418)\n",
      "\tat org.apache.spark.scheduler.DAGScheduler.$anonfun$handleTaskSetFailed$1(DAGScheduler.scala:1125)\n",
      "\tat org.apache.spark.scheduler.DAGScheduler.$anonfun$handleTaskSetFailed$1$adapted(DAGScheduler.scala:1125)\n",
      "\tat scala.Option.foreach(Option.scala:407)\n",
      "\tat org.apache.spark.scheduler.DAGScheduler.handleTaskSetFailed(DAGScheduler.scala:1125)\n",
      "\tat org.apache.spark.scheduler.DAGSchedulerEventProcessLoop.doOnReceive(DAGScheduler.scala:2684)\n",
      "\tat org.apache.spark.scheduler.DAGSchedulerEventProcessLoop.onReceive(DAGScheduler.scala:2626)\n",
      "\tat org.apache.spark.scheduler.DAGSchedulerEventProcessLoop.onReceive(DAGScheduler.scala:2615)\n",
      "\tat org.apache.spark.util.EventLoop$$anon$1.run(EventLoop.scala:49)\n",
      "\tat org.apache.spark.scheduler.DAGScheduler.runJob(DAGScheduler.scala:914)\n",
      "\tat org.apache.spark.SparkContext.runJob(SparkContext.scala:2241)\n",
      "\tat org.apache.spark.sql.execution.datasources.FileFormatWriter$.write(FileFormatWriter.scala:200)\n",
      "\t... 39 more\n",
      "\n",
      "Traceback (most recent call last):\n",
      "  File \"/usr/lib/spark/python/lib/pyspark.zip/pyspark/sql/readwriter.py\", line 1250, in parquet\n",
      "    self._jwrite.parquet(path)\n",
      "  File \"/usr/lib/spark/python/lib/py4j-0.10.9-src.zip/py4j/java_gateway.py\", line 1305, in __call__\n",
      "    answer, self.gateway_client, self.target_id, self.name)\n",
      "  File \"/usr/lib/spark/python/lib/pyspark.zip/pyspark/sql/utils.py\", line 111, in deco\n",
      "    return f(*a, **kw)\n",
      "  File \"/usr/lib/spark/python/lib/py4j-0.10.9-src.zip/py4j/protocol.py\", line 328, in get_return_value\n",
      "    format(target_id, \".\", name), value)\n",
      "py4j.protocol.Py4JJavaError: An error occurred while calling o520.parquet.\n",
      ": org.apache.spark.SparkException: Job aborted.\n",
      "\tat org.apache.spark.sql.execution.datasources.FileFormatWriter$.write(FileFormatWriter.scala:231)\n",
      "\tat org.apache.spark.sql.execution.datasources.InsertIntoHadoopFsRelationCommand.run(InsertIntoHadoopFsRelationCommand.scala:195)\n",
      "\tat org.apache.spark.sql.execution.command.DataWritingCommandExec.sideEffectResult$lzycompute(commands.scala:108)\n",
      "\tat org.apache.spark.sql.execution.command.DataWritingCommandExec.sideEffectResult(commands.scala:106)\n",
      "\tat org.apache.spark.sql.execution.command.DataWritingCommandExec.doExecute(commands.scala:131)\n",
      "\tat org.apache.spark.sql.execution.SparkPlan.$anonfun$execute$1(SparkPlan.scala:194)\n",
      "\tat org.apache.spark.sql.execution.SparkPlan.$anonfun$executeQuery$1(SparkPlan.scala:232)\n",
      "\tat org.apache.spark.rdd.RDDOperationScope$.withScope(RDDOperationScope.scala:151)\n",
      "\tat org.apache.spark.sql.execution.SparkPlan.executeQuery(SparkPlan.scala:229)\n",
      "\tat org.apache.spark.sql.execution.SparkPlan.execute(SparkPlan.scala:190)\n",
      "\tat org.apache.spark.sql.execution.QueryExecution.toRdd$lzycompute(QueryExecution.scala:134)\n",
      "\tat org.apache.spark.sql.execution.QueryExecution.toRdd(QueryExecution.scala:133)\n",
      "\tat org.apache.spark.sql.DataFrameWriter.$anonfun$runCommand$1(DataFrameWriter.scala:989)\n",
      "\tat org.apache.spark.sql.catalyst.QueryPlanningTracker$.withTracker(QueryPlanningTracker.scala:107)\n",
      "\tat org.apache.spark.sql.execution.SQLExecution$.withTracker(SQLExecution.scala:232)\n",
      "\tat org.apache.spark.sql.execution.SQLExecution$.executeQuery$1(SQLExecution.scala:110)\n",
      "\tat org.apache.spark.sql.execution.SQLExecution$.$anonfun$withNewExecutionId$6(SQLExecution.scala:135)\n",
      "\tat org.apache.spark.sql.catalyst.QueryPlanningTracker$.withTracker(QueryPlanningTracker.scala:107)\n",
      "\tat org.apache.spark.sql.execution.SQLExecution$.withTracker(SQLExecution.scala:232)\n",
      "\tat org.apache.spark.sql.execution.SQLExecution$.$anonfun$withNewExecutionId$5(SQLExecution.scala:135)\n",
      "\tat org.apache.spark.sql.execution.SQLExecution$.withSQLConfPropagated(SQLExecution.scala:253)\n",
      "\tat org.apache.spark.sql.execution.SQLExecution$.$anonfun$withNewExecutionId$1(SQLExecution.scala:134)\n",
      "\tat org.apache.spark.sql.SparkSession.withActive(SparkSession.scala:775)\n",
      "\tat org.apache.spark.sql.execution.SQLExecution$.withNewExecutionId(SQLExecution.scala:68)\n",
      "\tat org.apache.spark.sql.DataFrameWriter.runCommand(DataFrameWriter.scala:989)\n",
      "\tat org.apache.spark.sql.DataFrameWriter.saveToV1Source(DataFrameWriter.scala:438)\n",
      "\tat org.apache.spark.sql.DataFrameWriter.saveInternal(DataFrameWriter.scala:415)\n",
      "\tat org.apache.spark.sql.DataFrameWriter.save(DataFrameWriter.scala:293)\n",
      "\tat org.apache.spark.sql.DataFrameWriter.parquet(DataFrameWriter.scala:874)\n",
      "\tat sun.reflect.NativeMethodAccessorImpl.invoke0(Native Method)\n",
      "\tat sun.reflect.NativeMethodAccessorImpl.invoke(NativeMethodAccessorImpl.java:62)\n",
      "\tat sun.reflect.DelegatingMethodAccessorImpl.invoke(DelegatingMethodAccessorImpl.java:43)\n",
      "\tat java.lang.reflect.Method.invoke(Method.java:498)\n",
      "\tat py4j.reflection.MethodInvoker.invoke(MethodInvoker.java:244)\n",
      "\tat py4j.reflection.ReflectionEngine.invoke(ReflectionEngine.java:357)\n",
      "\tat py4j.Gateway.invoke(Gateway.java:282)\n",
      "\tat py4j.commands.AbstractCommand.invokeMethod(AbstractCommand.java:132)\n",
      "\tat py4j.commands.CallCommand.execute(CallCommand.java:79)\n",
      "\tat py4j.GatewayConnection.run(GatewayConnection.java:238)\n",
      "\tat java.lang.Thread.run(Thread.java:750)\n",
      "Caused by: org.apache.spark.SparkException: Job aborted due to stage failure: Task 77 in stage 48.0 failed 4 times, most recent failure: Lost task 77.3 in stage 48.0 (TID 109969) (ip-10-0-20-78.ec2.internal executor 124): ExecutorLostFailure (executor 124 exited caused by one of the running tasks) Reason: Container from a bad node: container_1649544835656_0007_01_000211 on host: ip-10-0-20-78.ec2.internal. Exit status: 137. Diagnostics: [2022-04-10 05:22:53.116]Container killed on request. Exit code is 137\n",
      "[2022-04-10 05:22:53.116]Container exited with a non-zero exit code 137. \n",
      "[2022-04-10 05:22:53.116]Killed by external signal\n",
      ".\n",
      "Driver stacktrace:\n",
      "\tat org.apache.spark.scheduler.DAGScheduler.failJobAndIndependentStages(DAGScheduler.scala:2470)\n",
      "\tat org.apache.spark.scheduler.DAGScheduler.$anonfun$abortStage$2(DAGScheduler.scala:2419)\n",
      "\tat org.apache.spark.scheduler.DAGScheduler.$anonfun$abortStage$2$adapted(DAGScheduler.scala:2418)\n",
      "\tat scala.collection.mutable.ResizableArray.foreach(ResizableArray.scala:62)\n",
      "\tat scala.collection.mutable.ResizableArray.foreach$(ResizableArray.scala:55)\n",
      "\tat scala.collection.mutable.ArrayBuffer.foreach(ArrayBuffer.scala:49)\n",
      "\tat org.apache.spark.scheduler.DAGScheduler.abortStage(DAGScheduler.scala:2418)\n",
      "\tat org.apache.spark.scheduler.DAGScheduler.$anonfun$handleTaskSetFailed$1(DAGScheduler.scala:1125)\n",
      "\tat org.apache.spark.scheduler.DAGScheduler.$anonfun$handleTaskSetFailed$1$adapted(DAGScheduler.scala:1125)\n",
      "\tat scala.Option.foreach(Option.scala:407)\n",
      "\tat org.apache.spark.scheduler.DAGScheduler.handleTaskSetFailed(DAGScheduler.scala:1125)\n",
      "\tat org.apache.spark.scheduler.DAGSchedulerEventProcessLoop.doOnReceive(DAGScheduler.scala:2684)\n",
      "\tat org.apache.spark.scheduler.DAGSchedulerEventProcessLoop.onReceive(DAGScheduler.scala:2626)\n",
      "\tat org.apache.spark.scheduler.DAGSchedulerEventProcessLoop.onReceive(DAGScheduler.scala:2615)\n",
      "\tat org.apache.spark.util.EventLoop$$anon$1.run(EventLoop.scala:49)\n",
      "\tat org.apache.spark.scheduler.DAGScheduler.runJob(DAGScheduler.scala:914)\n",
      "\tat org.apache.spark.SparkContext.runJob(SparkContext.scala:2241)\n",
      "\tat org.apache.spark.sql.execution.datasources.FileFormatWriter$.write(FileFormatWriter.scala:200)\n",
      "\t... 39 more\n",
      "\n",
      "\n"
     ]
    }
   ],
   "source": [
    "iid.write.partitionBy('symbol').parquet(\"s3://strategymodeldata/indicators/emrout/iid.parquet\")"
   ]
  },
  {
   "cell_type": "code",
   "execution_count": 83,
   "id": "8dc3c7bf-7777-42a3-9a2c-92dfa87bc07d",
   "metadata": {
    "execution": {
     "iopub.execute_input": "2022-04-10T05:19:32.857705Z",
     "iopub.status.busy": "2022-04-10T05:19:32.857415Z",
     "iopub.status.idle": "2022-04-10T05:19:32.950035Z",
     "shell.execute_reply": "2022-04-10T05:19:32.949252Z",
     "shell.execute_reply.started": "2022-04-10T05:19:32.857673Z"
    },
    "vscode": {
     "languageId": "python"
    }
   },
   "outputs": [
    {
     "data": {
      "application/vnd.jupyter.widget-view+json": {
       "model_id": "a54d79543b4a4ef2879c79db42de25fc",
       "version_major": 2,
       "version_minor": 0
      },
      "text/plain": [
       "VBox()"
      ]
     },
     "metadata": {},
     "output_type": "display_data"
    },
    {
     "data": {
      "application/vnd.jupyter.widget-view+json": {
       "model_id": "",
       "version_major": 2,
       "version_minor": 0
      },
      "text/plain": [
       "FloatProgress(value=0.0, bar_style='info', description='Progress:', layout=Layout(height='25px', width='50%'),…"
      ]
     },
     "metadata": {},
     "output_type": "display_data"
    }
   ],
   "source": [
    "from tqdm import tqdm"
   ]
  },
  {
   "cell_type": "code",
   "execution_count": 80,
   "id": "75a4931b-d048-404a-829b-f72ed21a41a2",
   "metadata": {
    "execution": {
     "iopub.execute_input": "2022-04-10T05:03:49.045810Z",
     "iopub.status.busy": "2022-04-10T05:03:49.045584Z",
     "iopub.status.idle": "2022-04-10T05:07:44.764149Z",
     "shell.execute_reply": "2022-04-10T05:07:44.762703Z",
     "shell.execute_reply.started": "2022-04-10T05:03:49.045785Z"
    },
    "tags": [],
    "vscode": {
     "languageId": "python"
    }
   },
   "outputs": [
    {
     "data": {
      "application/vnd.jupyter.widget-view+json": {
       "model_id": "7df46bd5ef6a46898ef5f0c15b87165f",
       "version_major": 2,
       "version_minor": 0
      },
      "text/plain": [
       "VBox()"
      ]
     },
     "metadata": {},
     "output_type": "display_data"
    },
    {
     "data": {
      "application/vnd.jupyter.widget-view+json": {
       "model_id": "",
       "version_major": 2,
       "version_minor": 0
      },
      "text/plain": [
       "FloatProgress(value=0.0, bar_style='info', description='Progress:', layout=Layout(height='25px', width='50%'),…"
      ]
     },
     "metadata": {},
     "output_type": "display_data"
    }
   ],
   "source": [
    "df=spark.read.parquet(\"s3://strategymodeldata/equityprice/emrout/equity_1min_taq.parquet\")"
   ]
  },
  {
   "cell_type": "code",
   "execution_count": null,
   "id": "76776231-4ef7-4e19-a72a-4b3cd1c035c3",
   "metadata": {
    "vscode": {
     "languageId": "json"
    }
   },
   "outputs": [],
   "source": []
  }
 ],
 "metadata": {
  "kernelspec": {
   "display_name": "PySpark",
   "language": "python",
   "name": "pysparkkernel"
  },
  "language_info": {
   "codemirror_mode": {
    "name": "python",
    "version": 3
   },
   "file_extension": ".py",
   "mimetype": "text/x-python",
   "name": "pyspark",
   "pygments_lexer": "python3"
  }
 },
 "nbformat": 4,
 "nbformat_minor": 5
}
