{
 "cells": [
  {
   "cell_type": "code",
   "execution_count": 19,
   "id": "f34676d8-94d4-4322-a90e-19f2cf8a6d78",
   "metadata": {
    "execution": {
     "iopub.execute_input": "2022-04-10T08:03:57.086250Z",
     "iopub.status.busy": "2022-04-10T08:03:57.086003Z",
     "iopub.status.idle": "2022-04-10T08:03:58.128969Z",
     "shell.execute_reply": "2022-04-10T08:03:58.128014Z",
     "shell.execute_reply.started": "2022-04-10T08:03:57.086219Z"
    },
    "tags": [],
    "vscode": {
     "languageId": "python"
    }
   },
   "outputs": [
    {
     "name": "stdout",
     "output_type": "stream",
     "text": [
      "Defaulting to user installation because normal site-packages is not writeable\n",
      "Requirement already satisfied: bokeh in /mnt/notebook-env/lib/python3.7/site-packages (2.3.2)\n",
      "Requirement already satisfied: pillow>=7.1.0 in /mnt/notebook-env/lib/python3.7/site-packages (from bokeh) (8.3.1)\n",
      "Requirement already satisfied: numpy>=1.11.3 in /home/emr-notebook/.local/lib/python3.7/site-packages (from bokeh) (1.21.5)\n",
      "Requirement already satisfied: tornado>=5.1 in /mnt/notebook-env/lib/python3.7/site-packages (from bokeh) (6.1)\n",
      "Requirement already satisfied: Jinja2>=2.9 in /mnt/notebook-env/lib/python3.7/site-packages (from bokeh) (3.0.1)\n",
      "Requirement already satisfied: PyYAML>=3.10 in /mnt/notebook-env/lib/python3.7/site-packages (from bokeh) (5.4.1)\n",
      "Requirement already satisfied: packaging>=16.8 in /mnt/notebook-env/lib/python3.7/site-packages (from bokeh) (21.0)\n",
      "Requirement already satisfied: python-dateutil>=2.1 in /mnt/notebook-env/lib/python3.7/site-packages (from bokeh) (2.8.2)\n",
      "Requirement already satisfied: typing-extensions>=3.7.4 in /mnt/notebook-env/lib/python3.7/site-packages (from bokeh) (3.10.0.0)\n",
      "Requirement already satisfied: MarkupSafe>=2.0 in /mnt/notebook-env/lib/python3.7/site-packages (from Jinja2>=2.9->bokeh) (2.0.1)\n",
      "Requirement already satisfied: pyparsing>=2.0.2 in /mnt/notebook-env/lib/python3.7/site-packages (from packaging>=16.8->bokeh) (2.4.7)\n",
      "Requirement already satisfied: six>=1.5 in /mnt/notebook-env/lib/python3.7/site-packages (from python-dateutil>=2.1->bokeh) (1.15.0)\n",
      "Note: you may need to restart the kernel to use updated packages.\n"
     ]
    }
   ],
   "source": [
    "%pip install bokeh\n"
   ]
  },
  {
   "cell_type": "code",
   "execution_count": null,
   "id": "1f4011bb-db83-4565-b903-db9515af3845",
   "metadata": {
    "tags": [],
    "vscode": {
     "languageId": "python"
    }
   },
   "outputs": [],
   "source": [
    "sc.install_pypi_package('matplotlib')"
   ]
  },
  {
   "cell_type": "code",
   "execution_count": 1,
   "id": "3541ff0e-8710-4096-9aab-5c8200519d40",
   "metadata": {
    "execution": {
     "iopub.execute_input": "2022-04-10T21:17:46.291216Z",
     "iopub.status.busy": "2022-04-10T21:17:46.290954Z",
     "iopub.status.idle": "2022-04-10T21:18:13.642447Z",
     "shell.execute_reply": "2022-04-10T21:18:13.641854Z",
     "shell.execute_reply.started": "2022-04-10T21:17:46.291186Z"
    },
    "tags": [],
    "vscode": {
     "languageId": "python"
    }
   },
   "outputs": [
    {
     "data": {
      "application/vnd.jupyter.widget-view+json": {
       "model_id": "07c7172347ba4bb296744b14d33425f5",
       "version_major": 2,
       "version_minor": 0
      },
      "text/plain": [
       "VBox()"
      ]
     },
     "metadata": {},
     "output_type": "display_data"
    },
    {
     "name": "stdout",
     "output_type": "stream",
     "text": [
      "Starting Spark application\n"
     ]
    },
    {
     "data": {
      "text/html": [
       "<table>\n",
       "<tbody><tr><th>ID</th><th>YARN Application ID</th><th>Kind</th><th>State</th><th>Spark UI</th><th>Driver log</th><th>Current session?</th></tr><tr><td>4</td><td>application_1649544835656_0014</td><td>pyspark</td><td>idle</td><td><a target=\"_blank\" href=\"http://ip-10-0-20-177.ec2.internal:20888/proxy/application_1649544835656_0014/\" class=\"emr-proxy-link j-305T2ZQM9L2KE application_1649544835656_0014\" emr-resource=\"j-305T2ZQM9L2KE\n",
       "\" application-id=\"application_1649544835656_0014\">Link</a></td><td><a target=\"_blank\" href=\"http://ip-10-0-20-78.ec2.internal:8042/node/containerlogs/container_1649544835656_0014_01_000001/livy\">Link</a></td><td>✔</td></tr></tbody></table>"
      ],
      "text/plain": [
       "<IPython.core.display.HTML object>"
      ]
     },
     "metadata": {},
     "output_type": "display_data"
    },
    {
     "data": {
      "application/vnd.jupyter.widget-view+json": {
       "model_id": "",
       "version_major": 2,
       "version_minor": 0
      },
      "text/plain": [
       "FloatProgress(value=0.0, bar_style='info', description='Progress:', layout=Layout(height='25px', width='50%'),…"
      ]
     },
     "metadata": {},
     "output_type": "display_data"
    },
    {
     "name": "stdout",
     "output_type": "stream",
     "text": [
      "SparkSession available as 'spark'.\n"
     ]
    },
    {
     "data": {
      "application/vnd.jupyter.widget-view+json": {
       "model_id": "",
       "version_major": 2,
       "version_minor": 0
      },
      "text/plain": [
       "FloatProgress(value=0.0, bar_style='info', description='Progress:', layout=Layout(height='25px', width='50%'),…"
      ]
     },
     "metadata": {},
     "output_type": "display_data"
    }
   ],
   "source": [
    "from pyspark.sql.functions import *\n",
    "from pyspark.sql.window import Window\n",
    "import pyspark\n",
    "# from ipywidgets import interact\n",
    "import numpy as np\n",
    "import pandas as pd\n",
    "from tqdm import tqdm\n",
    "import pandas_ta as ta"
   ]
  },
  {
   "cell_type": "code",
   "execution_count": 2,
   "id": "a71f0ea1-8e87-4ab0-bad7-6592c22a6b9e",
   "metadata": {
    "execution": {
     "iopub.execute_input": "2022-04-10T21:18:22.448250Z",
     "iopub.status.busy": "2022-04-10T21:18:22.447993Z",
     "iopub.status.idle": "2022-04-10T21:22:55.121282Z",
     "shell.execute_reply": "2022-04-10T21:22:55.120656Z",
     "shell.execute_reply.started": "2022-04-10T21:18:22.448226Z"
    },
    "tags": [],
    "vscode": {
     "languageId": "python"
    }
   },
   "outputs": [
    {
     "data": {
      "application/vnd.jupyter.widget-view+json": {
       "model_id": "2dcd8682b38a41d59c08ea210dd97e55",
       "version_major": 2,
       "version_minor": 0
      },
      "text/plain": [
       "VBox()"
      ]
     },
     "metadata": {},
     "output_type": "display_data"
    },
    {
     "data": {
      "application/vnd.jupyter.widget-view+json": {
       "model_id": "",
       "version_major": 2,
       "version_minor": 0
      },
      "text/plain": [
       "FloatProgress(value=0.0, bar_style='info', description='Progress:', layout=Layout(height='25px', width='50%'),…"
      ]
     },
     "metadata": {},
     "output_type": "display_data"
    }
   ],
   "source": [
    "df=spark.read.parquet(\"s3://strategymodeldata/equityprice/emrout/equity_1min_taq.parquet\")"
   ]
  },
  {
   "cell_type": "code",
   "execution_count": 3,
   "id": "527a25f6-f889-43f4-b46d-aa8c2a746c60",
   "metadata": {
    "execution": {
     "iopub.execute_input": "2022-04-10T21:25:10.859883Z",
     "iopub.status.busy": "2022-04-10T21:25:10.859540Z",
     "iopub.status.idle": "2022-04-10T21:25:11.122892Z",
     "shell.execute_reply": "2022-04-10T21:25:11.122056Z",
     "shell.execute_reply.started": "2022-04-10T21:25:10.859837Z"
    },
    "tags": [],
    "vscode": {
     "languageId": "python"
    }
   },
   "outputs": [
    {
     "data": {
      "application/vnd.jupyter.widget-view+json": {
       "model_id": "c212e3fa44644cb0937782b7fe5e4f94",
       "version_major": 2,
       "version_minor": 0
      },
      "text/plain": [
       "VBox()"
      ]
     },
     "metadata": {},
     "output_type": "display_data"
    },
    {
     "data": {
      "application/vnd.jupyter.widget-view+json": {
       "model_id": "",
       "version_major": 2,
       "version_minor": 0
      },
      "text/plain": [
       "FloatProgress(value=0.0, bar_style='info', description='Progress:', layout=Layout(height='25px', width='50%'),…"
      ]
     },
     "metadata": {},
     "output_type": "display_data"
    },
    {
     "name": "stdout",
     "output_type": "stream",
     "text": [
      "root\n",
      " |-- TimeBarStart: string (nullable = true)\n",
      " |-- OpenBarTime: string (nullable = true)\n",
      " |-- OpenBidPrice: double (nullable = true)\n",
      " |-- OpenBidSize: integer (nullable = true)\n",
      " |-- OpenAskPrice: double (nullable = true)\n",
      " |-- OpenAskSize: integer (nullable = true)\n",
      " |-- FirstTradeTime: string (nullable = true)\n",
      " |-- FirstTradePrice: double (nullable = true)\n",
      " |-- FirstTradeSize: integer (nullable = true)\n",
      " |-- HighBidTime: string (nullable = true)\n",
      " |-- HighBidPrice: double (nullable = true)\n",
      " |-- HighBidSize: integer (nullable = true)\n",
      " |-- HighAskTime: string (nullable = true)\n",
      " |-- HighAskPrice: double (nullable = true)\n",
      " |-- HighAskSize: integer (nullable = true)\n",
      " |-- HighTradeTime: string (nullable = true)\n",
      " |-- HighTradePrice: double (nullable = true)\n",
      " |-- HighTradeSize: integer (nullable = true)\n",
      " |-- LowBidTime: string (nullable = true)\n",
      " |-- LowBidPrice: double (nullable = true)\n",
      " |-- LowBidSize: integer (nullable = true)\n",
      " |-- LowAskTime: string (nullable = true)\n",
      " |-- LowAskPrice: double (nullable = true)\n",
      " |-- LowAskSize: integer (nullable = true)\n",
      " |-- LowTradeTime: string (nullable = true)\n",
      " |-- LowTradePrice: double (nullable = true)\n",
      " |-- LowTradeSize: integer (nullable = true)\n",
      " |-- CloseBarTime: string (nullable = true)\n",
      " |-- CloseBidPrice: double (nullable = true)\n",
      " |-- CloseBidSize: integer (nullable = true)\n",
      " |-- CloseAskPrice: double (nullable = true)\n",
      " |-- CloseAskSize: integer (nullable = true)\n",
      " |-- LastTradeTime: string (nullable = true)\n",
      " |-- LastTradePrice: double (nullable = true)\n",
      " |-- LastTradeSize: integer (nullable = true)\n",
      " |-- MinSpread: double (nullable = true)\n",
      " |-- MaxSpread: double (nullable = true)\n",
      " |-- CancelSize: integer (nullable = true)\n",
      " |-- VolumeWeightPrice: double (nullable = true)\n",
      " |-- NBBOQuoteCount: integer (nullable = true)\n",
      " |-- TradeAtBid: integer (nullable = true)\n",
      " |-- TradeAtBidMid: integer (nullable = true)\n",
      " |-- TradeAtMid: integer (nullable = true)\n",
      " |-- TradeAtMidAsk: integer (nullable = true)\n",
      " |-- TradeAtAsk: integer (nullable = true)\n",
      " |-- TradeAtCrossOrLocked: integer (nullable = true)\n",
      " |-- Volume: integer (nullable = true)\n",
      " |-- TotalTrades: integer (nullable = true)\n",
      " |-- FinraVolume: integer (nullable = true)\n",
      " |-- FinraVolumeWeightPrice: double (nullable = true)\n",
      " |-- UptickVolume: integer (nullable = true)\n",
      " |-- DowntickVolume: integer (nullable = true)\n",
      " |-- RepeatUptickVolume: integer (nullable = true)\n",
      " |-- RepeatDowntickVolume: integer (nullable = true)\n",
      " |-- UnknownTickVolume: integer (nullable = true)\n",
      " |-- TradeToMidVolWeight: double (nullable = true)\n",
      " |-- TradeToMidVolWeightRelative: double (nullable = true)\n",
      " |-- TimeWeightBid: double (nullable = true)\n",
      " |-- TimeWeightAsk: double (nullable = true)\n",
      " |-- datetime: timestamp (nullable = true)\n",
      " |-- Ticker: string (nullable = true)\n",
      " |-- Date: date (nullable = true)"
     ]
    }
   ],
   "source": [
    "df.printSchema()"
   ]
  },
  {
   "cell_type": "code",
   "execution_count": 7,
   "id": "074bcacf-bd49-44f3-89a2-22635a08cf50",
   "metadata": {
    "execution": {
     "iopub.execute_input": "2022-04-10T07:53:14.644506Z",
     "iopub.status.busy": "2022-04-10T07:53:14.644258Z",
     "iopub.status.idle": "2022-04-10T07:53:14.914777Z",
     "shell.execute_reply": "2022-04-10T07:53:14.913955Z",
     "shell.execute_reply.started": "2022-04-10T07:53:14.644483Z"
    },
    "tags": [],
    "vscode": {
     "languageId": "python"
    }
   },
   "outputs": [
    {
     "data": {
      "application/vnd.jupyter.widget-view+json": {
       "model_id": "f689236825964a14927448de4aa8fb3a",
       "version_major": 2,
       "version_minor": 0
      },
      "text/plain": [
       "VBox()"
      ]
     },
     "metadata": {},
     "output_type": "display_data"
    },
    {
     "data": {
      "application/vnd.jupyter.widget-view+json": {
       "model_id": "",
       "version_major": 2,
       "version_minor": 0
      },
      "text/plain": [
       "FloatProgress(value=0.0, bar_style='info', description='Progress:', layout=Layout(height='25px', width='50%'),…"
      ]
     },
     "metadata": {},
     "output_type": "display_data"
    }
   ],
   "source": [
    "last = df.select(\"FirstTradePrice\",\"Ticker\",\"datetime\")"
   ]
  },
  {
   "cell_type": "code",
   "execution_count": 4,
   "id": "a5b67c35-57e4-414f-8fb1-5f886a8761da",
   "metadata": {
    "execution": {
     "iopub.execute_input": "2022-04-10T07:43:27.239913Z",
     "iopub.status.busy": "2022-04-10T07:43:27.239668Z",
     "iopub.status.idle": "2022-04-10T07:48:03.309931Z",
     "shell.execute_reply": "2022-04-10T07:48:03.309224Z",
     "shell.execute_reply.started": "2022-04-10T07:43:27.239888Z"
    },
    "vscode": {
     "languageId": "python"
    }
   },
   "outputs": [
    {
     "data": {
      "application/vnd.jupyter.widget-view+json": {
       "model_id": "3961181e8dff4e87ab6f8da9c8823550",
       "version_major": 2,
       "version_minor": 0
      },
      "text/plain": [
       "VBox()"
      ]
     },
     "metadata": {},
     "output_type": "display_data"
    },
    {
     "data": {
      "application/vnd.jupyter.widget-view+json": {
       "model_id": "",
       "version_major": 2,
       "version_minor": 0
      },
      "text/plain": [
       "FloatProgress(value=0.0, bar_style='info', description='Progress:', layout=Layout(height='25px', width='50%'),…"
      ]
     },
     "metadata": {},
     "output_type": "display_data"
    },
    {
     "name": "stdout",
     "output_type": "stream",
     "text": [
      "+-------+-----------------+\n",
      "|summary|  FirstTradePrice|\n",
      "+-------+-----------------+\n",
      "|  count|         55944786|\n",
      "|   mean|201.4394826370669|\n",
      "| stddev| 381.021394319846|\n",
      "|    min|           3.4659|\n",
      "|    max|         5381.925|\n",
      "+-------+-----------------+"
     ]
    }
   ],
   "source": [
    "df.select(\"FirstTradePrice\").describe().show()"
   ]
  },
  {
   "cell_type": "code",
   "execution_count": 32,
   "id": "de512143-13e2-4498-8490-e248e628689b",
   "metadata": {
    "execution": {
     "iopub.execute_input": "2022-04-10T08:13:26.996975Z",
     "iopub.status.busy": "2022-04-10T08:13:26.996741Z",
     "iopub.status.idle": "2022-04-10T08:13:27.257860Z",
     "shell.execute_reply": "2022-04-10T08:13:27.257268Z",
     "shell.execute_reply.started": "2022-04-10T08:13:26.996950Z"
    },
    "tags": [],
    "vscode": {
     "languageId": "python"
    }
   },
   "outputs": [
    {
     "data": {
      "application/vnd.jupyter.widget-view+json": {
       "model_id": "7c433d7fa1554a1c8c634ed120c61292",
       "version_major": 2,
       "version_minor": 0
      },
      "text/plain": [
       "VBox()"
      ]
     },
     "metadata": {},
     "output_type": "display_data"
    },
    {
     "data": {
      "application/vnd.jupyter.widget-view+json": {
       "model_id": "",
       "version_major": 2,
       "version_minor": 0
      },
      "text/plain": [
       "FloatProgress(value=0.0, bar_style='info', description='Progress:', layout=Layout(height='25px', width='50%'),…"
      ]
     },
     "metadata": {},
     "output_type": "display_data"
    }
   ],
   "source": [
    "# winTst = Window.partitionBy(\"Ticker\").orderBy(\"datetime\")\n",
    "# df = df.withColumn('returns1min', (df['FirstTradePrice'] / lag(df[\"FirstTradePrice\"],1).over(winTst))-1)\n"
   ]
  },
  {
   "cell_type": "code",
   "execution_count": null,
   "id": "0c3616d9-febc-4e16-ac5f-e49936a85794",
   "metadata": {
    "collapsed": true,
    "execution": {
     "iopub.execute_input": "2022-04-10T08:13:37.313468Z",
     "iopub.status.busy": "2022-04-10T08:13:37.313233Z",
     "iopub.status.idle": "2022-04-10T08:18:27.407424Z",
     "shell.execute_reply": "2022-04-10T08:18:27.405880Z",
     "shell.execute_reply.started": "2022-04-10T08:13:37.313443Z"
    },
    "jupyter": {
     "outputs_hidden": true
    },
    "tags": [],
    "vscode": {
     "languageId": "python"
    }
   },
   "outputs": [],
   "source": [
    "df.head(1000)"
   ]
  },
  {
   "cell_type": "code",
   "execution_count": 4,
   "id": "466da0be-c98a-45cb-89e5-749649eb59ef",
   "metadata": {
    "execution": {
     "iopub.execute_input": "2022-04-10T21:25:21.481915Z",
     "iopub.status.busy": "2022-04-10T21:25:21.481686Z",
     "iopub.status.idle": "2022-04-10T21:25:21.737455Z",
     "shell.execute_reply": "2022-04-10T21:25:21.736907Z",
     "shell.execute_reply.started": "2022-04-10T21:25:21.481891Z"
    },
    "tags": [],
    "vscode": {
     "languageId": "python"
    }
   },
   "outputs": [
    {
     "data": {
      "application/vnd.jupyter.widget-view+json": {
       "model_id": "37eac429314243909dfe7c9b79a13b7f",
       "version_major": 2,
       "version_minor": 0
      },
      "text/plain": [
       "VBox()"
      ]
     },
     "metadata": {},
     "output_type": "display_data"
    },
    {
     "data": {
      "application/vnd.jupyter.widget-view+json": {
       "model_id": "",
       "version_major": 2,
       "version_minor": 0
      },
      "text/plain": [
       "FloatProgress(value=0.0, bar_style='info', description='Progress:', layout=Layout(height='25px', width='50%'),…"
      ]
     },
     "metadata": {},
     "output_type": "display_data"
    }
   ],
   "source": [
    "df = df.withColumn('Minute',minute(df.datetime))\n"
   ]
  },
  {
   "cell_type": "code",
   "execution_count": 36,
   "id": "bd2d3d2a-792b-4418-b89b-ea07275c3848",
   "metadata": {
    "execution": {
     "iopub.execute_input": "2022-04-10T08:32:36.206252Z",
     "iopub.status.busy": "2022-04-10T08:32:36.206022Z",
     "iopub.status.idle": "2022-04-10T08:32:36.463046Z",
     "shell.execute_reply": "2022-04-10T08:32:36.462467Z",
     "shell.execute_reply.started": "2022-04-10T08:32:36.206227Z"
    },
    "tags": [],
    "vscode": {
     "languageId": "python"
    }
   },
   "outputs": [
    {
     "data": {
      "application/vnd.jupyter.widget-view+json": {
       "model_id": "32826dbf7c0341b18008675c3c462061",
       "version_major": 2,
       "version_minor": 0
      },
      "text/plain": [
       "VBox()"
      ]
     },
     "metadata": {},
     "output_type": "display_data"
    },
    {
     "data": {
      "application/vnd.jupyter.widget-view+json": {
       "model_id": "",
       "version_major": 2,
       "version_minor": 0
      },
      "text/plain": [
       "FloatProgress(value=0.0, bar_style='info', description='Progress:', layout=Layout(height='25px', width='50%'),…"
      ]
     },
     "metadata": {},
     "output_type": "display_data"
    }
   ],
   "source": [
    "leadWin = Window.partitionBy(\"Ticker\",\"Date\").orderBy(\"datetime\")\n",
    "df = df.withColumn('FirstTradePrice1minLead',lead(df['FirstTradePrice'],1).over(leadWin))"
   ]
  },
  {
   "cell_type": "code",
   "execution_count": 5,
   "id": "c6a4a94f-c827-40dc-ad55-bc639ac436eb",
   "metadata": {
    "execution": {
     "iopub.execute_input": "2022-04-10T21:25:29.748064Z",
     "iopub.status.busy": "2022-04-10T21:25:29.747801Z",
     "iopub.status.idle": "2022-04-10T21:25:30.514599Z",
     "shell.execute_reply": "2022-04-10T21:25:30.514046Z",
     "shell.execute_reply.started": "2022-04-10T21:25:29.748038Z"
    },
    "tags": [],
    "vscode": {
     "languageId": "python"
    }
   },
   "outputs": [
    {
     "data": {
      "application/vnd.jupyter.widget-view+json": {
       "model_id": "3d2c1ce32f8a42a29656d34a4af19edc",
       "version_major": 2,
       "version_minor": 0
      },
      "text/plain": [
       "VBox()"
      ]
     },
     "metadata": {},
     "output_type": "display_data"
    },
    {
     "data": {
      "application/vnd.jupyter.widget-view+json": {
       "model_id": "",
       "version_major": 2,
       "version_minor": 0
      },
      "text/plain": [
       "FloatProgress(value=0.0, bar_style='info', description='Progress:', layout=Layout(height='25px', width='50%'),…"
      ]
     },
     "metadata": {},
     "output_type": "display_data"
    }
   ],
   "source": [
    "#schema = StructType([StructField\n",
    "@pandas_udf('double')\n",
    "def calculate_return_series(series: pd.Series) -> pd.Series:\n",
    "    \"\"\"\n",
    "    Calculates the return series of a time series.\n",
    "    The first value will always be NaN.\n",
    "    Output series retains the index of the input series.\n",
    "    \"\"\"\n",
    "    shifted_series = series.shift(1, axis=0)\n",
    "    return series / shifted_series - 1"
   ]
  },
  {
   "cell_type": "code",
   "execution_count": 6,
   "id": "26c65498-3e26-46d0-942b-aa1321b7e4c4",
   "metadata": {
    "execution": {
     "iopub.execute_input": "2022-04-10T21:25:45.129012Z",
     "iopub.status.busy": "2022-04-10T21:25:45.128787Z",
     "iopub.status.idle": "2022-04-10T21:25:45.402820Z",
     "shell.execute_reply": "2022-04-10T21:25:45.401887Z",
     "shell.execute_reply.started": "2022-04-10T21:25:45.128989Z"
    },
    "tags": [],
    "vscode": {
     "languageId": "python"
    }
   },
   "outputs": [
    {
     "data": {
      "application/vnd.jupyter.widget-view+json": {
       "model_id": "e12d9ff9715043be9fdefcccc423b09d",
       "version_major": 2,
       "version_minor": 0
      },
      "text/plain": [
       "VBox()"
      ]
     },
     "metadata": {},
     "output_type": "display_data"
    },
    {
     "data": {
      "application/vnd.jupyter.widget-view+json": {
       "model_id": "",
       "version_major": 2,
       "version_minor": 0
      },
      "text/plain": [
       "FloatProgress(value=0.0, bar_style='info', description='Progress:', layout=Layout(height='25px', width='50%'),…"
      ]
     },
     "metadata": {},
     "output_type": "display_data"
    }
   ],
   "source": [
    "df = df.withColumn('ret1min', calculate_return_series(df.LastTradePrice))"
   ]
  },
  {
   "cell_type": "code",
   "execution_count": 7,
   "id": "2d4e6c47-4b56-4656-8462-6be4287019c5",
   "metadata": {
    "execution": {
     "iopub.execute_input": "2022-04-10T21:25:46.464620Z",
     "iopub.status.busy": "2022-04-10T21:25:46.464382Z",
     "iopub.status.idle": "2022-04-10T21:25:47.233754Z",
     "shell.execute_reply": "2022-04-10T21:25:47.233037Z",
     "shell.execute_reply.started": "2022-04-10T21:25:46.464596Z"
    },
    "tags": [],
    "vscode": {
     "languageId": "python"
    }
   },
   "outputs": [
    {
     "data": {
      "application/vnd.jupyter.widget-view+json": {
       "model_id": "bd28e6c00d54483ab45eddc2cb8a63da",
       "version_major": 2,
       "version_minor": 0
      },
      "text/plain": [
       "VBox()"
      ]
     },
     "metadata": {},
     "output_type": "display_data"
    },
    {
     "data": {
      "application/vnd.jupyter.widget-view+json": {
       "model_id": "",
       "version_major": 2,
       "version_minor": 0
      },
      "text/plain": [
       "FloatProgress(value=0.0, bar_style='info', description='Progress:', layout=Layout(height='25px', width='50%'),…"
      ]
     },
     "metadata": {},
     "output_type": "display_data"
    },
    {
     "name": "stdout",
     "output_type": "stream",
     "text": [
      "100%|##########| 9/9 [00:00<00:00, 18.68it/s]"
     ]
    }
   ],
   "source": [
    "for i in tqdm(range(2,11)):\n",
    "    \n",
    "    @pandas_udf('double')\n",
    "    def calculate_min_return_series(series: pd.Series) -> pd.Series:\n",
    "        \"\"\"\n",
    "        Calculates the return series of a time series.\n",
    "        The first value will always be NaN.\n",
    "        Output series retains the index of the input series.\n",
    "        \"\"\"\n",
    "        shifted_series = series.shift(i, axis=0)\n",
    "        return series / shifted_series - 1\n",
    "    \n",
    "    df = df.withColumn(f'ret{i}min', calculate_min_return_series(df.LastTradePrice))"
   ]
  },
  {
   "cell_type": "code",
   "execution_count": 68,
   "id": "b57bcaa4-50c3-4163-bda6-03948c833d10",
   "metadata": {
    "execution": {
     "iopub.execute_input": "2022-04-10T09:54:07.866194Z",
     "iopub.status.busy": "2022-04-10T09:54:07.865949Z",
     "iopub.status.idle": "2022-04-10T09:54:21.168235Z",
     "shell.execute_reply": "2022-04-10T09:54:21.167514Z",
     "shell.execute_reply.started": "2022-04-10T09:54:07.866159Z"
    },
    "tags": [],
    "vscode": {
     "languageId": "python"
    }
   },
   "outputs": [
    {
     "data": {
      "application/vnd.jupyter.widget-view+json": {
       "model_id": "b61a6aa40d114e3ebca1e249a5cedd74",
       "version_major": 2,
       "version_minor": 0
      },
      "text/plain": [
       "VBox()"
      ]
     },
     "metadata": {},
     "output_type": "display_data"
    },
    {
     "data": {
      "application/vnd.jupyter.widget-view+json": {
       "model_id": "",
       "version_major": 2,
       "version_minor": 0
      },
      "text/plain": [
       "FloatProgress(value=0.0, bar_style='info', description='Progress:', layout=Layout(height='25px', width='50%'),…"
      ]
     },
     "metadata": {},
     "output_type": "display_data"
    },
    {
     "name": "stdout",
     "output_type": "stream",
     "text": [
      "+--------------+-------------------+------+--------------------+--------------------+--------------------+--------------------+--------------------+\n",
      "|LastTradePrice|           datetime|Ticker|             ret1min|             ret2min|             ret3min|             ret4min|             ret5min|\n",
      "+--------------+-------------------+------+--------------------+--------------------+--------------------+--------------------+--------------------+\n",
      "|        168.55|2018-03-22 04:00:00|    FB|                null|                null|                null|                null|                null|\n",
      "|        168.55|2018-03-22 04:01:00|    FB|                 0.0|                null|                null|                null|                null|\n",
      "|        168.03|2018-03-22 04:02:00|    FB|-0.00308513794126...|-0.00308513794126...|                null|                null|                null|\n",
      "|        168.27|2018-03-22 04:03:00|    FB|0.001428316372076...|-0.00166122812221...|-0.00166122812221...|                null|                null|\n",
      "|        168.44|2018-03-22 04:04:00|    FB|0.001010281095857879|0.002440040468963...|-6.52625333728895...|-6.52625333728895...|                null|\n",
      "|        168.44|2018-03-22 04:05:00|    FB|                 0.0|0.001010281095857879|0.002440040468963...|-6.52625333728895...|-6.52625333728895...|\n",
      "|        168.53|2018-03-22 04:06:00|    FB|5.343148895748939E-4|5.343148895748939E-4|0.001545135793664...|0.002975659108492623|-1.18659151587152...|\n",
      "|        168.37|2018-03-22 04:07:00|    FB|-9.49385866017893...|-4.15578247447090...|-4.15578247447090...|5.942829975633668E-4|0.002023448193774...|\n",
      "|        168.45|2018-03-22 04:08:00|    FB|4.751440280335028...|-4.74692933009057...|5.936832106390177...|5.936832106390177...|0.001069709395614...|\n",
      "|         168.5|2018-03-22 04:09:00|    FB|2.968239833778252...|7.721090455543589E-4|-1.78009849878368...|3.562099263831886E-4|3.562099263831886E-4|\n",
      "|        168.56|2018-03-22 04:10:00|    FB|3.560830860533936...|6.530127634314375E-4|0.001128467066579...|1.780098498782578...|7.124198527665992E-4|\n",
      "|         168.8|2018-03-22 04:11:00|    FB|0.001423825344091...|0.001780415430267...|0.002077767883645...|0.002553899150680161|0.001602088648905...|\n",
      "|        168.64|2018-03-22 04:12:00|    FB|-9.47867298578319...|4.746084480302670...|8.308605341245112E-4|0.001127931136835...|0.001603611094612...|\n",
      "|        168.78|2018-03-22 04:13:00|    FB|8.301707779887479E-4|-1.18483412322345...|0.001305173232083...|0.001661721068249...|0.001959038290293...|\n",
      "|        168.86|2018-03-22 04:14:00|    FB|4.739898092191996...|0.001304554079696...|3.554502369669254...|0.001779781680113...|0.002136498516320584|\n",
      "|         168.8|2018-03-22 04:15:00|    FB|-3.55323936989226...|1.184974523047444E-4|9.487666034158071E-4|                 0.0|0.001423825344091...|\n",
      "|        168.86|2018-03-22 04:16:00|    FB|3.554502369669254...|                 0.0|4.739898092191996...|0.001304554079696...|3.554502369669254...|\n",
      "|        168.86|2018-03-22 04:17:00|    FB|                 0.0|3.554502369669254...|                 0.0|4.739898092191996...|0.001304554079696...|\n",
      "|          null|2018-03-22 04:18:00|    FB|                null|                null|                null|                null|                null|\n",
      "|        168.86|2018-03-22 04:19:00|    FB|                null|                 0.0|                 0.0|3.554502369669254...|                 0.0|\n",
      "+--------------+-------------------+------+--------------------+--------------------+--------------------+--------------------+--------------------+\n",
      "only showing top 20 rows"
     ]
    }
   ],
   "source": [
    "df.select(\"LastTradePrice\",\"datetime\",\"Ticker\",\"ret1min\",\"ret2min\",\"ret3min\",\"ret4min\",\"ret5min\",).show()"
   ]
  },
  {
   "cell_type": "code",
   "execution_count": 8,
   "id": "0efecb07-ca98-410b-bb59-45956f571b0f",
   "metadata": {
    "execution": {
     "iopub.execute_input": "2022-04-10T21:25:56.190993Z",
     "iopub.status.busy": "2022-04-10T21:25:56.190765Z",
     "iopub.status.idle": "2022-04-10T21:25:56.446591Z",
     "shell.execute_reply": "2022-04-10T21:25:56.446001Z",
     "shell.execute_reply.started": "2022-04-10T21:25:56.190970Z"
    },
    "tags": [],
    "vscode": {
     "languageId": "python"
    }
   },
   "outputs": [
    {
     "data": {
      "application/vnd.jupyter.widget-view+json": {
       "model_id": "c165f27956114f83b5841e9aa450a276",
       "version_major": 2,
       "version_minor": 0
      },
      "text/plain": [
       "VBox()"
      ]
     },
     "metadata": {},
     "output_type": "display_data"
    },
    {
     "data": {
      "application/vnd.jupyter.widget-view+json": {
       "model_id": "",
       "version_major": 2,
       "version_minor": 0
      },
      "text/plain": [
       "FloatProgress(value=0.0, bar_style='info', description='Progress:', layout=Layout(height='25px', width='50%'),…"
      ]
     },
     "metadata": {},
     "output_type": "display_data"
    }
   ],
   "source": [
    "@pandas_udf('double')\n",
    "def calculate_fwd_return_series(series: pd.Series) -> pd.Series:\n",
    "    \"\"\"\n",
    "    Calculates the return series of a time series.\n",
    "    The first value will always be NaN.\n",
    "    Output series retains the index of the input series.\n",
    "    \"\"\"\n",
    "    shifted_series = series.shift(-1, axis=0)\n",
    "    return series / shifted_series - 1"
   ]
  },
  {
   "cell_type": "code",
   "execution_count": 9,
   "id": "3c5a2b23-5dba-48ef-8cf8-c152789c6863",
   "metadata": {
    "execution": {
     "iopub.execute_input": "2022-04-10T16:50:04.127259Z",
     "iopub.status.busy": "2022-04-10T16:50:04.126994Z",
     "iopub.status.idle": "2022-04-10T16:50:04.394533Z",
     "shell.execute_reply": "2022-04-10T16:50:04.393944Z",
     "shell.execute_reply.started": "2022-04-10T16:50:04.127227Z"
    },
    "tags": [],
    "vscode": {
     "languageId": "python"
    }
   },
   "outputs": [
    {
     "data": {
      "application/vnd.jupyter.widget-view+json": {
       "model_id": "d736f12fce154011abf470f4ac2aae1e",
       "version_major": 2,
       "version_minor": 0
      },
      "text/plain": [
       "VBox()"
      ]
     },
     "metadata": {},
     "output_type": "display_data"
    },
    {
     "data": {
      "application/vnd.jupyter.widget-view+json": {
       "model_id": "",
       "version_major": 2,
       "version_minor": 0
      },
      "text/plain": [
       "FloatProgress(value=0.0, bar_style='info', description='Progress:', layout=Layout(height='25px', width='50%'),…"
      ]
     },
     "metadata": {},
     "output_type": "display_data"
    }
   ],
   "source": [
    "# df = df.withColumn('fwd1min', calculate_fwd_return_series(df.ret1min))"
   ]
  },
  {
   "cell_type": "code",
   "execution_count": 9,
   "id": "52145355-0488-433c-ace6-2a9e2f0de6c5",
   "metadata": {
    "execution": {
     "iopub.execute_input": "2022-04-10T21:26:02.999245Z",
     "iopub.status.busy": "2022-04-10T21:26:02.998988Z",
     "iopub.status.idle": "2022-04-10T21:26:03.759402Z",
     "shell.execute_reply": "2022-04-10T21:26:03.758686Z",
     "shell.execute_reply.started": "2022-04-10T21:26:02.999221Z"
    },
    "tags": [],
    "vscode": {
     "languageId": "python"
    }
   },
   "outputs": [
    {
     "data": {
      "application/vnd.jupyter.widget-view+json": {
       "model_id": "a9e7bbcca5764635987cb7cecf1bd476",
       "version_major": 2,
       "version_minor": 0
      },
      "text/plain": [
       "VBox()"
      ]
     },
     "metadata": {},
     "output_type": "display_data"
    },
    {
     "data": {
      "application/vnd.jupyter.widget-view+json": {
       "model_id": "",
       "version_major": 2,
       "version_minor": 0
      },
      "text/plain": [
       "FloatProgress(value=0.0, bar_style='info', description='Progress:', layout=Layout(height='25px', width='50%'),…"
      ]
     },
     "metadata": {},
     "output_type": "display_data"
    },
    {
     "name": "stdout",
     "output_type": "stream",
     "text": [
      "100%|##########| 10/10 [00:00<00:00, 21.65it/s]"
     ]
    }
   ],
   "source": [
    "\n",
    "\n",
    "for i in tqdm(range(1,11)):\n",
    "    \n",
    "    df=df.withColumn(f\"fwd{i}min\",lead(df.ret1min,i).over(Window.partitionBy(\"Ticker\",\"Date\").orderBy(\"datetime\")))"
   ]
  },
  {
   "cell_type": "code",
   "execution_count": 10,
   "id": "62129764-8983-4d3e-a2ee-09b85d1dafb8",
   "metadata": {
    "execution": {
     "iopub.execute_input": "2022-04-10T18:06:03.455258Z",
     "iopub.status.busy": "2022-04-10T18:06:03.455044Z",
     "iopub.status.idle": "2022-04-10T18:11:07.583950Z",
     "shell.execute_reply": "2022-04-10T18:11:07.583259Z",
     "shell.execute_reply.started": "2022-04-10T18:06:03.455234Z"
    },
    "tags": [],
    "vscode": {
     "languageId": "python"
    }
   },
   "outputs": [
    {
     "data": {
      "application/vnd.jupyter.widget-view+json": {
       "model_id": "640093cdf4934e3dac4fb3245df25ae1",
       "version_major": 2,
       "version_minor": 0
      },
      "text/plain": [
       "VBox()"
      ]
     },
     "metadata": {},
     "output_type": "display_data"
    },
    {
     "data": {
      "application/vnd.jupyter.widget-view+json": {
       "model_id": "",
       "version_major": 2,
       "version_minor": 0
      },
      "text/plain": [
       "FloatProgress(value=0.0, bar_style='info', description='Progress:', layout=Layout(height='25px', width='50%'),…"
      ]
     },
     "metadata": {},
     "output_type": "display_data"
    },
    {
     "name": "stdout",
     "output_type": "stream",
     "text": [
      "+--------------+-------------------+------+--------------------+--------------------+\n",
      "|LastTradePrice|           datetime|Ticker|             ret1min|             fwd1min|\n",
      "+--------------+-------------------+------+--------------------+--------------------+\n",
      "|         180.7|2018-03-12 04:00:00|  AAPL|-0.33284105593501945|-0.00654241574578...|\n",
      "|         180.7|2018-03-12 04:00:00|  AAPL|-0.00654241574578...|0.001660210293303...|\n",
      "|         181.0|2018-03-12 04:01:00|  AAPL|0.001660210293303...|0.001660210293303...|\n",
      "|         181.0|2018-03-12 04:01:00|  AAPL|0.001660210293303...|                null|\n",
      "|          null|2018-03-12 04:02:00|  AAPL|                null|                null|\n",
      "|          null|2018-03-12 04:02:00|  AAPL|                null|                null|\n",
      "|         181.0|2018-03-12 04:03:00|  AAPL|                null|                null|\n",
      "|         181.0|2018-03-12 04:03:00|  AAPL|                null|                null|\n",
      "|          null|2018-03-12 04:04:00|  AAPL|                null|                null|\n",
      "|          null|2018-03-12 04:04:00|  AAPL|                null|                null|\n",
      "|        180.96|2018-03-12 04:05:00|  AAPL|                null|                null|\n",
      "|        180.96|2018-03-12 04:05:00|  AAPL|                null|                null|\n",
      "|          null|2018-03-12 04:06:00|  AAPL|                null|                null|\n",
      "|          null|2018-03-12 04:06:00|  AAPL|                null|                null|\n",
      "|          null|2018-03-12 04:07:00|  AAPL|                null|                null|\n",
      "|          null|2018-03-12 04:07:00|  AAPL|                null|                null|\n",
      "|        181.07|2018-03-12 04:08:00|  AAPL|                null|                null|\n",
      "|        181.07|2018-03-12 04:08:00|  AAPL|                null|-3.86590821229271...|\n",
      "|         181.0|2018-03-12 04:09:00|  AAPL|-3.86590821229271...|-3.86590821229271...|\n",
      "|         181.0|2018-03-12 04:09:00|  AAPL|-3.86590821229271...|                 0.0|\n",
      "+--------------+-------------------+------+--------------------+--------------------+\n",
      "only showing top 20 rows"
     ]
    }
   ],
   "source": [
    "df.select(\"LastTradePrice\",\"datetime\",\"Ticker\",\"ret1min\",\"fwd1min\").show()"
   ]
  },
  {
   "cell_type": "code",
   "execution_count": 11,
   "id": "c4112dc2-b6ce-4db1-860f-be87a4699c0b",
   "metadata": {
    "execution": {
     "iopub.execute_input": "2022-04-10T18:11:07.585062Z",
     "iopub.status.busy": "2022-04-10T18:11:07.584875Z",
     "iopub.status.idle": "2022-04-10T18:11:07.638628Z",
     "shell.execute_reply": "2022-04-10T18:11:07.638089Z",
     "shell.execute_reply.started": "2022-04-10T18:11:07.585040Z"
    },
    "tags": [],
    "vscode": {
     "languageId": "python"
    }
   },
   "outputs": [
    {
     "data": {
      "application/vnd.jupyter.widget-view+json": {
       "model_id": "6f3af9edde294d568ed50b183ff5bf5f",
       "version_major": 2,
       "version_minor": 0
      },
      "text/plain": [
       "VBox()"
      ]
     },
     "metadata": {},
     "output_type": "display_data"
    },
    {
     "data": {
      "application/vnd.jupyter.widget-view+json": {
       "model_id": "",
       "version_major": 2,
       "version_minor": 0
      },
      "text/plain": [
       "FloatProgress(value=0.0, bar_style='info', description='Progress:', layout=Layout(height='25px', width='50%'),…"
      ]
     },
     "metadata": {},
     "output_type": "display_data"
    }
   ],
   "source": [
    "@pandas_udf('double')\n",
    "def calculate_mfi(high: pd.Series, low: pd.Series, close: pd.Series, volume: pd.Series) -> pd.Series:\n",
    "    \"\"\"\n",
    "    \n",
    "    \"\"\"\n",
    "    mfi = ta.mfi(high,low,close,volume,length=14)\n",
    "    return mfi"
   ]
  },
  {
   "cell_type": "code",
   "execution_count": 12,
   "id": "cfd7e4cd-bcbd-4a2f-9108-f27e15e4b3f9",
   "metadata": {
    "execution": {
     "iopub.execute_input": "2022-04-10T18:11:07.639901Z",
     "iopub.status.busy": "2022-04-10T18:11:07.639655Z",
     "iopub.status.idle": "2022-04-10T18:11:07.694357Z",
     "shell.execute_reply": "2022-04-10T18:11:07.693810Z",
     "shell.execute_reply.started": "2022-04-10T18:11:07.639867Z"
    },
    "vscode": {
     "languageId": "python"
    }
   },
   "outputs": [
    {
     "data": {
      "application/vnd.jupyter.widget-view+json": {
       "model_id": "8c336fb06b974c459927c487d49ba3dc",
       "version_major": 2,
       "version_minor": 0
      },
      "text/plain": [
       "VBox()"
      ]
     },
     "metadata": {},
     "output_type": "display_data"
    },
    {
     "data": {
      "application/vnd.jupyter.widget-view+json": {
       "model_id": "",
       "version_major": 2,
       "version_minor": 0
      },
      "text/plain": [
       "FloatProgress(value=0.0, bar_style='info', description='Progress:', layout=Layout(height='25px', width='50%'),…"
      ]
     },
     "metadata": {},
     "output_type": "display_data"
    },
    {
     "name": "stderr",
     "output_type": "stream",
     "text": [
      "An error was encountered:\n",
      "invalid syntax (<stdin>, line 7)\n",
      "  File \"<stdin>\", line 7\n",
      "    return bop\n",
      "         ^\n",
      "SyntaxError: invalid syntax\n",
      "\n"
     ]
    }
   ],
   "source": [
    "@pandas_udf('double')\n",
    "def calculate_bop(open: pd.Series, high: pd.Series, low: pd.Series, close: pd.Series) -> pd.Series:\n",
    "    \"\"\"\n",
    "    \n",
    "    \"\"\"\n",
    "    bop = (ta.bop(high,low,close,volume,length=14)\n",
    "    return bop\n",
    "           \n",
    "@pandas_udf('double')\n",
    "def calculate_cci(high: pd.Series, low: pd.Series, close: pd.Series) -> pd.Series:\n",
    "       \"\"\"\n",
    "\n",
    "       \"\"\"\n",
    "        cci = ta.cci(high,low,close)\n",
    "        return cci\n",
    "\n",
    "@pandas_udf('double')\n"
   ]
  },
  {
   "cell_type": "code",
   "execution_count": 13,
   "id": "b204188d-36be-4704-b582-d3197731f809",
   "metadata": {
    "execution": {
     "iopub.execute_input": "2022-04-10T18:11:07.695405Z",
     "iopub.status.busy": "2022-04-10T18:11:07.695235Z",
     "iopub.status.idle": "2022-04-10T18:11:07.955406Z",
     "shell.execute_reply": "2022-04-10T18:11:07.954729Z",
     "shell.execute_reply.started": "2022-04-10T18:11:07.695384Z"
    },
    "tags": [],
    "vscode": {
     "languageId": "python"
    }
   },
   "outputs": [
    {
     "data": {
      "application/vnd.jupyter.widget-view+json": {
       "model_id": "500e4ab813764eeb85944103e6df0d3f",
       "version_major": 2,
       "version_minor": 0
      },
      "text/plain": [
       "VBox()"
      ]
     },
     "metadata": {},
     "output_type": "display_data"
    },
    {
     "data": {
      "application/vnd.jupyter.widget-view+json": {
       "model_id": "",
       "version_major": 2,
       "version_minor": 0
      },
      "text/plain": [
       "FloatProgress(value=0.0, bar_style='info', description='Progress:', layout=Layout(height='25px', width='50%'),…"
      ]
     },
     "metadata": {},
     "output_type": "display_data"
    }
   ],
   "source": [
    "df = df.withColumn('mfi', calculate_mfi(df.HighTradePrice,df.LowTradePrice,df.LastTradePrice,df.FinraVolume))"
   ]
  },
  {
   "cell_type": "code",
   "execution_count": 83,
   "id": "adb4133e-cde2-47c3-a43c-8318c8f3b819",
   "metadata": {
    "execution": {
     "iopub.execute_input": "2022-04-10T12:04:21.015169Z",
     "iopub.status.busy": "2022-04-10T12:04:21.014761Z",
     "iopub.status.idle": "2022-04-10T12:10:57.306494Z",
     "shell.execute_reply": "2022-04-10T12:10:57.305774Z",
     "shell.execute_reply.started": "2022-04-10T12:04:21.015140Z"
    },
    "tags": [],
    "vscode": {
     "languageId": "python"
    }
   },
   "outputs": [
    {
     "data": {
      "application/vnd.jupyter.widget-view+json": {
       "model_id": "98e0a7c12fe743729736caa1d495ec59",
       "version_major": 2,
       "version_minor": 0
      },
      "text/plain": [
       "VBox()"
      ]
     },
     "metadata": {},
     "output_type": "display_data"
    },
    {
     "data": {
      "application/vnd.jupyter.widget-view+json": {
       "model_id": "",
       "version_major": 2,
       "version_minor": 0
      },
      "text/plain": [
       "FloatProgress(value=0.0, bar_style='info', description='Progress:', layout=Layout(height='25px', width='50%'),…"
      ]
     },
     "metadata": {},
     "output_type": "display_data"
    },
    {
     "name": "stdout",
     "output_type": "stream",
     "text": [
      "+--------------+-------------------+------+--------------------+--------------------+------------------+\n",
      "|LastTradePrice|           datetime|Ticker|             ret1min|             fwd1min|               mfi|\n",
      "+--------------+-------------------+------+--------------------+--------------------+------------------+\n",
      "|        180.72|2018-03-12 08:00:00|  AAPL|3.874896208135858...|3.874896208135858...|              null|\n",
      "|        180.72|2018-03-12 08:00:00|  AAPL|3.874896208135858...|-4.98007968127489...|              null|\n",
      "|        180.63|2018-03-12 08:01:00|  AAPL|-4.98007968127489...|-4.98007968127489...|              null|\n",
      "|        180.63|2018-03-12 08:01:00|  AAPL|-4.98007968127489...|                 0.0|              null|\n",
      "|        180.63|2018-03-12 08:02:00|  AAPL|                 0.0|                 0.0|              null|\n",
      "|        180.63|2018-03-12 08:02:00|  AAPL|                 0.0|                null|              null|\n",
      "|          null|2018-03-12 08:03:00|  AAPL|                null|                null|              null|\n",
      "|          null|2018-03-12 08:03:00|  AAPL|                null|                null|              null|\n",
      "|        180.66|2018-03-12 08:04:00|  AAPL|                null|                null|              null|\n",
      "|        180.66|2018-03-12 08:04:00|  AAPL|                null|                 0.0|              null|\n",
      "|        180.66|2018-03-12 08:05:00|  AAPL|                 0.0|                 0.0|              null|\n",
      "|        180.66|2018-03-12 08:05:00|  AAPL|                 0.0|                 0.0|              null|\n",
      "|        180.66|2018-03-12 08:06:00|  AAPL|                 0.0|                 0.0|              null|\n",
      "|        180.66|2018-03-12 08:06:00|  AAPL|                 0.0|                 0.0|               0.0|\n",
      "|        180.66|2018-03-12 08:07:00|  AAPL|                 0.0|                 0.0|               0.0|\n",
      "|        180.66|2018-03-12 08:07:00|  AAPL|                 0.0|                null|               0.0|\n",
      "|          null|2018-03-12 08:08:00|  AAPL|                null|                null|               0.0|\n",
      "|          null|2018-03-12 08:08:00|  AAPL|                null|                null|               0.0|\n",
      "|          null|2018-03-12 08:09:00|  AAPL|                null|                null|               0.0|\n",
      "|          null|2018-03-12 08:09:00|  AAPL|                null|                null|               0.0|\n",
      "|        180.66|2018-03-12 08:10:00|  AAPL|                null|                null|               0.0|\n",
      "|        180.66|2018-03-12 08:10:00|  AAPL|                null|-3.87468172257210...|               0.0|\n",
      "|        180.59|2018-03-12 08:11:00|  AAPL|-3.87468172257210...|-3.87468172257210...|               0.0|\n",
      "|        180.59|2018-03-12 08:11:00|  AAPL|-3.87468172257210...|4.429924137547836E-4|               0.0|\n",
      "|        180.67|2018-03-12 08:12:00|  AAPL|4.429924137547836E-4|4.429924137547836E-4| 47.84458776916719|\n",
      "|        180.67|2018-03-12 08:12:00|  AAPL|4.429924137547836E-4|-3.87446726075157...| 47.84458776916719|\n",
      "|         180.6|2018-03-12 08:13:00|  AAPL|-3.87446726075157...|-3.87446726075157...| 47.84458776916719|\n",
      "|         180.6|2018-03-12 08:13:00|  AAPL|-3.87446726075157...|                 0.0| 47.84458776916719|\n",
      "|         180.6|2018-03-12 08:14:00|  AAPL|                 0.0|                 0.0|             100.0|\n",
      "|         180.6|2018-03-12 08:14:00|  AAPL|                 0.0|-5.53709856034867...|             100.0|\n",
      "|        180.59|2018-03-12 08:15:00|  AAPL|-5.53709856034867...|-5.53709856034867...|  99.0102808601195|\n",
      "|        180.59|2018-03-12 08:15:00|  AAPL|-5.53709856034867...|5.537405171929244E-5|  99.0102808601195|\n",
      "|         180.6|2018-03-12 08:16:00|  AAPL|5.537405171929244E-5|5.537405171929244E-5|  99.0102808601195|\n",
      "|         180.6|2018-03-12 08:16:00|  AAPL|5.537405171929244E-5|-1.66112956810682...|  99.0102808601195|\n",
      "|        180.57|2018-03-12 08:17:00|  AAPL|-1.66112956810682...|-1.66112956810682...|  99.0102808601195|\n",
      "|        180.57|2018-03-12 08:17:00|  AAPL|-1.66112956810682...|1.661405549093775...|  99.0102808601195|\n",
      "|         180.6|2018-03-12 08:18:00|  AAPL|1.661405549093775...|1.661405549093775...|  99.0102808601195|\n",
      "|         180.6|2018-03-12 08:18:00|  AAPL|1.661405549093775...|                 0.0|  99.0102808601195|\n",
      "|         180.6|2018-03-12 08:19:00|  AAPL|                 0.0|                 0.0| 99.37121912593284|\n",
      "|         180.6|2018-03-12 08:19:00|  AAPL|                 0.0|                null| 99.37121912593284|\n",
      "|          null|2018-03-12 08:20:00|  AAPL|                null|                null| 99.37121912593284|\n",
      "|          null|2018-03-12 08:20:00|  AAPL|                null|                null| 99.37121912593284|\n",
      "|        180.58|2018-03-12 08:21:00|  AAPL|                null|                null| 99.37121912593284|\n",
      "|        180.58|2018-03-12 08:21:00|  AAPL|                null|-4.43016945398277...| 99.37121912593284|\n",
      "|         180.5|2018-03-12 08:22:00|  AAPL|-4.43016945398277...|-4.43016945398277...|             100.0|\n",
      "|         180.5|2018-03-12 08:22:00|  AAPL|-4.43016945398277...|                null|             100.0|\n",
      "|          null|2018-03-12 08:23:00|  AAPL|                null|                null|             100.0|\n",
      "|          null|2018-03-12 08:23:00|  AAPL|                null|                null|             100.0|\n",
      "|        180.42|2018-03-12 08:24:00|  AAPL|                null|                null|             100.0|\n",
      "|        180.42|2018-03-12 08:24:00|  AAPL|                null|5.542622769105776E-5|             100.0|\n",
      "|        180.43|2018-03-12 08:25:00|  AAPL|5.542622769105776E-5|5.542622769105776E-5|             100.0|\n",
      "|        180.43|2018-03-12 08:25:00|  AAPL|5.542622769105776E-5|1.108463115888636E-4|             100.0|\n",
      "|        180.45|2018-03-12 08:26:00|  AAPL|1.108463115888636E-4|1.108463115888636E-4|             100.0|\n",
      "|        180.45|2018-03-12 08:26:00|  AAPL|1.108463115888636E-4|2.216680520921166E-4|             100.0|\n",
      "|        180.49|2018-03-12 08:27:00|  AAPL|2.216680520921166E-4|2.216680520921166E-4|             100.0|\n",
      "|        180.49|2018-03-12 08:27:00|  AAPL|2.216680520921166E-4|-3.32428389384520...|             100.0|\n",
      "|        180.43|2018-03-12 08:28:00|  AAPL|-3.32428389384520...|-3.32428389384520...|             100.0|\n",
      "|        180.43|2018-03-12 08:28:00|  AAPL|-3.32428389384520...|3.325389347670349E-4|             100.0|\n",
      "|        180.49|2018-03-12 08:29:00|  AAPL|3.325389347670349E-4|3.325389347670349E-4|             100.0|\n",
      "|        180.49|2018-03-12 08:29:00|  AAPL|3.325389347670349E-4|-4.43237852512656...|             100.0|\n",
      "|        180.41|2018-03-12 08:30:00|  AAPL|-4.43237852512656...|-4.43237852512656...|43.510296066042116|\n",
      "|        180.41|2018-03-12 08:30:00|  AAPL|-4.43237852512656...|3.880050994955475E-4|43.510296066042116|\n",
      "|        180.48|2018-03-12 08:31:00|  AAPL|3.880050994955475E-4|3.880050994955475E-4|43.510296066042116|\n",
      "|        180.48|2018-03-12 08:31:00|  AAPL|3.880050994955475E-4|                 0.0|43.510296066042116|\n",
      "|        180.48|2018-03-12 08:32:00|  AAPL|                 0.0|                 0.0|33.339491234228085|\n",
      "|        180.48|2018-03-12 08:32:00|  AAPL|                 0.0|-5.54078014184389...| 33.33949123422808|\n",
      "|        180.47|2018-03-12 08:33:00|  AAPL|-5.54078014184389...|-5.54078014184389...|12.332159931994427|\n",
      "|        180.47|2018-03-12 08:33:00|  AAPL|-5.54078014184389...|-1.10821743226074...|12.332159931994427|\n",
      "|        180.45|2018-03-12 08:34:00|  AAPL|-1.10821743226074...|-1.10821743226074...|12.332159931994427|\n",
      "|        180.45|2018-03-12 08:34:00|  AAPL|-1.10821743226074...|-1.10834026045947...|12.332159931994427|\n",
      "|        180.43|2018-03-12 08:35:00|  AAPL|-1.10834026045947...|-1.10834026045947...|11.845339134393873|\n",
      "|        180.43|2018-03-12 08:35:00|  AAPL|-1.10834026045947...|2.216926231779492...|11.845339134393873|\n",
      "|        180.47|2018-03-12 08:36:00|  AAPL|2.216926231779492...|2.216926231779492...|               0.0|\n",
      "|        180.47|2018-03-12 08:36:00|  AAPL|2.216926231779492...|-2.77054358065131...|               0.0|\n",
      "|        180.42|2018-03-12 08:37:00|  AAPL|-2.77054358065131...|-2.77054358065131...|               0.0|\n",
      "|        180.42|2018-03-12 08:37:00|  AAPL|-2.77054358065131...|2.217049107637869...|               0.0|\n",
      "|        180.46|2018-03-12 08:38:00|  AAPL|2.217049107637869...|2.217049107637869...|  2.80289192551132|\n",
      "|        180.46|2018-03-12 08:38:00|  AAPL|2.217049107637869...|-2.77069710739263...|  2.80289192551132|\n",
      "|        180.41|2018-03-12 08:39:00|  AAPL|-2.77069710739263...|-2.77069710739263...| 2.969353620437287|\n",
      "|        180.41|2018-03-12 08:39:00|  AAPL|-2.77069710739263...|                 0.0| 2.969353620437287|\n",
      "|        180.41|2018-03-12 08:40:00|  AAPL|                 0.0|                 0.0|40.062040402128986|\n",
      "|        180.41|2018-03-12 08:40:00|  AAPL|                 0.0|2.771464996398354E-4|40.062040402128986|\n",
      "|        180.46|2018-03-12 08:41:00|  AAPL|2.771464996398354E-4|2.771464996398354E-4|40.062040402128986|\n",
      "|        180.46|2018-03-12 08:41:00|  AAPL|2.771464996398354E-4|1.108278842956167...|40.062040402128986|\n",
      "|        180.48|2018-03-12 08:42:00|  AAPL|1.108278842956167...|1.108278842956167...| 98.54020208437774|\n",
      "|        180.48|2018-03-12 08:42:00|  AAPL|1.108278842956167...|5.540780141854995E-5| 98.54020208437774|\n",
      "|        180.49|2018-03-12 08:43:00|  AAPL|5.540780141854995E-5|5.540780141854995E-5| 98.54020208437774|\n",
      "|        180.49|2018-03-12 08:43:00|  AAPL|5.540780141854995E-5|-4.43237852512656...| 98.54020208437774|\n",
      "|        180.41|2018-03-12 08:44:00|  AAPL|-4.43237852512656...|-4.43237852512656...| 4.485296040070275|\n",
      "|        180.41|2018-03-12 08:44:00|  AAPL|-4.43237852512656...|                null| 4.485296040070275|\n",
      "|          null|2018-03-12 08:45:00|  AAPL|                null|                null|  1.20257352791806|\n",
      "|          null|2018-03-12 08:45:00|  AAPL|                null|                null|  1.20257352791806|\n",
      "|        180.43|2018-03-12 08:46:00|  AAPL|                null|                null|  1.20257352791806|\n",
      "|        180.43|2018-03-12 08:46:00|  AAPL|                null|1.108463115888636E-4|  1.20257352791806|\n",
      "|        180.45|2018-03-12 08:47:00|  AAPL|1.108463115888636E-4|1.108463115888636E-4| 0.690947679282354|\n",
      "|        180.45|2018-03-12 08:47:00|  AAPL|1.108463115888636E-4|2.216680520921166E-4| 0.690947679282354|\n",
      "|        180.49|2018-03-12 08:48:00|  AAPL|2.216680520921166E-4|2.216680520921166E-4| 0.690947679282354|\n",
      "|        180.49|2018-03-12 08:48:00|  AAPL|2.216680520921166E-4|-2.21618926256383...| 0.690947679282354|\n",
      "|        180.45|2018-03-12 08:49:00|  AAPL|-2.21618926256383...|-2.21618926256383...| 0.690470653058724|\n",
      "|        180.45|2018-03-12 08:49:00|  AAPL|-2.21618926256383...|-6.65004156275794...| 0.690470653058724|\n",
      "+--------------+-------------------+------+--------------------+--------------------+------------------+\n",
      "only showing top 100 rows"
     ]
    }
   ],
   "source": [
    "df.select(\"LastTradePrice\",\"datetime\",\"Ticker\",\"ret1min\",\"fwd1min\",\"mfi\").filter(df.mfi.isNotNull()).show(100)"
   ]
  },
  {
   "cell_type": "code",
   "execution_count": 125,
   "id": "6a0aa671-f5ee-469f-b8fd-4d3e11dbba9a",
   "metadata": {
    "execution": {
     "iopub.execute_input": "2022-04-10T16:18:10.529678Z",
     "iopub.status.busy": "2022-04-10T16:18:10.529438Z",
     "iopub.status.idle": "2022-04-10T16:18:10.567071Z",
     "shell.execute_reply": "2022-04-10T16:18:10.563780Z",
     "shell.execute_reply.started": "2022-04-10T16:18:10.529653Z"
    },
    "vscode": {
     "languageId": "python"
    }
   },
   "outputs": [
    {
     "data": {
      "application/vnd.jupyter.widget-view+json": {
       "model_id": "e1c1ace00f694dbbabff91fd5ae983cc",
       "version_major": 2,
       "version_minor": 0
      },
      "text/plain": [
       "VBox()"
      ]
     },
     "metadata": {},
     "output_type": "display_data"
    },
    {
     "name": "stderr",
     "output_type": "stream",
     "text": [
      "An error was encountered:\n",
      "Invalid status code '404' from http://localhost:8998/sessions/1 with error payload: {\"msg\":\"Session '1' not found.\"}\n"
     ]
    }
   ],
   "source": [
    "sma10Win = Window.partitionBy(\"Ticker\",\"Date\").orderBy(\"datetime\").rangeBetween(-10,0)\n",
    "df = df.withColumn('sma10',mean(df.LastTradePrice).over(sma10Win))"
   ]
  },
  {
   "cell_type": "code",
   "execution_count": 39,
   "id": "9441e1fa-2475-459b-ae6e-88e668e51be3",
   "metadata": {
    "execution": {
     "iopub.execute_input": "2022-04-10T08:51:54.787347Z",
     "iopub.status.busy": "2022-04-10T08:51:54.787059Z",
     "iopub.status.idle": "2022-04-10T08:51:55.048662Z",
     "shell.execute_reply": "2022-04-10T08:51:55.048068Z",
     "shell.execute_reply.started": "2022-04-10T08:51:54.787316Z"
    },
    "vscode": {
     "languageId": "python"
    }
   },
   "outputs": [
    {
     "data": {
      "application/vnd.jupyter.widget-view+json": {
       "model_id": "a843a3ba6317427fb41b69d16fbbf622",
       "version_major": 2,
       "version_minor": 0
      },
      "text/plain": [
       "VBox()"
      ]
     },
     "metadata": {},
     "output_type": "display_data"
    },
    {
     "data": {
      "application/vnd.jupyter.widget-view+json": {
       "model_id": "",
       "version_major": 2,
       "version_minor": 0
      },
      "text/plain": [
       "FloatProgress(value=0.0, bar_style='info', description='Progress:', layout=Layout(height='25px', width='50%'),…"
      ]
     },
     "metadata": {},
     "output_type": "display_data"
    }
   ],
   "source": [
    "apl = df.filter(df.Ticker ==\"AAPL\")"
   ]
  },
  {
   "cell_type": "code",
   "execution_count": 84,
   "id": "fdfd786e-27f1-4ed6-bbb4-b34901059074",
   "metadata": {
    "execution": {
     "iopub.execute_input": "2022-04-10T12:29:59.933587Z",
     "iopub.status.busy": "2022-04-10T12:29:59.933350Z",
     "iopub.status.idle": "2022-04-10T12:29:59.983366Z",
     "shell.execute_reply": "2022-04-10T12:29:59.982772Z",
     "shell.execute_reply.started": "2022-04-10T12:29:59.933563Z"
    },
    "vscode": {
     "languageId": "python"
    }
   },
   "outputs": [
    {
     "data": {
      "application/vnd.jupyter.widget-view+json": {
       "model_id": "83b28d3edc284490bb4b064ec6a6771a",
       "version_major": 2,
       "version_minor": 0
      },
      "text/plain": [
       "VBox()"
      ]
     },
     "metadata": {},
     "output_type": "display_data"
    },
    {
     "data": {
      "application/vnd.jupyter.widget-view+json": {
       "model_id": "",
       "version_major": 2,
       "version_minor": 0
      },
      "text/plain": [
       "FloatProgress(value=0.0, bar_style='info', description='Progress:', layout=Layout(height='25px', width='50%'),…"
      ]
     },
     "metadata": {},
     "output_type": "display_data"
    }
   ],
   "source": [
    "sample = df.sample(fraction=0.0001)"
   ]
  },
  {
   "cell_type": "code",
   "execution_count": 85,
   "id": "5dd65a94-ed3e-4d7e-9cc3-e568637c9fb2",
   "metadata": {
    "execution": {
     "iopub.execute_input": "2022-04-10T12:30:41.415602Z",
     "iopub.status.busy": "2022-04-10T12:30:41.415355Z",
     "iopub.status.idle": "2022-04-10T12:30:41.478526Z",
     "shell.execute_reply": "2022-04-10T12:30:41.477868Z",
     "shell.execute_reply.started": "2022-04-10T12:30:41.415577Z"
    },
    "vscode": {
     "languageId": "python"
    }
   },
   "outputs": [
    {
     "data": {
      "application/vnd.jupyter.widget-view+json": {
       "model_id": "8912da2609cd404c9c4169802a49f893",
       "version_major": 2,
       "version_minor": 0
      },
      "text/plain": [
       "VBox()"
      ]
     },
     "metadata": {},
     "output_type": "display_data"
    },
    {
     "data": {
      "application/vnd.jupyter.widget-view+json": {
       "model_id": "",
       "version_major": 2,
       "version_minor": 0
      },
      "text/plain": [
       "FloatProgress(value=0.0, bar_style='info', description='Progress:', layout=Layout(height='25px', width='50%'),…"
      ]
     },
     "metadata": {},
     "output_type": "display_data"
    }
   ],
   "source": [
    "features = ['ret1min', 'ret2min', 'ret3min', 'ret4min', 'ret5min', \n",
    "            'ret6min', 'ret7min', 'ret8min', 'ret9min', 'ret10min','cci','mfi']"
   ]
  },
  {
   "cell_type": "markdown",
   "id": "c9239a74-c8e5-452f-ae67-1a5b665c4d66",
   "metadata": {},
   "source": [
    "# Add indicators and features"
   ]
  },
  {
   "cell_type": "code",
   "execution_count": 91,
   "id": "4d1a6f80-fc69-446c-9a0e-623121f3ca3a",
   "metadata": {
    "execution": {
     "iopub.execute_input": "2022-04-10T12:35:38.423577Z",
     "iopub.status.busy": "2022-04-10T12:35:38.423344Z",
     "iopub.status.idle": "2022-04-10T12:35:45.703798Z",
     "shell.execute_reply": "2022-04-10T12:35:45.702977Z",
     "shell.execute_reply.started": "2022-04-10T12:35:38.423554Z"
    },
    "vscode": {
     "languageId": "python"
    }
   },
   "outputs": [
    {
     "data": {
      "application/vnd.jupyter.widget-view+json": {
       "model_id": "cc37763b4e14446fa1c74331d10fff87",
       "version_major": 2,
       "version_minor": 0
      },
      "text/plain": [
       "VBox()"
      ]
     },
     "metadata": {},
     "output_type": "display_data"
    },
    {
     "data": {
      "application/vnd.jupyter.widget-view+json": {
       "model_id": "",
       "version_major": 2,
       "version_minor": 0
      },
      "text/plain": [
       "FloatProgress(value=0.0, bar_style='info', description='Progress:', layout=Layout(height='25px', width='50%'),…"
      ]
     },
     "metadata": {},
     "output_type": "display_data"
    }
   ],
   "source": [
    "# import finratios\n",
    "\n",
    "ratio = spark.read.parquet('s3://securityfundamentalsdata/finratio_processed.parquet')"
   ]
  },
  {
   "cell_type": "code",
   "execution_count": 92,
   "id": "fae0b38a-39ca-4d73-a652-02b6e81b92bf",
   "metadata": {
    "collapsed": true,
    "execution": {
     "iopub.execute_input": "2022-04-10T12:35:52.394122Z",
     "iopub.status.busy": "2022-04-10T12:35:52.393890Z",
     "iopub.status.idle": "2022-04-10T12:35:52.443310Z",
     "shell.execute_reply": "2022-04-10T12:35:52.442699Z",
     "shell.execute_reply.started": "2022-04-10T12:35:52.394098Z"
    },
    "jupyter": {
     "outputs_hidden": true
    },
    "tags": [],
    "vscode": {
     "languageId": "python"
    }
   },
   "outputs": [
    {
     "data": {
      "application/vnd.jupyter.widget-view+json": {
       "model_id": "a19710aaeaef47baaff0c774a8201543",
       "version_major": 2,
       "version_minor": 0
      },
      "text/plain": [
       "VBox()"
      ]
     },
     "metadata": {},
     "output_type": "display_data"
    },
    {
     "data": {
      "application/vnd.jupyter.widget-view+json": {
       "model_id": "",
       "version_major": 2,
       "version_minor": 0
      },
      "text/plain": [
       "FloatProgress(value=0.0, bar_style='info', description='Progress:', layout=Layout(height='25px', width='50%'),…"
      ]
     },
     "metadata": {},
     "output_type": "display_data"
    },
    {
     "name": "stdout",
     "output_type": "stream",
     "text": [
      "root\n",
      " |-- Unnamed:_0: long (nullable = true)\n",
      " |-- gvkey: string (nullable = true)\n",
      " |-- permno: double (nullable = true)\n",
      " |-- adate: timestamp (nullable = true)\n",
      " |-- qdate: timestamp (nullable = true)\n",
      " |-- public_date: timestamp (nullable = true)\n",
      " |-- CAPEI: double (nullable = true)\n",
      " |-- BE: double (nullable = true)\n",
      " |-- bm: double (nullable = true)\n",
      " |-- evm: double (nullable = true)\n",
      " |-- pe_op_basic: double (nullable = true)\n",
      " |-- pe_op_dil: double (nullable = true)\n",
      " |-- pe_exi: double (nullable = true)\n",
      " |-- pe_inc: double (nullable = true)\n",
      " |-- ps: double (nullable = true)\n",
      " |-- pcf: double (nullable = true)\n",
      " |-- dpr: double (nullable = true)\n",
      " |-- npm: double (nullable = true)\n",
      " |-- opmbd: double (nullable = true)\n",
      " |-- opmad: double (nullable = true)\n",
      " |-- gpm: double (nullable = true)\n",
      " |-- ptpm: double (nullable = true)\n",
      " |-- cfm: double (nullable = true)\n",
      " |-- roa: double (nullable = true)\n",
      " |-- roe: double (nullable = true)\n",
      " |-- roce: double (nullable = true)\n",
      " |-- efftax: double (nullable = true)\n",
      " |-- aftret_eq: double (nullable = true)\n",
      " |-- aftret_invcapx: double (nullable = true)\n",
      " |-- aftret_equity: double (nullable = true)\n",
      " |-- pretret_noa: double (nullable = true)\n",
      " |-- pretret_earnat: double (nullable = true)\n",
      " |-- GProf: double (nullable = true)\n",
      " |-- equity_invcap: double (nullable = true)\n",
      " |-- debt_invcap: double (nullable = true)\n",
      " |-- totdebt_invcap: double (nullable = true)\n",
      " |-- capital_ratio: double (nullable = true)\n",
      " |-- int_debt: double (nullable = true)\n",
      " |-- int_totdebt: double (nullable = true)\n",
      " |-- cash_lt: double (nullable = true)\n",
      " |-- invt_act: double (nullable = true)\n",
      " |-- rect_act: double (nullable = true)\n",
      " |-- debt_at: double (nullable = true)\n",
      " |-- debt_ebitda: double (nullable = true)\n",
      " |-- short_debt: double (nullable = true)\n",
      " |-- curr_debt: double (nullable = true)\n",
      " |-- lt_debt: double (nullable = true)\n",
      " |-- profit_lct: double (nullable = true)\n",
      " |-- ocf_lct: double (nullable = true)\n",
      " |-- cash_debt: double (nullable = true)\n",
      " |-- fcf_ocf: double (nullable = true)\n",
      " |-- lt_ppent: double (nullable = true)\n",
      " |-- dltt_be: double (nullable = true)\n",
      " |-- debt_assets: double (nullable = true)\n",
      " |-- debt_capital: double (nullable = true)\n",
      " |-- de_ratio: double (nullable = true)\n",
      " |-- intcov: double (nullable = true)\n",
      " |-- intcov_ratio: double (nullable = true)\n",
      " |-- cash_ratio: double (nullable = true)\n",
      " |-- quick_ratio: double (nullable = true)\n",
      " |-- curr_ratio: double (nullable = true)\n",
      " |-- cash_conversion: double (nullable = true)\n",
      " |-- inv_turn: double (nullable = true)\n",
      " |-- at_turn: double (nullable = true)\n",
      " |-- rect_turn: double (nullable = true)\n",
      " |-- pay_turn: double (nullable = true)\n",
      " |-- sale_invcap: double (nullable = true)\n",
      " |-- sale_equity: double (nullable = true)\n",
      " |-- sale_nwc: double (nullable = true)\n",
      " |-- rd_sale: double (nullable = true)\n",
      " |-- adv_sale: double (nullable = true)\n",
      " |-- staff_sale: double (nullable = true)\n",
      " |-- accrual: double (nullable = true)\n",
      " |-- ret_crsp: double (nullable = true)\n",
      " |-- gsector: string (nullable = true)\n",
      " |-- gicdesc: string (nullable = true)\n",
      " |-- sp500: double (nullable = true)\n",
      " |-- mktcap: double (nullable = true)\n",
      " |-- price: double (nullable = true)\n",
      " |-- ptb: double (nullable = true)\n",
      " |-- PEG_trailing: double (nullable = true)\n",
      " |-- divyield: double (nullable = true)\n",
      " |-- FFI5_desc: string (nullable = true)\n",
      " |-- FFI5: double (nullable = true)\n",
      " |-- FFI10_desc: string (nullable = true)\n",
      " |-- FFI10: double (nullable = true)\n",
      " |-- FFI12_desc: string (nullable = true)\n",
      " |-- FFI12: double (nullable = true)\n",
      " |-- FFI17_desc: string (nullable = true)\n",
      " |-- FFI17: double (nullable = true)\n",
      " |-- FFI30_desc: string (nullable = true)\n",
      " |-- FFI30: double (nullable = true)\n",
      " |-- FFI38_desc: string (nullable = true)\n",
      " |-- FFI38: double (nullable = true)\n",
      " |-- FFI48_desc: string (nullable = true)\n",
      " |-- FFI48: double (nullable = true)\n",
      " |-- FFI49_desc: string (nullable = true)\n",
      " |-- FFI49: double (nullable = true)\n",
      " |-- dt: double (nullable = true)\n",
      " |-- TICKER: string (nullable = true)\n",
      " |-- cusip: string (nullable = true)"
     ]
    }
   ],
   "source": [
    "ratio.printSchema()"
   ]
  },
  {
   "cell_type": "code",
   "execution_count": 93,
   "id": "fc2da9fe-7b53-47fe-884c-dc0bc5e28b91",
   "metadata": {
    "collapsed": true,
    "execution": {
     "iopub.execute_input": "2022-04-10T12:36:26.171608Z",
     "iopub.status.busy": "2022-04-10T12:36:26.171373Z",
     "iopub.status.idle": "2022-04-10T12:36:58.692741Z",
     "shell.execute_reply": "2022-04-10T12:36:58.692137Z",
     "shell.execute_reply.started": "2022-04-10T12:36:26.171584Z"
    },
    "jupyter": {
     "outputs_hidden": true
    },
    "tags": [],
    "vscode": {
     "languageId": "python"
    }
   },
   "outputs": [
    {
     "data": {
      "application/vnd.jupyter.widget-view+json": {
       "model_id": "46afaab5bf594903bff9e083553bd936",
       "version_major": 2,
       "version_minor": 0
      },
      "text/plain": [
       "VBox()"
      ]
     },
     "metadata": {},
     "output_type": "display_data"
    },
    {
     "data": {
      "application/vnd.jupyter.widget-view+json": {
       "model_id": "",
       "version_major": 2,
       "version_minor": 0
      },
      "text/plain": [
       "FloatProgress(value=0.0, bar_style='info', description='Progress:', layout=Layout(height='25px', width='50%'),…"
      ]
     },
     "metadata": {},
     "output_type": "display_data"
    },
    {
     "name": "stdout",
     "output_type": "stream",
     "text": [
      "+----------+------+-------+-------------------+-------------------+-------------------+------------------+------+-------------------+------------------+-----------+---------+------------------+-------------------+-------------------+------------------+---+--------------------+--------------------+--------------------+-------------------+--------------------+--------------------+-------------------+--------------------+-------------------+------------------+--------------------+--------------------+--------------------+-------------------+--------------------+-------------------+-------------------+-------------------+------------------+-------------------+------------------+-------------------+-------------------+------------------+-------------------+------------------+------------------+-------------------+------------------+-------------------+------------------+--------------------+-------------------+------------------+------------------+-------------------+------------------+------------------+------------------+------------------+------------------+-------------------+------------------+------------------+------------------+------------------+------------------+------------------+------------------+------------------+------------------+------------------+-------+--------+----------+--------------------+--------------------+-------+-------+-----+---------+------+------------------+------------+--------+---------+----+----------+-----+----------+-----+----------+-----+----------+-----+----------+-----+----------+-----+----------+-----+------+------+--------+\n",
      "|Unnamed:_0| gvkey| permno|              adate|              qdate|        public_date|             CAPEI|    BE|                 bm|               evm|pe_op_basic|pe_op_dil|            pe_exi|             pe_inc|                 ps|               pcf|dpr|                 npm|               opmbd|               opmad|                gpm|                ptpm|                 cfm|                roa|                 roe|               roce|            efftax|           aftret_eq|      aftret_invcapx|       aftret_equity|        pretret_noa|      pretret_earnat|              GProf|      equity_invcap|        debt_invcap|    totdebt_invcap|      capital_ratio|          int_debt|        int_totdebt|            cash_lt|          invt_act|           rect_act|           debt_at|       debt_ebitda|         short_debt|         curr_debt|            lt_debt|        profit_lct|             ocf_lct|          cash_debt|           fcf_ocf|          lt_ppent|            dltt_be|       debt_assets|      debt_capital|          de_ratio|            intcov|      intcov_ratio|         cash_ratio|       quick_ratio|        curr_ratio|   cash_conversion|          inv_turn|           at_turn|         rect_turn|          pay_turn|       sale_invcap|       sale_equity|          sale_nwc|rd_sale|adv_sale|staff_sale|             accrual|            ret_crsp|gsector|gicdesc|sp500|   mktcap| price|               ptb|PEG_trailing|divyield|FFI5_desc|FFI5|FFI10_desc|FFI10|FFI12_desc|FFI12|FFI17_desc|FFI17|FFI30_desc|FFI30|FFI38_desc|FFI38|FFI48_desc|FFI48|FFI49_desc|FFI49|    dt|TICKER|   cusip|\n",
      "+----------+------+-------+-------------------+-------------------+-------------------+------------------+------+-------------------+------------------+-----------+---------+------------------+-------------------+-------------------+------------------+---+--------------------+--------------------+--------------------+-------------------+--------------------+--------------------+-------------------+--------------------+-------------------+------------------+--------------------+--------------------+--------------------+-------------------+--------------------+-------------------+-------------------+-------------------+------------------+-------------------+------------------+-------------------+-------------------+------------------+-------------------+------------------+------------------+-------------------+------------------+-------------------+------------------+--------------------+-------------------+------------------+------------------+-------------------+------------------+------------------+------------------+------------------+------------------+-------------------+------------------+------------------+------------------+------------------+------------------+------------------+------------------+------------------+------------------+------------------+-------+--------+----------+--------------------+--------------------+-------+-------+-----+---------+------+------------------+------------+--------+---------+----+----------+-----+----------+-----+----------+-----+----------+-----+----------+-----+----------+-----+----------+-----+------+------+--------+\n",
      "|         0|001000|25881.0|1969-12-31 00:00:00|1970-09-30 00:00:00|1971-01-31 00:00:00|10.949958757217487|10.211|  0.427327892864616|1.7614826752618853|       null|     null|12.676056338028172|  13.43283582089552| 0.6494265369353699|-3.254119569658178|0.0| 0.05960210903951733|  0.1327556696619598| 0.10512943945228924|0.32643346170303805| 0.10122486093281984| 0.07670089858793322| 0.2866547323439395|  0.2871225160381787| 0.3409071199375596|0.5151915455746366|  0.2106223588167499|   0.592462311557789|  0.2106223588167499| 0.4831612586037365|  0.2495873015873016| 0.4251184173864586| 0.8760622633571729| 0.1239377366428271|0.7424484644509887|0.12393773664282708|0.3680506685432794| 0.1017410757708394|0.06902329603805199| 0.512417696661661|0.38367794848099795|0.3045416550571189|1.7614826752618853| 0.8330689029918404|0.7556348305496999|0.07745527268796283|0.3550786838340487|  -0.525250357653791|-0.3968974650018917|              null| 2.190245057416835|0.14147137917787167|0.6443647255502926|0.5564918987011859|1.8120470127326151| 4.508604206500956| 7.516252390057361|0.09134477825464947| 0.603862660944206|1.2384835479256078| 70.63393548830251|5.2198963730569945|2.1592654616850497|10.278174821330404|13.858005413283365|3.0958350862431634|3.5338071456012288| 11.21535692861428|    0.0|     0.0|       0.0| -0.5299994225327712|-0.10000000149011612|   null|   null|  0.0|   23.895|   9.0| 2.340123396337283|        null|    null|    MANUF| 2.0|     MANUF|  3.0|     MANUF|  3.0|     DURBL|  5.0|      null| null|     RUBBR| 16.0|     RUBBR| 15.0|     RUBBR| 15.0|3925.0|  null|    null|\n",
      "|         1|001000|25881.0|1970-12-31 00:00:00|1970-12-31 00:00:00|1971-02-28 00:00:00| 35.40742627667225|10.544|0.43107113654946855| 7.009840326773117|       null|     null|19.866071428571427|  65.44117647058823| 0.6515247601191132|24.410640495867785|0.0| 0.04142494761222013| 0.11880445571853974| 0.08898202271975295|0.32659093415683244| 0.07985000551450315| 0.07124738061100695| 0.1732891477108201| 0.18096844133943624| 0.1885355081438553|0.4812154696132597|  0.1809771610291992|  0.2342837512882171| 0.18096844133943624| 0.3599696604649088| 0.14410230763735085| 0.4426307922272047| 0.9199895297094496|0.08001047029055057|1.1600209405811008|0.08001047029055057|0.7234042553191489| 0.0771359862062707|0.07247009517157077|0.4776825441431315| 0.4174511732471548|0.3974588938714499| 2.468436687708875| 0.9310267017675818|0.8554527198114031|0.04003317907971711|0.2748660372544017|0.061750446542485286|0.05282458744433769|-1.286776859504134|2.5806669671022986|0.08696889226100153|0.6847832585949177|0.6479818382132007|  2.17242033383915| 3.209411764705882| 4.745882352941177|0.08471548864506252|0.5691247767287573|1.0896146976269456|115.76576814362663|3.2016150175659384|1.4586081528908337| 5.828619182309077| 6.257931440919359|3.9555885175813623| 4.299601669195751| 25.81719817767653|    0.0|     0.0|       0.0|-0.02149222997973041|  0.2361111044883728|   null|   null|  0.0|29.536875|11.125|2.8012969461305004|        null|    null|    MANUF| 2.0|     MANUF|  3.0|     MANUF|  3.0|     DURBL|  5.0|      null| null|     RUBBR| 16.0|     RUBBR| 15.0|     RUBBR| 15.0|4017.0|    AE|00003210|\n",
      "|         2|001000|25881.0|1970-12-31 00:00:00|1970-12-31 00:00:00|1971-03-31 00:00:00| 31.03122752337569|10.544|0.43107113654946855| 7.009840326773117|       null|     null|17.410714285714285| 57.352941176470594| 0.5709992279695599|21.393595041322328|0.0| 0.04142494761222013| 0.11880445571853974| 0.08898202271975295|0.32659093415683244| 0.07985000551450315| 0.07124738061100695| 0.1732891477108201| 0.18096844133943624| 0.1885355081438553|0.4812154696132597|  0.1809771610291992|  0.2342837512882171| 0.18096844133943624| 0.3599696604649088| 0.14410230763735085| 0.4426307922272047| 0.9199895297094496|0.08001047029055057|1.1600209405811008|0.08001047029055057|0.7234042553191489| 0.0771359862062707|0.07247009517157077|0.4776825441431315| 0.4174511732471548|0.3974588938714499| 2.468436687708875| 0.9310267017675818|0.8554527198114031|0.04003317907971711|0.2748660372544017|0.061750446542485286|0.05282458744433769|-1.286776859504134|2.5806669671022986|0.08696889226100153|0.6847832585949177|0.6479818382132007|  2.17242033383915| 3.209411764705882| 4.745882352941177|0.08471548864506252|0.5691247767287573|1.0896146976269456|115.76576814362663|3.2016150175659384|1.4586081528908337| 5.828619182309077| 6.257931440919359|3.9555885175813623| 4.299601669195751| 25.81719817767653|    0.0|     0.0|       0.0|-0.02149222997973041|-0.12359550595283507|   null|   null|  0.0| 25.88625|  9.75|2.4550692336874045|        null|    null|    MANUF| 2.0|     MANUF|  3.0|     MANUF|  3.0|     DURBL|  5.0|      null| null|     RUBBR| 16.0|     RUBBR| 15.0|     RUBBR| 15.0|4017.0|    AE|00003210|\n",
      "|         3|001000|25881.0|1970-12-31 00:00:00|1970-12-31 00:00:00|1971-04-30 00:00:00|  34.2139175257732|10.544|0.43107113654946855| 7.009840326773117|       null|     null| 19.19642857142857| 63.235294117647044| 0.6295632513510533| 23.58780991735539|0.0| 0.04142494761222013| 0.11880445571853974| 0.08898202271975295|0.32659093415683244| 0.07985000551450315| 0.07124738061100695| 0.1732891477108201| 0.18096844133943624| 0.1885355081438553|0.4812154696132597|  0.1809771610291992|  0.2342837512882171| 0.18096844133943624| 0.3599696604649088| 0.14410230763735085| 0.4426307922272047| 0.9199895297094496|0.08001047029055057|1.1600209405811008|0.08001047029055057|0.7234042553191489| 0.0771359862062707|0.07247009517157077|0.4776825441431315| 0.4174511732471548|0.3974588938714499| 2.468436687708875| 0.9310267017675818|0.8554527198114031|0.04003317907971711|0.2748660372544017|0.061750446542485286|0.05282458744433769|-1.286776859504134|2.5806669671022986|0.08696889226100153|0.6847832585949177|0.6479818382132007|  2.17242033383915| 3.209411764705882| 4.745882352941177|0.08471548864506252|0.5691247767287573|1.0896146976269456|115.76576814362663|3.2016150175659384|1.4586081528908337| 5.828619182309077| 6.257931440919359|3.9555885175813623| 4.299601669195751| 25.81719817767653|    0.0|     0.0|       0.0|-0.02149222997973041| 0.10256410390138626|   null|   null|  0.0| 28.54125| 10.75|2.7068712063732927|        null|    null|    MANUF| 2.0|     MANUF|  3.0|     MANUF|  3.0|     DURBL|  5.0|      null| null|     RUBBR| 16.0|     RUBBR| 15.0|     RUBBR| 15.0|4017.0|    AE|00003210|\n",
      "|         4|001000|25881.0|1970-12-31 00:00:00|1971-03-31 00:00:00|1971-05-31 00:00:00|11.306738026380756|10.544|0.43107113654946855| 7.009840326773117|       null|     null|20.535714285714285| 50.735294117647065| 0.5794962799878529| 18.92510330578514|0.0|  0.0364662415224213| 0.11880445571853974| 0.08898202271975295|0.32659093415683244| 0.07985000551450315| 0.07124738061100695| 0.1732891477108201| 0.13666540212443096| 0.1885355081438553|0.4812154696132597| 0.13666540212443096| 0.08297705261321002| 0.13666540212443096| 0.3599696604649088| 0.14410230763735085| 0.4426307922272047| 0.9199895297094496|0.08001047029055057|1.1600209405811008|0.08001047029055057|0.7234042553191489| 0.0771359862062707|0.07247009517157077|0.4776825441431315| 0.4174511732471548|0.3974588938714499| 2.468436687708875| 0.9310267017675818|0.8554527198114031|0.04003317907971711|0.2748660372544017|0.061750446542485286|0.05282458744433769|-1.286776859504134|2.5806669671022986|0.08696889226100153|0.6847832585949177|0.6479818382132007|  2.17242033383915| 3.209411764705882| 4.745882352941177|0.08471548864506252|0.5691247767287573|1.0896146976269456|115.76576814362663|3.2016150175659384|1.4586081528908337| 5.828619182309077| 6.257931440919359| 3.447866678300324| 3.747723823975721| 25.81719817767653|    0.0|     0.0|       0.0|-0.02149222997973041|  -0.197674423456192|   null|   null|  0.0|22.899375| 8.625|2.1717920144157814|        null|    null|    MANUF| 2.0|     MANUF|  3.0|     MANUF|  3.0|     DURBL|  5.0|      null| null|     RUBBR| 16.0|     RUBBR| 15.0|     RUBBR| 15.0|4107.0|    AE|00003210|\n",
      "|         5|001000|25881.0|1970-12-31 00:00:00|1971-03-31 00:00:00|1971-06-30 00:00:00|10.815140720885939|10.544|0.43107113654946855| 7.009840326773117|       null|     null|19.642857142857142| 48.529411764705884| 0.5543007895535984| 18.10227272727274|0.0|  0.0364662415224213| 0.11880445571853974| 0.08898202271975295|0.32659093415683244| 0.07985000551450315| 0.07124738061100695| 0.1732891477108201| 0.13666540212443096| 0.1885355081438553|0.4812154696132597| 0.13666540212443096| 0.08297705261321002| 0.13666540212443096| 0.3599696604649088| 0.14410230763735085| 0.4426307922272047| 0.9199895297094496|0.08001047029055057|1.1600209405811008|0.08001047029055057|0.7234042553191489| 0.0771359862062707|0.07247009517157077|0.4776825441431315| 0.4174511732471548|0.3974588938714499| 2.468436687708875| 0.9310267017675818|0.8554527198114031|0.04003317907971711|0.2748660372544017|0.061750446542485286|0.05282458744433769|-1.286776859504134|2.5806669671022986|0.08696889226100153|0.6847832585949177|0.6479818382132007|  2.17242033383915| 3.209411764705882| 4.745882352941177|0.08471548864506252|0.5691247767287573|1.0896146976269456|115.76576814362663|3.2016150175659384|1.4586081528908337| 5.828619182309077| 6.257931440919359| 3.447866678300324| 3.747723823975721| 25.81719817767653|    0.0|     0.0|       0.0|-0.02149222997973041|-0.04347826167941093|   null|   null|  0.0| 21.90375|  8.25|2.0773662746585733|        null|    null|    MANUF| 2.0|     MANUF|  3.0|     MANUF|  3.0|     DURBL|  5.0|      null| null|     RUBBR| 16.0|     RUBBR| 15.0|     RUBBR| 15.0|4107.0|    AE|00003210|\n",
      "|         6|001000|25881.0|1970-12-31 00:00:00|1971-03-31 00:00:00|1971-07-31 00:00:00|  8.02942265641532|10.544|0.43107113654946855| 7.009840326773117|       null|     null|14.583333333333332| 36.029411764705884|0.41152634375948977|13.439566115702489|0.0|  0.0364662415224213| 0.11880445571853974| 0.08898202271975295|0.32659093415683244| 0.07985000551450315| 0.07124738061100695| 0.1732891477108201| 0.13666540212443096| 0.1885355081438553|0.4812154696132597| 0.13666540212443096| 0.08297705261321002| 0.13666540212443096| 0.3599696604649088| 0.14410230763735085| 0.4426307922272047| 0.9199895297094496|0.08001047029055057|1.1600209405811008|0.08001047029055057|0.7234042553191489| 0.0771359862062707|0.07247009517157077|0.4776825441431315| 0.4174511732471548|0.3974588938714499| 2.468436687708875| 0.9310267017675818|0.8554527198114031|0.04003317907971711|0.2748660372544017|0.061750446542485286|0.05282458744433769|-1.286776859504134|2.5806669671022986|0.08696889226100153|0.6847832585949177|0.6479818382132007|  2.17242033383915| 3.209411764705882| 4.745882352941177|0.08471548864506252|0.5691247767287573|1.0896146976269456|115.76576814362663|3.2016150175659384|1.4586081528908337| 5.828619182309077| 6.257931440919359| 3.447866678300324| 3.747723823975721| 25.81719817767653|    0.0|     0.0|       0.0|-0.02149222997973041| -0.2575757503509521|   null|   null|  0.0|16.261875| 6.125|1.5422870827010622|        null|    null|    MANUF| 2.0|     MANUF|  3.0|     MANUF|  3.0|     DURBL|  5.0|      null| null|     RUBBR| 16.0|     RUBBR| 15.0|     RUBBR| 15.0|4107.0|    AE|00003210|\n",
      "|         7|001000|25881.0|1970-12-31 00:00:00|1971-06-30 00:00:00|1971-08-31 00:00:00| 7.369151467089613|10.544|0.43107113654946855| 7.009840326773117|       null|     null|19.444444444444443| 30.882352941176467|0.35301380270988986|11.519628099173564|0.0| 0.02418639989869571| 0.11880445571853974| 0.08898202271975295|0.32659093415683244| 0.07985000551450315| 0.07124738061100695| 0.1732891477108201| 0.09057283763277693| 0.1885355081438553|0.4812154696132597| 0.09057283763277693| 0.08297705261321002| 0.09057283763277693| 0.3599696604649088| 0.14410230763735085| 0.4426307922272047| 0.9199895297094496|0.08001047029055057|1.1600209405811008|0.08001047029055057|0.7234042553191489| 0.0771359862062707|0.07247009517157077|0.4776825441431315| 0.4174511732471548|0.3974588938714499| 2.468436687708875| 0.9310267017675818|0.8554527198114031|0.04003317907971711|0.2748660372544017|0.061750446542485286|0.05282458744433769|-1.286776859504134|2.5806669671022986|0.08696889226100153|0.6847832585949177|0.6479818382132007|  2.17242033383915| 3.209411764705882| 4.745882352941177|0.08471548864506252|0.5691247767287573|1.0896146976269456|115.76576814362663|3.2016150175659384|1.4586081528908337| 5.828619182309077| 6.257931440919359|3.4451618532414274|3.7447837632776935| 25.81719817767653|    0.0|     0.0|       0.0|-0.02149222997973041| -0.1428571492433548|   null|   null|  0.0| 13.93875|  5.25|1.3219603566009104|        null|    null|    MANUF| 2.0|     MANUF|  3.0|     MANUF|  3.0|     DURBL|  5.0|      null| null|     RUBBR| 16.0|     RUBBR| 15.0|     RUBBR| 15.0|4198.0|    AE|00003210|\n",
      "|         8|001000|25881.0|1970-12-31 00:00:00|1971-06-30 00:00:00|1971-09-30 00:00:00| 6.491871530531324|10.544|0.43107113654946855| 7.009840326773117|       null|     null| 17.12962962962963|  27.20588235294117| 0.3109883500063315|  10.1482438016529|0.0| 0.02418639989869571| 0.11880445571853974| 0.08898202271975295|0.32659093415683244| 0.07985000551450315| 0.07124738061100695| 0.1732891477108201| 0.09057283763277693| 0.1885355081438553|0.4812154696132597| 0.09057283763277693| 0.08297705261321002| 0.09057283763277693| 0.3599696604649088| 0.14410230763735085| 0.4426307922272047| 0.9199895297094496|0.08001047029055057|1.1600209405811008|0.08001047029055057|0.7234042553191489| 0.0771359862062707|0.07247009517157077|0.4776825441431315| 0.4174511732471548|0.3974588938714499| 2.468436687708875| 0.9310267017675818|0.8554527198114031|0.04003317907971711|0.2748660372544017|0.061750446542485286|0.05282458744433769|-1.286776859504134|2.5806669671022986|0.08696889226100153|0.6847832585949177|0.6479818382132007|  2.17242033383915| 3.209411764705882| 4.745882352941177|0.08471548864506252|0.5691247767287573|1.0896146976269456|115.76576814362663|3.2016150175659384|1.4586081528908337| 5.828619182309077| 6.257931440919359|3.4451618532414274|3.7447837632776935| 25.81719817767653|    0.0|     0.0|       0.0|-0.02149222997973041| -0.1190476194024086|   null|   null|  0.0|12.279375| 4.625|1.1645841236722303|        null|    null|    MANUF| 2.0|     MANUF|  3.0|     MANUF|  3.0|     DURBL|  5.0|      null| null|     RUBBR| 16.0|     RUBBR| 15.0|     RUBBR| 15.0|4198.0|    AE|00003210|\n",
      "|         9|001000|25881.0|1970-12-31 00:00:00|1971-06-30 00:00:00|1971-10-31 00:00:00|  6.84278350515464|10.544|0.43107113654946855| 7.009840326773117|       null|     null|18.055555555555557| 28.676470588235286| 0.3277985310877549|10.696797520661166|0.0| 0.02418639989869571| 0.11880445571853974| 0.08898202271975295|0.32659093415683244| 0.07985000551450315| 0.07124738061100695| 0.1732891477108201| 0.09057283763277693| 0.1885355081438553|0.4812154696132597| 0.09057283763277693| 0.08297705261321002| 0.09057283763277693| 0.3599696604649088| 0.14410230763735085| 0.4426307922272047| 0.9199895297094496|0.08001047029055057|1.1600209405811008|0.08001047029055057|0.7234042553191489| 0.0771359862062707|0.07247009517157077|0.4776825441431315| 0.4174511732471548|0.3974588938714499| 2.468436687708875| 0.9310267017675818|0.8554527198114031|0.04003317907971711|0.2748660372544017|0.061750446542485286|0.05282458744433769|-1.286776859504134|2.5806669671022986|0.08696889226100153|0.6847832585949177|0.6479818382132007|  2.17242033383915| 3.209411764705882| 4.745882352941177|0.08471548864506252|0.5691247767287573|1.0896146976269456|115.76576814362663|3.2016150175659384|1.4586081528908337| 5.828619182309077| 6.257931440919359|3.4451618532414274|3.7447837632776935| 25.81719817767653|    0.0|     0.0|       0.0|-0.02149222997973041|0.054054055362939835|   null|   null|  0.0|12.943125| 4.875|1.2275346168437025|        null|    null|    MANUF| 2.0|     MANUF|  3.0|     MANUF|  3.0|     DURBL|  5.0|      null| null|     RUBBR| 16.0|     RUBBR| 15.0|     RUBBR| 15.0|4198.0|    AE|00003210|\n",
      "|        10|001000|25881.0|1970-12-31 00:00:00|1971-09-30 00:00:00|1971-11-30 00:00:00|6.3018269292244735|10.544|0.43107113654946855| 7.009840326773117|       null|     null| 7.366071428571428| 24.264705882352942| 0.2979129263913824|  9.05113636363637|0.0|0.013845819052282249| 0.11880445571853974| 0.08898202271975295|0.32659093415683244| 0.11084815842446004| 0.07124738061100695| 0.1732891477108201| 0.04827389984825493| 0.1885355081438553|0.4812154696132597| 0.04827389984825493| 0.08297705261321002| 0.04827389984825493| 0.3599696604649088| 0.14410230763735085| 0.4426307922272047| 0.9199895297094496|0.08001047029055057|1.1600209405811008|0.08001047029055057|0.7234042553191489| 0.0771359862062707|0.07247009517157077|0.4776825441431315| 0.4174511732471548|0.3974588938714499| 2.468436687708875| 0.9310267017675818|0.8554527198114031|0.04003317907971711|0.2748660372544017|0.061750446542485286|0.05282458744433769|-1.286776859504134|2.5806669671022986|0.08696889226100153|0.6847832585949177|0.6479818382132007|  2.17242033383915| 3.209411764705882| 4.745882352941177|0.08471548864506252|0.5691247767287573|1.0896146976269456|115.76576814362663|3.2016150175659384|1.4586081528908337| 5.828619182309077| 6.257931440919359|3.2075735101649068|3.4865326251896813| 25.81719817767653|    0.0|     0.0|       0.0|-0.02149222997973041| -0.1538461595773697|   null|   null|  0.0|10.951875| 4.125|1.0386831373292866|        null|    null|    MANUF| 2.0|     MANUF|  3.0|     MANUF|  3.0|     DURBL|  5.0|      null| null|     RUBBR| 16.0|     RUBBR| 15.0|     RUBBR| 15.0|4290.0|    AE|00003210|\n",
      "|        11|001000|25881.0|1970-12-31 00:00:00|1971-09-30 00:00:00|1971-12-31 00:00:00| 8.784364810434116|10.544|0.43107113654946855| 7.009840326773117|       null|     null|10.267857142857142| 33.823529411764696| 0.4152725640607148|12.616735537190092|0.0|0.013845819052282249| 0.11880445571853974| 0.08898202271975295|0.32659093415683244| 0.11084815842446004| 0.07124738061100695| 0.1732891477108201| 0.04827389984825493| 0.1885355081438553|0.4812154696132597| 0.04827389984825493| 0.08297705261321002| 0.04827389984825493| 0.3599696604649088| 0.14410230763735085| 0.4426307922272047| 0.9199895297094496|0.08001047029055057|1.1600209405811008|0.08001047029055057|0.7234042553191489| 0.0771359862062707|0.07247009517157077|0.4776825441431315| 0.4174511732471548|0.3974588938714499| 2.468436687708875| 0.9310267017675818|0.8554527198114031|0.04003317907971711|0.2748660372544017|0.061750446542485286|0.05282458744433769|-1.286776859504134|2.5806669671022986|0.08696889226100153|0.6847832585949177|0.6479818382132007|  2.17242033383915| 3.209411764705882| 4.745882352941177|0.08471548864506252|0.5691247767287573|1.0896146976269456|115.76576814362663|3.2016150175659384|1.4586081528908337| 5.828619182309077| 6.257931440919359|3.2075735101649068|3.4865326251896813| 25.81719817767653|    0.0|     0.0|       0.0|-0.02149222997973041|  0.3939394056797028|   null|   null|  0.0| 15.26625|  5.75|1.4478613429438545|        null|    null|    MANUF| 2.0|     MANUF|  3.0|     MANUF|  3.0|     DURBL|  5.0|      null| null|     RUBBR| 16.0|     RUBBR| 15.0|     RUBBR| 15.0|4290.0|    AE|00003210|\n",
      "|        12|001000|25881.0|1970-12-31 00:00:00|1971-09-30 00:00:00|1972-01-31 00:00:00| 8.784364810434116|10.544|0.43107113654946855| 7.009840326773117|       null|     null|10.267857142857142| 33.823529411764696| 0.4152725640607148|12.616735537190092|0.0|0.013845819052282249| 0.11880445571853974| 0.08898202271975295|0.32659093415683244| 0.11084815842446004| 0.07124738061100695| 0.1732891477108201| 0.04827389984825493| 0.1885355081438553|0.4812154696132597| 0.04827389984825493| 0.08297705261321002| 0.04827389984825493| 0.3599696604649088| 0.14410230763735085| 0.4426307922272047| 0.9199895297094496|0.08001047029055057|1.1600209405811008|0.08001047029055057|0.7234042553191489| 0.0771359862062707|0.07247009517157077|0.4776825441431315| 0.4174511732471548|0.3974588938714499| 2.468436687708875| 0.9310267017675818|0.8554527198114031|0.04003317907971711|0.2748660372544017|0.061750446542485286|0.05282458744433769|-1.286776859504134|2.5806669671022986|0.08696889226100153|0.6847832585949177|0.6479818382132007|  2.17242033383915| 3.209411764705882| 4.745882352941177|0.08471548864506252|0.5691247767287573|1.0896146976269456|115.76576814362663|3.2016150175659384|1.4586081528908337| 5.828619182309077| 6.257931440919359|3.2075735101649068|3.4865326251896813| 25.81719817767653|    0.0|     0.0|       0.0|-0.02149222997973041|                 0.0|   null|   null|  0.0| 15.26625|  5.75|1.4478613429438545|        null|    null|    MANUF| 2.0|     MANUF|  3.0|     MANUF|  3.0|     DURBL|  5.0|      null| null|     RUBBR| 16.0|     RUBBR| 15.0|     RUBBR| 15.0|4290.0|    AE|00003210|\n",
      "|        13|001000|25881.0|1971-12-31 00:00:00|1971-12-31 00:00:00|1972-02-29 00:00:00|16.965372444011688| 8.382| 0.4867242505625317|12.100417993630574|       null|     null|            131.25| -8.076923076923077| 0.2963610656347671| 5.085279095220717|0.0|0.002934110092913486|0.053409308357961434|0.023664235749367463|0.27767737545978355|0.002934110092913486|0.037292964514277216|0.08002548582351067|0.014583113177639224|0.04903623747108713|               0.0|0.014583883751651256| 0.10950178867463572|0.014583113177639224|0.07558060573135951|0.038676720992459265|0.44527787248550976|0.44818181818181824| 0.5517647058823529|0.7045454545454546| 0.5517942135943099|  0.19884290164664|0.08439743105402342|0.12206415886958183|0.4158370581064608| 0.4265542462413653|0.4491987725877941| 5.244824840764331|0.21685009487666035|0.4061008210807714|0.49255298835211003|0.2952862348654049| 0.32220524274127216|0.13084781363375989|0.3538854432688805|  2.74224374918183|  1.230971128608924|0.7142175247187181|0.6761842206939186|2.4994630712325496|1.1235452103849597|0.9964189794091316|0.30057599623839193|1.3519454566827318|2.3143293758081582|109.85630262262276|3.6955292070053294|1.4983434214718063| 5.433885968459362|   6.1227969348659|2.5151336898395718| 5.611190646623718| 4.206511045523657|    0.0|     0.0|       0.0| 0.08292449824784971|-0.08695652335882187|   null|   null|  0.0| 13.93875|  5.25|1.6629384395132427|        null|    null|    MANUF| 2.0|     MANUF|  3.0|     MANUF|  3.0|     DURBL|  5.0|      null| null|     RUBBR| 16.0|     RUBBR| 15.0|     RUBBR| 15.0|4382.0|    AE|00003210|\n",
      "|        14|001000|25881.0|1971-12-31 00:00:00|1971-12-31 00:00:00|1972-03-31 00:00:00|18.177184761441094| 8.382| 0.4867242505625317|12.100417993630574|       null|     null|           140.625| -8.653846153846152| 0.3175297131801076| 5.448513316307912|0.0|0.002934110092913486|0.053409308357961434|0.023664235749367463|0.27767737545978355|0.002934110092913486|0.037292964514277216|0.08002548582351067|0.014583113177639224|0.04903623747108713|               0.0|0.014583883751651256| 0.10950178867463572|0.014583113177639224|0.07558060573135951|0.038676720992459265|0.44527787248550976|0.44818181818181824| 0.5517647058823529|0.7045454545454546| 0.5517942135943099|  0.19884290164664|0.08439743105402342|0.12206415886958183|0.4158370581064608| 0.4265542462413653|0.4491987725877941| 5.244824840764331|0.21685009487666035|0.4061008210807714|0.49255298835211003|0.2952862348654049| 0.32220524274127216|0.13084781363375989|0.3538854432688805|  2.74224374918183|  1.230971128608924|0.7142175247187181|0.6761842206939186|2.4994630712325496|1.1235452103849597|0.9964189794091316|0.30057599623839193|1.3519454566827318|2.3143293758081582|109.85630262262276|3.6955292070053294|1.4983434214718063| 5.433885968459362|   6.1227969348659|2.5151336898395718| 5.611190646623718| 4.206511045523657|    0.0|     0.0|       0.0| 0.08292449824784971|  0.0714285746216774|   null|   null|  0.0|14.934375| 5.625|1.7817197566213314|        null|    null|    MANUF| 2.0|     MANUF|  3.0|     MANUF|  3.0|     DURBL|  5.0|      null| null|     RUBBR| 16.0|     RUBBR| 15.0|     RUBBR| 15.0|4382.0|    AE|00003210|\n",
      "|        15|001000|25881.0|1971-12-31 00:00:00|1971-12-31 00:00:00|1972-04-30 00:00:00| 23.02443403115872| 8.382| 0.4867242505625317|12.100417993630574|       null|     null|           178.125|-10.961538461538463| 0.4022043033614696| 6.901450200656688|0.0|0.002934110092913486|0.053409308357961434|0.023664235749367463|0.27767737545978355|0.002934110092913486|0.037292964514277216|0.08002548582351067|0.014583113177639224|0.04903623747108713|               0.0|0.014583883751651256| 0.10950178867463572|0.014583113177639224|0.07558060573135951|0.038676720992459265|0.44527787248550976|0.44818181818181824| 0.5517647058823529|0.7045454545454546| 0.5517942135943099|  0.19884290164664|0.08439743105402342|0.12206415886958183|0.4158370581064608| 0.4265542462413653|0.4491987725877941| 5.244824840764331|0.21685009487666035|0.4061008210807714|0.49255298835211003|0.2952862348654049| 0.32220524274127216|0.13084781363375989|0.3538854432688805|  2.74224374918183|  1.230971128608924|0.7142175247187181|0.6761842206939186|2.4994630712325496|1.1235452103849597|0.9964189794091316|0.30057599623839193|1.3519454566827318|2.3143293758081582|109.85630262262276|3.6955292070053294|1.4983434214718063| 5.433885968459362|   6.1227969348659|2.5151336898395718| 5.611190646623718| 4.206511045523657|    0.0|     0.0|       0.0| 0.08292449824784971|  0.2666666805744171|   null|   null|  0.0|18.916875| 7.125| 2.256845025053687|        null|    null|    MANUF| 2.0|     MANUF|  3.0|     MANUF|  3.0|     DURBL|  5.0|      null| null|     RUBBR| 16.0|     RUBBR| 15.0|     RUBBR| 15.0|4382.0|    AE|00003210|\n",
      "|        16|001000|25881.0|1971-12-31 00:00:00|1972-03-31 00:00:00|1972-05-31 00:00:00|12.815998211565214| 9.176|  0.547228745014723|12.100417993630574|       null|     null|134.82142857142856|-10.192307692307693| 0.5183560251083017| 6.417137905873762|0.0|-0.00657177378952642|0.053409308357961434|0.023664235749367463|0.27767737545978355|-0.00356585035216...|0.037292964514277216|0.08002548582351067|-0.02660780336475361|0.04903623747108713|               0.0|-0.02660780336475361|0.003636558104711479|-0.02660780336475361|0.07558060573135951|0.038676720992459265|0.44527787248550976| 0.4624644399957856| 0.5375355600042145|0.6734274575914024| 0.5375355600042145|  0.19884290164664|0.08439743105402342|0.12205833213995895|0.4158370581064608| 0.4265542462413653|0.4358336174565292| 5.244824840764331|0.20179144175858565|0.4060814358680605| 0.4870638216621318|0.2952862348654049| 0.32220524274127216|0.13084781363375989|0.3538854432688805| 2.742374656368635| 1.1623284160164036|0.7142516195022163|0.6761842206939186| 2.386398587457994|1.1235452103849597|0.9964189794091316|0.30057599623839193|1.3519454566827318|2.3143293758081582|109.85630262262276|3.6955292070053294|1.1569382884418684| 4.040604905929984|   6.1227969348659| 1.787640922979665|  3.86546676539272|3.0348806010195872|    0.0|     0.0|       0.0| 0.08292449824784971|-0.07017543911933899|   null|   null|  0.0|17.589375| 6.625|   1.9168891673932|        null|    null|    MANUF| 2.0|     MANUF|  3.0|     MANUF|  3.0|     DURBL|  5.0|      null| null|     RUBBR| 16.0|     RUBBR| 15.0|     RUBBR| 15.0|4473.0|    AE|00003210|\n",
      "|        17|001000|25881.0|1971-12-31 00:00:00|1972-03-31 00:00:00|1972-06-30 00:00:00| 11.60694177651189| 9.176|  0.547228745014723|12.100417993630574|       null|     null|  119.047528454726|  -9.23076923076923| 0.4694545133056317|5.8117475373951075|0.0|-0.00657177378952642|0.053409308357961434|0.023664235749367463|0.27767737545978355|-0.00356585035216...|0.037292964514277216|0.08002548582351067|-0.02660780336475361|0.04903623747108713|               0.0|-0.02660780336475361|0.003636558104711479|-0.02660780336475361|0.07558060573135951|0.038676720992459265|0.44527787248550976| 0.4624644399957856| 0.5375355600042145|0.6734274575914024| 0.5375355600042145|  0.19884290164664|0.08439743105402342|0.12205833213995895|0.4158370581064608| 0.4265542462413653|0.4358336174565292| 5.244824840764331|0.20179144175858565|0.4060814358680605| 0.4870638216621318|0.2952862348654049| 0.32220524274127216|0.13084781363375989|0.3538854432688805| 2.742374656368635| 1.1623284160164036|0.7142516195022163|0.6761842206939186| 2.386398587457994|1.1235452103849597|0.9964189794091316|0.30057599623839193|1.3519454566827318|2.3143293758081582|109.85630262262276|3.6955292070053294|1.1569382884418684| 4.040604905929984|   6.1227969348659| 1.787640922979665|  3.86546676539272|3.0348806010195872|    0.0|     0.0|       0.0| 0.08292449824784971|-0.09433962404727936|   null|   null|  0.0|    15.93|   6.0| 1.736050566695728|        null|    null|    MANUF| 2.0|     MANUF|  3.0|     MANUF|  3.0|     DURBL|  5.0|      null| null|     RUBBR| 16.0|     RUBBR| 15.0|     RUBBR| 15.0|4473.0|    AE|00003210|\n",
      "|        18|001000|25881.0|1971-12-31 00:00:00|1972-03-31 00:00:00|1972-07-31 00:00:00| 11.60694177651189| 9.176|  0.547228745014723|12.100417993630574|       null|     null|121.87496424999998|  -9.23076923076923| 0.4694545133056317|5.8117475373951075|0.0|-0.00657177378952642|0.053409308357961434|0.023664235749367463|0.27767737545978355|-0.00356585035216...|0.037292964514277216|0.08002548582351067|-0.02660780336475361|0.04903623747108713|               0.0|-0.02660780336475361|0.003636558104711479|-0.02660780336475361|0.07558060573135951|0.038676720992459265|0.44527787248550976| 0.4624644399957856| 0.5375355600042145|0.6734274575914024| 0.5375355600042145|  0.19884290164664|0.08439743105402342|0.12205833213995895|0.4158370581064608| 0.4265542462413653|0.4358336174565292| 5.244824840764331|0.20179144175858565|0.4060814358680605| 0.4870638216621318|0.2952862348654049| 0.32220524274127216|0.13084781363375989|0.3538854432688805| 2.742374656368635| 1.1623284160164036|0.7142516195022163|0.6761842206939186| 2.386398587457994|1.1235452103849597|0.9964189794091316|0.30057599623839193|1.3519454566827318|2.3143293758081582|109.85630262262276|3.6955292070053294|1.1569382884418684| 4.040604905929984|   6.1227969348659| 1.787640922979665|  3.86546676539272|3.0348806010195872|    0.0|     0.0|       0.0| 0.08292449824784971|                 0.0|   null|   null|  0.0|    15.93|   6.0| 1.736050566695728|        null|    null|    MANUF| 2.0|     MANUF|  3.0|     MANUF|  3.0|     DURBL|  5.0|      null| null|     RUBBR| 16.0|     RUBBR| 15.0|     RUBBR| 15.0|4473.0|    AE|00003210|\n",
      "|        19|001000|25881.0|1971-12-31 00:00:00|1972-06-30 00:00:00|1972-08-31 00:00:00|12.368012422360248| 6.646|0.37471808750563823|12.100417993630574|       null|     null|             125.0| -9.038461538461537| 0.4586874375110275|5.6906694636993755|0.0|0.001088043286478...|0.053409308357961434|0.023664235749367463|0.27767737545978355|0.012056695877198141|0.037292964514277216|0.08002548582351067|0.004214843082531187|0.04903623747108713|               0.0|0.004214843082531187|0.003582341165314...|0.004214843082531187|0.07558060573135951|0.038676720992459265|0.44527787248550976| 0.4579304864435321| 0.5420695135564679|0.6463020074546385| 0.5420695135564679|  0.19884290164664|0.08439743105402342|0.12205833213995895|0.4158370581064608| 0.4265542462413653|0.3882145698374816| 5.244824840764331|0.16127521297461864|0.4060814358680605| 0.4558690152274571|0.2952862348654049| 0.32220524274127216|0.13084781363375989|0.3538854432688805| 2.742374656368635| 1.1837375531958847|0.7142516195022163|0.6761842206939186| 2.596661570879644|1.1235452103849597|0.9964189794091316|0.30057599623839193|1.3519454566827318|2.3143293758081582|109.85630262262276|3.6955292070053294|1.1594272076372316|4.0492974517742315|   6.1227969348659|  1.93022155790589| 4.215097301987357| 3.041409534030945|    0.0|     0.0|       0.0| 0.08292449824784971|-0.02083333395421505|   null|   null|  0.0|15.598125| 5.875|2.3469944327414987|        null|    null|    MANUF| 2.0|     MANUF|  3.0|     MANUF|  3.0|     DURBL|  5.0|      null| null|     RUBBR| 16.0|     RUBBR| 15.0|     RUBBR| 15.0|4564.0|    AE|00003210|\n",
      "+----------+------+-------+-------------------+-------------------+-------------------+------------------+------+-------------------+------------------+-----------+---------+------------------+-------------------+-------------------+------------------+---+--------------------+--------------------+--------------------+-------------------+--------------------+--------------------+-------------------+--------------------+-------------------+------------------+--------------------+--------------------+--------------------+-------------------+--------------------+-------------------+-------------------+-------------------+------------------+-------------------+------------------+-------------------+-------------------+------------------+-------------------+------------------+------------------+-------------------+------------------+-------------------+------------------+--------------------+-------------------+------------------+------------------+-------------------+------------------+------------------+------------------+------------------+------------------+-------------------+------------------+------------------+------------------+------------------+------------------+------------------+------------------+------------------+------------------+------------------+-------+--------+----------+--------------------+--------------------+-------+-------+-----+---------+------+------------------+------------+--------+---------+----+----------+-----+----------+-----+----------+-----+----------+-----+----------+-----+----------+-----+----------+-----+------+------+--------+\n",
      "only showing top 20 rows"
     ]
    }
   ],
   "source": [
    "ratio.show()"
   ]
  },
  {
   "cell_type": "code",
   "execution_count": 94,
   "id": "efdce4f9-b6f6-4501-a035-08599fb83a74",
   "metadata": {
    "collapsed": true,
    "execution": {
     "iopub.execute_input": "2022-04-10T12:38:05.882127Z",
     "iopub.status.busy": "2022-04-10T12:38:05.881814Z",
     "iopub.status.idle": "2022-04-10T12:38:29.256022Z",
     "shell.execute_reply": "2022-04-10T12:38:29.255447Z",
     "shell.execute_reply.started": "2022-04-10T12:38:05.882092Z"
    },
    "jupyter": {
     "outputs_hidden": true
    },
    "tags": [],
    "vscode": {
     "languageId": "python"
    }
   },
   "outputs": [
    {
     "data": {
      "application/vnd.jupyter.widget-view+json": {
       "model_id": "c5af9b23f506455cbd03282357640a93",
       "version_major": 2,
       "version_minor": 0
      },
      "text/plain": [
       "VBox()"
      ]
     },
     "metadata": {},
     "output_type": "display_data"
    },
    {
     "data": {
      "application/vnd.jupyter.widget-view+json": {
       "model_id": "",
       "version_major": 2,
       "version_minor": 0
      },
      "text/plain": [
       "FloatProgress(value=0.0, bar_style='info', description='Progress:', layout=Layout(height='25px', width='50%'),…"
      ]
     },
     "metadata": {},
     "output_type": "display_data"
    },
    {
     "name": "stdout",
     "output_type": "stream",
     "text": [
      "+------------+------------------+------------+-----------+------------+-----------+------------------+---------------+--------------+------------------+------------+-----------+------------------+------------+-----------+------------------+--------------+-------------+------------------+-----------+----------+------------------+-----------+----------+------------------+-------------+------------+------------------+-------------+------------+-------------+------------+------------------+--------------+-------------+---------+---------+----------+-----------------+--------------+----------+-------------+----------+-------------+----------+--------------------+------+-----------+-----------+----------------------+------------+--------------+------------------+--------------------+-----------------+-------------------+---------------------------+-------------+-------------+-------------------+------+----------+-----------+-----------------------+\n",
      "|TimeBarStart|       OpenBarTime|OpenBidPrice|OpenBidSize|OpenAskPrice|OpenAskSize|    FirstTradeTime|FirstTradePrice|FirstTradeSize|       HighBidTime|HighBidPrice|HighBidSize|       HighAskTime|HighAskPrice|HighAskSize|     HighTradeTime|HighTradePrice|HighTradeSize|        LowBidTime|LowBidPrice|LowBidSize|        LowAskTime|LowAskPrice|LowAskSize|      LowTradeTime|LowTradePrice|LowTradeSize|      CloseBarTime|CloseBidPrice|CloseBidSize|CloseAskPrice|CloseAskSize|     LastTradeTime|LastTradePrice|LastTradeSize|MinSpread|MaxSpread|CancelSize|VolumeWeightPrice|NBBOQuoteCount|TradeAtBid|TradeAtBidMid|TradeAtMid|TradeAtMidAsk|TradeAtAsk|TradeAtCrossOrLocked|Volume|TotalTrades|FinraVolume|FinraVolumeWeightPrice|UptickVolume|DowntickVolume|RepeatUptickVolume|RepeatDowntickVolume|UnknownTickVolume|TradeToMidVolWeight|TradeToMidVolWeightRelative|TimeWeightBid|TimeWeightAsk|           datetime|Ticker|      Date|returns1min|FirstTradePrice1minLead|\n",
      "+------------+------------------+------------+-----------+------------+-----------+------------------+---------------+--------------+------------------+------------+-----------+------------------+------------+-----------+------------------+--------------+-------------+------------------+-----------+----------+------------------+-----------+----------+------------------+-------------+------------+------------------+-------------+------------+-------------+------------+------------------+--------------+-------------+---------+---------+----------+-----------------+--------------+----------+-------------+----------+-------------+----------+--------------------+------+-----------+-----------+----------------------+------------+--------------+------------------+--------------------+-----------------+-------------------+---------------------------+-------------+-------------+-------------------+------+----------+-----------+-----------------------+\n",
      "|       04:00|04:00:00.000000000|        null|       null|        null|       null|04:00:00.011892439|          169.3|             4|04:00:00.065647829|       169.1|        100|04:00:00.061111555|       171.0|        300|04:00:00.011892439|         169.3|            4|04:00:00.061023399|      102.7|      6000|04:00:29.720682840|      169.1|       700|04:00:29.853881293|       169.01|           7|04:00:59.999999999|        169.0|         600|        169.5|         500|04:00:40.732598542|         169.1|           63|      0.1|     68.3|      null|        169.10454|            27|       215|           76|        11|            0|       705|                   0|  1018|         22|          0|                  null|         501|            19|               270|                 210|               18|           -1.73183|                    0.22436|    169.04928|     169.4537|2018-01-02 04:00:00|  AAPL|2018-01-02|       null|                  169.3|\n",
      "|       04:00|04:00:00.000000000|        null|       null|        null|       null|04:00:00.011892439|          169.3|             4|04:00:00.065647829|       169.1|        100|04:00:00.061111555|       171.0|        300|04:00:00.011892439|         169.3|            4|04:00:00.061023399|      102.7|      6000|04:00:29.720682840|      169.1|       700|04:00:29.853881293|       169.01|           7|04:00:59.999999999|        169.0|         600|        169.5|         500|04:00:40.732598542|         169.1|           63|      0.1|     68.3|      null|        169.10454|            27|       215|           76|        11|            0|       705|                   0|  1018|         22|          0|                  null|         501|            19|               270|                 210|               18|           -1.73183|                    0.22436|    169.04928|     169.4537|2018-01-02 04:00:00|  AAPL|2018-01-02|        0.0|                   null|\n",
      "|       04:01|04:01:00.000000000|       169.0|        600|       169.5|        500|              null|           null|          null|04:01:29.250845101|       169.1|       6100|04:01:00.000000000|       169.5|        500|              null|          null|         null|04:01:00.000000000|      169.0|       600|04:01:00.000000000|      169.5|       500|              null|         null|        null|04:01:59.999999999|        169.1|        6100|        169.5|         500|              null|          null|         null|      0.4|      0.5|      null|             null|             2|         0|            0|         0|            0|         0|                   0|     0|          0|          0|                  null|           0|             0|                 0|                   0|                0|               null|                       null|    169.05125|        169.5|2018-01-02 04:01:00|  AAPL|2018-01-02|       null|                   null|\n",
      "|       04:01|04:01:00.000000000|       169.0|        600|       169.5|        500|              null|           null|          null|04:01:29.250845101|       169.1|       6100|04:01:00.000000000|       169.5|        500|              null|          null|         null|04:01:00.000000000|      169.0|       600|04:01:00.000000000|      169.5|       500|              null|         null|        null|04:01:59.999999999|        169.1|        6100|        169.5|         500|              null|          null|         null|      0.4|      0.5|      null|             null|             2|         0|            0|         0|            0|         0|                   0|     0|          0|          0|                  null|           0|             0|                 0|                   0|                0|               null|                       null|    169.05125|        169.5|2018-01-02 04:01:00|  AAPL|2018-01-02|       null|                   null|\n",
      "|       04:02|04:02:00.000000000|       169.1|       6100|       169.5|        500|              null|           null|          null|04:02:00.000000000|       169.1|       6100|04:02:00.000000000|       169.5|        500|              null|          null|         null|04:02:00.000000000|      169.1|      6100|04:02:00.000000000|      169.5|       500|              null|         null|        null|04:02:59.999999999|        169.1|        6100|        169.5|         500|              null|          null|         null|      0.4|      0.4|      null|             null|             0|         0|            0|         0|            0|         0|                   0|     0|          0|          0|                  null|           0|             0|                 0|                   0|                0|               null|                       null|        169.1|        169.5|2018-01-02 04:02:00|  AAPL|2018-01-02|       null|                   null|\n",
      "|       04:02|04:02:00.000000000|       169.1|       6100|       169.5|        500|              null|           null|          null|04:02:00.000000000|       169.1|       6100|04:02:00.000000000|       169.5|        500|              null|          null|         null|04:02:00.000000000|      169.1|      6100|04:02:00.000000000|      169.5|       500|              null|         null|        null|04:02:59.999999999|        169.1|        6100|        169.5|         500|              null|          null|         null|      0.4|      0.4|      null|             null|             0|         0|            0|         0|            0|         0|                   0|     0|          0|          0|                  null|           0|             0|                 0|                   0|                0|               null|                       null|        169.1|        169.5|2018-01-02 04:02:00|  AAPL|2018-01-02|       null|                  169.2|\n",
      "|       04:03|04:03:00.000000000|       169.1|       6100|       169.5|        500|04:03:51.712094862|          169.2|            11|04:03:00.000000000|       169.1|       6100|04:03:00.000000000|       169.5|        500|04:03:51.721308164|        169.49|            7|04:03:00.000000000|      169.1|      6100|04:03:00.000000000|      169.5|       500|04:03:51.712094862|        169.2|          11|04:03:59.999999999|        169.1|        6100|        169.5|         500|04:03:51.721308164|        169.49|            7|      0.4|      0.4|      null|        169.31278|             0|         0|           11|         0|            7|         0|                   0|    18|          2|          0|                  null|          18|             0|                 0|                   0|                0|            1.27778|                    0.03194|        169.1|        169.5|2018-01-02 04:03:00|  AAPL|2018-01-02|       null|                  169.2|\n",
      "|       04:03|04:03:00.000000000|       169.1|       6100|       169.5|        500|04:03:51.712094862|          169.2|            11|04:03:00.000000000|       169.1|       6100|04:03:00.000000000|       169.5|        500|04:03:51.721308164|        169.49|            7|04:03:00.000000000|      169.1|      6100|04:03:00.000000000|      169.5|       500|04:03:51.712094862|        169.2|          11|04:03:59.999999999|        169.1|        6100|        169.5|         500|04:03:51.721308164|        169.49|            7|      0.4|      0.4|      null|        169.31278|             0|         0|           11|         0|            7|         0|                   0|    18|          2|          0|                  null|          18|             0|                 0|                   0|                0|            1.27778|                    0.03194|        169.1|        169.5|2018-01-02 04:03:00|  AAPL|2018-01-02|        0.0|                   null|\n",
      "|       04:04|04:04:00.000000000|       169.1|       6100|       169.5|        500|              null|           null|          null|04:04:00.000000000|       169.1|       6100|04:04:00.000000000|       169.5|        500|              null|          null|         null|04:04:00.000000000|      169.1|      6100|04:04:06.833305767|      169.2|      1000|              null|         null|        null|04:04:59.999999999|        169.1|        6100|        169.2|        1000|              null|          null|         null|      0.1|      0.4|      null|             null|             2|         0|            0|         0|            0|         0|                   0|     0|          0|          0|                  null|           0|             0|                 0|                   0|                0|               null|                       null|        169.1|    169.23417|2018-01-02 04:04:00|  AAPL|2018-01-02|       null|                   null|\n",
      "|       04:04|04:04:00.000000000|       169.1|       6100|       169.5|        500|              null|           null|          null|04:04:00.000000000|       169.1|       6100|04:04:00.000000000|       169.5|        500|              null|          null|         null|04:04:00.000000000|      169.1|      6100|04:04:06.833305767|      169.2|      1000|              null|         null|        null|04:04:59.999999999|        169.1|        6100|        169.2|        1000|              null|          null|         null|      0.1|      0.4|      null|             null|             2|         0|            0|         0|            0|         0|                   0|     0|          0|          0|                  null|           0|             0|                 0|                   0|                0|               null|                       null|        169.1|    169.23417|2018-01-02 04:04:00|  AAPL|2018-01-02|       null|                 169.11|\n",
      "|       04:05|04:05:00.000000000|       169.1|       6100|       169.2|       1000|04:05:59.263937912|         169.11|           937|04:05:00.000000000|       169.1|       6100|04:05:50.939770151|       169.5|        500|04:05:59.263937912|        169.11|          937|04:05:00.000000000|      169.1|      6100|04:05:00.000000000|      169.2|      1000|04:05:59.263938622|        169.1|          63|04:05:59.999999999|        169.1|        6000|        169.5|         500|04:05:59.263938622|         169.1|           63|      0.1|      0.4|      null|        169.10937|             4|        63|          937|         0|            0|         0|                   0|  1000|          2|          0|                  null|           0|          1000|                 0|                   0|                0|            -19.063|                   -0.47657|        169.1|     169.2453|2018-01-02 04:05:00|  AAPL|2018-01-02|       null|                 169.11|\n",
      "|       04:05|04:05:00.000000000|       169.1|       6100|       169.2|       1000|04:05:59.263937912|         169.11|           937|04:05:00.000000000|       169.1|       6100|04:05:50.939770151|       169.5|        500|04:05:59.263937912|        169.11|          937|04:05:00.000000000|      169.1|      6100|04:05:00.000000000|      169.2|      1000|04:05:59.263938622|        169.1|          63|04:05:59.999999999|        169.1|        6000|        169.5|         500|04:05:59.263938622|         169.1|           63|      0.1|      0.4|      null|        169.10937|             4|        63|          937|         0|            0|         0|                   0|  1000|          2|          0|                  null|           0|          1000|                 0|                   0|                0|            -19.063|                   -0.47657|        169.1|     169.2453|2018-01-02 04:05:00|  AAPL|2018-01-02|        0.0|                   null|\n",
      "|       04:06|04:06:00.000000000|       169.1|       6000|       169.5|        500|              null|           null|          null|04:06:00.000000000|       169.1|       6000|04:06:00.000000000|       169.5|        500|              null|          null|         null|04:06:00.000000000|      169.1|      6000|04:06:00.000000000|      169.5|       500|              null|         null|        null|04:06:59.999999999|        169.1|        6000|        169.5|         500|              null|          null|         null|      0.4|      0.4|      null|             null|             0|         0|            0|         0|            0|         0|                   0|     0|          0|          0|                  null|           0|             0|                 0|                   0|                0|               null|                       null|        169.1|        169.5|2018-01-02 04:06:00|  AAPL|2018-01-02|       null|                   null|\n",
      "|       04:06|04:06:00.000000000|       169.1|       6000|       169.5|        500|              null|           null|          null|04:06:00.000000000|       169.1|       6000|04:06:00.000000000|       169.5|        500|              null|          null|         null|04:06:00.000000000|      169.1|      6000|04:06:00.000000000|      169.5|       500|              null|         null|        null|04:06:59.999999999|        169.1|        6000|        169.5|         500|              null|          null|         null|      0.4|      0.4|      null|             null|             0|         0|            0|         0|            0|         0|                   0|     0|          0|          0|                  null|           0|             0|                 0|                   0|                0|               null|                       null|        169.1|        169.5|2018-01-02 04:06:00|  AAPL|2018-01-02|       null|                   null|\n",
      "|       04:07|04:07:00.000000000|       169.1|       6000|       169.5|        500|              null|           null|          null|04:07:00.000000000|       169.1|       6000|04:07:00.000000000|       169.5|        500|              null|          null|         null|04:07:00.000000000|      169.1|      6000|04:07:00.000000000|      169.5|       500|              null|         null|        null|04:07:59.999999999|        169.1|        6000|        169.5|         500|              null|          null|         null|      0.4|      0.4|      null|             null|             0|         0|            0|         0|            0|         0|                   0|     0|          0|          0|                  null|           0|             0|                 0|                   0|                0|               null|                       null|        169.1|        169.5|2018-01-02 04:07:00|  AAPL|2018-01-02|       null|                   null|\n",
      "|       04:07|04:07:00.000000000|       169.1|       6000|       169.5|        500|              null|           null|          null|04:07:00.000000000|       169.1|       6000|04:07:00.000000000|       169.5|        500|              null|          null|         null|04:07:00.000000000|      169.1|      6000|04:07:00.000000000|      169.5|       500|              null|         null|        null|04:07:59.999999999|        169.1|        6000|        169.5|         500|              null|          null|         null|      0.4|      0.4|      null|             null|             0|         0|            0|         0|            0|         0|                   0|     0|          0|          0|                  null|           0|             0|                 0|                   0|                0|               null|                       null|        169.1|        169.5|2018-01-02 04:07:00|  AAPL|2018-01-02|       null|                   null|\n",
      "|       04:08|04:08:00.000000000|       169.1|       6000|       169.5|        500|              null|           null|          null|04:08:30.113849500|      169.14|        100|04:08:00.000000000|       169.5|        500|              null|          null|         null|04:08:00.000000000|      169.1|      6000|04:08:00.000000000|      169.5|       500|              null|         null|        null|04:08:59.999999999|       169.14|         100|        169.5|         500|              null|          null|         null|     0.36|      0.4|      null|             null|             2|         0|            0|         0|            0|         0|                   0|     0|          0|          0|                  null|           0|             0|                 0|                   0|                0|               null|                       null|    169.11992|        169.5|2018-01-02 04:08:00|  AAPL|2018-01-02|       null|                   null|\n",
      "|       04:08|04:08:00.000000000|       169.1|       6000|       169.5|        500|              null|           null|          null|04:08:30.113849500|      169.14|        100|04:08:00.000000000|       169.5|        500|              null|          null|         null|04:08:00.000000000|      169.1|      6000|04:08:00.000000000|      169.5|       500|              null|         null|        null|04:08:59.999999999|       169.14|         100|        169.5|         500|              null|          null|         null|     0.36|      0.4|      null|             null|             2|         0|            0|         0|            0|         0|                   0|     0|          0|          0|                  null|           0|             0|                 0|                   0|                0|               null|                       null|    169.11992|        169.5|2018-01-02 04:08:00|  AAPL|2018-01-02|       null|                   null|\n",
      "|       04:09|04:09:00.000000000|      169.14|        100|       169.5|        500|              null|           null|          null|04:09:00.000000000|      169.14|        100|04:09:00.000000000|       169.5|        500|              null|          null|         null|04:09:00.000000000|     169.14|       100|04:09:00.000000000|      169.5|       500|              null|         null|        null|04:09:59.999999999|       169.14|         100|        169.5|         500|              null|          null|         null|     0.36|     0.36|      null|             null|             0|         0|            0|         0|            0|         0|                   0|     0|          0|          0|                  null|           0|             0|                 0|                   0|                0|               null|                       null|       169.14|        169.5|2018-01-02 04:09:00|  AAPL|2018-01-02|       null|                   null|\n",
      "|       04:09|04:09:00.000000000|      169.14|        100|       169.5|        500|              null|           null|          null|04:09:00.000000000|      169.14|        100|04:09:00.000000000|       169.5|        500|              null|          null|         null|04:09:00.000000000|     169.14|       100|04:09:00.000000000|      169.5|       500|              null|         null|        null|04:09:59.999999999|       169.14|         100|        169.5|         500|              null|          null|         null|     0.36|     0.36|      null|             null|             0|         0|            0|         0|            0|         0|                   0|     0|          0|          0|                  null|           0|             0|                 0|                   0|                0|               null|                       null|       169.14|        169.5|2018-01-02 04:09:00|  AAPL|2018-01-02|       null|                   null|\n",
      "+------------+------------------+------------+-----------+------------+-----------+------------------+---------------+--------------+------------------+------------+-----------+------------------+------------+-----------+------------------+--------------+-------------+------------------+-----------+----------+------------------+-----------+----------+------------------+-------------+------------+------------------+-------------+------------+-------------+------------+------------------+--------------+-------------+---------+---------+----------+-----------------+--------------+----------+-------------+----------+-------------+----------+--------------------+------+-----------+-----------+----------------------+------------+--------------+------------------+--------------------+-----------------+-------------------+---------------------------+-------------+-------------+-------------------+------+----------+-----------+-----------------------+\n",
      "only showing top 20 rows"
     ]
    }
   ],
   "source": [
    "apl.show()"
   ]
  },
  {
   "cell_type": "code",
   "execution_count": 104,
   "id": "f7b97601-f1b5-4d6f-93cf-dc029ae38d52",
   "metadata": {
    "execution": {
     "iopub.execute_input": "2022-04-10T13:25:28.180001Z",
     "iopub.status.busy": "2022-04-10T13:25:28.179747Z",
     "iopub.status.idle": "2022-04-10T13:25:28.436378Z",
     "shell.execute_reply": "2022-04-10T13:25:28.435783Z",
     "shell.execute_reply.started": "2022-04-10T13:25:28.179978Z"
    },
    "tags": [],
    "vscode": {
     "languageId": "json"
    }
   },
   "outputs": [
    {
     "data": {
      "application/vnd.jupyter.widget-view+json": {
       "model_id": "f3f19fee078b4e8393d5ff8a674d7dd5",
       "version_major": 2,
       "version_minor": 0
      },
      "text/plain": [
       "VBox()"
      ]
     },
     "metadata": {},
     "output_type": "display_data"
    },
    {
     "data": {
      "application/vnd.jupyter.widget-view+json": {
       "model_id": "",
       "version_major": 2,
       "version_minor": 0
      },
      "text/plain": [
       "FloatProgress(value=0.0, bar_style='info', description='Progress:', layout=Layout(height='25px', width='50%'),…"
      ]
     },
     "metadata": {},
     "output_type": "display_data"
    }
   ],
   "source": [
    "apl = apl.join(ratio, (apl.Ticker==ratio.TICKER) &(apl.Date==ratio.date),\"cross\")"
   ]
  },
  {
   "cell_type": "code",
   "execution_count": 105,
   "id": "bc690f90-2914-4bd2-8e35-0dc1e68dbdc3",
   "metadata": {
    "collapsed": true,
    "execution": {
     "iopub.execute_input": "2022-04-10T13:25:37.049360Z",
     "iopub.status.busy": "2022-04-10T13:25:37.049115Z",
     "iopub.status.idle": "2022-04-10T13:25:37.183977Z",
     "shell.execute_reply": "2022-04-10T13:25:37.183402Z",
     "shell.execute_reply.started": "2022-04-10T13:25:37.049336Z"
    },
    "jupyter": {
     "outputs_hidden": true
    },
    "tags": [],
    "vscode": {
     "languageId": "json"
    }
   },
   "outputs": [
    {
     "data": {
      "application/vnd.jupyter.widget-view+json": {
       "model_id": "54ac0193ca2d418eb4d68a589789f91a",
       "version_major": 2,
       "version_minor": 0
      },
      "text/plain": [
       "VBox()"
      ]
     },
     "metadata": {},
     "output_type": "display_data"
    },
    {
     "data": {
      "application/vnd.jupyter.widget-view+json": {
       "model_id": "",
       "version_major": 2,
       "version_minor": 0
      },
      "text/plain": [
       "FloatProgress(value=0.0, bar_style='info', description='Progress:', layout=Layout(height='25px', width='50%'),…"
      ]
     },
     "metadata": {},
     "output_type": "display_data"
    },
    {
     "name": "stdout",
     "output_type": "stream",
     "text": [
      "root\n",
      " |-- TimeBarStart: string (nullable = true)\n",
      " |-- OpenBarTime: string (nullable = true)\n",
      " |-- OpenBidPrice: double (nullable = true)\n",
      " |-- OpenBidSize: integer (nullable = true)\n",
      " |-- OpenAskPrice: double (nullable = true)\n",
      " |-- OpenAskSize: integer (nullable = true)\n",
      " |-- FirstTradeTime: string (nullable = true)\n",
      " |-- FirstTradePrice: double (nullable = true)\n",
      " |-- FirstTradeSize: integer (nullable = true)\n",
      " |-- HighBidTime: string (nullable = true)\n",
      " |-- HighBidPrice: double (nullable = true)\n",
      " |-- HighBidSize: integer (nullable = true)\n",
      " |-- HighAskTime: string (nullable = true)\n",
      " |-- HighAskPrice: double (nullable = true)\n",
      " |-- HighAskSize: integer (nullable = true)\n",
      " |-- HighTradeTime: string (nullable = true)\n",
      " |-- HighTradePrice: double (nullable = true)\n",
      " |-- HighTradeSize: integer (nullable = true)\n",
      " |-- LowBidTime: string (nullable = true)\n",
      " |-- LowBidPrice: double (nullable = true)\n",
      " |-- LowBidSize: integer (nullable = true)\n",
      " |-- LowAskTime: string (nullable = true)\n",
      " |-- LowAskPrice: double (nullable = true)\n",
      " |-- LowAskSize: integer (nullable = true)\n",
      " |-- LowTradeTime: string (nullable = true)\n",
      " |-- LowTradePrice: double (nullable = true)\n",
      " |-- LowTradeSize: integer (nullable = true)\n",
      " |-- CloseBarTime: string (nullable = true)\n",
      " |-- CloseBidPrice: double (nullable = true)\n",
      " |-- CloseBidSize: integer (nullable = true)\n",
      " |-- CloseAskPrice: double (nullable = true)\n",
      " |-- CloseAskSize: integer (nullable = true)\n",
      " |-- LastTradeTime: string (nullable = true)\n",
      " |-- LastTradePrice: double (nullable = true)\n",
      " |-- LastTradeSize: integer (nullable = true)\n",
      " |-- MinSpread: double (nullable = true)\n",
      " |-- MaxSpread: double (nullable = true)\n",
      " |-- CancelSize: integer (nullable = true)\n",
      " |-- VolumeWeightPrice: double (nullable = true)\n",
      " |-- NBBOQuoteCount: integer (nullable = true)\n",
      " |-- TradeAtBid: integer (nullable = true)\n",
      " |-- TradeAtBidMid: integer (nullable = true)\n",
      " |-- TradeAtMid: integer (nullable = true)\n",
      " |-- TradeAtMidAsk: integer (nullable = true)\n",
      " |-- TradeAtAsk: integer (nullable = true)\n",
      " |-- TradeAtCrossOrLocked: integer (nullable = true)\n",
      " |-- Volume: integer (nullable = true)\n",
      " |-- TotalTrades: integer (nullable = true)\n",
      " |-- FinraVolume: integer (nullable = true)\n",
      " |-- FinraVolumeWeightPrice: double (nullable = true)\n",
      " |-- UptickVolume: integer (nullable = true)\n",
      " |-- DowntickVolume: integer (nullable = true)\n",
      " |-- RepeatUptickVolume: integer (nullable = true)\n",
      " |-- RepeatDowntickVolume: integer (nullable = true)\n",
      " |-- UnknownTickVolume: integer (nullable = true)\n",
      " |-- TradeToMidVolWeight: double (nullable = true)\n",
      " |-- TradeToMidVolWeightRelative: double (nullable = true)\n",
      " |-- TimeWeightBid: double (nullable = true)\n",
      " |-- TimeWeightAsk: double (nullable = true)\n",
      " |-- datetime: timestamp (nullable = true)\n",
      " |-- Ticker: string (nullable = true)\n",
      " |-- Date: date (nullable = true)\n",
      " |-- returns1min: double (nullable = true)\n",
      " |-- FirstTradePrice1minLead: double (nullable = true)\n",
      " |-- Unnamed:_0: long (nullable = true)\n",
      " |-- gvkey: string (nullable = true)\n",
      " |-- permno: double (nullable = true)\n",
      " |-- adate: timestamp (nullable = true)\n",
      " |-- qdate: timestamp (nullable = true)\n",
      " |-- public_date: timestamp (nullable = true)\n",
      " |-- CAPEI: double (nullable = true)\n",
      " |-- BE: double (nullable = true)\n",
      " |-- bm: double (nullable = true)\n",
      " |-- evm: double (nullable = true)\n",
      " |-- pe_op_basic: double (nullable = true)\n",
      " |-- pe_op_dil: double (nullable = true)\n",
      " |-- pe_exi: double (nullable = true)\n",
      " |-- pe_inc: double (nullable = true)\n",
      " |-- ps: double (nullable = true)\n",
      " |-- pcf: double (nullable = true)\n",
      " |-- dpr: double (nullable = true)\n",
      " |-- npm: double (nullable = true)\n",
      " |-- opmbd: double (nullable = true)\n",
      " |-- opmad: double (nullable = true)\n",
      " |-- gpm: double (nullable = true)\n",
      " |-- ptpm: double (nullable = true)\n",
      " |-- cfm: double (nullable = true)\n",
      " |-- roa: double (nullable = true)\n",
      " |-- roe: double (nullable = true)\n",
      " |-- roce: double (nullable = true)\n",
      " |-- efftax: double (nullable = true)\n",
      " |-- aftret_eq: double (nullable = true)\n",
      " |-- aftret_invcapx: double (nullable = true)\n",
      " |-- aftret_equity: double (nullable = true)\n",
      " |-- pretret_noa: double (nullable = true)\n",
      " |-- pretret_earnat: double (nullable = true)\n",
      " |-- GProf: double (nullable = true)\n",
      " |-- equity_invcap: double (nullable = true)\n",
      " |-- debt_invcap: double (nullable = true)\n",
      " |-- totdebt_invcap: double (nullable = true)\n",
      " |-- capital_ratio: double (nullable = true)\n",
      " |-- int_debt: double (nullable = true)\n",
      " |-- int_totdebt: double (nullable = true)\n",
      " |-- cash_lt: double (nullable = true)\n",
      " |-- invt_act: double (nullable = true)\n",
      " |-- rect_act: double (nullable = true)\n",
      " |-- debt_at: double (nullable = true)\n",
      " |-- debt_ebitda: double (nullable = true)\n",
      " |-- short_debt: double (nullable = true)\n",
      " |-- curr_debt: double (nullable = true)\n",
      " |-- lt_debt: double (nullable = true)\n",
      " |-- profit_lct: double (nullable = true)\n",
      " |-- ocf_lct: double (nullable = true)\n",
      " |-- cash_debt: double (nullable = true)\n",
      " |-- fcf_ocf: double (nullable = true)\n",
      " |-- lt_ppent: double (nullable = true)\n",
      " |-- dltt_be: double (nullable = true)\n",
      " |-- debt_assets: double (nullable = true)\n",
      " |-- debt_capital: double (nullable = true)\n",
      " |-- de_ratio: double (nullable = true)\n",
      " |-- intcov: double (nullable = true)\n",
      " |-- intcov_ratio: double (nullable = true)\n",
      " |-- cash_ratio: double (nullable = true)\n",
      " |-- quick_ratio: double (nullable = true)\n",
      " |-- curr_ratio: double (nullable = true)\n",
      " |-- cash_conversion: double (nullable = true)\n",
      " |-- inv_turn: double (nullable = true)\n",
      " |-- at_turn: double (nullable = true)\n",
      " |-- rect_turn: double (nullable = true)\n",
      " |-- pay_turn: double (nullable = true)\n",
      " |-- sale_invcap: double (nullable = true)\n",
      " |-- sale_equity: double (nullable = true)\n",
      " |-- sale_nwc: double (nullable = true)\n",
      " |-- rd_sale: double (nullable = true)\n",
      " |-- adv_sale: double (nullable = true)\n",
      " |-- staff_sale: double (nullable = true)\n",
      " |-- accrual: double (nullable = true)\n",
      " |-- ret_crsp: double (nullable = true)\n",
      " |-- gsector: string (nullable = true)\n",
      " |-- gicdesc: string (nullable = true)\n",
      " |-- sp500: double (nullable = true)\n",
      " |-- mktcap: double (nullable = true)\n",
      " |-- price: double (nullable = true)\n",
      " |-- ptb: double (nullable = true)\n",
      " |-- PEG_trailing: double (nullable = true)\n",
      " |-- divyield: double (nullable = true)\n",
      " |-- FFI5_desc: string (nullable = true)\n",
      " |-- FFI5: double (nullable = true)\n",
      " |-- FFI10_desc: string (nullable = true)\n",
      " |-- FFI10: double (nullable = true)\n",
      " |-- FFI12_desc: string (nullable = true)\n",
      " |-- FFI12: double (nullable = true)\n",
      " |-- FFI17_desc: string (nullable = true)\n",
      " |-- FFI17: double (nullable = true)\n",
      " |-- FFI30_desc: string (nullable = true)\n",
      " |-- FFI30: double (nullable = true)\n",
      " |-- FFI38_desc: string (nullable = true)\n",
      " |-- FFI38: double (nullable = true)\n",
      " |-- FFI48_desc: string (nullable = true)\n",
      " |-- FFI48: double (nullable = true)\n",
      " |-- FFI49_desc: string (nullable = true)\n",
      " |-- FFI49: double (nullable = true)\n",
      " |-- dt: double (nullable = true)\n",
      " |-- TICKER: string (nullable = true)\n",
      " |-- cusip: string (nullable = true)\n",
      " |-- date: date (nullable = true)"
     ]
    }
   ],
   "source": [
    "apl.printSchema()"
   ]
  },
  {
   "cell_type": "code",
   "execution_count": 106,
   "id": "21178af5-5cba-4fb3-a0f9-59af082191c0",
   "metadata": {
    "collapsed": true,
    "execution": {
     "iopub.execute_input": "2022-04-10T13:25:54.876889Z",
     "iopub.status.busy": "2022-04-10T13:25:54.876664Z",
     "iopub.status.idle": "2022-04-10T13:26:54.278861Z",
     "shell.execute_reply": "2022-04-10T13:26:54.278142Z",
     "shell.execute_reply.started": "2022-04-10T13:25:54.876866Z"
    },
    "jupyter": {
     "outputs_hidden": true,
     "source_hidden": true
    },
    "tags": [],
    "vscode": {
     "languageId": "json"
    }
   },
   "outputs": [
    {
     "data": {
      "application/vnd.jupyter.widget-view+json": {
       "model_id": "01938ec5fdd047ff890188475a0c160f",
       "version_major": 2,
       "version_minor": 0
      },
      "text/plain": [
       "VBox()"
      ]
     },
     "metadata": {},
     "output_type": "display_data"
    },
    {
     "data": {
      "application/vnd.jupyter.widget-view+json": {
       "model_id": "",
       "version_major": 2,
       "version_minor": 0
      },
      "text/plain": [
       "FloatProgress(value=0.0, bar_style='info', description='Progress:', layout=Layout(height='25px', width='50%'),…"
      ]
     },
     "metadata": {},
     "output_type": "display_data"
    },
    {
     "name": "stdout",
     "output_type": "stream",
     "text": [
      "+------------+------------------+------------+-----------+------------+-----------+------------------+---------------+--------------+------------------+------------+-----------+------------------+------------+-----------+------------------+--------------+-------------+------------------+-----------+----------+------------------+-----------+----------+------------------+-------------+------------+------------------+-------------+------------+-------------+------------+------------------+--------------+-------------+---------+---------+----------+-----------------+--------------+----------+-------------+----------+-------------+----------+--------------------+------+-----------+-----------+----------------------+------------+--------------+------------------+--------------------+-----------------+-------------------+---------------------------+-------------+-------------+-------------------+------+----------+--------------------+-----------------------+----------+------+-------+-------------------+-------------------+-------------------+------------------+--------+-------------------+------------------+------------------+------------------+------------------+------------------+------------------+------------------+------------------+-------------------+------------------+------------------+------------------+------------------+------------------+-------------------+------------------+------------------+-------------------+------------------+------------------+------------------+-----------------+-----------------+------------------+------------------+------------------+------------------+------------------+-------------------+--------------------+------------------+--------------------+-------------------+-------------------+------------------+------------------+------------------+------------------+-----------------+-----------------+-------------------+------------------+-----------------+------------------+------------------+------------------+------------------+------------------+------------------+------------------+------------------+------------------+---------------+------------------+------------------+-----------------+-----------------+------------------+-----------------+-----------------+--------------------+--------+----------+-------------------+-------------------+-------+--------------------+-----+-----------------+------------------+-----------------+-----------------+------------------+---------+----+----------+-----+----------+-----+----------+-----+----------+-----+----------+-----+----------+-----+----------+-----+-------+------+--------+----------+\n",
      "|TimeBarStart|       OpenBarTime|OpenBidPrice|OpenBidSize|OpenAskPrice|OpenAskSize|    FirstTradeTime|FirstTradePrice|FirstTradeSize|       HighBidTime|HighBidPrice|HighBidSize|       HighAskTime|HighAskPrice|HighAskSize|     HighTradeTime|HighTradePrice|HighTradeSize|        LowBidTime|LowBidPrice|LowBidSize|        LowAskTime|LowAskPrice|LowAskSize|      LowTradeTime|LowTradePrice|LowTradeSize|      CloseBarTime|CloseBidPrice|CloseBidSize|CloseAskPrice|CloseAskSize|     LastTradeTime|LastTradePrice|LastTradeSize|MinSpread|MaxSpread|CancelSize|VolumeWeightPrice|NBBOQuoteCount|TradeAtBid|TradeAtBidMid|TradeAtMid|TradeAtMidAsk|TradeAtAsk|TradeAtCrossOrLocked|Volume|TotalTrades|FinraVolume|FinraVolumeWeightPrice|UptickVolume|DowntickVolume|RepeatUptickVolume|RepeatDowntickVolume|UnknownTickVolume|TradeToMidVolWeight|TradeToMidVolWeightRelative|TimeWeightBid|TimeWeightAsk|           datetime|Ticker|      Date|         returns1min|FirstTradePrice1minLead|Unnamed:_0| gvkey| permno|              adate|              qdate|        public_date|             CAPEI|      BE|                 bm|               evm|       pe_op_basic|         pe_op_dil|            pe_exi|            pe_inc|                ps|               pcf|               dpr|                npm|             opmbd|             opmad|               gpm|              ptpm|               cfm|                roa|               roe|              roce|             efftax|         aftret_eq|    aftret_invcapx|     aftret_equity|      pretret_noa|   pretret_earnat|             GProf|     equity_invcap|       debt_invcap|    totdebt_invcap|     capital_ratio|           int_debt|         int_totdebt|           cash_lt|            invt_act|           rect_act|            debt_at|       debt_ebitda|        short_debt|         curr_debt|           lt_debt|       profit_lct|          ocf_lct|          cash_debt|           fcf_ocf|         lt_ppent|           dltt_be|       debt_assets|      debt_capital|          de_ratio|            intcov|      intcov_ratio|        cash_ratio|       quick_ratio|        curr_ratio|cash_conversion|          inv_turn|           at_turn|        rect_turn|         pay_turn|       sale_invcap|      sale_equity|         sale_nwc|             rd_sale|adv_sale|staff_sale|            accrual|           ret_crsp|gsector|             gicdesc|sp500|           mktcap|             price|              ptb|     PEG_trailing|          divyield|FFI5_desc|FFI5|FFI10_desc|FFI10|FFI12_desc|FFI12|FFI17_desc|FFI17|FFI30_desc|FFI30|FFI38_desc|FFI38|FFI48_desc|FFI48|FFI49_desc|FFI49|     dt|TICKER|   cusip|      date|\n",
      "+------------+------------------+------------+-----------+------------+-----------+------------------+---------------+--------------+------------------+------------+-----------+------------------+------------+-----------+------------------+--------------+-------------+------------------+-----------+----------+------------------+-----------+----------+------------------+-------------+------------+------------------+-------------+------------+-------------+------------+------------------+--------------+-------------+---------+---------+----------+-----------------+--------------+----------+-------------+----------+-------------+----------+--------------------+------+-----------+-----------+----------------------+------------+--------------+------------------+--------------------+-----------------+-------------------+---------------------------+-------------+-------------+-------------------+------+----------+--------------------+-----------------------+----------+------+-------+-------------------+-------------------+-------------------+------------------+--------+-------------------+------------------+------------------+------------------+------------------+------------------+------------------+------------------+------------------+-------------------+------------------+------------------+------------------+------------------+------------------+-------------------+------------------+------------------+-------------------+------------------+------------------+------------------+-----------------+-----------------+------------------+------------------+------------------+------------------+------------------+-------------------+--------------------+------------------+--------------------+-------------------+-------------------+------------------+------------------+------------------+------------------+-----------------+-----------------+-------------------+------------------+-----------------+------------------+------------------+------------------+------------------+------------------+------------------+------------------+------------------+------------------+---------------+------------------+------------------+-----------------+-----------------+------------------+-----------------+-----------------+--------------------+--------+----------+-------------------+-------------------+-------+--------------------+-----+-----------------+------------------+-----------------+-----------------+------------------+---------+----+----------+-----+----------+-----+----------+-----+----------+-----+----------+-----+----------+-----+----------+-----+-------+------+--------+----------+\n",
      "|       04:00|04:00:00.000000000|        null|       null|        null|       null|04:00:00.018908177|         166.35|            10|04:00:00.083360119|      166.35|        800|04:00:00.052892188|      168.49|        100|04:00:00.349372721|        166.66|           59|04:00:00.033389261|     129.33|       100|04:00:00.079014780|      166.5|       100|04:00:00.018908177|       166.35|          10|04:00:59.999999999|       166.22|         100|       166.95|         100|04:00:05.736547656|        166.36|            5|     0.15|    39.16|      null|        166.46989|           113|         0|           54|         0|          100|       110|                   0|   453|         14|          0|                  null|         120|             5|               139|                   0|              189|            3.44923|                    0.17306|     166.1713|    166.97365|2019-01-31 04:00:00|  AAPL|2019-01-31|0.004832376925400...|                 166.41|     86072|001690|14593.0|2018-09-30 00:00:00|2018-09-30 00:00:00|2019-01-31 00:00:00|15.920835440634756|107573.0|0.10021795052905763|14.563520378103357|13.553745928338767|13.676253081347575|13.974811083123427|13.974811083123427|2.9575451170373497|10.135227609472764|0.2307201290084158|0.22434136396353616|0.3073760452820519|0.2662883113065696|0.4239765751302952|0.2747334742744734|0.2654290979390185|0.22013537657682944|0.4359265388614696|0.2998237005072588|0.18342180705869446|0.4936358284202758|0.2388928215315994|0.4936358284202758|1.203874232266528|0.421773295808948|0.3076245813110944|0.5333827819316813|0.4666172180683187|0.5699017333559004|0.4666172180683187|0.03393700704926103|0.028153960454112958|0.2564061907818917|0.030120527794486027|0.37304227990162864|0.31303028231594776|1.4035799668975664|0.1812321480045072|0.4519564696145844|0.3625018369698892|0.697936097752982|0.662587921208906|0.29946089767884354|0.8280729395356046|6.260362192523727|0.8713617729355879|0.7070285050242668|0.6139097283779791|2.4133013523477094|19.373765432098764|21.809259259259264|0.5673249704790101|1.0899919565998666|1.1238426916297295|           null|34.695948246510035|0.7161760975056811|6.268224122454765|2.896099564500605|1.3209695243974071|2.476588238588108|18.33476127962413|0.053648076756394165|     0.0|       0.0|0.04831831848041412|0.05515402927994728|     45|Information Techn...|  0.0|784811.2147119141|166.44000244140625|7.295615207458322|1.384721469295607|0.0175438593917827|    HITEC| 3.0|     HITEC|  5.0|     BUSEQ|  6.0|     OTHER| 17.0|     BUSEQ| 23.0|     ELCTR| 22.0|     CHIPS| 36.0|     CHIPS| 37.0|21457.0|  AAPL|03783310|2019-01-31|\n",
      "|       04:01|04:01:00.000000000|      166.22|        100|      166.95|        100|04:01:07.997355535|         166.41|            20|04:01:00.000000000|      166.22|        100|04:01:02.051558750|      166.98|        200|04:01:07.997355535|        166.41|           20|04:01:00.272935633|     166.21|       100|04:01:00.000000000|     166.95|       100|04:01:07.997355535|       166.41|          20|04:01:59.999999999|       166.21|         100|       166.98|        1200|04:01:29.251091672|        166.41|          450|     0.73|     0.77|      null|           166.41|           126|         0|          470|         0|            0|         0|                   0|   470|          2|          0|                  null|          20|             0|               450|                   0|                0|              -19.0|                      -0.25|    166.21191|    166.97897|2019-01-31 04:01:00|  AAPL|2019-01-31|3.606853020738931...|                 166.78|     86072|001690|14593.0|2018-09-30 00:00:00|2018-09-30 00:00:00|2019-01-31 00:00:00|15.920835440634756|107573.0|0.10021795052905763|14.563520378103357|13.553745928338767|13.676253081347575|13.974811083123427|13.974811083123427|2.9575451170373497|10.135227609472764|0.2307201290084158|0.22434136396353616|0.3073760452820519|0.2662883113065696|0.4239765751302952|0.2747334742744734|0.2654290979390185|0.22013537657682944|0.4359265388614696|0.2998237005072588|0.18342180705869446|0.4936358284202758|0.2388928215315994|0.4936358284202758|1.203874232266528|0.421773295808948|0.3076245813110944|0.5333827819316813|0.4666172180683187|0.5699017333559004|0.4666172180683187|0.03393700704926103|0.028153960454112958|0.2564061907818917|0.030120527794486027|0.37304227990162864|0.31303028231594776|1.4035799668975664|0.1812321480045072|0.4519564696145844|0.3625018369698892|0.697936097752982|0.662587921208906|0.29946089767884354|0.8280729395356046|6.260362192523727|0.8713617729355879|0.7070285050242668|0.6139097283779791|2.4133013523477094|19.373765432098764|21.809259259259264|0.5673249704790101|1.0899919565998666|1.1238426916297295|           null|34.695948246510035|0.7161760975056811|6.268224122454765|2.896099564500605|1.3209695243974071|2.476588238588108|18.33476127962413|0.053648076756394165|     0.0|       0.0|0.04831831848041412|0.05515402927994728|     45|Information Techn...|  0.0|784811.2147119141|166.44000244140625|7.295615207458322|1.384721469295607|0.0175438593917827|    HITEC| 3.0|     HITEC|  5.0|     BUSEQ|  6.0|     OTHER| 17.0|     BUSEQ| 23.0|     ELCTR| 22.0|     CHIPS| 36.0|     CHIPS| 37.0|21457.0|  AAPL|03783310|2019-01-31|\n",
      "|       04:02|04:02:00.000000000|      166.21|        100|      166.98|       1200|04:02:07.092574587|         166.78|             5|04:02:01.016622266|      166.22|        200|04:02:00.000000000|      166.98|       1200|04:02:07.092574587|        166.78|            5|04:02:00.000000000|     166.21|       100|04:02:36.196205167|     166.96|       100|04:02:07.092574587|       166.78|           5|04:02:59.999999999|       166.22|         400|       166.96|         100|04:02:33.026843025|        166.78|            5|     0.74|     0.77|      null|           166.78|            12|         0|            0|         0|           10|         0|                   0|    10|          2|          0|                  null|           5|             0|                 5|                   0|                0|               18.0|                    0.23684|    166.21983|    166.97207|2019-01-31 04:02:00|  AAPL|2019-01-31|0.002223424073072522|                 166.41|     86072|001690|14593.0|2018-09-30 00:00:00|2018-09-30 00:00:00|2019-01-31 00:00:00|15.920835440634756|107573.0|0.10021795052905763|14.563520378103357|13.553745928338767|13.676253081347575|13.974811083123427|13.974811083123427|2.9575451170373497|10.135227609472764|0.2307201290084158|0.22434136396353616|0.3073760452820519|0.2662883113065696|0.4239765751302952|0.2747334742744734|0.2654290979390185|0.22013537657682944|0.4359265388614696|0.2998237005072588|0.18342180705869446|0.4936358284202758|0.2388928215315994|0.4936358284202758|1.203874232266528|0.421773295808948|0.3076245813110944|0.5333827819316813|0.4666172180683187|0.5699017333559004|0.4666172180683187|0.03393700704926103|0.028153960454112958|0.2564061907818917|0.030120527794486027|0.37304227990162864|0.31303028231594776|1.4035799668975664|0.1812321480045072|0.4519564696145844|0.3625018369698892|0.697936097752982|0.662587921208906|0.29946089767884354|0.8280729395356046|6.260362192523727|0.8713617729355879|0.7070285050242668|0.6139097283779791|2.4133013523477094|19.373765432098764|21.809259259259264|0.5673249704790101|1.0899919565998666|1.1238426916297295|           null|34.695948246510035|0.7161760975056811|6.268224122454765|2.896099564500605|1.3209695243974071|2.476588238588108|18.33476127962413|0.053648076756394165|     0.0|       0.0|0.04831831848041412|0.05515402927994728|     45|Information Techn...|  0.0|784811.2147119141|166.44000244140625|7.295615207458322|1.384721469295607|0.0175438593917827|    HITEC| 3.0|     HITEC|  5.0|     BUSEQ|  6.0|     OTHER| 17.0|     BUSEQ| 23.0|     ELCTR| 22.0|     CHIPS| 36.0|     CHIPS| 37.0|21457.0|  AAPL|03783310|2019-01-31|\n",
      "|       04:03|04:03:00.000000000|      166.22|        400|      166.96|        100|04:03:57.943770734|         166.41|            30|04:03:00.000000000|      166.22|        400|04:03:16.010239327|      166.97|        100|04:03:57.943770734|        166.41|           30|04:03:00.000000000|     166.22|       400|04:03:36.915985159|     166.88|      1000|04:03:57.943770734|       166.41|          30|04:03:59.999999999|       166.22|         300|       166.88|        1000|04:03:57.943770734|        166.41|           30|     0.66|     0.75|      null|           166.41|            20|         0|           30|         0|            0|         0|                   0|    30|          1|          0|                  null|           0|            30|                 0|                   0|                0|              -14.0|                   -0.21212|       166.22|    166.91888|2019-01-31 04:03:00|  AAPL|2019-01-31|-0.00221849142583...|                 166.62|     86072|001690|14593.0|2018-09-30 00:00:00|2018-09-30 00:00:00|2019-01-31 00:00:00|15.920835440634756|107573.0|0.10021795052905763|14.563520378103357|13.553745928338767|13.676253081347575|13.974811083123427|13.974811083123427|2.9575451170373497|10.135227609472764|0.2307201290084158|0.22434136396353616|0.3073760452820519|0.2662883113065696|0.4239765751302952|0.2747334742744734|0.2654290979390185|0.22013537657682944|0.4359265388614696|0.2998237005072588|0.18342180705869446|0.4936358284202758|0.2388928215315994|0.4936358284202758|1.203874232266528|0.421773295808948|0.3076245813110944|0.5333827819316813|0.4666172180683187|0.5699017333559004|0.4666172180683187|0.03393700704926103|0.028153960454112958|0.2564061907818917|0.030120527794486027|0.37304227990162864|0.31303028231594776|1.4035799668975664|0.1812321480045072|0.4519564696145844|0.3625018369698892|0.697936097752982|0.662587921208906|0.29946089767884354|0.8280729395356046|6.260362192523727|0.8713617729355879|0.7070285050242668|0.6139097283779791|2.4133013523477094|19.373765432098764|21.809259259259264|0.5673249704790101|1.0899919565998666|1.1238426916297295|           null|34.695948246510035|0.7161760975056811|6.268224122454765|2.896099564500605|1.3209695243974071|2.476588238588108|18.33476127962413|0.053648076756394165|     0.0|       0.0|0.04831831848041412|0.05515402927994728|     45|Information Techn...|  0.0|784811.2147119141|166.44000244140625|7.295615207458322|1.384721469295607|0.0175438593917827|    HITEC| 3.0|     HITEC|  5.0|     BUSEQ|  6.0|     OTHER| 17.0|     BUSEQ| 23.0|     ELCTR| 22.0|     CHIPS| 36.0|     CHIPS| 37.0|21457.0|  AAPL|03783310|2019-01-31|\n",
      "|       04:04|04:04:00.000000000|      166.22|        300|      166.88|       1000|04:04:38.380804376|         166.62|            10|04:04:00.000000000|      166.22|        300|04:04:00.000000000|      166.88|       1000|04:04:38.380804376|        166.62|           10|04:04:00.000000000|     166.22|       300|04:04:00.000000000|     166.88|      1000|04:04:38.380804376|       166.62|          10|04:04:59.999999999|       166.22|         200|       166.88|        1000|04:04:38.380804376|        166.62|           10|     0.66|     0.66|      null|           166.62|             6|         0|            0|         0|           10|         0|                   0|    10|          1|          0|                  null|          10|             0|                 0|                   0|                0|                7.0|                    0.10606|       166.22|       166.88|2019-01-31 04:04:00|  AAPL|2019-01-31|0.001261943392824...|                 166.31|     86072|001690|14593.0|2018-09-30 00:00:00|2018-09-30 00:00:00|2019-01-31 00:00:00|15.920835440634756|107573.0|0.10021795052905763|14.563520378103357|13.553745928338767|13.676253081347575|13.974811083123427|13.974811083123427|2.9575451170373497|10.135227609472764|0.2307201290084158|0.22434136396353616|0.3073760452820519|0.2662883113065696|0.4239765751302952|0.2747334742744734|0.2654290979390185|0.22013537657682944|0.4359265388614696|0.2998237005072588|0.18342180705869446|0.4936358284202758|0.2388928215315994|0.4936358284202758|1.203874232266528|0.421773295808948|0.3076245813110944|0.5333827819316813|0.4666172180683187|0.5699017333559004|0.4666172180683187|0.03393700704926103|0.028153960454112958|0.2564061907818917|0.030120527794486027|0.37304227990162864|0.31303028231594776|1.4035799668975664|0.1812321480045072|0.4519564696145844|0.3625018369698892|0.697936097752982|0.662587921208906|0.29946089767884354|0.8280729395356046|6.260362192523727|0.8713617729355879|0.7070285050242668|0.6139097283779791|2.4133013523477094|19.373765432098764|21.809259259259264|0.5673249704790101|1.0899919565998666|1.1238426916297295|           null|34.695948246510035|0.7161760975056811|6.268224122454765|2.896099564500605|1.3209695243974071|2.476588238588108|18.33476127962413|0.053648076756394165|     0.0|       0.0|0.04831831848041412|0.05515402927994728|     45|Information Techn...|  0.0|784811.2147119141|166.44000244140625|7.295615207458322|1.384721469295607|0.0175438593917827|    HITEC| 3.0|     HITEC|  5.0|     BUSEQ|  6.0|     OTHER| 17.0|     BUSEQ| 23.0|     ELCTR| 22.0|     CHIPS| 36.0|     CHIPS| 37.0|21457.0|  AAPL|03783310|2019-01-31|\n",
      "|       04:05|04:05:00.000000000|      166.22|        200|      166.88|       1000|04:05:41.765710090|         166.31|           100|04:05:41.929173802|      166.32|        100|04:05:00.000000000|      166.88|       1000|04:05:41.765835730|        166.36|           60|04:05:00.000000000|     166.22|       200|04:05:52.594212818|      166.3|       100|04:05:41.769802837|        166.3|         100|04:05:59.999999999|       166.22|         200|       166.88|        1000|04:05:52.898170113|         166.3|           70|     0.07|     0.66|      null|        166.30564|            64|       440|           96|         0|            0|       414|                   0|   950|         13|          0|                  null|          60|           200|                 0|                 690|                0|          -14.14316|                    -0.0536|     166.2242|    166.85875|2019-01-31 04:05:00|  AAPL|2019-01-31|-0.00186052094586...|                  166.4|     86072|001690|14593.0|2018-09-30 00:00:00|2018-09-30 00:00:00|2019-01-31 00:00:00|15.920835440634756|107573.0|0.10021795052905763|14.563520378103357|13.553745928338767|13.676253081347575|13.974811083123427|13.974811083123427|2.9575451170373497|10.135227609472764|0.2307201290084158|0.22434136396353616|0.3073760452820519|0.2662883113065696|0.4239765751302952|0.2747334742744734|0.2654290979390185|0.22013537657682944|0.4359265388614696|0.2998237005072588|0.18342180705869446|0.4936358284202758|0.2388928215315994|0.4936358284202758|1.203874232266528|0.421773295808948|0.3076245813110944|0.5333827819316813|0.4666172180683187|0.5699017333559004|0.4666172180683187|0.03393700704926103|0.028153960454112958|0.2564061907818917|0.030120527794486027|0.37304227990162864|0.31303028231594776|1.4035799668975664|0.1812321480045072|0.4519564696145844|0.3625018369698892|0.697936097752982|0.662587921208906|0.29946089767884354|0.8280729395356046|6.260362192523727|0.8713617729355879|0.7070285050242668|0.6139097283779791|2.4133013523477094|19.373765432098764|21.809259259259264|0.5673249704790101|1.0899919565998666|1.1238426916297295|           null|34.695948246510035|0.7161760975056811|6.268224122454765|2.896099564500605|1.3209695243974071|2.476588238588108|18.33476127962413|0.053648076756394165|     0.0|       0.0|0.04831831848041412|0.05515402927994728|     45|Information Techn...|  0.0|784811.2147119141|166.44000244140625|7.295615207458322|1.384721469295607|0.0175438593917827|    HITEC| 3.0|     HITEC|  5.0|     BUSEQ|  6.0|     OTHER| 17.0|     BUSEQ| 23.0|     ELCTR| 22.0|     CHIPS| 36.0|     CHIPS| 37.0|21457.0|  AAPL|03783310|2019-01-31|\n",
      "|       04:06|04:06:00.000000000|      166.22|        200|      166.88|       1000|04:06:56.887060377|          166.4|            36|04:06:00.000000000|      166.22|        200|04:06:00.000000000|      166.88|       1000|04:06:56.887060377|         166.4|           36|04:06:00.000000000|     166.22|       200|04:06:01.664992339|      166.4|       100|04:06:56.887060377|        166.4|          36|04:06:59.999999999|       166.22|         200|        166.4|         100|04:06:56.887060377|         166.4|           36|     0.18|     0.66|      null|            166.4|             2|         0|            0|         0|            0|        36|                   0|    36|          1|          0|                  null|          36|             0|                 0|                   0|                0|                9.0|                        0.5|       166.22|    166.41332|2019-01-31 04:06:00|  AAPL|2019-01-31|5.411580782874736E-4|                 166.22|     86072|001690|14593.0|2018-09-30 00:00:00|2018-09-30 00:00:00|2019-01-31 00:00:00|15.920835440634756|107573.0|0.10021795052905763|14.563520378103357|13.553745928338767|13.676253081347575|13.974811083123427|13.974811083123427|2.9575451170373497|10.135227609472764|0.2307201290084158|0.22434136396353616|0.3073760452820519|0.2662883113065696|0.4239765751302952|0.2747334742744734|0.2654290979390185|0.22013537657682944|0.4359265388614696|0.2998237005072588|0.18342180705869446|0.4936358284202758|0.2388928215315994|0.4936358284202758|1.203874232266528|0.421773295808948|0.3076245813110944|0.5333827819316813|0.4666172180683187|0.5699017333559004|0.4666172180683187|0.03393700704926103|0.028153960454112958|0.2564061907818917|0.030120527794486027|0.37304227990162864|0.31303028231594776|1.4035799668975664|0.1812321480045072|0.4519564696145844|0.3625018369698892|0.697936097752982|0.662587921208906|0.29946089767884354|0.8280729395356046|6.260362192523727|0.8713617729355879|0.7070285050242668|0.6139097283779791|2.4133013523477094|19.373765432098764|21.809259259259264|0.5673249704790101|1.0899919565998666|1.1238426916297295|           null|34.695948246510035|0.7161760975056811|6.268224122454765|2.896099564500605|1.3209695243974071|2.476588238588108|18.33476127962413|0.053648076756394165|     0.0|       0.0|0.04831831848041412|0.05515402927994728|     45|Information Techn...|  0.0|784811.2147119141|166.44000244140625|7.295615207458322|1.384721469295607|0.0175438593917827|    HITEC| 3.0|     HITEC|  5.0|     BUSEQ|  6.0|     OTHER| 17.0|     BUSEQ| 23.0|     ELCTR| 22.0|     CHIPS| 36.0|     CHIPS| 37.0|21457.0|  AAPL|03783310|2019-01-31|\n",
      "|       04:07|04:07:00.000000000|      166.22|        200|       166.4|        100|04:07:59.958799409|         166.22|           200|04:07:00.000000000|      166.22|        200|04:07:00.000000000|       166.4|        100|04:07:59.958799409|        166.22|          200|04:07:00.000000000|     166.22|       200|04:07:00.000000000|      166.4|       100|04:07:59.958799409|       166.22|         200|04:07:59.999999999|       166.22|         200|        166.4|         100|04:07:59.958806269|        166.22|          250|     0.18|     0.18|      null|           166.22|             0|       450|            0|         0|            0|         0|                   0|   450|          2|          0|                  null|           0|           200|                 0|                 250|                0|               -9.0|                       -0.5|       166.22|        166.4|2019-01-31 04:07:00|  AAPL|2019-01-31|-0.00108173076923...|                 166.22|     86072|001690|14593.0|2018-09-30 00:00:00|2018-09-30 00:00:00|2019-01-31 00:00:00|15.920835440634756|107573.0|0.10021795052905763|14.563520378103357|13.553745928338767|13.676253081347575|13.974811083123427|13.974811083123427|2.9575451170373497|10.135227609472764|0.2307201290084158|0.22434136396353616|0.3073760452820519|0.2662883113065696|0.4239765751302952|0.2747334742744734|0.2654290979390185|0.22013537657682944|0.4359265388614696|0.2998237005072588|0.18342180705869446|0.4936358284202758|0.2388928215315994|0.4936358284202758|1.203874232266528|0.421773295808948|0.3076245813110944|0.5333827819316813|0.4666172180683187|0.5699017333559004|0.4666172180683187|0.03393700704926103|0.028153960454112958|0.2564061907818917|0.030120527794486027|0.37304227990162864|0.31303028231594776|1.4035799668975664|0.1812321480045072|0.4519564696145844|0.3625018369698892|0.697936097752982|0.662587921208906|0.29946089767884354|0.8280729395356046|6.260362192523727|0.8713617729355879|0.7070285050242668|0.6139097283779791|2.4133013523477094|19.373765432098764|21.809259259259264|0.5673249704790101|1.0899919565998666|1.1238426916297295|           null|34.695948246510035|0.7161760975056811|6.268224122454765|2.896099564500605|1.3209695243974071|2.476588238588108|18.33476127962413|0.053648076756394165|     0.0|       0.0|0.04831831848041412|0.05515402927994728|     45|Information Techn...|  0.0|784811.2147119141|166.44000244140625|7.295615207458322|1.384721469295607|0.0175438593917827|    HITEC| 3.0|     HITEC|  5.0|     BUSEQ|  6.0|     OTHER| 17.0|     BUSEQ| 23.0|     ELCTR| 22.0|     CHIPS| 36.0|     CHIPS| 37.0|21457.0|  AAPL|03783310|2019-01-31|\n",
      "|       04:08|04:08:00.000000000|      166.22|        200|       166.4|        100|04:08:05.527630582|         166.22|           200|04:08:00.000000000|      166.22|        200|04:08:31.406432387|      166.76|        100|04:08:31.333426882|         166.4|           64|04:08:05.527649633|     166.02|       500|04:08:05.541430707|     166.22|       100|04:08:19.234832368|        166.2|           5|04:08:59.999999999|       166.02|         500|        166.7|         100|04:08:31.334043069|        166.35|         2899|     0.18|     0.74|      null|        166.34577|            24|       361|           25|         0|         3026|      1101|                   0|  4513|         14|          0|                  null|        3090|            10|               905|                 508|                0|            6.60536|                     0.1365|    166.03843|    166.54993|2019-01-31 04:08:00|  AAPL|2019-01-31|                 0.0|                  166.5|     86072|001690|14593.0|2018-09-30 00:00:00|2018-09-30 00:00:00|2019-01-31 00:00:00|15.920835440634756|107573.0|0.10021795052905763|14.563520378103357|13.553745928338767|13.676253081347575|13.974811083123427|13.974811083123427|2.9575451170373497|10.135227609472764|0.2307201290084158|0.22434136396353616|0.3073760452820519|0.2662883113065696|0.4239765751302952|0.2747334742744734|0.2654290979390185|0.22013537657682944|0.4359265388614696|0.2998237005072588|0.18342180705869446|0.4936358284202758|0.2388928215315994|0.4936358284202758|1.203874232266528|0.421773295808948|0.3076245813110944|0.5333827819316813|0.4666172180683187|0.5699017333559004|0.4666172180683187|0.03393700704926103|0.028153960454112958|0.2564061907818917|0.030120527794486027|0.37304227990162864|0.31303028231594776|1.4035799668975664|0.1812321480045072|0.4519564696145844|0.3625018369698892|0.697936097752982|0.662587921208906|0.29946089767884354|0.8280729395356046|6.260362192523727|0.8713617729355879|0.7070285050242668|0.6139097283779791|2.4133013523477094|19.373765432098764|21.809259259259264|0.5673249704790101|1.0899919565998666|1.1238426916297295|           null|34.695948246510035|0.7161760975056811|6.268224122454765|2.896099564500605|1.3209695243974071|2.476588238588108|18.33476127962413|0.053648076756394165|     0.0|       0.0|0.04831831848041412|0.05515402927994728|     45|Information Techn...|  0.0|784811.2147119141|166.44000244140625|7.295615207458322|1.384721469295607|0.0175438593917827|    HITEC| 3.0|     HITEC|  5.0|     BUSEQ|  6.0|     OTHER| 17.0|     BUSEQ| 23.0|     ELCTR| 22.0|     CHIPS| 36.0|     CHIPS| 37.0|21457.0|  AAPL|03783310|2019-01-31|\n",
      "|       04:09|04:09:00.000000000|      166.02|        500|       166.7|        100|04:09:53.808991405|          166.5|            50|04:09:00.000000000|      166.02|        500|04:09:00.000000000|       166.7|        100|04:09:53.808991405|         166.5|           50|04:09:00.000000000|     166.02|       500|04:09:35.779781415|      166.5|       100|04:09:53.808991405|        166.5|          50|04:09:59.999999999|       166.02|         500|        166.5|         100|04:09:53.808991405|         166.5|           50|     0.48|     0.68|      null|            166.5|             4|         0|            0|         0|            0|        50|                   0|    50|          1|          0|                  null|          50|             0|                 0|                   0|                0|               24.0|                        0.5|       166.02|    166.61109|2019-01-31 04:09:00|  AAPL|2019-01-31|0.001684514498856...|                 166.48|     86072|001690|14593.0|2018-09-30 00:00:00|2018-09-30 00:00:00|2019-01-31 00:00:00|15.920835440634756|107573.0|0.10021795052905763|14.563520378103357|13.553745928338767|13.676253081347575|13.974811083123427|13.974811083123427|2.9575451170373497|10.135227609472764|0.2307201290084158|0.22434136396353616|0.3073760452820519|0.2662883113065696|0.4239765751302952|0.2747334742744734|0.2654290979390185|0.22013537657682944|0.4359265388614696|0.2998237005072588|0.18342180705869446|0.4936358284202758|0.2388928215315994|0.4936358284202758|1.203874232266528|0.421773295808948|0.3076245813110944|0.5333827819316813|0.4666172180683187|0.5699017333559004|0.4666172180683187|0.03393700704926103|0.028153960454112958|0.2564061907818917|0.030120527794486027|0.37304227990162864|0.31303028231594776|1.4035799668975664|0.1812321480045072|0.4519564696145844|0.3625018369698892|0.697936097752982|0.662587921208906|0.29946089767884354|0.8280729395356046|6.260362192523727|0.8713617729355879|0.7070285050242668|0.6139097283779791|2.4133013523477094|19.373765432098764|21.809259259259264|0.5673249704790101|1.0899919565998666|1.1238426916297295|           null|34.695948246510035|0.7161760975056811|6.268224122454765|2.896099564500605|1.3209695243974071|2.476588238588108|18.33476127962413|0.053648076756394165|     0.0|       0.0|0.04831831848041412|0.05515402927994728|     45|Information Techn...|  0.0|784811.2147119141|166.44000244140625|7.295615207458322|1.384721469295607|0.0175438593917827|    HITEC| 3.0|     HITEC|  5.0|     BUSEQ|  6.0|     OTHER| 17.0|     BUSEQ| 23.0|     ELCTR| 22.0|     CHIPS| 36.0|     CHIPS| 37.0|21457.0|  AAPL|03783310|2019-01-31|\n",
      "|       04:10|04:10:00.000000000|      166.02|        500|       166.5|        100|04:10:56.173610626|         166.48|            25|04:10:53.983654908|      166.27|        200|04:10:00.000000000|       166.5|        100|04:10:56.173610626|        166.48|           25|04:10:00.000000000|     166.02|       500|04:10:00.000000000|      166.5|       100|04:10:57.848099882|       166.27|         100|04:10:59.999999999|       166.02|         500|        166.5|         100|04:10:57.968444685|        166.27|          100|     0.23|     0.48|      null|        166.29333|             6|       200|            0|         0|           25|         0|                   0|   225|          3|          0|                  null|           0|           125|                 0|                 100|                0|           -9.16667|                   -0.39855|     166.0366|        166.5|2019-01-31 04:10:00|  AAPL|2019-01-31|-1.20120120120192...|                   null|     86072|001690|14593.0|2018-09-30 00:00:00|2018-09-30 00:00:00|2019-01-31 00:00:00|15.920835440634756|107573.0|0.10021795052905763|14.563520378103357|13.553745928338767|13.676253081347575|13.974811083123427|13.974811083123427|2.9575451170373497|10.135227609472764|0.2307201290084158|0.22434136396353616|0.3073760452820519|0.2662883113065696|0.4239765751302952|0.2747334742744734|0.2654290979390185|0.22013537657682944|0.4359265388614696|0.2998237005072588|0.18342180705869446|0.4936358284202758|0.2388928215315994|0.4936358284202758|1.203874232266528|0.421773295808948|0.3076245813110944|0.5333827819316813|0.4666172180683187|0.5699017333559004|0.4666172180683187|0.03393700704926103|0.028153960454112958|0.2564061907818917|0.030120527794486027|0.37304227990162864|0.31303028231594776|1.4035799668975664|0.1812321480045072|0.4519564696145844|0.3625018369698892|0.697936097752982|0.662587921208906|0.29946089767884354|0.8280729395356046|6.260362192523727|0.8713617729355879|0.7070285050242668|0.6139097283779791|2.4133013523477094|19.373765432098764|21.809259259259264|0.5673249704790101|1.0899919565998666|1.1238426916297295|           null|34.695948246510035|0.7161760975056811|6.268224122454765|2.896099564500605|1.3209695243974071|2.476588238588108|18.33476127962413|0.053648076756394165|     0.0|       0.0|0.04831831848041412|0.05515402927994728|     45|Information Techn...|  0.0|784811.2147119141|166.44000244140625|7.295615207458322|1.384721469295607|0.0175438593917827|    HITEC| 3.0|     HITEC|  5.0|     BUSEQ|  6.0|     OTHER| 17.0|     BUSEQ| 23.0|     ELCTR| 22.0|     CHIPS| 36.0|     CHIPS| 37.0|21457.0|  AAPL|03783310|2019-01-31|\n",
      "|       04:11|04:11:00.000000000|      166.02|        500|       166.5|        100|              null|           null|          null|04:11:00.000000000|      166.02|        500|04:11:00.000000000|       166.5|        100|              null|          null|         null|04:11:00.000000000|     166.02|       500|04:11:30.120703735|     166.25|       100|              null|         null|        null|04:11:59.999999999|       166.02|         500|       166.25|         100|              null|          null|         null|     0.23|     0.48|      null|             null|             4|         0|            0|         0|            0|         0|                   0|     0|          0|          0|                  null|           0|             0|                 0|                   0|                0|               null|                       null|       166.02|    166.33406|2019-01-31 04:11:00|  AAPL|2019-01-31|                null|                   null|     86072|001690|14593.0|2018-09-30 00:00:00|2018-09-30 00:00:00|2019-01-31 00:00:00|15.920835440634756|107573.0|0.10021795052905763|14.563520378103357|13.553745928338767|13.676253081347575|13.974811083123427|13.974811083123427|2.9575451170373497|10.135227609472764|0.2307201290084158|0.22434136396353616|0.3073760452820519|0.2662883113065696|0.4239765751302952|0.2747334742744734|0.2654290979390185|0.22013537657682944|0.4359265388614696|0.2998237005072588|0.18342180705869446|0.4936358284202758|0.2388928215315994|0.4936358284202758|1.203874232266528|0.421773295808948|0.3076245813110944|0.5333827819316813|0.4666172180683187|0.5699017333559004|0.4666172180683187|0.03393700704926103|0.028153960454112958|0.2564061907818917|0.030120527794486027|0.37304227990162864|0.31303028231594776|1.4035799668975664|0.1812321480045072|0.4519564696145844|0.3625018369698892|0.697936097752982|0.662587921208906|0.29946089767884354|0.8280729395356046|6.260362192523727|0.8713617729355879|0.7070285050242668|0.6139097283779791|2.4133013523477094|19.373765432098764|21.809259259259264|0.5673249704790101|1.0899919565998666|1.1238426916297295|           null|34.695948246510035|0.7161760975056811|6.268224122454765|2.896099564500605|1.3209695243974071|2.476588238588108|18.33476127962413|0.053648076756394165|     0.0|       0.0|0.04831831848041412|0.05515402927994728|     45|Information Techn...|  0.0|784811.2147119141|166.44000244140625|7.295615207458322|1.384721469295607|0.0175438593917827|    HITEC| 3.0|     HITEC|  5.0|     BUSEQ|  6.0|     OTHER| 17.0|     BUSEQ| 23.0|     ELCTR| 22.0|     CHIPS| 36.0|     CHIPS| 37.0|21457.0|  AAPL|03783310|2019-01-31|\n",
      "|       04:12|04:12:00.000000000|      166.02|        500|      166.25|        100|              null|           null|          null|04:12:00.000000000|      166.02|        500|04:12:00.000000000|      166.25|        100|              null|          null|         null|04:12:00.000000000|     166.02|       500|04:12:00.000000000|     166.25|       100|              null|         null|        null|04:12:59.999999999|       166.02|         500|       166.25|         100|              null|          null|         null|     0.23|     0.23|      null|             null|             0|         0|            0|         0|            0|         0|                   0|     0|          0|          0|                  null|           0|             0|                 0|                   0|                0|               null|                       null|       166.02|       166.25|2019-01-31 04:12:00|  AAPL|2019-01-31|                null|                 166.25|     86072|001690|14593.0|2018-09-30 00:00:00|2018-09-30 00:00:00|2019-01-31 00:00:00|15.920835440634756|107573.0|0.10021795052905763|14.563520378103357|13.553745928338767|13.676253081347575|13.974811083123427|13.974811083123427|2.9575451170373497|10.135227609472764|0.2307201290084158|0.22434136396353616|0.3073760452820519|0.2662883113065696|0.4239765751302952|0.2747334742744734|0.2654290979390185|0.22013537657682944|0.4359265388614696|0.2998237005072588|0.18342180705869446|0.4936358284202758|0.2388928215315994|0.4936358284202758|1.203874232266528|0.421773295808948|0.3076245813110944|0.5333827819316813|0.4666172180683187|0.5699017333559004|0.4666172180683187|0.03393700704926103|0.028153960454112958|0.2564061907818917|0.030120527794486027|0.37304227990162864|0.31303028231594776|1.4035799668975664|0.1812321480045072|0.4519564696145844|0.3625018369698892|0.697936097752982|0.662587921208906|0.29946089767884354|0.8280729395356046|6.260362192523727|0.8713617729355879|0.7070285050242668|0.6139097283779791|2.4133013523477094|19.373765432098764|21.809259259259264|0.5673249704790101|1.0899919565998666|1.1238426916297295|           null|34.695948246510035|0.7161760975056811|6.268224122454765|2.896099564500605|1.3209695243974071|2.476588238588108|18.33476127962413|0.053648076756394165|     0.0|       0.0|0.04831831848041412|0.05515402927994728|     45|Information Techn...|  0.0|784811.2147119141|166.44000244140625|7.295615207458322|1.384721469295607|0.0175438593917827|    HITEC| 3.0|     HITEC|  5.0|     BUSEQ|  6.0|     OTHER| 17.0|     BUSEQ| 23.0|     ELCTR| 22.0|     CHIPS| 36.0|     CHIPS| 37.0|21457.0|  AAPL|03783310|2019-01-31|\n",
      "|       04:13|04:13:00.000000000|      166.02|        500|      166.25|        100|04:13:38.941684835|         166.25|             1|04:13:47.533864269|      166.03|        100|04:13:39.894663302|       166.4|        100|04:13:38.941684835|        166.25|            1|04:13:00.000000000|     166.02|       500|04:13:00.000000000|     166.25|       100|04:13:38.941692897|       166.06|          49|04:13:59.999999999|       166.03|         100|        166.4|         100|04:13:39.894668123|        166.25|           30|     0.23|     0.38|      null|        166.13362|            48|         0|           49|         0|           30|         1|                   0|    80|          3|          0|                  null|          30|            50|                 0|                   0|                0|              -2.95|                     -0.154|    166.02065|    166.30026|2019-01-31 04:13:00|  AAPL|2019-01-31|                null|                 166.22|     86072|001690|14593.0|2018-09-30 00:00:00|2018-09-30 00:00:00|2019-01-31 00:00:00|15.920835440634756|107573.0|0.10021795052905763|14.563520378103357|13.553745928338767|13.676253081347575|13.974811083123427|13.974811083123427|2.9575451170373497|10.135227609472764|0.2307201290084158|0.22434136396353616|0.3073760452820519|0.2662883113065696|0.4239765751302952|0.2747334742744734|0.2654290979390185|0.22013537657682944|0.4359265388614696|0.2998237005072588|0.18342180705869446|0.4936358284202758|0.2388928215315994|0.4936358284202758|1.203874232266528|0.421773295808948|0.3076245813110944|0.5333827819316813|0.4666172180683187|0.5699017333559004|0.4666172180683187|0.03393700704926103|0.028153960454112958|0.2564061907818917|0.030120527794486027|0.37304227990162864|0.31303028231594776|1.4035799668975664|0.1812321480045072|0.4519564696145844|0.3625018369698892|0.697936097752982|0.662587921208906|0.29946089767884354|0.8280729395356046|6.260362192523727|0.8713617729355879|0.7070285050242668|0.6139097283779791|2.4133013523477094|19.373765432098764|21.809259259259264|0.5673249704790101|1.0899919565998666|1.1238426916297295|           null|34.695948246510035|0.7161760975056811|6.268224122454765|2.896099564500605|1.3209695243974071|2.476588238588108|18.33476127962413|0.053648076756394165|     0.0|       0.0|0.04831831848041412|0.05515402927994728|     45|Information Techn...|  0.0|784811.2147119141|166.44000244140625|7.295615207458322|1.384721469295607|0.0175438593917827|    HITEC| 3.0|     HITEC|  5.0|     BUSEQ|  6.0|     OTHER| 17.0|     BUSEQ| 23.0|     ELCTR| 22.0|     CHIPS| 36.0|     CHIPS| 37.0|21457.0|  AAPL|03783310|2019-01-31|\n",
      "|       04:14|04:14:00.000000000|      166.03|        100|       166.4|        100|04:14:14.911648636|         166.22|            10|04:14:00.000000000|      166.03|        100|04:14:24.788468974|       166.5|        200|04:14:15.187456030|        166.25|           10|04:14:00.271424754|     166.02|       500|04:14:21.147642179|     166.39|       100|04:14:14.911648636|       166.22|          10|04:14:59.999999999|       166.02|         500|        166.5|         200|04:14:21.033571064|        166.25|            2|     0.37|     0.48|      null|        166.24625|           100|         0|            0|         0|           80|         0|                   0|    80|          8|          0|                  null|          10|            10|                60|                   0|                0|             3.5625|                    0.09406|    166.02097|    166.45788|2019-01-31 04:14:00|  AAPL|2019-01-31|-1.80451127819503...|                 166.37|     86072|001690|14593.0|2018-09-30 00:00:00|2018-09-30 00:00:00|2019-01-31 00:00:00|15.920835440634756|107573.0|0.10021795052905763|14.563520378103357|13.553745928338767|13.676253081347575|13.974811083123427|13.974811083123427|2.9575451170373497|10.135227609472764|0.2307201290084158|0.22434136396353616|0.3073760452820519|0.2662883113065696|0.4239765751302952|0.2747334742744734|0.2654290979390185|0.22013537657682944|0.4359265388614696|0.2998237005072588|0.18342180705869446|0.4936358284202758|0.2388928215315994|0.4936358284202758|1.203874232266528|0.421773295808948|0.3076245813110944|0.5333827819316813|0.4666172180683187|0.5699017333559004|0.4666172180683187|0.03393700704926103|0.028153960454112958|0.2564061907818917|0.030120527794486027|0.37304227990162864|0.31303028231594776|1.4035799668975664|0.1812321480045072|0.4519564696145844|0.3625018369698892|0.697936097752982|0.662587921208906|0.29946089767884354|0.8280729395356046|6.260362192523727|0.8713617729355879|0.7070285050242668|0.6139097283779791|2.4133013523477094|19.373765432098764|21.809259259259264|0.5673249704790101|1.0899919565998666|1.1238426916297295|           null|34.695948246510035|0.7161760975056811|6.268224122454765|2.896099564500605|1.3209695243974071|2.476588238588108|18.33476127962413|0.053648076756394165|     0.0|       0.0|0.04831831848041412|0.05515402927994728|     45|Information Techn...|  0.0|784811.2147119141|166.44000244140625|7.295615207458322|1.384721469295607|0.0175438593917827|    HITEC| 3.0|     HITEC|  5.0|     BUSEQ|  6.0|     OTHER| 17.0|     BUSEQ| 23.0|     ELCTR| 22.0|     CHIPS| 36.0|     CHIPS| 37.0|21457.0|  AAPL|03783310|2019-01-31|\n",
      "|       04:15|04:15:00.000000000|      166.02|        500|       166.5|        200|04:15:09.066535893|         166.37|            30|04:15:03.393820395|      166.03|        100|04:15:00.000000000|       166.5|        200|04:15:09.066535893|        166.37|           30|04:15:00.000000000|     166.02|       500|04:15:00.000000000|      166.5|       200|04:15:09.066535893|       166.37|          30|04:15:59.999999999|       166.02|         500|        166.5|         200|04:15:09.066535893|        166.37|           30|     0.47|     0.48|      null|           166.37|            84|         0|            0|         0|           30|         0|                   0|    30|          1|          0|                  null|          30|             0|                 0|                   0|                0|               11.0|                    0.22917|    166.02127|        166.5|2019-01-31 04:15:00|  AAPL|2019-01-31|9.024184815304981E-4|                   null|     86072|001690|14593.0|2018-09-30 00:00:00|2018-09-30 00:00:00|2019-01-31 00:00:00|15.920835440634756|107573.0|0.10021795052905763|14.563520378103357|13.553745928338767|13.676253081347575|13.974811083123427|13.974811083123427|2.9575451170373497|10.135227609472764|0.2307201290084158|0.22434136396353616|0.3073760452820519|0.2662883113065696|0.4239765751302952|0.2747334742744734|0.2654290979390185|0.22013537657682944|0.4359265388614696|0.2998237005072588|0.18342180705869446|0.4936358284202758|0.2388928215315994|0.4936358284202758|1.203874232266528|0.421773295808948|0.3076245813110944|0.5333827819316813|0.4666172180683187|0.5699017333559004|0.4666172180683187|0.03393700704926103|0.028153960454112958|0.2564061907818917|0.030120527794486027|0.37304227990162864|0.31303028231594776|1.4035799668975664|0.1812321480045072|0.4519564696145844|0.3625018369698892|0.697936097752982|0.662587921208906|0.29946089767884354|0.8280729395356046|6.260362192523727|0.8713617729355879|0.7070285050242668|0.6139097283779791|2.4133013523477094|19.373765432098764|21.809259259259264|0.5673249704790101|1.0899919565998666|1.1238426916297295|           null|34.695948246510035|0.7161760975056811|6.268224122454765|2.896099564500605|1.3209695243974071|2.476588238588108|18.33476127962413|0.053648076756394165|     0.0|       0.0|0.04831831848041412|0.05515402927994728|     45|Information Techn...|  0.0|784811.2147119141|166.44000244140625|7.295615207458322|1.384721469295607|0.0175438593917827|    HITEC| 3.0|     HITEC|  5.0|     BUSEQ|  6.0|     OTHER| 17.0|     BUSEQ| 23.0|     ELCTR| 22.0|     CHIPS| 36.0|     CHIPS| 37.0|21457.0|  AAPL|03783310|2019-01-31|\n",
      "|       04:16|04:16:00.000000000|      166.02|        500|       166.5|        200|              null|           null|          null|04:16:00.000000000|      166.02|        500|04:16:00.000000000|       166.5|        200|              null|          null|         null|04:16:00.000000000|     166.02|       500|04:16:00.000000000|      166.5|       200|              null|         null|        null|04:16:59.999999999|       166.02|         500|        166.5|         200|              null|          null|         null|     0.48|     0.48|      null|             null|             0|         0|            0|         0|            0|         0|                   0|     0|          0|          0|                  null|           0|             0|                 0|                   0|                0|               null|                       null|       166.02|        166.5|2019-01-31 04:16:00|  AAPL|2019-01-31|                null|                   null|     86072|001690|14593.0|2018-09-30 00:00:00|2018-09-30 00:00:00|2019-01-31 00:00:00|15.920835440634756|107573.0|0.10021795052905763|14.563520378103357|13.553745928338767|13.676253081347575|13.974811083123427|13.974811083123427|2.9575451170373497|10.135227609472764|0.2307201290084158|0.22434136396353616|0.3073760452820519|0.2662883113065696|0.4239765751302952|0.2747334742744734|0.2654290979390185|0.22013537657682944|0.4359265388614696|0.2998237005072588|0.18342180705869446|0.4936358284202758|0.2388928215315994|0.4936358284202758|1.203874232266528|0.421773295808948|0.3076245813110944|0.5333827819316813|0.4666172180683187|0.5699017333559004|0.4666172180683187|0.03393700704926103|0.028153960454112958|0.2564061907818917|0.030120527794486027|0.37304227990162864|0.31303028231594776|1.4035799668975664|0.1812321480045072|0.4519564696145844|0.3625018369698892|0.697936097752982|0.662587921208906|0.29946089767884354|0.8280729395356046|6.260362192523727|0.8713617729355879|0.7070285050242668|0.6139097283779791|2.4133013523477094|19.373765432098764|21.809259259259264|0.5673249704790101|1.0899919565998666|1.1238426916297295|           null|34.695948246510035|0.7161760975056811|6.268224122454765|2.896099564500605|1.3209695243974071|2.476588238588108|18.33476127962413|0.053648076756394165|     0.0|       0.0|0.04831831848041412|0.05515402927994728|     45|Information Techn...|  0.0|784811.2147119141|166.44000244140625|7.295615207458322|1.384721469295607|0.0175438593917827|    HITEC| 3.0|     HITEC|  5.0|     BUSEQ|  6.0|     OTHER| 17.0|     BUSEQ| 23.0|     ELCTR| 22.0|     CHIPS| 36.0|     CHIPS| 37.0|21457.0|  AAPL|03783310|2019-01-31|\n",
      "|       04:17|04:17:00.000000000|      166.02|        500|       166.5|        200|              null|           null|          null|04:17:04.042098006|      166.03|        100|04:17:00.000000000|       166.5|        200|              null|          null|         null|04:17:00.000000000|     166.02|       500|04:17:00.000000000|      166.5|       200|              null|         null|        null|04:17:59.999999999|       166.03|         100|        166.5|         200|              null|          null|         null|     0.47|     0.48|      null|             null|           222|         0|            0|         0|            0|         0|                   0|     0|          0|          0|                  null|           0|             0|                 0|                   0|                0|               null|                       null|    166.02339|        166.5|2019-01-31 04:17:00|  AAPL|2019-01-31|                null|                   null|     86072|001690|14593.0|2018-09-30 00:00:00|2018-09-30 00:00:00|2019-01-31 00:00:00|15.920835440634756|107573.0|0.10021795052905763|14.563520378103357|13.553745928338767|13.676253081347575|13.974811083123427|13.974811083123427|2.9575451170373497|10.135227609472764|0.2307201290084158|0.22434136396353616|0.3073760452820519|0.2662883113065696|0.4239765751302952|0.2747334742744734|0.2654290979390185|0.22013537657682944|0.4359265388614696|0.2998237005072588|0.18342180705869446|0.4936358284202758|0.2388928215315994|0.4936358284202758|1.203874232266528|0.421773295808948|0.3076245813110944|0.5333827819316813|0.4666172180683187|0.5699017333559004|0.4666172180683187|0.03393700704926103|0.028153960454112958|0.2564061907818917|0.030120527794486027|0.37304227990162864|0.31303028231594776|1.4035799668975664|0.1812321480045072|0.4519564696145844|0.3625018369698892|0.697936097752982|0.662587921208906|0.29946089767884354|0.8280729395356046|6.260362192523727|0.8713617729355879|0.7070285050242668|0.6139097283779791|2.4133013523477094|19.373765432098764|21.809259259259264|0.5673249704790101|1.0899919565998666|1.1238426916297295|           null|34.695948246510035|0.7161760975056811|6.268224122454765|2.896099564500605|1.3209695243974071|2.476588238588108|18.33476127962413|0.053648076756394165|     0.0|       0.0|0.04831831848041412|0.05515402927994728|     45|Information Techn...|  0.0|784811.2147119141|166.44000244140625|7.295615207458322|1.384721469295607|0.0175438593917827|    HITEC| 3.0|     HITEC|  5.0|     BUSEQ|  6.0|     OTHER| 17.0|     BUSEQ| 23.0|     ELCTR| 22.0|     CHIPS| 36.0|     CHIPS| 37.0|21457.0|  AAPL|03783310|2019-01-31|\n",
      "|       04:18|04:18:00.000000000|      166.03|        100|       166.5|        200|              null|           null|          null|04:18:00.000000000|      166.03|        100|04:18:00.000000000|       166.5|        200|              null|          null|         null|04:18:00.271736857|     166.02|       500|04:18:00.000000000|      166.5|       200|              null|         null|        null|04:18:59.999999999|       166.03|         100|        166.5|         200|              null|          null|         null|     0.47|     0.48|      null|             null|           240|         0|            0|         0|            0|         0|                   0|     0|          0|          0|                  null|           0|             0|                 0|                   0|                0|               null|                       null|    166.02374|        166.5|2019-01-31 04:18:00|  AAPL|2019-01-31|                null|                   null|     86072|001690|14593.0|2018-09-30 00:00:00|2018-09-30 00:00:00|2019-01-31 00:00:00|15.920835440634756|107573.0|0.10021795052905763|14.563520378103357|13.553745928338767|13.676253081347575|13.974811083123427|13.974811083123427|2.9575451170373497|10.135227609472764|0.2307201290084158|0.22434136396353616|0.3073760452820519|0.2662883113065696|0.4239765751302952|0.2747334742744734|0.2654290979390185|0.22013537657682944|0.4359265388614696|0.2998237005072588|0.18342180705869446|0.4936358284202758|0.2388928215315994|0.4936358284202758|1.203874232266528|0.421773295808948|0.3076245813110944|0.5333827819316813|0.4666172180683187|0.5699017333559004|0.4666172180683187|0.03393700704926103|0.028153960454112958|0.2564061907818917|0.030120527794486027|0.37304227990162864|0.31303028231594776|1.4035799668975664|0.1812321480045072|0.4519564696145844|0.3625018369698892|0.697936097752982|0.662587921208906|0.29946089767884354|0.8280729395356046|6.260362192523727|0.8713617729355879|0.7070285050242668|0.6139097283779791|2.4133013523477094|19.373765432098764|21.809259259259264|0.5673249704790101|1.0899919565998666|1.1238426916297295|           null|34.695948246510035|0.7161760975056811|6.268224122454765|2.896099564500605|1.3209695243974071|2.476588238588108|18.33476127962413|0.053648076756394165|     0.0|       0.0|0.04831831848041412|0.05515402927994728|     45|Information Techn...|  0.0|784811.2147119141|166.44000244140625|7.295615207458322|1.384721469295607|0.0175438593917827|    HITEC| 3.0|     HITEC|  5.0|     BUSEQ|  6.0|     OTHER| 17.0|     BUSEQ| 23.0|     ELCTR| 22.0|     CHIPS| 36.0|     CHIPS| 37.0|21457.0|  AAPL|03783310|2019-01-31|\n",
      "|       04:19|04:19:00.000000000|      166.03|        100|       166.5|        200|              null|           null|          null|04:19:00.000000000|      166.03|        100|04:19:39.124597361|      166.62|        300|              null|          null|         null|04:19:00.273128948|     166.02|       500|04:19:00.000000000|      166.5|       200|              null|         null|        null|04:19:59.999999999|       166.02|         500|       166.62|         300|              null|          null|         null|     0.47|      0.6|      null|             null|           194|         0|            0|         0|            0|         0|                   0|     0|          0|          0|                  null|           0|             0|                 0|                   0|                0|               null|                       null|    166.02298|    166.54522|2019-01-31 04:19:00|  AAPL|2019-01-31|                null|                 166.32|     86072|001690|14593.0|2018-09-30 00:00:00|2018-09-30 00:00:00|2019-01-31 00:00:00|15.920835440634756|107573.0|0.10021795052905763|14.563520378103357|13.553745928338767|13.676253081347575|13.974811083123427|13.974811083123427|2.9575451170373497|10.135227609472764|0.2307201290084158|0.22434136396353616|0.3073760452820519|0.2662883113065696|0.4239765751302952|0.2747334742744734|0.2654290979390185|0.22013537657682944|0.4359265388614696|0.2998237005072588|0.18342180705869446|0.4936358284202758|0.2388928215315994|0.4936358284202758|1.203874232266528|0.421773295808948|0.3076245813110944|0.5333827819316813|0.4666172180683187|0.5699017333559004|0.4666172180683187|0.03393700704926103|0.028153960454112958|0.2564061907818917|0.030120527794486027|0.37304227990162864|0.31303028231594776|1.4035799668975664|0.1812321480045072|0.4519564696145844|0.3625018369698892|0.697936097752982|0.662587921208906|0.29946089767884354|0.8280729395356046|6.260362192523727|0.8713617729355879|0.7070285050242668|0.6139097283779791|2.4133013523477094|19.373765432098764|21.809259259259264|0.5673249704790101|1.0899919565998666|1.1238426916297295|           null|34.695948246510035|0.7161760975056811|6.268224122454765|2.896099564500605|1.3209695243974071|2.476588238588108|18.33476127962413|0.053648076756394165|     0.0|       0.0|0.04831831848041412|0.05515402927994728|     45|Information Techn...|  0.0|784811.2147119141|166.44000244140625|7.295615207458322|1.384721469295607|0.0175438593917827|    HITEC| 3.0|     HITEC|  5.0|     BUSEQ|  6.0|     OTHER| 17.0|     BUSEQ| 23.0|     ELCTR| 22.0|     CHIPS| 36.0|     CHIPS| 37.0|21457.0|  AAPL|03783310|2019-01-31|\n",
      "+------------+------------------+------------+-----------+------------+-----------+------------------+---------------+--------------+------------------+------------+-----------+------------------+------------+-----------+------------------+--------------+-------------+------------------+-----------+----------+------------------+-----------+----------+------------------+-------------+------------+------------------+-------------+------------+-------------+------------+------------------+--------------+-------------+---------+---------+----------+-----------------+--------------+----------+-------------+----------+-------------+----------+--------------------+------+-----------+-----------+----------------------+------------+--------------+------------------+--------------------+-----------------+-------------------+---------------------------+-------------+-------------+-------------------+------+----------+--------------------+-----------------------+----------+------+-------+-------------------+-------------------+-------------------+------------------+--------+-------------------+------------------+------------------+------------------+------------------+------------------+------------------+------------------+------------------+-------------------+------------------+------------------+------------------+------------------+------------------+-------------------+------------------+------------------+-------------------+------------------+------------------+------------------+-----------------+-----------------+------------------+------------------+------------------+------------------+------------------+-------------------+--------------------+------------------+--------------------+-------------------+-------------------+------------------+------------------+------------------+------------------+-----------------+-----------------+-------------------+------------------+-----------------+------------------+------------------+------------------+------------------+------------------+------------------+------------------+------------------+------------------+---------------+------------------+------------------+-----------------+-----------------+------------------+-----------------+-----------------+--------------------+--------+----------+-------------------+-------------------+-------+--------------------+-----+-----------------+------------------+-----------------+-----------------+------------------+---------+----+----------+-----+----------+-----+----------+-----+----------+-----+----------+-----+----------+-----+----------+-----+-------+------+--------+----------+\n",
      "only showing top 20 rows"
     ]
    }
   ],
   "source": [
    "apl.show()"
   ]
  },
  {
   "cell_type": "code",
   "execution_count": 112,
   "id": "bf3af62d-f829-4f55-86c7-b7a46db84240",
   "metadata": {
    "execution": {
     "iopub.execute_input": "2022-04-10T14:31:37.541314Z",
     "iopub.status.busy": "2022-04-10T14:31:37.541077Z",
     "iopub.status.idle": "2022-04-10T14:32:36.948169Z",
     "shell.execute_reply": "2022-04-10T14:32:36.947590Z",
     "shell.execute_reply.started": "2022-04-10T14:31:37.541292Z"
    },
    "tags": [],
    "vscode": {
     "languageId": "json"
    }
   },
   "outputs": [
    {
     "data": {
      "application/vnd.jupyter.widget-view+json": {
       "model_id": "72bdc1aa925144a7a3c281af2368635a",
       "version_major": 2,
       "version_minor": 0
      },
      "text/plain": [
       "VBox()"
      ]
     },
     "metadata": {},
     "output_type": "display_data"
    },
    {
     "data": {
      "application/vnd.jupyter.widget-view+json": {
       "model_id": "",
       "version_major": 2,
       "version_minor": 0
      },
      "text/plain": [
       "FloatProgress(value=0.0, bar_style='info', description='Progress:', layout=Layout(height='25px', width='50%'),…"
      ]
     },
     "metadata": {},
     "output_type": "display_data"
    }
   ],
   "source": [
    "aapl = apl.toPandas()"
   ]
  },
  {
   "cell_type": "code",
   "execution_count": 117,
   "id": "97b81877-4e4e-4ff3-b6ff-f4c5a155a088",
   "metadata": {
    "execution": {
     "iopub.execute_input": "2022-04-10T14:37:15.475154Z",
     "iopub.status.busy": "2022-04-10T14:37:15.474646Z",
     "iopub.status.idle": "2022-04-10T14:37:15.547624Z",
     "shell.execute_reply": "2022-04-10T14:37:15.546060Z",
     "shell.execute_reply.started": "2022-04-10T14:37:15.475114Z"
    },
    "tags": []
   },
   "outputs": [
    {
     "data": {
      "application/vnd.jupyter.widget-view+json": {
       "model_id": "4abfc7de81d64235a5c10c2adb202535",
       "version_major": 2,
       "version_minor": 0
      },
      "text/plain": [
       "VBox()"
      ]
     },
     "metadata": {},
     "output_type": "display_data"
    },
    {
     "data": {
      "application/vnd.jupyter.widget-view+json": {
       "model_id": "",
       "version_major": 2,
       "version_minor": 0
      },
      "text/plain": [
       "FloatProgress(value=0.0, bar_style='info', description='Progress:', layout=Layout(height='25px', width='50%'),…"
      ]
     },
     "metadata": {},
     "output_type": "display_data"
    }
   ],
   "source": [
    "import awswrangler as wr\n",
    "pd.set_option('display.max_columns',None)\n",
    "pd.set_option('display.max_rows',None)"
   ]
  },
  {
   "cell_type": "code",
   "execution_count": 114,
   "id": "27cc13e6-2b85-48b3-8df4-f6dfe39bde5a",
   "metadata": {
    "execution": {
     "iopub.execute_input": "2022-04-10T14:34:15.924475Z",
     "iopub.status.busy": "2022-04-10T14:34:15.924237Z",
     "iopub.status.idle": "2022-04-10T14:34:23.228248Z",
     "shell.execute_reply": "2022-04-10T14:34:23.227590Z",
     "shell.execute_reply.started": "2022-04-10T14:34:15.924450Z"
    }
   },
   "outputs": [
    {
     "data": {
      "application/vnd.jupyter.widget-view+json": {
       "model_id": "2c477fc9c8d240ad9601e8c0fa8e72f6",
       "version_major": 2,
       "version_minor": 0
      },
      "text/plain": [
       "VBox()"
      ]
     },
     "metadata": {},
     "output_type": "display_data"
    },
    {
     "data": {
      "application/vnd.jupyter.widget-view+json": {
       "model_id": "",
       "version_major": 2,
       "version_minor": 0
      },
      "text/plain": [
       "FloatProgress(value=0.0, bar_style='info', description='Progress:', layout=Layout(height='25px', width='50%'),…"
      ]
     },
     "metadata": {},
     "output_type": "display_data"
    },
    {
     "name": "stdout",
     "output_type": "stream",
     "text": [
      "{'paths': ['s3://strategymodeldata/tstAaplTaqRatio.csv'], 'partitions_values': {}}"
     ]
    }
   ],
   "source": [
    "wr.s3.to_csv(aapl, 's3://strategymodeldata/tstAaplTaqRatio.csv',index=False)"
   ]
  },
  {
   "cell_type": "code",
   "execution_count": 118,
   "id": "c4100dd8-6003-4ab5-bab7-75cd1c63a8f0",
   "metadata": {
    "collapsed": true,
    "execution": {
     "iopub.execute_input": "2022-04-10T14:37:19.496912Z",
     "iopub.status.busy": "2022-04-10T14:37:19.496573Z",
     "iopub.status.idle": "2022-04-10T14:37:19.764693Z",
     "shell.execute_reply": "2022-04-10T14:37:19.763981Z",
     "shell.execute_reply.started": "2022-04-10T14:37:19.496873Z"
    },
    "jupyter": {
     "outputs_hidden": true
    },
    "tags": []
   },
   "outputs": [
    {
     "data": {
      "application/vnd.jupyter.widget-view+json": {
       "model_id": "bbe8ed8280f846318ad9b778d1c3dd3e",
       "version_major": 2,
       "version_minor": 0
      },
      "text/plain": [
       "VBox()"
      ]
     },
     "metadata": {},
     "output_type": "display_data"
    },
    {
     "data": {
      "application/vnd.jupyter.widget-view+json": {
       "model_id": "",
       "version_major": 2,
       "version_minor": 0
      },
      "text/plain": [
       "FloatProgress(value=0.0, bar_style='info', description='Progress:', layout=Layout(height='25px', width='50%'),…"
      ]
     },
     "metadata": {},
     "output_type": "display_data"
    },
    {
     "name": "stdout",
     "output_type": "stream",
     "text": [
      "  TimeBarStart         OpenBarTime  OpenBidPrice  OpenBidSize  OpenAskPrice  \\\n",
      "0        04:00  04:00:00.000000000           NaN          NaN           NaN   \n",
      "1        04:01  04:01:00.000000000        166.22        100.0        166.95   \n",
      "2        04:02  04:02:00.000000000        166.21        100.0        166.98   \n",
      "3        04:03  04:03:00.000000000        166.22        400.0        166.96   \n",
      "4        04:04  04:04:00.000000000        166.22        300.0        166.88   \n",
      "\n",
      "   OpenAskSize      FirstTradeTime  FirstTradePrice  FirstTradeSize  \\\n",
      "0          NaN  04:00:00.018908177           166.35            10.0   \n",
      "1        100.0  04:01:07.997355535           166.41            20.0   \n",
      "2       1200.0  04:02:07.092574587           166.78             5.0   \n",
      "3        100.0  04:03:57.943770734           166.41            30.0   \n",
      "4       1000.0  04:04:38.380804376           166.62            10.0   \n",
      "\n",
      "          HighBidTime  HighBidPrice  HighBidSize         HighAskTime  \\\n",
      "0  04:00:00.083360119        166.35          800  04:00:00.052892188   \n",
      "1  04:01:00.000000000        166.22          100  04:01:02.051558750   \n",
      "2  04:02:01.016622266        166.22          200  04:02:00.000000000   \n",
      "3  04:03:00.000000000        166.22          400  04:03:16.010239327   \n",
      "4  04:04:00.000000000        166.22          300  04:04:00.000000000   \n",
      "\n",
      "   HighAskPrice  HighAskSize       HighTradeTime  HighTradePrice  \\\n",
      "0        168.49          100  04:00:00.349372721          166.66   \n",
      "1        166.98          200  04:01:07.997355535          166.41   \n",
      "2        166.98         1200  04:02:07.092574587          166.78   \n",
      "3        166.97          100  04:03:57.943770734          166.41   \n",
      "4        166.88         1000  04:04:38.380804376          166.62   \n",
      "\n",
      "   HighTradeSize          LowBidTime  LowBidPrice  LowBidSize  \\\n",
      "0           59.0  04:00:00.033389261       129.33         100   \n",
      "1           20.0  04:01:00.272935633       166.21         100   \n",
      "2            5.0  04:02:00.000000000       166.21         100   \n",
      "3           30.0  04:03:00.000000000       166.22         400   \n",
      "4           10.0  04:04:00.000000000       166.22         300   \n",
      "\n",
      "           LowAskTime  LowAskPrice  LowAskSize        LowTradeTime  \\\n",
      "0  04:00:00.079014780       166.50         100  04:00:00.018908177   \n",
      "1  04:01:00.000000000       166.95         100  04:01:07.997355535   \n",
      "2  04:02:36.196205167       166.96         100  04:02:07.092574587   \n",
      "3  04:03:36.915985159       166.88        1000  04:03:57.943770734   \n",
      "4  04:04:00.000000000       166.88        1000  04:04:38.380804376   \n",
      "\n",
      "   LowTradePrice  LowTradeSize        CloseBarTime  CloseBidPrice  \\\n",
      "0         166.35          10.0  04:00:59.999999999         166.22   \n",
      "1         166.41          20.0  04:01:59.999999999         166.21   \n",
      "2         166.78           5.0  04:02:59.999999999         166.22   \n",
      "3         166.41          30.0  04:03:59.999999999         166.22   \n",
      "4         166.62          10.0  04:04:59.999999999         166.22   \n",
      "\n",
      "   CloseBidSize  CloseAskPrice  CloseAskSize       LastTradeTime  \\\n",
      "0           100         166.95           100  04:00:05.736547656   \n",
      "1           100         166.98          1200  04:01:29.251091672   \n",
      "2           400         166.96           100  04:02:33.026843025   \n",
      "3           300         166.88          1000  04:03:57.943770734   \n",
      "4           200         166.88          1000  04:04:38.380804376   \n",
      "\n",
      "   LastTradePrice  LastTradeSize  MinSpread  MaxSpread  CancelSize  \\\n",
      "0          166.36            5.0       0.15      39.16         NaN   \n",
      "1          166.41          450.0       0.73       0.77         NaN   \n",
      "2          166.78            5.0       0.74       0.77         NaN   \n",
      "3          166.41           30.0       0.66       0.75         NaN   \n",
      "4          166.62           10.0       0.66       0.66         NaN   \n",
      "\n",
      "   VolumeWeightPrice  NBBOQuoteCount  TradeAtBid  TradeAtBidMid  TradeAtMid  \\\n",
      "0          166.46989             113           0             54           0   \n",
      "1          166.41000             126           0            470           0   \n",
      "2          166.78000              12           0              0           0   \n",
      "3          166.41000              20           0             30           0   \n",
      "4          166.62000               6           0              0           0   \n",
      "\n",
      "   TradeAtMidAsk  TradeAtAsk  TradeAtCrossOrLocked  Volume  TotalTrades  \\\n",
      "0            100         110                     0     453           14   \n",
      "1              0           0                     0     470            2   \n",
      "2             10           0                     0      10            2   \n",
      "3              0           0                     0      30            1   \n",
      "4             10           0                     0      10            1   \n",
      "\n",
      "   FinraVolume  FinraVolumeWeightPrice  UptickVolume  DowntickVolume  \\\n",
      "0            0                     NaN           120               5   \n",
      "1            0                     NaN            20               0   \n",
      "2            0                     NaN             5               0   \n",
      "3            0                     NaN             0              30   \n",
      "4            0                     NaN            10               0   \n",
      "\n",
      "   RepeatUptickVolume  RepeatDowntickVolume  UnknownTickVolume  \\\n",
      "0                 139                     0                189   \n",
      "1                 450                     0                  0   \n",
      "2                   5                     0                  0   \n",
      "3                   0                     0                  0   \n",
      "4                   0                     0                  0   \n",
      "\n",
      "   TradeToMidVolWeight  TradeToMidVolWeightRelative  TimeWeightBid  \\\n",
      "0              3.44923                      0.17306      166.17130   \n",
      "1            -19.00000                     -0.25000      166.21191   \n",
      "2             18.00000                      0.23684      166.21983   \n",
      "3            -14.00000                     -0.21212      166.22000   \n",
      "4              7.00000                      0.10606      166.22000   \n",
      "\n",
      "   TimeWeightAsk            datetime Ticker        Date  returns1min  \\\n",
      "0      166.97365 2019-01-31 04:00:00   AAPL  2019-01-31     0.004832   \n",
      "1      166.97897 2019-01-31 04:01:00   AAPL  2019-01-31     0.000361   \n",
      "2      166.97207 2019-01-31 04:02:00   AAPL  2019-01-31     0.002223   \n",
      "3      166.91888 2019-01-31 04:03:00   AAPL  2019-01-31    -0.002218   \n",
      "4      166.88000 2019-01-31 04:04:00   AAPL  2019-01-31     0.001262   \n",
      "\n",
      "   FirstTradePrice1minLead  Unnamed:_0   gvkey   permno      adate      qdate  \\\n",
      "0                   166.41       86072  001690  14593.0 2018-09-30 2018-09-30   \n",
      "1                   166.78       86072  001690  14593.0 2018-09-30 2018-09-30   \n",
      "2                   166.41       86072  001690  14593.0 2018-09-30 2018-09-30   \n",
      "3                   166.62       86072  001690  14593.0 2018-09-30 2018-09-30   \n",
      "4                   166.31       86072  001690  14593.0 2018-09-30 2018-09-30   \n",
      "\n",
      "  public_date      CAPEI        BE        bm       evm  pe_op_basic  \\\n",
      "0  2019-01-31  15.920835  107573.0  0.100218  14.56352    13.553746   \n",
      "1  2019-01-31  15.920835  107573.0  0.100218  14.56352    13.553746   \n",
      "2  2019-01-31  15.920835  107573.0  0.100218  14.56352    13.553746   \n",
      "3  2019-01-31  15.920835  107573.0  0.100218  14.56352    13.553746   \n",
      "4  2019-01-31  15.920835  107573.0  0.100218  14.56352    13.553746   \n",
      "\n",
      "   pe_op_dil     pe_exi     pe_inc        ps        pcf      dpr       npm  \\\n",
      "0  13.676253  13.974811  13.974811  2.957545  10.135228  0.23072  0.224341   \n",
      "1  13.676253  13.974811  13.974811  2.957545  10.135228  0.23072  0.224341   \n",
      "2  13.676253  13.974811  13.974811  2.957545  10.135228  0.23072  0.224341   \n",
      "3  13.676253  13.974811  13.974811  2.957545  10.135228  0.23072  0.224341   \n",
      "4  13.676253  13.974811  13.974811  2.957545  10.135228  0.23072  0.224341   \n",
      "\n",
      "      opmbd     opmad       gpm      ptpm       cfm       roa       roe  \\\n",
      "0  0.307376  0.266288  0.423977  0.274733  0.265429  0.220135  0.435927   \n",
      "1  0.307376  0.266288  0.423977  0.274733  0.265429  0.220135  0.435927   \n",
      "2  0.307376  0.266288  0.423977  0.274733  0.265429  0.220135  0.435927   \n",
      "3  0.307376  0.266288  0.423977  0.274733  0.265429  0.220135  0.435927   \n",
      "4  0.307376  0.266288  0.423977  0.274733  0.265429  0.220135  0.435927   \n",
      "\n",
      "       roce    efftax  aftret_eq  aftret_invcapx  aftret_equity  pretret_noa  \\\n",
      "0  0.299824  0.183422   0.493636        0.238893       0.493636     1.203874   \n",
      "1  0.299824  0.183422   0.493636        0.238893       0.493636     1.203874   \n",
      "2  0.299824  0.183422   0.493636        0.238893       0.493636     1.203874   \n",
      "3  0.299824  0.183422   0.493636        0.238893       0.493636     1.203874   \n",
      "4  0.299824  0.183422   0.493636        0.238893       0.493636     1.203874   \n",
      "\n",
      "   pretret_earnat     GProf  equity_invcap  debt_invcap  totdebt_invcap  \\\n",
      "0        0.421773  0.307625       0.533383     0.466617        0.569902   \n",
      "1        0.421773  0.307625       0.533383     0.466617        0.569902   \n",
      "2        0.421773  0.307625       0.533383     0.466617        0.569902   \n",
      "3        0.421773  0.307625       0.533383     0.466617        0.569902   \n",
      "4        0.421773  0.307625       0.533383     0.466617        0.569902   \n",
      "\n",
      "   capital_ratio  int_debt  int_totdebt   cash_lt  invt_act  rect_act  \\\n",
      "0       0.466617  0.033937     0.028154  0.256406  0.030121  0.373042   \n",
      "1       0.466617  0.033937     0.028154  0.256406  0.030121  0.373042   \n",
      "2       0.466617  0.033937     0.028154  0.256406  0.030121  0.373042   \n",
      "3       0.466617  0.033937     0.028154  0.256406  0.030121  0.373042   \n",
      "4       0.466617  0.033937     0.028154  0.256406  0.030121  0.373042   \n",
      "\n",
      "   debt_at  debt_ebitda  short_debt  curr_debt   lt_debt  profit_lct  \\\n",
      "0  0.31303      1.40358    0.181232   0.451956  0.362502    0.697936   \n",
      "1  0.31303      1.40358    0.181232   0.451956  0.362502    0.697936   \n",
      "2  0.31303      1.40358    0.181232   0.451956  0.362502    0.697936   \n",
      "3  0.31303      1.40358    0.181232   0.451956  0.362502    0.697936   \n",
      "4  0.31303      1.40358    0.181232   0.451956  0.362502    0.697936   \n",
      "\n",
      "    ocf_lct  cash_debt   fcf_ocf  lt_ppent   dltt_be  debt_assets  \\\n",
      "0  0.662588   0.299461  0.828073  6.260362  0.871362     0.707029   \n",
      "1  0.662588   0.299461  0.828073  6.260362  0.871362     0.707029   \n",
      "2  0.662588   0.299461  0.828073  6.260362  0.871362     0.707029   \n",
      "3  0.662588   0.299461  0.828073  6.260362  0.871362     0.707029   \n",
      "4  0.662588   0.299461  0.828073  6.260362  0.871362     0.707029   \n",
      "\n",
      "   debt_capital  de_ratio     intcov  intcov_ratio  cash_ratio  quick_ratio  \\\n",
      "0       0.61391  2.413301  19.373765     21.809259    0.567325     1.089992   \n",
      "1       0.61391  2.413301  19.373765     21.809259    0.567325     1.089992   \n",
      "2       0.61391  2.413301  19.373765     21.809259    0.567325     1.089992   \n",
      "3       0.61391  2.413301  19.373765     21.809259    0.567325     1.089992   \n",
      "4       0.61391  2.413301  19.373765     21.809259    0.567325     1.089992   \n",
      "\n",
      "   curr_ratio  cash_conversion   inv_turn   at_turn  rect_turn  pay_turn  \\\n",
      "0    1.123843              NaN  34.695948  0.716176   6.268224    2.8961   \n",
      "1    1.123843              NaN  34.695948  0.716176   6.268224    2.8961   \n",
      "2    1.123843              NaN  34.695948  0.716176   6.268224    2.8961   \n",
      "3    1.123843              NaN  34.695948  0.716176   6.268224    2.8961   \n",
      "4    1.123843              NaN  34.695948  0.716176   6.268224    2.8961   \n",
      "\n",
      "   sale_invcap  sale_equity   sale_nwc   rd_sale  adv_sale  staff_sale  \\\n",
      "0      1.32097     2.476588  18.334761  0.053648       0.0         0.0   \n",
      "1      1.32097     2.476588  18.334761  0.053648       0.0         0.0   \n",
      "2      1.32097     2.476588  18.334761  0.053648       0.0         0.0   \n",
      "3      1.32097     2.476588  18.334761  0.053648       0.0         0.0   \n",
      "4      1.32097     2.476588  18.334761  0.053648       0.0         0.0   \n",
      "\n",
      "    accrual  ret_crsp gsector                 gicdesc  sp500         mktcap  \\\n",
      "0  0.048318  0.055154      45  Information Technology    0.0  784811.214712   \n",
      "1  0.048318  0.055154      45  Information Technology    0.0  784811.214712   \n",
      "2  0.048318  0.055154      45  Information Technology    0.0  784811.214712   \n",
      "3  0.048318  0.055154      45  Information Technology    0.0  784811.214712   \n",
      "4  0.048318  0.055154      45  Information Technology    0.0  784811.214712   \n",
      "\n",
      "        price       ptb  PEG_trailing  divyield FFI5_desc  FFI5 FFI10_desc  \\\n",
      "0  166.440002  7.295615      1.384721  0.017544     HITEC   3.0      HITEC   \n",
      "1  166.440002  7.295615      1.384721  0.017544     HITEC   3.0      HITEC   \n",
      "2  166.440002  7.295615      1.384721  0.017544     HITEC   3.0      HITEC   \n",
      "3  166.440002  7.295615      1.384721  0.017544     HITEC   3.0      HITEC   \n",
      "4  166.440002  7.295615      1.384721  0.017544     HITEC   3.0      HITEC   \n",
      "\n",
      "   FFI10 FFI12_desc  FFI12 FFI17_desc  FFI17 FFI30_desc  FFI30 FFI38_desc  \\\n",
      "0    5.0      BUSEQ    6.0      OTHER   17.0      BUSEQ   23.0      ELCTR   \n",
      "1    5.0      BUSEQ    6.0      OTHER   17.0      BUSEQ   23.0      ELCTR   \n",
      "2    5.0      BUSEQ    6.0      OTHER   17.0      BUSEQ   23.0      ELCTR   \n",
      "3    5.0      BUSEQ    6.0      OTHER   17.0      BUSEQ   23.0      ELCTR   \n",
      "4    5.0      BUSEQ    6.0      OTHER   17.0      BUSEQ   23.0      ELCTR   \n",
      "\n",
      "   FFI38 FFI48_desc  FFI48 FFI49_desc  FFI49       dt TICKER     cusip  \\\n",
      "0   22.0      CHIPS   36.0      CHIPS   37.0  21457.0   AAPL  03783310   \n",
      "1   22.0      CHIPS   36.0      CHIPS   37.0  21457.0   AAPL  03783310   \n",
      "2   22.0      CHIPS   36.0      CHIPS   37.0  21457.0   AAPL  03783310   \n",
      "3   22.0      CHIPS   36.0      CHIPS   37.0  21457.0   AAPL  03783310   \n",
      "4   22.0      CHIPS   36.0      CHIPS   37.0  21457.0   AAPL  03783310   \n",
      "\n",
      "         date  \n",
      "0  2019-01-31  \n",
      "1  2019-01-31  \n",
      "2  2019-01-31  \n",
      "3  2019-01-31  \n",
      "4  2019-01-31"
     ]
    }
   ],
   "source": [
    "aapl.head()"
   ]
  },
  {
   "cell_type": "code",
   "execution_count": 124,
   "id": "52633542-6828-4737-95c7-4c2aaf7a4eb6",
   "metadata": {
    "execution": {
     "iopub.execute_input": "2022-04-10T14:39:06.124970Z",
     "iopub.status.busy": "2022-04-10T14:39:06.124615Z",
     "iopub.status.idle": "2022-04-10T14:39:06.382331Z",
     "shell.execute_reply": "2022-04-10T14:39:06.381630Z",
     "shell.execute_reply.started": "2022-04-10T14:39:06.124928Z"
    },
    "tags": []
   },
   "outputs": [
    {
     "data": {
      "application/vnd.jupyter.widget-view+json": {
       "model_id": "0bd91b23d30348b7bc555201466caa27",
       "version_major": 2,
       "version_minor": 0
      },
      "text/plain": [
       "VBox()"
      ]
     },
     "metadata": {},
     "output_type": "display_data"
    },
    {
     "data": {
      "application/vnd.jupyter.widget-view+json": {
       "model_id": "",
       "version_major": 2,
       "version_minor": 0
      },
      "text/plain": [
       "FloatProgress(value=0.0, bar_style='info', description='Progress:', layout=Layout(height='25px', width='50%'),…"
      ]
     },
     "metadata": {},
     "output_type": "display_data"
    },
    {
     "name": "stdout",
     "output_type": "stream",
     "text": [
      "<class 'pandas.core.frame.DataFrame'>\n",
      "RangeIndex: 33602 entries, 0 to 33601\n",
      "Columns: 166 entries, TimeBarStart to date\n",
      "dtypes: datetime64[ns](4), float64(113), int32(21), int64(1), object(27)\n",
      "memory usage: 39.9+ MB\n",
      "<string>:1: FutureWarning: null_counts is deprecated. Use show_counts instead"
     ]
    }
   ],
   "source": [
    "aapl.info(null_counts=True)"
   ]
  },
  {
   "cell_type": "markdown",
   "id": "405973b0-a480-4f44-9de2-1ecaa01c58dd",
   "metadata": {},
   "source": [
    "## SMA"
   ]
  },
  {
   "cell_type": "code",
   "execution_count": null,
   "id": "1a955f1b-42fa-4ec1-b431-02c74bd9db75",
   "metadata": {},
   "outputs": [],
   "source": [
    "def get_sma(X, df):\n",
    "    \"\"\"\n",
    "    Get features related to simple moving average\n",
    "    Inputs\n",
    "        X  : dataframe without the SMA features\n",
    "        df : dataframe containing 'adj_close' column. To generate features for the last row in this dataframe.\n",
    "    Outputs\n",
    "        X  : X with additional SMA features\n",
    "    \"\"\"\n",
    "    \n",
    "    # Simple moving average\n",
    "    df['sma_10'] = df['adj_close'].rolling(window = 10).mean()\n",
    "    df['sma_20'] = df['adj_close'].rolling(window = 20).mean()\n",
    "    df['sma_50'] = df['adj_close'].rolling(window = 50).mean()\n",
    "    df['sma_100'] = df['adj_close'].rolling(window = 100).mean()\n",
    "    df['sma_200'] = df['adj_close'].rolling(window = 200).mean()\n",
    "\n",
    "    # Get the sma on the previous day\n",
    "    df['adj_close_lag_1'] = df['adj_close'].shift(1)\n",
    "    df['sma_10_lag_1'] = df['sma_10'].shift(1)\n",
    "    df['sma_20_lag_1'] = df['sma_20'].shift(1)\n",
    "    df['sma_50_lag_1'] = df['sma_50'].shift(1)\n",
    "    df['sma_100_lag_1'] = df['sma_100'].shift(1)\n",
    "    df['sma_200_lag_1'] = df['sma_200'].shift(1)\n",
    "\n",
    "    # Get above signals\n",
    "    df['sma_above20'] = (df['adj_close'] > df['sma_20']).astype(int)\n",
    "    df['sma_above50'] = (df['adj_close'] > df['sma_50']).astype(int)\n",
    "    df['sma_above100'] = (df['adj_close'] > df['sma_100']).astype(int)\n",
    "    df['sma_above200'] = (df['adj_close'] > df['sma_200']).astype(int)\n",
    "\n",
    "    df['sma_10above20'] = (df['sma_10'] > df['sma_20']).astype(int)\n",
    "    df['sma_10above50'] = (df['sma_10'] > df['sma_50']).astype(int)\n",
    "    df['sma_10above100'] = (df['sma_10'] > df['sma_100']).astype(int)\n",
    "    df['sma_10above200'] = (df['sma_10'] > df['sma_200']).astype(int)\n",
    "\n",
    "    # Get bullish crossover signals\n",
    "    df['sma_cut20'] = ((df['adj_close_lag_1'] < df['sma_20_lag_1']) & (df['sma_above20']==True)).astype(int)\n",
    "    df['sma_cut50'] = ((df['adj_close_lag_1'] < df['sma_50_lag_1']) & (df['sma_above50']==True)).astype(int)\n",
    "    df['sma_cut100'] = ((df['adj_close_lag_1'] < df['sma_100_lag_1']) & (df['sma_above100']==True)).astype(int)\n",
    "    df['sma_cut200'] = ((df['adj_close_lag_1'] < df['sma_200_lag_1']) & (df['sma_above200']==True)).astype(int)\n",
    "\n",
    "    df['sma_10cut20'] = ((df['sma_10_lag_1'] < df['sma_20_lag_1']) & (df['sma_10above20']==True)).astype(int)\n",
    "    df['sma_10cut50'] = ((df['sma_10_lag_1'] < df['sma_50_lag_1']) & (df['sma_10above50']==True)).astype(int)\n",
    "    df['sma_10cut100'] = ((df['sma_10_lag_1'] < df['sma_100_lag_1']) & (df['sma_10above100']==True)).astype(int)\n",
    "    df['sma_10cut200'] = ((df['sma_10_lag_1'] < df['sma_200_lag_1']) & (df['sma_10above200']==True)).astype(int)\n",
    "\n",
    "    # Get bearish crossover signals\n",
    "    df['sma_cut20down'] = ((df['adj_close_lag_1'] > df['sma_20_lag_1']) & (df['adj_close'] < df['sma_20'])).astype(int)\n",
    "    df['sma_cut50down'] = ((df['adj_close_lag_1'] > df['sma_50_lag_1']) & (df['adj_close'] < df['sma_50'])).astype(int)\n",
    "    df['sma_cut100down'] = ((df['adj_close_lag_1'] > df['sma_100_lag_1']) & (df['adj_close'] < df['sma_100'])).astype(int)\n",
    "    df['sma_cut200down'] = ((df['adj_close_lag_1'] > df['sma_200_lag_1']) & (df['adj_close'] < df['sma_200'])).astype(int)\n",
    "\n",
    "    df['sma_10cut20down'] = ((df['sma_10_lag_1'] > df['sma_20_lag_1']) & (df['sma_10'] < df['sma_20'])).astype(int)\n",
    "    df['sma_10cut50down'] = ((df['sma_10_lag_1'] > df['sma_50_lag_1']) & (df['sma_10'] < df['sma_50'])).astype(int)\n",
    "    df['sma_10cut100down'] = ((df['sma_10_lag_1'] > df['sma_100_lag_1']) & (df['sma_10'] < df['sma_100'])).astype(int)\n",
    "    df['sma_10cut200down'] = ((df['sma_10_lag_1'] > df['sma_200_lag_1']) & (df['sma_10'] < df['sma_200'])).astype(int)\n",
    "    \n",
    "    tech_features = [   'sma_above20',\n",
    "                        'sma_above50',\n",
    "                        'sma_above100',\n",
    "                        'sma_above200',\n",
    "                        'sma_10above20',\n",
    "                        'sma_10above50',\n",
    "                        'sma_10above100',\n",
    "                        'sma_10above200',\n",
    "                        'sma_cut20',\n",
    "                        'sma_cut50',\n",
    "                        'sma_cut100',\n",
    "                        'sma_cut200',\n",
    "                        'sma_10cut20',\n",
    "                        'sma_10cut50',\n",
    "                        'sma_10cut100',\n",
    "                        'sma_10cut200',\n",
    "                        'sma_cut20down',\n",
    "                        'sma_cut50down',\n",
    "                        'sma_cut100down',\n",
    "                        'sma_cut200down',\n",
    "                        'sma_10cut20down',\n",
    "                        'sma_10cut50down',\n",
    "                        'sma_10cut100down',\n",
    "                        'sma_10cut200down'\n",
    "                    ]\n",
    "    \n",
    "    features_df = df[tech_features][-1:].reset_index(drop=True)\n",
    "    features_df.columns = [item+'_lag_1' for item in tech_features]\n",
    "    \n",
    "    return pd.concat([X, features_df], axis=1)"
   ]
  },
  {
   "cell_type": "code",
   "execution_count": null,
   "id": "1fca8d51-d62a-400f-a567-6ced7ee926f5",
   "metadata": {},
   "outputs": [],
   "source": []
  },
  {
   "cell_type": "markdown",
   "id": "85b7bfc6-4ffa-498f-97cd-c338e536cd17",
   "metadata": {},
   "source": [
    "## "
   ]
  },
  {
   "cell_type": "code",
   "execution_count": null,
   "id": "dbf984fb-63fd-480b-9577-59f875174ec7",
   "metadata": {},
   "outputs": [],
   "source": []
  },
  {
   "cell_type": "markdown",
   "id": "3cf1007c-95d2-4a14-a961-fc0e5617eb9f",
   "metadata": {},
   "source": [
    "## XGBoost SageMaker PySpark"
   ]
  },
  {
   "cell_type": "code",
   "execution_count": null,
   "id": "9e68abf0-9a3c-485f-bb04-87fe86a48555",
   "metadata": {},
   "outputs": [],
   "source": [
    "from pyspark import SparkContext, SparkConf\n",
    "from sagemaker_pyspark import IAMRole, classpath_jars\n",
    "from sagemaker_pyspark.algorithms import XGBoostSageMakerEstimator\n",
    "\n",
    "# Load the sagemaker_pyspark classpath. If you used --jars to submit your job\n",
    "# there is no need to do this in code.\n",
    "conf = (SparkConf()\n",
    "        .set(\"spark.driver.extraClassPath\", \":\".join(classpath_jars())))\n",
    "SparkContext.getOrCreate(conf=conf)\n",
    "\n",
    "#iam_role = \"arn:aws:iam:0123456789012:role/MySageMakerRole\"\n",
    "\n",
    "region = \"us-east-1\"\n",
    "training_data = (spark.read.format(\"libsvm\").option(\"numFeatures\", \"784\")\n",
    "  .load(\"s3a://sagemaker-sample-data-{}/spark/mnist/train/\".format(region)))\n",
    "\n",
    "test_data = (spark.read.format(\"libsvm\").option(\"numFeatures\", \"784\")\n",
    "  .load(\"s3a://sagemaker-sample-data-{}/spark/mnist/train/\".format(region)))\n",
    "\n",
    "xgboost_estimator = XGBoostSageMakerEstimator(\n",
    "    trainingInstanceType=\"ml.m4.xlarge\",\n",
    "    trainingInstanceCount=1,\n",
    "    endpointInstanceType=\"ml.m4.xlarge\",\n",
    "    endpointInitialInstanceCount=1,\n",
    "    sagemakerRole=IAMRole(iam_role))\n",
    "\n",
    "xgboost_estimator.setObjective('multi:softmax')\n",
    "xgboost_estimator.setNumRound(25)\n",
    "xgboost_estimator.setNumClasses(10)\n",
    "\n",
    "xgboost_model = xgboost_estimator.fit(training_data)\n",
    "\n",
    "transformed_data = xgboost_model.transform(test_data)\n",
    "transformed_data.show()"
   ]
  }
 ],
 "metadata": {
  "kernelspec": {
   "display_name": "PySpark",
   "language": "",
   "name": "pysparkkernel"
  },
  "language_info": {
   "codemirror_mode": {
    "name": "python",
    "version": 3
   },
   "mimetype": "text/x-python",
   "name": "pyspark",
   "pygments_lexer": "python3"
  }
 },
 "nbformat": 4,
 "nbformat_minor": 5
}
