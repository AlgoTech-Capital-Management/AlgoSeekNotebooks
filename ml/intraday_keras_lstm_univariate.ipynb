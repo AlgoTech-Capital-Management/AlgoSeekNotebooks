{
 "cells": [
  {
   "cell_type": "markdown",
   "source": [
    "# LSTM Using Keras"
   ],
   "metadata": {
    "collapsed": false,
    "pycharm": {
     "name": "#%% md\n"
    }
   }
  },
  {
   "cell_type": "code",
   "execution_count": 2,
   "outputs": [
    {
     "name": "stdout",
     "output_type": "stream",
     "text": [
      "Looking in indexes: https://pypi.org/simple, https://pip.repos.neuron.amazonaws.com\r\n",
      "Collecting tensorflow\r\n",
      "  Downloading tensorflow-2.9.1-cp38-cp38-manylinux_2_17_x86_64.manylinux2014_x86_64.whl (511.7 MB)\r\n",
      "\u001B[2K     \u001B[90m━━━━━━━━━━━━━━━━━━━━━━━━━━━━━━━━━━━━━━━\u001B[0m \u001B[32m511.7/511.7 MB\u001B[0m \u001B[31m6.1 MB/s\u001B[0m eta \u001B[36m0:00:00\u001B[0m00:01\u001B[0m00:01\u001B[0m\r\n",
      "\u001B[?25hCollecting keras\r\n",
      "  Downloading keras-2.9.0-py2.py3-none-any.whl (1.6 MB)\r\n",
      "\u001B[2K     \u001B[90m━━━━━━━━━━━━━━━━━━━━━━━━━━━━━━━━━━━━━━━━\u001B[0m \u001B[32m1.6/1.6 MB\u001B[0m \u001B[31m97.7 MB/s\u001B[0m eta \u001B[36m0:00:00\u001B[0m\r\n",
      "\u001B[?25hCollecting tensorflow-io-gcs-filesystem>=0.23.1\r\n",
      "  Downloading tensorflow_io_gcs_filesystem-0.26.0-cp38-cp38-manylinux_2_12_x86_64.manylinux2010_x86_64.whl (2.4 MB)\r\n",
      "\u001B[2K     \u001B[90m━━━━━━━━━━━━━━━━━━━━━━━━━━━━━━━━━━━━━━━━\u001B[0m \u001B[32m2.4/2.4 MB\u001B[0m \u001B[31m112.4 MB/s\u001B[0m eta \u001B[36m0:00:00\u001B[0m\r\n",
      "\u001B[?25hRequirement already satisfied: typing-extensions>=3.6.6 in ./anaconda3/envs/python3/lib/python3.8/site-packages (from tensorflow) (3.10.0.2)\r\n",
      "Collecting keras-preprocessing>=1.1.1\r\n",
      "  Downloading Keras_Preprocessing-1.1.2-py2.py3-none-any.whl (42 kB)\r\n",
      "\u001B[2K     \u001B[90m━━━━━━━━━━━━━━━━━━━━━━━━━━━━━━━━━━━━━━━━\u001B[0m \u001B[32m42.6/42.6 KB\u001B[0m \u001B[31m8.5 MB/s\u001B[0m eta \u001B[36m0:00:00\u001B[0m\r\n",
      "\u001B[?25hCollecting libclang>=13.0.0\r\n",
      "  Downloading libclang-14.0.1-py2.py3-none-manylinux1_x86_64.whl (14.5 MB)\r\n",
      "\u001B[2K     \u001B[90m━━━━━━━━━━━━━━━━━━━━━━━━━━━━━━━━━━━━━━━\u001B[0m \u001B[32m14.5/14.5 MB\u001B[0m \u001B[31m113.7 MB/s\u001B[0m eta \u001B[36m0:00:00\u001B[0m00:01\u001B[0m00:01\u001B[0m\r\n",
      "\u001B[?25hRequirement already satisfied: google-pasta>=0.1.1 in ./anaconda3/envs/python3/lib/python3.8/site-packages (from tensorflow) (0.2.0)\r\n",
      "Collecting tensorflow-estimator<2.10.0,>=2.9.0rc0\r\n",
      "  Downloading tensorflow_estimator-2.9.0-py2.py3-none-any.whl (438 kB)\r\n",
      "\u001B[2K     \u001B[90m━━━━━━━━━━━━━━━━━━━━━━━━━━━━━━━━━━━━━━\u001B[0m \u001B[32m438.7/438.7 KB\u001B[0m \u001B[31m51.4 MB/s\u001B[0m eta \u001B[36m0:00:00\u001B[0m\r\n",
      "\u001B[?25hCollecting gast<=0.4.0,>=0.2.1\r\n",
      "  Downloading gast-0.4.0-py3-none-any.whl (9.8 kB)\r\n",
      "Requirement already satisfied: protobuf<3.20,>=3.9.2 in ./anaconda3/envs/python3/lib/python3.8/site-packages (from tensorflow) (3.19.1)\r\n",
      "Requirement already satisfied: numpy>=1.20 in ./anaconda3/envs/python3/lib/python3.8/site-packages (from tensorflow) (1.20.3)\r\n",
      "Collecting astunparse>=1.6.0\r\n",
      "  Downloading astunparse-1.6.3-py2.py3-none-any.whl (12 kB)\r\n",
      "Requirement already satisfied: six>=1.12.0 in ./anaconda3/envs/python3/lib/python3.8/site-packages (from tensorflow) (1.16.0)\r\n",
      "Requirement already satisfied: packaging in ./anaconda3/envs/python3/lib/python3.8/site-packages (from tensorflow) (21.3)\r\n",
      "Requirement already satisfied: setuptools in ./anaconda3/envs/python3/lib/python3.8/site-packages (from tensorflow) (59.4.0)\r\n",
      "Requirement already satisfied: wrapt>=1.11.0 in ./anaconda3/envs/python3/lib/python3.8/site-packages (from tensorflow) (1.14.0)\r\n",
      "Collecting tensorboard<2.10,>=2.9\r\n",
      "  Downloading tensorboard-2.9.1-py3-none-any.whl (5.8 MB)\r\n",
      "\u001B[2K     \u001B[90m━━━━━━━━━━━━━━━━━━━━━━━━━━━━━━━━━━━━━━━━\u001B[0m \u001B[32m5.8/5.8 MB\u001B[0m \u001B[31m133.6 MB/s\u001B[0m eta \u001B[36m0:00:00\u001B[0m00:01\u001B[0m\r\n",
      "\u001B[?25hRequirement already satisfied: termcolor>=1.1.0 in ./anaconda3/envs/python3/lib/python3.8/site-packages (from tensorflow) (1.1.0)\r\n",
      "Collecting flatbuffers<2,>=1.12\r\n",
      "  Downloading flatbuffers-1.12-py2.py3-none-any.whl (15 kB)\r\n",
      "Collecting grpcio<2.0,>=1.24.3\r\n",
      "  Downloading grpcio-1.48.0-cp38-cp38-manylinux_2_17_x86_64.manylinux2014_x86_64.whl (4.6 MB)\r\n",
      "\u001B[2K     \u001B[90m━━━━━━━━━━━━━━━━━━━━━━━━━━━━━━━━━━━━━━━━\u001B[0m \u001B[32m4.6/4.6 MB\u001B[0m \u001B[31m127.7 MB/s\u001B[0m eta \u001B[36m0:00:00\u001B[0m00:01\u001B[0m\r\n",
      "\u001B[?25hRequirement already satisfied: h5py>=2.9.0 in ./anaconda3/envs/python3/lib/python3.8/site-packages (from tensorflow) (3.3.0)\r\n",
      "Collecting opt-einsum>=2.3.2\r\n",
      "  Downloading opt_einsum-3.3.0-py3-none-any.whl (65 kB)\r\n",
      "\u001B[2K     \u001B[90m━━━━━━━━━━━━━━━━━━━━━━━━━━━━━━━━━━━━━━━━\u001B[0m \u001B[32m65.5/65.5 KB\u001B[0m \u001B[31m15.1 MB/s\u001B[0m eta \u001B[36m0:00:00\u001B[0m\r\n",
      "\u001B[?25hCollecting absl-py>=1.0.0\r\n",
      "  Downloading absl_py-1.2.0-py3-none-any.whl (123 kB)\r\n",
      "\u001B[2K     \u001B[90m━━━━━━━━━━━━━━━━━━━━━━━━━━━━━━━━━━━━━━\u001B[0m \u001B[32m123.4/123.4 KB\u001B[0m \u001B[31m27.5 MB/s\u001B[0m eta \u001B[36m0:00:00\u001B[0m\r\n",
      "\u001B[?25hRequirement already satisfied: wheel<1.0,>=0.23.0 in ./anaconda3/envs/python3/lib/python3.8/site-packages (from astunparse>=1.6.0->tensorflow) (0.37.0)\r\n",
      "Collecting google-auth-oauthlib<0.5,>=0.4.1\r\n",
      "  Downloading google_auth_oauthlib-0.4.6-py2.py3-none-any.whl (18 kB)\r\n",
      "Collecting google-auth<3,>=1.6.3\r\n",
      "  Downloading google_auth-2.9.1-py2.py3-none-any.whl (167 kB)\r\n",
      "\u001B[2K     \u001B[90m━━━━━━━━━━━━━━━━━━━━━━━━━━━━━━━━━━━━━━\u001B[0m \u001B[32m167.8/167.8 KB\u001B[0m \u001B[31m33.4 MB/s\u001B[0m eta \u001B[36m0:00:00\u001B[0m\r\n",
      "\u001B[?25hCollecting tensorboard-plugin-wit>=1.6.0\r\n",
      "  Downloading tensorboard_plugin_wit-1.8.1-py3-none-any.whl (781 kB)\r\n",
      "\u001B[2K     \u001B[90m━━━━━━━━━━━━━━━━━━━━━━━━━━━━━━━━━━━━━━\u001B[0m \u001B[32m781.3/781.3 KB\u001B[0m \u001B[31m80.3 MB/s\u001B[0m eta \u001B[36m0:00:00\u001B[0m\r\n",
      "\u001B[?25hRequirement already satisfied: markdown>=2.6.8 in ./anaconda3/envs/python3/lib/python3.8/site-packages (from tensorboard<2.10,>=2.9->tensorflow) (3.3.6)\r\n",
      "Requirement already satisfied: werkzeug>=1.0.1 in ./anaconda3/envs/python3/lib/python3.8/site-packages (from tensorboard<2.10,>=2.9->tensorflow) (1.0.1)\r\n",
      "Collecting tensorboard-data-server<0.7.0,>=0.6.0\r\n",
      "  Downloading tensorboard_data_server-0.6.1-py3-none-manylinux2010_x86_64.whl (4.9 MB)\r\n",
      "\u001B[2K     \u001B[90m━━━━━━━━━━━━━━━━━━━━━━━━━━━━━━━━━━━━━━━━\u001B[0m \u001B[32m4.9/4.9 MB\u001B[0m \u001B[31m136.0 MB/s\u001B[0m eta \u001B[36m0:00:00\u001B[0m00:01\u001B[0m\r\n",
      "\u001B[?25hRequirement already satisfied: requests<3,>=2.21.0 in ./anaconda3/envs/python3/lib/python3.8/site-packages (from tensorboard<2.10,>=2.9->tensorflow) (2.26.0)\r\n",
      "Requirement already satisfied: pyparsing!=3.0.5,>=2.0.2 in ./anaconda3/envs/python3/lib/python3.8/site-packages (from packaging->tensorflow) (2.4.7)\r\n",
      "Requirement already satisfied: rsa<5,>=3.1.4 in ./anaconda3/envs/python3/lib/python3.8/site-packages (from google-auth<3,>=1.6.3->tensorboard<2.10,>=2.9->tensorflow) (4.7.2)\r\n",
      "Collecting pyasn1-modules>=0.2.1\r\n",
      "  Downloading pyasn1_modules-0.2.8-py2.py3-none-any.whl (155 kB)\r\n",
      "\u001B[2K     \u001B[90m━━━━━━━━━━━━━━━━━━━━━━━━━━━━━━━━━━━━━━\u001B[0m \u001B[32m155.3/155.3 KB\u001B[0m \u001B[31m33.0 MB/s\u001B[0m eta \u001B[36m0:00:00\u001B[0m\r\n",
      "\u001B[?25hCollecting cachetools<6.0,>=2.0.0\r\n",
      "  Downloading cachetools-5.2.0-py3-none-any.whl (9.3 kB)\r\n",
      "Collecting requests-oauthlib>=0.7.0\r\n",
      "  Downloading requests_oauthlib-1.3.1-py2.py3-none-any.whl (23 kB)\r\n",
      "Requirement already satisfied: importlib-metadata>=4.4 in ./anaconda3/envs/python3/lib/python3.8/site-packages (from markdown>=2.6.8->tensorboard<2.10,>=2.9->tensorflow) (4.11.3)\r\n",
      "Requirement already satisfied: charset-normalizer~=2.0.0 in ./anaconda3/envs/python3/lib/python3.8/site-packages (from requests<3,>=2.21.0->tensorboard<2.10,>=2.9->tensorflow) (2.0.12)\r\n",
      "Requirement already satisfied: certifi>=2017.4.17 in ./anaconda3/envs/python3/lib/python3.8/site-packages (from requests<3,>=2.21.0->tensorboard<2.10,>=2.9->tensorflow) (2020.12.5)\r\n",
      "Requirement already satisfied: urllib3<1.27,>=1.21.1 in ./anaconda3/envs/python3/lib/python3.8/site-packages (from requests<3,>=2.21.0->tensorboard<2.10,>=2.9->tensorflow) (1.26.9)\r\n",
      "Requirement already satisfied: idna<4,>=2.5 in ./anaconda3/envs/python3/lib/python3.8/site-packages (from requests<3,>=2.21.0->tensorboard<2.10,>=2.9->tensorflow) (3.3)\r\n",
      "Requirement already satisfied: zipp>=0.5 in ./anaconda3/envs/python3/lib/python3.8/site-packages (from importlib-metadata>=4.4->markdown>=2.6.8->tensorboard<2.10,>=2.9->tensorflow) (3.7.0)\r\n",
      "Requirement already satisfied: pyasn1<0.5.0,>=0.4.6 in ./anaconda3/envs/python3/lib/python3.8/site-packages (from pyasn1-modules>=0.2.1->google-auth<3,>=1.6.3->tensorboard<2.10,>=2.9->tensorflow) (0.4.8)\r\n",
      "Requirement already satisfied: oauthlib>=3.0.0 in ./anaconda3/envs/python3/lib/python3.8/site-packages (from requests-oauthlib>=0.7.0->google-auth-oauthlib<0.5,>=0.4.1->tensorboard<2.10,>=2.9->tensorflow) (3.2.0)\r\n",
      "Installing collected packages: tensorboard-plugin-wit, libclang, keras, flatbuffers, tensorflow-io-gcs-filesystem, tensorflow-estimator, tensorboard-data-server, pyasn1-modules, opt-einsum, keras-preprocessing, grpcio, gast, cachetools, astunparse, absl-py, requests-oauthlib, google-auth, google-auth-oauthlib, tensorboard, tensorflow\r\n",
      "Successfully installed absl-py-1.2.0 astunparse-1.6.3 cachetools-5.2.0 flatbuffers-1.12 gast-0.4.0 google-auth-2.9.1 google-auth-oauthlib-0.4.6 grpcio-1.48.0 keras-2.9.0 keras-preprocessing-1.1.2 libclang-14.0.1 opt-einsum-3.3.0 pyasn1-modules-0.2.8 requests-oauthlib-1.3.1 tensorboard-2.9.1 tensorboard-data-server-0.6.1 tensorboard-plugin-wit-1.8.1 tensorflow-2.9.1 tensorflow-estimator-2.9.0 tensorflow-io-gcs-filesystem-0.26.0\r\n",
      "\u001B[33mWARNING: You are using pip version 22.0.4; however, version 22.2 is available.\r\n",
      "You should consider upgrading via the '/home/ubuntu/anaconda3/envs/python3/bin/python -m pip install --upgrade pip' command.\u001B[0m\u001B[33m\r\n",
      "\u001B[0mNote: you may need to restart the kernel to use updated packages.\n"
     ]
    }
   ],
   "source": [
    "%pip install tensorflow keras"
   ],
   "metadata": {
    "collapsed": false,
    "pycharm": {
     "name": "#%%\n"
    }
   }
  },
  {
   "cell_type": "code",
   "execution_count": 3,
   "outputs": [],
   "source": [
    "# library import\n",
    "import os\n",
    "import lightgbm as lgb\n",
    "import pandas as pd\n",
    "import numpy as np\n",
    "import tensorflow as tf\n",
    "from tqdm import tqdm\n",
    "from sklearn.preprocessing import MinMaxScaler\n",
    "from keras.models import Sequential, load_model\n",
    "from keras.layers import LSTM, Dense, Dropout\n",
    "import seaborn as sns\n",
    "\n",
    "pd.set_option('display.max_columns',150)\n",
    "pd.set_option('display.max_rows',50)\n",
    "\n",
    "os.chdir('ml4t')"
   ],
   "metadata": {
    "collapsed": false,
    "pycharm": {
     "name": "#%%\n"
    }
   }
  },
  {
   "cell_type": "code",
   "execution_count": 4,
   "outputs": [
    {
     "data": {
      "text/plain": "    TradeDate               BarDateTime Ticker  SecId OpenBarTimeOffset  \\\n0  2012-01-03 2012-01-03 04:00:00-05:00   AAPL      0                 0   \n1  2012-01-03 2012-01-03 04:01:00-05:00   AAPL      0                 0   \n2  2012-01-03 2012-01-03 04:02:00-05:00   AAPL      0                 0   \n3  2012-01-03 2012-01-03 04:03:00-05:00   AAPL      0                 0   \n4  2012-01-03 2012-01-03 04:04:00-05:00   AAPL      0                 0   \n\n  OpenBidPrice  OpenBidSize OpenAskPrice  OpenAskSize FirstTradeTimeOffset  \\\n0         0.00            0         0.00            0          0.900000000   \n1       410.13          200       412.00          300                 0E-9   \n2       410.21          100       412.00          300                 0E-9   \n3       410.21          100       412.00          300                 0E-9   \n4       410.21          100       412.00          300                 0E-9   \n\n  FirstTradePrice  FirstTradeSize HighBidTimeOffset HighBidPrice  HighBidSize  \\\n0        404.8000             100       0.886000000       410.18          200   \n1          0.0000               0      40.727000000       410.28          200   \n2          0.0000               0              0E-9       410.21          100   \n3          0.0000               0              0E-9       410.21          100   \n4          0.0000               0      21.061000000       411.00          100   \n\n  HighAskTimeOffset HighAskPrice  HighAskSize HighTradeTimeOffset  \\\n0       0.705000000       412.00          600        25.310000000   \n1              0E-9       412.00          300                0E-9   \n2              0E-9       412.00          300                0E-9   \n3              0E-9       412.00          300                0E-9   \n4              0E-9       412.00          300                0E-9   \n\n  HighTradePrice  HighTradeSize LowBidTimeOffset LowBidPrice  LowBidSize  \\\n0       412.0000            159      0.705000000      410.10         400   \n1         0.0000              0      2.073000000      410.10         800   \n2         0.0000              0             0E-9      410.21         100   \n3         0.0000              0             0E-9      410.21         100   \n4         0.0000              0             0E-9      410.21         100   \n\n  LowAskTimeOffset LowAskPrice  LowAskSize LowTradeTimeOffset LowTradePrice  \\\n0      0.705000000      412.00         600        0.900000000      404.8000   \n1             0E-9      412.00         300               0E-9        0.0000   \n2             0E-9      412.00         300               0E-9        0.0000   \n3             0E-9      412.00         300               0E-9        0.0000   \n4     54.597000000      411.90         200               0E-9        0.0000   \n\n   LowTradeSize CloseBarTimeOffset CloseBidPrice  CloseBidSize CloseAskPrice  \\\n0           100       59.999000000        410.13           200        412.00   \n1             0       59.999000000        410.21           100        412.00   \n2             0       59.999000000        410.21           100        412.00   \n3             0       59.999000000        410.21           100        412.00   \n4             0       59.999000000        411.00           100        411.90   \n\n   CloseAskSize LastTradeTimeOffset LastTradePrice  LastTradeSize MinSpread  \\\n0           300        48.680000000       412.0000            100      1.82   \n1           300                0E-9         0.0000              0      1.72   \n2           300                0E-9         0.0000              0      1.79   \n3           300                0E-9         0.0000              0      1.79   \n4           200                0E-9         0.0000              0      0.90   \n\n  MaxSpread  CancelSize VolumeWeightPrice  NBBOQuoteCount  TradeAtBid  \\\n0      1.90           0         408.26676             304        2500   \n1      1.90           0           0.00000             196           0   \n2      1.79           0           0.00000               0           0   \n3      1.79           0           0.00000               0           0   \n4      1.79           0           0.00000               4           0   \n\n   TradeAtBidMid  TradeAtMid  TradeAtMidAsk  TradeAtAsk  TradeAtCrossOrLocked  \\\n0              0           0              0         259                     0   \n1              0           0              0           0                     0   \n2              0           0              0           0                     0   \n3              0           0              0           0                     0   \n4              0           0              0           0                     0   \n\n   Volume  TotalTrades  FinraVolume FinraVolumeWeightPrice  UptickVolume  \\\n0    2759           10            0                0.00000           659   \n1       0            0            0                0.00000             0   \n2       0            0            0                0.00000             0   \n3       0            0            0                0.00000             0   \n4       0            0            0                0.00000             0   \n\n   DowntickVolume  RepeatUptickVolume  RepeatDowntickVolume  \\\n0               0                1100                     0   \n1               0                   0                     0   \n2               0                   0                     0   \n3               0                   0                     0   \n4               0                   0                     0   \n\n   UnknownTickVolume TradeToMidVolWeight TradeToMidVolWeightRelative  \\\n0               1000          -282.12849                    -1.55123   \n1                  0             0.00000                     0.00000   \n2                  0             0.00000                     0.00000   \n3                  0             0.00000                     0.00000   \n4                  0             0.00000                     0.00000   \n\n  TimeWeightBid TimeWeightAsk  \n0     410.13000     412.00000  \n1     410.21000     412.00000  \n2     410.21000     412.00000  \n3     410.21000     412.00000  \n4     411.00000     411.90000  ",
      "text/html": "<div>\n<style scoped>\n    .dataframe tbody tr th:only-of-type {\n        vertical-align: middle;\n    }\n\n    .dataframe tbody tr th {\n        vertical-align: top;\n    }\n\n    .dataframe thead th {\n        text-align: right;\n    }\n</style>\n<table border=\"1\" class=\"dataframe\">\n  <thead>\n    <tr style=\"text-align: right;\">\n      <th></th>\n      <th>TradeDate</th>\n      <th>BarDateTime</th>\n      <th>Ticker</th>\n      <th>SecId</th>\n      <th>OpenBarTimeOffset</th>\n      <th>OpenBidPrice</th>\n      <th>OpenBidSize</th>\n      <th>OpenAskPrice</th>\n      <th>OpenAskSize</th>\n      <th>FirstTradeTimeOffset</th>\n      <th>FirstTradePrice</th>\n      <th>FirstTradeSize</th>\n      <th>HighBidTimeOffset</th>\n      <th>HighBidPrice</th>\n      <th>HighBidSize</th>\n      <th>HighAskTimeOffset</th>\n      <th>HighAskPrice</th>\n      <th>HighAskSize</th>\n      <th>HighTradeTimeOffset</th>\n      <th>HighTradePrice</th>\n      <th>HighTradeSize</th>\n      <th>LowBidTimeOffset</th>\n      <th>LowBidPrice</th>\n      <th>LowBidSize</th>\n      <th>LowAskTimeOffset</th>\n      <th>LowAskPrice</th>\n      <th>LowAskSize</th>\n      <th>LowTradeTimeOffset</th>\n      <th>LowTradePrice</th>\n      <th>LowTradeSize</th>\n      <th>CloseBarTimeOffset</th>\n      <th>CloseBidPrice</th>\n      <th>CloseBidSize</th>\n      <th>CloseAskPrice</th>\n      <th>CloseAskSize</th>\n      <th>LastTradeTimeOffset</th>\n      <th>LastTradePrice</th>\n      <th>LastTradeSize</th>\n      <th>MinSpread</th>\n      <th>MaxSpread</th>\n      <th>CancelSize</th>\n      <th>VolumeWeightPrice</th>\n      <th>NBBOQuoteCount</th>\n      <th>TradeAtBid</th>\n      <th>TradeAtBidMid</th>\n      <th>TradeAtMid</th>\n      <th>TradeAtMidAsk</th>\n      <th>TradeAtAsk</th>\n      <th>TradeAtCrossOrLocked</th>\n      <th>Volume</th>\n      <th>TotalTrades</th>\n      <th>FinraVolume</th>\n      <th>FinraVolumeWeightPrice</th>\n      <th>UptickVolume</th>\n      <th>DowntickVolume</th>\n      <th>RepeatUptickVolume</th>\n      <th>RepeatDowntickVolume</th>\n      <th>UnknownTickVolume</th>\n      <th>TradeToMidVolWeight</th>\n      <th>TradeToMidVolWeightRelative</th>\n      <th>TimeWeightBid</th>\n      <th>TimeWeightAsk</th>\n    </tr>\n  </thead>\n  <tbody>\n    <tr>\n      <th>0</th>\n      <td>2012-01-03</td>\n      <td>2012-01-03 04:00:00-05:00</td>\n      <td>AAPL</td>\n      <td>0</td>\n      <td>0</td>\n      <td>0.00</td>\n      <td>0</td>\n      <td>0.00</td>\n      <td>0</td>\n      <td>0.900000000</td>\n      <td>404.8000</td>\n      <td>100</td>\n      <td>0.886000000</td>\n      <td>410.18</td>\n      <td>200</td>\n      <td>0.705000000</td>\n      <td>412.00</td>\n      <td>600</td>\n      <td>25.310000000</td>\n      <td>412.0000</td>\n      <td>159</td>\n      <td>0.705000000</td>\n      <td>410.10</td>\n      <td>400</td>\n      <td>0.705000000</td>\n      <td>412.00</td>\n      <td>600</td>\n      <td>0.900000000</td>\n      <td>404.8000</td>\n      <td>100</td>\n      <td>59.999000000</td>\n      <td>410.13</td>\n      <td>200</td>\n      <td>412.00</td>\n      <td>300</td>\n      <td>48.680000000</td>\n      <td>412.0000</td>\n      <td>100</td>\n      <td>1.82</td>\n      <td>1.90</td>\n      <td>0</td>\n      <td>408.26676</td>\n      <td>304</td>\n      <td>2500</td>\n      <td>0</td>\n      <td>0</td>\n      <td>0</td>\n      <td>259</td>\n      <td>0</td>\n      <td>2759</td>\n      <td>10</td>\n      <td>0</td>\n      <td>0.00000</td>\n      <td>659</td>\n      <td>0</td>\n      <td>1100</td>\n      <td>0</td>\n      <td>1000</td>\n      <td>-282.12849</td>\n      <td>-1.55123</td>\n      <td>410.13000</td>\n      <td>412.00000</td>\n    </tr>\n    <tr>\n      <th>1</th>\n      <td>2012-01-03</td>\n      <td>2012-01-03 04:01:00-05:00</td>\n      <td>AAPL</td>\n      <td>0</td>\n      <td>0</td>\n      <td>410.13</td>\n      <td>200</td>\n      <td>412.00</td>\n      <td>300</td>\n      <td>0E-9</td>\n      <td>0.0000</td>\n      <td>0</td>\n      <td>40.727000000</td>\n      <td>410.28</td>\n      <td>200</td>\n      <td>0E-9</td>\n      <td>412.00</td>\n      <td>300</td>\n      <td>0E-9</td>\n      <td>0.0000</td>\n      <td>0</td>\n      <td>2.073000000</td>\n      <td>410.10</td>\n      <td>800</td>\n      <td>0E-9</td>\n      <td>412.00</td>\n      <td>300</td>\n      <td>0E-9</td>\n      <td>0.0000</td>\n      <td>0</td>\n      <td>59.999000000</td>\n      <td>410.21</td>\n      <td>100</td>\n      <td>412.00</td>\n      <td>300</td>\n      <td>0E-9</td>\n      <td>0.0000</td>\n      <td>0</td>\n      <td>1.72</td>\n      <td>1.90</td>\n      <td>0</td>\n      <td>0.00000</td>\n      <td>196</td>\n      <td>0</td>\n      <td>0</td>\n      <td>0</td>\n      <td>0</td>\n      <td>0</td>\n      <td>0</td>\n      <td>0</td>\n      <td>0</td>\n      <td>0</td>\n      <td>0.00000</td>\n      <td>0</td>\n      <td>0</td>\n      <td>0</td>\n      <td>0</td>\n      <td>0</td>\n      <td>0.00000</td>\n      <td>0.00000</td>\n      <td>410.21000</td>\n      <td>412.00000</td>\n    </tr>\n    <tr>\n      <th>2</th>\n      <td>2012-01-03</td>\n      <td>2012-01-03 04:02:00-05:00</td>\n      <td>AAPL</td>\n      <td>0</td>\n      <td>0</td>\n      <td>410.21</td>\n      <td>100</td>\n      <td>412.00</td>\n      <td>300</td>\n      <td>0E-9</td>\n      <td>0.0000</td>\n      <td>0</td>\n      <td>0E-9</td>\n      <td>410.21</td>\n      <td>100</td>\n      <td>0E-9</td>\n      <td>412.00</td>\n      <td>300</td>\n      <td>0E-9</td>\n      <td>0.0000</td>\n      <td>0</td>\n      <td>0E-9</td>\n      <td>410.21</td>\n      <td>100</td>\n      <td>0E-9</td>\n      <td>412.00</td>\n      <td>300</td>\n      <td>0E-9</td>\n      <td>0.0000</td>\n      <td>0</td>\n      <td>59.999000000</td>\n      <td>410.21</td>\n      <td>100</td>\n      <td>412.00</td>\n      <td>300</td>\n      <td>0E-9</td>\n      <td>0.0000</td>\n      <td>0</td>\n      <td>1.79</td>\n      <td>1.79</td>\n      <td>0</td>\n      <td>0.00000</td>\n      <td>0</td>\n      <td>0</td>\n      <td>0</td>\n      <td>0</td>\n      <td>0</td>\n      <td>0</td>\n      <td>0</td>\n      <td>0</td>\n      <td>0</td>\n      <td>0</td>\n      <td>0.00000</td>\n      <td>0</td>\n      <td>0</td>\n      <td>0</td>\n      <td>0</td>\n      <td>0</td>\n      <td>0.00000</td>\n      <td>0.00000</td>\n      <td>410.21000</td>\n      <td>412.00000</td>\n    </tr>\n    <tr>\n      <th>3</th>\n      <td>2012-01-03</td>\n      <td>2012-01-03 04:03:00-05:00</td>\n      <td>AAPL</td>\n      <td>0</td>\n      <td>0</td>\n      <td>410.21</td>\n      <td>100</td>\n      <td>412.00</td>\n      <td>300</td>\n      <td>0E-9</td>\n      <td>0.0000</td>\n      <td>0</td>\n      <td>0E-9</td>\n      <td>410.21</td>\n      <td>100</td>\n      <td>0E-9</td>\n      <td>412.00</td>\n      <td>300</td>\n      <td>0E-9</td>\n      <td>0.0000</td>\n      <td>0</td>\n      <td>0E-9</td>\n      <td>410.21</td>\n      <td>100</td>\n      <td>0E-9</td>\n      <td>412.00</td>\n      <td>300</td>\n      <td>0E-9</td>\n      <td>0.0000</td>\n      <td>0</td>\n      <td>59.999000000</td>\n      <td>410.21</td>\n      <td>100</td>\n      <td>412.00</td>\n      <td>300</td>\n      <td>0E-9</td>\n      <td>0.0000</td>\n      <td>0</td>\n      <td>1.79</td>\n      <td>1.79</td>\n      <td>0</td>\n      <td>0.00000</td>\n      <td>0</td>\n      <td>0</td>\n      <td>0</td>\n      <td>0</td>\n      <td>0</td>\n      <td>0</td>\n      <td>0</td>\n      <td>0</td>\n      <td>0</td>\n      <td>0</td>\n      <td>0.00000</td>\n      <td>0</td>\n      <td>0</td>\n      <td>0</td>\n      <td>0</td>\n      <td>0</td>\n      <td>0.00000</td>\n      <td>0.00000</td>\n      <td>410.21000</td>\n      <td>412.00000</td>\n    </tr>\n    <tr>\n      <th>4</th>\n      <td>2012-01-03</td>\n      <td>2012-01-03 04:04:00-05:00</td>\n      <td>AAPL</td>\n      <td>0</td>\n      <td>0</td>\n      <td>410.21</td>\n      <td>100</td>\n      <td>412.00</td>\n      <td>300</td>\n      <td>0E-9</td>\n      <td>0.0000</td>\n      <td>0</td>\n      <td>21.061000000</td>\n      <td>411.00</td>\n      <td>100</td>\n      <td>0E-9</td>\n      <td>412.00</td>\n      <td>300</td>\n      <td>0E-9</td>\n      <td>0.0000</td>\n      <td>0</td>\n      <td>0E-9</td>\n      <td>410.21</td>\n      <td>100</td>\n      <td>54.597000000</td>\n      <td>411.90</td>\n      <td>200</td>\n      <td>0E-9</td>\n      <td>0.0000</td>\n      <td>0</td>\n      <td>59.999000000</td>\n      <td>411.00</td>\n      <td>100</td>\n      <td>411.90</td>\n      <td>200</td>\n      <td>0E-9</td>\n      <td>0.0000</td>\n      <td>0</td>\n      <td>0.90</td>\n      <td>1.79</td>\n      <td>0</td>\n      <td>0.00000</td>\n      <td>4</td>\n      <td>0</td>\n      <td>0</td>\n      <td>0</td>\n      <td>0</td>\n      <td>0</td>\n      <td>0</td>\n      <td>0</td>\n      <td>0</td>\n      <td>0</td>\n      <td>0.00000</td>\n      <td>0</td>\n      <td>0</td>\n      <td>0</td>\n      <td>0</td>\n      <td>0</td>\n      <td>0.00000</td>\n      <td>0.00000</td>\n      <td>411.00000</td>\n      <td>411.90000</td>\n    </tr>\n  </tbody>\n</table>\n</div>"
     },
     "execution_count": 4,
     "metadata": {},
     "output_type": "execute_result"
    }
   ],
   "source": [
    "df = pd.read_parquet('data/us_equity/taq_min/AAPL.parquet')\n",
    "df.head()"
   ],
   "metadata": {
    "collapsed": false,
    "pycharm": {
     "name": "#%%\n"
    }
   }
  },
  {
   "cell_type": "code",
   "execution_count": 10,
   "outputs": [],
   "source": [
    "dataset = df['LastTradePrice'].values"
   ],
   "metadata": {
    "collapsed": false,
    "pycharm": {
     "name": "#%%\n"
    }
   }
  },
  {
   "cell_type": "code",
   "execution_count": 12,
   "outputs": [],
   "source": [
    "dataset = dataset.reshape(-1, 1)"
   ],
   "metadata": {
    "collapsed": false,
    "pycharm": {
     "name": "#%%\n"
    }
   }
  },
  {
   "cell_type": "code",
   "execution_count": 14,
   "outputs": [],
   "source": [
    "dataset_train = np.array(dataset[:int(dataset.shape[0]*0.8)])\n",
    "dataset_test = np.array(dataset[int(dataset.shape[0]*0.8):])\n",
    "scaler = MinMaxScaler(feature_range=(0,1))\n",
    "dataset_train = scaler.fit_transform(dataset_train)\n",
    "dataset_test = scaler.transform(dataset_test)"
   ],
   "metadata": {
    "collapsed": false,
    "pycharm": {
     "name": "#%%\n"
    }
   }
  },
  {
   "cell_type": "code",
   "execution_count": 15,
   "outputs": [],
   "source": [
    "def create_dataset(df):\n",
    "    x = []\n",
    "    y = []\n",
    "    for i in range(50, df.shape[0]):\n",
    "        x.append(df[i-50:i, 0])\n",
    "        y.append(df[i, 0])\n",
    "    x = np.array(x)\n",
    "    y = np.array(y)\n",
    "    return x,y"
   ],
   "metadata": {
    "collapsed": false,
    "pycharm": {
     "name": "#%%\n"
    }
   }
  },
  {
   "cell_type": "code",
   "execution_count": 16,
   "outputs": [],
   "source": [
    "x_train, y_train = create_dataset(dataset_train)\n",
    "x_test, y_test = create_dataset(dataset_test)"
   ],
   "metadata": {
    "collapsed": false,
    "pycharm": {
     "name": "#%%\n"
    }
   }
  },
  {
   "cell_type": "code",
   "execution_count": 17,
   "outputs": [],
   "source": [
    "x_train = np.reshape(x_train, (x_train.shape[0], x_train.shape[1], 1))\n",
    "x_test = np.reshape(x_test, (x_test.shape[0], x_test.shape[1], 1))"
   ],
   "metadata": {
    "collapsed": false,
    "pycharm": {
     "name": "#%%\n"
    }
   }
  },
  {
   "cell_type": "code",
   "execution_count": 18,
   "outputs": [
    {
     "name": "stderr",
     "output_type": "stream",
     "text": [
      "2022-07-30 10:17:25.985364: E tensorflow/stream_executor/cuda/cuda_driver.cc:271] failed call to cuInit: CUDA_ERROR_NO_DEVICE: no CUDA-capable device is detected\n",
      "2022-07-30 10:17:25.985422: I tensorflow/stream_executor/cuda/cuda_diagnostics.cc:156] kernel driver does not appear to be running on this host (ip-10-0-10-80): /proc/driver/nvidia/version does not exist\n",
      "2022-07-30 10:17:25.987824: I tensorflow/core/platform/cpu_feature_guard.cc:193] This TensorFlow binary is optimized with oneAPI Deep Neural Network Library (oneDNN) to use the following CPU instructions in performance-critical operations:  AVX2 AVX512F FMA\n",
      "To enable them in other operations, rebuild TensorFlow with the appropriate compiler flags.\n"
     ]
    }
   ],
   "source": [
    "\n",
    "model = Sequential()\n",
    "model.add(LSTM(units=96, return_sequences=True, input_shape=(x_train.shape[1], 1)))\n",
    "model.add(Dropout(0.2))\n",
    "model.add(LSTM(units=96,return_sequences=True))\n",
    "model.add(Dropout(0.2))\n",
    "model.add(LSTM(units=96,return_sequences=True))\n",
    "model.add(Dropout(0.2))\n",
    "model.add(LSTM(units=96))\n",
    "model.add(Dropout(0.2))\n",
    "model.add(Dense(units=1))"
   ],
   "metadata": {
    "collapsed": false,
    "pycharm": {
     "name": "#%%\n"
    }
   }
  },
  {
   "cell_type": "code",
   "execution_count": 19,
   "outputs": [],
   "source": [
    "x_train = np.reshape(x_train, (x_train.shape[0], x_train.shape[1], 1))\n",
    "x_test = np.reshape(x_test, (x_test.shape[0], x_test.shape[1], 1))"
   ],
   "metadata": {
    "collapsed": false,
    "pycharm": {
     "name": "#%%\n"
    }
   }
  },
  {
   "cell_type": "code",
   "execution_count": 20,
   "outputs": [],
   "source": [
    "model.compile(loss='mean_squared_error', optimizer='adam')\n"
   ],
   "metadata": {
    "collapsed": false,
    "pycharm": {
     "name": "#%%\n"
    }
   }
  },
  {
   "cell_type": "code",
   "execution_count": null,
   "outputs": [],
   "source": [
    "model.fit(x_train, y_train, epochs=50, batch_size=32)\n"
   ],
   "metadata": {
    "collapsed": false,
    "pycharm": {
     "name": "#%%\n"
    }
   }
  },
  {
   "cell_type": "code",
   "execution_count": null,
   "outputs": [],
   "source": [
    "import matplotlib.pyplot as plt\n",
    "predictions = model.predict(x_test)\n",
    "predictions = scaler.inverse_transform(predictions)\n",
    "y_test_scaled = scaler.inverse_transform(y_test.reshape(-1, 1))\n",
    "\n",
    "fig, ax = plt.subplots(figsize=(16,8))\n",
    "ax.set_facecolor('black')\n",
    "ax.plot(y_test_scaled, color='red', label='Original price')\n",
    "plt.plot(predictions, color='cyan', label='Predicted price')\n",
    "plt.title('Stock price vs Predict price')\n",
    "plt.legend()"
   ],
   "metadata": {
    "collapsed": false,
    "pycharm": {
     "name": "#%%\n"
    }
   }
  }
 ],
 "metadata": {
  "kernelspec": {
   "display_name": "Python 3",
   "language": "python",
   "name": "python3"
  },
  "language_info": {
   "codemirror_mode": {
    "name": "ipython",
    "version": 2
   },
   "file_extension": ".py",
   "mimetype": "text/x-python",
   "name": "python",
   "nbconvert_exporter": "python",
   "pygments_lexer": "ipython2",
   "version": "2.7.6"
  }
 },
 "nbformat": 4,
 "nbformat_minor": 0
}