{
 "cells": [
  {
   "cell_type": "markdown",
   "source": [
    "# Linear Regression - Intraday Data"
   ],
   "metadata": {
    "collapsed": false,
    "pycharm": {
     "name": "#%% md\n"
    }
   }
  },
  {
   "cell_type": "code",
   "execution_count": null,
   "metadata": {
    "collapsed": true,
    "pycharm": {
     "name": "#%%\n"
    }
   },
   "outputs": [],
   "source": []
  },
  {
   "cell_type": "markdown",
   "source": [
    "## 1) Simple Linear Regression"
   ],
   "metadata": {
    "collapsed": false,
    "pycharm": {
     "name": "#%% md\n"
    }
   }
  },
  {
   "cell_type": "code",
   "execution_count": 3,
   "outputs": [],
   "source": [
    "# from lazypredict.Supervised import LazyRegressor\n",
    "from pandas.plotting import scatter_matrix# Scikit-learn packages\n",
    "from sklearn.linear_model import LinearRegression\n",
    "from sklearn.tree import DecisionTreeRegressor\n",
    "from sklearn.ensemble import ExtraTreesRegressor\n",
    "from sklearn import metrics\n",
    "from sklearn.metrics import mean_squared_error# Hide warnings\n",
    "from sklearn.model_selection import train_test_split\n",
    "import warnings\n",
    "warnings.filterwarnings(\"ignore\")\n",
    "import pandas as pd"
   ],
   "metadata": {
    "collapsed": false,
    "pycharm": {
     "name": "#%%\n"
    }
   }
  },
  {
   "cell_type": "code",
   "execution_count": 4,
   "outputs": [
    {
     "data": {
      "text/plain": "                                   TradeDate  SecId OpenBarTimeOffset  \\\nBarDateTime               Ticker                                        \n2015-05-01 04:00:00-04:00 AAPL    2015-05-01      0                 0   \n2015-05-01 04:01:00-04:00 AAPL    2015-05-01      0                 0   \n2015-05-01 04:02:00-04:00 AAPL    2015-05-01      0                 0   \n2015-05-01 04:03:00-04:00 AAPL    2015-05-01      0                 0   \n2015-05-01 04:04:00-04:00 AAPL    2015-05-01      0                 0   \n\n                                 OpenBidPrice  OpenBidSize OpenAskPrice  \\\nBarDateTime               Ticker                                          \n2015-05-01 04:00:00-04:00 AAPL           0.00            0         0.00   \n2015-05-01 04:01:00-04:00 AAPL         124.51          100       125.67   \n2015-05-01 04:02:00-04:00 AAPL         125.21          100       125.67   \n2015-05-01 04:03:00-04:00 AAPL         125.21          100       125.67   \n2015-05-01 04:04:00-04:00 AAPL         125.21          100       125.67   \n\n                                  OpenAskSize FirstTradeTimeOffset  \\\nBarDateTime               Ticker                                     \n2015-05-01 04:00:00-04:00 AAPL              0                 0E-9   \n2015-05-01 04:01:00-04:00 AAPL            100                 0E-9   \n2015-05-01 04:02:00-04:00 AAPL            100                 0E-9   \n2015-05-01 04:03:00-04:00 AAPL            100                 0E-9   \n2015-05-01 04:04:00-04:00 AAPL            100                 0E-9   \n\n                                  FirstTradePrice  FirstTradeSize  ...  \\\nBarDateTime               Ticker                                   ...   \n2015-05-01 04:00:00-04:00 AAPL                0.0               0  ...   \n2015-05-01 04:01:00-04:00 AAPL                0.0               0  ...   \n2015-05-01 04:02:00-04:00 AAPL                0.0               0  ...   \n2015-05-01 04:03:00-04:00 AAPL                0.0               0  ...   \n2015-05-01 04:04:00-04:00 AAPL                0.0               0  ...   \n\n                                 FinraVolumeWeightPrice UptickVolume  \\\nBarDateTime               Ticker                                       \n2015-05-01 04:00:00-04:00 AAPL                  0.00000            0   \n2015-05-01 04:01:00-04:00 AAPL                  0.00000            0   \n2015-05-01 04:02:00-04:00 AAPL                  0.00000            0   \n2015-05-01 04:03:00-04:00 AAPL                  0.00000            0   \n2015-05-01 04:04:00-04:00 AAPL                  0.00000            0   \n\n                                  DowntickVolume RepeatUptickVolume  \\\nBarDateTime               Ticker                                      \n2015-05-01 04:00:00-04:00 AAPL                 0                  0   \n2015-05-01 04:01:00-04:00 AAPL                 0                  0   \n2015-05-01 04:02:00-04:00 AAPL                 0                  0   \n2015-05-01 04:03:00-04:00 AAPL                 0                  0   \n2015-05-01 04:04:00-04:00 AAPL                 0                  0   \n\n                                 RepeatDowntickVolume  UnknownTickVolume  \\\nBarDateTime               Ticker                                           \n2015-05-01 04:00:00-04:00 AAPL                      0                  0   \n2015-05-01 04:01:00-04:00 AAPL                      0                  0   \n2015-05-01 04:02:00-04:00 AAPL                      0                  0   \n2015-05-01 04:03:00-04:00 AAPL                      0                  0   \n2015-05-01 04:04:00-04:00 AAPL                      0                  0   \n\n                                 TradeToMidVolWeight  \\\nBarDateTime               Ticker                       \n2015-05-01 04:00:00-04:00 AAPL               0.00000   \n2015-05-01 04:01:00-04:00 AAPL               0.00000   \n2015-05-01 04:02:00-04:00 AAPL               0.00000   \n2015-05-01 04:03:00-04:00 AAPL               0.00000   \n2015-05-01 04:04:00-04:00 AAPL               0.00000   \n\n                                  TradeToMidVolWeightRelative  TimeWeightBid  \\\nBarDateTime               Ticker                                               \n2015-05-01 04:00:00-04:00 AAPL                        0.00000      124.51000   \n2015-05-01 04:01:00-04:00 AAPL                        0.00000      125.21000   \n2015-05-01 04:02:00-04:00 AAPL                        0.00000      125.21000   \n2015-05-01 04:03:00-04:00 AAPL                        0.00000      125.21000   \n2015-05-01 04:04:00-04:00 AAPL                        0.00000      125.21000   \n\n                                 TimeWeightAsk  \nBarDateTime               Ticker                \n2015-05-01 04:00:00-04:00 AAPL       125.67000  \n2015-05-01 04:01:00-04:00 AAPL       125.67000  \n2015-05-01 04:02:00-04:00 AAPL       125.67000  \n2015-05-01 04:03:00-04:00 AAPL       125.67000  \n2015-05-01 04:04:00-04:00 AAPL       125.67000  \n\n[5 rows x 60 columns]",
      "text/html": "<div>\n<style scoped>\n    .dataframe tbody tr th:only-of-type {\n        vertical-align: middle;\n    }\n\n    .dataframe tbody tr th {\n        vertical-align: top;\n    }\n\n    .dataframe thead th {\n        text-align: right;\n    }\n</style>\n<table border=\"1\" class=\"dataframe\">\n  <thead>\n    <tr style=\"text-align: right;\">\n      <th></th>\n      <th></th>\n      <th>TradeDate</th>\n      <th>SecId</th>\n      <th>OpenBarTimeOffset</th>\n      <th>OpenBidPrice</th>\n      <th>OpenBidSize</th>\n      <th>OpenAskPrice</th>\n      <th>OpenAskSize</th>\n      <th>FirstTradeTimeOffset</th>\n      <th>FirstTradePrice</th>\n      <th>FirstTradeSize</th>\n      <th>...</th>\n      <th>FinraVolumeWeightPrice</th>\n      <th>UptickVolume</th>\n      <th>DowntickVolume</th>\n      <th>RepeatUptickVolume</th>\n      <th>RepeatDowntickVolume</th>\n      <th>UnknownTickVolume</th>\n      <th>TradeToMidVolWeight</th>\n      <th>TradeToMidVolWeightRelative</th>\n      <th>TimeWeightBid</th>\n      <th>TimeWeightAsk</th>\n    </tr>\n    <tr>\n      <th>BarDateTime</th>\n      <th>Ticker</th>\n      <th></th>\n      <th></th>\n      <th></th>\n      <th></th>\n      <th></th>\n      <th></th>\n      <th></th>\n      <th></th>\n      <th></th>\n      <th></th>\n      <th></th>\n      <th></th>\n      <th></th>\n      <th></th>\n      <th></th>\n      <th></th>\n      <th></th>\n      <th></th>\n      <th></th>\n      <th></th>\n      <th></th>\n    </tr>\n  </thead>\n  <tbody>\n    <tr>\n      <th>2015-05-01 04:00:00-04:00</th>\n      <th>AAPL</th>\n      <td>2015-05-01</td>\n      <td>0</td>\n      <td>0</td>\n      <td>0.00</td>\n      <td>0</td>\n      <td>0.00</td>\n      <td>0</td>\n      <td>0E-9</td>\n      <td>0.0</td>\n      <td>0</td>\n      <td>...</td>\n      <td>0.00000</td>\n      <td>0</td>\n      <td>0</td>\n      <td>0</td>\n      <td>0</td>\n      <td>0</td>\n      <td>0.00000</td>\n      <td>0.00000</td>\n      <td>124.51000</td>\n      <td>125.67000</td>\n    </tr>\n    <tr>\n      <th>2015-05-01 04:01:00-04:00</th>\n      <th>AAPL</th>\n      <td>2015-05-01</td>\n      <td>0</td>\n      <td>0</td>\n      <td>124.51</td>\n      <td>100</td>\n      <td>125.67</td>\n      <td>100</td>\n      <td>0E-9</td>\n      <td>0.0</td>\n      <td>0</td>\n      <td>...</td>\n      <td>0.00000</td>\n      <td>0</td>\n      <td>0</td>\n      <td>0</td>\n      <td>0</td>\n      <td>0</td>\n      <td>0.00000</td>\n      <td>0.00000</td>\n      <td>125.21000</td>\n      <td>125.67000</td>\n    </tr>\n    <tr>\n      <th>2015-05-01 04:02:00-04:00</th>\n      <th>AAPL</th>\n      <td>2015-05-01</td>\n      <td>0</td>\n      <td>0</td>\n      <td>125.21</td>\n      <td>100</td>\n      <td>125.67</td>\n      <td>100</td>\n      <td>0E-9</td>\n      <td>0.0</td>\n      <td>0</td>\n      <td>...</td>\n      <td>0.00000</td>\n      <td>0</td>\n      <td>0</td>\n      <td>0</td>\n      <td>0</td>\n      <td>0</td>\n      <td>0.00000</td>\n      <td>0.00000</td>\n      <td>125.21000</td>\n      <td>125.67000</td>\n    </tr>\n    <tr>\n      <th>2015-05-01 04:03:00-04:00</th>\n      <th>AAPL</th>\n      <td>2015-05-01</td>\n      <td>0</td>\n      <td>0</td>\n      <td>125.21</td>\n      <td>100</td>\n      <td>125.67</td>\n      <td>100</td>\n      <td>0E-9</td>\n      <td>0.0</td>\n      <td>0</td>\n      <td>...</td>\n      <td>0.00000</td>\n      <td>0</td>\n      <td>0</td>\n      <td>0</td>\n      <td>0</td>\n      <td>0</td>\n      <td>0.00000</td>\n      <td>0.00000</td>\n      <td>125.21000</td>\n      <td>125.67000</td>\n    </tr>\n    <tr>\n      <th>2015-05-01 04:04:00-04:00</th>\n      <th>AAPL</th>\n      <td>2015-05-01</td>\n      <td>0</td>\n      <td>0</td>\n      <td>125.21</td>\n      <td>100</td>\n      <td>125.67</td>\n      <td>100</td>\n      <td>0E-9</td>\n      <td>0.0</td>\n      <td>0</td>\n      <td>...</td>\n      <td>0.00000</td>\n      <td>0</td>\n      <td>0</td>\n      <td>0</td>\n      <td>0</td>\n      <td>0</td>\n      <td>0.00000</td>\n      <td>0.00000</td>\n      <td>125.21000</td>\n      <td>125.67000</td>\n    </tr>\n  </tbody>\n</table>\n<p>5 rows × 60 columns</p>\n</div>"
     },
     "execution_count": 4,
     "metadata": {},
     "output_type": "execute_result"
    }
   ],
   "source": [
    "\n",
    "# Read data\n",
    "dataset = pd.read_parquet('../data/us_equity/taq_min/AAPL.parquet')\n",
    "\n",
    "# Only keep close columns\n",
    "dataset.head()"
   ],
   "metadata": {
    "collapsed": false,
    "pycharm": {
     "name": "#%%\n"
    }
   }
  },
  {
   "cell_type": "code",
   "execution_count": 7,
   "outputs": [],
   "source": [
    "dataset = dataset.swaplevel(1,0)"
   ],
   "metadata": {
    "collapsed": false,
    "pycharm": {
     "name": "#%%\n"
    }
   }
  },
  {
   "cell_type": "code",
   "execution_count": 8,
   "outputs": [],
   "source": [
    "dataset=dataset.astype({'OpenBidPrice': 'float64',\n",
    "'OpenAskPrice': 'float64',\n",
    "'FirstTradePrice': 'float64',\n",
    "'HighBidPrice': 'float64',\n",
    "'HighAskPrice': 'float64',\n",
    "'HighTradePrice': 'float64',\n",
    "'LowBidPrice': 'float64',\n",
    "'LowAskPrice': 'float64',\n",
    "'LowTradePrice': 'float64',\n",
    "'CloseBidPrice': 'float64',\n",
    "'CloseAskPrice': 'float64',\n",
    "'LastTradePrice': 'float64',\n",
    "'MinSpread': 'float64',\n",
    "'MaxSpread': 'float64',\n",
    "'VolumeWeightPrice': 'float64',\n",
    "'FinraVolumeWeightPrice': 'float64',\n",
    "'TradeToMidVolWeight': 'float64',\n",
    "'TradeToMidVolWeightRelative': 'float64',\n",
    "'TimeWeightBid': 'float64',\n",
    "'TimeWeightAsk': 'float64'})"
   ],
   "metadata": {
    "collapsed": false,
    "pycharm": {
     "name": "#%%\n"
    }
   }
  },
  {
   "cell_type": "code",
   "execution_count": 9,
   "outputs": [],
   "source": [
    "dataset=dataset.dropna()"
   ],
   "metadata": {
    "collapsed": false,
    "pycharm": {
     "name": "#%%\n"
    }
   }
  },
  {
   "cell_type": "code",
   "execution_count": 10,
   "outputs": [
    {
     "data": {
      "text/plain": "(2482081, 60)"
     },
     "execution_count": 10,
     "metadata": {},
     "output_type": "execute_result"
    }
   ],
   "source": [
    "dataset.shape"
   ],
   "metadata": {
    "collapsed": false,
    "pycharm": {
     "name": "#%%\n"
    }
   }
  },
  {
   "cell_type": "code",
   "execution_count": 11,
   "outputs": [
    {
     "data": {
      "text/plain": "<AxesSubplot:xlabel='LastTradePrice', ylabel='Density'>"
     },
     "execution_count": 11,
     "metadata": {},
     "output_type": "execute_result"
    },
    {
     "data": {
      "text/plain": "<Figure size 432x288 with 1 Axes>",
      "image/png": "[encoded data removed]"
     },
     "metadata": {
      "needs_background": "light"
     },
     "output_type": "display_data"
    }
   ],
   "source": [
    "import seaborn as sns\n",
    "sns.distplot(dataset['LastTradePrice'])"
   ],
   "metadata": {
    "collapsed": false,
    "pycharm": {
     "name": "#%%\n"
    }
   }
  },
  {
   "cell_type": "code",
   "execution_count": 12,
   "outputs": [
    {
     "data": {
      "text/plain": "<AxesSubplot:>"
     },
     "execution_count": 12,
     "metadata": {},
     "output_type": "execute_result"
    },
    {
     "data": {
      "text/plain": "<Figure size 432x288 with 2 Axes>",
      "image/png": "[encoded data removed]"
     },
     "metadata": {
      "needs_background": "light"
     },
     "output_type": "display_data"
    }
   ],
   "source": [
    "sns.heatmap(dataset.corr())"
   ],
   "metadata": {
    "collapsed": false,
    "pycharm": {
     "name": "#%%\n"
    }
   }
  },
  {
   "cell_type": "code",
   "execution_count": 15,
   "outputs": [],
   "source": [
    "\n",
    "# Creating train test split\n",
    "X = dataset.drop(columns=['LastTradePrice', 'TradeDate'])\n",
    "y = dataset['LastTradePrice']\n",
    "\n",
    "X_train, X_test, y_train, y_test = train_test_split(X, y,\n",
    "                                   test_size=0.4, random_state=101)"
   ],
   "metadata": {
    "collapsed": false,
    "pycharm": {
     "name": "#%%\n"
    }
   }
  },
  {
   "cell_type": "code",
   "execution_count": 16,
   "outputs": [
    {
     "data": {
      "text/plain": "LinearRegression()"
     },
     "execution_count": 16,
     "metadata": {},
     "output_type": "execute_result"
    }
   ],
   "source": [
    "\n",
    "lm = LinearRegression()\n",
    "lm.fit(X_train,y_train)"
   ],
   "metadata": {
    "collapsed": false,
    "pycharm": {
     "name": "#%%\n"
    }
   }
  },
  {
   "cell_type": "code",
   "execution_count": 17,
   "outputs": [
    {
     "name": "stdout",
     "output_type": "stream",
     "text": [
      "-739.7462423370421\n"
     ]
    }
   ],
   "source": [
    "print(lm.intercept_)\n"
   ],
   "metadata": {
    "collapsed": false,
    "pycharm": {
     "name": "#%%\n"
    }
   }
  },
  {
   "cell_type": "code",
   "execution_count": 18,
   "outputs": [
    {
     "data": {
      "text/plain": "                              Coefficient\nSecId                        9.037003e-08\nOpenBarTimeOffset            9.850572e+02\nOpenBidPrice                -4.864653e-02\nOpenBidSize                 -1.169581e-06\nOpenAskPrice                 4.847636e-02\nOpenAskSize                 -1.537173e-08\nFirstTradeTimeOffset        -4.799681e-04\nFirstTradePrice              2.278794e-01\nFirstTradeSize               1.682841e-08\nHighBidTimeOffset            1.615699e-05\nHighBidPrice                 1.318282e-01\nHighBidSize                  2.702737e-06\nHighAskTimeOffset            1.640353e-04\nHighAskPrice                 9.211748e-04\nHighAskSize                  2.267087e-08\nHighTradeTimeOffset          1.154201e-03\nHighTradePrice               9.052092e-02\nHighTradeSize               -2.138829e-09\nLowBidTimeOffset            -1.925623e-04\nLowBidPrice                 -6.365648e-03\nLowBidSize                  -5.176317e-07\nLowAskTimeOffset            -2.453066e-04\nLowAskPrice                 -2.922730e-01\nLowAskSize                  -3.880052e-07\nLowTradeTimeOffset          -9.020438e-04\nLowTradePrice                6.814493e-01\nLowTradeSize                 3.014484e-08\nCloseBarTimeOffset           1.232908e+01\nCloseBidPrice                4.753339e-01\nCloseBidSize                -1.327083e-06\nCloseAskPrice                2.402967e-01\nCloseAskSize                -2.924817e-07\nLastTradeTimeOffset          2.476517e-04\nLastTradeSize                7.733850e-09\nMinSpread                    1.277716e-01\nMaxSpread                   -3.877249e-03\nCancelSize                   1.301868e-08\nVolumeWeightPrice            1.609624e-04\nNBBOQuoteCount              -3.705801e-06\nTradeAtBid                  -1.218990e-04\nTradeAtBidMid               -1.218463e-04\nTradeAtMid                  -1.218861e-04\nTradeAtMidAsk               -1.217977e-04\nTradeAtAsk                  -1.218760e-04\nTradeAtCrossOrLocked        -1.219575e-04\nVolume                      -1.756962e+05\nTotalTrades                  2.886711e-05\nFinraVolume                 -1.756962e+05\nFinraVolumeWeightPrice       8.807502e-05\nUptickVolume                 1.756962e+05\nDowntickVolume               1.756962e+05\nRepeatUptickVolume           1.756962e+05\nRepeatDowntickVolume         1.756962e+05\nUnknownTickVolume            1.756962e+05\nTradeToMidVolWeight          5.072234e-04\nTradeToMidVolWeightRelative -7.748233e-03\nTimeWeightBid               -4.285399e-01\nTimeWeightAsk               -1.210086e-01",
      "text/html": "<div>\n<style scoped>\n    .dataframe tbody tr th:only-of-type {\n        vertical-align: middle;\n    }\n\n    .dataframe tbody tr th {\n        vertical-align: top;\n    }\n\n    .dataframe thead th {\n        text-align: right;\n    }\n</style>\n<table border=\"1\" class=\"dataframe\">\n  <thead>\n    <tr style=\"text-align: right;\">\n      <th></th>\n      <th>Coefficient</th>\n    </tr>\n  </thead>\n  <tbody>\n    <tr>\n      <th>SecId</th>\n      <td>9.037003e-08</td>\n    </tr>\n    <tr>\n      <th>OpenBarTimeOffset</th>\n      <td>9.850572e+02</td>\n    </tr>\n    <tr>\n      <th>OpenBidPrice</th>\n      <td>-4.864653e-02</td>\n    </tr>\n    <tr>\n      <th>OpenBidSize</th>\n      <td>-1.169581e-06</td>\n    </tr>\n    <tr>\n      <th>OpenAskPrice</th>\n      <td>4.847636e-02</td>\n    </tr>\n    <tr>\n      <th>OpenAskSize</th>\n      <td>-1.537173e-08</td>\n    </tr>\n    <tr>\n      <th>FirstTradeTimeOffset</th>\n      <td>-4.799681e-04</td>\n    </tr>\n    <tr>\n      <th>FirstTradePrice</th>\n      <td>2.278794e-01</td>\n    </tr>\n    <tr>\n      <th>FirstTradeSize</th>\n      <td>1.682841e-08</td>\n    </tr>\n    <tr>\n      <th>HighBidTimeOffset</th>\n      <td>1.615699e-05</td>\n    </tr>\n    <tr>\n      <th>HighBidPrice</th>\n      <td>1.318282e-01</td>\n    </tr>\n    <tr>\n      <th>HighBidSize</th>\n      <td>2.702737e-06</td>\n    </tr>\n    <tr>\n      <th>HighAskTimeOffset</th>\n      <td>1.640353e-04</td>\n    </tr>\n    <tr>\n      <th>HighAskPrice</th>\n      <td>9.211748e-04</td>\n    </tr>\n    <tr>\n      <th>HighAskSize</th>\n      <td>2.267087e-08</td>\n    </tr>\n    <tr>\n      <th>HighTradeTimeOffset</th>\n      <td>1.154201e-03</td>\n    </tr>\n    <tr>\n      <th>HighTradePrice</th>\n      <td>9.052092e-02</td>\n    </tr>\n    <tr>\n      <th>HighTradeSize</th>\n      <td>-2.138829e-09</td>\n    </tr>\n    <tr>\n      <th>LowBidTimeOffset</th>\n      <td>-1.925623e-04</td>\n    </tr>\n    <tr>\n      <th>LowBidPrice</th>\n      <td>-6.365648e-03</td>\n    </tr>\n    <tr>\n      <th>LowBidSize</th>\n      <td>-5.176317e-07</td>\n    </tr>\n    <tr>\n      <th>LowAskTimeOffset</th>\n      <td>-2.453066e-04</td>\n    </tr>\n    <tr>\n      <th>LowAskPrice</th>\n      <td>-2.922730e-01</td>\n    </tr>\n    <tr>\n      <th>LowAskSize</th>\n      <td>-3.880052e-07</td>\n    </tr>\n    <tr>\n      <th>LowTradeTimeOffset</th>\n      <td>-9.020438e-04</td>\n    </tr>\n    <tr>\n      <th>LowTradePrice</th>\n      <td>6.814493e-01</td>\n    </tr>\n    <tr>\n      <th>LowTradeSize</th>\n      <td>3.014484e-08</td>\n    </tr>\n    <tr>\n      <th>CloseBarTimeOffset</th>\n      <td>1.232908e+01</td>\n    </tr>\n    <tr>\n      <th>CloseBidPrice</th>\n      <td>4.753339e-01</td>\n    </tr>\n    <tr>\n      <th>CloseBidSize</th>\n      <td>-1.327083e-06</td>\n    </tr>\n    <tr>\n      <th>CloseAskPrice</th>\n      <td>2.402967e-01</td>\n    </tr>\n    <tr>\n      <th>CloseAskSize</th>\n      <td>-2.924817e-07</td>\n    </tr>\n    <tr>\n      <th>LastTradeTimeOffset</th>\n      <td>2.476517e-04</td>\n    </tr>\n    <tr>\n      <th>LastTradeSize</th>\n      <td>7.733850e-09</td>\n    </tr>\n    <tr>\n      <th>MinSpread</th>\n      <td>1.277716e-01</td>\n    </tr>\n    <tr>\n      <th>MaxSpread</th>\n      <td>-3.877249e-03</td>\n    </tr>\n    <tr>\n      <th>CancelSize</th>\n      <td>1.301868e-08</td>\n    </tr>\n    <tr>\n      <th>VolumeWeightPrice</th>\n      <td>1.609624e-04</td>\n    </tr>\n    <tr>\n      <th>NBBOQuoteCount</th>\n      <td>-3.705801e-06</td>\n    </tr>\n    <tr>\n      <th>TradeAtBid</th>\n      <td>-1.218990e-04</td>\n    </tr>\n    <tr>\n      <th>TradeAtBidMid</th>\n      <td>-1.218463e-04</td>\n    </tr>\n    <tr>\n      <th>TradeAtMid</th>\n      <td>-1.218861e-04</td>\n    </tr>\n    <tr>\n      <th>TradeAtMidAsk</th>\n      <td>-1.217977e-04</td>\n    </tr>\n    <tr>\n      <th>TradeAtAsk</th>\n      <td>-1.218760e-04</td>\n    </tr>\n    <tr>\n      <th>TradeAtCrossOrLocked</th>\n      <td>-1.219575e-04</td>\n    </tr>\n    <tr>\n      <th>Volume</th>\n      <td>-1.756962e+05</td>\n    </tr>\n    <tr>\n      <th>TotalTrades</th>\n      <td>2.886711e-05</td>\n    </tr>\n    <tr>\n      <th>FinraVolume</th>\n      <td>-1.756962e+05</td>\n    </tr>\n    <tr>\n      <th>FinraVolumeWeightPrice</th>\n      <td>8.807502e-05</td>\n    </tr>\n    <tr>\n      <th>UptickVolume</th>\n      <td>1.756962e+05</td>\n    </tr>\n    <tr>\n      <th>DowntickVolume</th>\n      <td>1.756962e+05</td>\n    </tr>\n    <tr>\n      <th>RepeatUptickVolume</th>\n      <td>1.756962e+05</td>\n    </tr>\n    <tr>\n      <th>RepeatDowntickVolume</th>\n      <td>1.756962e+05</td>\n    </tr>\n    <tr>\n      <th>UnknownTickVolume</th>\n      <td>1.756962e+05</td>\n    </tr>\n    <tr>\n      <th>TradeToMidVolWeight</th>\n      <td>5.072234e-04</td>\n    </tr>\n    <tr>\n      <th>TradeToMidVolWeightRelative</th>\n      <td>-7.748233e-03</td>\n    </tr>\n    <tr>\n      <th>TimeWeightBid</th>\n      <td>-4.285399e-01</td>\n    </tr>\n    <tr>\n      <th>TimeWeightAsk</th>\n      <td>-1.210086e-01</td>\n    </tr>\n  </tbody>\n</table>\n</div>"
     },
     "execution_count": 18,
     "metadata": {},
     "output_type": "execute_result"
    }
   ],
   "source": [
    "coeff_df = pd.DataFrame(lm.coef_,X.columns,columns={'Coefficient'})\n",
    "coeff_df"
   ],
   "metadata": {
    "collapsed": false,
    "pycharm": {
     "name": "#%%\n"
    }
   }
  },
  {
   "cell_type": "code",
   "execution_count": 19,
   "outputs": [
    {
     "data": {
      "text/plain": "<matplotlib.collections.PathCollection at 0x1ffa5395630>"
     },
     "execution_count": 19,
     "metadata": {},
     "output_type": "execute_result"
    },
    {
     "data": {
      "text/plain": "<Figure size 432x288 with 1 Axes>",
      "image/png": "[encoded data removed]"
     },
     "metadata": {
      "needs_background": "light"
     },
     "output_type": "display_data"
    }
   ],
   "source": [
    "import matplotlib.pyplot as plt\n",
    "predictions = lm.predict(X_test)\n",
    "plt.scatter(y_test,predictions)"
   ],
   "metadata": {
    "collapsed": false,
    "pycharm": {
     "name": "#%%\n"
    }
   }
  },
  {
   "cell_type": "code",
   "execution_count": 20,
   "outputs": [
    {
     "data": {
      "text/plain": "<AxesSubplot:xlabel='LastTradePrice', ylabel='Density'>"
     },
     "execution_count": 20,
     "metadata": {},
     "output_type": "execute_result"
    },
    {
     "data": {
      "text/plain": "<Figure size 432x288 with 1 Axes>",
      "image/png": "[encoded data removed]"
     },
     "metadata": {
      "needs_background": "light"
     },
     "output_type": "display_data"
    }
   ],
   "source": [
    "sns.distplot((y_test-predictions),bins=50)"
   ],
   "metadata": {
    "collapsed": false,
    "pycharm": {
     "name": "#%%\n"
    }
   }
  },
  {
   "cell_type": "code",
   "execution_count": 22,
   "outputs": [
    {
     "name": "stdout",
     "output_type": "stream",
     "text": [
      "MAE: 0.04825815740728042\n",
      "MSE: 0.08564444063469229\n",
      "RMSE: 0.29265071439293\n"
     ]
    }
   ],
   "source": [
    "from sklearn import metrics\n",
    "import numpy as np\n",
    "print('MAE:', metrics.mean_absolute_error(y_test, predictions))\n",
    "print('MSE:', metrics.mean_squared_error(y_test, predictions))\n",
    "print('RMSE:', np.sqrt(metrics.mean_squared_error(y_test, predictions)))"
   ],
   "metadata": {
    "collapsed": false,
    "pycharm": {
     "name": "#%%\n"
    }
   }
  },
  {
   "cell_type": "markdown",
   "source": [
    "## 3) Lasso"
   ],
   "metadata": {
    "collapsed": false,
    "pycharm": {
     "name": "#%% md\n"
    }
   }
  },
  {
   "cell_type": "code",
   "execution_count": null,
   "outputs": [],
   "source": [],
   "metadata": {
    "collapsed": false,
    "pycharm": {
     "name": "#%%\n"
    }
   }
  },
  {
   "cell_type": "markdown",
   "source": [
    "## 4) Lars"
   ],
   "metadata": {
    "collapsed": false,
    "pycharm": {
     "name": "#%% md\n"
    }
   }
  },
  {
   "cell_type": "code",
   "execution_count": null,
   "outputs": [],
   "source": [],
   "metadata": {
    "collapsed": false,
    "pycharm": {
     "name": "#%%\n"
    }
   }
  },
  {
   "cell_type": "markdown",
   "source": [
    "## 5) LassoLars"
   ],
   "metadata": {
    "collapsed": false,
    "pycharm": {
     "name": "#%% md\n"
    }
   }
  },
  {
   "cell_type": "code",
   "execution_count": null,
   "outputs": [],
   "source": [],
   "metadata": {
    "collapsed": false,
    "pycharm": {
     "name": "#%%\n"
    }
   }
  },
  {
   "cell_type": "markdown",
   "source": [
    "## 6) Adaboost"
   ],
   "metadata": {
    "collapsed": false,
    "pycharm": {
     "name": "#%% md\n"
    }
   }
  },
  {
   "cell_type": "code",
   "execution_count": null,
   "outputs": [],
   "source": [],
   "metadata": {
    "collapsed": false,
    "pycharm": {
     "name": "#%%\n"
    }
   }
  },
  {
   "cell_type": "markdown",
   "source": [
    "## 7) PyTorch Linear Regression"
   ],
   "metadata": {
    "collapsed": false,
    "pycharm": {
     "name": "#%% md\n"
    }
   }
  },
  {
   "cell_type": "code",
   "execution_count": 30,
   "outputs": [
    {
     "name": "stdout",
     "output_type": "stream",
     "text": [
      "Collecting torch\n",
      "  Downloading https://files.pythonhosted.org/packages/e2/94/6d8ff9dab8b9b88efd233890c4e494cc1084268e06b7791af440be5a8f6b/torch-1.12.0-cp37-cp37m-win_amd64.whl (161.9MB)\n",
      "Requirement already satisfied: typing-extensions in c:\\vnstudio\\lib\\site-packages (from torch) (4.2.0)\n",
      "Installing collected packages: torch\n",
      "Successfully installed torch-1.12.0\n"
     ]
    },
    {
     "name": "stderr",
     "output_type": "stream",
     "text": [
      "You are using pip version 19.0.3, however version 22.2.1 is available.\n",
      "You should consider upgrading via the 'python -m pip install --upgrade pip' command.\n"
     ]
    },
    {
     "name": "stdout",
     "output_type": "stream",
     "text": [
      "Collecting torch\n",
      "  Using cached https://files.pythonhosted.org/packages/e2/94/6d8ff9dab8b9b88efd233890c4e494cc1084268e06b7791af440be5a8f6b/torch-1.12.0-cp37-cp37m-win_amd64.whl\n",
      "Requirement already satisfied: typing-extensions in c:\\vnstudio\\lib\\site-packages (from torch) (4.2.0)\n",
      "Installing collected packages: torch\n",
      "Successfully installed torch-1.12.0\n",
      "Note: you may need to restart the kernel to use updated packages.\n"
     ]
    },
    {
     "name": "stderr",
     "output_type": "stream",
     "text": [
      "You are using pip version 19.0.3, however version 22.2.1 is available.\n",
      "You should consider upgrading via the 'python -m pip install --upgrade pip' command.\n"
     ]
    },
    {
     "name": "stdout",
     "output_type": "stream",
     "text": [
      "Requirement already satisfied: torch in c:\\vnstudio\\lib\\site-packages (1.12.0)\n",
      "Requirement already satisfied: typing-extensions in c:\\vnstudio\\lib\\site-packages (from torch) (4.2.0)\n",
      "Note: you may need to restart the kernel to use updated packages.\n"
     ]
    },
    {
     "name": "stderr",
     "output_type": "stream",
     "text": [
      "You are using pip version 19.0.3, however version 22.2.1 is available.\n",
      "You should consider upgrading via the 'python -m pip install --upgrade pip' command.\n"
     ]
    }
   ],
   "source": [
    "%pip install torch"
   ],
   "metadata": {
    "collapsed": false,
    "pycharm": {
     "name": "#%%\n"
    }
   }
  },
  {
   "cell_type": "code",
   "execution_count": 31,
   "outputs": [],
   "source": [
    "import torch\n",
    "import torch.nn as nn\n",
    "\n",
    "X = torch.Tensor(dataset[['FirstTradePrice']].values)\n",
    "y = torch.Tensor(dataset[['LastTradePrice']].values)"
   ],
   "metadata": {
    "collapsed": false,
    "pycharm": {
     "name": "#%%\n"
    }
   }
  },
  {
   "cell_type": "code",
   "execution_count": 32,
   "outputs": [
    {
     "data": {
      "text/plain": "(2482081, 1)"
     },
     "execution_count": 32,
     "metadata": {},
     "output_type": "execute_result"
    }
   ],
   "source": [
    "x_train = np.array(X, dtype=np.float32)\n",
    "x_train.shape"
   ],
   "metadata": {
    "collapsed": false,
    "pycharm": {
     "name": "#%%\n"
    }
   }
  },
  {
   "cell_type": "code",
   "execution_count": 33,
   "outputs": [
    {
     "data": {
      "text/plain": "(2482081, 1)"
     },
     "execution_count": 33,
     "metadata": {},
     "output_type": "execute_result"
    }
   ],
   "source": [
    "y_train = np.array(y, dtype=np.float32)\n",
    "y_train.shape"
   ],
   "metadata": {
    "collapsed": false,
    "pycharm": {
     "name": "#%%\n"
    }
   }
  },
  {
   "cell_type": "code",
   "execution_count": 34,
   "outputs": [],
   "source": [
    "class LinearRegressionModel(nn.Module):\n",
    "    def __init__(self, input_dim, output_dim):\n",
    "        super(LinearRegressionModel, self).__init__()\n",
    "        self.linear = nn.Linear(input_dim, output_dim)\n",
    "\n",
    "    def forward(self, x):\n",
    "        out = self.linear(x)\n",
    "        return out"
   ],
   "metadata": {
    "collapsed": false,
    "pycharm": {
     "name": "#%%\n"
    }
   }
  },
  {
   "cell_type": "code",
   "execution_count": 35,
   "outputs": [],
   "source": [
    "input_dim = 1\n",
    "output_dim = 1\n",
    "\n",
    "model = LinearRegressionModel(input_dim, output_dim)"
   ],
   "metadata": {
    "collapsed": false,
    "pycharm": {
     "name": "#%%\n"
    }
   }
  },
  {
   "cell_type": "code",
   "execution_count": 36,
   "outputs": [],
   "source": [
    "criterion = nn.MSELoss()\n"
   ],
   "metadata": {
    "collapsed": false,
    "pycharm": {
     "name": "#%%\n"
    }
   }
  },
  {
   "cell_type": "code",
   "execution_count": 37,
   "outputs": [],
   "source": [
    "learning_rate = 0.01\n",
    "\n",
    "optimizer = torch.optim.SGD(model.parameters(), lr=learning_rate)"
   ],
   "metadata": {
    "collapsed": false,
    "pycharm": {
     "name": "#%%\n"
    }
   }
  },
  {
   "cell_type": "code",
   "execution_count": 38,
   "outputs": [],
   "source": [
    "epochs = 100\n"
   ],
   "metadata": {
    "collapsed": false,
    "pycharm": {
     "name": "#%%\n"
    }
   }
  },
  {
   "cell_type": "code",
   "execution_count": 39,
   "outputs": [
    {
     "name": "stdout",
     "output_type": "stream",
     "text": [
      "epoch 1, loss 140929.515625\n",
      "epoch 2, loss 247286628352.0\n",
      "epoch 3, loss 4.3395311894685286e+17\n",
      "epoch 4, loss 7.602418444573077e+23\n",
      "epoch 5, loss 1.331573610750445e+30\n",
      "epoch 6, loss inf\n",
      "epoch 7, loss inf\n",
      "epoch 8, loss inf\n",
      "epoch 9, loss inf\n",
      "epoch 10, loss inf\n",
      "epoch 11, loss inf\n",
      "epoch 12, loss inf\n",
      "epoch 13, loss nan\n",
      "epoch 14, loss nan\n",
      "epoch 15, loss nan\n",
      "epoch 16, loss nan\n",
      "epoch 17, loss nan\n",
      "epoch 18, loss nan\n",
      "epoch 19, loss nan\n",
      "epoch 20, loss nan\n",
      "epoch 21, loss nan\n",
      "epoch 22, loss nan\n",
      "epoch 23, loss nan\n",
      "epoch 24, loss nan\n",
      "epoch 25, loss nan\n",
      "epoch 26, loss nan\n",
      "epoch 27, loss nan\n",
      "epoch 28, loss nan\n",
      "epoch 29, loss nan\n",
      "epoch 30, loss nan\n",
      "epoch 31, loss nan\n",
      "epoch 32, loss nan\n",
      "epoch 33, loss nan\n",
      "epoch 34, loss nan\n",
      "epoch 35, loss nan\n",
      "epoch 36, loss nan\n",
      "epoch 37, loss nan\n",
      "epoch 38, loss nan\n",
      "epoch 39, loss nan\n",
      "epoch 40, loss nan\n",
      "epoch 41, loss nan\n",
      "epoch 42, loss nan\n",
      "epoch 43, loss nan\n",
      "epoch 44, loss nan\n",
      "epoch 45, loss nan\n",
      "epoch 46, loss nan\n",
      "epoch 47, loss nan\n",
      "epoch 48, loss nan\n",
      "epoch 49, loss nan\n",
      "epoch 50, loss nan\n",
      "epoch 51, loss nan\n",
      "epoch 52, loss nan\n",
      "epoch 53, loss nan\n",
      "epoch 54, loss nan\n",
      "epoch 55, loss nan\n",
      "epoch 56, loss nan\n",
      "epoch 57, loss nan\n",
      "epoch 58, loss nan\n",
      "epoch 59, loss nan\n",
      "epoch 60, loss nan\n",
      "epoch 61, loss nan\n",
      "epoch 62, loss nan\n",
      "epoch 63, loss nan\n",
      "epoch 64, loss nan\n",
      "epoch 65, loss nan\n",
      "epoch 66, loss nan\n",
      "epoch 67, loss nan\n",
      "epoch 68, loss nan\n",
      "epoch 69, loss nan\n",
      "epoch 70, loss nan\n",
      "epoch 71, loss nan\n",
      "epoch 72, loss nan\n",
      "epoch 73, loss nan\n",
      "epoch 74, loss nan\n",
      "epoch 75, loss nan\n",
      "epoch 76, loss nan\n",
      "epoch 77, loss nan\n",
      "epoch 78, loss nan\n",
      "epoch 79, loss nan\n",
      "epoch 80, loss nan\n",
      "epoch 81, loss nan\n",
      "epoch 82, loss nan\n",
      "epoch 83, loss nan\n",
      "epoch 84, loss nan\n",
      "epoch 85, loss nan\n",
      "epoch 86, loss nan\n",
      "epoch 87, loss nan\n",
      "epoch 88, loss nan\n",
      "epoch 89, loss nan\n",
      "epoch 90, loss nan\n",
      "epoch 91, loss nan\n",
      "epoch 92, loss nan\n",
      "epoch 93, loss nan\n",
      "epoch 94, loss nan\n",
      "epoch 95, loss nan\n",
      "epoch 96, loss nan\n",
      "epoch 97, loss nan\n",
      "epoch 98, loss nan\n",
      "epoch 99, loss nan\n",
      "epoch 100, loss nan\n"
     ]
    }
   ],
   "source": [
    "for epoch in range(epochs):\n",
    "    epoch += 1\n",
    "    # Convert numpy array to torch Variable\n",
    "    inputs = torch.from_numpy(x_train).requires_grad_()\n",
    "    labels = torch.from_numpy(y_train)\n",
    "\n",
    "    # Clear gradients w.r.t. parameters\n",
    "    optimizer.zero_grad()\n",
    "\n",
    "    # Forward to get output\n",
    "    outputs = model(inputs)\n",
    "\n",
    "    # Calculate Loss\n",
    "    loss = criterion(outputs, labels)\n",
    "\n",
    "    # Getting gradients w.r.t. parameters\n",
    "    loss.backward()\n",
    "\n",
    "    # Updating parameters\n",
    "    optimizer.step()\n",
    "\n",
    "    print('epoch {}, loss {}'.format(epoch, loss.item()))"
   ],
   "metadata": {
    "collapsed": false,
    "pycharm": {
     "name": "#%%\n"
    }
   }
  },
  {
   "cell_type": "code",
   "execution_count": 40,
   "outputs": [
    {
     "data": {
      "text/plain": "array([[nan],\n       [nan],\n       [nan],\n       ...,\n       [nan],\n       [nan],\n       [nan]], dtype=float32)"
     },
     "execution_count": 40,
     "metadata": {},
     "output_type": "execute_result"
    }
   ],
   "source": [
    "predicted = model(torch.from_numpy(x_train).requires_grad_()).data.numpy()\n",
    "predicted"
   ],
   "metadata": {
    "collapsed": false,
    "pycharm": {
     "name": "#%%\n"
    }
   }
  },
  {
   "cell_type": "code",
   "execution_count": 41,
   "outputs": [
    {
     "data": {
      "text/plain": "array([[  0.  ],\n       [  0.  ],\n       [  0.  ],\n       ...,\n       [135.67],\n       [135.64],\n       [135.62]], dtype=float32)"
     },
     "execution_count": 41,
     "metadata": {},
     "output_type": "execute_result"
    }
   ],
   "source": [
    "y_train\n"
   ],
   "metadata": {
    "collapsed": false,
    "pycharm": {
     "name": "#%%\n"
    }
   }
  },
  {
   "cell_type": "code",
   "execution_count": 42,
   "outputs": [
    {
     "data": {
      "text/plain": "<Figure size 432x288 with 1 Axes>",
      "image/png": "[encoded data removed]"
     },
     "metadata": {
      "needs_background": "light"
     },
     "output_type": "display_data"
    }
   ],
   "source": [
    "plt.clf()\n",
    "\n",
    "# Get predictions\n",
    "predicted = model(torch.from_numpy(x_train).requires_grad_()).data.numpy()\n",
    "\n",
    "# Plot true data\n",
    "plt.plot(x_train, y_train, 'go', label='True data', alpha=0.5)\n",
    "\n",
    "# Plot predictions\n",
    "plt.plot(x_train, predicted, '--', label='Predictions', alpha=0.5)\n",
    "\n",
    "# Legend and plot\n",
    "plt.legend(loc='best')\n",
    "plt.show()"
   ],
   "metadata": {
    "collapsed": false,
    "pycharm": {
     "name": "#%%\n"
    }
   }
  },
  {
   "cell_type": "code",
   "execution_count": 43,
   "outputs": [
    {
     "data": {
      "text/plain": "nan"
     },
     "execution_count": 43,
     "metadata": {},
     "output_type": "execute_result"
    }
   ],
   "source": [
    "y_pred = model(torch.tensor([[22.290001]], dtype=torch.float32)).detach()\n",
    "y_pred.item()"
   ],
   "metadata": {
    "collapsed": false,
    "pycharm": {
     "name": "#%%\n"
    }
   }
  }
 ],
 "metadata": {
  "kernelspec": {
   "display_name": "Python 3",
   "language": "python",
   "name": "python3"
  },
  "language_info": {
   "codemirror_mode": {
    "name": "ipython",
    "version": 2
   },
   "file_extension": ".py",
   "mimetype": "text/x-python",
   "name": "python",
   "nbconvert_exporter": "python",
   "pygments_lexer": "ipython2",
   "version": "2.7.6"
  }
 },
 "nbformat": 4,
 "nbformat_minor": 0
}