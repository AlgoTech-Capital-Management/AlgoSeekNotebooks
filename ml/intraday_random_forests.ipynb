{
 "cells": [
  {
   "cell_type": "markdown",
   "source": [
    "# Intraday Random Forests"
   ],
   "metadata": {
    "collapsed": false,
    "pycharm": {
     "name": "#%% md\n"
    }
   }
  },
  {
   "cell_type": "code",
   "execution_count": null,
   "outputs": [],
   "source": [],
   "metadata": {
    "collapsed": false,
    "pycharm": {
     "name": "#%%\n"
    }
   }
  },
  {
   "cell_type": "markdown",
   "source": [
    "## 1) Introduction"
   ],
   "metadata": {
    "collapsed": false,
    "pycharm": {
     "name": "#%% md\n"
    }
   }
  },
  {
   "cell_type": "code",
   "execution_count": null,
   "outputs": [],
   "source": [],
   "metadata": {
    "collapsed": false,
    "pycharm": {
     "name": "#%%\n"
    }
   }
  },
  {
   "cell_type": "markdown",
   "source": [
    "## 2.1) Random Forests Regression"
   ],
   "metadata": {
    "collapsed": false,
    "pycharm": {
     "name": "#%% md\n"
    }
   }
  },
  {
   "cell_type": "code",
   "execution_count": 1,
   "outputs": [],
   "source": [
    "import numpy as np\n",
    "import matplotlib.pyplot as plt\n",
    "import pandas as pd\n",
    "from sklearn.model_selection import train_test_split\n",
    "from sklearn.preprocessing import StandardScaler\n",
    "from sklearn.decomposition import PCA\n",
    "from sklearn.ensemble import RandomForestRegressor\n",
    "from sklearn.metrics import r2_score\n",
    "from scipy.stats import spearmanr, pearsonr\n",
    "from sklearn.metrics import mean_squared_error\n",
    "from sklearn import metrics\n",
    "\n",
    "import os\n",
    "os.chdir('ml4t')"
   ],
   "metadata": {
    "collapsed": false,
    "pycharm": {
     "name": "#%%\n"
    }
   }
  },
  {
   "cell_type": "code",
   "execution_count": 2,
   "outputs": [
    {
     "ename": "TypeError",
     "evalue": "Can only swap levels on a hierarchical axis.",
     "output_type": "error",
     "traceback": [
      "\u001B[0;31m---------------------------------------------------------------------------\u001B[0m",
      "\u001B[0;31mTypeError\u001B[0m                                 Traceback (most recent call last)",
      "\u001B[0;32m/tmp/ipykernel_21339/3917043280.py\u001B[0m in \u001B[0;36m<cell line: 2>\u001B[0;34m()\u001B[0m\n\u001B[1;32m      1\u001B[0m \u001B[0mdataset\u001B[0m \u001B[0;34m=\u001B[0m \u001B[0mpd\u001B[0m\u001B[0;34m.\u001B[0m\u001B[0mread_parquet\u001B[0m\u001B[0;34m(\u001B[0m\u001B[0;34m'data/us_equity/taq_min/GOOG.parquet'\u001B[0m\u001B[0;34m)\u001B[0m\u001B[0;34m\u001B[0m\u001B[0;34m\u001B[0m\u001B[0m\n\u001B[0;32m----> 2\u001B[0;31m \u001B[0mdataset\u001B[0m \u001B[0;34m=\u001B[0m \u001B[0mdataset\u001B[0m\u001B[0;34m.\u001B[0m\u001B[0mswaplevel\u001B[0m\u001B[0;34m(\u001B[0m\u001B[0;36m1\u001B[0m\u001B[0;34m,\u001B[0m\u001B[0;36m0\u001B[0m\u001B[0;34m)\u001B[0m\u001B[0;34m\u001B[0m\u001B[0;34m\u001B[0m\u001B[0m\n\u001B[0m\u001B[1;32m      3\u001B[0m dataset = dataset.astype({'OpenBidPrice': 'float64',\n\u001B[1;32m      4\u001B[0m                           \u001B[0;34m'OpenAskPrice'\u001B[0m\u001B[0;34m:\u001B[0m \u001B[0;34m'float64'\u001B[0m\u001B[0;34m,\u001B[0m\u001B[0;34m\u001B[0m\u001B[0;34m\u001B[0m\u001B[0m\n\u001B[1;32m      5\u001B[0m                           \u001B[0;34m'FirstTradePrice'\u001B[0m\u001B[0;34m:\u001B[0m \u001B[0;34m'float64'\u001B[0m\u001B[0;34m,\u001B[0m\u001B[0;34m\u001B[0m\u001B[0;34m\u001B[0m\u001B[0m\n",
      "\u001B[0;32m~/anaconda3/envs/python3/lib/python3.8/site-packages/pandas/core/frame.py\u001B[0m in \u001B[0;36mswaplevel\u001B[0;34m(self, i, j, axis)\u001B[0m\n\u001B[1;32m   5920\u001B[0m \u001B[0;34m\u001B[0m\u001B[0m\n\u001B[1;32m   5921\u001B[0m         \u001B[0;32mif\u001B[0m \u001B[0;32mnot\u001B[0m \u001B[0misinstance\u001B[0m\u001B[0;34m(\u001B[0m\u001B[0mresult\u001B[0m\u001B[0;34m.\u001B[0m\u001B[0m_get_axis\u001B[0m\u001B[0;34m(\u001B[0m\u001B[0maxis\u001B[0m\u001B[0;34m)\u001B[0m\u001B[0;34m,\u001B[0m \u001B[0mMultiIndex\u001B[0m\u001B[0;34m)\u001B[0m\u001B[0;34m:\u001B[0m  \u001B[0;31m# pragma: no cover\u001B[0m\u001B[0;34m\u001B[0m\u001B[0;34m\u001B[0m\u001B[0m\n\u001B[0;32m-> 5922\u001B[0;31m             \u001B[0;32mraise\u001B[0m \u001B[0mTypeError\u001B[0m\u001B[0;34m(\u001B[0m\u001B[0;34m\"Can only swap levels on a hierarchical axis.\"\u001B[0m\u001B[0;34m)\u001B[0m\u001B[0;34m\u001B[0m\u001B[0;34m\u001B[0m\u001B[0m\n\u001B[0m\u001B[1;32m   5923\u001B[0m \u001B[0;34m\u001B[0m\u001B[0m\n\u001B[1;32m   5924\u001B[0m         \u001B[0;32mif\u001B[0m \u001B[0maxis\u001B[0m \u001B[0;34m==\u001B[0m \u001B[0;36m0\u001B[0m\u001B[0;34m:\u001B[0m\u001B[0;34m\u001B[0m\u001B[0;34m\u001B[0m\u001B[0m\n",
      "\u001B[0;31mTypeError\u001B[0m: Can only swap levels on a hierarchical axis."
     ]
    }
   ],
   "source": [
    "dataset = pd.read_parquet('data/us_equity/taq_min/GOOG.parquet')\n",
    "dataset = dataset.swaplevel(1,0)\n",
    "dataset = dataset.astype({'OpenBidPrice': 'float64',\n",
    "                          'OpenAskPrice': 'float64',\n",
    "                          'FirstTradePrice': 'float64',\n",
    "                          'HighBidPrice': 'float64',\n",
    "                          'HighAskPrice': 'float64',\n",
    "                          'HighTradePrice': 'float64',\n",
    "                          'LowBidPrice': 'float64',\n",
    "                          'LowAskPrice': 'float64',\n",
    "                          'LowTradePrice': 'float64',\n",
    "                          'CloseBidPrice': 'float64',\n",
    "                          'CloseAskPrice': 'float64',\n",
    "                          'LastTradePrice': 'float64',\n",
    "                          'MinSpread': 'float64',\n",
    "                          'MaxSpread': 'float64',\n",
    "                          'VolumeWeightPrice': 'float64',\n",
    "                          'FinraVolumeWeightPrice': 'float64',\n",
    "                          'TradeToMidVolWeight': 'float64',\n",
    "                          'TradeToMidVolWeightRelative': 'float64',\n",
    "                          'TimeWeightBid': 'float64',\n",
    "                          'TimeWeightAsk': 'float64'})\n",
    "dataset=dataset.dropna()"
   ],
   "metadata": {
    "collapsed": false,
    "pycharm": {
     "name": "#%%\n"
    }
   }
  },
  {
   "cell_type": "code",
   "execution_count": 3,
   "outputs": [
    {
     "data": {
      "text/plain": "    TradeDate               BarDateTime Ticker  SecId OpenBarTimeOffset  \\\n0  2012-01-03 2012-01-03 04:00:00-05:00   GOOG      0                 0   \n1  2012-01-03 2012-01-03 04:01:00-05:00   GOOG      0                 0   \n2  2012-01-03 2012-01-03 04:02:00-05:00   GOOG      0                 0   \n3  2012-01-03 2012-01-03 04:03:00-05:00   GOOG      0                 0   \n4  2012-01-03 2012-01-03 04:04:00-05:00   GOOG      0                 0   \n\n  OpenBidPrice  OpenBidSize OpenAskPrice  OpenAskSize FirstTradeTimeOffset  \\\n0         0.00            0         0.00            0                 0E-9   \n1       655.50          900       656.00          100                 0E-9   \n2       655.64          100       656.00          100         23.793000000   \n3       655.50          900       665.23          100                 0E-9   \n4       655.50          900       665.23          100                 0E-9   \n\n   ... FinraVolumeWeightPrice  UptickVolume DowntickVolume RepeatUptickVolume  \\\n0  ...                0.00000             0              0                  0   \n1  ...                0.00000             0              0                  0   \n2  ...                0.00000             0              0                  0   \n3  ...                0.00000             0              0                  0   \n4  ...                0.00000             0              0                  0   \n\n   RepeatDowntickVolume UnknownTickVolume TradeToMidVolWeight  \\\n0                     0                 0             0.00000   \n1                     0                 0             0.00000   \n2                     0               100          -441.50000   \n3                     0                 0             0.00000   \n4                     0                 0             0.00000   \n\n   TradeToMidVolWeightRelative TimeWeightBid TimeWeightAsk  \n0                      0.00000     655.50000     656.00000  \n1                      0.00000     655.64000     656.00000  \n2                     -0.45846     655.50000     665.23000  \n3                      0.00000     655.50000     665.23000  \n4                      0.00000     655.50000     665.23000  \n\n[5 rows x 62 columns]",
      "text/html": "<div>\n<style scoped>\n    .dataframe tbody tr th:only-of-type {\n        vertical-align: middle;\n    }\n\n    .dataframe tbody tr th {\n        vertical-align: top;\n    }\n\n    .dataframe thead th {\n        text-align: right;\n    }\n</style>\n<table border=\"1\" class=\"dataframe\">\n  <thead>\n    <tr style=\"text-align: right;\">\n      <th></th>\n      <th>TradeDate</th>\n      <th>BarDateTime</th>\n      <th>Ticker</th>\n      <th>SecId</th>\n      <th>OpenBarTimeOffset</th>\n      <th>OpenBidPrice</th>\n      <th>OpenBidSize</th>\n      <th>OpenAskPrice</th>\n      <th>OpenAskSize</th>\n      <th>FirstTradeTimeOffset</th>\n      <th>...</th>\n      <th>FinraVolumeWeightPrice</th>\n      <th>UptickVolume</th>\n      <th>DowntickVolume</th>\n      <th>RepeatUptickVolume</th>\n      <th>RepeatDowntickVolume</th>\n      <th>UnknownTickVolume</th>\n      <th>TradeToMidVolWeight</th>\n      <th>TradeToMidVolWeightRelative</th>\n      <th>TimeWeightBid</th>\n      <th>TimeWeightAsk</th>\n    </tr>\n  </thead>\n  <tbody>\n    <tr>\n      <th>0</th>\n      <td>2012-01-03</td>\n      <td>2012-01-03 04:00:00-05:00</td>\n      <td>GOOG</td>\n      <td>0</td>\n      <td>0</td>\n      <td>0.00</td>\n      <td>0</td>\n      <td>0.00</td>\n      <td>0</td>\n      <td>0E-9</td>\n      <td>...</td>\n      <td>0.00000</td>\n      <td>0</td>\n      <td>0</td>\n      <td>0</td>\n      <td>0</td>\n      <td>0</td>\n      <td>0.00000</td>\n      <td>0.00000</td>\n      <td>655.50000</td>\n      <td>656.00000</td>\n    </tr>\n    <tr>\n      <th>1</th>\n      <td>2012-01-03</td>\n      <td>2012-01-03 04:01:00-05:00</td>\n      <td>GOOG</td>\n      <td>0</td>\n      <td>0</td>\n      <td>655.50</td>\n      <td>900</td>\n      <td>656.00</td>\n      <td>100</td>\n      <td>0E-9</td>\n      <td>...</td>\n      <td>0.00000</td>\n      <td>0</td>\n      <td>0</td>\n      <td>0</td>\n      <td>0</td>\n      <td>0</td>\n      <td>0.00000</td>\n      <td>0.00000</td>\n      <td>655.64000</td>\n      <td>656.00000</td>\n    </tr>\n    <tr>\n      <th>2</th>\n      <td>2012-01-03</td>\n      <td>2012-01-03 04:02:00-05:00</td>\n      <td>GOOG</td>\n      <td>0</td>\n      <td>0</td>\n      <td>655.64</td>\n      <td>100</td>\n      <td>656.00</td>\n      <td>100</td>\n      <td>23.793000000</td>\n      <td>...</td>\n      <td>0.00000</td>\n      <td>0</td>\n      <td>0</td>\n      <td>0</td>\n      <td>0</td>\n      <td>100</td>\n      <td>-441.50000</td>\n      <td>-0.45846</td>\n      <td>655.50000</td>\n      <td>665.23000</td>\n    </tr>\n    <tr>\n      <th>3</th>\n      <td>2012-01-03</td>\n      <td>2012-01-03 04:03:00-05:00</td>\n      <td>GOOG</td>\n      <td>0</td>\n      <td>0</td>\n      <td>655.50</td>\n      <td>900</td>\n      <td>665.23</td>\n      <td>100</td>\n      <td>0E-9</td>\n      <td>...</td>\n      <td>0.00000</td>\n      <td>0</td>\n      <td>0</td>\n      <td>0</td>\n      <td>0</td>\n      <td>0</td>\n      <td>0.00000</td>\n      <td>0.00000</td>\n      <td>655.50000</td>\n      <td>665.23000</td>\n    </tr>\n    <tr>\n      <th>4</th>\n      <td>2012-01-03</td>\n      <td>2012-01-03 04:04:00-05:00</td>\n      <td>GOOG</td>\n      <td>0</td>\n      <td>0</td>\n      <td>655.50</td>\n      <td>900</td>\n      <td>665.23</td>\n      <td>100</td>\n      <td>0E-9</td>\n      <td>...</td>\n      <td>0.00000</td>\n      <td>0</td>\n      <td>0</td>\n      <td>0</td>\n      <td>0</td>\n      <td>0</td>\n      <td>0.00000</td>\n      <td>0.00000</td>\n      <td>655.50000</td>\n      <td>665.23000</td>\n    </tr>\n  </tbody>\n</table>\n<p>5 rows × 62 columns</p>\n</div>"
     },
     "execution_count": 3,
     "metadata": {},
     "output_type": "execute_result"
    }
   ],
   "source": [
    "dataset.head()"
   ],
   "metadata": {
    "collapsed": false,
    "pycharm": {
     "name": "#%%\n"
    }
   }
  },
  {
   "cell_type": "code",
   "execution_count": 5,
   "outputs": [],
   "source": [
    "dataset.set_index('BarDateTime',inplace=True)"
   ],
   "metadata": {
    "collapsed": false,
    "pycharm": {
     "name": "#%%\n"
    }
   }
  },
  {
   "cell_type": "code",
   "execution_count": null,
   "outputs": [],
   "source": [],
   "metadata": {
    "collapsed": false,
    "pycharm": {
     "name": "#%%\n"
    }
   }
  },
  {
   "cell_type": "code",
   "execution_count": 8,
   "outputs": [],
   "source": [
    "X = dataset.drop(['LastTradePrice','TradeDate','Ticker'], axis=1)\n",
    "y = dataset['LastTradePrice']\n",
    "\n",
    "X_train, X_test, y_train, y_test = train_test_split(X, y, train_size=0.8, random_state=42)\n",
    "scaler = StandardScaler().fit(X_train)\n",
    "X_train_scaled = pd.DataFrame(scaler.transform(X_train), index=X_train.index.values, columns=X_train.columns.values)\n",
    "X_test_scaled = pd.DataFrame(scaler.transform(X_test), index=X_test.index.values, columns=X_test.columns.values)"
   ],
   "metadata": {
    "collapsed": false,
    "pycharm": {
     "name": "#%%\n"
    }
   }
  },
  {
   "cell_type": "code",
   "execution_count": 9,
   "outputs": [],
   "source": [
    "pca=PCA()\n",
    "pca.fit(X_train)\n",
    "cpts = pd.DataFrame(pca.transform(X_train))\n",
    "x_axis = np.arange(1, pca.n_components_+1)\n",
    "pca_scaled = PCA()\n",
    "pca_scaled.fit(X_train_scaled)\n",
    "cpts_scaled = pd.DataFrame(pca.transform(X_train_scaled))"
   ],
   "metadata": {
    "collapsed": false,
    "pycharm": {
     "name": "#%%\n"
    }
   }
  },
  {
   "cell_type": "code",
   "execution_count": null,
   "outputs": [],
   "source": [
    "rf = RandomForestRegressor(n_estimators=500, oob_score=True, random_state=0)\n",
    "rf.fit(X_train, y_train)"
   ],
   "metadata": {
    "collapsed": false,
    "pycharm": {
     "name": "#%%\n",
     "is_executing": true
    }
   }
  },
  {
   "cell_type": "code",
   "execution_count": null,
   "outputs": [],
   "source": [
    "predicted_train = rf.predict(X_train)\n",
    "predicted_test = rf.predict(X_test)\n",
    "\n",
    "test_score = r2_score(y_test, predicted_test)\n",
    "spearman = spearmanr(y_test, predicted_test)\n",
    "pearson = pearsonr(y_test, predicted_test)\n",
    "\n",
    "print('Out-of-bag R-2 score estimate:', rf.oob_score_)\n",
    "print('Test data R-2 score:', test_score)\n",
    "print('Test data Spearman correlation:',spearman[0])\n",
    "print('Test data Pearson correlation:',pearson[0])"
   ],
   "metadata": {
    "collapsed": false,
    "pycharm": {
     "name": "#%%\n"
    }
   }
  },
  {
   "cell_type": "code",
   "execution_count": null,
   "outputs": [],
   "source": [
    "y_pred = rf.predict(X_test)\n"
   ],
   "metadata": {
    "collapsed": false,
    "pycharm": {
     "name": "#%%\n"
    }
   }
  },
  {
   "cell_type": "code",
   "execution_count": null,
   "outputs": [],
   "source": [
    "from sklearn.metrics import mean_squared_error\n",
    "from sklearn import metrics\n",
    "\n",
    "print('The rmse of prediction is:', mean_squared_error(y_test, y_pred) ** 0.5)"
   ],
   "metadata": {
    "collapsed": false,
    "pycharm": {
     "name": "#%%\n"
    }
   }
  },
  {
   "cell_type": "code",
   "execution_count": null,
   "outputs": [],
   "source": [
    "print('Random Forests Regression Score:', rf.score(X_test, y_test))\n"
   ],
   "metadata": {
    "collapsed": false,
    "pycharm": {
     "name": "#%%\n"
    }
   }
  }
 ],
 "metadata": {
  "kernelspec": {
   "display_name": "Python 3",
   "language": "python",
   "name": "python3"
  },
  "language_info": {
   "codemirror_mode": {
    "name": "ipython",
    "version": 2
   },
   "file_extension": ".py",
   "mimetype": "text/x-python",
   "name": "python",
   "nbconvert_exporter": "python",
   "pygments_lexer": "ipython2",
   "version": "2.7.6"
  }
 },
 "nbformat": 4,
 "nbformat_minor": 0
}