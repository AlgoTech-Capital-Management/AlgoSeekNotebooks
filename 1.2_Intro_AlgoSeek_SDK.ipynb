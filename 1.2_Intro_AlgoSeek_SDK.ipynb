{
 "cells": [
  {
   "cell_type": "markdown",
   "source": [
    "# Introduction to the AlgoSeek SDK"
   ],
   "metadata": {
    "collapsed": false,
    "pycharm": {
     "name": "#%% md\n"
    }
   }
  },
  {
   "cell_type": "code",
   "execution_count": null,
   "outputs": [],
   "source": [],
   "metadata": {
    "collapsed": false,
    "pycharm": {
     "name": "#%%\n"
    }
   }
  },
  {
   "cell_type": "markdown",
   "source": [
    "## 1) Overview"
   ],
   "metadata": {
    "collapsed": false,
    "pycharm": {
     "name": "#%% md\n"
    }
   }
  },
  {
   "cell_type": "code",
   "execution_count": 1,
   "outputs": [],
   "source": [
    "# import libraries\n",
    "import algoseek_connector\n",
    "import algoseek_connector.functions as fn\n",
    "import pandas as pd\n",
    "import os\n",
    "from dotenv import load_dotenv\n",
    "\n",
    "pd.set_option('display.max_columns',150)\n",
    "pd.set_option('display.max_rows', 100)\n",
    "\n",
    "load_dotenv()\n",
    "\n",
    "jhost = os.getenv('host_julian')\n",
    "juser = os.getenv('user_julian')\n",
    "jpass = os.getenv('password_julian')\n",
    "\n",
    "session = algoseek_connector.Session(\n",
    "    jhost, juser,jpass\n",
    ")\n",
    "session.ping() # Verify that the session was instantiated corrected\n",
    "resource = algoseek_connector.DataResource(session)"
   ],
   "metadata": {
    "collapsed": false,
    "pycharm": {
     "name": "#%%\n"
    }
   }
  },
  {
   "cell_type": "markdown",
   "source": [
    "## 2) US Equity Reference Data"
   ],
   "metadata": {
    "collapsed": false,
    "pycharm": {
     "name": "#%% md\n"
    }
   }
  },
  {
   "cell_type": "code",
   "execution_count": null,
   "outputs": [],
   "source": [
    "for dataset in resource.datagroups.USEquityReferenceData.all():\n",
    "    print(dataset)"
   ],
   "metadata": {
    "collapsed": false,
    "pycharm": {
     "name": "#%%\n"
    }
   }
  },
  {
   "cell_type": "markdown",
   "source": [
    "### 2.1) Basic Adjustment Factors"
   ],
   "metadata": {
    "collapsed": false,
    "pycharm": {
     "name": "#%% md\n"
    }
   }
  },
  {
   "cell_type": "code",
   "execution_count": 10,
   "outputs": [
    {
     "data": {
      "text/plain": "Index(['SecId', 'Ticker', 'EffectiveDate', 'AdjustmentFactor',\n       'AdjustmentReason', 'EventId'],\n      dtype='object')"
     },
     "execution_count": 10,
     "metadata": {},
     "output_type": "execute_result"
    }
   ],
   "source": [
    "basic_adj = resource.datagroups.USEquityReferenceData.datasets.BasicAdjustments\n",
    "basic_adj.head().fetch().columns"
   ],
   "metadata": {
    "collapsed": false,
    "pycharm": {
     "name": "#%%\n"
    }
   }
  },
  {
   "cell_type": "markdown",
   "source": [
    "Basic Adjustment Factor Data Fields:\n",
    "\n",
    "| Field            | Type (Format) | Description                                                                                      |\n",
    "|------------------|---------------|--------------------------------------------------------------------------------------------------|\n",
    "| SecId            | integer | Unique Security Identifier                                                                       |\n",
    "| Ticker           | string | Ticker on the Effective Date                                                                     |\n",
    "| EffectiveDate    | string (YYYYMMDD) | Date that the event becomes effective                                                            |\n",
    "| AdjustmentFactor | decimal | The value of the adjustment factor for the event |\n",
    "| AdjustmentReason | string | The reason for the Corporate Event. See subsection “Adjustment Reason” below for a list of types |\n",
    "| EventId | integer | Unique Event ID under the AdjustmentReason, i.e., each pair of AdjustmentReason and EventId is unique |"
   ],
   "metadata": {
    "collapsed": false,
    "pycharm": {
     "name": "#%% md\n"
    }
   }
  },
  {
   "cell_type": "code",
   "execution_count": 16,
   "outputs": [],
   "source": [
    "basic_df = basic_adj.select(basic_adj.SecId,\n",
    "                 basic_adj.Ticker,\n",
    "                 basic_adj.EffectiveDate,\n",
    "                 basic_adj.AdjustmentFactor,\n",
    "                 basic_adj.AdjustmentReason,\n",
    "                 basic_adj.EventId\n",
    ").fetch()\n",
    "basic_df.to_parquet('data/us_equity/reference/basic_adj.parquet')"
   ],
   "metadata": {
    "collapsed": false,
    "pycharm": {
     "name": "#%%\n"
    }
   }
  },
  {
   "cell_type": "markdown",
   "source": [
    "### 3.2) Detailed Adjustment Factors"
   ],
   "metadata": {
    "collapsed": false,
    "pycharm": {
     "name": "#%% md\n"
    }
   }
  },
  {
   "cell_type": "code",
   "execution_count": 17,
   "outputs": [
    {
     "data": {
      "text/plain": "Index(['SecId', 'Ticker', 'Name', 'ISIN', 'EffectiveDate', 'ReportDate',\n       'Revision', 'AdjustmentFactor', 'AdjustmentReason', 'EventType',\n       'EventId', 'DivPayrate', 'DivCurrency', 'DivPaymentType', 'Detail'],\n      dtype='object')"
     },
     "execution_count": 17,
     "metadata": {},
     "output_type": "execute_result"
    }
   ],
   "source": [
    "detailed_adj = resource.datagroups.USEquityReferenceData.datasets.DetailedAdjustments\n",
    "detailed_adj.head().fetch().columns"
   ],
   "metadata": {
    "collapsed": false,
    "pycharm": {
     "name": "#%%\n"
    }
   }
  },
  {
   "cell_type": "markdown",
   "source": [
    "Detailed Adjustment Factor data fields:\n",
    "\n",
    "| Field            | Type (Format)               | Description                                                                                                                   |\n",
    "|------------------|-----------------------------|-------------------------------------------------------------------------------------------------------------------------------|\n",
    "| SecId            | integer                     | Unique security identifier                                                                                                    |\n",
    "| Ticker           | string                      | Ticker on the Effective Date                                                                                                  |\n",
    "| EffectiveDate    | string (YYYYMMDD)           | Date that the event becomes effective                                                                                         |\n",
    "| Name             | string | Name of the company                                                                                                           |\n",
    "| ReportDate       | string (YYYYMMDD[_N]        | Date and version (_N suffix) of the algoseek event report file                                                                |\n",
    "| AdjustmentFactor | decimal                     | The value of the Adjustment factor for the event                                                                              |\n",
    "| AdjustmentReason | string                      | The reason for the Corporate Event. See subsection \"Adjustment Reason\" below for a list of types                              |\n",
    "| EventType        | string                      | Type of event. See section “Adjustment Reason Table” below for a list of types                                                |\n",
    "| EventId          | integer                     | Unique Event ID under the AdjustmentReason, i.e., each pair of AdjustmentReason and EventId is unique                         |\n",
    "| Detail           | string                      | Details of the event including Dividend Amount, Period (e.g., Interim), etc. See “Detail Field” below for further information |\n",
    "| ISIN             | string                      | ISIN (International SecurNumber) Identifier|"
   ],
   "metadata": {
    "collapsed": false,
    "pycharm": {
     "name": "#%% md\n"
    }
   }
  },
  {
   "cell_type": "code",
   "execution_count": 18,
   "outputs": [],
   "source": [
    "det_df = detailed_adj.select(detailed_adj.SecId,\n",
    "                    detailed_adj.Ticker,\n",
    "                    detailed_adj.Name,\n",
    "                    detailed_adj.ISIN,\n",
    "                    detailed_adj.EffectiveDate,\n",
    "                    detailed_adj.ReportDate,\n",
    "                    detailed_adj.Revision,\n",
    "                    detailed_adj.AdjustmentFactor,\n",
    "                    detailed_adj.AdjustmentReason,\n",
    "                    detailed_adj.EventType,\n",
    "                    detailed_adj.EventId,\n",
    "                    detailed_adj.DivPayrate,\n",
    "                    detailed_adj.DivCurrency,\n",
    "                    detailed_adj.DivPaymentType,\n",
    "                    detailed_adj.Detail\n",
    "                    ).fetch()\n",
    "det_df.to_parquet('data/us_equity/reference/detailed_adj.parquet')"
   ],
   "metadata": {
    "collapsed": false,
    "pycharm": {
     "name": "#%%\n"
    }
   }
  },
  {
   "cell_type": "code",
   "execution_count": null,
   "outputs": [],
   "source": [],
   "metadata": {
    "collapsed": false,
    "pycharm": {
     "name": "#%%\n"
    }
   }
  },
  {
   "cell_type": "markdown",
   "source": [
    "### 2.3) Lookup Base"
   ],
   "metadata": {
    "collapsed": false,
    "pycharm": {
     "name": "#%% md\n"
    }
   }
  },
  {
   "cell_type": "code",
   "execution_count": 11,
   "outputs": [
    {
     "data": {
      "text/plain": "Index(['SecId', 'Ticker', 'StartDate', 'EndDate'], dtype='object')"
     },
     "execution_count": 11,
     "metadata": {},
     "output_type": "execute_result"
    }
   ],
   "source": [
    "lookup_base = resource.datagroups.USEquityReferenceData.datasets.LookupBase\n",
    "lookup_base.head().fetch().columns"
   ],
   "metadata": {
    "collapsed": false,
    "pycharm": {
     "name": "#%%\n"
    }
   }
  },
  {
   "cell_type": "markdown",
   "source": [
    "Lookup Base Fields"
   ],
   "metadata": {
    "collapsed": false,
    "pycharm": {
     "name": "#%% md\n"
    }
   }
  },
  {
   "cell_type": "code",
   "execution_count": 19,
   "outputs": [],
   "source": [
    "look_df = lookup_base.select(lookup_base.SecId,\n",
    "                   lookup_base.Ticker,\n",
    "                   lookup_base.StartDate,\n",
    "                   lookup_base.EndDate\n",
    ").fetch()\n",
    "look_df.to_parquet('data/us_equity/reference/lookup_base.parquet')"
   ],
   "metadata": {
    "collapsed": false,
    "pycharm": {
     "name": "#%%\n"
    }
   }
  },
  {
   "cell_type": "markdown",
   "source": [
    "### 2.4) SEC Master Base"
   ],
   "metadata": {
    "collapsed": false,
    "pycharm": {
     "name": "#%% md\n"
    }
   }
  },
  {
   "cell_type": "code",
   "execution_count": 12,
   "outputs": [
    {
     "data": {
      "text/plain": "Index(['SecId', 'ListStatus', 'SecurityDescription', 'Sic', 'Sector',\n       'Industry', 'SEDOL', 'Ticker', 'TickerStartToEndDate', 'Name',\n       'NameStartToEndDate', 'ISIN', 'ISINStartToEndDate', 'USIdentifier',\n       'USIdentifierStartToEndDate', 'PrimaryExchange',\n       'PrimaryExchangeStartToEndDate', 'FIGI'],\n      dtype='object')"
     },
     "execution_count": 12,
     "metadata": {},
     "output_type": "execute_result"
    }
   ],
   "source": [
    "sec_master_base = resource.datagroups.USEquityReferenceData.datasets.SecMasterBase\n",
    "sec_master_base.head().fetch().columns"
   ],
   "metadata": {
    "collapsed": false,
    "pycharm": {
     "name": "#%%\n"
    }
   }
  },
  {
   "cell_type": "markdown",
   "source": [
    "SEC Master Base Datafields"
   ],
   "metadata": {
    "collapsed": false,
    "pycharm": {
     "name": "#%% md\n"
    }
   }
  },
  {
   "cell_type": "code",
   "execution_count": null,
   "outputs": [],
   "source": [
    "sec_df = sec_master_base.select(sec_master_base.SecId,\n",
    "                       sec_master_base.ListStatus,\n",
    "                       sec_master_base.SecurityDescription,\n",
    "                       sec_master_base.Sic,\n",
    "                       sec_master_base.Sector,\n",
    "                       sec_master_base.Industry,\n",
    "                       sec_master_base.SEDOL,\n",
    "                       sec_master_base.Ticker,\n",
    "                       sec_master_base.TickerStartToEndDate,\n",
    "                       sec_master_base.Name,\n",
    "                       sec_master_base.NameStartToEndDate,\n",
    "                       sec_master_base.ISIN,\n",
    "                       sec_master_base.ISINStartToEndDate,\n",
    "                       sec_master_base.USIdentifier,\n",
    "                       sec_master_base.USIdentifierStartToEndDate,\n",
    "                       sec_master_base.PrimaryExchange,\n",
    "                       sec_master_base.PrimaryExchangeStartToEndDate,\n",
    "                       sec_master_base.FIGI\n",
    ").fetch()\n",
    "sec_df.to_parquet('data/us_equity/reference/sec_master.parquet')"
   ],
   "metadata": {
    "collapsed": false,
    "pycharm": {
     "name": "#%%\n"
    }
   }
  },
  {
   "cell_type": "markdown",
   "source": [
    "## 3) US Equity Market Data"
   ],
   "metadata": {
    "collapsed": false,
    "pycharm": {
     "name": "#%% md\n"
    }
   }
  },
  {
   "cell_type": "markdown",
   "source": [
    "These cells deal with downloading market data for US Equities. Run whichever cells download the data that you want then skip the rest. Make sure you go to the end to download the reference data."
   ],
   "metadata": {
    "collapsed": false,
    "pycharm": {
     "name": "#%% md\n"
    }
   }
  },
  {
   "cell_type": "code",
   "execution_count": 5,
   "outputs": [
    {
     "name": "stdout",
     "output_type": "stream",
     "text": [
      "BasicAdjustedOHLCDaily\n",
      "BasicOHLCDaily\n",
      "PrimaryAdjustedOHLCDaily\n",
      "PrimaryOHLCDaily\n",
      "StandardAdjustedOHLCDaily\n",
      "StandardOHLCDaily\n",
      "TradeAndQuote\n",
      "TradeAndQuoteMinuteBar\n",
      "TradeAndQuoteMinuteBarExcludingTRF\n",
      "TradeOnly\n",
      "TradeOnlyAdjusted\n",
      "TradeOnlyAdjustedMinuteBar\n",
      "TradeOnlyAdjustedMinuteBarBBG\n",
      "TradeOnlyAdjustedMinuteBarExcludingTRF\n",
      "TradeOnlyMinuteBar\n",
      "TradeOnlyMinuteBarBBG\n",
      "TradeOnlyMinuteBarExcludingTRF\n"
     ]
    }
   ],
   "source": [
    "# List all available datasets\n",
    "for dataset in resource.datagroups.USEquityMarketData.datasets.all():\n",
    "    print(dataset.name)"
   ],
   "metadata": {
    "collapsed": false,
    "pycharm": {
     "name": "#%%\n"
    }
   }
  },
  {
   "cell_type": "markdown",
   "source": [
    "### 3.1) Basic OHLC Daily"
   ],
   "metadata": {
    "collapsed": false,
    "pycharm": {
     "name": "#%% md\n"
    }
   }
  },
  {
   "cell_type": "code",
   "execution_count": null,
   "outputs": [],
   "source": [],
   "metadata": {
    "collapsed": false,
    "pycharm": {
     "name": "#%%\n"
    }
   }
  },
  {
   "cell_type": "markdown",
   "source": [
    "### 3.2) Basic Adjusted OHLC Daily"
   ],
   "metadata": {
    "collapsed": false,
    "pycharm": {
     "name": "#%% md\n"
    }
   }
  },
  {
   "cell_type": "code",
   "execution_count": null,
   "outputs": [],
   "source": [],
   "metadata": {
    "collapsed": false,
    "pycharm": {
     "name": "#%%\n"
    }
   }
  },
  {
   "cell_type": "markdown",
   "source": [
    "### 3.3) Primary OHLC Daily"
   ],
   "metadata": {
    "collapsed": false,
    "pycharm": {
     "name": "#%% md\n"
    }
   }
  },
  {
   "cell_type": "code",
   "execution_count": null,
   "outputs": [],
   "source": [],
   "metadata": {
    "collapsed": false,
    "pycharm": {
     "name": "#%%\n"
    }
   }
  },
  {
   "cell_type": "markdown",
   "source": [
    "### 3.4) Primary Adjusted OHLC Daily"
   ],
   "metadata": {
    "collapsed": false,
    "pycharm": {
     "name": "#%% md\n"
    }
   }
  },
  {
   "cell_type": "code",
   "execution_count": null,
   "outputs": [],
   "source": [],
   "metadata": {
    "collapsed": false,
    "pycharm": {
     "name": "#%%\n"
    }
   }
  },
  {
   "cell_type": "markdown",
   "source": [
    "### 3.5) Standard OHLC Daily"
   ],
   "metadata": {
    "collapsed": false,
    "pycharm": {
     "name": "#%% md\n"
    }
   }
  },
  {
   "cell_type": "code",
   "execution_count": null,
   "outputs": [],
   "source": [],
   "metadata": {
    "collapsed": false,
    "pycharm": {
     "name": "#%%\n"
    }
   }
  },
  {
   "cell_type": "markdown",
   "source": [
    "### 3.6) Standard Adjusted OHLC Daily"
   ],
   "metadata": {
    "collapsed": false,
    "pycharm": {
     "name": "#%% md\n"
    }
   }
  },
  {
   "cell_type": "code",
   "execution_count": null,
   "outputs": [],
   "source": [],
   "metadata": {
    "collapsed": false,
    "pycharm": {
     "name": "#%%\n"
    }
   }
  },
  {
   "cell_type": "markdown",
   "source": [
    "### 3.7) Trade and Quote"
   ],
   "metadata": {
    "collapsed": false,
    "pycharm": {
     "name": "#%% md\n"
    }
   }
  },
  {
   "cell_type": "code",
   "execution_count": null,
   "outputs": [],
   "source": [],
   "metadata": {
    "collapsed": false,
    "pycharm": {
     "name": "#%%\n"
    }
   }
  },
  {
   "cell_type": "markdown",
   "source": [
    "### 3.8) Trade and Quote Minute Bar"
   ],
   "metadata": {
    "collapsed": false,
    "pycharm": {
     "name": "#%% md\n"
    }
   }
  },
  {
   "cell_type": "code",
   "execution_count": null,
   "outputs": [],
   "source": [],
   "metadata": {
    "collapsed": false,
    "pycharm": {
     "name": "#%%\n"
    }
   }
  },
  {
   "cell_type": "markdown",
   "source": [
    "### 3.9) Trade and Quote Minute Bar Excluding TRF"
   ],
   "metadata": {
    "collapsed": false,
    "pycharm": {
     "name": "#%% md\n"
    }
   }
  },
  {
   "cell_type": "code",
   "execution_count": null,
   "outputs": [],
   "source": [],
   "metadata": {
    "collapsed": false,
    "pycharm": {
     "name": "#%%\n"
    }
   }
  },
  {
   "cell_type": "markdown",
   "source": [
    "### 3.10) Trade Only"
   ],
   "metadata": {
    "collapsed": false,
    "pycharm": {
     "name": "#%% md\n"
    }
   }
  },
  {
   "cell_type": "code",
   "execution_count": null,
   "outputs": [],
   "source": [],
   "metadata": {
    "collapsed": false,
    "pycharm": {
     "name": "#%%\n"
    }
   }
  },
  {
   "cell_type": "markdown",
   "source": [
    "### 3.11) Trade Only Adjusted"
   ],
   "metadata": {
    "collapsed": false,
    "pycharm": {
     "name": "#%% md\n"
    }
   }
  },
  {
   "cell_type": "code",
   "execution_count": null,
   "outputs": [],
   "source": [],
   "metadata": {
    "collapsed": false,
    "pycharm": {
     "name": "#%%\n"
    }
   }
  },
  {
   "cell_type": "markdown",
   "source": [
    "### 3.12) Trade Only Adjusted Minute Bar"
   ],
   "metadata": {
    "collapsed": false,
    "pycharm": {
     "name": "#%% md\n"
    }
   }
  },
  {
   "cell_type": "markdown",
   "source": [],
   "metadata": {
    "collapsed": false,
    "pycharm": {
     "name": "#%% md\n"
    }
   }
  },
  {
   "cell_type": "code",
   "execution_count": null,
   "outputs": [],
   "source": [],
   "metadata": {
    "collapsed": false,
    "pycharm": {
     "name": "#%%\n"
    }
   }
  },
  {
   "cell_type": "markdown",
   "source": [
    "### 3.13) Trade Only Adjusted Minute Bar BBG"
   ],
   "metadata": {
    "collapsed": false,
    "pycharm": {
     "name": "#%% md\n"
    }
   }
  },
  {
   "cell_type": "code",
   "execution_count": null,
   "outputs": [],
   "source": [],
   "metadata": {
    "collapsed": false,
    "pycharm": {
     "name": "#%%\n"
    }
   }
  },
  {
   "cell_type": "markdown",
   "source": [
    "### 3.14) Trade Only Adjusted Minute Bar Excluding TRF"
   ],
   "metadata": {
    "collapsed": false,
    "pycharm": {
     "name": "#%% md\n"
    }
   }
  },
  {
   "cell_type": "code",
   "execution_count": null,
   "outputs": [],
   "source": [],
   "metadata": {
    "collapsed": false,
    "pycharm": {
     "name": "#%%\n"
    }
   }
  },
  {
   "cell_type": "markdown",
   "source": [
    "### 3.15) Trade Only Minute Bar"
   ],
   "metadata": {
    "collapsed": false,
    "pycharm": {
     "name": "#%% md\n"
    }
   }
  },
  {
   "cell_type": "code",
   "execution_count": null,
   "outputs": [],
   "source": [],
   "metadata": {
    "collapsed": false,
    "pycharm": {
     "name": "#%%\n"
    }
   }
  },
  {
   "cell_type": "markdown",
   "source": [
    "### 3.16) Trade Only Minute Bar BBG"
   ],
   "metadata": {
    "collapsed": false,
    "pycharm": {
     "name": "#%% md\n"
    }
   }
  },
  {
   "cell_type": "code",
   "execution_count": null,
   "outputs": [],
   "source": [],
   "metadata": {
    "collapsed": false,
    "pycharm": {
     "name": "#%%\n"
    }
   }
  },
  {
   "cell_type": "markdown",
   "source": [
    "### 3.17) Trade Only Minute Bar Excluding TRF"
   ],
   "metadata": {
    "collapsed": false,
    "pycharm": {
     "name": "#%% md\n"
    }
   }
  },
  {
   "cell_type": "code",
   "execution_count": null,
   "outputs": [],
   "source": [],
   "metadata": {
    "collapsed": false,
    "pycharm": {
     "name": "#%%\n"
    }
   }
  }
 ],
 "metadata": {
  "kernelspec": {
   "display_name": "Python 3",
   "language": "python",
   "name": "python3"
  },
  "language_info": {
   "codemirror_mode": {
    "name": "ipython",
    "version": 2
   },
   "file_extension": ".py",
   "mimetype": "text/x-python",
   "name": "python",
   "nbconvert_exporter": "python",
   "pygments_lexer": "ipython2",
   "version": "2.7.6"
  }
 },
 "nbformat": 4,
 "nbformat_minor": 0
}