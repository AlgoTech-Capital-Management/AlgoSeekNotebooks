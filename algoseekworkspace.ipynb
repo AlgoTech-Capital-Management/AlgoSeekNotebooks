{
 "cells": [
  {
   "cell_type": "code",
   "execution_count": 1,
   "id": "95daf60e-cf00-42e3-9ee9-ffd5988d5917",
   "metadata": {
    "execution": {
     "iopub.execute_input": "2022-03-20T06:33:56.459788Z",
     "iopub.status.busy": "2022-03-20T06:33:56.459560Z",
     "iopub.status.idle": "2022-03-20T06:34:28.463165Z",
     "shell.execute_reply": "2022-03-20T06:34:28.462291Z",
     "shell.execute_reply.started": "2022-03-20T06:33:56.459763Z"
    },
    "vscode": {
     "languageId": "python"
    }
   },
   "outputs": [
    {
     "data": {
      "application/vnd.jupyter.widget-view+json": {
       "model_id": "067cd52f624d486b9361342cbebcaf35",
       "version_major": 2,
       "version_minor": 0
      },
      "text/plain": [
       "VBox()"
      ]
     },
     "metadata": {},
     "output_type": "display_data"
    },
    {
     "name": "stdout",
     "output_type": "stream",
     "text": [
      "Starting Spark application\n"
     ]
    },
    {
     "data": {
      "text/html": [
       "<table>\n",
       "<tbody><tr><th>ID</th><th>YARN Application ID</th><th>Kind</th><th>State</th><th>Spark UI</th><th>Driver log</th><th>Current session?</th></tr><tr><td>0</td><td>application_1647757004392_0002</td><td>pyspark</td><td>idle</td><td><a target=\"_blank\" href=\"http://ip-10-0-20-107.ec2.internal:20888/proxy/application_1647757004392_0002/\" class=\"emr-proxy-link j-35OY9JGK5E0NB application_1647757004392_0002\" emr-resource=\"j-35OY9JGK5E0NB\n",
       "\" application-id=\"application_1647757004392_0002\">Link</a></td><td><a target=\"_blank\" href=\"http://ip-10-0-20-65.ec2.internal:8042/node/containerlogs/container_1647757004392_0002_01_000001/livy\">Link</a></td><td>✔</td></tr></tbody></table>"
      ],
      "text/plain": [
       "<IPython.core.display.HTML object>"
      ]
     },
     "metadata": {},
     "output_type": "display_data"
    },
    {
     "data": {
      "application/vnd.jupyter.widget-view+json": {
       "model_id": "",
       "version_major": 2,
       "version_minor": 0
      },
      "text/plain": [
       "FloatProgress(value=0.0, bar_style='info', description='Progress:', layout=Layout(height='25px', width='50%'),…"
      ]
     },
     "metadata": {},
     "output_type": "display_data"
    },
    {
     "name": "stdout",
     "output_type": "stream",
     "text": [
      "SparkSession available as 'spark'.\n"
     ]
    },
    {
     "data": {
      "application/vnd.jupyter.widget-view+json": {
       "model_id": "",
       "version_major": 2,
       "version_minor": 0
      },
      "text/plain": [
       "FloatProgress(value=0.0, bar_style='info', description='Progress:', layout=Layout(height='25px', width='50%'),…"
      ]
     },
     "metadata": {},
     "output_type": "display_data"
    }
   ],
   "source": []
  },
  {
   "cell_type": "code",
   "execution_count": null,
   "id": "7fad2d36-27a7-4c59-a83c-e69fa2b8377b",
   "metadata": {
    "vscode": {
     "languageId": "python"
    }
   },
   "outputs": [],
   "source": [
    "tst = pd.read_parquet('nasdaq100_"
   ]
  },
  {
   "cell_type": "code",
   "execution_count": 5,
   "id": "34e86cfa-58b5-4882-8c8e-e71672e46c2e",
   "metadata": {
    "execution": {
     "iopub.execute_input": "2022-03-20T06:36:48.418945Z",
     "iopub.status.busy": "2022-03-20T06:36:48.418718Z",
     "iopub.status.idle": "2022-03-20T06:36:49.712240Z",
     "shell.execute_reply": "2022-03-20T06:36:49.711518Z",
     "shell.execute_reply.started": "2022-03-20T06:36:48.418921Z"
    },
    "tags": [],
    "vscode": {
     "languageId": "python"
    }
   },
   "outputs": [
    {
     "data": {
      "application/vnd.jupyter.widget-view+json": {
       "model_id": "f1dcb6946d1d4db6bfdae5621b167adf",
       "version_major": 2,
       "version_minor": 0
      },
      "text/plain": [
       "VBox()"
      ]
     },
     "metadata": {},
     "output_type": "display_data"
    },
    {
     "data": {
      "application/vnd.jupyter.widget-view+json": {
       "model_id": "",
       "version_major": 2,
       "version_minor": 0
      },
      "text/plain": [
       "FloatProgress(value=0.0, bar_style='info', description='Progress:', layout=Layout(height='25px', width='50%'),…"
      ]
     },
     "metadata": {},
     "output_type": "display_data"
    },
    {
     "name": "stdout",
     "output_type": "stream",
     "text": [
      "Collecting backtrader\n",
      "  Downloading https://files.pythonhosted.org/packages/1a/bf/78aadd993e2719d6764603465fde163ba6ec15cf0e81f13e39ca13451348/backtrader-1.9.76.123-py2.py3-none-any.whl (410kB)\n",
      "Installing collected packages: backtrader\n",
      "Successfully installed backtrader-1.9.76.123\n",
      "\n",
      "You are using pip version 9.0.1, however version 22.0.4 is available.\n",
      "You should consider upgrading via the 'pip install --upgrade pip' command."
     ]
    }
   ],
   "source": [
    "sc.install_pypi_package('backtrader')"
   ]
  },
  {
   "cell_type": "code",
   "execution_count": 3,
   "id": "805c33a8-0ffd-4752-a4b3-e3a6e74a2d4c",
   "metadata": {
    "execution": {
     "iopub.execute_input": "2022-03-20T06:34:38.483536Z",
     "iopub.status.busy": "2022-03-20T06:34:38.483316Z",
     "iopub.status.idle": "2022-03-20T06:34:40.803295Z",
     "shell.execute_reply": "2022-03-20T06:34:40.802562Z",
     "shell.execute_reply.started": "2022-03-20T06:34:38.483513Z"
    },
    "vscode": {
     "languageId": "python"
    }
   },
   "outputs": [
    {
     "data": {
      "application/vnd.jupyter.widget-view+json": {
       "model_id": "86bd73cc21344f9faab43b38fa8118fa",
       "version_major": 2,
       "version_minor": 0
      },
      "text/plain": [
       "VBox()"
      ]
     },
     "metadata": {},
     "output_type": "display_data"
    },
    {
     "data": {
      "application/vnd.jupyter.widget-view+json": {
       "model_id": "",
       "version_major": 2,
       "version_minor": 0
      },
      "text/plain": [
       "FloatProgress(value=0.0, bar_style='info', description='Progress:', layout=Layout(height='25px', width='50%'),…"
      ]
     },
     "metadata": {},
     "output_type": "display_data"
    }
   ],
   "source": [
    "import boto3\n",
    "import awswrangler as wr\n",
    "\n",
    "session = boto3.Session(aws_access_key_id, aws_secret_access_key)\n",
    "\n",
    "bucket_name = 'us-equity-1min-taq-2022'"
   ]
  },
  {
   "cell_type": "code",
   "execution_count": 4,
   "id": "e6305061-d33c-4b93-9b3d-b455af07bace",
   "metadata": {
    "execution": {
     "iopub.execute_input": "2022-03-20T06:34:45.277316Z",
     "iopub.status.busy": "2022-03-20T06:34:45.277091Z",
     "iopub.status.idle": "2022-03-20T06:34:46.074153Z",
     "shell.execute_reply": "2022-03-20T06:34:46.073396Z",
     "shell.execute_reply.started": "2022-03-20T06:34:45.277290Z"
    },
    "vscode": {
     "languageId": "python"
    }
   },
   "outputs": [
    {
     "data": {
      "application/vnd.jupyter.widget-view+json": {
       "model_id": "a9bea9f1bada411fbf3ed2aeac911a63",
       "version_major": 2,
       "version_minor": 0
      },
      "text/plain": [
       "VBox()"
      ]
     },
     "metadata": {},
     "output_type": "display_data"
    },
    {
     "data": {
      "application/vnd.jupyter.widget-view+json": {
       "model_id": "",
       "version_major": 2,
       "version_minor": 0
      },
      "text/plain": [
       "FloatProgress(value=0.0, bar_style='info', description='Progress:', layout=Layout(height='25px', width='50%'),…"
      ]
     },
     "metadata": {},
     "output_type": "display_data"
    },
    {
     "name": "stdout",
     "output_type": "stream",
     "text": [
      ".index/20220103.csv.gz\n",
      ".index/20220104.csv.gz\n",
      ".index/20220105.csv.gz\n",
      ".index/20220106.csv.gz\n",
      ".index/20220107.csv.gz\n",
      ".index/20220110.csv.gz\n",
      ".index/20220111.csv.gz\n",
      ".index/20220112.csv.gz\n",
      ".index/20220113.csv.gz\n",
      ".index/20220114.csv.gz\n",
      ".index/20220118.csv.gz\n",
      ".index/20220119.csv.gz\n",
      ".index/20220120.csv.gz\n",
      ".index/20220121.csv.gz\n",
      ".index/20220124.csv.gz\n",
      ".index/20220125.csv.gz\n",
      ".index/20220126.csv.gz\n",
      ".index/20220127.csv.gz\n",
      ".index/20220128.csv.gz\n",
      ".index/20220131.csv.gz\n",
      ".index/20220201.csv.gz\n",
      ".index/20220202.csv.gz\n",
      ".index/20220203.csv.gz\n",
      ".index/20220204.csv.gz\n",
      ".index/20220207.csv.gz\n",
      ".index/20220208.csv.gz\n",
      ".index/20220209.csv.gz\n",
      ".index/20220210.csv.gz\n",
      ".index/20220211.csv.gz\n",
      ".index/20220214.csv.gz\n",
      ".index/20220215.csv.gz\n",
      ".index/20220216.csv.gz\n",
      ".index/20220217.csv.gz\n",
      ".index/20220218.csv.gz\n",
      ".index/20220222.csv.gz\n",
      ".index/20220223.csv.gz\n",
      ".index/20220224.csv.gz\n",
      ".index/20220225.csv.gz\n",
      ".index/20220228.csv.gz\n",
      ".index/20220301.csv.gz\n",
      ".index/20220302.csv.gz\n",
      ".index/20220303.csv.gz\n",
      ".index/20220304.csv.gz\n",
      ".index/20220307.csv.gz\n",
      ".index/20220308.csv.gz\n",
      ".index/20220309.csv.gz\n",
      ".index/20220310.csv.gz\n",
      ".index/20220311.csv.gz\n",
      ".index/20220314.csv.gz\n",
      ".index/20220315.csv.gz\n",
      ".index/20220316.csv.gz\n",
      ".index/20220317.csv.gz\n",
      ".index/20220318.csv.gz"
     ]
    }
   ],
   "source": [
    "prefix = '.index/'\n",
    "\n",
    "s3 = session.resource('s3')\n",
    "\n",
    "bucket = s3.Bucket(bucket_name)\n",
    "\n",
    "#objects = bucket.objects.filter(Prefix, RequestPayer='requester')\n",
    "\n",
    "for obj in bucket.objects.filter(Prefix=prefix, RequestPayer='requester'):\n",
    "    print(obj.key)"
   ]
  },
  {
   "cell_type": "code",
   "execution_count": 6,
   "id": "d4ad324b-74e0-4251-8ad8-48e18d156b4c",
   "metadata": {
    "execution": {
     "iopub.execute_input": "2022-03-20T06:36:57.460656Z",
     "iopub.status.busy": "2022-03-20T06:36:57.460404Z",
     "iopub.status.idle": "2022-03-20T06:36:57.742366Z",
     "shell.execute_reply": "2022-03-20T06:36:57.741455Z",
     "shell.execute_reply.started": "2022-03-20T06:36:57.460630Z"
    },
    "vscode": {
     "languageId": "python"
    }
   },
   "outputs": [
    {
     "data": {
      "application/vnd.jupyter.widget-view+json": {
       "model_id": "0e52f6030c6a48ec9b3f9d72dfc16394",
       "version_major": 2,
       "version_minor": 0
      },
      "text/plain": [
       "VBox()"
      ]
     },
     "metadata": {},
     "output_type": "display_data"
    },
    {
     "data": {
      "application/vnd.jupyter.widget-view+json": {
       "model_id": "",
       "version_major": 2,
       "version_minor": 0
      },
      "text/plain": [
       "FloatProgress(value=0.0, bar_style='info', description='Progress:', layout=Layout(height='25px', width='50%'),…"
      ]
     },
     "metadata": {},
     "output_type": "display_data"
    }
   ],
   "source": [
    "import backtrader.indicators as btind\n",
    "import backtrader as bt\n",
    "import datetime\n",
    "import os\n",
    "import sys\n",
    "from datetime import datetime\n",
    "\n",
    "import backtrader as bt\n",
    "import backtrader.feeds as btfeeds\n",
    "import backtrader.analyzers as btanalyzers\n",
    "from backtrader.feed import DataBase\n",
    "from backtrader import date2num\n",
    "from backtrader import TimeFrame\n",
    "import os\n",
    "import pytz\n",
    "from pytz import timezone\n",
    "import json\n",
    "import time\n",
    "import itertools\n",
    "import datetime\n",
    "\n",
    "import pandas as pd\n",
    "\n",
    "import sys\n",
    "import os\n",
    "#import boto3\n",
    "from pyspark import SparkConf, SparkContext\n",
    "from pyspark.sql import SparkSession\n",
    "from pyspark.sql.types import StructType\n",
    "from pyspark.sql.functions import *\n",
    "from pyspark.sql.types import TimestampType\n",
    "from pyspark.sql.window import Window"
   ]
  },
  {
   "cell_type": "code",
   "execution_count": 99,
   "id": "2a7b41d0-4387-49f0-9b71-106e0651e64c",
   "metadata": {
    "execution": {
     "iopub.execute_input": "2022-03-20T10:21:21.372618Z",
     "iopub.status.busy": "2022-03-20T10:21:21.372385Z",
     "iopub.status.idle": "2022-03-20T10:21:21.406696Z",
     "shell.execute_reply": "2022-03-20T10:21:21.406108Z",
     "shell.execute_reply.started": "2022-03-20T10:21:21.372591Z"
    },
    "tags": [],
    "vscode": {
     "languageId": "python"
    }
   },
   "outputs": [
    {
     "data": {
      "application/vnd.jupyter.widget-view+json": {
       "model_id": "3034bc8ef9f84e039654f9d2c05aafd2",
       "version_major": 2,
       "version_minor": 0
      },
      "text/plain": [
       "VBox()"
      ]
     },
     "metadata": {},
     "output_type": "display_data"
    },
    {
     "name": "stderr",
     "output_type": "stream",
     "text": [
      "An error was encountered:\n",
      "Invalid status code '404' from http://localhost:8998/sessions/0 with error payload: {\"msg\":\"Session '0' not found.\"}\n"
     ]
    }
   ],
   "source": [
    "test = spark.read.option('header','True').csv('s3://algoseekraw/us-equity-1min-taq/nasdaq100/2021/*.csv.gz')\n"
   ]
  },
  {
   "cell_type": "code",
   "execution_count": 31,
   "id": "581d0aa7-c472-4031-a3a9-5ca772166bff",
   "metadata": {
    "execution": {
     "iopub.execute_input": "2022-03-20T06:58:25.381102Z",
     "iopub.status.busy": "2022-03-20T06:58:25.380886Z",
     "iopub.status.idle": "2022-03-20T06:58:26.157617Z",
     "shell.execute_reply": "2022-03-20T06:58:26.156940Z",
     "shell.execute_reply.started": "2022-03-20T06:58:25.381078Z"
    },
    "tags": [],
    "vscode": {
     "languageId": "python"
    }
   },
   "outputs": [
    {
     "data": {
      "application/vnd.jupyter.widget-view+json": {
       "model_id": "0315db01122a47c0b26a4d1db7965b58",
       "version_major": 2,
       "version_minor": 0
      },
      "text/plain": [
       "VBox()"
      ]
     },
     "metadata": {},
     "output_type": "display_data"
    },
    {
     "data": {
      "application/vnd.jupyter.widget-view+json": {
       "model_id": "",
       "version_major": 2,
       "version_minor": 0
      },
      "text/plain": [
       "FloatProgress(value=0.0, bar_style='info', description='Progress:', layout=Layout(height='25px', width='50%'),…"
      ]
     },
     "metadata": {},
     "output_type": "display_data"
    }
   ],
   "source": [
    "\n",
    "nd100 = wr.s3.read_csv('s3://miscellaneousbucketfordatalake/nasdaq100names.csv')"
   ]
  },
  {
   "cell_type": "code",
   "execution_count": 32,
   "id": "5ee6c1e4-f33b-4d9c-889a-631688d603a8",
   "metadata": {
    "execution": {
     "iopub.execute_input": "2022-03-20T06:58:30.465389Z",
     "iopub.status.busy": "2022-03-20T06:58:30.465159Z",
     "iopub.status.idle": "2022-03-20T06:58:30.739265Z",
     "shell.execute_reply": "2022-03-20T06:58:30.738573Z",
     "shell.execute_reply.started": "2022-03-20T06:58:30.465365Z"
    },
    "tags": [],
    "vscode": {
     "languageId": "python"
    }
   },
   "outputs": [
    {
     "data": {
      "application/vnd.jupyter.widget-view+json": {
       "model_id": "c445423ad7dc464aba4580898391591d",
       "version_major": 2,
       "version_minor": 0
      },
      "text/plain": [
       "VBox()"
      ]
     },
     "metadata": {},
     "output_type": "display_data"
    },
    {
     "data": {
      "application/vnd.jupyter.widget-view+json": {
       "model_id": "",
       "version_major": 2,
       "version_minor": 0
      },
      "text/plain": [
       "FloatProgress(value=0.0, bar_style='info', description='Progress:', layout=Layout(height='25px', width='50%'),…"
      ]
     },
     "metadata": {},
     "output_type": "display_data"
    },
    {
     "name": "stdout",
     "output_type": "stream",
     "text": [
      "      AAL\n",
      "0    AAPL\n",
      "1    ADBE\n",
      "2     ADI\n",
      "3     ADP\n",
      "4    ADSK\n",
      "..    ...\n",
      "99    WFM\n",
      "100  XLNX\n",
      "101  YHOO\n",
      "102  XRAY\n",
      "103   NDX\n",
      "\n",
      "[104 rows x 1 columns]"
     ]
    }
   ],
   "source": [
    "nd100"
   ]
  },
  {
   "cell_type": "code",
   "execution_count": 35,
   "id": "6a7b6da7-4ce5-4472-8dad-2e3878aa827f",
   "metadata": {
    "execution": {
     "iopub.execute_input": "2022-03-20T07:07:22.593409Z",
     "iopub.status.busy": "2022-03-20T07:07:22.593186Z",
     "iopub.status.idle": "2022-03-20T07:07:37.967435Z",
     "shell.execute_reply": "2022-03-20T07:07:37.966782Z",
     "shell.execute_reply.started": "2022-03-20T07:07:22.593385Z"
    },
    "tags": [],
    "vscode": {
     "languageId": "python"
    }
   },
   "outputs": [
    {
     "data": {
      "application/vnd.jupyter.widget-view+json": {
       "model_id": "72340dc050eb458cbbb5d01cf0ddecab",
       "version_major": 2,
       "version_minor": 0
      },
      "text/plain": [
       "VBox()"
      ]
     },
     "metadata": {},
     "output_type": "display_data"
    },
    {
     "data": {
      "application/vnd.jupyter.widget-view+json": {
       "model_id": "",
       "version_major": 2,
       "version_minor": 0
      },
      "text/plain": [
       "FloatProgress(value=0.0, bar_style='info', description='Progress:', layout=Layout(height='25px', width='50%'),…"
      ]
     },
     "metadata": {},
     "output_type": "display_data"
    }
   ],
   "source": [
    "eqindex = spark.read.csv('s3://s3datalakeinventories/algoseek/us-equity-1min-taq/*.csv.gz')"
   ]
  },
  {
   "cell_type": "code",
   "execution_count": 36,
   "id": "053c902b-e957-4d0d-bbca-5e0db05cb3e3",
   "metadata": {
    "execution": {
     "iopub.execute_input": "2022-03-20T07:07:38.886374Z",
     "iopub.status.busy": "2022-03-20T07:07:38.886135Z",
     "iopub.status.idle": "2022-03-20T07:07:38.943017Z",
     "shell.execute_reply": "2022-03-20T07:07:38.942431Z",
     "shell.execute_reply.started": "2022-03-20T07:07:38.886341Z"
    },
    "tags": [],
    "vscode": {
     "languageId": "python"
    }
   },
   "outputs": [
    {
     "data": {
      "application/vnd.jupyter.widget-view+json": {
       "model_id": "256ae55d50c54a0e9eb13775bc55f5f0",
       "version_major": 2,
       "version_minor": 0
      },
      "text/plain": [
       "VBox()"
      ]
     },
     "metadata": {},
     "output_type": "display_data"
    },
    {
     "data": {
      "application/vnd.jupyter.widget-view+json": {
       "model_id": "",
       "version_major": 2,
       "version_minor": 0
      },
      "text/plain": [
       "FloatProgress(value=0.0, bar_style='info', description='Progress:', layout=Layout(height='25px', width='50%'),…"
      ]
     },
     "metadata": {},
     "output_type": "display_data"
    },
    {
     "name": "stdout",
     "output_type": "stream",
     "text": [
      "root\n",
      " |-- _c0: string (nullable = true)\n",
      " |-- _c1: string (nullable = true)\n",
      " |-- _c2: string (nullable = true)\n",
      " |-- _c3: string (nullable = true)\n",
      " |-- _c4: string (nullable = true)"
     ]
    }
   ],
   "source": [
    "eqindex.printSchema()"
   ]
  },
  {
   "cell_type": "code",
   "execution_count": 100,
   "id": "8f854bb1-85ce-4d11-99cd-ecc62db561eb",
   "metadata": {
    "execution": {
     "iopub.execute_input": "2022-03-20T10:25:52.563338Z",
     "iopub.status.busy": "2022-03-20T10:25:52.563111Z",
     "iopub.status.idle": "2022-03-20T10:25:52.598144Z",
     "shell.execute_reply": "2022-03-20T10:25:52.597197Z",
     "shell.execute_reply.started": "2022-03-20T10:25:52.563314Z"
    },
    "tags": [],
    "vscode": {
     "languageId": "python"
    }
   },
   "outputs": [
    {
     "data": {
      "application/vnd.jupyter.widget-view+json": {
       "model_id": "6d4c9d7e5a264f61a18882c8457042e4",
       "version_major": 2,
       "version_minor": 0
      },
      "text/plain": [
       "VBox()"
      ]
     },
     "metadata": {},
     "output_type": "display_data"
    },
    {
     "name": "stderr",
     "output_type": "stream",
     "text": [
      "An error was encountered:\n",
      "Invalid status code '404' from http://localhost:8998/sessions/0 with error payload: {\"msg\":\"Session '0' not found.\"}\n"
     ]
    }
   ],
   "source": [
    "eqindex.show()"
   ]
  },
  {
   "cell_type": "code",
   "execution_count": 38,
   "id": "37f4de57-c9a7-4cbd-9e83-1676b0f0a9ab",
   "metadata": {
    "execution": {
     "iopub.execute_input": "2022-03-20T07:10:37.256410Z",
     "iopub.status.busy": "2022-03-20T07:10:37.256013Z",
     "iopub.status.idle": "2022-03-20T07:10:37.326002Z",
     "shell.execute_reply": "2022-03-20T07:10:37.325478Z",
     "shell.execute_reply.started": "2022-03-20T07:10:37.256379Z"
    },
    "vscode": {
     "languageId": "python"
    }
   },
   "outputs": [
    {
     "data": {
      "application/vnd.jupyter.widget-view+json": {
       "model_id": "48b992752ada492398ca6e3a32ec473b",
       "version_major": 2,
       "version_minor": 0
      },
      "text/plain": [
       "VBox()"
      ]
     },
     "metadata": {},
     "output_type": "display_data"
    },
    {
     "data": {
      "application/vnd.jupyter.widget-view+json": {
       "model_id": "",
       "version_major": 2,
       "version_minor": 0
      },
      "text/plain": [
       "FloatProgress(value=0.0, bar_style='info', description='Progress:', layout=Layout(height='25px', width='50%'),…"
      ]
     },
     "metadata": {},
     "output_type": "display_data"
    }
   ],
   "source": [
    "nd100files=nd100 + '.csv.gz'"
   ]
  },
  {
   "cell_type": "code",
   "execution_count": 60,
   "id": "6d0bb87d-611f-4f3c-aa4e-6a16565eba36",
   "metadata": {
    "execution": {
     "iopub.execute_input": "2022-03-20T07:23:07.868496Z",
     "iopub.status.busy": "2022-03-20T07:23:07.868274Z",
     "iopub.status.idle": "2022-03-20T07:23:07.925847Z",
     "shell.execute_reply": "2022-03-20T07:23:07.925177Z",
     "shell.execute_reply.started": "2022-03-20T07:23:07.868472Z"
    },
    "tags": [],
    "vscode": {
     "languageId": "python"
    }
   },
   "outputs": [
    {
     "data": {
      "application/vnd.jupyter.widget-view+json": {
       "model_id": "7e038f25f42f4dbd890c302f6d2b7866",
       "version_major": 2,
       "version_minor": 0
      },
      "text/plain": [
       "VBox()"
      ]
     },
     "metadata": {},
     "output_type": "display_data"
    },
    {
     "data": {
      "application/vnd.jupyter.widget-view+json": {
       "model_id": "",
       "version_major": 2,
       "version_minor": 0
      },
      "text/plain": [
       "FloatProgress(value=0.0, bar_style='info', description='Progress:', layout=Layout(height='25px', width='50%'),…"
      ]
     },
     "metadata": {},
     "output_type": "display_data"
    }
   ],
   "source": [
    "nd100list = nd100files['AAL'].values.tolist()"
   ]
  },
  {
   "cell_type": "code",
   "execution_count": 53,
   "id": "853d7790-c4c6-4122-8200-495880fb6de5",
   "metadata": {
    "execution": {
     "iopub.execute_input": "2022-03-20T07:19:03.353325Z",
     "iopub.status.busy": "2022-03-20T07:19:03.353097Z",
     "iopub.status.idle": "2022-03-20T07:19:03.426039Z",
     "shell.execute_reply": "2022-03-20T07:19:03.425216Z",
     "shell.execute_reply.started": "2022-03-20T07:19:03.353300Z"
    },
    "vscode": {
     "languageId": "python"
    }
   },
   "outputs": [
    {
     "data": {
      "application/vnd.jupyter.widget-view+json": {
       "model_id": "669d04222c2e43b7b8305ca54b16edcd",
       "version_major": 2,
       "version_minor": 0
      },
      "text/plain": [
       "VBox()"
      ]
     },
     "metadata": {},
     "output_type": "display_data"
    },
    {
     "data": {
      "application/vnd.jupyter.widget-view+json": {
       "model_id": "",
       "version_major": 2,
       "version_minor": 0
      },
      "text/plain": [
       "FloatProgress(value=0.0, bar_style='info', description='Progress:', layout=Layout(height='25px', width='50%'),…"
      ]
     },
     "metadata": {},
     "output_type": "display_data"
    },
    {
     "name": "stdout",
     "output_type": "stream",
     "text": [
      "             AAL\n",
      "0    AAPL.csv.gz\n",
      "1    ADBE.csv.gz\n",
      "2     ADI.csv.gz\n",
      "3     ADP.csv.gz\n",
      "4    ADSK.csv.gz\n",
      "..           ...\n",
      "99    WFM.csv.gz\n",
      "100  XLNX.csv.gz\n",
      "101  YHOO.csv.gz\n",
      "102  XRAY.csv.gz\n",
      "103   NDX.csv.gz\n",
      "\n",
      "[104 rows x 1 columns]"
     ]
    }
   ],
   "source": [
    "nd100files"
   ]
  },
  {
   "cell_type": "code",
   "execution_count": 61,
   "id": "5abee099-27cd-4272-9f5d-32e3d0929a05",
   "metadata": {
    "execution": {
     "iopub.execute_input": "2022-03-20T07:23:16.487714Z",
     "iopub.status.busy": "2022-03-20T07:23:16.487464Z",
     "iopub.status.idle": "2022-03-20T07:23:17.262421Z",
     "shell.execute_reply": "2022-03-20T07:23:17.261778Z",
     "shell.execute_reply.started": "2022-03-20T07:23:16.487686Z"
    },
    "tags": [],
    "vscode": {
     "languageId": "python"
    }
   },
   "outputs": [
    {
     "data": {
      "application/vnd.jupyter.widget-view+json": {
       "model_id": "0f1e102b0e8242759d90f25c49993335",
       "version_major": 2,
       "version_minor": 0
      },
      "text/plain": [
       "VBox()"
      ]
     },
     "metadata": {},
     "output_type": "display_data"
    },
    {
     "data": {
      "application/vnd.jupyter.widget-view+json": {
       "model_id": "",
       "version_major": 2,
       "version_minor": 0
      },
      "text/plain": [
       "FloatProgress(value=0.0, bar_style='info', description='Progress:', layout=Layout(height='25px', width='50%'),…"
      ]
     },
     "metadata": {},
     "output_type": "display_data"
    }
   ],
   "source": [
    "fullnd100 = eqindex.filter(eqindex['_c2'].isin(nd100list))"
   ]
  },
  {
   "cell_type": "code",
   "execution_count": 63,
   "id": "90e9ff66-42f8-4220-a25a-d84d0abb82e4",
   "metadata": {
    "execution": {
     "iopub.execute_input": "2022-03-20T07:23:36.852174Z",
     "iopub.status.busy": "2022-03-20T07:23:36.851875Z",
     "iopub.status.idle": "2022-03-20T07:23:46.161853Z",
     "shell.execute_reply": "2022-03-20T07:23:46.161126Z",
     "shell.execute_reply.started": "2022-03-20T07:23:36.852147Z"
    },
    "tags": [],
    "vscode": {
     "languageId": "python"
    }
   },
   "outputs": [
    {
     "data": {
      "application/vnd.jupyter.widget-view+json": {
       "model_id": "8c1353b148194d12b5d7d92593f05edf",
       "version_major": 2,
       "version_minor": 0
      },
      "text/plain": [
       "VBox()"
      ]
     },
     "metadata": {},
     "output_type": "display_data"
    },
    {
     "data": {
      "application/vnd.jupyter.widget-view+json": {
       "model_id": "",
       "version_major": 2,
       "version_minor": 0
      },
      "text/plain": [
       "FloatProgress(value=0.0, bar_style='info', description='Progress:', layout=Layout(height='25px', width='50%'),…"
      ]
     },
     "metadata": {},
     "output_type": "display_data"
    },
    {
     "name": "stdout",
     "output_type": "stream",
     "text": [
      "+--------------------+----------+------------+------+------+\n",
      "|                 _c0|       _c1|         _c2|   _c3|   _c4|\n",
      "+--------------------+----------+------------+------+------+\n",
      "|us-equity-1min-ta...|20220307/C| CTXS.csv.gz| 67389|356893|\n",
      "|us-equity-1min-ta...|20220307/C| CSCO.csv.gz| 88022|373988|\n",
      "|us-equity-1min-ta...|20220307/C| CHKP.csv.gz| 70323|344189|\n",
      "|us-equity-1min-ta...|20220307/C|CMCSA.csv.gz| 78890|358444|\n",
      "|us-equity-1min-ta...|20220307/C| COST.csv.gz| 91705|387624|\n",
      "|us-equity-1min-ta...|20220307/C|  CSX.csv.gz| 83468|370367|\n",
      "|us-equity-1min-ta...|20220307/C| CHTR.csv.gz| 77696|338950|\n",
      "|us-equity-1min-ta...|20220307/C| CERN.csv.gz| 58519|341275|\n",
      "|us-equity-1min-ta...|20220307/C| CTSH.csv.gz| 76275|344003|\n",
      "|us-equity-1min-ta...|20220307/S| SBAC.csv.gz| 66801|297964|\n",
      "|us-equity-1min-ta...|20220307/S| SIRI.csv.gz| 66327|355249|\n",
      "|us-equity-1min-ta...|20220307/S| SRCL.csv.gz| 54703|291391|\n",
      "|us-equity-1min-ta...|20220307/S|  STX.csv.gz| 71727|348903|\n",
      "|us-equity-1min-ta...|20220307/S| SBUX.csv.gz|104678|400773|\n",
      "|us-equity-1min-ta...|20220307/S| SWKS.csv.gz| 80907|361733|\n",
      "|us-equity-1min-ta...|20220307/B| BBBY.csv.gz|141270|434887|\n",
      "|us-equity-1min-ta...|20220307/B| BIDU.csv.gz| 94746|396766|\n",
      "|us-equity-1min-ta...|20220307/B| BIIB.csv.gz| 77142|356609|\n",
      "|us-equity-1min-ta...|20220307/B| BMRN.csv.gz| 74579|336116|\n",
      "|us-equity-1min-ta...|20220307/W|  WDC.csv.gz| 74791|349879|\n",
      "+--------------------+----------+------------+------+------+\n",
      "only showing top 20 rows"
     ]
    }
   ],
   "source": [
    "fullnd100.show()"
   ]
  },
  {
   "cell_type": "code",
   "execution_count": 64,
   "id": "884d89fe-d9c3-44a0-ab80-322cf03bd953",
   "metadata": {
    "execution": {
     "iopub.execute_input": "2022-03-20T07:24:22.835510Z",
     "iopub.status.busy": "2022-03-20T07:24:22.835288Z",
     "iopub.status.idle": "2022-03-20T07:24:44.191608Z",
     "shell.execute_reply": "2022-03-20T07:24:44.190895Z",
     "shell.execute_reply.started": "2022-03-20T07:24:22.835486Z"
    },
    "vscode": {
     "languageId": "python"
    }
   },
   "outputs": [
    {
     "data": {
      "application/vnd.jupyter.widget-view+json": {
       "model_id": "4916326edd994be3834292fff5633828",
       "version_major": 2,
       "version_minor": 0
      },
      "text/plain": [
       "VBox()"
      ]
     },
     "metadata": {},
     "output_type": "display_data"
    },
    {
     "data": {
      "application/vnd.jupyter.widget-view+json": {
       "model_id": "",
       "version_major": 2,
       "version_minor": 0
      },
      "text/plain": [
       "FloatProgress(value=0.0, bar_style='info', description='Progress:', layout=Layout(height='25px', width='50%'),…"
      ]
     },
     "metadata": {},
     "output_type": "display_data"
    },
    {
     "name": "stdout",
     "output_type": "stream",
     "text": [
      "123791"
     ]
    }
   ],
   "source": [
    "fullnd100.count()"
   ]
  },
  {
   "cell_type": "code",
   "execution_count": 71,
   "id": "93c2fadc-1136-46f7-a56f-6e05d97796c9",
   "metadata": {
    "execution": {
     "iopub.execute_input": "2022-03-20T07:34:26.252846Z",
     "iopub.status.busy": "2022-03-20T07:34:26.252610Z",
     "iopub.status.idle": "2022-03-20T07:34:26.517485Z",
     "shell.execute_reply": "2022-03-20T07:34:26.516883Z",
     "shell.execute_reply.started": "2022-03-20T07:34:26.252819Z"
    },
    "tags": [],
    "vscode": {
     "languageId": "python"
    }
   },
   "outputs": [
    {
     "data": {
      "application/vnd.jupyter.widget-view+json": {
       "model_id": "7d60bc6401cc497ea8a44f107eb48db6",
       "version_major": 2,
       "version_minor": 0
      },
      "text/plain": [
       "VBox()"
      ]
     },
     "metadata": {},
     "output_type": "display_data"
    },
    {
     "data": {
      "application/vnd.jupyter.widget-view+json": {
       "model_id": "",
       "version_major": 2,
       "version_minor": 0
      },
      "text/plain": [
       "FloatProgress(value=0.0, bar_style='info', description='Progress:', layout=Layout(height='25px', width='50%'),…"
      ]
     },
     "metadata": {},
     "output_type": "display_data"
    }
   ],
   "source": [
    "nd1002021 = fullnd100.filter(fullnd100['_c0'] == 'us-equity-1min-taq-2021')\n",
    "from pyspark.sql.types import IntegerType\n",
    "\n",
    "nd1002021 = nd1002021.withColumn('compressed', nd1002021['_c3'].cast(IntegerType()))\n",
    "nd1002021 = nd1002021.withColumn('uncompressed', nd1002021['_c4'].cast(IntegerType()))\n"
   ]
  },
  {
   "cell_type": "code",
   "execution_count": 74,
   "id": "b457d57b-9b37-4cc8-9f39-51458ac24894",
   "metadata": {
    "execution": {
     "iopub.execute_input": "2022-03-20T07:38:05.083476Z",
     "iopub.status.busy": "2022-03-20T07:38:05.083247Z",
     "iopub.status.idle": "2022-03-20T07:38:05.159492Z",
     "shell.execute_reply": "2022-03-20T07:38:05.158232Z",
     "shell.execute_reply.started": "2022-03-20T07:38:05.083452Z"
    },
    "tags": [],
    "vscode": {
     "languageId": "python"
    }
   },
   "outputs": [
    {
     "data": {
      "application/vnd.jupyter.widget-view+json": {
       "model_id": "25a5a27381b84b05be8cd9397f7c79e5",
       "version_major": 2,
       "version_minor": 0
      },
      "text/plain": [
       "VBox()"
      ]
     },
     "metadata": {},
     "output_type": "display_data"
    },
    {
     "data": {
      "application/vnd.jupyter.widget-view+json": {
       "model_id": "",
       "version_major": 2,
       "version_minor": 0
      },
      "text/plain": [
       "FloatProgress(value=0.0, bar_style='info', description='Progress:', layout=Layout(height='25px', width='50%'),…"
      ]
     },
     "metadata": {},
     "output_type": "display_data"
    }
   ],
   "source": [
    "nd1002021 = nd1002021.drop(\"_c3\",\"_c4\")"
   ]
  },
  {
   "cell_type": "code",
   "execution_count": 75,
   "id": "bebbfb35-8326-4c6d-90db-5ce99dd822d7",
   "metadata": {
    "execution": {
     "iopub.execute_input": "2022-03-20T07:38:12.161903Z",
     "iopub.status.busy": "2022-03-20T07:38:12.161611Z",
     "iopub.status.idle": "2022-03-20T07:38:35.544849Z",
     "shell.execute_reply": "2022-03-20T07:38:35.543994Z",
     "shell.execute_reply.started": "2022-03-20T07:38:12.161843Z"
    },
    "tags": [],
    "vscode": {
     "languageId": "python"
    }
   },
   "outputs": [
    {
     "data": {
      "application/vnd.jupyter.widget-view+json": {
       "model_id": "f1bf5f903a5b4df48419dd20f7aeb157",
       "version_major": 2,
       "version_minor": 0
      },
      "text/plain": [
       "VBox()"
      ]
     },
     "metadata": {},
     "output_type": "display_data"
    },
    {
     "data": {
      "application/vnd.jupyter.widget-view+json": {
       "model_id": "",
       "version_major": 2,
       "version_minor": 0
      },
      "text/plain": [
       "FloatProgress(value=0.0, bar_style='info', description='Progress:', layout=Layout(height='25px', width='50%'),…"
      ]
     },
     "metadata": {},
     "output_type": "display_data"
    },
    {
     "name": "stdout",
     "output_type": "stream",
     "text": [
      "+-------+--------------------+----------+-----------+------------------+------------------+\n",
      "|summary|                 _c0|       _c1|        _c2|        compressed|      uncompressed|\n",
      "+-------+--------------------+----------+-----------+------------------+------------------+\n",
      "|  count|               22478|     22478|      22478|             22478|             22478|\n",
      "|   mean|                null|      null|       null| 78050.20041818667|357769.62861464545|\n",
      "| stddev|                null|      null|       null|18293.730007702146|33396.904389034076|\n",
      "|    min|us-equity-1min-ta...|20210104/A|AAPL.csv.gz|              1684|             22304|\n",
      "|    max|us-equity-1min-ta...|20211231/X|XRAY.csv.gz|            158669|            465150|\n",
      "+-------+--------------------+----------+-----------+------------------+------------------+"
     ]
    }
   ],
   "source": [
    "nd1002021.describe().show()"
   ]
  },
  {
   "cell_type": "code",
   "execution_count": 73,
   "id": "ae94c29b-1cd5-4822-955b-51a6b9da0443",
   "metadata": {
    "execution": {
     "iopub.execute_input": "2022-03-20T07:36:23.207076Z",
     "iopub.status.busy": "2022-03-20T07:36:23.206839Z",
     "iopub.status.idle": "2022-03-20T07:36:23.270515Z",
     "shell.execute_reply": "2022-03-20T07:36:23.269871Z",
     "shell.execute_reply.started": "2022-03-20T07:36:23.207053Z"
    },
    "tags": [],
    "vscode": {
     "languageId": "python"
    }
   },
   "outputs": [
    {
     "data": {
      "application/vnd.jupyter.widget-view+json": {
       "model_id": "7a9906425c9b488e9bc8c1b05414f3af",
       "version_major": 2,
       "version_minor": 0
      },
      "text/plain": [
       "VBox()"
      ]
     },
     "metadata": {},
     "output_type": "display_data"
    },
    {
     "data": {
      "application/vnd.jupyter.widget-view+json": {
       "model_id": "",
       "version_major": 2,
       "version_minor": 0
      },
      "text/plain": [
       "FloatProgress(value=0.0, bar_style='info', description='Progress:', layout=Layout(height='25px', width='50%'),…"
      ]
     },
     "metadata": {},
     "output_type": "display_data"
    },
    {
     "name": "stdout",
     "output_type": "stream",
     "text": [
      "root\n",
      " |-- _c0: string (nullable = true)\n",
      " |-- _c1: string (nullable = true)\n",
      " |-- _c2: string (nullable = true)\n",
      " |-- _c3: string (nullable = true)\n",
      " |-- _c4: string (nullable = true)\n",
      " |-- compressed: integer (nullable = true)\n",
      " |-- uncompressed: integer (nullable = true)"
     ]
    }
   ],
   "source": [
    "nd1002021.printSchema()"
   ]
  },
  {
   "cell_type": "code",
   "execution_count": 78,
   "id": "632b2950-626a-446a-b087-18a4e2ead9f4",
   "metadata": {
    "execution": {
     "iopub.execute_input": "2022-03-20T07:40:55.274782Z",
     "iopub.status.busy": "2022-03-20T07:40:55.274564Z",
     "iopub.status.idle": "2022-03-20T07:41:14.619278Z",
     "shell.execute_reply": "2022-03-20T07:41:14.618388Z",
     "shell.execute_reply.started": "2022-03-20T07:40:55.274758Z"
    },
    "tags": [],
    "vscode": {
     "languageId": "python"
    }
   },
   "outputs": [
    {
     "data": {
      "application/vnd.jupyter.widget-view+json": {
       "model_id": "32bf921a8d6c4b99b76c12fb716484ba",
       "version_major": 2,
       "version_minor": 0
      },
      "text/plain": [
       "VBox()"
      ]
     },
     "metadata": {},
     "output_type": "display_data"
    },
    {
     "data": {
      "application/vnd.jupyter.widget-view+json": {
       "model_id": "",
       "version_major": 2,
       "version_minor": 0
      },
      "text/plain": [
       "FloatProgress(value=0.0, bar_style='info', description='Progress:', layout=Layout(height='25px', width='50%'),…"
      ]
     },
     "metadata": {},
     "output_type": "display_data"
    },
    {
     "name": "stdout",
     "output_type": "stream",
     "text": [
      "[Row(sum(compressed)=1754412405, sum(uncompressed)=8041945712)]"
     ]
    }
   ],
   "source": [
    "nd1002021.groupBy().sum().collect()"
   ]
  },
  {
   "cell_type": "code",
   "execution_count": 79,
   "id": "f9bbc2f0-1663-4500-b736-19c8d715787d",
   "metadata": {
    "execution": {
     "iopub.execute_input": "2022-03-20T07:47:48.902844Z",
     "iopub.status.busy": "2022-03-20T07:47:48.902616Z",
     "iopub.status.idle": "2022-03-20T07:48:10.234158Z",
     "shell.execute_reply": "2022-03-20T07:48:10.233408Z",
     "shell.execute_reply.started": "2022-03-20T07:47:48.902820Z"
    },
    "vscode": {
     "languageId": "python"
    }
   },
   "outputs": [
    {
     "data": {
      "application/vnd.jupyter.widget-view+json": {
       "model_id": "47b4d1f30ac34a6aa35627d60065c0fe",
       "version_major": 2,
       "version_minor": 0
      },
      "text/plain": [
       "VBox()"
      ]
     },
     "metadata": {},
     "output_type": "display_data"
    },
    {
     "data": {
      "application/vnd.jupyter.widget-view+json": {
       "model_id": "",
       "version_major": 2,
       "version_minor": 0
      },
      "text/plain": [
       "FloatProgress(value=0.0, bar_style='info', description='Progress:', layout=Layout(height='25px', width='50%'),…"
      ]
     },
     "metadata": {},
     "output_type": "display_data"
    }
   ],
   "source": [
    "to_dowload = nd1002021.toPandas()"
   ]
  },
  {
   "cell_type": "code",
   "execution_count": 86,
   "id": "9e2c71d9-2190-4b3e-a5ca-0ad62f76a1c5",
   "metadata": {
    "execution": {
     "iopub.execute_input": "2022-03-20T07:53:04.408082Z",
     "iopub.status.busy": "2022-03-20T07:53:04.407737Z",
     "iopub.status.idle": "2022-03-20T07:53:04.461508Z",
     "shell.execute_reply": "2022-03-20T07:53:04.460946Z",
     "shell.execute_reply.started": "2022-03-20T07:53:04.408053Z"
    },
    "tags": [],
    "vscode": {
     "languageId": "python"
    }
   },
   "outputs": [
    {
     "data": {
      "application/vnd.jupyter.widget-view+json": {
       "model_id": "4c929f37bcf14d0db5545807515ae8b8",
       "version_major": 2,
       "version_minor": 0
      },
      "text/plain": [
       "VBox()"
      ]
     },
     "metadata": {},
     "output_type": "display_data"
    },
    {
     "data": {
      "application/vnd.jupyter.widget-view+json": {
       "model_id": "",
       "version_major": 2,
       "version_minor": 0
      },
      "text/plain": [
       "FloatProgress(value=0.0, bar_style='info', description='Progress:', layout=Layout(height='25px', width='50%'),…"
      ]
     },
     "metadata": {},
     "output_type": "display_data"
    },
    {
     "name": "stdout",
     "output_type": "stream",
     "text": [
      "                       _c0         _c1          _c2  compressed  uncompressed\n",
      "0  us-equity-1min-taq-2021  20211228/B  BIIB.csv.gz       74136        351984\n",
      "1  us-equity-1min-taq-2021  20211228/B  BIDU.csv.gz       86342        387323\n",
      "2  us-equity-1min-taq-2021  20211228/B  BMRN.csv.gz       60415        309050\n",
      "3  us-equity-1min-taq-2021  20211228/B  BBBY.csv.gz       73364        358411\n",
      "4  us-equity-1min-taq-2021  20211228/A  AMZN.csv.gz      115656        431985"
     ]
    }
   ],
   "source": [
    "to_dowload.head()"
   ]
  },
  {
   "cell_type": "code",
   "execution_count": 91,
   "id": "3a23eff5-3c08-40a0-9345-b03a20ef5470",
   "metadata": {
    "execution": {
     "iopub.execute_input": "2022-03-20T08:06:31.699485Z",
     "iopub.status.busy": "2022-03-20T08:06:31.699261Z",
     "iopub.status.idle": "2022-03-20T08:06:31.755552Z",
     "shell.execute_reply": "2022-03-20T08:06:31.754987Z",
     "shell.execute_reply.started": "2022-03-20T08:06:31.699462Z"
    },
    "tags": [],
    "vscode": {
     "languageId": "python"
    }
   },
   "outputs": [
    {
     "data": {
      "application/vnd.jupyter.widget-view+json": {
       "model_id": "29f9fcef54dd472788ccd02c19a42881",
       "version_major": 2,
       "version_minor": 0
      },
      "text/plain": [
       "VBox()"
      ]
     },
     "metadata": {},
     "output_type": "display_data"
    },
    {
     "data": {
      "application/vnd.jupyter.widget-view+json": {
       "model_id": "",
       "version_major": 2,
       "version_minor": 0
      },
      "text/plain": [
       "FloatProgress(value=0.0, bar_style='info', description='Progress:', layout=Layout(height='25px', width='50%'),…"
      ]
     },
     "metadata": {},
     "output_type": "display_data"
    },
    {
     "name": "stdout",
     "output_type": "stream",
     "text": [
      "'BIDU'"
     ]
    }
   ],
   "source": [
    "to_dowload.iloc[1]['_c2'][:-7]"
   ]
  },
  {
   "cell_type": "code",
   "execution_count": 92,
   "id": "5d3abd52-0d87-48d7-bb28-d0ef55553a51",
   "metadata": {
    "execution": {
     "iopub.execute_input": "2022-03-20T08:08:58.288326Z",
     "iopub.status.busy": "2022-03-20T08:08:58.288095Z",
     "iopub.status.idle": "2022-03-20T08:08:58.343072Z",
     "shell.execute_reply": "2022-03-20T08:08:58.342523Z",
     "shell.execute_reply.started": "2022-03-20T08:08:58.288301Z"
    },
    "vscode": {
     "languageId": "python"
    }
   },
   "outputs": [
    {
     "data": {
      "application/vnd.jupyter.widget-view+json": {
       "model_id": "810acb8d3b0744e69124f979dce1d8f4",
       "version_major": 2,
       "version_minor": 0
      },
      "text/plain": [
       "VBox()"
      ]
     },
     "metadata": {},
     "output_type": "display_data"
    },
    {
     "data": {
      "application/vnd.jupyter.widget-view+json": {
       "model_id": "",
       "version_major": 2,
       "version_minor": 0
      },
      "text/plain": [
       "FloatProgress(value=0.0, bar_style='info', description='Progress:', layout=Layout(height='25px', width='50%'),…"
      ]
     },
     "metadata": {},
     "output_type": "display_data"
    }
   ],
   "source": [
    "tsttxt = '/{tick}/{file}'.format(tick='BIIB',file='BIIB.csv.gz')"
   ]
  },
  {
   "cell_type": "code",
   "execution_count": 84,
   "id": "4c533f61-ad3b-4f43-a540-2138aaabce8c",
   "metadata": {
    "execution": {
     "iopub.execute_input": "2022-03-20T07:50:22.851590Z",
     "iopub.status.busy": "2022-03-20T07:50:22.851360Z",
     "iopub.status.idle": "2022-03-20T07:50:23.112378Z",
     "shell.execute_reply": "2022-03-20T07:50:23.111615Z",
     "shell.execute_reply.started": "2022-03-20T07:50:22.851566Z"
    },
    "vscode": {
     "languageId": "python"
    }
   },
   "outputs": [
    {
     "data": {
      "application/vnd.jupyter.widget-view+json": {
       "model_id": "e8837b9be2344e478eb07c874694f816",
       "version_major": 2,
       "version_minor": 0
      },
      "text/plain": [
       "VBox()"
      ]
     },
     "metadata": {},
     "output_type": "display_data"
    },
    {
     "data": {
      "application/vnd.jupyter.widget-view+json": {
       "model_id": "",
       "version_major": 2,
       "version_minor": 0
      },
      "text/plain": [
       "FloatProgress(value=0.0, bar_style='info', description='Progress:', layout=Layout(height='25px', width='50%'),…"
      ]
     },
     "metadata": {},
     "output_type": "display_data"
    }
   ],
   "source": [
    "to_dowload.to_csv('nasdaq100files2021.csv')"
   ]
  },
  {
   "cell_type": "code",
   "execution_count": null,
   "id": "87d9a433-f585-4003-8410-d1af7a55a2aa",
   "metadata": {
    "vscode": {
     "languageId": "python"
    }
   },
   "outputs": [],
   "source": [
    "wr.s3.write_csv(to_dowload, 's3://miscellaneousbucketfordatalake/nasdaq100files2021.csv',index=False)"
   ]
  },
  {
   "cell_type": "code",
   "execution_count": 87,
   "id": "5a3f8c98-854c-47f2-a78b-b329d2bcfcfb",
   "metadata": {
    "execution": {
     "iopub.execute_input": "2022-03-20T08:00:56.239653Z",
     "iopub.status.busy": "2022-03-20T08:00:56.239433Z",
     "iopub.status.idle": "2022-03-20T08:00:56.504592Z",
     "shell.execute_reply": "2022-03-20T08:00:56.503951Z",
     "shell.execute_reply.started": "2022-03-20T08:00:56.239631Z"
    },
    "vscode": {
     "languageId": "python"
    }
   },
   "outputs": [
    {
     "data": {
      "application/vnd.jupyter.widget-view+json": {
       "model_id": "e834ff9275084c548e1bec1e87b62ca4",
       "version_major": 2,
       "version_minor": 0
      },
      "text/plain": [
       "VBox()"
      ]
     },
     "metadata": {},
     "output_type": "display_data"
    },
    {
     "data": {
      "application/vnd.jupyter.widget-view+json": {
       "model_id": "",
       "version_major": 2,
       "version_minor": 0
      },
      "text/plain": [
       "FloatProgress(value=0.0, bar_style='info', description='Progress:', layout=Layout(height='25px', width='50%'),…"
      ]
     },
     "metadata": {},
     "output_type": "display_data"
    }
   ],
   "source": [
    "tst = pd.read_csv('nasdaq100files2021.csv')"
   ]
  },
  {
   "cell_type": "code",
   "execution_count": 85,
   "id": "8b6bed59-8e9d-4dae-a2fc-ca140a21907e",
   "metadata": {
    "execution": {
     "iopub.execute_input": "2022-03-20T07:51:12.614678Z",
     "iopub.status.busy": "2022-03-20T07:51:12.614433Z",
     "iopub.status.idle": "2022-03-20T07:51:12.893348Z",
     "shell.execute_reply": "2022-03-20T07:51:12.892774Z",
     "shell.execute_reply.started": "2022-03-20T07:51:12.614652Z"
    },
    "vscode": {
     "languageId": "python"
    }
   },
   "outputs": [
    {
     "data": {
      "application/vnd.jupyter.widget-view+json": {
       "model_id": "19805061a9194d748ef9fa25d778c5a6",
       "version_major": 2,
       "version_minor": 0
      },
      "text/plain": [
       "VBox()"
      ]
     },
     "metadata": {},
     "output_type": "display_data"
    },
    {
     "data": {
      "application/vnd.jupyter.widget-view+json": {
       "model_id": "",
       "version_major": 2,
       "version_minor": 0
      },
      "text/plain": [
       "FloatProgress(value=0.0, bar_style='info', description='Progress:', layout=Layout(height='25px', width='50%'),…"
      ]
     },
     "metadata": {},
     "output_type": "display_data"
    }
   ],
   "source": [
    "import boto3\n",
    "s3 = boto3.resource('s3')\n",
    "bucket = s3.Bucket('us-equity-1min-taq-2021')\n"
   ]
  },
  {
   "cell_type": "code",
   "execution_count": 94,
   "id": "47d94d16-ef4b-42c9-b33f-310946f4c683",
   "metadata": {
    "execution": {
     "iopub.execute_input": "2022-03-20T08:11:24.435833Z",
     "iopub.status.busy": "2022-03-20T08:11:24.435593Z",
     "iopub.status.idle": "2022-03-20T08:11:24.696529Z",
     "shell.execute_reply": "2022-03-20T08:11:24.695927Z",
     "shell.execute_reply.started": "2022-03-20T08:11:24.435805Z"
    },
    "vscode": {
     "languageId": "python"
    }
   },
   "outputs": [
    {
     "data": {
      "application/vnd.jupyter.widget-view+json": {
       "model_id": "278ab3d3fa494aae98c5db036e808535",
       "version_major": 2,
       "version_minor": 0
      },
      "text/plain": [
       "VBox()"
      ]
     },
     "metadata": {},
     "output_type": "display_data"
    },
    {
     "data": {
      "application/vnd.jupyter.widget-view+json": {
       "model_id": "",
       "version_major": 2,
       "version_minor": 0
      },
      "text/plain": [
       "FloatProgress(value=0.0, bar_style='info', description='Progress:', layout=Layout(height='25px', width='50%'),…"
      ]
     },
     "metadata": {},
     "output_type": "display_data"
    }
   ],
   "source": [
    "from tqdm import tqdm"
   ]
  },
  {
   "cell_type": "code",
   "execution_count": null,
   "id": "e2e0f89a-9e6f-4558-80ec-a1598d8bd8fe",
   "metadata": {
    "tags": [],
    "vscode": {
     "languageId": "python"
    }
   },
   "outputs": [],
   "source": [
    "to_bucket = 's3://algoseekraw/us-equity-1min-taq/'\n",
    "\n",
    "for i in tqdm(range(len(to_dowload))):\n",
    "    try:\n",
    "        file = to_dowload.iloc[i]\n",
    "        key = file['_c1']+'/'+ file['_c2']\n",
    "        #    filename = '/'+file['_c2'][:-7]+'/'+file['_c2']\n",
    "        filename = 'data/{tick}/{file}'.format(tick=file['_c2'][:-7],file=file['_c2'])\n",
    "        print(file,key,filename)\n",
    "        bucket.download_file(key,Filename=filename, ExtraArgs={'RequestPayer':'requester'})\n",
    "    except:\n",
    "        print('meh',i)"
   ]
  },
  {
   "cell_type": "code",
   "execution_count": null,
   "id": "13bc3114-1777-4999-b567-e186ed1cdfaa",
   "metadata": {
    "vscode": {
     "languageId": "python"
    }
   },
   "outputs": [],
   "source": [
    "\n",
    "objects = bucket.objects.filter(Prefix=prefix, RequestPayer='requester')\n",
    "for obj in objects:\n",
    "    print('Downloading ' + obj.key)\n",
    "    bucket.download_file(obj.key,Filename=obj.key[7:],\n",
    "        ExtraArgs={'RequestPayer': 'requester'})"
   ]
  },
  {
   "cell_type": "code",
   "execution_count": 95,
   "id": "1d10872c-85d9-48f9-b913-bc148d84d36c",
   "metadata": {
    "execution": {
     "iopub.execute_input": "2022-03-20T08:18:53.690581Z",
     "iopub.status.busy": "2022-03-20T08:18:53.690350Z",
     "iopub.status.idle": "2022-03-20T08:18:53.752675Z",
     "shell.execute_reply": "2022-03-20T08:18:53.751975Z",
     "shell.execute_reply.started": "2022-03-20T08:18:53.690556Z"
    },
    "vscode": {
     "languageId": "python"
    }
   },
   "outputs": [
    {
     "data": {
      "application/vnd.jupyter.widget-view+json": {
       "model_id": "9ef922743b09409cbaa44787a49061eb",
       "version_major": 2,
       "version_minor": 0
      },
      "text/plain": [
       "VBox()"
      ]
     },
     "metadata": {},
     "output_type": "display_data"
    },
    {
     "data": {
      "application/vnd.jupyter.widget-view+json": {
       "model_id": "",
       "version_major": 2,
       "version_minor": 0
      },
      "text/plain": [
       "FloatProgress(value=0.0, bar_style='info', description='Progress:', layout=Layout(height='25px', width='50%'),…"
      ]
     },
     "metadata": {},
     "output_type": "display_data"
    },
    {
     "name": "stdout",
     "output_type": "stream",
     "text": [
      "['.cache', 'nasdaq100files2021.csv']"
     ]
    }
   ],
   "source": [
    "os.listdir()"
   ]
  }
 ],
 "metadata": {
  "kernelspec": {
   "display_name": "PySpark",
   "language": "",
   "name": "pysparkkernel"
  },
  "language_info": {
   "codemirror_mode": {
    "name": "python",
    "version": 3
   },
   "mimetype": "text/x-python",
   "name": "pyspark",
   "pygments_lexer": "python3"
  }
 },
 "nbformat": 4,
 "nbformat_minor": 5
}
