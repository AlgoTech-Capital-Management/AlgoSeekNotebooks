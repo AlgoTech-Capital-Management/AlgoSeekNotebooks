{
 "cells": [
  {
   "cell_type": "code",
   "execution_count": 1,
   "metadata": {
    "execution": {
     "iopub.execute_input": "2022-04-10T08:03:57.086250Z",
     "iopub.status.busy": "2022-04-10T08:03:57.086003Z",
     "iopub.status.idle": "2022-04-10T08:03:58.128969Z",
     "shell.execute_reply": "2022-04-10T08:03:58.128014Z",
     "shell.execute_reply.started": "2022-04-10T08:03:57.086219Z"
    },
    "tags": [],
    "vscode": {
     "languageId": "python"
    }
   },
   "outputs": [
    {
     "name": "stdout",
     "output_type": "stream",
     "text": [
      "Collecting vectorbt\n",
      "  Downloading vectorbt-0.23.3.tar.gz (479 kB)\n",
      "     -------------------------------------- 479.9/479.9 KB 6.0 MB/s eta 0:00:00\n",
      "  Preparing metadata (setup.py): started\n",
      "  Preparing metadata (setup.py): finished with status 'done'\n",
      "Requirement already satisfied: numpy>=1.16.5 in c:\\users\\julia\\anaconda3\\lib\\site-packages (from vectorbt) (1.18.2)\n",
      "Requirement already satisfied: pandas in c:\\users\\julia\\anaconda3\\lib\\site-packages (from vectorbt) (1.3.5)\n",
      "Requirement already satisfied: scipy in c:\\users\\julia\\anaconda3\\lib\\site-packages (from vectorbt) (1.4.1)\n",
      "Requirement already satisfied: matplotlib in c:\\users\\julia\\anaconda3\\lib\\site-packages (from vectorbt) (3.1.3)\n",
      "Collecting plotly>=4.12.0\n",
      "  Downloading plotly-5.8.0-py2.py3-none-any.whl (15.2 MB)\n",
      "     ---------------------------------------- 15.2/15.2 MB 7.2 MB/s eta 0:00:00\n",
      "Requirement already satisfied: ipywidgets>=7.0.0 in c:\\users\\julia\\anaconda3\\lib\\site-packages (from vectorbt) (7.5.1)\n",
      "Requirement already satisfied: dill in c:\\users\\julia\\anaconda3\\lib\\site-packages\\dill-0.3.4-py3.7.egg (from vectorbt) (0.3.4)\n",
      "Requirement already satisfied: tqdm in c:\\users\\julia\\anaconda3\\lib\\site-packages (from vectorbt) (4.64.0)\n",
      "Collecting dateparser\n",
      "  Downloading dateparser-1.1.1-py2.py3-none-any.whl (288 kB)\n",
      "     -------------------------------------- 288.9/288.9 KB 6.1 MB/s eta 0:00:00\n",
      "Requirement already satisfied: imageio in c:\\users\\julia\\anaconda3\\lib\\site-packages (from vectorbt) (2.6.1)\n",
      "Requirement already satisfied: scikit-learn in c:\\users\\julia\\anaconda3\\lib\\site-packages (from vectorbt) (1.0.1)\n",
      "Requirement already satisfied: schedule in c:\\users\\julia\\anaconda3\\lib\\site-packages\\schedule-1.1.0-py3.7.egg (from vectorbt) (1.1.0)\n",
      "Requirement already satisfied: requests in c:\\users\\julia\\anaconda3\\lib\\site-packages (from vectorbt) (2.22.0)\n",
      "Requirement already satisfied: pytz in c:\\users\\julia\\anaconda3\\lib\\site-packages (from vectorbt) (2021.1)\n",
      "Requirement already satisfied: mypy_extensions in c:\\users\\julia\\anaconda3\\lib\\site-packages (from vectorbt) (0.4.3)\n",
      "Requirement already satisfied: typing_extensions in c:\\users\\julia\\anaconda3\\lib\\site-packages (from vectorbt) (3.7.4.3)\n",
      "Collecting numba==0.53.1\n",
      "  Downloading numba-0.53.1-cp37-cp37m-win_amd64.whl (2.3 MB)\n",
      "     ---------------------------------------- 2.3/2.3 MB 9.1 MB/s eta 0:00:00\n",
      "Collecting llvmlite<0.37,>=0.36.0rc1\n",
      "  Downloading llvmlite-0.36.0-cp37-cp37m-win_amd64.whl (16.0 MB)\n",
      "     ---------------------------------------- 16.0/16.0 MB 8.1 MB/s eta 0:00:00\n",
      "Requirement already satisfied: setuptools in c:\\users\\julia\\anaconda3\\lib\\site-packages (from numba==0.53.1->vectorbt) (62.1.0)\n",
      "Requirement already satisfied: ipython>=4.0.0 in c:\\users\\julia\\anaconda3\\lib\\site-packages (from ipywidgets>=7.0.0->vectorbt) (7.12.0)\n",
      "Requirement already satisfied: widgetsnbextension~=3.5.0 in c:\\users\\julia\\anaconda3\\lib\\site-packages (from ipywidgets>=7.0.0->vectorbt) (3.5.1)\n",
      "Requirement already satisfied: traitlets>=4.3.1 in c:\\users\\julia\\anaconda3\\lib\\site-packages (from ipywidgets>=7.0.0->vectorbt) (4.3.3)\n",
      "Requirement already satisfied: nbformat>=4.2.0 in c:\\users\\julia\\anaconda3\\lib\\site-packages (from ipywidgets>=7.0.0->vectorbt) (5.0.4)\n",
      "Requirement already satisfied: ipykernel>=4.5.1 in c:\\users\\julia\\anaconda3\\lib\\site-packages (from ipywidgets>=7.0.0->vectorbt) (5.1.4)\n",
      "Requirement already satisfied: tenacity>=6.2.0 in c:\\users\\julia\\anaconda3\\lib\\site-packages (from plotly>=4.12.0->vectorbt) (6.2.0)\n",
      "Requirement already satisfied: python-dateutil in c:\\users\\julia\\anaconda3\\lib\\site-packages (from dateparser->vectorbt) (2.8.1)\n",
      "Requirement already satisfied: tzlocal in c:\\users\\julia\\anaconda3\\lib\\site-packages (from dateparser->vectorbt) (2.0.0)\n",
      "Collecting regex!=2019.02.19,!=2021.8.27,<2022.3.15\n",
      "  Downloading regex-2022.3.2-cp37-cp37m-win_amd64.whl (273 kB)\n",
      "     -------------------------------------- 273.8/273.8 KB 8.5 MB/s eta 0:00:00\n",
      "Requirement already satisfied: pillow in c:\\users\\julia\\anaconda3\\lib\\site-packages (from imageio->vectorbt) (9.1.0)\n",
      "Requirement already satisfied: cycler>=0.10 in c:\\users\\julia\\anaconda3\\lib\\site-packages (from matplotlib->vectorbt) (0.10.0)\n",
      "Requirement already satisfied: kiwisolver>=1.0.1 in c:\\users\\julia\\anaconda3\\lib\\site-packages (from matplotlib->vectorbt) (1.1.0)\n",
      "Requirement already satisfied: pyparsing!=2.0.4,!=2.1.2,!=2.1.6,>=2.0.1 in c:\\users\\julia\\anaconda3\\lib\\site-packages (from matplotlib->vectorbt) (2.4.6)\n",
      "Requirement already satisfied: chardet<3.1.0,>=3.0.2 in c:\\users\\julia\\anaconda3\\lib\\site-packages (from requests->vectorbt) (3.0.4)\n",
      "Collecting urllib3!=1.25.0,!=1.25.1,<1.26,>=1.21.1\n",
      "  Using cached urllib3-1.25.11-py2.py3-none-any.whl (127 kB)\n",
      "Requirement already satisfied: idna<2.9,>=2.5 in c:\\users\\julia\\anaconda3\\lib\\site-packages (from requests->vectorbt) (2.8)\n",
      "Requirement already satisfied: certifi>=2017.4.17 in c:\\users\\julia\\anaconda3\\lib\\site-packages (from requests->vectorbt) (2020.12.5)\n",
      "Requirement already satisfied: joblib>=0.11 in c:\\users\\julia\\anaconda3\\lib\\site-packages (from scikit-learn->vectorbt) (0.14.1)\n",
      "Requirement already satisfied: threadpoolctl>=2.0.0 in c:\\users\\julia\\anaconda3\\lib\\site-packages (from scikit-learn->vectorbt) (3.0.0)\n",
      "Requirement already satisfied: colorama in c:\\users\\julia\\anaconda3\\lib\\site-packages (from tqdm->vectorbt) (0.4.3)\n",
      "Requirement already satisfied: six in c:\\users\\julia\\anaconda3\\lib\\site-packages (from cycler>=0.10->matplotlib->vectorbt) (1.16.0)\n",
      "Requirement already satisfied: tornado>=4.2 in c:\\users\\julia\\anaconda3\\lib\\site-packages (from ipykernel>=4.5.1->ipywidgets>=7.0.0->vectorbt) (6.0.3)\n",
      "Requirement already satisfied: jupyter-client in c:\\users\\julia\\anaconda3\\lib\\site-packages (from ipykernel>=4.5.1->ipywidgets>=7.0.0->vectorbt) (5.3.4)\n",
      "Requirement already satisfied: prompt-toolkit!=3.0.0,!=3.0.1,<3.1.0,>=2.0.0 in c:\\users\\julia\\anaconda3\\lib\\site-packages (from ipython>=4.0.0->ipywidgets>=7.0.0->vectorbt) (3.0.3)\n",
      "Requirement already satisfied: jedi>=0.10 in c:\\users\\julia\\anaconda3\\lib\\site-packages (from ipython>=4.0.0->ipywidgets>=7.0.0->vectorbt) (0.14.1)\n",
      "Requirement already satisfied: backcall in c:\\users\\julia\\anaconda3\\lib\\site-packages (from ipython>=4.0.0->ipywidgets>=7.0.0->vectorbt) (0.1.0)\n",
      "Requirement already satisfied: pygments in c:\\users\\julia\\anaconda3\\lib\\site-packages (from ipython>=4.0.0->ipywidgets>=7.0.0->vectorbt) (2.5.2)\n",
      "Requirement already satisfied: pickleshare in c:\\users\\julia\\anaconda3\\lib\\site-packages (from ipython>=4.0.0->ipywidgets>=7.0.0->vectorbt) (0.7.5)\n",
      "Requirement already satisfied: decorator in c:\\users\\julia\\anaconda3\\lib\\site-packages (from ipython>=4.0.0->ipywidgets>=7.0.0->vectorbt) (4.4.1)\n",
      "Requirement already satisfied: jsonschema!=2.5.0,>=2.4 in c:\\users\\julia\\anaconda3\\lib\\site-packages (from nbformat>=4.2.0->ipywidgets>=7.0.0->vectorbt) (3.2.0)\n",
      "Requirement already satisfied: jupyter-core in c:\\users\\julia\\anaconda3\\lib\\site-packages (from nbformat>=4.2.0->ipywidgets>=7.0.0->vectorbt) (4.6.1)\n",
      "Requirement already satisfied: ipython-genutils in c:\\users\\julia\\anaconda3\\lib\\site-packages (from nbformat>=4.2.0->ipywidgets>=7.0.0->vectorbt) (0.2.0)\n",
      "Requirement already satisfied: notebook>=4.4.1 in c:\\users\\julia\\anaconda3\\lib\\site-packages (from widgetsnbextension~=3.5.0->ipywidgets>=7.0.0->vectorbt) (6.0.3)\n",
      "Requirement already satisfied: parso>=0.5.0 in c:\\users\\julia\\anaconda3\\lib\\site-packages (from jedi>=0.10->ipython>=4.0.0->ipywidgets>=7.0.0->vectorbt) (0.5.2)\n",
      "Requirement already satisfied: pyrsistent>=0.14.0 in c:\\users\\julia\\anaconda3\\lib\\site-packages (from jsonschema!=2.5.0,>=2.4->nbformat>=4.2.0->ipywidgets>=7.0.0->vectorbt) (0.15.7)\n",
      "Requirement already satisfied: importlib-metadata in c:\\users\\julia\\anaconda3\\lib\\site-packages (from jsonschema!=2.5.0,>=2.4->nbformat>=4.2.0->ipywidgets>=7.0.0->vectorbt) (4.11.3)\n",
      "Requirement already satisfied: attrs>=17.4.0 in c:\\users\\julia\\anaconda3\\lib\\site-packages (from jsonschema!=2.5.0,>=2.4->nbformat>=4.2.0->ipywidgets>=7.0.0->vectorbt) (19.3.0)\n",
      "Requirement already satisfied: terminado>=0.8.1 in c:\\users\\julia\\anaconda3\\lib\\site-packages (from notebook>=4.4.1->widgetsnbextension~=3.5.0->ipywidgets>=7.0.0->vectorbt) (0.8.3)\n",
      "Requirement already satisfied: prometheus-client in c:\\users\\julia\\anaconda3\\lib\\site-packages (from notebook>=4.4.1->widgetsnbextension~=3.5.0->ipywidgets>=7.0.0->vectorbt) (0.7.1)\n",
      "Requirement already satisfied: Send2Trash in c:\\users\\julia\\anaconda3\\lib\\site-packages (from notebook>=4.4.1->widgetsnbextension~=3.5.0->ipywidgets>=7.0.0->vectorbt) (1.5.0)\n",
      "Requirement already satisfied: jinja2 in c:\\users\\julia\\anaconda3\\lib\\site-packages (from notebook>=4.4.1->widgetsnbextension~=3.5.0->ipywidgets>=7.0.0->vectorbt) (2.11.1)\n",
      "Requirement already satisfied: nbconvert in c:\\users\\julia\\anaconda3\\lib\\site-packages (from notebook>=4.4.1->widgetsnbextension~=3.5.0->ipywidgets>=7.0.0->vectorbt) (5.6.1)\n",
      "Requirement already satisfied: pyzmq>=17 in c:\\users\\julia\\anaconda3\\lib\\site-packages (from notebook>=4.4.1->widgetsnbextension~=3.5.0->ipywidgets>=7.0.0->vectorbt) (18.1.1)\n",
      "Requirement already satisfied: pywin32>=1.0 in c:\\users\\julia\\anaconda3\\lib\\site-packages (from jupyter-client->ipykernel>=4.5.1->ipywidgets>=7.0.0->vectorbt) (227)\n",
      "Requirement already satisfied: wcwidth in c:\\users\\julia\\anaconda3\\lib\\site-packages (from prompt-toolkit!=3.0.0,!=3.0.1,<3.1.0,>=2.0.0->ipython>=4.0.0->ipywidgets>=7.0.0->vectorbt) (0.1.8)\n",
      "Requirement already satisfied: zipp>=0.5 in c:\\users\\julia\\anaconda3\\lib\\site-packages (from importlib-metadata->jsonschema!=2.5.0,>=2.4->nbformat>=4.2.0->ipywidgets>=7.0.0->vectorbt) (3.5.0)\n",
      "Requirement already satisfied: MarkupSafe>=0.23 in c:\\users\\julia\\anaconda3\\lib\\site-packages (from jinja2->notebook>=4.4.1->widgetsnbextension~=3.5.0->ipywidgets>=7.0.0->vectorbt) (1.1.1)\n",
      "Requirement already satisfied: pandocfilters>=1.4.1 in c:\\users\\julia\\anaconda3\\lib\\site-packages (from nbconvert->notebook>=4.4.1->widgetsnbextension~=3.5.0->ipywidgets>=7.0.0->vectorbt) (1.4.2)\n",
      "Requirement already satisfied: defusedxml in c:\\users\\julia\\anaconda3\\lib\\site-packages (from nbconvert->notebook>=4.4.1->widgetsnbextension~=3.5.0->ipywidgets>=7.0.0->vectorbt) (0.6.0)\n",
      "Requirement already satisfied: testpath in c:\\users\\julia\\anaconda3\\lib\\site-packages (from nbconvert->notebook>=4.4.1->widgetsnbextension~=3.5.0->ipywidgets>=7.0.0->vectorbt) (0.4.4)\n",
      "Requirement already satisfied: mistune<2,>=0.8.1 in c:\\users\\julia\\anaconda3\\lib\\site-packages (from nbconvert->notebook>=4.4.1->widgetsnbextension~=3.5.0->ipywidgets>=7.0.0->vectorbt) (0.8.4)\n",
      "Requirement already satisfied: entrypoints>=0.2.2 in c:\\users\\julia\\anaconda3\\lib\\site-packages (from nbconvert->notebook>=4.4.1->widgetsnbextension~=3.5.0->ipywidgets>=7.0.0->vectorbt) (0.3)\n",
      "Requirement already satisfied: bleach in c:\\users\\julia\\anaconda3\\lib\\site-packages (from nbconvert->notebook>=4.4.1->widgetsnbextension~=3.5.0->ipywidgets>=7.0.0->vectorbt) (3.1.0)\n",
      "Requirement already satisfied: webencodings in c:\\users\\julia\\anaconda3\\lib\\site-packages (from bleach->nbconvert->notebook>=4.4.1->widgetsnbextension~=3.5.0->ipywidgets>=7.0.0->vectorbt) (0.5.1)\n",
      "Building wheels for collected packages: vectorbt\n",
      "  Building wheel for vectorbt (setup.py): started\n",
      "  Building wheel for vectorbt (setup.py): finished with status 'done'\n",
      "  Created wheel for vectorbt: filename=vectorbt-0.23.3-py3-none-any.whl size=526949 sha256=224cef897cb6f875cf0f66065d91da670b061c21bddf6caf1e919529ae637ab8\n",
      "  Stored in directory: c:\\users\\julia\\appdata\\local\\pip\\cache\\wheels\\7b\\0a\\39\\aa389a7b6ba6fe49e28081bd67cea4b870d429002b15dfa521\n",
      "Successfully built vectorbt\n",
      "Installing collected packages: urllib3, regex, llvmlite, plotly, numba, dateparser, vectorbt\n",
      "  Attempting uninstall: urllib3\n",
      "    Found existing installation: urllib3 1.26.6\n",
      "    Uninstalling urllib3-1.26.6:\n",
      "      Successfully uninstalled urllib3-1.26.6\n",
      "  Attempting uninstall: llvmlite\n",
      "    Found existing installation: llvmlite 0.31.0\n",
      "Note: you may need to restart the kernel to use updated packages.\n"
     ]
    },
    {
     "name": "stderr",
     "output_type": "stream",
     "text": [
      "ERROR: Cannot uninstall 'llvmlite'. It is a distutils installed project and thus we cannot accurately determine which files belong to it which would lead to only a partial uninstall.\n",
      "WARNING: You are using pip version 22.0.4; however, version 22.1 is available.\n",
      "You should consider upgrading via the 'C:\\Users\\julia\\Anaconda3\\python.exe -m pip install --upgrade pip' command.\n"
     ]
    }
   ],
   "source": [
    "%pip install vectorbt"
   ]
  },
  {
   "cell_type": "code",
   "execution_count": null,
   "metadata": {
    "tags": [],
    "vscode": {
     "languageId": "python"
    }
   },
   "outputs": [],
   "source": [
    "sc.install_pypi_package('matplotlib')"
   ]
  },
  {
   "cell_type": "code",
   "execution_count": 1,
   "metadata": {
    "execution": {
     "iopub.execute_input": "2022-04-10T21:17:46.291216Z",
     "iopub.status.busy": "2022-04-10T21:17:46.290954Z",
     "iopub.status.idle": "2022-04-10T21:18:13.642447Z",
     "shell.execute_reply": "2022-04-10T21:18:13.641854Z",
     "shell.execute_reply.started": "2022-04-10T21:17:46.291186Z"
    },
    "tags": [],
    "vscode": {
     "languageId": "python"
    }
   },
   "outputs": [
    {
     "data": {
      "application/vnd.jupyter.widget-view+json": {
       "model_id": "07c7172347ba4bb296744b14d33425f5",
       "version_major": 2,
       "version_minor": 0
      },
      "text/plain": [
       "VBox()"
      ]
     },
     "metadata": {},
     "output_type": "display_data"
    },
    {
     "name": "stdout",
     "output_type": "stream",
     "text": [
      "Starting Spark application\n"
     ]
    },
    {
     "data": {
      "text/html": [
       "<table>\n",
       "<tbody><tr><th>ID</th><th>YARN Application ID</th><th>Kind</th><th>State</th><th>Spark UI</th><th>Driver log</th><th>Current session?</th></tr><tr><td>4</td><td>application_1649544835656_0014</td><td>pyspark</td><td>idle</td><td><a target=\"_blank\" href=\"http://ip-10-0-20-177.ec2.internal:20888/proxy/application_1649544835656_0014/\" class=\"emr-proxy-link j-305T2ZQM9L2KE application_1649544835656_0014\" emr-resource=\"j-305T2ZQM9L2KE\n",
       "\" application-id=\"application_1649544835656_0014\">Link</a></td><td><a target=\"_blank\" href=\"http://ip-10-0-20-78.ec2.internal:8042/node/containerlogs/container_1649544835656_0014_01_000001/livy\">Link</a></td><td>✔</td></tr></tbody></table>"
      ],
      "text/plain": [
       "<IPython.core.display.HTML object>"
      ]
     },
     "metadata": {},
     "output_type": "display_data"
    },
    {
     "data": {
      "application/vnd.jupyter.widget-view+json": {
       "model_id": "",
       "version_major": 2,
       "version_minor": 0
      },
      "text/plain": [
       "FloatProgress(value=0.0, bar_style='info', description='Progress:', layout=Layout(height='25px', width='50%'),…"
      ]
     },
     "metadata": {},
     "output_type": "display_data"
    },
    {
     "name": "stdout",
     "output_type": "stream",
     "text": [
      "SparkSession available as 'spark'.\n"
     ]
    },
    {
     "data": {
      "application/vnd.jupyter.widget-view+json": {
       "model_id": "",
       "version_major": 2,
       "version_minor": 0
      },
      "text/plain": [
       "FloatProgress(value=0.0, bar_style='info', description='Progress:', layout=Layout(height='25px', width='50%'),…"
      ]
     },
     "metadata": {},
     "output_type": "display_data"
    }
   ],
   "source": [
    "from pyspark.sql.functions import *\n",
    "from pyspark.sql.window import Window\n",
    "import pyspark\n",
    "# from ipywidgets import interact\n",
    "import numpy as np\n",
    "import pandas as pd\n",
    "from tqdm import tqdm\n",
    "import pandas_ta as ta"
   ]
  },
  {
   "cell_type": "code",
   "execution_count": 2,
   "metadata": {
    "execution": {
     "iopub.execute_input": "2022-04-10T21:18:22.448250Z",
     "iopub.status.busy": "2022-04-10T21:18:22.447993Z",
     "iopub.status.idle": "2022-04-10T21:22:55.121282Z",
     "shell.execute_reply": "2022-04-10T21:22:55.120656Z",
     "shell.execute_reply.started": "2022-04-10T21:18:22.448226Z"
    },
    "tags": [],
    "vscode": {
     "languageId": "python"
    }
   },
   "outputs": [
    {
     "data": {
      "application/vnd.jupyter.widget-view+json": {
       "model_id": "2dcd8682b38a41d59c08ea210dd97e55",
       "version_major": 2,
       "version_minor": 0
      },
      "text/plain": [
       "VBox()"
      ]
     },
     "metadata": {},
     "output_type": "display_data"
    },
    {
     "data": {
      "application/vnd.jupyter.widget-view+json": {
       "model_id": "",
       "version_major": 2,
       "version_minor": 0
      },
      "text/plain": [
       "FloatProgress(value=0.0, bar_style='info', description='Progress:', layout=Layout(height='25px', width='50%'),…"
      ]
     },
     "metadata": {},
     "output_type": "display_data"
    }
   ],
   "source": [
    "df=spark.read.parquet(\"s3://strategymodeldata/equityprice/emrout/equity_1min_taq.parquet\")"
   ]
  },
  {
   "cell_type": "code",
   "execution_count": 3,
   "metadata": {
    "execution": {
     "iopub.execute_input": "2022-04-10T21:25:10.859883Z",
     "iopub.status.busy": "2022-04-10T21:25:10.859540Z",
     "iopub.status.idle": "2022-04-10T21:25:11.122892Z",
     "shell.execute_reply": "2022-04-10T21:25:11.122056Z",
     "shell.execute_reply.started": "2022-04-10T21:25:10.859837Z"
    },
    "tags": [],
    "vscode": {
     "languageId": "python"
    }
   },
   "outputs": [
    {
     "data": {
      "application/vnd.jupyter.widget-view+json": {
       "model_id": "c212e3fa44644cb0937782b7fe5e4f94",
       "version_major": 2,
       "version_minor": 0
      },
      "text/plain": [
       "VBox()"
      ]
     },
     "metadata": {},
     "output_type": "display_data"
    },
    {
     "data": {
      "application/vnd.jupyter.widget-view+json": {
       "model_id": "",
       "version_major": 2,
       "version_minor": 0
      },
      "text/plain": [
       "FloatProgress(value=0.0, bar_style='info', description='Progress:', layout=Layout(height='25px', width='50%'),…"
      ]
     },
     "metadata": {},
     "output_type": "display_data"
    },
    {
     "name": "stdout",
     "output_type": "stream",
     "text": [
      "root\n",
      " |-- TimeBarStart: string (nullable = true)\n",
      " |-- OpenBarTime: string (nullable = true)\n",
      " |-- OpenBidPrice: double (nullable = true)\n",
      " |-- OpenBidSize: integer (nullable = true)\n",
      " |-- OpenAskPrice: double (nullable = true)\n",
      " |-- OpenAskSize: integer (nullable = true)\n",
      " |-- FirstTradeTime: string (nullable = true)\n",
      " |-- FirstTradePrice: double (nullable = true)\n",
      " |-- FirstTradeSize: integer (nullable = true)\n",
      " |-- HighBidTime: string (nullable = true)\n",
      " |-- HighBidPrice: double (nullable = true)\n",
      " |-- HighBidSize: integer (nullable = true)\n",
      " |-- HighAskTime: string (nullable = true)\n",
      " |-- HighAskPrice: double (nullable = true)\n",
      " |-- HighAskSize: integer (nullable = true)\n",
      " |-- HighTradeTime: string (nullable = true)\n",
      " |-- HighTradePrice: double (nullable = true)\n",
      " |-- HighTradeSize: integer (nullable = true)\n",
      " |-- LowBidTime: string (nullable = true)\n",
      " |-- LowBidPrice: double (nullable = true)\n",
      " |-- LowBidSize: integer (nullable = true)\n",
      " |-- LowAskTime: string (nullable = true)\n",
      " |-- LowAskPrice: double (nullable = true)\n",
      " |-- LowAskSize: integer (nullable = true)\n",
      " |-- LowTradeTime: string (nullable = true)\n",
      " |-- LowTradePrice: double (nullable = true)\n",
      " |-- LowTradeSize: integer (nullable = true)\n",
      " |-- CloseBarTime: string (nullable = true)\n",
      " |-- CloseBidPrice: double (nullable = true)\n",
      " |-- CloseBidSize: integer (nullable = true)\n",
      " |-- CloseAskPrice: double (nullable = true)\n",
      " |-- CloseAskSize: integer (nullable = true)\n",
      " |-- LastTradeTime: string (nullable = true)\n",
      " |-- LastTradePrice: double (nullable = true)\n",
      " |-- LastTradeSize: integer (nullable = true)\n",
      " |-- MinSpread: double (nullable = true)\n",
      " |-- MaxSpread: double (nullable = true)\n",
      " |-- CancelSize: integer (nullable = true)\n",
      " |-- VolumeWeightPrice: double (nullable = true)\n",
      " |-- NBBOQuoteCount: integer (nullable = true)\n",
      " |-- TradeAtBid: integer (nullable = true)\n",
      " |-- TradeAtBidMid: integer (nullable = true)\n",
      " |-- TradeAtMid: integer (nullable = true)\n",
      " |-- TradeAtMidAsk: integer (nullable = true)\n",
      " |-- TradeAtAsk: integer (nullable = true)\n",
      " |-- TradeAtCrossOrLocked: integer (nullable = true)\n",
      " |-- Volume: integer (nullable = true)\n",
      " |-- TotalTrades: integer (nullable = true)\n",
      " |-- FinraVolume: integer (nullable = true)\n",
      " |-- FinraVolumeWeightPrice: double (nullable = true)\n",
      " |-- UptickVolume: integer (nullable = true)\n",
      " |-- DowntickVolume: integer (nullable = true)\n",
      " |-- RepeatUptickVolume: integer (nullable = true)\n",
      " |-- RepeatDowntickVolume: integer (nullable = true)\n",
      " |-- UnknownTickVolume: integer (nullable = true)\n",
      " |-- TradeToMidVolWeight: double (nullable = true)\n",
      " |-- TradeToMidVolWeightRelative: double (nullable = true)\n",
      " |-- TimeWeightBid: double (nullable = true)\n",
      " |-- TimeWeightAsk: double (nullable = true)\n",
      " |-- datetime: timestamp (nullable = true)\n",
      " |-- Ticker: string (nullable = true)\n",
      " |-- Date: date (nullable = true)"
     ]
    }
   ],
   "source": [
    "df.printSchema()"
   ]
  },
  {
   "cell_type": "code",
   "execution_count": 7,
   "metadata": {
    "execution": {
     "iopub.execute_input": "2022-04-10T07:53:14.644506Z",
     "iopub.status.busy": "2022-04-10T07:53:14.644258Z",
     "iopub.status.idle": "2022-04-10T07:53:14.914777Z",
     "shell.execute_reply": "2022-04-10T07:53:14.913955Z",
     "shell.execute_reply.started": "2022-04-10T07:53:14.644483Z"
    },
    "tags": [],
    "vscode": {
     "languageId": "python"
    }
   },
   "outputs": [
    {
     "data": {
      "application/vnd.jupyter.widget-view+json": {
       "model_id": "f689236825964a14927448de4aa8fb3a",
       "version_major": 2,
       "version_minor": 0
      },
      "text/plain": [
       "VBox()"
      ]
     },
     "metadata": {},
     "output_type": "display_data"
    },
    {
     "data": {
      "application/vnd.jupyter.widget-view+json": {
       "model_id": "",
       "version_major": 2,
       "version_minor": 0
      },
      "text/plain": [
       "FloatProgress(value=0.0, bar_style='info', description='Progress:', layout=Layout(height='25px', width='50%'),…"
      ]
     },
     "metadata": {},
     "output_type": "display_data"
    }
   ],
   "source": [
    "last = df.select(\"FirstTradePrice\",\"Ticker\",\"datetime\")"
   ]
  },
  {
   "cell_type": "code",
   "execution_count": 4,
   "metadata": {
    "execution": {
     "iopub.execute_input": "2022-04-10T07:43:27.239913Z",
     "iopub.status.busy": "2022-04-10T07:43:27.239668Z",
     "iopub.status.idle": "2022-04-10T07:48:03.309931Z",
     "shell.execute_reply": "2022-04-10T07:48:03.309224Z",
     "shell.execute_reply.started": "2022-04-10T07:43:27.239888Z"
    },
    "vscode": {
     "languageId": "python"
    }
   },
   "outputs": [
    {
     "data": {
      "application/vnd.jupyter.widget-view+json": {
       "model_id": "3961181e8dff4e87ab6f8da9c8823550",
       "version_major": 2,
       "version_minor": 0
      },
      "text/plain": [
       "VBox()"
      ]
     },
     "metadata": {},
     "output_type": "display_data"
    },
    {
     "data": {
      "application/vnd.jupyter.widget-view+json": {
       "model_id": "",
       "version_major": 2,
       "version_minor": 0
      },
      "text/plain": [
       "FloatProgress(value=0.0, bar_style='info', description='Progress:', layout=Layout(height='25px', width='50%'),…"
      ]
     },
     "metadata": {},
     "output_type": "display_data"
    },
    {
     "name": "stdout",
     "output_type": "stream",
     "text": [
      "+-------+-----------------+\n",
      "|summary|  FirstTradePrice|\n",
      "+-------+-----------------+\n",
      "|  count|         55944786|\n",
      "|   mean|201.4394826370669|\n",
      "| stddev| 381.021394319846|\n",
      "|    min|           3.4659|\n",
      "|    max|         5381.925|\n",
      "+-------+-----------------+"
     ]
    }
   ],
   "source": [
    "df.select(\"FirstTradePrice\").describe().show()"
   ]
  },
  {
   "cell_type": "code",
   "execution_count": 32,
   "metadata": {
    "execution": {
     "iopub.execute_input": "2022-04-10T08:13:26.996975Z",
     "iopub.status.busy": "2022-04-10T08:13:26.996741Z",
     "iopub.status.idle": "2022-04-10T08:13:27.257860Z",
     "shell.execute_reply": "2022-04-10T08:13:27.257268Z",
     "shell.execute_reply.started": "2022-04-10T08:13:26.996950Z"
    },
    "tags": [],
    "vscode": {
     "languageId": "python"
    }
   },
   "outputs": [
    {
     "data": {
      "application/vnd.jupyter.widget-view+json": {
       "model_id": "7c433d7fa1554a1c8c634ed120c61292",
       "version_major": 2,
       "version_minor": 0
      },
      "text/plain": [
       "VBox()"
      ]
     },
     "metadata": {},
     "output_type": "display_data"
    },
    {
     "data": {
      "application/vnd.jupyter.widget-view+json": {
       "model_id": "",
       "version_major": 2,
       "version_minor": 0
      },
      "text/plain": [
       "FloatProgress(value=0.0, bar_style='info', description='Progress:', layout=Layout(height='25px', width='50%'),…"
      ]
     },
     "metadata": {},
     "output_type": "display_data"
    }
   ],
   "source": [
    "# winTst = Window.partitionBy(\"Ticker\").orderBy(\"datetime\")\n",
    "# df = df.withColumn('returns1min', (df['FirstTradePrice'] / lag(df[\"FirstTradePrice\"],1).over(winTst))-1)\n"
   ]
  },
  {
   "cell_type": "code",
   "execution_count": null,
   "metadata": {
    "collapsed": true,
    "execution": {
     "iopub.execute_input": "2022-04-10T08:13:37.313468Z",
     "iopub.status.busy": "2022-04-10T08:13:37.313233Z",
     "iopub.status.idle": "2022-04-10T08:18:27.407424Z",
     "shell.execute_reply": "2022-04-10T08:18:27.405880Z",
     "shell.execute_reply.started": "2022-04-10T08:13:37.313443Z"
    },
    "jupyter": {
     "outputs_hidden": true
    },
    "tags": [],
    "vscode": {
     "languageId": "python"
    }
   },
   "outputs": [],
   "source": [
    "df.head(1000)"
   ]
  },
  {
   "cell_type": "code",
   "execution_count": 4,
   "metadata": {
    "execution": {
     "iopub.execute_input": "2022-04-10T21:25:21.481915Z",
     "iopub.status.busy": "2022-04-10T21:25:21.481686Z",
     "iopub.status.idle": "2022-04-10T21:25:21.737455Z",
     "shell.execute_reply": "2022-04-10T21:25:21.736907Z",
     "shell.execute_reply.started": "2022-04-10T21:25:21.481891Z"
    },
    "tags": [],
    "vscode": {
     "languageId": "python"
    }
   },
   "outputs": [
    {
     "data": {
      "application/vnd.jupyter.widget-view+json": {
       "model_id": "37eac429314243909dfe7c9b79a13b7f",
       "version_major": 2,
       "version_minor": 0
      },
      "text/plain": [
       "VBox()"
      ]
     },
     "metadata": {},
     "output_type": "display_data"
    },
    {
     "data": {
      "application/vnd.jupyter.widget-view+json": {
       "model_id": "",
       "version_major": 2,
       "version_minor": 0
      },
      "text/plain": [
       "FloatProgress(value=0.0, bar_style='info', description='Progress:', layout=Layout(height='25px', width='50%'),…"
      ]
     },
     "metadata": {},
     "output_type": "display_data"
    }
   ],
   "source": [
    "df = df.withColumn('Minute',minute(df.datetime))\n"
   ]
  },
  {
   "cell_type": "code",
   "execution_count": 36,
   "metadata": {
    "execution": {
     "iopub.execute_input": "2022-04-10T08:32:36.206252Z",
     "iopub.status.busy": "2022-04-10T08:32:36.206022Z",
     "iopub.status.idle": "2022-04-10T08:32:36.463046Z",
     "shell.execute_reply": "2022-04-10T08:32:36.462467Z",
     "shell.execute_reply.started": "2022-04-10T08:32:36.206227Z"
    },
    "tags": [],
    "vscode": {
     "languageId": "python"
    }
   },
   "outputs": [
    {
     "data": {
      "application/vnd.jupyter.widget-view+json": {
       "model_id": "32826dbf7c0341b18008675c3c462061",
       "version_major": 2,
       "version_minor": 0
      },
      "text/plain": [
       "VBox()"
      ]
     },
     "metadata": {},
     "output_type": "display_data"
    },
    {
     "data": {
      "application/vnd.jupyter.widget-view+json": {
       "model_id": "",
       "version_major": 2,
       "version_minor": 0
      },
      "text/plain": [
       "FloatProgress(value=0.0, bar_style='info', description='Progress:', layout=Layout(height='25px', width='50%'),…"
      ]
     },
     "metadata": {},
     "output_type": "display_data"
    }
   ],
   "source": [
    "leadWin = Window.partitionBy(\"Ticker\",\"Date\").orderBy(\"datetime\")\n",
    "df = df.withColumn('FirstTradePrice1minLead',lead(df['FirstTradePrice'],1).over(leadWin))"
   ]
  },
  {
   "cell_type": "code",
   "execution_count": 5,
   "metadata": {
    "execution": {
     "iopub.execute_input": "2022-04-10T21:25:29.748064Z",
     "iopub.status.busy": "2022-04-10T21:25:29.747801Z",
     "iopub.status.idle": "2022-04-10T21:25:30.514599Z",
     "shell.execute_reply": "2022-04-10T21:25:30.514046Z",
     "shell.execute_reply.started": "2022-04-10T21:25:29.748038Z"
    },
    "tags": [],
    "vscode": {
     "languageId": "python"
    }
   },
   "outputs": [
    {
     "data": {
      "application/vnd.jupyter.widget-view+json": {
       "model_id": "3d2c1ce32f8a42a29656d34a4af19edc",
       "version_major": 2,
       "version_minor": 0
      },
      "text/plain": [
       "VBox()"
      ]
     },
     "metadata": {},
     "output_type": "display_data"
    },
    {
     "data": {
      "application/vnd.jupyter.widget-view+json": {
       "model_id": "",
       "version_major": 2,
       "version_minor": 0
      },
      "text/plain": [
       "FloatProgress(value=0.0, bar_style='info', description='Progress:', layout=Layout(height='25px', width='50%'),…"
      ]
     },
     "metadata": {},
     "output_type": "display_data"
    }
   ],
   "source": [
    "#schema = StructType([StructField\n",
    "@pandas_udf('double')\n",
    "def calculate_return_series(series: pd.Series) -> pd.Series:\n",
    "    \"\"\"\n",
    "    Calculates the return series of a time series.\n",
    "    The first value will always be NaN.\n",
    "    Output series retains the index of the input series.\n",
    "    \"\"\"\n",
    "    shifted_series = series.shift(1, axis=0)\n",
    "    return series / shifted_series - 1"
   ]
  },
  {
   "cell_type": "code",
   "execution_count": 6,
   "metadata": {
    "execution": {
     "iopub.execute_input": "2022-04-10T21:25:45.129012Z",
     "iopub.status.busy": "2022-04-10T21:25:45.128787Z",
     "iopub.status.idle": "2022-04-10T21:25:45.402820Z",
     "shell.execute_reply": "2022-04-10T21:25:45.401887Z",
     "shell.execute_reply.started": "2022-04-10T21:25:45.128989Z"
    },
    "tags": [],
    "vscode": {
     "languageId": "python"
    }
   },
   "outputs": [
    {
     "data": {
      "application/vnd.jupyter.widget-view+json": {
       "model_id": "e12d9ff9715043be9fdefcccc423b09d",
       "version_major": 2,
       "version_minor": 0
      },
      "text/plain": [
       "VBox()"
      ]
     },
     "metadata": {},
     "output_type": "display_data"
    },
    {
     "data": {
      "application/vnd.jupyter.widget-view+json": {
       "model_id": "",
       "version_major": 2,
       "version_minor": 0
      },
      "text/plain": [
       "FloatProgress(value=0.0, bar_style='info', description='Progress:', layout=Layout(height='25px', width='50%'),…"
      ]
     },
     "metadata": {},
     "output_type": "display_data"
    }
   ],
   "source": [
    "df = df.withColumn('ret1min', calculate_return_series(df.LastTradePrice))"
   ]
  },
  {
   "cell_type": "code",
   "execution_count": 7,
   "metadata": {
    "execution": {
     "iopub.execute_input": "2022-04-10T21:25:46.464620Z",
     "iopub.status.busy": "2022-04-10T21:25:46.464382Z",
     "iopub.status.idle": "2022-04-10T21:25:47.233754Z",
     "shell.execute_reply": "2022-04-10T21:25:47.233037Z",
     "shell.execute_reply.started": "2022-04-10T21:25:46.464596Z"
    },
    "tags": [],
    "vscode": {
     "languageId": "python"
    }
   },
   "outputs": [
    {
     "data": {
      "application/vnd.jupyter.widget-view+json": {
       "model_id": "bd28e6c00d54483ab45eddc2cb8a63da",
       "version_major": 2,
       "version_minor": 0
      },
      "text/plain": [
       "VBox()"
      ]
     },
     "metadata": {},
     "output_type": "display_data"
    },
    {
     "data": {
      "application/vnd.jupyter.widget-view+json": {
       "model_id": "",
       "version_major": 2,
       "version_minor": 0
      },
      "text/plain": [
       "FloatProgress(value=0.0, bar_style='info', description='Progress:', layout=Layout(height='25px', width='50%'),…"
      ]
     },
     "metadata": {},
     "output_type": "display_data"
    },
    {
     "name": "stdout",
     "output_type": "stream",
     "text": [
      "100%|##########| 9/9 [00:00<00:00, 18.68it/s]"
     ]
    }
   ],
   "source": [
    "for i in tqdm(range(2,11)):\n",
    "    \n",
    "    @pandas_udf('double')\n",
    "    def calculate_min_return_series(series: pd.Series) -> pd.Series:\n",
    "        \"\"\"\n",
    "        Calculates the return series of a time series.\n",
    "        The first value will always be NaN.\n",
    "        Output series retains the index of the input series.\n",
    "        \"\"\"\n",
    "        shifted_series = series.shift(i, axis=0)\n",
    "        return series / shifted_series - 1\n",
    "    \n",
    "    df = df.withColumn(f'ret{i}min', calculate_min_return_series(df.LastTradePrice))"
   ]
  },
  {
   "cell_type": "code",
   "execution_count": 68,
   "metadata": {
    "execution": {
     "iopub.execute_input": "2022-04-10T09:54:07.866194Z",
     "iopub.status.busy": "2022-04-10T09:54:07.865949Z",
     "iopub.status.idle": "2022-04-10T09:54:21.168235Z",
     "shell.execute_reply": "2022-04-10T09:54:21.167514Z",
     "shell.execute_reply.started": "2022-04-10T09:54:07.866159Z"
    },
    "tags": [],
    "vscode": {
     "languageId": "python"
    }
   },
   "outputs": [
    {
     "data": {
      "application/vnd.jupyter.widget-view+json": {
       "model_id": "b61a6aa40d114e3ebca1e249a5cedd74",
       "version_major": 2,
       "version_minor": 0
      },
      "text/plain": [
       "VBox()"
      ]
     },
     "metadata": {},
     "output_type": "display_data"
    },
    {
     "data": {
      "application/vnd.jupyter.widget-view+json": {
       "model_id": "",
       "version_major": 2,
       "version_minor": 0
      },
      "text/plain": [
       "FloatProgress(value=0.0, bar_style='info', description='Progress:', layout=Layout(height='25px', width='50%'),…"
      ]
     },
     "metadata": {},
     "output_type": "display_data"
    },
    {
     "name": "stdout",
     "output_type": "stream",
     "text": [
      "+--------------+-------------------+------+--------------------+--------------------+--------------------+--------------------+--------------------+\n",
      "|LastTradePrice|           datetime|Ticker|             ret1min|             ret2min|             ret3min|             ret4min|             ret5min|\n",
      "+--------------+-------------------+------+--------------------+--------------------+--------------------+--------------------+--------------------+\n",
      "|        168.55|2018-03-22 04:00:00|    FB|                null|                null|                null|                null|                null|\n",
      "|        168.55|2018-03-22 04:01:00|    FB|                 0.0|                null|                null|                null|                null|\n",
      "|        168.03|2018-03-22 04:02:00|    FB|-0.00308513794126...|-0.00308513794126...|                null|                null|                null|\n",
      "|        168.27|2018-03-22 04:03:00|    FB|0.001428316372076...|-0.00166122812221...|-0.00166122812221...|                null|                null|\n",
      "|        168.44|2018-03-22 04:04:00|    FB|0.001010281095857879|0.002440040468963...|-6.52625333728895...|-6.52625333728895...|                null|\n",
      "|        168.44|2018-03-22 04:05:00|    FB|                 0.0|0.001010281095857879|0.002440040468963...|-6.52625333728895...|-6.52625333728895...|\n",
      "|        168.53|2018-03-22 04:06:00|    FB|5.343148895748939E-4|5.343148895748939E-4|0.001545135793664...|0.002975659108492623|-1.18659151587152...|\n",
      "|        168.37|2018-03-22 04:07:00|    FB|-9.49385866017893...|-4.15578247447090...|-4.15578247447090...|5.942829975633668E-4|0.002023448193774...|\n",
      "|        168.45|2018-03-22 04:08:00|    FB|4.751440280335028...|-4.74692933009057...|5.936832106390177...|5.936832106390177...|0.001069709395614...|\n",
      "|         168.5|2018-03-22 04:09:00|    FB|2.968239833778252...|7.721090455543589E-4|-1.78009849878368...|3.562099263831886E-4|3.562099263831886E-4|\n",
      "|        168.56|2018-03-22 04:10:00|    FB|3.560830860533936...|6.530127634314375E-4|0.001128467066579...|1.780098498782578...|7.124198527665992E-4|\n",
      "|         168.8|2018-03-22 04:11:00|    FB|0.001423825344091...|0.001780415430267...|0.002077767883645...|0.002553899150680161|0.001602088648905...|\n",
      "|        168.64|2018-03-22 04:12:00|    FB|-9.47867298578319...|4.746084480302670...|8.308605341245112E-4|0.001127931136835...|0.001603611094612...|\n",
      "|        168.78|2018-03-22 04:13:00|    FB|8.301707779887479E-4|-1.18483412322345...|0.001305173232083...|0.001661721068249...|0.001959038290293...|\n",
      "|        168.86|2018-03-22 04:14:00|    FB|4.739898092191996...|0.001304554079696...|3.554502369669254...|0.001779781680113...|0.002136498516320584|\n",
      "|         168.8|2018-03-22 04:15:00|    FB|-3.55323936989226...|1.184974523047444E-4|9.487666034158071E-4|                 0.0|0.001423825344091...|\n",
      "|        168.86|2018-03-22 04:16:00|    FB|3.554502369669254...|                 0.0|4.739898092191996...|0.001304554079696...|3.554502369669254...|\n",
      "|        168.86|2018-03-22 04:17:00|    FB|                 0.0|3.554502369669254...|                 0.0|4.739898092191996...|0.001304554079696...|\n",
      "|          null|2018-03-22 04:18:00|    FB|                null|                null|                null|                null|                null|\n",
      "|        168.86|2018-03-22 04:19:00|    FB|                null|                 0.0|                 0.0|3.554502369669254...|                 0.0|\n",
      "+--------------+-------------------+------+--------------------+--------------------+--------------------+--------------------+--------------------+\n",
      "only showing top 20 rows"
     ]
    }
   ],
   "source": [
    "df.select(\"LastTradePrice\",\"datetime\",\"Ticker\",\"ret1min\",\"ret2min\",\"ret3min\",\"ret4min\",\"ret5min\",).show()"
   ]
  },
  {
   "cell_type": "code",
   "execution_count": 8,
   "metadata": {
    "execution": {
     "iopub.execute_input": "2022-04-10T21:25:56.190993Z",
     "iopub.status.busy": "2022-04-10T21:25:56.190765Z",
     "iopub.status.idle": "2022-04-10T21:25:56.446591Z",
     "shell.execute_reply": "2022-04-10T21:25:56.446001Z",
     "shell.execute_reply.started": "2022-04-10T21:25:56.190970Z"
    },
    "tags": [],
    "vscode": {
     "languageId": "python"
    }
   },
   "outputs": [
    {
     "data": {
      "application/vnd.jupyter.widget-view+json": {
       "model_id": "c165f27956114f83b5841e9aa450a276",
       "version_major": 2,
       "version_minor": 0
      },
      "text/plain": [
       "VBox()"
      ]
     },
     "metadata": {},
     "output_type": "display_data"
    },
    {
     "data": {
      "application/vnd.jupyter.widget-view+json": {
       "model_id": "",
       "version_major": 2,
       "version_minor": 0
      },
      "text/plain": [
       "FloatProgress(value=0.0, bar_style='info', description='Progress:', layout=Layout(height='25px', width='50%'),…"
      ]
     },
     "metadata": {},
     "output_type": "display_data"
    }
   ],
   "source": [
    "@pandas_udf('double')\n",
    "def calculate_fwd_return_series(series: pd.Series) -> pd.Series:\n",
    "    \"\"\"\n",
    "    Calculates the return series of a time series.\n",
    "    The first value will always be NaN.\n",
    "    Output series retains the index of the input series.\n",
    "    \"\"\"\n",
    "    shifted_series = series.shift(-1, axis=0)\n",
    "    return series / shifted_series - 1"
   ]
  },
  {
   "cell_type": "code",
   "execution_count": 9,
   "metadata": {
    "execution": {
     "iopub.execute_input": "2022-04-10T16:50:04.127259Z",
     "iopub.status.busy": "2022-04-10T16:50:04.126994Z",
     "iopub.status.idle": "2022-04-10T16:50:04.394533Z",
     "shell.execute_reply": "2022-04-10T16:50:04.393944Z",
     "shell.execute_reply.started": "2022-04-10T16:50:04.127227Z"
    },
    "tags": [],
    "vscode": {
     "languageId": "python"
    }
   },
   "outputs": [
    {
     "data": {
      "application/vnd.jupyter.widget-view+json": {
       "model_id": "d736f12fce154011abf470f4ac2aae1e",
       "version_major": 2,
       "version_minor": 0
      },
      "text/plain": [
       "VBox()"
      ]
     },
     "metadata": {},
     "output_type": "display_data"
    },
    {
     "data": {
      "application/vnd.jupyter.widget-view+json": {
       "model_id": "",
       "version_major": 2,
       "version_minor": 0
      },
      "text/plain": [
       "FloatProgress(value=0.0, bar_style='info', description='Progress:', layout=Layout(height='25px', width='50%'),…"
      ]
     },
     "metadata": {},
     "output_type": "display_data"
    }
   ],
   "source": [
    "# df = df.withColumn('fwd1min', calculate_fwd_return_series(df.ret1min))"
   ]
  },
  {
   "cell_type": "code",
   "execution_count": 9,
   "metadata": {
    "execution": {
     "iopub.execute_input": "2022-04-10T21:26:02.999245Z",
     "iopub.status.busy": "2022-04-10T21:26:02.998988Z",
     "iopub.status.idle": "2022-04-10T21:26:03.759402Z",
     "shell.execute_reply": "2022-04-10T21:26:03.758686Z",
     "shell.execute_reply.started": "2022-04-10T21:26:02.999221Z"
    },
    "tags": [],
    "vscode": {
     "languageId": "python"
    }
   },
   "outputs": [
    {
     "data": {
      "application/vnd.jupyter.widget-view+json": {
       "model_id": "a9e7bbcca5764635987cb7cecf1bd476",
       "version_major": 2,
       "version_minor": 0
      },
      "text/plain": [
       "VBox()"
      ]
     },
     "metadata": {},
     "output_type": "display_data"
    },
    {
     "data": {
      "application/vnd.jupyter.widget-view+json": {
       "model_id": "",
       "version_major": 2,
       "version_minor": 0
      },
      "text/plain": [
       "FloatProgress(value=0.0, bar_style='info', description='Progress:', layout=Layout(height='25px', width='50%'),…"
      ]
     },
     "metadata": {},
     "output_type": "display_data"
    },
    {
     "name": "stdout",
     "output_type": "stream",
     "text": [
      "100%|##########| 10/10 [00:00<00:00, 21.65it/s]"
     ]
    }
   ],
   "source": [
    "\n",
    "\n",
    "for i in tqdm(range(1,11)):\n",
    "    \n",
    "    df=df.withColumn(f\"fwd{i}min\",lead(df.ret1min,i).over(Window.partitionBy(\"Ticker\",\"Date\").orderBy(\"datetime\")))"
   ]
  },
  {
   "cell_type": "code",
   "execution_count": 10,
   "metadata": {
    "execution": {
     "iopub.execute_input": "2022-04-10T18:06:03.455258Z",
     "iopub.status.busy": "2022-04-10T18:06:03.455044Z",
     "iopub.status.idle": "2022-04-10T18:11:07.583950Z",
     "shell.execute_reply": "2022-04-10T18:11:07.583259Z",
     "shell.execute_reply.started": "2022-04-10T18:06:03.455234Z"
    },
    "tags": [],
    "vscode": {
     "languageId": "python"
    }
   },
   "outputs": [
    {
     "data": {
      "application/vnd.jupyter.widget-view+json": {
       "model_id": "640093cdf4934e3dac4fb3245df25ae1",
       "version_major": 2,
       "version_minor": 0
      },
      "text/plain": [
       "VBox()"
      ]
     },
     "metadata": {},
     "output_type": "display_data"
    },
    {
     "data": {
      "application/vnd.jupyter.widget-view+json": {
       "model_id": "",
       "version_major": 2,
       "version_minor": 0
      },
      "text/plain": [
       "FloatProgress(value=0.0, bar_style='info', description='Progress:', layout=Layout(height='25px', width='50%'),…"
      ]
     },
     "metadata": {},
     "output_type": "display_data"
    },
    {
     "name": "stdout",
     "output_type": "stream",
     "text": [
      "+--------------+-------------------+------+--------------------+--------------------+\n",
      "|LastTradePrice|           datetime|Ticker|             ret1min|             fwd1min|\n",
      "+--------------+-------------------+------+--------------------+--------------------+\n",
      "|         180.7|2018-03-12 04:00:00|  AAPL|-0.33284105593501945|-0.00654241574578...|\n",
      "|         180.7|2018-03-12 04:00:00|  AAPL|-0.00654241574578...|0.001660210293303...|\n",
      "|         181.0|2018-03-12 04:01:00|  AAPL|0.001660210293303...|0.001660210293303...|\n",
      "|         181.0|2018-03-12 04:01:00|  AAPL|0.001660210293303...|                null|\n",
      "|          null|2018-03-12 04:02:00|  AAPL|                null|                null|\n",
      "|          null|2018-03-12 04:02:00|  AAPL|                null|                null|\n",
      "|         181.0|2018-03-12 04:03:00|  AAPL|                null|                null|\n",
      "|         181.0|2018-03-12 04:03:00|  AAPL|                null|                null|\n",
      "|          null|2018-03-12 04:04:00|  AAPL|                null|                null|\n",
      "|          null|2018-03-12 04:04:00|  AAPL|                null|                null|\n",
      "|        180.96|2018-03-12 04:05:00|  AAPL|                null|                null|\n",
      "|        180.96|2018-03-12 04:05:00|  AAPL|                null|                null|\n",
      "|          null|2018-03-12 04:06:00|  AAPL|                null|                null|\n",
      "|          null|2018-03-12 04:06:00|  AAPL|                null|                null|\n",
      "|          null|2018-03-12 04:07:00|  AAPL|                null|                null|\n",
      "|          null|2018-03-12 04:07:00|  AAPL|                null|                null|\n",
      "|        181.07|2018-03-12 04:08:00|  AAPL|                null|                null|\n",
      "|        181.07|2018-03-12 04:08:00|  AAPL|                null|-3.86590821229271...|\n",
      "|         181.0|2018-03-12 04:09:00|  AAPL|-3.86590821229271...|-3.86590821229271...|\n",
      "|         181.0|2018-03-12 04:09:00|  AAPL|-3.86590821229271...|                 0.0|\n",
      "+--------------+-------------------+------+--------------------+--------------------+\n",
      "only showing top 20 rows"
     ]
    }
   ],
   "source": [
    "df.select(\"LastTradePrice\",\"datetime\",\"Ticker\",\"ret1min\",\"fwd1min\").show()"
   ]
  },
  {
   "cell_type": "code",
   "execution_count": 11,
   "metadata": {
    "execution": {
     "iopub.execute_input": "2022-04-10T18:11:07.585062Z",
     "iopub.status.busy": "2022-04-10T18:11:07.584875Z",
     "iopub.status.idle": "2022-04-10T18:11:07.638628Z",
     "shell.execute_reply": "2022-04-10T18:11:07.638089Z",
     "shell.execute_reply.started": "2022-04-10T18:11:07.585040Z"
    },
    "tags": [],
    "vscode": {
     "languageId": "python"
    }
   },
   "outputs": [
    {
     "data": {
      "application/vnd.jupyter.widget-view+json": {
       "model_id": "6f3af9edde294d568ed50b183ff5bf5f",
       "version_major": 2,
       "version_minor": 0
      },
      "text/plain": [
       "VBox()"
      ]
     },
     "metadata": {},
     "output_type": "display_data"
    },
    {
     "data": {
      "application/vnd.jupyter.widget-view+json": {
       "model_id": "",
       "version_major": 2,
       "version_minor": 0
      },
      "text/plain": [
       "FloatProgress(value=0.0, bar_style='info', description='Progress:', layout=Layout(height='25px', width='50%'),…"
      ]
     },
     "metadata": {},
     "output_type": "display_data"
    }
   ],
   "source": [
    "@pandas_udf('double')\n",
    "def calculate_mfi(high: pd.Series, low: pd.Series, close: pd.Series, volume: pd.Series) -> pd.Series:\n",
    "    \"\"\"\n",
    "    \n",
    "    \"\"\"\n",
    "    mfi = ta.mfi(high,low,close,volume,length=14)\n",
    "    return mfi"
   ]
  },
  {
   "cell_type": "code",
   "execution_count": 12,
   "metadata": {
    "execution": {
     "iopub.execute_input": "2022-04-10T18:11:07.639901Z",
     "iopub.status.busy": "2022-04-10T18:11:07.639655Z",
     "iopub.status.idle": "2022-04-10T18:11:07.694357Z",
     "shell.execute_reply": "2022-04-10T18:11:07.693810Z",
     "shell.execute_reply.started": "2022-04-10T18:11:07.639867Z"
    },
    "vscode": {
     "languageId": "python"
    }
   },
   "outputs": [
    {
     "data": {
      "application/vnd.jupyter.widget-view+json": {
       "model_id": "8c336fb06b974c459927c487d49ba3dc",
       "version_major": 2,
       "version_minor": 0
      },
      "text/plain": [
       "VBox()"
      ]
     },
     "metadata": {},
     "output_type": "display_data"
    },
    {
     "data": {
      "application/vnd.jupyter.widget-view+json": {
       "model_id": "",
       "version_major": 2,
       "version_minor": 0
      },
      "text/plain": [
       "FloatProgress(value=0.0, bar_style='info', description='Progress:', layout=Layout(height='25px', width='50%'),…"
      ]
     },
     "metadata": {},
     "output_type": "display_data"
    },
    {
     "name": "stderr",
     "output_type": "stream",
     "text": [
      "An error was encountered:\n",
      "invalid syntax (<stdin>, line 7)\n",
      "  File \"<stdin>\", line 7\n",
      "    return bop\n",
      "         ^\n",
      "SyntaxError: invalid syntax\n",
      "\n"
     ]
    }
   ],
   "source": [
    "@pandas_udf('double')\n",
    "def calculate_bop(open: pd.Series, high: pd.Series, low: pd.Series, close: pd.Series) -> pd.Series:\n",
    "    \"\"\"\n",
    "    \n",
    "    \"\"\"\n",
    "    bop = (ta.bop(high,low,close,volume,length=14)\n",
    "    return bop\n",
    "           \n",
    "@pandas_udf('double')\n",
    "def calculate_cci(high: pd.Series, low: pd.Series, close: pd.Series) -> pd.Series:\n",
    "       \"\"\"\n",
    "\n",
    "       \"\"\"\n",
    "        cci = ta.cci(high,low,close)\n",
    "        return cci\n",
    "\n",
    "@pandas_udf('double')\n"
   ]
  },
  {
   "cell_type": "code",
   "execution_count": 13,
   "metadata": {
    "execution": {
     "iopub.execute_input": "2022-04-10T18:11:07.695405Z",
     "iopub.status.busy": "2022-04-10T18:11:07.695235Z",
     "iopub.status.idle": "2022-04-10T18:11:07.955406Z",
     "shell.execute_reply": "2022-04-10T18:11:07.954729Z",
     "shell.execute_reply.started": "2022-04-10T18:11:07.695384Z"
    },
    "tags": [],
    "vscode": {
     "languageId": "python"
    }
   },
   "outputs": [
    {
     "data": {
      "application/vnd.jupyter.widget-view+json": {
       "model_id": "500e4ab813764eeb85944103e6df0d3f",
       "version_major": 2,
       "version_minor": 0
      },
      "text/plain": [
       "VBox()"
      ]
     },
     "metadata": {},
     "output_type": "display_data"
    },
    {
     "data": {
      "application/vnd.jupyter.widget-view+json": {
       "model_id": "",
       "version_major": 2,
       "version_minor": 0
      },
      "text/plain": [
       "FloatProgress(value=0.0, bar_style='info', description='Progress:', layout=Layout(height='25px', width='50%'),…"
      ]
     },
     "metadata": {},
     "output_type": "display_data"
    }
   ],
   "source": [
    "df = df.withColumn('mfi', calculate_mfi(df.HighTradePrice,df.LowTradePrice,df.LastTradePrice,df.FinraVolume))"
   ]
  },
  {
   "cell_type": "code",
   "execution_count": 83,
   "metadata": {
    "execution": {
     "iopub.execute_input": "2022-04-10T12:04:21.015169Z",
     "iopub.status.busy": "2022-04-10T12:04:21.014761Z",
     "iopub.status.idle": "2022-04-10T12:10:57.306494Z",
     "shell.execute_reply": "2022-04-10T12:10:57.305774Z",
     "shell.execute_reply.started": "2022-04-10T12:04:21.015140Z"
    },
    "tags": [],
    "vscode": {
     "languageId": "python"
    }
   },
   "outputs": [
    {
     "data": {
      "application/vnd.jupyter.widget-view+json": {
       "model_id": "98e0a7c12fe743729736caa1d495ec59",
       "version_major": 2,
       "version_minor": 0
      },
      "text/plain": [
       "VBox()"
      ]
     },
     "metadata": {},
     "output_type": "display_data"
    },
    {
     "data": {
      "application/vnd.jupyter.widget-view+json": {
       "model_id": "",
       "version_major": 2,
       "version_minor": 0
      },
      "text/plain": [
       "FloatProgress(value=0.0, bar_style='info', description='Progress:', layout=Layout(height='25px', width='50%'),…"
      ]
     },
     "metadata": {},
     "output_type": "display_data"
    },
    {
     "name": "stdout",
     "output_type": "stream",
     "text": [
      "+--------------+-------------------+------+--------------------+--------------------+------------------+\n",
      "|LastTradePrice|           datetime|Ticker|             ret1min|             fwd1min|               mfi|\n",
      "+--------------+-------------------+------+--------------------+--------------------+------------------+\n",
      "|        180.72|2018-03-12 08:00:00|  AAPL|3.874896208135858...|3.874896208135858...|              null|\n",
      "|        180.72|2018-03-12 08:00:00|  AAPL|3.874896208135858...|-4.98007968127489...|              null|\n",
      "|        180.63|2018-03-12 08:01:00|  AAPL|-4.98007968127489...|-4.98007968127489...|              null|\n",
      "|        180.63|2018-03-12 08:01:00|  AAPL|-4.98007968127489...|                 0.0|              null|\n",
      "|        180.63|2018-03-12 08:02:00|  AAPL|                 0.0|                 0.0|              null|\n",
      "|        180.63|2018-03-12 08:02:00|  AAPL|                 0.0|                null|              null|\n",
      "|          null|2018-03-12 08:03:00|  AAPL|                null|                null|              null|\n",
      "|          null|2018-03-12 08:03:00|  AAPL|                null|                null|              null|\n",
      "|        180.66|2018-03-12 08:04:00|  AAPL|                null|                null|              null|\n",
      "|        180.66|2018-03-12 08:04:00|  AAPL|                null|                 0.0|              null|\n",
      "|        180.66|2018-03-12 08:05:00|  AAPL|                 0.0|                 0.0|              null|\n",
      "|        180.66|2018-03-12 08:05:00|  AAPL|                 0.0|                 0.0|              null|\n",
      "|        180.66|2018-03-12 08:06:00|  AAPL|                 0.0|                 0.0|              null|\n",
      "|        180.66|2018-03-12 08:06:00|  AAPL|                 0.0|                 0.0|               0.0|\n",
      "|        180.66|2018-03-12 08:07:00|  AAPL|                 0.0|                 0.0|               0.0|\n",
      "|        180.66|2018-03-12 08:07:00|  AAPL|                 0.0|                null|               0.0|\n",
      "|          null|2018-03-12 08:08:00|  AAPL|                null|                null|               0.0|\n",
      "|          null|2018-03-12 08:08:00|  AAPL|                null|                null|               0.0|\n",
      "|          null|2018-03-12 08:09:00|  AAPL|                null|                null|               0.0|\n",
      "|          null|2018-03-12 08:09:00|  AAPL|                null|                null|               0.0|\n",
      "|        180.66|2018-03-12 08:10:00|  AAPL|                null|                null|               0.0|\n",
      "|        180.66|2018-03-12 08:10:00|  AAPL|                null|-3.87468172257210...|               0.0|\n",
      "|        180.59|2018-03-12 08:11:00|  AAPL|-3.87468172257210...|-3.87468172257210...|               0.0|\n",
      "|        180.59|2018-03-12 08:11:00|  AAPL|-3.87468172257210...|4.429924137547836E-4|               0.0|\n",
      "|        180.67|2018-03-12 08:12:00|  AAPL|4.429924137547836E-4|4.429924137547836E-4| 47.84458776916719|\n",
      "|        180.67|2018-03-12 08:12:00|  AAPL|4.429924137547836E-4|-3.87446726075157...| 47.84458776916719|\n",
      "|         180.6|2018-03-12 08:13:00|  AAPL|-3.87446726075157...|-3.87446726075157...| 47.84458776916719|\n",
      "|         180.6|2018-03-12 08:13:00|  AAPL|-3.87446726075157...|                 0.0| 47.84458776916719|\n",
      "|         180.6|2018-03-12 08:14:00|  AAPL|                 0.0|                 0.0|             100.0|\n",
      "|         180.6|2018-03-12 08:14:00|  AAPL|                 0.0|-5.53709856034867...|             100.0|\n",
      "|        180.59|2018-03-12 08:15:00|  AAPL|-5.53709856034867...|-5.53709856034867...|  99.0102808601195|\n",
      "|        180.59|2018-03-12 08:15:00|  AAPL|-5.53709856034867...|5.537405171929244E-5|  99.0102808601195|\n",
      "|         180.6|2018-03-12 08:16:00|  AAPL|5.537405171929244E-5|5.537405171929244E-5|  99.0102808601195|\n",
      "|         180.6|2018-03-12 08:16:00|  AAPL|5.537405171929244E-5|-1.66112956810682...|  99.0102808601195|\n",
      "|        180.57|2018-03-12 08:17:00|  AAPL|-1.66112956810682...|-1.66112956810682...|  99.0102808601195|\n",
      "|        180.57|2018-03-12 08:17:00|  AAPL|-1.66112956810682...|1.661405549093775...|  99.0102808601195|\n",
      "|         180.6|2018-03-12 08:18:00|  AAPL|1.661405549093775...|1.661405549093775...|  99.0102808601195|\n",
      "|         180.6|2018-03-12 08:18:00|  AAPL|1.661405549093775...|                 0.0|  99.0102808601195|\n",
      "|         180.6|2018-03-12 08:19:00|  AAPL|                 0.0|                 0.0| 99.37121912593284|\n",
      "|         180.6|2018-03-12 08:19:00|  AAPL|                 0.0|                null| 99.37121912593284|\n",
      "|          null|2018-03-12 08:20:00|  AAPL|                null|                null| 99.37121912593284|\n",
      "|          null|2018-03-12 08:20:00|  AAPL|                null|                null| 99.37121912593284|\n",
      "|        180.58|2018-03-12 08:21:00|  AAPL|                null|                null| 99.37121912593284|\n",
      "|        180.58|2018-03-12 08:21:00|  AAPL|                null|-4.43016945398277...| 99.37121912593284|\n",
      "|         180.5|2018-03-12 08:22:00|  AAPL|-4.43016945398277...|-4.43016945398277...|             100.0|\n",
      "|         180.5|2018-03-12 08:22:00|  AAPL|-4.43016945398277...|                null|             100.0|\n",
      "|          null|2018-03-12 08:23:00|  AAPL|                null|                null|             100.0|\n",
      "|          null|2018-03-12 08:23:00|  AAPL|                null|                null|             100.0|\n",
      "|        180.42|2018-03-12 08:24:00|  AAPL|                null|                null|             100.0|\n",
      "|        180.42|2018-03-12 08:24:00|  AAPL|                null|5.542622769105776E-5|             100.0|\n",
      "|        180.43|2018-03-12 08:25:00|  AAPL|5.542622769105776E-5|5.542622769105776E-5|             100.0|\n",
      "|        180.43|2018-03-12 08:25:00|  AAPL|5.542622769105776E-5|1.108463115888636E-4|             100.0|\n",
      "|        180.45|2018-03-12 08:26:00|  AAPL|1.108463115888636E-4|1.108463115888636E-4|             100.0|\n",
      "|        180.45|2018-03-12 08:26:00|  AAPL|1.108463115888636E-4|2.216680520921166E-4|             100.0|\n",
      "|        180.49|2018-03-12 08:27:00|  AAPL|2.216680520921166E-4|2.216680520921166E-4|             100.0|\n",
      "|        180.49|2018-03-12 08:27:00|  AAPL|2.216680520921166E-4|-3.32428389384520...|             100.0|\n",
      "|        180.43|2018-03-12 08:28:00|  AAPL|-3.32428389384520...|-3.32428389384520...|             100.0|\n",
      "|        180.43|2018-03-12 08:28:00|  AAPL|-3.32428389384520...|3.325389347670349E-4|             100.0|\n",
      "|        180.49|2018-03-12 08:29:00|  AAPL|3.325389347670349E-4|3.325389347670349E-4|             100.0|\n",
      "|        180.49|2018-03-12 08:29:00|  AAPL|3.325389347670349E-4|-4.43237852512656...|             100.0|\n",
      "|        180.41|2018-03-12 08:30:00|  AAPL|-4.43237852512656...|-4.43237852512656...|43.510296066042116|\n",
      "|        180.41|2018-03-12 08:30:00|  AAPL|-4.43237852512656...|3.880050994955475E-4|43.510296066042116|\n",
      "|        180.48|2018-03-12 08:31:00|  AAPL|3.880050994955475E-4|3.880050994955475E-4|43.510296066042116|\n",
      "|        180.48|2018-03-12 08:31:00|  AAPL|3.880050994955475E-4|                 0.0|43.510296066042116|\n",
      "|        180.48|2018-03-12 08:32:00|  AAPL|                 0.0|                 0.0|33.339491234228085|\n",
      "|        180.48|2018-03-12 08:32:00|  AAPL|                 0.0|-5.54078014184389...| 33.33949123422808|\n",
      "|        180.47|2018-03-12 08:33:00|  AAPL|-5.54078014184389...|-5.54078014184389...|12.332159931994427|\n",
      "|        180.47|2018-03-12 08:33:00|  AAPL|-5.54078014184389...|-1.10821743226074...|12.332159931994427|\n",
      "|        180.45|2018-03-12 08:34:00|  AAPL|-1.10821743226074...|-1.10821743226074...|12.332159931994427|\n",
      "|        180.45|2018-03-12 08:34:00|  AAPL|-1.10821743226074...|-1.10834026045947...|12.332159931994427|\n",
      "|        180.43|2018-03-12 08:35:00|  AAPL|-1.10834026045947...|-1.10834026045947...|11.845339134393873|\n",
      "|        180.43|2018-03-12 08:35:00|  AAPL|-1.10834026045947...|2.216926231779492...|11.845339134393873|\n",
      "|        180.47|2018-03-12 08:36:00|  AAPL|2.216926231779492...|2.216926231779492...|               0.0|\n",
      "|        180.47|2018-03-12 08:36:00|  AAPL|2.216926231779492...|-2.77054358065131...|               0.0|\n",
      "|        180.42|2018-03-12 08:37:00|  AAPL|-2.77054358065131...|-2.77054358065131...|               0.0|\n",
      "|        180.42|2018-03-12 08:37:00|  AAPL|-2.77054358065131...|2.217049107637869...|               0.0|\n",
      "|        180.46|2018-03-12 08:38:00|  AAPL|2.217049107637869...|2.217049107637869...|  2.80289192551132|\n",
      "|        180.46|2018-03-12 08:38:00|  AAPL|2.217049107637869...|-2.77069710739263...|  2.80289192551132|\n",
      "|        180.41|2018-03-12 08:39:00|  AAPL|-2.77069710739263...|-2.77069710739263...| 2.969353620437287|\n",
      "|        180.41|2018-03-12 08:39:00|  AAPL|-2.77069710739263...|                 0.0| 2.969353620437287|\n",
      "|        180.41|2018-03-12 08:40:00|  AAPL|                 0.0|                 0.0|40.062040402128986|\n",
      "|        180.41|2018-03-12 08:40:00|  AAPL|                 0.0|2.771464996398354E-4|40.062040402128986|\n",
      "|        180.46|2018-03-12 08:41:00|  AAPL|2.771464996398354E-4|2.771464996398354E-4|40.062040402128986|\n",
      "|        180.46|2018-03-12 08:41:00|  AAPL|2.771464996398354E-4|1.108278842956167...|40.062040402128986|\n",
      "|        180.48|2018-03-12 08:42:00|  AAPL|1.108278842956167...|1.108278842956167...| 98.54020208437774|\n",
      "|        180.48|2018-03-12 08:42:00|  AAPL|1.108278842956167...|5.540780141854995E-5| 98.54020208437774|\n",
      "|        180.49|2018-03-12 08:43:00|  AAPL|5.540780141854995E-5|5.540780141854995E-5| 98.54020208437774|\n",
      "|        180.49|2018-03-12 08:43:00|  AAPL|5.540780141854995E-5|-4.43237852512656...| 98.54020208437774|\n",
      "|        180.41|2018-03-12 08:44:00|  AAPL|-4.43237852512656...|-4.43237852512656...| 4.485296040070275|\n",
      "|        180.41|2018-03-12 08:44:00|  AAPL|-4.43237852512656...|                null| 4.485296040070275|\n",
      "|          null|2018-03-12 08:45:00|  AAPL|                null|                null|  1.20257352791806|\n",
      "|          null|2018-03-12 08:45:00|  AAPL|                null|                null|  1.20257352791806|\n",
      "|        180.43|2018-03-12 08:46:00|  AAPL|                null|                null|  1.20257352791806|\n",
      "|        180.43|2018-03-12 08:46:00|  AAPL|                null|1.108463115888636E-4|  1.20257352791806|\n",
      "|        180.45|2018-03-12 08:47:00|  AAPL|1.108463115888636E-4|1.108463115888636E-4| 0.690947679282354|\n",
      "|        180.45|2018-03-12 08:47:00|  AAPL|1.108463115888636E-4|2.216680520921166E-4| 0.690947679282354|\n",
      "|        180.49|2018-03-12 08:48:00|  AAPL|2.216680520921166E-4|2.216680520921166E-4| 0.690947679282354|\n",
      "|        180.49|2018-03-12 08:48:00|  AAPL|2.216680520921166E-4|-2.21618926256383...| 0.690947679282354|\n",
      "|        180.45|2018-03-12 08:49:00|  AAPL|-2.21618926256383...|-2.21618926256383...| 0.690470653058724|\n",
      "|        180.45|2018-03-12 08:49:00|  AAPL|-2.21618926256383...|-6.65004156275794...| 0.690470653058724|\n",
      "+--------------+-------------------+------+--------------------+--------------------+------------------+\n",
      "only showing top 100 rows"
     ]
    }
   ],
   "source": [
    "df.select(\"LastTradePrice\",\"datetime\",\"Ticker\",\"ret1min\",\"fwd1min\",\"mfi\").filter(df.mfi.isNotNull()).show(100)"
   ]
  },
  {
   "cell_type": "code",
   "execution_count": 125,
   "metadata": {
    "execution": {
     "iopub.execute_input": "2022-04-10T16:18:10.529678Z",
     "iopub.status.busy": "2022-04-10T16:18:10.529438Z",
     "iopub.status.idle": "2022-04-10T16:18:10.567071Z",
     "shell.execute_reply": "2022-04-10T16:18:10.563780Z",
     "shell.execute_reply.started": "2022-04-10T16:18:10.529653Z"
    },
    "vscode": {
     "languageId": "python"
    }
   },
   "outputs": [
    {
     "data": {
      "application/vnd.jupyter.widget-view+json": {
       "model_id": "e1c1ace00f694dbbabff91fd5ae983cc",
       "version_major": 2,
       "version_minor": 0
      },
      "text/plain": [
       "VBox()"
      ]
     },
     "metadata": {},
     "output_type": "display_data"
    },
    {
     "name": "stderr",
     "output_type": "stream",
     "text": [
      "An error was encountered:\n",
      "Invalid status code '404' from http://localhost:8998/sessions/1 with error payload: {\"msg\":\"Session '1' not found.\"}\n"
     ]
    }
   ],
   "source": [
    "sma10Win = Window.partitionBy(\"Ticker\",\"Date\").orderBy(\"datetime\").rangeBetween(-10,0)\n",
    "df = df.withColumn('sma10',mean(df.LastTradePrice).over(sma10Win))"
   ]
  },
  {
   "cell_type": "code",
   "execution_count": 39,
   "metadata": {
    "execution": {
     "iopub.execute_input": "2022-04-10T08:51:54.787347Z",
     "iopub.status.busy": "2022-04-10T08:51:54.787059Z",
     "iopub.status.idle": "2022-04-10T08:51:55.048662Z",
     "shell.execute_reply": "2022-04-10T08:51:55.048068Z",
     "shell.execute_reply.started": "2022-04-10T08:51:54.787316Z"
    },
    "vscode": {
     "languageId": "python"
    }
   },
   "outputs": [
    {
     "data": {
      "application/vnd.jupyter.widget-view+json": {
       "model_id": "a843a3ba6317427fb41b69d16fbbf622",
       "version_major": 2,
       "version_minor": 0
      },
      "text/plain": [
       "VBox()"
      ]
     },
     "metadata": {},
     "output_type": "display_data"
    },
    {
     "data": {
      "application/vnd.jupyter.widget-view+json": {
       "model_id": "",
       "version_major": 2,
       "version_minor": 0
      },
      "text/plain": [
       "FloatProgress(value=0.0, bar_style='info', description='Progress:', layout=Layout(height='25px', width='50%'),…"
      ]
     },
     "metadata": {},
     "output_type": "display_data"
    }
   ],
   "source": [
    "apl = df.filter(df.Ticker ==\"AAPL\")"
   ]
  },
  {
   "cell_type": "code",
   "execution_count": 84,
   "metadata": {
    "execution": {
     "iopub.execute_input": "2022-04-10T12:29:59.933587Z",
     "iopub.status.busy": "2022-04-10T12:29:59.933350Z",
     "iopub.status.idle": "2022-04-10T12:29:59.983366Z",
     "shell.execute_reply": "2022-04-10T12:29:59.982772Z",
     "shell.execute_reply.started": "2022-04-10T12:29:59.933563Z"
    },
    "vscode": {
     "languageId": "python"
    }
   },
   "outputs": [
    {
     "data": {
      "application/vnd.jupyter.widget-view+json": {
       "model_id": "83b28d3edc284490bb4b064ec6a6771a",
       "version_major": 2,
       "version_minor": 0
      },
      "text/plain": [
       "VBox()"
      ]
     },
     "metadata": {},
     "output_type": "display_data"
    },
    {
     "data": {
      "application/vnd.jupyter.widget-view+json": {
       "model_id": "",
       "version_major": 2,
       "version_minor": 0
      },
      "text/plain": [
       "FloatProgress(value=0.0, bar_style='info', description='Progress:', layout=Layout(height='25px', width='50%'),…"
      ]
     },
     "metadata": {},
     "output_type": "display_data"
    }
   ],
   "source": [
    "sample = df.sample(fraction=0.0001)"
   ]
  },
  {
   "cell_type": "code",
   "execution_count": 85,
   "metadata": {
    "execution": {
     "iopub.execute_input": "2022-04-10T12:30:41.415602Z",
     "iopub.status.busy": "2022-04-10T12:30:41.415355Z",
     "iopub.status.idle": "2022-04-10T12:30:41.478526Z",
     "shell.execute_reply": "2022-04-10T12:30:41.477868Z",
     "shell.execute_reply.started": "2022-04-10T12:30:41.415577Z"
    },
    "vscode": {
     "languageId": "python"
    }
   },
   "outputs": [
    {
     "data": {
      "application/vnd.jupyter.widget-view+json": {
       "model_id": "8912da2609cd404c9c4169802a49f893",
       "version_major": 2,
       "version_minor": 0
      },
      "text/plain": [
       "VBox()"
      ]
     },
     "metadata": {},
     "output_type": "display_data"
    },
    {
     "data": {
      "application/vnd.jupyter.widget-view+json": {
       "model_id": "",
       "version_major": 2,
       "version_minor": 0
      },
      "text/plain": [
       "FloatProgress(value=0.0, bar_style='info', description='Progress:', layout=Layout(height='25px', width='50%'),…"
      ]
     },
     "metadata": {},
     "output_type": "display_data"
    }
   ],
   "source": [
    "features = ['ret1min', 'ret2min', 'ret3min', 'ret4min', 'ret5min', \n",
    "            'ret6min', 'ret7min', 'ret8min', 'ret9min', 'ret10min','cci','mfi']"
   ]
  },
  {
   "cell_type": "markdown",
   "metadata": {},
   "source": [
    "# Add indicators and features"
   ]
  },
  {
   "cell_type": "code",
   "execution_count": 114,
   "metadata": {
    "execution": {
     "iopub.execute_input": "2022-04-10T14:34:15.924475Z",
     "iopub.status.busy": "2022-04-10T14:34:15.924237Z",
     "iopub.status.idle": "2022-04-10T14:34:23.228248Z",
     "shell.execute_reply": "2022-04-10T14:34:23.227590Z",
     "shell.execute_reply.started": "2022-04-10T14:34:15.924450Z"
    },
    "vscode": {
     "languageId": "python"
    }
   },
   "outputs": [
    {
     "data": {
      "application/vnd.jupyter.widget-view+json": {
       "model_id": "2c477fc9c8d240ad9601e8c0fa8e72f6",
       "version_major": 2,
       "version_minor": 0
      },
      "text/plain": [
       "VBox()"
      ]
     },
     "metadata": {},
     "output_type": "display_data"
    },
    {
     "data": {
      "application/vnd.jupyter.widget-view+json": {
       "model_id": "",
       "version_major": 2,
       "version_minor": 0
      },
      "text/plain": [
       "FloatProgress(value=0.0, bar_style='info', description='Progress:', layout=Layout(height='25px', width='50%'),…"
      ]
     },
     "metadata": {},
     "output_type": "display_data"
    },
    {
     "name": "stdout",
     "output_type": "stream",
     "text": [
      "{'paths': ['s3://strategymodeldata/tstAaplTaqRatio.csv'], 'partitions_values': {}}"
     ]
    }
   ],
   "source": [
    "wr.s3.to_csv(aapl, 's3://strategymodeldata/tstAaplTaqRatio.csv',index=False)"
   ]
  },
  {
   "cell_type": "markdown",
   "metadata": {},
   "source": [
    "## SMA"
   ]
  },
  {
   "cell_type": "code",
   "execution_count": null,
   "metadata": {
    "vscode": {
     "languageId": "python"
    }
   },
   "outputs": [],
   "source": [
    "def get_sma(X, df):\n",
    "    \"\"\"\n",
    "    Get features related to simple moving average\n",
    "    Inputs\n",
    "        X  : dataframe without the SMA features\n",
    "        df : dataframe containing 'adj_close' column. To generate features for the last row in this dataframe.\n",
    "    Outputs\n",
    "        X  : X with additional SMA features\n",
    "    \"\"\"\n",
    "    \n",
    "    # Simple moving average\n",
    "    df['sma_10'] = df['adj_close'].rolling(window = 10).mean()\n",
    "    df['sma_20'] = df['adj_close'].rolling(window = 20).mean()\n",
    "    df['sma_50'] = df['adj_close'].rolling(window = 50).mean()\n",
    "    df['sma_100'] = df['adj_close'].rolling(window = 100).mean()\n",
    "    df['sma_200'] = df['adj_close'].rolling(window = 200).mean()\n",
    "\n",
    "    # Get the sma on the previous day\n",
    "    df['adj_close_lag_1'] = df['adj_close'].shift(1)\n",
    "    df['sma_10_lag_1'] = df['sma_10'].shift(1)\n",
    "    df['sma_20_lag_1'] = df['sma_20'].shift(1)\n",
    "    df['sma_50_lag_1'] = df['sma_50'].shift(1)\n",
    "    df['sma_100_lag_1'] = df['sma_100'].shift(1)\n",
    "    df['sma_200_lag_1'] = df['sma_200'].shift(1)\n",
    "\n",
    "    # Get above signals\n",
    "    df['sma_above20'] = (df['adj_close'] > df['sma_20']).astype(int)\n",
    "    df['sma_above50'] = (df['adj_close'] > df['sma_50']).astype(int)\n",
    "    df['sma_above100'] = (df['adj_close'] > df['sma_100']).astype(int)\n",
    "    df['sma_above200'] = (df['adj_close'] > df['sma_200']).astype(int)\n",
    "\n",
    "    df['sma_10above20'] = (df['sma_10'] > df['sma_20']).astype(int)\n",
    "    df['sma_10above50'] = (df['sma_10'] > df['sma_50']).astype(int)\n",
    "    df['sma_10above100'] = (df['sma_10'] > df['sma_100']).astype(int)\n",
    "    df['sma_10above200'] = (df['sma_10'] > df['sma_200']).astype(int)\n",
    "\n",
    "    # Get bullish crossover signals\n",
    "    df['sma_cut20'] = ((df['adj_close_lag_1'] < df['sma_20_lag_1']) & (df['sma_above20']==True)).astype(int)\n",
    "    df['sma_cut50'] = ((df['adj_close_lag_1'] < df['sma_50_lag_1']) & (df['sma_above50']==True)).astype(int)\n",
    "    df['sma_cut100'] = ((df['adj_close_lag_1'] < df['sma_100_lag_1']) & (df['sma_above100']==True)).astype(int)\n",
    "    df['sma_cut200'] = ((df['adj_close_lag_1'] < df['sma_200_lag_1']) & (df['sma_above200']==True)).astype(int)\n",
    "\n",
    "    df['sma_10cut20'] = ((df['sma_10_lag_1'] < df['sma_20_lag_1']) & (df['sma_10above20']==True)).astype(int)\n",
    "    df['sma_10cut50'] = ((df['sma_10_lag_1'] < df['sma_50_lag_1']) & (df['sma_10above50']==True)).astype(int)\n",
    "    df['sma_10cut100'] = ((df['sma_10_lag_1'] < df['sma_100_lag_1']) & (df['sma_10above100']==True)).astype(int)\n",
    "    df['sma_10cut200'] = ((df['sma_10_lag_1'] < df['sma_200_lag_1']) & (df['sma_10above200']==True)).astype(int)\n",
    "\n",
    "    # Get bearish crossover signals\n",
    "    df['sma_cut20down'] = ((df['adj_close_lag_1'] > df['sma_20_lag_1']) & (df['adj_close'] < df['sma_20'])).astype(int)\n",
    "    df['sma_cut50down'] = ((df['adj_close_lag_1'] > df['sma_50_lag_1']) & (df['adj_close'] < df['sma_50'])).astype(int)\n",
    "    df['sma_cut100down'] = ((df['adj_close_lag_1'] > df['sma_100_lag_1']) & (df['adj_close'] < df['sma_100'])).astype(int)\n",
    "    df['sma_cut200down'] = ((df['adj_close_lag_1'] > df['sma_200_lag_1']) & (df['adj_close'] < df['sma_200'])).astype(int)\n",
    "\n",
    "    df['sma_10cut20down'] = ((df['sma_10_lag_1'] > df['sma_20_lag_1']) & (df['sma_10'] < df['sma_20'])).astype(int)\n",
    "    df['sma_10cut50down'] = ((df['sma_10_lag_1'] > df['sma_50_lag_1']) & (df['sma_10'] < df['sma_50'])).astype(int)\n",
    "    df['sma_10cut100down'] = ((df['sma_10_lag_1'] > df['sma_100_lag_1']) & (df['sma_10'] < df['sma_100'])).astype(int)\n",
    "    df['sma_10cut200down'] = ((df['sma_10_lag_1'] > df['sma_200_lag_1']) & (df['sma_10'] < df['sma_200'])).astype(int)\n",
    "    \n",
    "    tech_features = [   'sma_above20',\n",
    "                        'sma_above50',\n",
    "                        'sma_above100',\n",
    "                        'sma_above200',\n",
    "                        'sma_10above20',\n",
    "                        'sma_10above50',\n",
    "                        'sma_10above100',\n",
    "                        'sma_10above200',\n",
    "                        'sma_cut20',\n",
    "                        'sma_cut50',\n",
    "                        'sma_cut100',\n",
    "                        'sma_cut200',\n",
    "                        'sma_10cut20',\n",
    "                        'sma_10cut50',\n",
    "                        'sma_10cut100',\n",
    "                        'sma_10cut200',\n",
    "                        'sma_cut20down',\n",
    "                        'sma_cut50down',\n",
    "                        'sma_cut100down',\n",
    "                        'sma_cut200down',\n",
    "                        'sma_10cut20down',\n",
    "                        'sma_10cut50down',\n",
    "                        'sma_10cut100down',\n",
    "                        'sma_10cut200down'\n",
    "                    ]\n",
    "    \n",
    "    features_df = df[tech_features][-1:].reset_index(drop=True)\n",
    "    features_df.columns = [item+'_lag_1' for item in tech_features]\n",
    "    \n",
    "    return pd.concat([X, features_df], axis=1)"
   ]
  },
  {
   "cell_type": "markdown",
   "metadata": {},
   "source": [
    "## XGBoost SageMaker PySpark"
   ]
  },
  {
   "cell_type": "code",
   "execution_count": null,
   "metadata": {
    "vscode": {
     "languageId": "python"
    }
   },
   "outputs": [],
   "source": [
    "from pyspark import SparkContext, SparkConf\n",
    "from sagemaker_pyspark import IAMRole, classpath_jars\n",
    "from sagemaker_pyspark.algorithms import XGBoostSageMakerEstimator\n",
    "\n",
    "# Load the sagemaker_pyspark classpath. If you used --jars to submit your job\n",
    "# there is no need to do this in code.\n",
    "conf = (SparkConf()\n",
    "        .set(\"spark.driver.extraClassPath\", \":\".join(classpath_jars())))\n",
    "SparkContext.getOrCreate(conf=conf)\n",
    "\n",
    "#iam_role = \"arn:aws:iam:0123456789012:role/MySageMakerRole\"\n",
    "\n",
    "region = \"us-east-1\"\n",
    "training_data = (spark.read.format(\"libsvm\").option(\"numFeatures\", \"784\")\n",
    "  .load(\"s3a://sagemaker-sample-data-{}/spark/mnist/train/\".format(region)))\n",
    "\n",
    "test_data = (spark.read.format(\"libsvm\").option(\"numFeatures\", \"784\")\n",
    "  .load(\"s3a://sagemaker-sample-data-{}/spark/mnist/train/\".format(region)))\n",
    "\n",
    "xgboost_estimator = XGBoostSageMakerEstimator(\n",
    "    trainingInstanceType=\"ml.m4.xlarge\",\n",
    "    trainingInstanceCount=1,\n",
    "    endpointInstanceType=\"ml.m4.xlarge\",\n",
    "    endpointInitialInstanceCount=1,\n",
    "    sagemakerRole=IAMRole(iam_role))\n",
    "\n",
    "xgboost_estimator.setObjective('multi:softmax')\n",
    "xgboost_estimator.setNumRound(25)\n",
    "xgboost_estimator.setNumClasses(10)\n",
    "\n",
    "xgboost_model = xgboost_estimator.fit(training_data)\n",
    "\n",
    "transformed_data = xgboost_model.transform(test_data)\n",
    "transformed_data.show()"
   ]
  }
 ],
 "metadata": {
  "kernelspec": {
   "display_name": "Python 3",
   "language": "python",
   "name": "python3"
  },
  "language_info": {
   "codemirror_mode": {
    "name": "ipython",
    "version": 3
   },
   "file_extension": ".py",
   "mimetype": "text/x-python",
   "name": "python",
   "nbconvert_exporter": "python",
   "pygments_lexer": "ipython3",
   "version": "3.7.6"
  }
 },
 "nbformat": 4,
 "nbformat_minor": 5
}
