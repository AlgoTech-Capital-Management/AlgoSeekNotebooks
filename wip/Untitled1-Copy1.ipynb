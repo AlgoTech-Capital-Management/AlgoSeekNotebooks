{
 "cells": [
  {
   "cell_type": "code",
   "execution_count": 3,
   "id": "79cf4d6a-a880-4957-9803-2d631b071c5d",
   "metadata": {
    "execution": {
     "iopub.execute_input": "2022-03-20T12:24:56.636720Z",
     "iopub.status.busy": "2022-03-20T12:24:56.636501Z",
     "iopub.status.idle": "2022-03-20T12:24:57.400864Z",
     "shell.execute_reply": "2022-03-20T12:24:57.400281Z",
     "shell.execute_reply.started": "2022-03-20T12:24:56.636697Z"
    },
    "tags": [],
    "vscode": {
     "languageId": "python"
    },
    "pycharm": {
     "name": "#%%\n"
    }
   },
   "outputs": [
    {
     "data": {
      "application/vnd.jupyter.widget-view+json": {
       "model_id": "c958da477d2744ee800b759d415d006d",
       "version_major": 2,
       "version_minor": 0
      },
      "text/plain": [
       "VBox()"
      ]
     },
     "metadata": {},
     "output_type": "display_data"
    },
    {
     "data": {
      "application/vnd.jupyter.widget-view+json": {
       "model_id": "",
       "version_major": 2,
       "version_minor": 0
      },
      "text/plain": [
       "FloatProgress(value=0.0, bar_style='info', description='Progress:', layout=Layout(height='25px', width='50%'),…"
      ]
     },
     "metadata": {},
     "output_type": "display_data"
    }
   ],
   "source": [
    "import backtrader.indicators as btind\n",
    "import backtrader as bt\n",
    "import datetime\n",
    "import os\n",
    "import sys\n",
    "from datetime import datetime\n",
    "\n",
    "import backtrader as bt\n",
    "import backtrader.feeds as btfeeds\n",
    "import backtrader.analyzers as btanalyzers\n",
    "from backtrader.feed import DataBase\n",
    "from backtrader import date2num\n",
    "from backtrader import TimeFrame\n",
    "import os\n",
    "import pytz\n",
    "from pytz import timezone\n",
    "import json\n",
    "import time\n",
    "import itertools\n",
    "import datetime\n",
    "\n",
    "import pandas as pd\n",
    "\n",
    "import sys\n",
    "import os\n",
    "#import boto3\n",
    "from pyspark import SparkConf, SparkContext\n",
    "from pyspark.sql import SparkSession\n",
    "from pyspark.sql.types import StructType\n",
    "from pyspark.sql.functions import *\n",
    "from pyspark.sql.types import TimestampType\n",
    "from pyspark.sql.window import Window"
   ]
  },
  {
   "cell_type": "code",
   "execution_count": 2,
   "id": "92ed7def-a033-4bdb-99dc-9273c91a07de",
   "metadata": {
    "execution": {
     "iopub.execute_input": "2022-03-20T12:24:22.643756Z",
     "iopub.status.busy": "2022-03-20T12:24:22.643535Z",
     "iopub.status.idle": "2022-03-20T12:24:31.952101Z",
     "shell.execute_reply": "2022-03-20T12:24:31.951349Z",
     "shell.execute_reply.started": "2022-03-20T12:24:22.643732Z"
    },
    "tags": [],
    "vscode": {
     "languageId": "python"
    },
    "pycharm": {
     "name": "#%%\n"
    }
   },
   "outputs": [
    {
     "data": {
      "application/vnd.jupyter.widget-view+json": {
       "model_id": "5d94f13aaa5d4463b7c7cd030d56b611",
       "version_major": 2,
       "version_minor": 0
      },
      "text/plain": [
       "VBox()"
      ]
     },
     "metadata": {},
     "output_type": "display_data"
    },
    {
     "data": {
      "application/vnd.jupyter.widget-view+json": {
       "model_id": "",
       "version_major": 2,
       "version_minor": 0
      },
      "text/plain": [
       "FloatProgress(value=0.0, bar_style='info', description='Progress:', layout=Layout(height='25px', width='50%'),…"
      ]
     },
     "metadata": {},
     "output_type": "display_data"
    },
    {
     "name": "stdout",
     "output_type": "stream",
     "text": [
      "Collecting backtrader\n",
      "  Using cached https://files.pythonhosted.org/packages/1a/bf/78aadd993e2719d6764603465fde163ba6ec15cf0e81f13e39ca13451348/backtrader-1.9.76.123-py2.py3-none-any.whl\n",
      "Installing collected packages: backtrader\n",
      "Successfully installed backtrader-1.9.76.123\n",
      "\n",
      "Requirement already satisfied: awswrangler in /usr/local/lib/python3.7/site-packages\n",
      "Requirement already satisfied: pymysql<1.1.0,>=0.9.0 in /usr/local/lib/python3.7/site-packages (from awswrangler)\n",
      "Requirement already satisfied: redshift-connector<2.1.0,>=2.0.889 in /usr/local/lib64/python3.7/site-packages (from awswrangler)\n",
      "Requirement already satisfied: opensearch-py<2.0.0,>=1.0.0 in /usr/local/lib/python3.7/site-packages (from awswrangler)\n",
      "Requirement already satisfied: progressbar2<4.0.0,>=3.53.3 in /usr/local/lib/python3.7/site-packages (from awswrangler)\n",
      "Requirement already satisfied: botocore<2.0.0,>=1.23.17 in /usr/local/lib/python3.7/site-packages (from awswrangler)\n",
      "Requirement already satisfied: jsonpath-ng<2.0.0,>=1.5.3 in /usr/local/lib/python3.7/site-packages (from awswrangler)\n",
      "Requirement already satisfied: boto3<2.0.0,>=1.20.17 in /usr/local/lib/python3.7/site-packages (from awswrangler)\n",
      "Requirement already satisfied: openpyxl<3.1.0,>=3.0.0 in /usr/local/lib/python3.7/site-packages (from awswrangler)\n",
      "Requirement already satisfied: pandas<1.4.0,>=1.2.0; python_full_version >= \"3.7.1\" and python_full_version < \"4.0.0\" in /usr/local/lib64/python3.7/site-packages (from awswrangler)\n",
      "Requirement already satisfied: pg8000<1.23.0,>=1.16.0 in /usr/local/lib/python3.7/site-packages (from awswrangler)\n",
      "Collecting pyarrow<6.1.0,>=2.0.0 (from awswrangler)\n",
      "  Using cached https://files.pythonhosted.org/packages/38/c6/97a4133eea642155e7a73cb946d889cadc461a1e6b93f5627af9fdd7b3f3/pyarrow-6.0.1.tar.gz\n",
      "    Complete output from command python setup.py egg_info:\n",
      "    Traceback (most recent call last):\n",
      "      File \"<string>\", line 1, in <module>\n",
      "      File \"/mnt/tmp/pip-build-0j6eemsr/pyarrow/setup.py\", line 39, in <module>\n",
      "        from Cython.Distutils import build_ext as _build_ext\n",
      "    ModuleNotFoundError: No module named 'Cython'\n",
      "    \n",
      "    ----------------------------------------\n",
      "\n",
      "You are using pip version 9.0.1, however version 22.0.4 is available.\n",
      "You should consider upgrading via the 'pip install --upgrade pip' command.\n",
      "\n",
      "Command \"python setup.py egg_info\" failed with error code 1 in /mnt/tmp/pip-build-0j6eemsr/pyarrow/\n",
      "You are using pip version 9.0.1, however version 22.0.4 is available.\n",
      "You should consider upgrading via the 'pip install --upgrade pip' command."
     ]
    }
   ],
   "source": [
    "sc.install_pypi_package('backtrader')\n",
    "sc.install_pypi_package('awswrangler')"
   ]
  },
  {
   "cell_type": "code",
   "execution_count": 13,
   "id": "934e1e56-d925-4173-8e16-aa746bb03b91",
   "metadata": {
    "execution": {
     "iopub.execute_input": "2022-03-20T12:56:41.484219Z",
     "iopub.status.busy": "2022-03-20T12:56:41.483850Z",
     "iopub.status.idle": "2022-03-20T12:58:43.421100Z",
     "shell.execute_reply": "2022-03-20T12:58:43.420416Z",
     "shell.execute_reply.started": "2022-03-20T12:56:41.484179Z"
    },
    "tags": [],
    "vscode": {
     "languageId": "python"
    },
    "pycharm": {
     "name": "#%%\n"
    }
   },
   "outputs": [
    {
     "data": {
      "application/vnd.jupyter.widget-view+json": {
       "model_id": "12d432ef95134edaab0f4ed2e4032d61",
       "version_major": 2,
       "version_minor": 0
      },
      "text/plain": [
       "VBox()"
      ]
     },
     "metadata": {},
     "output_type": "display_data"
    },
    {
     "data": {
      "application/vnd.jupyter.widget-view+json": {
       "model_id": "",
       "version_major": 2,
       "version_minor": 0
      },
      "text/plain": [
       "FloatProgress(value=0.0, bar_style='info', description='Progress:', layout=Layout(height='25px', width='50%'),…"
      ]
     },
     "metadata": {},
     "output_type": "display_data"
    }
   ],
   "source": [
    "test = spark.read.option('header','True').csv('s3://algoseekraw/us-equity-1min-taq/nasdaq100/*/*.csv.gz')\n",
    "iid = spark.read.parquet('s3://taqdata/wrds_iid/parquet/*.parquet')\n",
    "ratio = spark.read.option('header','True').parquet('s3://securityfundamentalsdata/finratio_processed.parquet')"
   ]
  },
  {
   "cell_type": "code",
   "execution_count": 14,
   "id": "6628bdbb-510b-4aea-8cd5-11520ceba49d",
   "metadata": {
    "execution": {
     "iopub.execute_input": "2022-03-20T12:59:28.289542Z",
     "iopub.status.busy": "2022-03-20T12:59:28.289319Z",
     "iopub.status.idle": "2022-03-20T12:59:28.346436Z",
     "shell.execute_reply": "2022-03-20T12:59:28.345865Z",
     "shell.execute_reply.started": "2022-03-20T12:59:28.289518Z"
    },
    "tags": [],
    "vscode": {
     "languageId": "python"
    },
    "pycharm": {
     "name": "#%%\n"
    }
   },
   "outputs": [
    {
     "data": {
      "application/vnd.jupyter.widget-view+json": {
       "model_id": "5da6cb0729a04d468095957cc1501759",
       "version_major": 2,
       "version_minor": 0
      },
      "text/plain": [
       "VBox()"
      ]
     },
     "metadata": {},
     "output_type": "display_data"
    },
    {
     "data": {
      "application/vnd.jupyter.widget-view+json": {
       "model_id": "",
       "version_major": 2,
       "version_minor": 0
      },
      "text/plain": [
       "FloatProgress(value=0.0, bar_style='info', description='Progress:', layout=Layout(height='25px', width='50%'),…"
      ]
     },
     "metadata": {},
     "output_type": "display_data"
    },
    {
     "name": "stdout",
     "output_type": "stream",
     "text": [
      "root\n",
      " |-- Date: string (nullable = true)\n",
      " |-- Ticker: string (nullable = true)\n",
      " |-- TimeBarStart: string (nullable = true)\n",
      " |-- OpenBarTime: string (nullable = true)\n",
      " |-- OpenBidPrice: string (nullable = true)\n",
      " |-- OpenBidSize: string (nullable = true)\n",
      " |-- OpenAskPrice: string (nullable = true)\n",
      " |-- OpenAskSize: string (nullable = true)\n",
      " |-- FirstTradeTime: string (nullable = true)\n",
      " |-- FirstTradePrice: string (nullable = true)\n",
      " |-- FirstTradeSize: string (nullable = true)\n",
      " |-- HighBidTime: string (nullable = true)\n",
      " |-- HighBidPrice: string (nullable = true)\n",
      " |-- HighBidSize: string (nullable = true)\n",
      " |-- HighAskTime: string (nullable = true)\n",
      " |-- HighAskPrice: string (nullable = true)\n",
      " |-- HighAskSize: string (nullable = true)\n",
      " |-- HighTradeTime: string (nullable = true)\n",
      " |-- HighTradePrice: string (nullable = true)\n",
      " |-- HighTradeSize: string (nullable = true)\n",
      " |-- LowBidTime: string (nullable = true)\n",
      " |-- LowBidPrice: string (nullable = true)\n",
      " |-- LowBidSize: string (nullable = true)\n",
      " |-- LowAskTime: string (nullable = true)\n",
      " |-- LowAskPrice: string (nullable = true)\n",
      " |-- LowAskSize: string (nullable = true)\n",
      " |-- LowTradeTime: string (nullable = true)\n",
      " |-- LowTradePrice: string (nullable = true)\n",
      " |-- LowTradeSize: string (nullable = true)\n",
      " |-- CloseBarTime: string (nullable = true)\n",
      " |-- CloseBidPrice: string (nullable = true)\n",
      " |-- CloseBidSize: string (nullable = true)\n",
      " |-- CloseAskPrice: string (nullable = true)\n",
      " |-- CloseAskSize: string (nullable = true)\n",
      " |-- LastTradeTime: string (nullable = true)\n",
      " |-- LastTradePrice: string (nullable = true)\n",
      " |-- LastTradeSize: string (nullable = true)\n",
      " |-- MinSpread: string (nullable = true)\n",
      " |-- MaxSpread: string (nullable = true)\n",
      " |-- CancelSize: string (nullable = true)\n",
      " |-- VolumeWeightPrice: string (nullable = true)\n",
      " |-- NBBOQuoteCount: string (nullable = true)\n",
      " |-- TradeAtBid: string (nullable = true)\n",
      " |-- TradeAtBidMid: string (nullable = true)\n",
      " |-- TradeAtMid: string (nullable = true)\n",
      " |-- TradeAtMidAsk: string (nullable = true)\n",
      " |-- TradeAtAsk: string (nullable = true)\n",
      " |-- TradeAtCrossOrLocked: string (nullable = true)\n",
      " |-- Volume: string (nullable = true)\n",
      " |-- TotalTrades: string (nullable = true)\n",
      " |-- FinraVolume: string (nullable = true)\n",
      " |-- FinraVolumeWeightPrice: string (nullable = true)\n",
      " |-- UptickVolume: string (nullable = true)\n",
      " |-- DowntickVolume: string (nullable = true)\n",
      " |-- RepeatUptickVolume: string (nullable = true)\n",
      " |-- RepeatDowntickVolume: string (nullable = true)\n",
      " |-- UnknownTickVolume: string (nullable = true)\n",
      " |-- TradeToMidVolWeight: string (nullable = true)\n",
      " |-- TradeToMidVolWeightRelative: string (nullable = true)\n",
      " |-- TimeWeightBid: string (nullable = true)\n",
      " |-- TimeWeightAsk: string (nullable = true)"
     ]
    }
   ],
   "source": [
    "test.printSchema()"
   ]
  },
  {
   "cell_type": "code",
   "execution_count": 15,
   "id": "87d825a7-4f78-478f-a278-db53833e851a",
   "metadata": {
    "execution": {
     "iopub.execute_input": "2022-03-20T12:59:49.685282Z",
     "iopub.status.busy": "2022-03-20T12:59:49.685055Z",
     "iopub.status.idle": "2022-03-20T12:59:49.955537Z",
     "shell.execute_reply": "2022-03-20T12:59:49.954813Z",
     "shell.execute_reply.started": "2022-03-20T12:59:49.685256Z"
    },
    "tags": [],
    "vscode": {
     "languageId": "python"
    },
    "pycharm": {
     "name": "#%%\n"
    }
   },
   "outputs": [
    {
     "data": {
      "application/vnd.jupyter.widget-view+json": {
       "model_id": "cfcf0efd928848418164fe9ba25429c2",
       "version_major": 2,
       "version_minor": 0
      },
      "text/plain": [
       "VBox()"
      ]
     },
     "metadata": {},
     "output_type": "display_data"
    },
    {
     "data": {
      "application/vnd.jupyter.widget-view+json": {
       "model_id": "",
       "version_major": 2,
       "version_minor": 0
      },
      "text/plain": [
       "FloatProgress(value=0.0, bar_style='info', description='Progress:', layout=Layout(height='25px', width='50%'),…"
      ]
     },
     "metadata": {},
     "output_type": "display_data"
    },
    {
     "name": "stdout",
     "output_type": "stream",
     "text": [
      "root\n",
      " |-- Date: timestamp (nullable = true)\n",
      " |-- Ticker: string (nullable = true)\n",
      " |-- TimeBarStart: string (nullable = true)\n",
      " |-- OpenBarTime: string (nullable = true)\n",
      " |-- OpenBidPrice: string (nullable = true)\n",
      " |-- OpenBidSize: string (nullable = true)\n",
      " |-- OpenAskPrice: string (nullable = true)\n",
      " |-- OpenAskSize: string (nullable = true)\n",
      " |-- FirstTradeTime: string (nullable = true)\n",
      " |-- FirstTradePrice: string (nullable = true)\n",
      " |-- FirstTradeSize: string (nullable = true)\n",
      " |-- HighBidTime: string (nullable = true)\n",
      " |-- HighBidPrice: string (nullable = true)\n",
      " |-- HighBidSize: string (nullable = true)\n",
      " |-- HighAskTime: string (nullable = true)\n",
      " |-- HighAskPrice: string (nullable = true)\n",
      " |-- HighAskSize: string (nullable = true)\n",
      " |-- HighTradeTime: string (nullable = true)\n",
      " |-- HighTradePrice: string (nullable = true)\n",
      " |-- HighTradeSize: string (nullable = true)\n",
      " |-- LowBidTime: string (nullable = true)\n",
      " |-- LowBidPrice: string (nullable = true)\n",
      " |-- LowBidSize: string (nullable = true)\n",
      " |-- LowAskTime: string (nullable = true)\n",
      " |-- LowAskPrice: string (nullable = true)\n",
      " |-- LowAskSize: string (nullable = true)\n",
      " |-- LowTradeTime: string (nullable = true)\n",
      " |-- LowTradePrice: string (nullable = true)\n",
      " |-- LowTradeSize: string (nullable = true)\n",
      " |-- CloseBarTime: string (nullable = true)\n",
      " |-- CloseBidPrice: string (nullable = true)\n",
      " |-- CloseBidSize: string (nullable = true)\n",
      " |-- CloseAskPrice: string (nullable = true)\n",
      " |-- CloseAskSize: string (nullable = true)\n",
      " |-- LastTradeTime: string (nullable = true)\n",
      " |-- LastTradePrice: string (nullable = true)\n",
      " |-- LastTradeSize: string (nullable = true)\n",
      " |-- MinSpread: string (nullable = true)\n",
      " |-- MaxSpread: string (nullable = true)\n",
      " |-- CancelSize: string (nullable = true)\n",
      " |-- VolumeWeightPrice: string (nullable = true)\n",
      " |-- NBBOQuoteCount: string (nullable = true)\n",
      " |-- TradeAtBid: string (nullable = true)\n",
      " |-- TradeAtBidMid: string (nullable = true)\n",
      " |-- TradeAtMid: string (nullable = true)\n",
      " |-- TradeAtMidAsk: string (nullable = true)\n",
      " |-- TradeAtAsk: string (nullable = true)\n",
      " |-- TradeAtCrossOrLocked: string (nullable = true)\n",
      " |-- Volume: string (nullable = true)\n",
      " |-- TotalTrades: string (nullable = true)\n",
      " |-- FinraVolume: string (nullable = true)\n",
      " |-- FinraVolumeWeightPrice: string (nullable = true)\n",
      " |-- UptickVolume: string (nullable = true)\n",
      " |-- DowntickVolume: string (nullable = true)\n",
      " |-- RepeatUptickVolume: string (nullable = true)\n",
      " |-- RepeatDowntickVolume: string (nullable = true)\n",
      " |-- UnknownTickVolume: string (nullable = true)\n",
      " |-- TradeToMidVolWeight: string (nullable = true)\n",
      " |-- TradeToMidVolWeightRelative: string (nullable = true)\n",
      " |-- TimeWeightBid: string (nullable = true)\n",
      " |-- TimeWeightAsk: string (nullable = true)"
     ]
    }
   ],
   "source": [
    "from pyspark.sql.types import TimestampType\n",
    "test = test.withColumn('Date',test.Date.cast(TimestampType()))\n",
    "test.printSchema()"
   ]
  },
  {
   "cell_type": "code",
   "execution_count": 9,
   "id": "cefbca99-4811-4f08-aae4-28b634240862",
   "metadata": {
    "execution": {
     "iopub.execute_input": "2022-03-20T10:37:46.853241Z",
     "iopub.status.busy": "2022-03-20T10:37:46.853006Z",
     "iopub.status.idle": "2022-03-20T10:37:47.116891Z",
     "shell.execute_reply": "2022-03-20T10:37:47.116215Z",
     "shell.execute_reply.started": "2022-03-20T10:37:46.853217Z"
    },
    "tags": [],
    "vscode": {
     "languageId": "python"
    },
    "pycharm": {
     "name": "#%%\n"
    }
   },
   "outputs": [
    {
     "data": {
      "application/vnd.jupyter.widget-view+json": {
       "model_id": "4016a3278ba24a4dad78a95565744465",
       "version_major": 2,
       "version_minor": 0
      },
      "text/plain": [
       "VBox()"
      ]
     },
     "metadata": {},
     "output_type": "display_data"
    },
    {
     "data": {
      "application/vnd.jupyter.widget-view+json": {
       "model_id": "",
       "version_major": 2,
       "version_minor": 0
      },
      "text/plain": [
       "FloatProgress(value=0.0, bar_style='info', description='Progress:', layout=Layout(height='25px', width='50%'),…"
      ]
     },
     "metadata": {},
     "output_type": "display_data"
    },
    {
     "name": "stdout",
     "output_type": "stream",
     "text": [
      "root\n",
      " |-- Unnamed:_0: long (nullable = true)\n",
      " |-- DATE: timestamp (nullable = true)\n",
      " |-- SYM_ROOT: string (nullable = true)\n",
      " |-- SYM_SUFFIX: string (nullable = true)\n",
      " |-- BuyNumTrades_LR: double (nullable = true)\n",
      " |-- SellNumTrades_LR: double (nullable = true)\n",
      " |-- total_trade: double (nullable = true)\n",
      " |-- BuyVol_LR: double (nullable = true)\n",
      " |-- SellVol_LR: double (nullable = true)\n",
      " |-- total_vol: double (nullable = true)\n",
      " |-- avg_buy_price_LR: double (nullable = true)\n",
      " |-- avg_sell_price_LR: double (nullable = true)\n",
      " |-- buy_dv_LR: double (nullable = true)\n",
      " |-- sell_dv_LR: double (nullable = true)\n",
      " |-- total_dv_LR: double (nullable = true)\n",
      " |-- vwavg_buy_price_LR: double (nullable = true)\n",
      " |-- vwavg_sell_price_LR: double (nullable = true)\n",
      " |-- symbol: string (nullable = true)\n",
      " |-- CTime: double (nullable = true)\n",
      " |-- CEX: string (nullable = true)\n",
      " |-- CSize: double (nullable = true)\n",
      " |-- CPrc: double (nullable = true)\n",
      " |-- TR_SEQNUM_close: double (nullable = true)\n",
      " |-- C_official: double (nullable = true)\n",
      " |-- OTime: double (nullable = true)\n",
      " |-- OEX: string (nullable = true)\n",
      " |-- OSize: double (nullable = true)\n",
      " |-- OPrc: double (nullable = true)\n",
      " |-- TR_SEQNUM_open: double (nullable = true)\n",
      " |-- O_official: double (nullable = true)\n",
      " |-- size_1pm: double (nullable = true)\n",
      " |-- ttime_1pm: double (nullable = true)\n",
      " |-- ptime_1pm: double (nullable = true)\n",
      " |-- size_4pm: double (nullable = true)\n",
      " |-- ttime_4pm: double (nullable = true)\n",
      " |-- ptime_4pm: double (nullable = true)\n",
      " |-- stime_open: double (nullable = true)\n",
      " |-- ttime_open: double (nullable = true)\n",
      " |-- ptime_open: double (nullable = true)\n",
      " |-- stime_close: double (nullable = true)\n",
      " |-- ttime_close: double (nullable = true)\n",
      " |-- ptime_close: double (nullable = true)\n",
      " |-- nbbot_1pm: double (nullable = true)\n",
      " |-- nbo_1pm: double (nullable = true)\n",
      " |-- nbb_1pm: double (nullable = true)\n",
      " |-- nboqty_1pm: double (nullable = true)\n",
      " |-- nbbqty_1pm: double (nullable = true)\n",
      " |-- nbbot_4pm: double (nullable = true)\n",
      " |-- nbo_4pm: double (nullable = true)\n",
      " |-- nbb_4pm: double (nullable = true)\n",
      " |-- nboqty_4pm: double (nullable = true)\n",
      " |-- nbbqty_4pm: double (nullable = true)\n",
      " |-- nbbot_after_open: double (nullable = true)\n",
      " |-- nbo_after_open: double (nullable = true)\n",
      " |-- nbb_after_open: double (nullable = true)\n",
      " |-- nboqty_after_open: double (nullable = true)\n",
      " |-- nbbqty_after_open: double (nullable = true)\n",
      " |-- nbbot_before_close: double (nullable = true)\n",
      " |-- nbo_before_close: double (nullable = true)\n",
      " |-- nbb_before_close: double (nullable = true)\n",
      " |-- nboqty_before_close: double (nullable = true)\n",
      " |-- nbbqty_before_close: double (nullable = true)\n",
      " |-- mid_1pm: double (nullable = true)\n",
      " |-- mid_4pm: double (nullable = true)\n",
      " |-- mid_after_open: double (nullable = true)\n",
      " |-- mid_before_close: double (nullable = true)\n",
      " |-- price_low_m: double (nullable = true)\n",
      " |-- price_high_m: double (nullable = true)\n",
      " |-- avg_price_m: double (nullable = true)\n",
      " |-- total_vol_m: double (nullable = true)\n",
      " |-- total_dollar_m: double (nullable = true)\n",
      " |-- total_n_trades_m: double (nullable = true)\n",
      " |-- vw_price_m: double (nullable = true)\n",
      " |-- price_low_b: double (nullable = true)\n",
      " |-- price_high_b: double (nullable = true)\n",
      " |-- avg_price_b: double (nullable = true)\n",
      " |-- total_vol_b: double (nullable = true)\n",
      " |-- total_dollar_b: double (nullable = true)\n",
      " |-- total_n_trades_b: double (nullable = true)\n",
      " |-- vw_price_b: double (nullable = true)\n",
      " |-- price_low_a: double (nullable = true)\n",
      " |-- price_high_a: double (nullable = true)\n",
      " |-- avg_price_a: double (nullable = true)\n",
      " |-- total_vol_a: double (nullable = true)\n",
      " |-- total_dollar_a: double (nullable = true)\n",
      " |-- total_n_trades_a: double (nullable = true)\n",
      " |-- vw_price_a: double (nullable = true)\n",
      " |-- ret_mkt_m: double (nullable = true)\n",
      " |-- n_outside_nbbo_trade: double (nullable = true)\n",
      " |-- n_oddlot_trade: double (nullable = true)\n",
      " |-- oddlot_vol: double (nullable = true)\n",
      " |-- oddlot_dollar: double (nullable = true)\n",
      " |-- n_iso_trade: double (nullable = true)\n",
      " |-- iso_vol: double (nullable = true)\n",
      " |-- iso_dollar: double (nullable = true)\n",
      " |-- BuyNumTrades_tick: double (nullable = true)\n",
      " |-- BuyVol_tick: double (nullable = true)\n",
      " |-- buy_dv_tick: double (nullable = true)\n",
      " |-- avg_buy_price_tick: double (nullable = true)\n",
      " |-- SellNumTrades_tick: double (nullable = true)\n",
      " |-- SellVol_tick: double (nullable = true)\n",
      " |-- sell_dv_tick: double (nullable = true)\n",
      " |-- avg_sell_price_tick: double (nullable = true)\n",
      " |-- total_trade_tick: double (nullable = true)\n",
      " |-- total_vol_tick: double (nullable = true)\n",
      " |-- total_dv_tick: double (nullable = true)\n",
      " |-- vwavg_buy_price_tick: double (nullable = true)\n",
      " |-- vwavg_sell_price_tick: double (nullable = true)\n",
      " |-- BuyNumTrades_wrds: double (nullable = true)\n",
      " |-- BuyVol_wrds: double (nullable = true)\n",
      " |-- buy_dv_wrds: double (nullable = true)\n",
      " |-- avg_buy_price_wrds: double (nullable = true)\n",
      " |-- SellNumTrades_wrds: double (nullable = true)\n",
      " |-- SellVol_wrds: double (nullable = true)\n",
      " |-- sell_dv_wrds: double (nullable = true)\n",
      " |-- avg_sell_price_wrds: double (nullable = true)\n",
      " |-- total_trade_wrds: double (nullable = true)\n",
      " |-- total_vol_wrds: double (nullable = true)\n",
      " |-- total_dv_wrds: double (nullable = true)\n",
      " |-- vwavg_buy_price_wrds: double (nullable = true)\n",
      " |-- vwavg_sell_price_wrds: double (nullable = true)\n",
      " |-- QuotedSpread_Dollar_tw: double (nullable = true)\n",
      " |-- QuotedSpread_Percent_tw: double (nullable = true)\n",
      " |-- BestOfrDepth_Dollar_tw: double (nullable = true)\n",
      " |-- BestBidDepth_Dollar_tw: double (nullable = true)\n",
      " |-- BestOfrDepth_Share_tw: double (nullable = true)\n",
      " |-- BestBidDepth_Share_tw: double (nullable = true)\n",
      " |-- EffectiveSpread_Dollar_Ave: double (nullable = true)\n",
      " |-- EffectiveSpread_Percent_Ave: double (nullable = true)\n",
      " |-- EffectiveSpread_Dollar_DW: double (nullable = true)\n",
      " |-- EffectiveSpread_Dollar_SW: double (nullable = true)\n",
      " |-- EffectiveSpread_Percent_DW: double (nullable = true)\n",
      " |-- EffectiveSpread_Percent_SW: double (nullable = true)\n",
      " |-- DollarRealizedSpread_LR_Ave: double (nullable = true)\n",
      " |-- PercentRealizedSpread_LR_Ave: double (nullable = true)\n",
      " |-- DollarPriceImpact_LR_Ave: double (nullable = true)\n",
      " |-- PercentPriceImpact_LR_Ave: double (nullable = true)\n",
      " |-- DollarRealizedSpread_LR_SW: double (nullable = true)\n",
      " |-- DollarRealizedSpread_LR_DW: double (nullable = true)\n",
      " |-- PercentRealizedSpread_LR_SW: double (nullable = true)\n",
      " |-- PercentRealizedSpread_LR_DW: double (nullable = true)\n",
      " |-- DollarPriceImpact_LR_SW: double (nullable = true)\n",
      " |-- DollarPriceImpact_LR_DW: double (nullable = true)\n",
      " |-- PercentPriceImpact_LR_SW: double (nullable = true)\n",
      " |-- PercentPriceImpact_LR_DW: double (nullable = true)\n",
      " |-- ivol_t: double (nullable = true)\n",
      " |-- ivol_q: double (nullable = true)\n",
      " |-- bs_ratio_num: double (nullable = true)\n",
      " |-- bs_ratio_vol: double (nullable = true)\n",
      " |-- TSignSqrtDVol1: double (nullable = true)\n",
      " |-- TSignSqrtDVol2: double (nullable = true)\n",
      " |-- n_obs: double (nullable = true)\n",
      " |-- n5_pos: double (nullable = true)\n",
      " |-- n30_pos: double (nullable = true)\n",
      " |-- HIndex: double (nullable = true)\n",
      " |-- var_ratio1: double (nullable = true)\n",
      " |-- var_ratio2: double (nullable = true)\n",
      " |-- var_ratio3: double (nullable = true)\n",
      " |-- var_ratio4: double (nullable = true)\n",
      " |-- var_ratio5: double (nullable = true)\n",
      " |-- BuyNumTrades_Retail: double (nullable = true)\n",
      " |-- BuyVol_Retail: double (nullable = true)\n",
      " |-- buy_dv_Retail: double (nullable = true)\n",
      " |-- SellNumTrades_Retail: double (nullable = true)\n",
      " |-- SellVol_Retail: double (nullable = true)\n",
      " |-- sell_dv_Retail: double (nullable = true)\n",
      " |-- total_trade_retail: double (nullable = true)\n",
      " |-- total_vol_retail: double (nullable = true)\n",
      " |-- total_dv_retail: double (nullable = true)\n",
      " |-- avg_buy_price_Retail: double (nullable = true)\n",
      " |-- avg_sell_price_Retail: double (nullable = true)\n",
      " |-- bs_ratio_retail_num: double (nullable = true)\n",
      " |-- bs_ratio_retail_vol: double (nullable = true)\n",
      " |-- BuyNumTrades_Inst20k: double (nullable = true)\n",
      " |-- BuyVol_Inst20k: double (nullable = true)\n",
      " |-- buy_dv_Inst20k: double (nullable = true)\n",
      " |-- SellNumTrades_Inst20k: double (nullable = true)\n",
      " |-- SellVol_Inst20k: double (nullable = true)\n",
      " |-- sell_dv_Inst20k: double (nullable = true)\n",
      " |-- total_trade_Inst20k: double (nullable = true)\n",
      " |-- total_vol_Inst20k: double (nullable = true)\n",
      " |-- total_dv_Inst20k: double (nullable = true)\n",
      " |-- avg_buy_price_Inst20k: double (nullable = true)\n",
      " |-- avg_sell_price_Inst20k: double (nullable = true)\n",
      " |-- bs_ratio_Inst20k_num: double (nullable = true)\n",
      " |-- bs_ratio_Inst20k_vol: double (nullable = true)\n",
      " |-- BuyNumTrades_Inst50k: double (nullable = true)\n",
      " |-- BuyVol_Inst50k: double (nullable = true)\n",
      " |-- buy_dv_Inst50k: double (nullable = true)\n",
      " |-- SellNumTrades_Inst50k: double (nullable = true)\n",
      " |-- SellVol_Inst50k: double (nullable = true)\n",
      " |-- sell_dv_Inst50k: double (nullable = true)\n",
      " |-- total_trade_Inst50k: double (nullable = true)\n",
      " |-- total_vol_Inst50k: double (nullable = true)\n",
      " |-- total_dv_Inst50k: double (nullable = true)\n",
      " |-- avg_buy_price_Inst50k: double (nullable = true)\n",
      " |-- avg_sell_price_Inst50k: double (nullable = true)\n",
      " |-- bs_ratio_Inst50k_num: double (nullable = true)\n",
      " |-- bs_ratio_Inst50k_vol: double (nullable = true)"
     ]
    }
   ],
   "source": [
    "iid.printSchema()"
   ]
  },
  {
   "cell_type": "code",
   "execution_count": 10,
   "id": "8fae34d1-1a6b-4a82-a413-5fc802e60256",
   "metadata": {
    "execution": {
     "iopub.execute_input": "2022-03-20T12:37:05.634907Z",
     "iopub.status.busy": "2022-03-20T12:37:05.634584Z",
     "iopub.status.idle": "2022-03-20T12:37:27.002289Z",
     "shell.execute_reply": "2022-03-20T12:37:27.001551Z",
     "shell.execute_reply.started": "2022-03-20T12:37:05.634868Z"
    },
    "tags": [],
    "vscode": {
     "languageId": "python"
    },
    "pycharm": {
     "name": "#%%\n"
    }
   },
   "outputs": [
    {
     "data": {
      "application/vnd.jupyter.widget-view+json": {
       "model_id": "caae8e1db45041409177af15a98382be",
       "version_major": 2,
       "version_minor": 0
      },
      "text/plain": [
       "VBox()"
      ]
     },
     "metadata": {},
     "output_type": "display_data"
    },
    {
     "data": {
      "application/vnd.jupyter.widget-view+json": {
       "model_id": "",
       "version_major": 2,
       "version_minor": 0
      },
      "text/plain": [
       "FloatProgress(value=0.0, bar_style='info', description='Progress:', layout=Layout(height='25px', width='50%'),…"
      ]
     },
     "metadata": {},
     "output_type": "display_data"
    },
    {
     "name": "stdout",
     "output_type": "stream",
     "text": [
      "[Row(Unnamed:_0=0, gvkey='001000', permno=25881.0, adate=datetime.datetime(1969, 12, 31, 0, 0), qdate=datetime.datetime(1970, 9, 30, 0, 0), public_date=datetime.datetime(1971, 1, 31, 0, 0), CAPEI=10.949958757217487, BE=10.211, bm=0.427327892864616, evm=1.7614826752618853, pe_op_basic=None, pe_op_dil=None, pe_exi=12.676056338028172, pe_inc=13.43283582089552, ps=0.6494265369353699, pcf=-3.254119569658178, dpr=0.0, npm=0.05960210903951733, opmbd=0.1327556696619598, opmad=0.10512943945228924, gpm=0.32643346170303805, ptpm=0.10122486093281984, cfm=0.07670089858793322, roa=0.2866547323439395, roe=0.2871225160381787, roce=0.3409071199375596, efftax=0.5151915455746366, aftret_eq=0.2106223588167499, aftret_invcapx=0.592462311557789, aftret_equity=0.2106223588167499, pretret_noa=0.4831612586037365, pretret_earnat=0.2495873015873016, GProf=0.4251184173864586, equity_invcap=0.8760622633571729, debt_invcap=0.1239377366428271, totdebt_invcap=0.7424484644509887, capital_ratio=0.12393773664282708, int_debt=0.3680506685432794, int_totdebt=0.1017410757708394, cash_lt=0.06902329603805199, invt_act=0.512417696661661, rect_act=0.38367794848099795, debt_at=0.3045416550571189, debt_ebitda=1.7614826752618853, short_debt=0.8330689029918404, curr_debt=0.7556348305496999, lt_debt=0.07745527268796283, profit_lct=0.3550786838340487, ocf_lct=-0.525250357653791, cash_debt=-0.3968974650018917, fcf_ocf=None, lt_ppent=2.190245057416835, dltt_be=0.14147137917787167, debt_assets=0.6443647255502926, debt_capital=0.5564918987011859, de_ratio=1.8120470127326151, intcov=4.508604206500956, intcov_ratio=7.516252390057361, cash_ratio=0.09134477825464947, quick_ratio=0.603862660944206, curr_ratio=1.2384835479256078, cash_conversion=70.63393548830251, inv_turn=5.2198963730569945, at_turn=2.1592654616850497, rect_turn=10.278174821330404, pay_turn=13.858005413283365, sale_invcap=3.0958350862431634, sale_equity=3.5338071456012288, sale_nwc=11.21535692861428, rd_sale=0.0, adv_sale=0.0, staff_sale=0.0, accrual=-0.5299994225327712, ret_crsp=-0.10000000149011612, gsector=None, gicdesc=None, sp500=0.0, mktcap=23.895, price=9.0, ptb=2.340123396337283, PEG_trailing=None, divyield=None, FFI5_desc='MANUF', FFI5=2.0, FFI10_desc='MANUF', FFI10=3.0, FFI12_desc='MANUF', FFI12=3.0, FFI17_desc='DURBL', FFI17=5.0, FFI30_desc=None, FFI30=None, FFI38_desc='RUBBR', FFI38=16.0, FFI48_desc='RUBBR', FFI48=15.0, FFI49_desc='RUBBR', FFI49=15.0, dt=3925.0, TICKER=None, cusip=None), Row(Unnamed:_0=1, gvkey='001000', permno=25881.0, adate=datetime.datetime(1970, 12, 31, 0, 0), qdate=datetime.datetime(1970, 12, 31, 0, 0), public_date=datetime.datetime(1971, 2, 28, 0, 0), CAPEI=35.40742627667225, BE=10.544, bm=0.43107113654946855, evm=7.009840326773117, pe_op_basic=None, pe_op_dil=None, pe_exi=19.866071428571427, pe_inc=65.44117647058823, ps=0.6515247601191132, pcf=24.410640495867785, dpr=0.0, npm=0.04142494761222013, opmbd=0.11880445571853974, opmad=0.08898202271975295, gpm=0.32659093415683244, ptpm=0.07985000551450315, cfm=0.07124738061100695, roa=0.1732891477108201, roe=0.18096844133943624, roce=0.1885355081438553, efftax=0.4812154696132597, aftret_eq=0.1809771610291992, aftret_invcapx=0.2342837512882171, aftret_equity=0.18096844133943624, pretret_noa=0.3599696604649088, pretret_earnat=0.14410230763735085, GProf=0.4426307922272047, equity_invcap=0.9199895297094496, debt_invcap=0.08001047029055057, totdebt_invcap=1.1600209405811008, capital_ratio=0.08001047029055057, int_debt=0.7234042553191489, int_totdebt=0.0771359862062707, cash_lt=0.07247009517157077, invt_act=0.4776825441431315, rect_act=0.4174511732471548, debt_at=0.3974588938714499, debt_ebitda=2.468436687708875, short_debt=0.9310267017675818, curr_debt=0.8554527198114031, lt_debt=0.04003317907971711, profit_lct=0.2748660372544017, ocf_lct=0.061750446542485286, cash_debt=0.05282458744433769, fcf_ocf=-1.286776859504134, lt_ppent=2.5806669671022986, dltt_be=0.08696889226100153, debt_assets=0.6847832585949177, debt_capital=0.6479818382132007, de_ratio=2.17242033383915, intcov=3.209411764705882, intcov_ratio=4.745882352941177, cash_ratio=0.08471548864506252, quick_ratio=0.5691247767287573, curr_ratio=1.0896146976269456, cash_conversion=115.76576814362663, inv_turn=3.2016150175659384, at_turn=1.4586081528908337, rect_turn=5.828619182309077, pay_turn=6.257931440919359, sale_invcap=3.9555885175813623, sale_equity=4.299601669195751, sale_nwc=25.81719817767653, rd_sale=0.0, adv_sale=0.0, staff_sale=0.0, accrual=-0.02149222997973041, ret_crsp=0.2361111044883728, gsector=None, gicdesc=None, sp500=0.0, mktcap=29.536875, price=11.125, ptb=2.8012969461305004, PEG_trailing=None, divyield=None, FFI5_desc='MANUF', FFI5=2.0, FFI10_desc='MANUF', FFI10=3.0, FFI12_desc='MANUF', FFI12=3.0, FFI17_desc='DURBL', FFI17=5.0, FFI30_desc=None, FFI30=None, FFI38_desc='RUBBR', FFI38=16.0, FFI48_desc='RUBBR', FFI48=15.0, FFI49_desc='RUBBR', FFI49=15.0, dt=4017.0, TICKER='AE', cusip='00003210'), Row(Unnamed:_0=2, gvkey='001000', permno=25881.0, adate=datetime.datetime(1970, 12, 31, 0, 0), qdate=datetime.datetime(1970, 12, 31, 0, 0), public_date=datetime.datetime(1971, 3, 31, 0, 0), CAPEI=31.03122752337569, BE=10.544, bm=0.43107113654946855, evm=7.009840326773117, pe_op_basic=None, pe_op_dil=None, pe_exi=17.410714285714285, pe_inc=57.352941176470594, ps=0.5709992279695599, pcf=21.393595041322328, dpr=0.0, npm=0.04142494761222013, opmbd=0.11880445571853974, opmad=0.08898202271975295, gpm=0.32659093415683244, ptpm=0.07985000551450315, cfm=0.07124738061100695, roa=0.1732891477108201, roe=0.18096844133943624, roce=0.1885355081438553, efftax=0.4812154696132597, aftret_eq=0.1809771610291992, aftret_invcapx=0.2342837512882171, aftret_equity=0.18096844133943624, pretret_noa=0.3599696604649088, pretret_earnat=0.14410230763735085, GProf=0.4426307922272047, equity_invcap=0.9199895297094496, debt_invcap=0.08001047029055057, totdebt_invcap=1.1600209405811008, capital_ratio=0.08001047029055057, int_debt=0.7234042553191489, int_totdebt=0.0771359862062707, cash_lt=0.07247009517157077, invt_act=0.4776825441431315, rect_act=0.4174511732471548, debt_at=0.3974588938714499, debt_ebitda=2.468436687708875, short_debt=0.9310267017675818, curr_debt=0.8554527198114031, lt_debt=0.04003317907971711, profit_lct=0.2748660372544017, ocf_lct=0.061750446542485286, cash_debt=0.05282458744433769, fcf_ocf=-1.286776859504134, lt_ppent=2.5806669671022986, dltt_be=0.08696889226100153, debt_assets=0.6847832585949177, debt_capital=0.6479818382132007, de_ratio=2.17242033383915, intcov=3.209411764705882, intcov_ratio=4.745882352941177, cash_ratio=0.08471548864506252, quick_ratio=0.5691247767287573, curr_ratio=1.0896146976269456, cash_conversion=115.76576814362663, inv_turn=3.2016150175659384, at_turn=1.4586081528908337, rect_turn=5.828619182309077, pay_turn=6.257931440919359, sale_invcap=3.9555885175813623, sale_equity=4.299601669195751, sale_nwc=25.81719817767653, rd_sale=0.0, adv_sale=0.0, staff_sale=0.0, accrual=-0.02149222997973041, ret_crsp=-0.12359550595283507, gsector=None, gicdesc=None, sp500=0.0, mktcap=25.88625, price=9.75, ptb=2.4550692336874045, PEG_trailing=None, divyield=None, FFI5_desc='MANUF', FFI5=2.0, FFI10_desc='MANUF', FFI10=3.0, FFI12_desc='MANUF', FFI12=3.0, FFI17_desc='DURBL', FFI17=5.0, FFI30_desc=None, FFI30=None, FFI38_desc='RUBBR', FFI38=16.0, FFI48_desc='RUBBR', FFI48=15.0, FFI49_desc='RUBBR', FFI49=15.0, dt=4017.0, TICKER='AE', cusip='00003210'), Row(Unnamed:_0=3, gvkey='001000', permno=25881.0, adate=datetime.datetime(1970, 12, 31, 0, 0), qdate=datetime.datetime(1970, 12, 31, 0, 0), public_date=datetime.datetime(1971, 4, 30, 0, 0), CAPEI=34.2139175257732, BE=10.544, bm=0.43107113654946855, evm=7.009840326773117, pe_op_basic=None, pe_op_dil=None, pe_exi=19.19642857142857, pe_inc=63.235294117647044, ps=0.6295632513510533, pcf=23.58780991735539, dpr=0.0, npm=0.04142494761222013, opmbd=0.11880445571853974, opmad=0.08898202271975295, gpm=0.32659093415683244, ptpm=0.07985000551450315, cfm=0.07124738061100695, roa=0.1732891477108201, roe=0.18096844133943624, roce=0.1885355081438553, efftax=0.4812154696132597, aftret_eq=0.1809771610291992, aftret_invcapx=0.2342837512882171, aftret_equity=0.18096844133943624, pretret_noa=0.3599696604649088, pretret_earnat=0.14410230763735085, GProf=0.4426307922272047, equity_invcap=0.9199895297094496, debt_invcap=0.08001047029055057, totdebt_invcap=1.1600209405811008, capital_ratio=0.08001047029055057, int_debt=0.7234042553191489, int_totdebt=0.0771359862062707, cash_lt=0.07247009517157077, invt_act=0.4776825441431315, rect_act=0.4174511732471548, debt_at=0.3974588938714499, debt_ebitda=2.468436687708875, short_debt=0.9310267017675818, curr_debt=0.8554527198114031, lt_debt=0.04003317907971711, profit_lct=0.2748660372544017, ocf_lct=0.061750446542485286, cash_debt=0.05282458744433769, fcf_ocf=-1.286776859504134, lt_ppent=2.5806669671022986, dltt_be=0.08696889226100153, debt_assets=0.6847832585949177, debt_capital=0.6479818382132007, de_ratio=2.17242033383915, intcov=3.209411764705882, intcov_ratio=4.745882352941177, cash_ratio=0.08471548864506252, quick_ratio=0.5691247767287573, curr_ratio=1.0896146976269456, cash_conversion=115.76576814362663, inv_turn=3.2016150175659384, at_turn=1.4586081528908337, rect_turn=5.828619182309077, pay_turn=6.257931440919359, sale_invcap=3.9555885175813623, sale_equity=4.299601669195751, sale_nwc=25.81719817767653, rd_sale=0.0, adv_sale=0.0, staff_sale=0.0, accrual=-0.02149222997973041, ret_crsp=0.10256410390138626, gsector=None, gicdesc=None, sp500=0.0, mktcap=28.54125, price=10.75, ptb=2.7068712063732927, PEG_trailing=None, divyield=None, FFI5_desc='MANUF', FFI5=2.0, FFI10_desc='MANUF', FFI10=3.0, FFI12_desc='MANUF', FFI12=3.0, FFI17_desc='DURBL', FFI17=5.0, FFI30_desc=None, FFI30=None, FFI38_desc='RUBBR', FFI38=16.0, FFI48_desc='RUBBR', FFI48=15.0, FFI49_desc='RUBBR', FFI49=15.0, dt=4017.0, TICKER='AE', cusip='00003210'), Row(Unnamed:_0=4, gvkey='001000', permno=25881.0, adate=datetime.datetime(1970, 12, 31, 0, 0), qdate=datetime.datetime(1971, 3, 31, 0, 0), public_date=datetime.datetime(1971, 5, 31, 0, 0), CAPEI=11.306738026380756, BE=10.544, bm=0.43107113654946855, evm=7.009840326773117, pe_op_basic=None, pe_op_dil=None, pe_exi=20.535714285714285, pe_inc=50.735294117647065, ps=0.5794962799878529, pcf=18.92510330578514, dpr=0.0, npm=0.0364662415224213, opmbd=0.11880445571853974, opmad=0.08898202271975295, gpm=0.32659093415683244, ptpm=0.07985000551450315, cfm=0.07124738061100695, roa=0.1732891477108201, roe=0.13666540212443096, roce=0.1885355081438553, efftax=0.4812154696132597, aftret_eq=0.13666540212443096, aftret_invcapx=0.08297705261321002, aftret_equity=0.13666540212443096, pretret_noa=0.3599696604649088, pretret_earnat=0.14410230763735085, GProf=0.4426307922272047, equity_invcap=0.9199895297094496, debt_invcap=0.08001047029055057, totdebt_invcap=1.1600209405811008, capital_ratio=0.08001047029055057, int_debt=0.7234042553191489, int_totdebt=0.0771359862062707, cash_lt=0.07247009517157077, invt_act=0.4776825441431315, rect_act=0.4174511732471548, debt_at=0.3974588938714499, debt_ebitda=2.468436687708875, short_debt=0.9310267017675818, curr_debt=0.8554527198114031, lt_debt=0.04003317907971711, profit_lct=0.2748660372544017, ocf_lct=0.061750446542485286, cash_debt=0.05282458744433769, fcf_ocf=-1.286776859504134, lt_ppent=2.5806669671022986, dltt_be=0.08696889226100153, debt_assets=0.6847832585949177, debt_capital=0.6479818382132007, de_ratio=2.17242033383915, intcov=3.209411764705882, intcov_ratio=4.745882352941177, cash_ratio=0.08471548864506252, quick_ratio=0.5691247767287573, curr_ratio=1.0896146976269456, cash_conversion=115.76576814362663, inv_turn=3.2016150175659384, at_turn=1.4586081528908337, rect_turn=5.828619182309077, pay_turn=6.257931440919359, sale_invcap=3.447866678300324, sale_equity=3.747723823975721, sale_nwc=25.81719817767653, rd_sale=0.0, adv_sale=0.0, staff_sale=0.0, accrual=-0.02149222997973041, ret_crsp=-0.197674423456192, gsector=None, gicdesc=None, sp500=0.0, mktcap=22.899375, price=8.625, ptb=2.1717920144157814, PEG_trailing=None, divyield=None, FFI5_desc='MANUF', FFI5=2.0, FFI10_desc='MANUF', FFI10=3.0, FFI12_desc='MANUF', FFI12=3.0, FFI17_desc='DURBL', FFI17=5.0, FFI30_desc=None, FFI30=None, FFI38_desc='RUBBR', FFI38=16.0, FFI48_desc='RUBBR', FFI48=15.0, FFI49_desc='RUBBR', FFI49=15.0, dt=4107.0, TICKER='AE', cusip='00003210'), Row(Unnamed:_0=5, gvkey='001000', permno=25881.0, adate=datetime.datetime(1970, 12, 31, 0, 0), qdate=datetime.datetime(1971, 3, 31, 0, 0), public_date=datetime.datetime(1971, 6, 30, 0, 0), CAPEI=10.815140720885939, BE=10.544, bm=0.43107113654946855, evm=7.009840326773117, pe_op_basic=None, pe_op_dil=None, pe_exi=19.642857142857142, pe_inc=48.529411764705884, ps=0.5543007895535984, pcf=18.10227272727274, dpr=0.0, npm=0.0364662415224213, opmbd=0.11880445571853974, opmad=0.08898202271975295, gpm=0.32659093415683244, ptpm=0.07985000551450315, cfm=0.07124738061100695, roa=0.1732891477108201, roe=0.13666540212443096, roce=0.1885355081438553, efftax=0.4812154696132597, aftret_eq=0.13666540212443096, aftret_invcapx=0.08297705261321002, aftret_equity=0.13666540212443096, pretret_noa=0.3599696604649088, pretret_earnat=0.14410230763735085, GProf=0.4426307922272047, equity_invcap=0.9199895297094496, debt_invcap=0.08001047029055057, totdebt_invcap=1.1600209405811008, capital_ratio=0.08001047029055057, int_debt=0.7234042553191489, int_totdebt=0.0771359862062707, cash_lt=0.07247009517157077, invt_act=0.4776825441431315, rect_act=0.4174511732471548, debt_at=0.3974588938714499, debt_ebitda=2.468436687708875, short_debt=0.9310267017675818, curr_debt=0.8554527198114031, lt_debt=0.04003317907971711, profit_lct=0.2748660372544017, ocf_lct=0.061750446542485286, cash_debt=0.05282458744433769, fcf_ocf=-1.286776859504134, lt_ppent=2.5806669671022986, dltt_be=0.08696889226100153, debt_assets=0.6847832585949177, debt_capital=0.6479818382132007, de_ratio=2.17242033383915, intcov=3.209411764705882, intcov_ratio=4.745882352941177, cash_ratio=0.08471548864506252, quick_ratio=0.5691247767287573, curr_ratio=1.0896146976269456, cash_conversion=115.76576814362663, inv_turn=3.2016150175659384, at_turn=1.4586081528908337, rect_turn=5.828619182309077, pay_turn=6.257931440919359, sale_invcap=3.447866678300324, sale_equity=3.747723823975721, sale_nwc=25.81719817767653, rd_sale=0.0, adv_sale=0.0, staff_sale=0.0, accrual=-0.02149222997973041, ret_crsp=-0.04347826167941093, gsector=None, gicdesc=None, sp500=0.0, mktcap=21.90375, price=8.25, ptb=2.0773662746585733, PEG_trailing=None, divyield=None, FFI5_desc='MANUF', FFI5=2.0, FFI10_desc='MANUF', FFI10=3.0, FFI12_desc='MANUF', FFI12=3.0, FFI17_desc='DURBL', FFI17=5.0, FFI30_desc=None, FFI30=None, FFI38_desc='RUBBR', FFI38=16.0, FFI48_desc='RUBBR', FFI48=15.0, FFI49_desc='RUBBR', FFI49=15.0, dt=4107.0, TICKER='AE', cusip='00003210'), Row(Unnamed:_0=6, gvkey='001000', permno=25881.0, adate=datetime.datetime(1970, 12, 31, 0, 0), qdate=datetime.datetime(1971, 3, 31, 0, 0), public_date=datetime.datetime(1971, 7, 31, 0, 0), CAPEI=8.02942265641532, BE=10.544, bm=0.43107113654946855, evm=7.009840326773117, pe_op_basic=None, pe_op_dil=None, pe_exi=14.583333333333332, pe_inc=36.029411764705884, ps=0.41152634375948977, pcf=13.439566115702489, dpr=0.0, npm=0.0364662415224213, opmbd=0.11880445571853974, opmad=0.08898202271975295, gpm=0.32659093415683244, ptpm=0.07985000551450315, cfm=0.07124738061100695, roa=0.1732891477108201, roe=0.13666540212443096, roce=0.1885355081438553, efftax=0.4812154696132597, aftret_eq=0.13666540212443096, aftret_invcapx=0.08297705261321002, aftret_equity=0.13666540212443096, pretret_noa=0.3599696604649088, pretret_earnat=0.14410230763735085, GProf=0.4426307922272047, equity_invcap=0.9199895297094496, debt_invcap=0.08001047029055057, totdebt_invcap=1.1600209405811008, capital_ratio=0.08001047029055057, int_debt=0.7234042553191489, int_totdebt=0.0771359862062707, cash_lt=0.07247009517157077, invt_act=0.4776825441431315, rect_act=0.4174511732471548, debt_at=0.3974588938714499, debt_ebitda=2.468436687708875, short_debt=0.9310267017675818, curr_debt=0.8554527198114031, lt_debt=0.04003317907971711, profit_lct=0.2748660372544017, ocf_lct=0.061750446542485286, cash_debt=0.05282458744433769, fcf_ocf=-1.286776859504134, lt_ppent=2.5806669671022986, dltt_be=0.08696889226100153, debt_assets=0.6847832585949177, debt_capital=0.6479818382132007, de_ratio=2.17242033383915, intcov=3.209411764705882, intcov_ratio=4.745882352941177, cash_ratio=0.08471548864506252, quick_ratio=0.5691247767287573, curr_ratio=1.0896146976269456, cash_conversion=115.76576814362663, inv_turn=3.2016150175659384, at_turn=1.4586081528908337, rect_turn=5.828619182309077, pay_turn=6.257931440919359, sale_invcap=3.447866678300324, sale_equity=3.747723823975721, sale_nwc=25.81719817767653, rd_sale=0.0, adv_sale=0.0, staff_sale=0.0, accrual=-0.02149222997973041, ret_crsp=-0.2575757503509521, gsector=None, gicdesc=None, sp500=0.0, mktcap=16.261875, price=6.125, ptb=1.5422870827010622, PEG_trailing=None, divyield=None, FFI5_desc='MANUF', FFI5=2.0, FFI10_desc='MANUF', FFI10=3.0, FFI12_desc='MANUF', FFI12=3.0, FFI17_desc='DURBL', FFI17=5.0, FFI30_desc=None, FFI30=None, FFI38_desc='RUBBR', FFI38=16.0, FFI48_desc='RUBBR', FFI48=15.0, FFI49_desc='RUBBR', FFI49=15.0, dt=4107.0, TICKER='AE', cusip='00003210'), Row(Unnamed:_0=7, gvkey='001000', permno=25881.0, adate=datetime.datetime(1970, 12, 31, 0, 0), qdate=datetime.datetime(1971, 6, 30, 0, 0), public_date=datetime.datetime(1971, 8, 31, 0, 0), CAPEI=7.369151467089613, BE=10.544, bm=0.43107113654946855, evm=7.009840326773117, pe_op_basic=None, pe_op_dil=None, pe_exi=19.444444444444443, pe_inc=30.882352941176467, ps=0.35301380270988986, pcf=11.519628099173564, dpr=0.0, npm=0.02418639989869571, opmbd=0.11880445571853974, opmad=0.08898202271975295, gpm=0.32659093415683244, ptpm=0.07985000551450315, cfm=0.07124738061100695, roa=0.1732891477108201, roe=0.09057283763277693, roce=0.1885355081438553, efftax=0.4812154696132597, aftret_eq=0.09057283763277693, aftret_invcapx=0.08297705261321002, aftret_equity=0.09057283763277693, pretret_noa=0.3599696604649088, pretret_earnat=0.14410230763735085, GProf=0.4426307922272047, equity_invcap=0.9199895297094496, debt_invcap=0.08001047029055057, totdebt_invcap=1.1600209405811008, capital_ratio=0.08001047029055057, int_debt=0.7234042553191489, int_totdebt=0.0771359862062707, cash_lt=0.07247009517157077, invt_act=0.4776825441431315, rect_act=0.4174511732471548, debt_at=0.3974588938714499, debt_ebitda=2.468436687708875, short_debt=0.9310267017675818, curr_debt=0.8554527198114031, lt_debt=0.04003317907971711, profit_lct=0.2748660372544017, ocf_lct=0.061750446542485286, cash_debt=0.05282458744433769, fcf_ocf=-1.286776859504134, lt_ppent=2.5806669671022986, dltt_be=0.08696889226100153, debt_assets=0.6847832585949177, debt_capital=0.6479818382132007, de_ratio=2.17242033383915, intcov=3.209411764705882, intcov_ratio=4.745882352941177, cash_ratio=0.08471548864506252, quick_ratio=0.5691247767287573, curr_ratio=1.0896146976269456, cash_conversion=115.76576814362663, inv_turn=3.2016150175659384, at_turn=1.4586081528908337, rect_turn=5.828619182309077, pay_turn=6.257931440919359, sale_invcap=3.4451618532414274, sale_equity=3.7447837632776935, sale_nwc=25.81719817767653, rd_sale=0.0, adv_sale=0.0, staff_sale=0.0, accrual=-0.02149222997973041, ret_crsp=-0.1428571492433548, gsector=None, gicdesc=None, sp500=0.0, mktcap=13.93875, price=5.25, ptb=1.3219603566009104, PEG_trailing=None, divyield=None, FFI5_desc='MANUF', FFI5=2.0, FFI10_desc='MANUF', FFI10=3.0, FFI12_desc='MANUF', FFI12=3.0, FFI17_desc='DURBL', FFI17=5.0, FFI30_desc=None, FFI30=None, FFI38_desc='RUBBR', FFI38=16.0, FFI48_desc='RUBBR', FFI48=15.0, FFI49_desc='RUBBR', FFI49=15.0, dt=4198.0, TICKER='AE', cusip='00003210'), Row(Unnamed:_0=8, gvkey='001000', permno=25881.0, adate=datetime.datetime(1970, 12, 31, 0, 0), qdate=datetime.datetime(1971, 6, 30, 0, 0), public_date=datetime.datetime(1971, 9, 30, 0, 0), CAPEI=6.491871530531324, BE=10.544, bm=0.43107113654946855, evm=7.009840326773117, pe_op_basic=None, pe_op_dil=None, pe_exi=17.12962962962963, pe_inc=27.20588235294117, ps=0.3109883500063315, pcf=10.1482438016529, dpr=0.0, npm=0.02418639989869571, opmbd=0.11880445571853974, opmad=0.08898202271975295, gpm=0.32659093415683244, ptpm=0.07985000551450315, cfm=0.07124738061100695, roa=0.1732891477108201, roe=0.09057283763277693, roce=0.1885355081438553, efftax=0.4812154696132597, aftret_eq=0.09057283763277693, aftret_invcapx=0.08297705261321002, aftret_equity=0.09057283763277693, pretret_noa=0.3599696604649088, pretret_earnat=0.14410230763735085, GProf=0.4426307922272047, equity_invcap=0.9199895297094496, debt_invcap=0.08001047029055057, totdebt_invcap=1.1600209405811008, capital_ratio=0.08001047029055057, int_debt=0.7234042553191489, int_totdebt=0.0771359862062707, cash_lt=0.07247009517157077, invt_act=0.4776825441431315, rect_act=0.4174511732471548, debt_at=0.3974588938714499, debt_ebitda=2.468436687708875, short_debt=0.9310267017675818, curr_debt=0.8554527198114031, lt_debt=0.04003317907971711, profit_lct=0.2748660372544017, ocf_lct=0.061750446542485286, cash_debt=0.05282458744433769, fcf_ocf=-1.286776859504134, lt_ppent=2.5806669671022986, dltt_be=0.08696889226100153, debt_assets=0.6847832585949177, debt_capital=0.6479818382132007, de_ratio=2.17242033383915, intcov=3.209411764705882, intcov_ratio=4.745882352941177, cash_ratio=0.08471548864506252, quick_ratio=0.5691247767287573, curr_ratio=1.0896146976269456, cash_conversion=115.76576814362663, inv_turn=3.2016150175659384, at_turn=1.4586081528908337, rect_turn=5.828619182309077, pay_turn=6.257931440919359, sale_invcap=3.4451618532414274, sale_equity=3.7447837632776935, sale_nwc=25.81719817767653, rd_sale=0.0, adv_sale=0.0, staff_sale=0.0, accrual=-0.02149222997973041, ret_crsp=-0.1190476194024086, gsector=None, gicdesc=None, sp500=0.0, mktcap=12.279375, price=4.625, ptb=1.1645841236722303, PEG_trailing=None, divyield=None, FFI5_desc='MANUF', FFI5=2.0, FFI10_desc='MANUF', FFI10=3.0, FFI12_desc='MANUF', FFI12=3.0, FFI17_desc='DURBL', FFI17=5.0, FFI30_desc=None, FFI30=None, FFI38_desc='RUBBR', FFI38=16.0, FFI48_desc='RUBBR', FFI48=15.0, FFI49_desc='RUBBR', FFI49=15.0, dt=4198.0, TICKER='AE', cusip='00003210'), Row(Unnamed:_0=9, gvkey='001000', permno=25881.0, adate=datetime.datetime(1970, 12, 31, 0, 0), qdate=datetime.datetime(1971, 6, 30, 0, 0), public_date=datetime.datetime(1971, 10, 31, 0, 0), CAPEI=6.84278350515464, BE=10.544, bm=0.43107113654946855, evm=7.009840326773117, pe_op_basic=None, pe_op_dil=None, pe_exi=18.055555555555557, pe_inc=28.676470588235286, ps=0.3277985310877549, pcf=10.696797520661166, dpr=0.0, npm=0.02418639989869571, opmbd=0.11880445571853974, opmad=0.08898202271975295, gpm=0.32659093415683244, ptpm=0.07985000551450315, cfm=0.07124738061100695, roa=0.1732891477108201, roe=0.09057283763277693, roce=0.1885355081438553, efftax=0.4812154696132597, aftret_eq=0.09057283763277693, aftret_invcapx=0.08297705261321002, aftret_equity=0.09057283763277693, pretret_noa=0.3599696604649088, pretret_earnat=0.14410230763735085, GProf=0.4426307922272047, equity_invcap=0.9199895297094496, debt_invcap=0.08001047029055057, totdebt_invcap=1.1600209405811008, capital_ratio=0.08001047029055057, int_debt=0.7234042553191489, int_totdebt=0.0771359862062707, cash_lt=0.07247009517157077, invt_act=0.4776825441431315, rect_act=0.4174511732471548, debt_at=0.3974588938714499, debt_ebitda=2.468436687708875, short_debt=0.9310267017675818, curr_debt=0.8554527198114031, lt_debt=0.04003317907971711, profit_lct=0.2748660372544017, ocf_lct=0.061750446542485286, cash_debt=0.05282458744433769, fcf_ocf=-1.286776859504134, lt_ppent=2.5806669671022986, dltt_be=0.08696889226100153, debt_assets=0.6847832585949177, debt_capital=0.6479818382132007, de_ratio=2.17242033383915, intcov=3.209411764705882, intcov_ratio=4.745882352941177, cash_ratio=0.08471548864506252, quick_ratio=0.5691247767287573, curr_ratio=1.0896146976269456, cash_conversion=115.76576814362663, inv_turn=3.2016150175659384, at_turn=1.4586081528908337, rect_turn=5.828619182309077, pay_turn=6.257931440919359, sale_invcap=3.4451618532414274, sale_equity=3.7447837632776935, sale_nwc=25.81719817767653, rd_sale=0.0, adv_sale=0.0, staff_sale=0.0, accrual=-0.02149222997973041, ret_crsp=0.054054055362939835, gsector=None, gicdesc=None, sp500=0.0, mktcap=12.943125, price=4.875, ptb=1.2275346168437025, PEG_trailing=None, divyield=None, FFI5_desc='MANUF', FFI5=2.0, FFI10_desc='MANUF', FFI10=3.0, FFI12_desc='MANUF', FFI12=3.0, FFI17_desc='DURBL', FFI17=5.0, FFI30_desc=None, FFI30=None, FFI38_desc='RUBBR', FFI38=16.0, FFI48_desc='RUBBR', FFI48=15.0, FFI49_desc='RUBBR', FFI49=15.0, dt=4198.0, TICKER='AE', cusip='00003210')]"
     ]
    }
   ],
   "source": [
    "ratio.head(10)"
   ]
  },
  {
   "cell_type": "code",
   "execution_count": 19,
   "id": "aaea6bb7-dce5-45ce-8af7-8c9eefebba58",
   "metadata": {
    "execution": {
     "iopub.execute_input": "2022-03-20T13:06:49.669126Z",
     "iopub.status.busy": "2022-03-20T13:06:49.668875Z",
     "iopub.status.idle": "2022-03-20T13:06:49.934550Z",
     "shell.execute_reply": "2022-03-20T13:06:49.933945Z",
     "shell.execute_reply.started": "2022-03-20T13:06:49.669089Z"
    },
    "tags": [],
    "vscode": {
     "languageId": "python"
    },
    "pycharm": {
     "name": "#%%\n"
    }
   },
   "outputs": [
    {
     "data": {
      "application/vnd.jupyter.widget-view+json": {
       "model_id": "d7c4a440d545418bb1d12b84d9fa10bb",
       "version_major": 2,
       "version_minor": 0
      },
      "text/plain": [
       "VBox()"
      ]
     },
     "metadata": {},
     "output_type": "display_data"
    },
    {
     "data": {
      "application/vnd.jupyter.widget-view+json": {
       "model_id": "",
       "version_major": 2,
       "version_minor": 0
      },
      "text/plain": [
       "FloatProgress(value=0.0, bar_style='info', description='Progress:', layout=Layout(height='25px', width='50%'),…"
      ]
     },
     "metadata": {},
     "output_type": "display_data"
    }
   ],
   "source": [
    "full = test.join(iid,[test.Date==iid.DATE, test.Ticker==iid.symbol],'left')\n"
   ]
  },
  {
   "cell_type": "code",
   "execution_count": 12,
   "id": "b973683a-7475-4b56-82a8-17b8ee71db38",
   "metadata": {
    "execution": {
     "iopub.execute_input": "2022-03-20T12:42:22.686632Z",
     "iopub.status.busy": "2022-03-20T12:42:22.686411Z",
     "iopub.status.idle": "2022-03-20T12:42:22.944464Z",
     "shell.execute_reply": "2022-03-20T12:42:22.943741Z",
     "shell.execute_reply.started": "2022-03-20T12:42:22.686610Z"
    },
    "tags": [],
    "vscode": {
     "languageId": "python"
    },
    "pycharm": {
     "name": "#%%\n"
    }
   },
   "outputs": [
    {
     "data": {
      "application/vnd.jupyter.widget-view+json": {
       "model_id": "2f8af5c232c04bb180344249da8e9a3b",
       "version_major": 2,
       "version_minor": 0
      },
      "text/plain": [
       "VBox()"
      ]
     },
     "metadata": {},
     "output_type": "display_data"
    },
    {
     "data": {
      "application/vnd.jupyter.widget-view+json": {
       "model_id": "",
       "version_major": 2,
       "version_minor": 0
      },
      "text/plain": [
       "FloatProgress(value=0.0, bar_style='info', description='Progress:', layout=Layout(height='25px', width='50%'),…"
      ]
     },
     "metadata": {},
     "output_type": "display_data"
    },
    {
     "name": "stderr",
     "output_type": "stream",
     "text": [
      "An error was encountered:\n",
      "Reference 'Date' is ambiguous, could be: Date, Date.\n",
      "Traceback (most recent call last):\n",
      "  File \"/usr/lib/spark/python/lib/pyspark.zip/pyspark/sql/dataframe.py\", line 1647, in __getattr__\n",
      "    jc = self._jdf.apply(name)\n",
      "  File \"/usr/lib/spark/python/lib/py4j-0.10.9-src.zip/py4j/java_gateway.py\", line 1305, in __call__\n",
      "    answer, self.gateway_client, self.target_id, self.name)\n",
      "  File \"/usr/lib/spark/python/lib/pyspark.zip/pyspark/sql/utils.py\", line 117, in deco\n",
      "    raise converted from None\n",
      "pyspark.sql.utils.AnalysisException: Reference 'Date' is ambiguous, could be: Date, Date.\n",
      "\n"
     ]
    }
   ],
   "source": [
    "full = full.join(ratio,[full.Date==ratio.public_date, full.Ticker==ratio.TICKER],'inner')"
   ]
  },
  {
   "cell_type": "code",
   "execution_count": 17,
   "id": "051ebc29-68b0-4ab8-8a39-27a7a41ca424",
   "metadata": {
    "execution": {
     "iopub.execute_input": "2022-03-20T13:00:20.194599Z",
     "iopub.status.busy": "2022-03-20T13:00:20.194374Z",
     "iopub.status.idle": "2022-03-20T13:00:20.454608Z",
     "shell.execute_reply": "2022-03-20T13:00:20.453916Z",
     "shell.execute_reply.started": "2022-03-20T13:00:20.194576Z"
    },
    "vscode": {
     "languageId": "python"
    },
    "pycharm": {
     "name": "#%%\n"
    }
   },
   "outputs": [
    {
     "data": {
      "application/vnd.jupyter.widget-view+json": {
       "model_id": "9aa617504ea246e59cacb2b3a65a7c60",
       "version_major": 2,
       "version_minor": 0
      },
      "text/plain": [
       "VBox()"
      ]
     },
     "metadata": {},
     "output_type": "display_data"
    },
    {
     "data": {
      "application/vnd.jupyter.widget-view+json": {
       "model_id": "",
       "version_major": 2,
       "version_minor": 0
      },
      "text/plain": [
       "FloatProgress(value=0.0, bar_style='info', description='Progress:', layout=Layout(height='25px', width='50%'),…"
      ]
     },
     "metadata": {},
     "output_type": "display_data"
    },
    {
     "name": "stdout",
     "output_type": "stream",
     "text": [
      "root\n",
      " |-- Date: timestamp (nullable = true)\n",
      " |-- Ticker: string (nullable = true)\n",
      " |-- TimeBarStart: string (nullable = true)\n",
      " |-- OpenBarTime: string (nullable = true)\n",
      " |-- OpenBidPrice: string (nullable = true)\n",
      " |-- OpenBidSize: string (nullable = true)\n",
      " |-- OpenAskPrice: string (nullable = true)\n",
      " |-- OpenAskSize: string (nullable = true)\n",
      " |-- FirstTradeTime: string (nullable = true)\n",
      " |-- FirstTradePrice: string (nullable = true)\n",
      " |-- FirstTradeSize: string (nullable = true)\n",
      " |-- HighBidTime: string (nullable = true)\n",
      " |-- HighBidPrice: string (nullable = true)\n",
      " |-- HighBidSize: string (nullable = true)\n",
      " |-- HighAskTime: string (nullable = true)\n",
      " |-- HighAskPrice: string (nullable = true)\n",
      " |-- HighAskSize: string (nullable = true)\n",
      " |-- HighTradeTime: string (nullable = true)\n",
      " |-- HighTradePrice: string (nullable = true)\n",
      " |-- HighTradeSize: string (nullable = true)\n",
      " |-- LowBidTime: string (nullable = true)\n",
      " |-- LowBidPrice: string (nullable = true)\n",
      " |-- LowBidSize: string (nullable = true)\n",
      " |-- LowAskTime: string (nullable = true)\n",
      " |-- LowAskPrice: string (nullable = true)\n",
      " |-- LowAskSize: string (nullable = true)\n",
      " |-- LowTradeTime: string (nullable = true)\n",
      " |-- LowTradePrice: string (nullable = true)\n",
      " |-- LowTradeSize: string (nullable = true)\n",
      " |-- CloseBarTime: string (nullable = true)\n",
      " |-- CloseBidPrice: string (nullable = true)\n",
      " |-- CloseBidSize: string (nullable = true)\n",
      " |-- CloseAskPrice: string (nullable = true)\n",
      " |-- CloseAskSize: string (nullable = true)\n",
      " |-- LastTradeTime: string (nullable = true)\n",
      " |-- LastTradePrice: string (nullable = true)\n",
      " |-- LastTradeSize: string (nullable = true)\n",
      " |-- MinSpread: string (nullable = true)\n",
      " |-- MaxSpread: string (nullable = true)\n",
      " |-- CancelSize: string (nullable = true)\n",
      " |-- VolumeWeightPrice: string (nullable = true)\n",
      " |-- NBBOQuoteCount: string (nullable = true)\n",
      " |-- TradeAtBid: string (nullable = true)\n",
      " |-- TradeAtBidMid: string (nullable = true)\n",
      " |-- TradeAtMid: string (nullable = true)\n",
      " |-- TradeAtMidAsk: string (nullable = true)\n",
      " |-- TradeAtAsk: string (nullable = true)\n",
      " |-- TradeAtCrossOrLocked: string (nullable = true)\n",
      " |-- Volume: string (nullable = true)\n",
      " |-- TotalTrades: string (nullable = true)\n",
      " |-- FinraVolume: string (nullable = true)\n",
      " |-- FinraVolumeWeightPrice: string (nullable = true)\n",
      " |-- UptickVolume: string (nullable = true)\n",
      " |-- DowntickVolume: string (nullable = true)\n",
      " |-- RepeatUptickVolume: string (nullable = true)\n",
      " |-- RepeatDowntickVolume: string (nullable = true)\n",
      " |-- UnknownTickVolume: string (nullable = true)\n",
      " |-- TradeToMidVolWeight: string (nullable = true)\n",
      " |-- TradeToMidVolWeightRelative: string (nullable = true)\n",
      " |-- TimeWeightBid: string (nullable = true)\n",
      " |-- TimeWeightAsk: string (nullable = true)\n",
      " |-- Unnamed:_0: long (nullable = true)\n",
      " |-- DATE: timestamp (nullable = true)\n",
      " |-- SYM_ROOT: string (nullable = true)\n",
      " |-- SYM_SUFFIX: string (nullable = true)\n",
      " |-- BuyNumTrades_LR: double (nullable = true)\n",
      " |-- SellNumTrades_LR: double (nullable = true)\n",
      " |-- total_trade: double (nullable = true)\n",
      " |-- BuyVol_LR: double (nullable = true)\n",
      " |-- SellVol_LR: double (nullable = true)\n",
      " |-- total_vol: double (nullable = true)\n",
      " |-- avg_buy_price_LR: double (nullable = true)\n",
      " |-- avg_sell_price_LR: double (nullable = true)\n",
      " |-- buy_dv_LR: double (nullable = true)\n",
      " |-- sell_dv_LR: double (nullable = true)\n",
      " |-- total_dv_LR: double (nullable = true)\n",
      " |-- vwavg_buy_price_LR: double (nullable = true)\n",
      " |-- vwavg_sell_price_LR: double (nullable = true)\n",
      " |-- symbol: string (nullable = true)\n",
      " |-- CTime: double (nullable = true)\n",
      " |-- CEX: string (nullable = true)\n",
      " |-- CSize: double (nullable = true)\n",
      " |-- CPrc: double (nullable = true)\n",
      " |-- TR_SEQNUM_close: double (nullable = true)\n",
      " |-- C_official: double (nullable = true)\n",
      " |-- OTime: double (nullable = true)\n",
      " |-- OEX: string (nullable = true)\n",
      " |-- OSize: double (nullable = true)\n",
      " |-- OPrc: double (nullable = true)\n",
      " |-- TR_SEQNUM_open: double (nullable = true)\n",
      " |-- O_official: double (nullable = true)\n",
      " |-- size_1pm: double (nullable = true)\n",
      " |-- ttime_1pm: double (nullable = true)\n",
      " |-- ptime_1pm: double (nullable = true)\n",
      " |-- size_4pm: double (nullable = true)\n",
      " |-- ttime_4pm: double (nullable = true)\n",
      " |-- ptime_4pm: double (nullable = true)\n",
      " |-- stime_open: double (nullable = true)\n",
      " |-- ttime_open: double (nullable = true)\n",
      " |-- ptime_open: double (nullable = true)\n",
      " |-- stime_close: double (nullable = true)\n",
      " |-- ttime_close: double (nullable = true)\n",
      " |-- ptime_close: double (nullable = true)\n",
      " |-- nbbot_1pm: double (nullable = true)\n",
      " |-- nbo_1pm: double (nullable = true)\n",
      " |-- nbb_1pm: double (nullable = true)\n",
      " |-- nboqty_1pm: double (nullable = true)\n",
      " |-- nbbqty_1pm: double (nullable = true)\n",
      " |-- nbbot_4pm: double (nullable = true)\n",
      " |-- nbo_4pm: double (nullable = true)\n",
      " |-- nbb_4pm: double (nullable = true)\n",
      " |-- nboqty_4pm: double (nullable = true)\n",
      " |-- nbbqty_4pm: double (nullable = true)\n",
      " |-- nbbot_after_open: double (nullable = true)\n",
      " |-- nbo_after_open: double (nullable = true)\n",
      " |-- nbb_after_open: double (nullable = true)\n",
      " |-- nboqty_after_open: double (nullable = true)\n",
      " |-- nbbqty_after_open: double (nullable = true)\n",
      " |-- nbbot_before_close: double (nullable = true)\n",
      " |-- nbo_before_close: double (nullable = true)\n",
      " |-- nbb_before_close: double (nullable = true)\n",
      " |-- nboqty_before_close: double (nullable = true)\n",
      " |-- nbbqty_before_close: double (nullable = true)\n",
      " |-- mid_1pm: double (nullable = true)\n",
      " |-- mid_4pm: double (nullable = true)\n",
      " |-- mid_after_open: double (nullable = true)\n",
      " |-- mid_before_close: double (nullable = true)\n",
      " |-- price_low_m: double (nullable = true)\n",
      " |-- price_high_m: double (nullable = true)\n",
      " |-- avg_price_m: double (nullable = true)\n",
      " |-- total_vol_m: double (nullable = true)\n",
      " |-- total_dollar_m: double (nullable = true)\n",
      " |-- total_n_trades_m: double (nullable = true)\n",
      " |-- vw_price_m: double (nullable = true)\n",
      " |-- price_low_b: double (nullable = true)\n",
      " |-- price_high_b: double (nullable = true)\n",
      " |-- avg_price_b: double (nullable = true)\n",
      " |-- total_vol_b: double (nullable = true)\n",
      " |-- total_dollar_b: double (nullable = true)\n",
      " |-- total_n_trades_b: double (nullable = true)\n",
      " |-- vw_price_b: double (nullable = true)\n",
      " |-- price_low_a: double (nullable = true)\n",
      " |-- price_high_a: double (nullable = true)\n",
      " |-- avg_price_a: double (nullable = true)\n",
      " |-- total_vol_a: double (nullable = true)\n",
      " |-- total_dollar_a: double (nullable = true)\n",
      " |-- total_n_trades_a: double (nullable = true)\n",
      " |-- vw_price_a: double (nullable = true)\n",
      " |-- ret_mkt_m: double (nullable = true)\n",
      " |-- n_outside_nbbo_trade: double (nullable = true)\n",
      " |-- n_oddlot_trade: double (nullable = true)\n",
      " |-- oddlot_vol: double (nullable = true)\n",
      " |-- oddlot_dollar: double (nullable = true)\n",
      " |-- n_iso_trade: double (nullable = true)\n",
      " |-- iso_vol: double (nullable = true)\n",
      " |-- iso_dollar: double (nullable = true)\n",
      " |-- BuyNumTrades_tick: double (nullable = true)\n",
      " |-- BuyVol_tick: double (nullable = true)\n",
      " |-- buy_dv_tick: double (nullable = true)\n",
      " |-- avg_buy_price_tick: double (nullable = true)\n",
      " |-- SellNumTrades_tick: double (nullable = true)\n",
      " |-- SellVol_tick: double (nullable = true)\n",
      " |-- sell_dv_tick: double (nullable = true)\n",
      " |-- avg_sell_price_tick: double (nullable = true)\n",
      " |-- total_trade_tick: double (nullable = true)\n",
      " |-- total_vol_tick: double (nullable = true)\n",
      " |-- total_dv_tick: double (nullable = true)\n",
      " |-- vwavg_buy_price_tick: double (nullable = true)\n",
      " |-- vwavg_sell_price_tick: double (nullable = true)\n",
      " |-- BuyNumTrades_wrds: double (nullable = true)\n",
      " |-- BuyVol_wrds: double (nullable = true)\n",
      " |-- buy_dv_wrds: double (nullable = true)\n",
      " |-- avg_buy_price_wrds: double (nullable = true)\n",
      " |-- SellNumTrades_wrds: double (nullable = true)\n",
      " |-- SellVol_wrds: double (nullable = true)\n",
      " |-- sell_dv_wrds: double (nullable = true)\n",
      " |-- avg_sell_price_wrds: double (nullable = true)\n",
      " |-- total_trade_wrds: double (nullable = true)\n",
      " |-- total_vol_wrds: double (nullable = true)\n",
      " |-- total_dv_wrds: double (nullable = true)\n",
      " |-- vwavg_buy_price_wrds: double (nullable = true)\n",
      " |-- vwavg_sell_price_wrds: double (nullable = true)\n",
      " |-- QuotedSpread_Dollar_tw: double (nullable = true)\n",
      " |-- QuotedSpread_Percent_tw: double (nullable = true)\n",
      " |-- BestOfrDepth_Dollar_tw: double (nullable = true)\n",
      " |-- BestBidDepth_Dollar_tw: double (nullable = true)\n",
      " |-- BestOfrDepth_Share_tw: double (nullable = true)\n",
      " |-- BestBidDepth_Share_tw: double (nullable = true)\n",
      " |-- EffectiveSpread_Dollar_Ave: double (nullable = true)\n",
      " |-- EffectiveSpread_Percent_Ave: double (nullable = true)\n",
      " |-- EffectiveSpread_Dollar_DW: double (nullable = true)\n",
      " |-- EffectiveSpread_Dollar_SW: double (nullable = true)\n",
      " |-- EffectiveSpread_Percent_DW: double (nullable = true)\n",
      " |-- EffectiveSpread_Percent_SW: double (nullable = true)\n",
      " |-- DollarRealizedSpread_LR_Ave: double (nullable = true)\n",
      " |-- PercentRealizedSpread_LR_Ave: double (nullable = true)\n",
      " |-- DollarPriceImpact_LR_Ave: double (nullable = true)\n",
      " |-- PercentPriceImpact_LR_Ave: double (nullable = true)\n",
      " |-- DollarRealizedSpread_LR_SW: double (nullable = true)\n",
      " |-- DollarRealizedSpread_LR_DW: double (nullable = true)\n",
      " |-- PercentRealizedSpread_LR_SW: double (nullable = true)\n",
      " |-- PercentRealizedSpread_LR_DW: double (nullable = true)\n",
      " |-- DollarPriceImpact_LR_SW: double (nullable = true)\n",
      " |-- DollarPriceImpact_LR_DW: double (nullable = true)\n",
      " |-- PercentPriceImpact_LR_SW: double (nullable = true)\n",
      " |-- PercentPriceImpact_LR_DW: double (nullable = true)\n",
      " |-- ivol_t: double (nullable = true)\n",
      " |-- ivol_q: double (nullable = true)\n",
      " |-- bs_ratio_num: double (nullable = true)\n",
      " |-- bs_ratio_vol: double (nullable = true)\n",
      " |-- TSignSqrtDVol1: double (nullable = true)\n",
      " |-- TSignSqrtDVol2: double (nullable = true)\n",
      " |-- n_obs: double (nullable = true)\n",
      " |-- n5_pos: double (nullable = true)\n",
      " |-- n30_pos: double (nullable = true)\n",
      " |-- HIndex: double (nullable = true)\n",
      " |-- var_ratio1: double (nullable = true)\n",
      " |-- var_ratio2: double (nullable = true)\n",
      " |-- var_ratio3: double (nullable = true)\n",
      " |-- var_ratio4: double (nullable = true)\n",
      " |-- var_ratio5: double (nullable = true)\n",
      " |-- BuyNumTrades_Retail: double (nullable = true)\n",
      " |-- BuyVol_Retail: double (nullable = true)\n",
      " |-- buy_dv_Retail: double (nullable = true)\n",
      " |-- SellNumTrades_Retail: double (nullable = true)\n",
      " |-- SellVol_Retail: double (nullable = true)\n",
      " |-- sell_dv_Retail: double (nullable = true)\n",
      " |-- total_trade_retail: double (nullable = true)\n",
      " |-- total_vol_retail: double (nullable = true)\n",
      " |-- total_dv_retail: double (nullable = true)\n",
      " |-- avg_buy_price_Retail: double (nullable = true)\n",
      " |-- avg_sell_price_Retail: double (nullable = true)\n",
      " |-- bs_ratio_retail_num: double (nullable = true)\n",
      " |-- bs_ratio_retail_vol: double (nullable = true)\n",
      " |-- BuyNumTrades_Inst20k: double (nullable = true)\n",
      " |-- BuyVol_Inst20k: double (nullable = true)\n",
      " |-- buy_dv_Inst20k: double (nullable = true)\n",
      " |-- SellNumTrades_Inst20k: double (nullable = true)\n",
      " |-- SellVol_Inst20k: double (nullable = true)\n",
      " |-- sell_dv_Inst20k: double (nullable = true)\n",
      " |-- total_trade_Inst20k: double (nullable = true)\n",
      " |-- total_vol_Inst20k: double (nullable = true)\n",
      " |-- total_dv_Inst20k: double (nullable = true)\n",
      " |-- avg_buy_price_Inst20k: double (nullable = true)\n",
      " |-- avg_sell_price_Inst20k: double (nullable = true)\n",
      " |-- bs_ratio_Inst20k_num: double (nullable = true)\n",
      " |-- bs_ratio_Inst20k_vol: double (nullable = true)\n",
      " |-- BuyNumTrades_Inst50k: double (nullable = true)\n",
      " |-- BuyVol_Inst50k: double (nullable = true)\n",
      " |-- buy_dv_Inst50k: double (nullable = true)\n",
      " |-- SellNumTrades_Inst50k: double (nullable = true)\n",
      " |-- SellVol_Inst50k: double (nullable = true)\n",
      " |-- sell_dv_Inst50k: double (nullable = true)\n",
      " |-- total_trade_Inst50k: double (nullable = true)\n",
      " |-- total_vol_Inst50k: double (nullable = true)\n",
      " |-- total_dv_Inst50k: double (nullable = true)\n",
      " |-- avg_buy_price_Inst50k: double (nullable = true)\n",
      " |-- avg_sell_price_Inst50k: double (nullable = true)\n",
      " |-- bs_ratio_Inst50k_num: double (nullable = true)\n",
      " |-- bs_ratio_Inst50k_vol: double (nullable = true)"
     ]
    }
   ],
   "source": [
    "full.printSchema()"
   ]
  },
  {
   "cell_type": "code",
   "execution_count": null,
   "id": "6f2e07ad-a5bd-4c7d-86d3-5dd7f54c3755",
   "metadata": {
    "execution": {
     "iopub.execute_input": "2022-03-20T13:06:53.999842Z",
     "iopub.status.busy": "2022-03-20T13:06:53.999620Z"
    },
    "tags": [],
    "vscode": {
     "languageId": "python"
    },
    "pycharm": {
     "name": "#%%\n"
    }
   },
   "outputs": [
    {
     "data": {
      "application/vnd.jupyter.widget-view+json": {
       "model_id": "c27eff758c314e44b6104024edbd3799",
       "version_major": 2,
       "version_minor": 0
      },
      "text/plain": [
       "VBox()"
      ]
     },
     "metadata": {},
     "output_type": "display_data"
    },
    {
     "data": {
      "application/vnd.jupyter.widget-view+json": {
       "model_id": "b27a97c3595145bf8e243be027f574b5",
       "version_major": 2,
       "version_minor": 0
      },
      "text/plain": [
       "FloatProgress(value=0.0, bar_style='info', description='Progress:', layout=Layout(height='25px', width='50%'),…"
      ]
     },
     "metadata": {},
     "output_type": "display_data"
    }
   ],
   "source": [
    "full.head(5)"
   ]
  },
  {
   "cell_type": "code",
   "execution_count": 13,
   "id": "1fc020fe-1a1d-4d1e-8e1b-1ad3f73d8742",
   "metadata": {
    "execution": {
     "iopub.execute_input": "2022-03-20T10:43:45.533413Z",
     "iopub.status.busy": "2022-03-20T10:43:45.533089Z",
     "iopub.status.idle": "2022-03-20T10:45:55.167842Z",
     "shell.execute_reply": "2022-03-20T10:45:55.167193Z",
     "shell.execute_reply.started": "2022-03-20T10:43:45.533374Z"
    },
    "tags": [],
    "vscode": {
     "languageId": "python"
    },
    "pycharm": {
     "name": "#%%\n"
    }
   },
   "outputs": [
    {
     "data": {
      "application/vnd.jupyter.widget-view+json": {
       "model_id": "776e9d4afaaa40e7929852b3c6d90197",
       "version_major": 2,
       "version_minor": 0
      },
      "text/plain": [
       "VBox()"
      ]
     },
     "metadata": {},
     "output_type": "display_data"
    },
    {
     "data": {
      "application/vnd.jupyter.widget-view+json": {
       "model_id": "",
       "version_major": 2,
       "version_minor": 0
      },
      "text/plain": [
       "FloatProgress(value=0.0, bar_style='info', description='Progress:', layout=Layout(height='25px', width='50%'),…"
      ]
     },
     "metadata": {},
     "output_type": "display_data"
    }
   ],
   "source": [
    "full.head()"
   ]
  },
  {
   "cell_type": "code",
   "execution_count": null,
   "id": "1b8104f1-5265-43f5-9620-7252914341f1",
   "metadata": {
    "vscode": {
     "languageId": "python"
    },
    "pycharm": {
     "name": "#%%\n"
    }
   },
   "outputs": [],
   "source": []
  },
  {
   "cell_type": "code",
   "execution_count": 16,
   "id": "49cfd59c-ad5b-4f0b-93ea-3f6071350143",
   "metadata": {
    "execution": {
     "iopub.execute_input": "2022-03-20T10:55:10.283791Z",
     "iopub.status.busy": "2022-03-20T10:55:10.283543Z",
     "iopub.status.idle": "2022-03-20T10:55:11.057217Z",
     "shell.execute_reply": "2022-03-20T10:55:11.056539Z",
     "shell.execute_reply.started": "2022-03-20T10:55:10.283766Z"
    },
    "vscode": {
     "languageId": "python"
    },
    "pycharm": {
     "name": "#%%\n"
    }
   },
   "outputs": [
    {
     "data": {
      "application/vnd.jupyter.widget-view+json": {
       "model_id": "f61919eb3c8c4deb874d4f575c5f81ff",
       "version_major": 2,
       "version_minor": 0
      },
      "text/plain": [
       "VBox()"
      ]
     },
     "metadata": {},
     "output_type": "display_data"
    },
    {
     "data": {
      "application/vnd.jupyter.widget-view+json": {
       "model_id": "",
       "version_major": 2,
       "version_minor": 0
      },
      "text/plain": [
       "FloatProgress(value=0.0, bar_style='info', description='Progress:', layout=Layout(height='25px', width='50%'),…"
      ]
     },
     "metadata": {},
     "output_type": "display_data"
    }
   ],
   "source": [
    "import awswrangler as wr"
   ]
  },
  {
   "cell_type": "markdown",
   "id": "358c63dc-76d4-4fad-bfa4-bcb38afe5029",
   "metadata": {
    "pycharm": {
     "name": "#%% md\n"
    }
   },
   "source": [
    "# Scratch "
   ]
  },
  {
   "cell_type": "code",
   "execution_count": 14,
   "id": "411ac6e7-301f-4185-9ef5-78bcc793efff",
   "metadata": {
    "execution": {
     "iopub.execute_input": "2022-03-20T10:53:51.476101Z",
     "iopub.status.busy": "2022-03-20T10:53:51.475835Z",
     "iopub.status.idle": "2022-03-20T10:54:08.827802Z",
     "shell.execute_reply": "2022-03-20T10:54:08.827111Z",
     "shell.execute_reply.started": "2022-03-20T10:53:51.476075Z"
    },
    "vscode": {
     "languageId": "python"
    },
    "pycharm": {
     "name": "#%%\n"
    }
   },
   "outputs": [
    {
     "data": {
      "application/vnd.jupyter.widget-view+json": {
       "model_id": "a148df955b4b4e5da8c9a6164c2fe79d",
       "version_major": 2,
       "version_minor": 0
      },
      "text/plain": [
       "VBox()"
      ]
     },
     "metadata": {},
     "output_type": "display_data"
    },
    {
     "data": {
      "application/vnd.jupyter.widget-view+json": {
       "model_id": "",
       "version_major": 2,
       "version_minor": 0
      },
      "text/plain": [
       "FloatProgress(value=0.0, bar_style='info', description='Progress:', layout=Layout(height='25px', width='50%'),…"
      ]
     },
     "metadata": {},
     "output_type": "display_data"
    }
   ],
   "source": [
    "eqindex = spark.read.csv('s3://s3datalakeinventories/algoseek/us-equity-1min-taq/*.csv.gz')"
   ]
  },
  {
   "cell_type": "code",
   "execution_count": 17,
   "id": "2a0110ea-4a56-4e3e-8b98-c735fc48d0e7",
   "metadata": {
    "execution": {
     "iopub.execute_input": "2022-03-20T10:55:14.727347Z",
     "iopub.status.busy": "2022-03-20T10:55:14.727115Z",
     "iopub.status.idle": "2022-03-20T10:55:15.501979Z",
     "shell.execute_reply": "2022-03-20T10:55:15.501265Z",
     "shell.execute_reply.started": "2022-03-20T10:55:14.727322Z"
    },
    "tags": [],
    "vscode": {
     "languageId": "python"
    },
    "pycharm": {
     "name": "#%%\n"
    }
   },
   "outputs": [
    {
     "data": {
      "application/vnd.jupyter.widget-view+json": {
       "model_id": "91242d62cb4748e5bd47ab4fc96540d0",
       "version_major": 2,
       "version_minor": 0
      },
      "text/plain": [
       "VBox()"
      ]
     },
     "metadata": {},
     "output_type": "display_data"
    },
    {
     "data": {
      "application/vnd.jupyter.widget-view+json": {
       "model_id": "",
       "version_major": 2,
       "version_minor": 0
      },
      "text/plain": [
       "FloatProgress(value=0.0, bar_style='info', description='Progress:', layout=Layout(height='25px', width='50%'),…"
      ]
     },
     "metadata": {},
     "output_type": "display_data"
    }
   ],
   "source": [
    "nd100 = wr.s3.read_csv('s3://miscellaneousbucketfordatalake/nasdaq100names.csv')\n",
    "nd100files=nd100 + '.csv.gz'\n",
    "nd100list = nd100files['AAL'].values.tolist()"
   ]
  },
  {
   "cell_type": "code",
   "execution_count": 18,
   "id": "3a50b094-f4bb-4600-94bb-29b6ff602e23",
   "metadata": {
    "execution": {
     "iopub.execute_input": "2022-03-20T10:56:36.849095Z",
     "iopub.status.busy": "2022-03-20T10:56:36.848870Z",
     "iopub.status.idle": "2022-03-20T10:56:37.616595Z",
     "shell.execute_reply": "2022-03-20T10:56:37.615990Z",
     "shell.execute_reply.started": "2022-03-20T10:56:36.849071Z"
    },
    "vscode": {
     "languageId": "python"
    },
    "pycharm": {
     "name": "#%%\n"
    }
   },
   "outputs": [
    {
     "data": {
      "application/vnd.jupyter.widget-view+json": {
       "model_id": "ac7048e2de444153a171fbe0e6a6f73c",
       "version_major": 2,
       "version_minor": 0
      },
      "text/plain": [
       "VBox()"
      ]
     },
     "metadata": {},
     "output_type": "display_data"
    },
    {
     "data": {
      "application/vnd.jupyter.widget-view+json": {
       "model_id": "",
       "version_major": 2,
       "version_minor": 0
      },
      "text/plain": [
       "FloatProgress(value=0.0, bar_style='info', description='Progress:', layout=Layout(height='25px', width='50%'),…"
      ]
     },
     "metadata": {},
     "output_type": "display_data"
    }
   ],
   "source": [
    "fullnd100 = eqindex.filter(eqindex['_c2'].isin(nd100list))"
   ]
  },
  {
   "cell_type": "code",
   "execution_count": 19,
   "id": "6cd71083-f701-48a4-a787-a61098aa0196",
   "metadata": {
    "execution": {
     "iopub.execute_input": "2022-03-20T10:57:59.471519Z",
     "iopub.status.busy": "2022-03-20T10:57:59.471281Z",
     "iopub.status.idle": "2022-03-20T10:57:59.730054Z",
     "shell.execute_reply": "2022-03-20T10:57:59.729269Z",
     "shell.execute_reply.started": "2022-03-20T10:57:59.471494Z"
    },
    "vscode": {
     "languageId": "python"
    },
    "pycharm": {
     "name": "#%%\n"
    }
   },
   "outputs": [
    {
     "data": {
      "application/vnd.jupyter.widget-view+json": {
       "model_id": "c0b6fe80fa1b4cddaf21b88ed8308e4a",
       "version_major": 2,
       "version_minor": 0
      },
      "text/plain": [
       "VBox()"
      ]
     },
     "metadata": {},
     "output_type": "display_data"
    },
    {
     "data": {
      "application/vnd.jupyter.widget-view+json": {
       "model_id": "",
       "version_major": 2,
       "version_minor": 0
      },
      "text/plain": [
       "FloatProgress(value=0.0, bar_style='info', description='Progress:', layout=Layout(height='25px', width='50%'),…"
      ]
     },
     "metadata": {},
     "output_type": "display_data"
    }
   ],
   "source": [
    "from pyspark.sql.types import IntegerType\n",
    "\n",
    "fullnd100 = fullnd100.withColumn('compressed', fullnd100['_c3'].cast(IntegerType()))\n",
    "fullnd100 = fullnd100.withColumn('uncompressed', fullnd100['_c4'].cast(IntegerType()))"
   ]
  },
  {
   "cell_type": "code",
   "execution_count": 21,
   "id": "cd840dd4-3c6f-4a23-80a2-3fbf8b275ed2",
   "metadata": {
    "execution": {
     "iopub.execute_input": "2022-03-20T10:58:39.045311Z",
     "iopub.status.busy": "2022-03-20T10:58:39.045088Z",
     "iopub.status.idle": "2022-03-20T10:58:39.100915Z",
     "shell.execute_reply": "2022-03-20T10:58:39.100064Z",
     "shell.execute_reply.started": "2022-03-20T10:58:39.045288Z"
    },
    "tags": [],
    "vscode": {
     "languageId": "python"
    },
    "pycharm": {
     "name": "#%%\n"
    }
   },
   "outputs": [
    {
     "data": {
      "application/vnd.jupyter.widget-view+json": {
       "model_id": "18252a9e3b664f43a9c82314afb9f0a6",
       "version_major": 2,
       "version_minor": 0
      },
      "text/plain": [
       "VBox()"
      ]
     },
     "metadata": {},
     "output_type": "display_data"
    },
    {
     "data": {
      "application/vnd.jupyter.widget-view+json": {
       "model_id": "",
       "version_major": 2,
       "version_minor": 0
      },
      "text/plain": [
       "FloatProgress(value=0.0, bar_style='info', description='Progress:', layout=Layout(height='25px', width='50%'),…"
      ]
     },
     "metadata": {},
     "output_type": "display_data"
    }
   ],
   "source": [
    "fullnd100 = fullnd100.drop(\"_c3\",\"_c4\")"
   ]
  },
  {
   "cell_type": "code",
   "execution_count": 22,
   "id": "b4dc9f45-2489-4513-8dba-e9d7572d9a6f",
   "metadata": {
    "execution": {
     "iopub.execute_input": "2022-03-20T11:05:06.894015Z",
     "iopub.status.busy": "2022-03-20T11:05:06.893792Z",
     "iopub.status.idle": "2022-03-20T11:06:00.317165Z",
     "shell.execute_reply": "2022-03-20T11:06:00.316545Z",
     "shell.execute_reply.started": "2022-03-20T11:05:06.893991Z"
    },
    "vscode": {
     "languageId": "python"
    },
    "pycharm": {
     "name": "#%%\n"
    }
   },
   "outputs": [
    {
     "data": {
      "application/vnd.jupyter.widget-view+json": {
       "model_id": "984e8843d51b4e3c8b239c51a178ae70",
       "version_major": 2,
       "version_minor": 0
      },
      "text/plain": [
       "VBox()"
      ]
     },
     "metadata": {},
     "output_type": "display_data"
    },
    {
     "data": {
      "application/vnd.jupyter.widget-view+json": {
       "model_id": "",
       "version_major": 2,
       "version_minor": 0
      },
      "text/plain": [
       "FloatProgress(value=0.0, bar_style='info', description='Progress:', layout=Layout(height='25px', width='50%'),…"
      ]
     },
     "metadata": {},
     "output_type": "display_data"
    },
    {
     "name": "stdout",
     "output_type": "stream",
     "text": [
      "{'paths': ['s3://miscellaneousbucketfordatalake/nasdaq100files2017.csv'], 'partitions_values': {}}"
     ]
    }
   ],
   "source": [
    "nd1002020 = fullnd100.filter(fullnd100['_c0'] == 'us-equity-1min-taq-2020')\n",
    "nd1002019 = fullnd100.filter(fullnd100['_c0'] == 'us-equity-1min-taq-2019')\n",
    "nd1002018 = fullnd100.filter(fullnd100['_c0'] == 'us-equity-1min-taq-2018')\n",
    "nd1002017 = fullnd100.filter(fullnd100['_c0'] == 'us-equity-1min-taq-2017')\n",
    "\n",
    "pd2020 = nd1002020.toPandas()\n",
    "pd2019 = nd1002019.toPandas()\n",
    "pd2018 = nd1002018.toPandas()\n",
    "pd2017 = nd1002017.toPandas()\n",
    "\n",
    "wr.s3.to_csv(pd2020, 's3://miscellaneousbucketfordatalake/nasdaq100files2020.csv',index=False)\n",
    "wr.s3.to_csv(pd2019, 's3://miscellaneousbucketfordatalake/nasdaq100files2019.csv',index=False)\n",
    "wr.s3.to_csv(pd2018, 's3://miscellaneousbucketfordatalake/nasdaq100files2018.csv',index=False)\n",
    "wr.s3.to_csv(pd2017, 's3://miscellaneousbucketfordatalake/nasdaq100files2017.csv',index=False)\n"
   ]
  }
 ],
 "metadata": {
  "kernelspec": {
   "display_name": "PySpark",
   "language": "",
   "name": "pysparkkernel"
  },
  "language_info": {
   "codemirror_mode": {
    "name": "python",
    "version": 3
   },
   "mimetype": "text/x-python",
   "name": "pyspark",
   "pygments_lexer": "python3"
  }
 },
 "nbformat": 4,
 "nbformat_minor": 5
}