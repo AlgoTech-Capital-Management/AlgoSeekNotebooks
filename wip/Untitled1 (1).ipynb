{
 "cells": [
  {
   "cell_type": "code",
   "execution_count": 28,
   "id": "79cf4d6a-a880-4957-9803-2d631b071c5d",
   "metadata": {
    "execution": {
     "iopub.execute_input": "2022-03-20T13:51:44.169250Z",
     "iopub.status.busy": "2022-03-20T13:51:44.169024Z",
     "iopub.status.idle": "2022-03-20T13:51:44.251361Z",
     "shell.execute_reply": "2022-03-20T13:51:44.250635Z",
     "shell.execute_reply.started": "2022-03-20T13:51:44.169225Z"
    },
    "tags": []
   },
   "outputs": [
    {
     "data": {
      "application/vnd.jupyter.widget-view+json": {
       "model_id": "52198d5b8a944579bacde6a8720e8431",
       "version_major": 2,
       "version_minor": 0
      },
      "text/plain": [
       "VBox()"
      ]
     },
     "metadata": {},
     "output_type": "display_data"
    },
    {
     "data": {
      "application/vnd.jupyter.widget-view+json": {
       "model_id": "",
       "version_major": 2,
       "version_minor": 0
      },
      "text/plain": [
       "FloatProgress(value=0.0, bar_style='info', description='Progress:', layout=Layout(height='25px', width='50%'),…"
      ]
     },
     "metadata": {},
     "output_type": "display_data"
    }
   ],
   "source": [
    "import backtrader.indicators as btind\n",
    "import backtrader as bt\n",
    "import datetime\n",
    "import os\n",
    "import sys\n",
    "from datetime import datetime\n",
    "\n",
    "import backtrader as bt\n",
    "import backtrader.feeds as btfeeds\n",
    "import backtrader.analyzers as btanalyzers\n",
    "from backtrader.feed import DataBase\n",
    "from backtrader import date2num\n",
    "from backtrader import TimeFrame\n",
    "import os\n",
    "import pytz\n",
    "from pytz import timezone\n",
    "import json\n",
    "import time\n",
    "import itertools\n",
    "import datetime\n",
    "\n",
    "import pandas as pd\n",
    "\n",
    "import sys\n",
    "import os\n",
    "#import boto3\n",
    "from pyspark import SparkConf, SparkContext\n",
    "from pyspark.sql import SparkSession\n",
    "from pyspark.sql.types import StructType\n",
    "from pyspark.sql.functions import *\n",
    "from pyspark.sql.types import TimestampType\n",
    "from pyspark.sql.window import Window\n",
    "from pyspark.sql.types import *"
   ]
  },
  {
   "cell_type": "code",
   "execution_count": 2,
   "id": "92ed7def-a033-4bdb-99dc-9273c91a07de",
   "metadata": {
    "execution": {
     "iopub.execute_input": "2022-03-20T12:24:22.643756Z",
     "iopub.status.busy": "2022-03-20T12:24:22.643535Z",
     "iopub.status.idle": "2022-03-20T12:24:31.952101Z",
     "shell.execute_reply": "2022-03-20T12:24:31.951349Z",
     "shell.execute_reply.started": "2022-03-20T12:24:22.643732Z"
    },
    "tags": []
   },
   "outputs": [
    {
     "data": {
      "application/vnd.jupyter.widget-view+json": {
       "model_id": "5d94f13aaa5d4463b7c7cd030d56b611",
       "version_major": 2,
       "version_minor": 0
      },
      "text/plain": [
       "VBox()"
      ]
     },
     "metadata": {},
     "output_type": "display_data"
    },
    {
     "data": {
      "application/vnd.jupyter.widget-view+json": {
       "model_id": "",
       "version_major": 2,
       "version_minor": 0
      },
      "text/plain": [
       "FloatProgress(value=0.0, bar_style='info', description='Progress:', layout=Layout(height='25px', width='50%'),…"
      ]
     },
     "metadata": {},
     "output_type": "display_data"
    },
    {
     "name": "stdout",
     "output_type": "stream",
     "text": [
      "Collecting backtrader\n",
      "  Using cached https://files.pythonhosted.org/packages/1a/bf/78aadd993e2719d6764603465fde163ba6ec15cf0e81f13e39ca13451348/backtrader-1.9.76.123-py2.py3-none-any.whl\n",
      "Installing collected packages: backtrader\n",
      "Successfully installed backtrader-1.9.76.123\n",
      "\n",
      "Requirement already satisfied: awswrangler in /usr/local/lib/python3.7/site-packages\n",
      "Requirement already satisfied: pymysql<1.1.0,>=0.9.0 in /usr/local/lib/python3.7/site-packages (from awswrangler)\n",
      "Requirement already satisfied: redshift-connector<2.1.0,>=2.0.889 in /usr/local/lib64/python3.7/site-packages (from awswrangler)\n",
      "Requirement already satisfied: opensearch-py<2.0.0,>=1.0.0 in /usr/local/lib/python3.7/site-packages (from awswrangler)\n",
      "Requirement already satisfied: progressbar2<4.0.0,>=3.53.3 in /usr/local/lib/python3.7/site-packages (from awswrangler)\n",
      "Requirement already satisfied: botocore<2.0.0,>=1.23.17 in /usr/local/lib/python3.7/site-packages (from awswrangler)\n",
      "Requirement already satisfied: jsonpath-ng<2.0.0,>=1.5.3 in /usr/local/lib/python3.7/site-packages (from awswrangler)\n",
      "Requirement already satisfied: boto3<2.0.0,>=1.20.17 in /usr/local/lib/python3.7/site-packages (from awswrangler)\n",
      "Requirement already satisfied: openpyxl<3.1.0,>=3.0.0 in /usr/local/lib/python3.7/site-packages (from awswrangler)\n",
      "Requirement already satisfied: pandas<1.4.0,>=1.2.0; python_full_version >= \"3.7.1\" and python_full_version < \"4.0.0\" in /usr/local/lib64/python3.7/site-packages (from awswrangler)\n",
      "Requirement already satisfied: pg8000<1.23.0,>=1.16.0 in /usr/local/lib/python3.7/site-packages (from awswrangler)\n",
      "Collecting pyarrow<6.1.0,>=2.0.0 (from awswrangler)\n",
      "  Using cached https://files.pythonhosted.org/packages/38/c6/97a4133eea642155e7a73cb946d889cadc461a1e6b93f5627af9fdd7b3f3/pyarrow-6.0.1.tar.gz\n",
      "    Complete output from command python setup.py egg_info:\n",
      "    Traceback (most recent call last):\n",
      "      File \"<string>\", line 1, in <module>\n",
      "      File \"/mnt/tmp/pip-build-0j6eemsr/pyarrow/setup.py\", line 39, in <module>\n",
      "        from Cython.Distutils import build_ext as _build_ext\n",
      "    ModuleNotFoundError: No module named 'Cython'\n",
      "    \n",
      "    ----------------------------------------\n",
      "\n",
      "You are using pip version 9.0.1, however version 22.0.4 is available.\n",
      "You should consider upgrading via the 'pip install --upgrade pip' command.\n",
      "\n",
      "Command \"python setup.py egg_info\" failed with error code 1 in /mnt/tmp/pip-build-0j6eemsr/pyarrow/\n",
      "You are using pip version 9.0.1, however version 22.0.4 is available.\n",
      "You should consider upgrading via the 'pip install --upgrade pip' command."
     ]
    }
   ],
   "source": [
    "sc.install_pypi_package('backtrader')\n",
    "sc.install_pypi_package('awswrangler')"
   ]
  },
  {
   "cell_type": "code",
   "execution_count": 43,
   "id": "0826c12a-23e5-407d-bf9a-c17fbbde5e9a",
   "metadata": {
    "execution": {
     "iopub.execute_input": "2022-03-20T15:07:34.692918Z",
     "iopub.status.busy": "2022-03-20T15:07:34.692692Z",
     "iopub.status.idle": "2022-03-20T15:07:34.746970Z",
     "shell.execute_reply": "2022-03-20T15:07:34.746423Z",
     "shell.execute_reply.started": "2022-03-20T15:07:34.692895Z"
    },
    "tags": []
   },
   "outputs": [
    {
     "data": {
      "application/vnd.jupyter.widget-view+json": {
       "model_id": "981c60d68c4043e38d2f494c398279f2",
       "version_major": 2,
       "version_minor": 0
      },
      "text/plain": [
       "VBox()"
      ]
     },
     "metadata": {},
     "output_type": "display_data"
    },
    {
     "data": {
      "application/vnd.jupyter.widget-view+json": {
       "model_id": "",
       "version_major": 2,
       "version_minor": 0
      },
      "text/plain": [
       "FloatProgress(value=0.0, bar_style='info', description='Progress:', layout=Layout(height='25px', width='50%'),…"
      ]
     },
     "metadata": {},
     "output_type": "display_data"
    }
   ],
   "source": [
    "taq_1min_schema = StructType([\n",
    " StructField(\"Date\", DateType(),False), \\\n",
    " StructField(\"Ticker\", StringType(),False), \\\n",
    " StructField(\"TimeBarStart\", TimestampType(),False), \\\n",
    " StructField(\"OpenBarTime\", TimestampType(),False), \\\n",
    " StructField(\"OpenBidPrice\", DoubleType(),False), \\\n",
    " StructField(\"OpenBidSize\", DoubleType(),False), \\\n",
    " StructField(\"OpenAskPrice\", DoubleType(),False), \\\n",
    " StructField(\"OpenAskSize\", DoubleType(),False), \\\n",
    " StructField(\"FirstTradeTime\", TimestampType(),True), \\\n",
    " StructField(\"FirstTradePrice\", DoubleType(),True), \\\n",
    " StructField(\"FirstTradeSize\", DoubleType(),True), \\\n",
    " StructField(\"HighBidTime\", TimestampType(),False), \\\n",
    " StructField(\"HighBidPrice\", DoubleType(),False), \\\n",
    " StructField(\"HighBidSize\", DoubleType(),False), \\\n",
    " StructField(\"HighAskTime\", TimestampType(),False), \\\n",
    " StructField(\"HighAskPrice\", DoubleType(),False), \\\n",
    " StructField(\"HighAskSize\", DoubleType(),False), \\\n",
    " StructField(\"HighTradeTime\", TimestampType(),True), \\\n",
    " StructField(\"HighTradePrice\", DoubleType(),True), \\\n",
    " StructField(\"HighTradeSize\", DoubleType(),True), \\\n",
    " StructField(\"LowBidTime\", TimestampType(),False), \\\n",
    " StructField(\"LowBidPrice\", DoubleType(),False), \\\n",
    " StructField(\"LowBidSize\", DoubleType(),False), \\\n",
    " StructField(\"LowAskTime\", TimestampType(),False), \\\n",
    " StructField(\"LowAskPrice\", DoubleType(),False), \\\n",
    " StructField(\"LowAskSize\", DoubleType(),False), \\\n",
    " StructField(\"LowTradeTime\", TimestampType(),True), \\\n",
    " StructField(\"LowTradePrice\", DoubleType(),True), \\\n",
    " StructField(\"LowTradeSize\", DoubleType(),True), \\\n",
    " StructField(\"CloseBarTime\", TimestampType(),False), \\\n",
    " StructField(\"CloseBidPrice\", DoubleType(),False), \\\n",
    " StructField(\"CloseBidSize\", DoubleType(),False), \\\n",
    " StructField(\"CloseAskPrice\", DoubleType(),False), \\\n",
    " StructField(\"CloseAskSize\", DoubleType(),False), \\\n",
    " StructField(\"LastTradeTime\", TimestampType(),True), \\\n",
    " StructField(\"LastTradePrice\", DoubleType(),True), \\\n",
    " StructField(\"LastTradeSize\", DoubleType(),True), \\\n",
    " StructField(\"MinSpread\", DoubleType(),False), \\\n",
    " StructField(\"MaxSpread\", DoubleType(),False), \\\n",
    " StructField(\"CancelSize\", DoubleType(),True), \\\n",
    " StructField(\"VolumeWeightPrice\", DoubleType(),True), \\\n",
    " StructField(\"NBBOQuoteCount\", DoubleType(),True), \\\n",
    " StructField(\"TradeAtBid\", DoubleType(),True), \\\n",
    " StructField(\"TradeAtBidMid\", DoubleType(),True), \\\n",
    " StructField(\"TradeAtMid\", DoubleType(),True), \\\n",
    " StructField(\"TradeAtMidAsk\", DoubleType(),True), \\\n",
    " StructField(\"TradeAtAsk\", DoubleType(),True), \\\n",
    " StructField(\"TradeAtCrossOrLocked\", DoubleType(),True), \\\n",
    " StructField(\"Volume\", DoubleType(),True), \\\n",
    " StructField(\"TotalTrades\", DoubleType(),True), \\\n",
    " StructField(\"FinraVolume\", DoubleType(),True), \\\n",
    " StructField(\"FinraVolumeWeightPrice\", DoubleType(),True), \\\n",
    " StructField(\"UptickVolume\", IntegerType(),True), \\\n",
    " StructField(\"DowntickVolume\", IntegerType(),True), \\\n",
    " StructField(\"RepeatUptickVolume\", IntegerType(),True), \\\n",
    " StructField(\"RepeatDowntickVolume\", IntegerType(),True), \\\n",
    " StructField(\"UnknownTickVolume\", IntegerType(),True), \\\n",
    " StructField(\"TradeToMidVolWeight\", IntegerType(),True), \\\n",
    " StructField(\"TradeToMidVolWeightRelative\", IntegerType(),True), \\\n",
    " StructField(\"TimeWeightBid\", IntegerType(),True), \\\n",
    " StructField(\"TimeWeightAsk\", IntegerType(),True)\n",
    "])"
   ]
  },
  {
   "cell_type": "code",
   "execution_count": 44,
   "id": "915b2b7a-5d2e-4991-81b7-615b440cb028",
   "metadata": {
    "execution": {
     "iopub.execute_input": "2022-03-20T15:07:36.414565Z",
     "iopub.status.busy": "2022-03-20T15:07:36.414342Z",
     "iopub.status.idle": "2022-03-20T15:09:38.029367Z",
     "shell.execute_reply": "2022-03-20T15:09:38.028709Z",
     "shell.execute_reply.started": "2022-03-20T15:07:36.414540Z"
    },
    "tags": []
   },
   "outputs": [
    {
     "data": {
      "application/vnd.jupyter.widget-view+json": {
       "model_id": "3187bc8b32e7494a8b2cd71c239c3d73",
       "version_major": 2,
       "version_minor": 0
      },
      "text/plain": [
       "VBox()"
      ]
     },
     "metadata": {},
     "output_type": "display_data"
    },
    {
     "data": {
      "application/vnd.jupyter.widget-view+json": {
       "model_id": "",
       "version_major": 2,
       "version_minor": 0
      },
      "text/plain": [
       "FloatProgress(value=0.0, bar_style='info', description='Progress:', layout=Layout(height='25px', width='50%'),…"
      ]
     },
     "metadata": {},
     "output_type": "display_data"
    }
   ],
   "source": [
    "test = spark.read.option('header','True').csv('s3://algoseekraw/us-equity-1min-taq/nasdaq100/*/*.csv.gz',schema=taq_1min_schema)\n"
   ]
  },
  {
   "cell_type": "code",
   "execution_count": 32,
   "id": "934e1e56-d925-4173-8e16-aa746bb03b91",
   "metadata": {
    "execution": {
     "iopub.execute_input": "2022-03-20T13:56:14.900289Z",
     "iopub.status.busy": "2022-03-20T13:56:14.900097Z",
     "iopub.status.idle": "2022-03-20T13:57:58.626791Z",
     "shell.execute_reply": "2022-03-20T13:57:58.626242Z",
     "shell.execute_reply.started": "2022-03-20T13:56:14.900265Z"
    },
    "tags": []
   },
   "outputs": [
    {
     "data": {
      "application/vnd.jupyter.widget-view+json": {
       "model_id": "6a4c70eda879490eacacb081c6d7f395",
       "version_major": 2,
       "version_minor": 0
      },
      "text/plain": [
       "VBox()"
      ]
     },
     "metadata": {},
     "output_type": "display_data"
    },
    {
     "data": {
      "application/vnd.jupyter.widget-view+json": {
       "model_id": "",
       "version_major": 2,
       "version_minor": 0
      },
      "text/plain": [
       "FloatProgress(value=0.0, bar_style='info', description='Progress:', layout=Layout(height='25px', width='50%'),…"
      ]
     },
     "metadata": {},
     "output_type": "display_data"
    }
   ],
   "source": [
    "iid = spark.read.parquet('s3://taqdata/wrds_iid/parquet/*.parquet')\n",
    "ratio = spark.read.option('header','True').parquet('s3://securityfundamentalsdata/finratio_processed.parquet')"
   ]
  },
  {
   "cell_type": "code",
   "execution_count": 45,
   "id": "6628bdbb-510b-4aea-8cd5-11520ceba49d",
   "metadata": {
    "execution": {
     "iopub.execute_input": "2022-03-20T15:09:40.298750Z",
     "iopub.status.busy": "2022-03-20T15:09:40.298531Z",
     "iopub.status.idle": "2022-03-20T15:09:40.352408Z",
     "shell.execute_reply": "2022-03-20T15:09:40.351772Z",
     "shell.execute_reply.started": "2022-03-20T15:09:40.298727Z"
    },
    "tags": []
   },
   "outputs": [
    {
     "data": {
      "application/vnd.jupyter.widget-view+json": {
       "model_id": "b9bdf347f8b4401eb8649ad99f8ca5bf",
       "version_major": 2,
       "version_minor": 0
      },
      "text/plain": [
       "VBox()"
      ]
     },
     "metadata": {},
     "output_type": "display_data"
    },
    {
     "data": {
      "application/vnd.jupyter.widget-view+json": {
       "model_id": "",
       "version_major": 2,
       "version_minor": 0
      },
      "text/plain": [
       "FloatProgress(value=0.0, bar_style='info', description='Progress:', layout=Layout(height='25px', width='50%'),…"
      ]
     },
     "metadata": {},
     "output_type": "display_data"
    },
    {
     "name": "stdout",
     "output_type": "stream",
     "text": [
      "root\n",
      " |-- Date: date (nullable = true)\n",
      " |-- Ticker: string (nullable = true)\n",
      " |-- TimeBarStart: timestamp (nullable = true)\n",
      " |-- OpenBarTime: timestamp (nullable = true)\n",
      " |-- OpenBidPrice: double (nullable = true)\n",
      " |-- OpenBidSize: double (nullable = true)\n",
      " |-- OpenAskPrice: double (nullable = true)\n",
      " |-- OpenAskSize: double (nullable = true)\n",
      " |-- FirstTradeTime: timestamp (nullable = true)\n",
      " |-- FirstTradePrice: double (nullable = true)\n",
      " |-- FirstTradeSize: double (nullable = true)\n",
      " |-- HighBidTime: timestamp (nullable = true)\n",
      " |-- HighBidPrice: double (nullable = true)\n",
      " |-- HighBidSize: double (nullable = true)\n",
      " |-- HighAskTime: timestamp (nullable = true)\n",
      " |-- HighAskPrice: double (nullable = true)\n",
      " |-- HighAskSize: double (nullable = true)\n",
      " |-- HighTradeTime: timestamp (nullable = true)\n",
      " |-- HighTradePrice: double (nullable = true)\n",
      " |-- HighTradeSize: double (nullable = true)\n",
      " |-- LowBidTime: timestamp (nullable = true)\n",
      " |-- LowBidPrice: double (nullable = true)\n",
      " |-- LowBidSize: double (nullable = true)\n",
      " |-- LowAskTime: timestamp (nullable = true)\n",
      " |-- LowAskPrice: double (nullable = true)\n",
      " |-- LowAskSize: double (nullable = true)\n",
      " |-- LowTradeTime: timestamp (nullable = true)\n",
      " |-- LowTradePrice: double (nullable = true)\n",
      " |-- LowTradeSize: double (nullable = true)\n",
      " |-- CloseBarTime: timestamp (nullable = true)\n",
      " |-- CloseBidPrice: double (nullable = true)\n",
      " |-- CloseBidSize: double (nullable = true)\n",
      " |-- CloseAskPrice: double (nullable = true)\n",
      " |-- CloseAskSize: double (nullable = true)\n",
      " |-- LastTradeTime: timestamp (nullable = true)\n",
      " |-- LastTradePrice: double (nullable = true)\n",
      " |-- LastTradeSize: double (nullable = true)\n",
      " |-- MinSpread: double (nullable = true)\n",
      " |-- MaxSpread: double (nullable = true)\n",
      " |-- CancelSize: double (nullable = true)\n",
      " |-- VolumeWeightPrice: double (nullable = true)\n",
      " |-- NBBOQuoteCount: double (nullable = true)\n",
      " |-- TradeAtBid: double (nullable = true)\n",
      " |-- TradeAtBidMid: double (nullable = true)\n",
      " |-- TradeAtMid: double (nullable = true)\n",
      " |-- TradeAtMidAsk: double (nullable = true)\n",
      " |-- TradeAtAsk: double (nullable = true)\n",
      " |-- TradeAtCrossOrLocked: double (nullable = true)\n",
      " |-- Volume: double (nullable = true)\n",
      " |-- TotalTrades: double (nullable = true)\n",
      " |-- FinraVolume: double (nullable = true)\n",
      " |-- FinraVolumeWeightPrice: double (nullable = true)\n",
      " |-- UptickVolume: integer (nullable = true)\n",
      " |-- DowntickVolume: integer (nullable = true)\n",
      " |-- RepeatUptickVolume: integer (nullable = true)\n",
      " |-- RepeatDowntickVolume: integer (nullable = true)\n",
      " |-- UnknownTickVolume: integer (nullable = true)\n",
      " |-- TradeToMidVolWeight: integer (nullable = true)\n",
      " |-- TradeToMidVolWeightRelative: integer (nullable = true)\n",
      " |-- TimeWeightBid: integer (nullable = true)\n",
      " |-- TimeWeightAsk: integer (nullable = true)"
     ]
    }
   ],
   "source": [
    "test.printSchema()"
   ]
  },
  {
   "cell_type": "code",
   "execution_count": 46,
   "id": "cd9da9a1-900f-4c04-9dc2-746a68dabf0a",
   "metadata": {
    "execution": {
     "iopub.execute_input": "2022-03-20T15:09:54.484248Z",
     "iopub.status.busy": "2022-03-20T15:09:54.484023Z",
     "iopub.status.idle": "2022-03-20T15:09:59.781937Z",
     "shell.execute_reply": "2022-03-20T15:09:59.781243Z",
     "shell.execute_reply.started": "2022-03-20T15:09:54.484225Z"
    },
    "tags": []
   },
   "outputs": [
    {
     "data": {
      "application/vnd.jupyter.widget-view+json": {
       "model_id": "3b387672451f490681c917ea64a1be11",
       "version_major": 2,
       "version_minor": 0
      },
      "text/plain": [
       "VBox()"
      ]
     },
     "metadata": {},
     "output_type": "display_data"
    },
    {
     "data": {
      "application/vnd.jupyter.widget-view+json": {
       "model_id": "",
       "version_major": 2,
       "version_minor": 0
      },
      "text/plain": [
       "FloatProgress(value=0.0, bar_style='info', description='Progress:', layout=Layout(height='25px', width='50%'),…"
      ]
     },
     "metadata": {},
     "output_type": "display_data"
    },
    {
     "name": "stdout",
     "output_type": "stream",
     "text": [
      "[Row(Date=None, Ticker='TSLA', TimeBarStart=datetime.datetime(2022, 3, 20, 4, 0), OpenBarTime=datetime.datetime(2022, 3, 20, 4, 0), OpenBidPrice=None, OpenBidSize=None, OpenAskPrice=None, OpenAskSize=None, FirstTradeTime=datetime.datetime(2022, 3, 20, 4, 0, 0, 30589), FirstTradePrice=391.0, FirstTradeSize=3784.0, HighBidTime=datetime.datetime(2022, 3, 20, 4, 0, 0, 752066), HighBidPrice=391.3, HighBidSize=100.0, HighAskTime=datetime.datetime(2022, 3, 20, 4, 0, 0, 2660), HighAskPrice=409.96, HighAskSize=100.0, HighTradeTime=datetime.datetime(2022, 3, 20, 4, 0, 0, 383172), HighTradePrice=392.22, HighTradeSize=74.0, LowBidTime=datetime.datetime(2022, 3, 20, 4, 0, 0, 33566), LowBidPrice=355.0, LowBidSize=300.0, LowAskTime=datetime.datetime(2022, 3, 20, 4, 0, 56, 754759), LowAskPrice=385.84, LowAskSize=100.0, LowTradeTime=datetime.datetime(2022, 3, 20, 4, 0, 55, 60630), LowTradePrice=385.55, LowTradeSize=10.0, CloseBarTime=datetime.datetime(2022, 3, 20, 4, 0, 59, 999999), CloseBidPrice=385.84, CloseBidSize=300.0, CloseAskPrice=387.0, CloseAskSize=200.0, LastTradeTime=datetime.datetime(2022, 3, 20, 4, 0, 59, 407663), LastTradePrice=385.84, LastTradeSize=80.0, MinSpread=0.02, MaxSpread=54.96, CancelSize=None, VolumeWeightPrice=389.29187, NBBOQuoteCount=215.0, TradeAtBid=1881.0, TradeAtBidMid=7786.0, TradeAtMid=167.0, TradeAtMidAsk=4949.0, TradeAtAsk=1957.0, TradeAtCrossOrLocked=0.0, Volume=20524.0, TotalTrades=390.0, FinraVolume=0.0, FinraVolumeWeightPrice=None, UptickVolume=4184, DowntickVolume=5000, RepeatUptickVolume=1704, RepeatDowntickVolume=4946, UnknownTickVolume=4690, TradeToMidVolWeight=None, TradeToMidVolWeightRelative=None, TimeWeightBid=None, TimeWeightAsk=None), Row(Date=None, Ticker='TSLA', TimeBarStart=datetime.datetime(2022, 3, 20, 4, 1), OpenBarTime=datetime.datetime(2022, 3, 20, 4, 1), OpenBidPrice=385.84, OpenBidSize=300.0, OpenAskPrice=387.0, OpenAskSize=200.0, FirstTradeTime=datetime.datetime(2022, 3, 20, 4, 1, 0, 287387), FirstTradePrice=386.2, FirstTradeSize=2.0, HighBidTime=datetime.datetime(2022, 3, 20, 4, 1, 56, 411815), HighBidPrice=393.6, HighBidSize=100.0, HighAskTime=datetime.datetime(2022, 3, 20, 4, 1, 58, 814778), HighAskPrice=395.0, HighAskSize=200.0, HighTradeTime=datetime.datetime(2022, 3, 20, 4, 1, 56, 535506), HighTradePrice=394.0, HighTradeSize=30.0, LowBidTime=datetime.datetime(2022, 3, 20, 4, 1), LowBidPrice=385.84, LowBidSize=300.0, LowAskTime=datetime.datetime(2022, 3, 20, 4, 1), LowAskPrice=387.0, LowAskSize=200.0, LowTradeTime=datetime.datetime(2022, 3, 20, 4, 1, 0, 287387), LowTradePrice=386.2, LowTradeSize=2.0, CloseBarTime=datetime.datetime(2022, 3, 20, 4, 1, 59, 999999), CloseBidPrice=393.0, CloseBidSize=100.0, CloseAskPrice=395.0, CloseAskSize=100.0, LastTradeTime=datetime.datetime(2022, 3, 20, 4, 1, 59, 700924), LastTradePrice=393.1, LastTradeSize=10.0, MinSpread=0.04, MaxSpread=2.88, CancelSize=None, VolumeWeightPrice=389.49285, NBBOQuoteCount=154.0, TradeAtBid=1025.0, TradeAtBidMid=4699.0, TradeAtMid=403.0, TradeAtMidAsk=4093.0, TradeAtAsk=540.0, TradeAtCrossOrLocked=0.0, Volume=10760.0, TotalTrades=279.0, FinraVolume=0.0, FinraVolumeWeightPrice=None, UptickVolume=3990, DowntickVolume=2720, RepeatUptickVolume=2520, RepeatDowntickVolume=1530, UnknownTickVolume=0, TradeToMidVolWeight=None, TradeToMidVolWeightRelative=None, TimeWeightBid=None, TimeWeightAsk=None), Row(Date=None, Ticker='TSLA', TimeBarStart=datetime.datetime(2022, 3, 20, 4, 2), OpenBarTime=datetime.datetime(2022, 3, 20, 4, 2), OpenBidPrice=393.0, OpenBidSize=100.0, OpenAskPrice=395.0, OpenAskSize=100.0, FirstTradeTime=datetime.datetime(2022, 3, 20, 4, 2, 0, 315184), FirstTradePrice=394.0, FirstTradeSize=8.0, HighBidTime=datetime.datetime(2022, 3, 20, 4, 2, 2, 240358), HighBidPrice=395.0, HighBidSize=800.0, HighAskTime=datetime.datetime(2022, 3, 20, 4, 2, 3, 885690), HighAskPrice=395.5, HighAskSize=100.0, HighTradeTime=datetime.datetime(2022, 3, 20, 4, 2, 2, 301219), HighTradePrice=395.13, HighTradeSize=20.0, LowBidTime=datetime.datetime(2022, 3, 20, 4, 2, 50, 840451), LowBidPrice=390.0, LowBidSize=1300.0, LowAskTime=datetime.datetime(2022, 3, 20, 4, 2, 54, 489810), LowAskPrice=391.79, LowAskSize=100.0, LowTradeTime=datetime.datetime(2022, 3, 20, 4, 2, 53, 237784), LowTradePrice=390.98, LowTradeSize=65.0, CloseBarTime=datetime.datetime(2022, 3, 20, 4, 2, 59, 999999), CloseBidPrice=390.0, CloseBidSize=1300.0, CloseAskPrice=392.0, CloseAskSize=100.0, LastTradeTime=datetime.datetime(2022, 3, 20, 4, 2, 58, 282925), LastTradePrice=391.0, LastTradeSize=25.0, MinSpread=0.13, MaxSpread=2.0, CancelSize=None, VolumeWeightPrice=393.04831, NBBOQuoteCount=124.0, TradeAtBid=552.0, TradeAtBidMid=3510.0, TradeAtMid=1061.0, TradeAtMidAsk=3293.0, TradeAtAsk=224.0, TradeAtCrossOrLocked=0.0, Volume=8640.0, TotalTrades=256.0, FinraVolume=0.0, FinraVolumeWeightPrice=None, UptickVolume=1988, DowntickVolume=4049, RepeatUptickVolume=1336, RepeatDowntickVolume=1267, UnknownTickVolume=0, TradeToMidVolWeight=None, TradeToMidVolWeightRelative=None, TimeWeightBid=None, TimeWeightAsk=None), Row(Date=None, Ticker='TSLA', TimeBarStart=datetime.datetime(2022, 3, 20, 4, 3), OpenBarTime=datetime.datetime(2022, 3, 20, 4, 3), OpenBidPrice=390.0, OpenBidSize=1300.0, OpenAskPrice=392.0, OpenAskSize=100.0, FirstTradeTime=datetime.datetime(2022, 3, 20, 4, 3, 0, 508281), FirstTradePrice=391.65, FirstTradeSize=2.0, HighBidTime=datetime.datetime(2022, 3, 20, 4, 3, 8, 909050), HighBidPrice=391.5, HighBidSize=100.0, HighAskTime=datetime.datetime(2022, 3, 20, 4, 3), HighAskPrice=392.0, HighAskSize=100.0, HighTradeTime=datetime.datetime(2022, 3, 20, 4, 3, 1, 534004), HighTradePrice=391.79, HighTradeSize=18.0, LowBidTime=datetime.datetime(2022, 3, 20, 4, 3, 27, 698599), LowBidPrice=388.0, LowBidSize=700.0, LowAskTime=datetime.datetime(2022, 3, 20, 4, 3, 34, 372577), LowAskPrice=389.0, LowAskSize=100.0, LowTradeTime=datetime.datetime(2022, 3, 20, 4, 3, 29, 650749), LowTradePrice=388.5, LowTradeSize=1.0, CloseBarTime=datetime.datetime(2022, 3, 20, 4, 3, 59, 999999), CloseBidPrice=389.5, CloseBidSize=300.0, CloseAskPrice=391.0, CloseAskSize=400.0, LastTradeTime=datetime.datetime(2022, 3, 20, 4, 3, 59, 668282), LastTradePrice=390.79, LastTradeSize=77.0, MinSpread=0.25, MaxSpread=2.96, CancelSize=None, VolumeWeightPrice=389.89285, NBBOQuoteCount=188.0, TradeAtBid=1124.0, TradeAtBidMid=2098.0, TradeAtMid=443.0, TradeAtMidAsk=5348.0, TradeAtAsk=4214.0, TradeAtCrossOrLocked=0.0, Volume=13227.0, TotalTrades=432.0, FinraVolume=0.0, FinraVolumeWeightPrice=None, UptickVolume=3515, DowntickVolume=2759, RepeatUptickVolume=4808, RepeatDowntickVolume=2145, UnknownTickVolume=0, TradeToMidVolWeight=None, TradeToMidVolWeightRelative=None, TimeWeightBid=None, TimeWeightAsk=None), Row(Date=None, Ticker='TSLA', TimeBarStart=datetime.datetime(2022, 3, 20, 4, 4), OpenBarTime=datetime.datetime(2022, 3, 20, 4, 4), OpenBidPrice=389.5, OpenBidSize=300.0, OpenAskPrice=391.0, OpenAskSize=400.0, FirstTradeTime=datetime.datetime(2022, 3, 20, 4, 4, 0, 129107), FirstTradePrice=390.79, FirstTradeSize=1.0, HighBidTime=datetime.datetime(2022, 3, 20, 4, 4, 15, 116225), HighBidPrice=390.0, HighBidSize=300.0, HighAskTime=datetime.datetime(2022, 3, 20, 4, 4), HighAskPrice=391.0, HighAskSize=400.0, HighTradeTime=datetime.datetime(2022, 3, 20, 4, 4, 0, 183138), HighTradePrice=390.8, HighTradeSize=1.0, LowBidTime=datetime.datetime(2022, 3, 20, 4, 4, 45, 983938), LowBidPrice=387.0, LowBidSize=100.0, LowAskTime=datetime.datetime(2022, 3, 20, 4, 4, 58, 773690), LowAskPrice=389.0, LowAskSize=400.0, LowTradeTime=datetime.datetime(2022, 3, 20, 4, 4, 45, 984014), LowTradePrice=387.53, LowTradeSize=22.0, CloseBarTime=datetime.datetime(2022, 3, 20, 4, 4, 59, 999999), CloseBidPrice=388.0, CloseBidSize=300.0, CloseAskPrice=389.0, CloseAskSize=400.0, LastTradeTime=datetime.datetime(2022, 3, 20, 4, 4, 57, 854099), LastTradePrice=388.51, LastTradeSize=4.0, MinSpread=0.11, MaxSpread=3.0, CancelSize=None, VolumeWeightPrice=389.67595, NBBOQuoteCount=94.0, TradeAtBid=165.0, TradeAtBidMid=2306.0, TradeAtMid=304.0, TradeAtMidAsk=2308.0, TradeAtAsk=23.0, TradeAtCrossOrLocked=0.0, Volume=5106.0, TotalTrades=212.0, FinraVolume=0.0, FinraVolumeWeightPrice=None, UptickVolume=1450, DowntickVolume=2144, RepeatUptickVolume=367, RepeatDowntickVolume=1145, UnknownTickVolume=0, TradeToMidVolWeight=None, TradeToMidVolWeightRelative=None, TimeWeightBid=None, TimeWeightAsk=None), Row(Date=None, Ticker='TSLA', TimeBarStart=datetime.datetime(2022, 3, 20, 4, 5), OpenBarTime=datetime.datetime(2022, 3, 20, 4, 5), OpenBidPrice=388.0, OpenBidSize=300.0, OpenAskPrice=389.0, OpenAskSize=400.0, FirstTradeTime=datetime.datetime(2022, 3, 20, 4, 5, 1, 387201), FirstTradePrice=388.8, FirstTradeSize=1.0, HighBidTime=datetime.datetime(2022, 3, 20, 4, 5, 53, 826113), HighBidPrice=389.2, HighBidSize=100.0, HighAskTime=datetime.datetime(2022, 3, 20, 4, 5, 39, 648143), HighAskPrice=390.5, HighAskSize=400.0, HighTradeTime=datetime.datetime(2022, 3, 20, 4, 5, 39, 329434), HighTradePrice=390.0, HighTradeSize=3.0, LowBidTime=datetime.datetime(2022, 3, 20, 4, 5, 15, 739242), LowBidPrice=387.08, LowBidSize=200.0, LowAskTime=datetime.datetime(2022, 3, 20, 4, 5, 19, 529754), LowAskPrice=387.86, LowAskSize=100.0, LowTradeTime=datetime.datetime(2022, 3, 20, 4, 5, 24, 215482), LowTradePrice=387.53, LowTradeSize=1.0, CloseBarTime=datetime.datetime(2022, 3, 20, 4, 5, 59, 999999), CloseBidPrice=389.2, CloseBidSize=100.0, CloseAskPrice=390.45, CloseAskSize=200.0, LastTradeTime=datetime.datetime(2022, 3, 20, 4, 5, 59, 660269), LastTradePrice=389.7, LastTradeSize=278.0, MinSpread=0.46, MaxSpread=2.2, CancelSize=None, VolumeWeightPrice=388.58631, NBBOQuoteCount=158.0, TradeAtBid=1306.0, TradeAtBidMid=5466.0, TradeAtMid=3.0, TradeAtMidAsk=4009.0, TradeAtAsk=641.0, TradeAtCrossOrLocked=0.0, Volume=11425.0, TotalTrades=198.0, FinraVolume=0.0, FinraVolumeWeightPrice=None, UptickVolume=2724, DowntickVolume=5101, RepeatUptickVolume=2794, RepeatDowntickVolume=806, UnknownTickVolume=0, TradeToMidVolWeight=None, TradeToMidVolWeightRelative=None, TimeWeightBid=None, TimeWeightAsk=None), Row(Date=None, Ticker='TSLA', TimeBarStart=datetime.datetime(2022, 3, 20, 4, 6), OpenBarTime=datetime.datetime(2022, 3, 20, 4, 6), OpenBidPrice=389.2, OpenBidSize=100.0, OpenAskPrice=390.45, OpenAskSize=200.0, FirstTradeTime=datetime.datetime(2022, 3, 20, 4, 6, 0, 257964), FirstTradePrice=389.7, FirstTradeSize=20.0, HighBidTime=datetime.datetime(2022, 3, 20, 4, 6), HighBidPrice=389.2, HighBidSize=100.0, HighAskTime=datetime.datetime(2022, 3, 20, 4, 6), HighAskPrice=390.45, HighAskSize=200.0, HighTradeTime=datetime.datetime(2022, 3, 20, 4, 6, 0, 257964), HighTradePrice=389.7, HighTradeSize=20.0, LowBidTime=datetime.datetime(2022, 3, 20, 4, 6, 21, 423328), LowBidPrice=386.12, LowBidSize=200.0, LowAskTime=datetime.datetime(2022, 3, 20, 4, 6, 24, 24132), LowAskPrice=387.19, LowAskSize=100.0, LowTradeTime=datetime.datetime(2022, 3, 20, 4, 6, 21, 423330), LowTradePrice=386.5, LowTradeSize=10.0, CloseBarTime=datetime.datetime(2022, 3, 20, 4, 6, 59, 999999), CloseBidPrice=387.23, CloseBidSize=100.0, CloseAskPrice=387.87, CloseAskSize=100.0, LastTradeTime=datetime.datetime(2022, 3, 20, 4, 6, 59, 617728), LastTradePrice=387.32, LastTradeSize=68.0, MinSpread=0.02, MaxSpread=1.75, CancelSize=None, VolumeWeightPrice=387.64864, NBBOQuoteCount=108.0, TradeAtBid=790.0, TradeAtBidMid=3802.0, TradeAtMid=0.0, TradeAtMidAsk=2565.0, TradeAtAsk=408.0, TradeAtCrossOrLocked=0.0, Volume=7565.0, TotalTrades=209.0, FinraVolume=0.0, FinraVolumeWeightPrice=None, UptickVolume=1398, DowntickVolume=1730, RepeatUptickVolume=1099, RepeatDowntickVolume=3338, UnknownTickVolume=0, TradeToMidVolWeight=None, TradeToMidVolWeightRelative=None, TimeWeightBid=None, TimeWeightAsk=None), Row(Date=None, Ticker='TSLA', TimeBarStart=datetime.datetime(2022, 3, 20, 4, 7), OpenBarTime=datetime.datetime(2022, 3, 20, 4, 7), OpenBidPrice=387.23, OpenBidSize=100.0, OpenAskPrice=387.87, OpenAskSize=100.0, FirstTradeTime=datetime.datetime(2022, 3, 20, 4, 7, 0, 145909), FirstTradePrice=387.7, FirstTradeSize=3.0, HighBidTime=datetime.datetime(2022, 3, 20, 4, 7, 56, 206409), HighBidPrice=388.5, HighBidSize=100.0, HighAskTime=datetime.datetime(2022, 3, 20, 4, 7, 3, 232022), HighAskPrice=389.0, HighAskSize=600.0, HighTradeTime=datetime.datetime(2022, 3, 20, 4, 7, 50, 63367), HighTradePrice=388.6, HighTradeSize=99.0, LowBidTime=datetime.datetime(2022, 3, 20, 4, 7), LowBidPrice=387.23, LowBidSize=100.0, LowAskTime=datetime.datetime(2022, 3, 20, 4, 7, 1, 658086), LowAskPrice=387.5, LowAskSize=100.0, LowTradeTime=datetime.datetime(2022, 3, 20, 4, 7, 24, 576883), LowTradePrice=387.3, LowTradeSize=15.0, CloseBarTime=datetime.datetime(2022, 3, 20, 4, 7, 59, 999999), CloseBidPrice=388.41, CloseBidSize=100.0, CloseAskPrice=389.0, CloseAskSize=400.0, LastTradeTime=datetime.datetime(2022, 3, 20, 4, 7, 58, 108989), LastTradePrice=388.5, LastTradeSize=9.0, MinSpread=0.25, MaxSpread=1.77, CancelSize=None, VolumeWeightPrice=388.0215, NBBOQuoteCount=126.0, TradeAtBid=2030.0, TradeAtBidMid=1672.0, TradeAtMid=0.0, TradeAtMidAsk=2285.0, TradeAtAsk=408.0, TradeAtCrossOrLocked=0.0, Volume=6395.0, TotalTrades=151.0, FinraVolume=0.0, FinraVolumeWeightPrice=None, UptickVolume=1249, DowntickVolume=1066, RepeatUptickVolume=2262, RepeatDowntickVolume=1818, UnknownTickVolume=0, TradeToMidVolWeight=None, TradeToMidVolWeightRelative=None, TimeWeightBid=None, TimeWeightAsk=None), Row(Date=None, Ticker='TSLA', TimeBarStart=datetime.datetime(2022, 3, 20, 4, 8), OpenBarTime=datetime.datetime(2022, 3, 20, 4, 8), OpenBidPrice=388.41, OpenBidSize=100.0, OpenAskPrice=389.0, OpenAskSize=400.0, FirstTradeTime=datetime.datetime(2022, 3, 20, 4, 8, 1, 512794), FirstTradePrice=388.79, FirstTradeSize=50.0, HighBidTime=datetime.datetime(2022, 3, 20, 4, 8, 21, 526438), HighBidPrice=389.4, HighBidSize=100.0, HighAskTime=datetime.datetime(2022, 3, 20, 4, 8, 3, 36171), HighAskPrice=390.0, HighAskSize=2400.0, HighTradeTime=datetime.datetime(2022, 3, 20, 4, 8, 23, 144971), HighTradePrice=389.7, HighTradeSize=63.0, LowBidTime=datetime.datetime(2022, 3, 20, 4, 8, 28, 916978), LowBidPrice=388.0, LowBidSize=300.0, LowAskTime=datetime.datetime(2022, 3, 20, 4, 8, 19, 460147), LowAskPrice=388.55, LowAskSize=100.0, LowTradeTime=datetime.datetime(2022, 3, 20, 4, 8, 6, 204823), LowTradePrice=388.5, LowTradeSize=79.0, CloseBarTime=datetime.datetime(2022, 3, 20, 4, 8, 59, 999999), CloseBidPrice=389.0, CloseBidSize=100.0, CloseAskPrice=389.6, CloseAskSize=100.0, LastTradeTime=datetime.datetime(2022, 3, 20, 4, 8, 55, 341679), LastTradePrice=389.0, LastTradeSize=4.0, MinSpread=0.05, MaxSpread=1.76, CancelSize=None, VolumeWeightPrice=389.04366, NBBOQuoteCount=144.0, TradeAtBid=2066.0, TradeAtBidMid=1665.0, TradeAtMid=9.0, TradeAtMidAsk=2293.0, TradeAtAsk=222.0, TradeAtCrossOrLocked=0.0, Volume=6255.0, TotalTrades=147.0, FinraVolume=0.0, FinraVolumeWeightPrice=None, UptickVolume=1350, DowntickVolume=1664, RepeatUptickVolume=2540, RepeatDowntickVolume=701, UnknownTickVolume=0, TradeToMidVolWeight=None, TradeToMidVolWeightRelative=None, TimeWeightBid=None, TimeWeightAsk=None), Row(Date=None, Ticker='TSLA', TimeBarStart=datetime.datetime(2022, 3, 20, 4, 9), OpenBarTime=datetime.datetime(2022, 3, 20, 4, 9), OpenBidPrice=389.0, OpenBidSize=100.0, OpenAskPrice=389.6, OpenAskSize=100.0, FirstTradeTime=datetime.datetime(2022, 3, 20, 4, 9, 0, 3264), FirstTradePrice=389.02, FirstTradeSize=100.0, HighBidTime=datetime.datetime(2022, 3, 20, 4, 9), HighBidPrice=389.0, HighBidSize=100.0, HighAskTime=datetime.datetime(2022, 3, 20, 4, 9, 2, 682024), HighAskPrice=389.79, HighAskSize=100.0, HighTradeTime=datetime.datetime(2022, 3, 20, 4, 9, 17, 717330), HighTradePrice=389.3, HighTradeSize=2.0, LowBidTime=datetime.datetime(2022, 3, 20, 4, 9, 6, 919648), LowBidPrice=388.0, LowBidSize=200.0, LowAskTime=datetime.datetime(2022, 3, 20, 4, 9, 52, 225669), LowAskPrice=389.0, LowAskSize=100.0, LowTradeTime=datetime.datetime(2022, 3, 20, 4, 9, 46, 956344), LowTradePrice=388.25, LowTradeSize=5.0, CloseBarTime=datetime.datetime(2022, 3, 20, 4, 9, 59, 999999), CloseBidPrice=388.25, CloseBidSize=300.0, CloseAskPrice=389.0, CloseAskSize=4100.0, LastTradeTime=datetime.datetime(2022, 3, 20, 4, 9, 59, 34598), LastTradePrice=388.8, LastTradeSize=5.0, MinSpread=0.46, MaxSpread=1.79, CancelSize=None, VolumeWeightPrice=388.95767, NBBOQuoteCount=204.0, TradeAtBid=0.0, TradeAtBidMid=280.0, TradeAtMid=0.0, TradeAtMidAsk=1203.0, TradeAtAsk=0.0, TradeAtCrossOrLocked=0.0, Volume=1483.0, TotalTrades=98.0, FinraVolume=0.0, FinraVolumeWeightPrice=None, UptickVolume=186, DowntickVolume=564, RepeatUptickVolume=49, RepeatDowntickVolume=684, UnknownTickVolume=0, TradeToMidVolWeight=None, TradeToMidVolWeightRelative=None, TimeWeightBid=None, TimeWeightAsk=None)]"
     ]
    }
   ],
   "source": [
    "test.head(10)"
   ]
  },
  {
   "cell_type": "code",
   "execution_count": 47,
   "id": "f580644b-b959-4eaf-a027-0bee4ec078a1",
   "metadata": {
    "execution": {
     "iopub.execute_input": "2022-03-20T15:14:44.438969Z",
     "iopub.status.busy": "2022-03-20T15:14:44.438749Z",
     "iopub.status.idle": "2022-03-20T15:38:34.357302Z",
     "shell.execute_reply": "2022-03-20T15:38:34.356738Z",
     "shell.execute_reply.started": "2022-03-20T15:14:44.438945Z"
    },
    "tags": []
   },
   "outputs": [
    {
     "data": {
      "application/vnd.jupyter.widget-view+json": {
       "model_id": "5fe3a669dbb34060a19e2bfa2104dd5e",
       "version_major": 2,
       "version_minor": 0
      },
      "text/plain": [
       "VBox()"
      ]
     },
     "metadata": {},
     "output_type": "display_data"
    },
    {
     "data": {
      "application/vnd.jupyter.widget-view+json": {
       "model_id": "",
       "version_major": 2,
       "version_minor": 0
      },
      "text/plain": [
       "FloatProgress(value=0.0, bar_style='info', description='Progress:', layout=Layout(height='25px', width='50%'),…"
      ]
     },
     "metadata": {},
     "output_type": "display_data"
    }
   ],
   "source": [
    "test.write.parquet('s3://taqdata/nasdaq100_full.parquet')"
   ]
  },
  {
   "cell_type": "code",
   "execution_count": 37,
   "id": "41288ca2-405b-4bc0-bfe7-5c25d2a8319e",
   "metadata": {
    "execution": {
     "iopub.execute_input": "2022-03-20T14:39:45.325699Z",
     "iopub.status.busy": "2022-03-20T14:39:45.325442Z",
     "iopub.status.idle": "2022-03-20T14:41:42.654169Z",
     "shell.execute_reply": "2022-03-20T14:41:42.653310Z",
     "shell.execute_reply.started": "2022-03-20T14:39:45.325674Z"
    }
   },
   "outputs": [
    {
     "data": {
      "application/vnd.jupyter.widget-view+json": {
       "model_id": "16f205e704eb42b5a77fd598ade8f52e",
       "version_major": 2,
       "version_minor": 0
      },
      "text/plain": [
       "VBox()"
      ]
     },
     "metadata": {},
     "output_type": "display_data"
    },
    {
     "data": {
      "application/vnd.jupyter.widget-view+json": {
       "model_id": "",
       "version_major": 2,
       "version_minor": 0
      },
      "text/plain": [
       "FloatProgress(value=0.0, bar_style='info', description='Progress:', layout=Layout(height='25px', width='50%'),…"
      ]
     },
     "metadata": {},
     "output_type": "display_data"
    },
    {
     "name": "stderr",
     "output_type": "stream",
     "text": [
      "An error was encountered:\n",
      "An error occurred while calling o231.collectToPython.\n",
      ": org.apache.spark.SparkException: Job aborted due to stage failure: Total size of serialized results of 193 tasks (1026.5 MiB) is bigger than spark.driver.maxResultSize (1024.0 MiB)\n",
      "\tat org.apache.spark.scheduler.DAGScheduler.failJobAndIndependentStages(DAGScheduler.scala:2470)\n",
      "\tat org.apache.spark.scheduler.DAGScheduler.$anonfun$abortStage$2(DAGScheduler.scala:2419)\n",
      "\tat org.apache.spark.scheduler.DAGScheduler.$anonfun$abortStage$2$adapted(DAGScheduler.scala:2418)\n",
      "\tat scala.collection.mutable.ResizableArray.foreach(ResizableArray.scala:62)\n",
      "\tat scala.collection.mutable.ResizableArray.foreach$(ResizableArray.scala:55)\n",
      "\tat scala.collection.mutable.ArrayBuffer.foreach(ArrayBuffer.scala:49)\n",
      "\tat org.apache.spark.scheduler.DAGScheduler.abortStage(DAGScheduler.scala:2418)\n",
      "\tat org.apache.spark.scheduler.DAGScheduler.$anonfun$handleTaskSetFailed$1(DAGScheduler.scala:1125)\n",
      "\tat org.apache.spark.scheduler.DAGScheduler.$anonfun$handleTaskSetFailed$1$adapted(DAGScheduler.scala:1125)\n",
      "\tat scala.Option.foreach(Option.scala:407)\n",
      "\tat org.apache.spark.scheduler.DAGScheduler.handleTaskSetFailed(DAGScheduler.scala:1125)\n",
      "\tat org.apache.spark.scheduler.DAGSchedulerEventProcessLoop.doOnReceive(DAGScheduler.scala:2684)\n",
      "\tat org.apache.spark.scheduler.DAGSchedulerEventProcessLoop.onReceive(DAGScheduler.scala:2626)\n",
      "\tat org.apache.spark.scheduler.DAGSchedulerEventProcessLoop.onReceive(DAGScheduler.scala:2615)\n",
      "\tat org.apache.spark.util.EventLoop$$anon$1.run(EventLoop.scala:49)\n",
      "\tat org.apache.spark.scheduler.DAGScheduler.runJob(DAGScheduler.scala:914)\n",
      "\tat org.apache.spark.SparkContext.runJob(SparkContext.scala:2241)\n",
      "\tat org.apache.spark.SparkContext.runJob(SparkContext.scala:2262)\n",
      "\tat org.apache.spark.SparkContext.runJob(SparkContext.scala:2281)\n",
      "\tat org.apache.spark.SparkContext.runJob(SparkContext.scala:2306)\n",
      "\tat org.apache.spark.rdd.RDD.$anonfun$collect$1(RDD.scala:1030)\n",
      "\tat org.apache.spark.rdd.RDDOperationScope$.withScope(RDDOperationScope.scala:151)\n",
      "\tat org.apache.spark.rdd.RDDOperationScope$.withScope(RDDOperationScope.scala:112)\n",
      "\tat org.apache.spark.rdd.RDD.withScope(RDD.scala:414)\n",
      "\tat org.apache.spark.rdd.RDD.collect(RDD.scala:1029)\n",
      "\tat org.apache.spark.sql.execution.SparkPlan.executeCollect(SparkPlan.scala:404)\n",
      "\tat org.apache.spark.sql.Dataset.$anonfun$collectToPython$1(Dataset.scala:3587)\n",
      "\tat org.apache.spark.sql.Dataset.$anonfun$withAction$1(Dataset.scala:3751)\n",
      "\tat org.apache.spark.sql.catalyst.QueryPlanningTracker$.withTracker(QueryPlanningTracker.scala:107)\n",
      "\tat org.apache.spark.sql.execution.SQLExecution$.withTracker(SQLExecution.scala:232)\n",
      "\tat org.apache.spark.sql.execution.SQLExecution$.executeQuery$1(SQLExecution.scala:110)\n",
      "\tat org.apache.spark.sql.execution.SQLExecution$.$anonfun$withNewExecutionId$6(SQLExecution.scala:135)\n",
      "\tat org.apache.spark.sql.catalyst.QueryPlanningTracker$.withTracker(QueryPlanningTracker.scala:107)\n",
      "\tat org.apache.spark.sql.execution.SQLExecution$.withTracker(SQLExecution.scala:232)\n",
      "\tat org.apache.spark.sql.execution.SQLExecution$.$anonfun$withNewExecutionId$5(SQLExecution.scala:135)\n",
      "\tat org.apache.spark.sql.execution.SQLExecution$.withSQLConfPropagated(SQLExecution.scala:253)\n",
      "\tat org.apache.spark.sql.execution.SQLExecution$.$anonfun$withNewExecutionId$1(SQLExecution.scala:134)\n",
      "\tat org.apache.spark.sql.SparkSession.withActive(SparkSession.scala:775)\n",
      "\tat org.apache.spark.sql.execution.SQLExecution$.withNewExecutionId(SQLExecution.scala:68)\n",
      "\tat org.apache.spark.sql.Dataset.withAction(Dataset.scala:3749)\n",
      "\tat org.apache.spark.sql.Dataset.collectToPython(Dataset.scala:3584)\n",
      "\tat sun.reflect.NativeMethodAccessorImpl.invoke0(Native Method)\n",
      "\tat sun.reflect.NativeMethodAccessorImpl.invoke(NativeMethodAccessorImpl.java:62)\n",
      "\tat sun.reflect.DelegatingMethodAccessorImpl.invoke(DelegatingMethodAccessorImpl.java:43)\n",
      "\tat java.lang.reflect.Method.invoke(Method.java:498)\n",
      "\tat py4j.reflection.MethodInvoker.invoke(MethodInvoker.java:244)\n",
      "\tat py4j.reflection.ReflectionEngine.invoke(ReflectionEngine.java:357)\n",
      "\tat py4j.Gateway.invoke(Gateway.java:282)\n",
      "\tat py4j.commands.AbstractCommand.invokeMethod(AbstractCommand.java:132)\n",
      "\tat py4j.commands.CallCommand.execute(CallCommand.java:79)\n",
      "\tat py4j.GatewayConnection.run(GatewayConnection.java:238)\n",
      "\tat java.lang.Thread.run(Thread.java:750)\n",
      "\n",
      "Traceback (most recent call last):\n",
      "  File \"/usr/lib/spark/python/lib/pyspark.zip/pyspark/sql/pandas/conversion.py\", line 141, in toPandas\n",
      "    pdf = pd.DataFrame.from_records(self.collect(), columns=self.columns)\n",
      "  File \"/usr/lib/spark/python/lib/pyspark.zip/pyspark/sql/dataframe.py\", line 678, in collect\n",
      "    sock_info = self._jdf.collectToPython()\n",
      "  File \"/usr/lib/spark/python/lib/py4j-0.10.9-src.zip/py4j/java_gateway.py\", line 1305, in __call__\n",
      "    answer, self.gateway_client, self.target_id, self.name)\n",
      "  File \"/usr/lib/spark/python/lib/pyspark.zip/pyspark/sql/utils.py\", line 111, in deco\n",
      "    return f(*a, **kw)\n",
      "  File \"/usr/lib/spark/python/lib/py4j-0.10.9-src.zip/py4j/protocol.py\", line 328, in get_return_value\n",
      "    format(target_id, \".\", name), value)\n",
      "py4j.protocol.Py4JJavaError: An error occurred while calling o231.collectToPython.\n",
      ": org.apache.spark.SparkException: Job aborted due to stage failure: Total size of serialized results of 193 tasks (1026.5 MiB) is bigger than spark.driver.maxResultSize (1024.0 MiB)\n",
      "\tat org.apache.spark.scheduler.DAGScheduler.failJobAndIndependentStages(DAGScheduler.scala:2470)\n",
      "\tat org.apache.spark.scheduler.DAGScheduler.$anonfun$abortStage$2(DAGScheduler.scala:2419)\n",
      "\tat org.apache.spark.scheduler.DAGScheduler.$anonfun$abortStage$2$adapted(DAGScheduler.scala:2418)\n",
      "\tat scala.collection.mutable.ResizableArray.foreach(ResizableArray.scala:62)\n",
      "\tat scala.collection.mutable.ResizableArray.foreach$(ResizableArray.scala:55)\n",
      "\tat scala.collection.mutable.ArrayBuffer.foreach(ArrayBuffer.scala:49)\n",
      "\tat org.apache.spark.scheduler.DAGScheduler.abortStage(DAGScheduler.scala:2418)\n",
      "\tat org.apache.spark.scheduler.DAGScheduler.$anonfun$handleTaskSetFailed$1(DAGScheduler.scala:1125)\n",
      "\tat org.apache.spark.scheduler.DAGScheduler.$anonfun$handleTaskSetFailed$1$adapted(DAGScheduler.scala:1125)\n",
      "\tat scala.Option.foreach(Option.scala:407)\n",
      "\tat org.apache.spark.scheduler.DAGScheduler.handleTaskSetFailed(DAGScheduler.scala:1125)\n",
      "\tat org.apache.spark.scheduler.DAGSchedulerEventProcessLoop.doOnReceive(DAGScheduler.scala:2684)\n",
      "\tat org.apache.spark.scheduler.DAGSchedulerEventProcessLoop.onReceive(DAGScheduler.scala:2626)\n",
      "\tat org.apache.spark.scheduler.DAGSchedulerEventProcessLoop.onReceive(DAGScheduler.scala:2615)\n",
      "\tat org.apache.spark.util.EventLoop$$anon$1.run(EventLoop.scala:49)\n",
      "\tat org.apache.spark.scheduler.DAGScheduler.runJob(DAGScheduler.scala:914)\n",
      "\tat org.apache.spark.SparkContext.runJob(SparkContext.scala:2241)\n",
      "\tat org.apache.spark.SparkContext.runJob(SparkContext.scala:2262)\n",
      "\tat org.apache.spark.SparkContext.runJob(SparkContext.scala:2281)\n",
      "\tat org.apache.spark.SparkContext.runJob(SparkContext.scala:2306)\n",
      "\tat org.apache.spark.rdd.RDD.$anonfun$collect$1(RDD.scala:1030)\n",
      "\tat org.apache.spark.rdd.RDDOperationScope$.withScope(RDDOperationScope.scala:151)\n",
      "\tat org.apache.spark.rdd.RDDOperationScope$.withScope(RDDOperationScope.scala:112)\n",
      "\tat org.apache.spark.rdd.RDD.withScope(RDD.scala:414)\n",
      "\tat org.apache.spark.rdd.RDD.collect(RDD.scala:1029)\n",
      "\tat org.apache.spark.sql.execution.SparkPlan.executeCollect(SparkPlan.scala:404)\n",
      "\tat org.apache.spark.sql.Dataset.$anonfun$collectToPython$1(Dataset.scala:3587)\n",
      "\tat org.apache.spark.sql.Dataset.$anonfun$withAction$1(Dataset.scala:3751)\n",
      "\tat org.apache.spark.sql.catalyst.QueryPlanningTracker$.withTracker(QueryPlanningTracker.scala:107)\n",
      "\tat org.apache.spark.sql.execution.SQLExecution$.withTracker(SQLExecution.scala:232)\n",
      "\tat org.apache.spark.sql.execution.SQLExecution$.executeQuery$1(SQLExecution.scala:110)\n",
      "\tat org.apache.spark.sql.execution.SQLExecution$.$anonfun$withNewExecutionId$6(SQLExecution.scala:135)\n",
      "\tat org.apache.spark.sql.catalyst.QueryPlanningTracker$.withTracker(QueryPlanningTracker.scala:107)\n",
      "\tat org.apache.spark.sql.execution.SQLExecution$.withTracker(SQLExecution.scala:232)\n",
      "\tat org.apache.spark.sql.execution.SQLExecution$.$anonfun$withNewExecutionId$5(SQLExecution.scala:135)\n",
      "\tat org.apache.spark.sql.execution.SQLExecution$.withSQLConfPropagated(SQLExecution.scala:253)\n",
      "\tat org.apache.spark.sql.execution.SQLExecution$.$anonfun$withNewExecutionId$1(SQLExecution.scala:134)\n",
      "\tat org.apache.spark.sql.SparkSession.withActive(SparkSession.scala:775)\n",
      "\tat org.apache.spark.sql.execution.SQLExecution$.withNewExecutionId(SQLExecution.scala:68)\n",
      "\tat org.apache.spark.sql.Dataset.withAction(Dataset.scala:3749)\n",
      "\tat org.apache.spark.sql.Dataset.collectToPython(Dataset.scala:3584)\n",
      "\tat sun.reflect.NativeMethodAccessorImpl.invoke0(Native Method)\n",
      "\tat sun.reflect.NativeMethodAccessorImpl.invoke(NativeMethodAccessorImpl.java:62)\n",
      "\tat sun.reflect.DelegatingMethodAccessorImpl.invoke(DelegatingMethodAccessorImpl.java:43)\n",
      "\tat java.lang.reflect.Method.invoke(Method.java:498)\n",
      "\tat py4j.reflection.MethodInvoker.invoke(MethodInvoker.java:244)\n",
      "\tat py4j.reflection.ReflectionEngine.invoke(ReflectionEngine.java:357)\n",
      "\tat py4j.Gateway.invoke(Gateway.java:282)\n",
      "\tat py4j.commands.AbstractCommand.invokeMethod(AbstractCommand.java:132)\n",
      "\tat py4j.commands.CallCommand.execute(CallCommand.java:79)\n",
      "\tat py4j.GatewayConnection.run(GatewayConnection.java:238)\n",
      "\tat java.lang.Thread.run(Thread.java:750)\n",
      "\n",
      "\n"
     ]
    }
   ],
   "source": [
    "testpd = test.toPandas()"
   ]
  },
  {
   "cell_type": "code",
   "execution_count": 36,
   "id": "77b03f0e-d704-40b1-8955-ff507501c407",
   "metadata": {
    "execution": {
     "iopub.execute_input": "2022-03-20T14:38:20.100387Z",
     "iopub.status.busy": "2022-03-20T14:38:20.100158Z",
     "iopub.status.idle": "2022-03-20T14:38:20.171066Z",
     "shell.execute_reply": "2022-03-20T14:38:20.170456Z",
     "shell.execute_reply.started": "2022-03-20T14:38:20.100362Z"
    }
   },
   "outputs": [
    {
     "data": {
      "text/html": [
       "Current session configs: <tt>{'proxyUser': 'assumed-role_EMRDevExp-StudioUserRole_admin', 'conf': {'spark.pyspark.python': 'python3', 'spark.pyspark.virtualenv.enabled': 'true', 'spark.pyspark.virtualenv.type': 'native', 'spark.pyspark.virtualenv.bin.path': '/usr/bin/virtualenv'}, 'kind': 'pyspark'}</tt><br>"
      ],
      "text/plain": [
       "<IPython.core.display.HTML object>"
      ]
     },
     "metadata": {},
     "output_type": "display_data"
    },
    {
     "data": {
      "text/html": [
       "<table>\n<tbody><tr><th>ID</th><th>YARN Application ID</th><th>Kind</th><th>State</th><th>Spark UI</th><th>Driver log</th><th>Current session?</th></tr><tr><td>3</td><td>application_1647757004392_0005</td><td>pyspark</td><td>idle</td><td><a target=\"_blank\" href=\"http://ip-10-0-20-107.ec2.internal:20888/proxy/application_1647757004392_0005/\" class=\"emr-proxy-link j-35OY9JGK5E0NB application_1647757004392_0005\" emr-resource=\"j-35OY9JGK5E0NB\n\" application-id=\"application_1647757004392_0005\">Link</a></td><td><a target=\"_blank\" href=\"http://ip-10-0-20-65.ec2.internal:8042/node/containerlogs/container_1647757004392_0005_01_000001/livy\">Link</a></td><td>✔</td></tr></tbody></table>"
      ],
      "text/plain": [
       "<IPython.core.display.HTML object>"
      ]
     },
     "metadata": {},
     "output_type": "display_data"
    }
   ],
   "source": [
    "%%info"
   ]
  },
  {
   "cell_type": "code",
   "execution_count": null,
   "id": "72551b7b-95f8-49d0-a31d-a05eb3890696",
   "metadata": {},
   "outputs": [],
   "source": [
    "## AlgoSeek US Equity Trade and Quote Minute Bars - PySpark Schema\n",
    "taq_1min_schema = StructType([\n",
    "    StructField(\"Dat\n",
    "])"
   ]
  },
  {
   "cell_type": "code",
   "execution_count": 9,
   "id": "cefbca99-4811-4f08-aae4-28b634240862",
   "metadata": {
    "execution": {
     "iopub.execute_input": "2022-03-20T10:37:46.853241Z",
     "iopub.status.busy": "2022-03-20T10:37:46.853006Z",
     "iopub.status.idle": "2022-03-20T10:37:47.116891Z",
     "shell.execute_reply": "2022-03-20T10:37:47.116215Z",
     "shell.execute_reply.started": "2022-03-20T10:37:46.853217Z"
    },
    "tags": []
   },
   "outputs": [
    {
     "data": {
      "application/vnd.jupyter.widget-view+json": {
       "model_id": "4016a3278ba24a4dad78a95565744465",
       "version_major": 2,
       "version_minor": 0
      },
      "text/plain": [
       "VBox()"
      ]
     },
     "metadata": {},
     "output_type": "display_data"
    },
    {
     "data": {
      "application/vnd.jupyter.widget-view+json": {
       "model_id": "",
       "version_major": 2,
       "version_minor": 0
      },
      "text/plain": [
       "FloatProgress(value=0.0, bar_style='info', description='Progress:', layout=Layout(height='25px', width='50%'),…"
      ]
     },
     "metadata": {},
     "output_type": "display_data"
    },
    {
     "name": "stdout",
     "output_type": "stream",
     "text": [
      "root\n",
      " |-- Unnamed:_0: long (nullable = true)\n",
      " |-- DATE: timestamp (nullable = true)\n",
      " |-- SYM_ROOT: string (nullable = true)\n",
      " |-- SYM_SUFFIX: string (nullable = true)\n",
      " |-- BuyNumTrades_LR: double (nullable = true)\n",
      " |-- SellNumTrades_LR: double (nullable = true)\n",
      " |-- total_trade: double (nullable = true)\n",
      " |-- BuyVol_LR: double (nullable = true)\n",
      " |-- SellVol_LR: double (nullable = true)\n",
      " |-- total_vol: double (nullable = true)\n",
      " |-- avg_buy_price_LR: double (nullable = true)\n",
      " |-- avg_sell_price_LR: double (nullable = true)\n",
      " |-- buy_dv_LR: double (nullable = true)\n",
      " |-- sell_dv_LR: double (nullable = true)\n",
      " |-- total_dv_LR: double (nullable = true)\n",
      " |-- vwavg_buy_price_LR: double (nullable = true)\n",
      " |-- vwavg_sell_price_LR: double (nullable = true)\n",
      " |-- symbol: string (nullable = true)\n",
      " |-- CTime: double (nullable = true)\n",
      " |-- CEX: string (nullable = true)\n",
      " |-- CSize: double (nullable = true)\n",
      " |-- CPrc: double (nullable = true)\n",
      " |-- TR_SEQNUM_close: double (nullable = true)\n",
      " |-- C_official: double (nullable = true)\n",
      " |-- OTime: double (nullable = true)\n",
      " |-- OEX: string (nullable = true)\n",
      " |-- OSize: double (nullable = true)\n",
      " |-- OPrc: double (nullable = true)\n",
      " |-- TR_SEQNUM_open: double (nullable = true)\n",
      " |-- O_official: double (nullable = true)\n",
      " |-- size_1pm: double (nullable = true)\n",
      " |-- ttime_1pm: double (nullable = true)\n",
      " |-- ptime_1pm: double (nullable = true)\n",
      " |-- size_4pm: double (nullable = true)\n",
      " |-- ttime_4pm: double (nullable = true)\n",
      " |-- ptime_4pm: double (nullable = true)\n",
      " |-- stime_open: double (nullable = true)\n",
      " |-- ttime_open: double (nullable = true)\n",
      " |-- ptime_open: double (nullable = true)\n",
      " |-- stime_close: double (nullable = true)\n",
      " |-- ttime_close: double (nullable = true)\n",
      " |-- ptime_close: double (nullable = true)\n",
      " |-- nbbot_1pm: double (nullable = true)\n",
      " |-- nbo_1pm: double (nullable = true)\n",
      " |-- nbb_1pm: double (nullable = true)\n",
      " |-- nboqty_1pm: double (nullable = true)\n",
      " |-- nbbqty_1pm: double (nullable = true)\n",
      " |-- nbbot_4pm: double (nullable = true)\n",
      " |-- nbo_4pm: double (nullable = true)\n",
      " |-- nbb_4pm: double (nullable = true)\n",
      " |-- nboqty_4pm: double (nullable = true)\n",
      " |-- nbbqty_4pm: double (nullable = true)\n",
      " |-- nbbot_after_open: double (nullable = true)\n",
      " |-- nbo_after_open: double (nullable = true)\n",
      " |-- nbb_after_open: double (nullable = true)\n",
      " |-- nboqty_after_open: double (nullable = true)\n",
      " |-- nbbqty_after_open: double (nullable = true)\n",
      " |-- nbbot_before_close: double (nullable = true)\n",
      " |-- nbo_before_close: double (nullable = true)\n",
      " |-- nbb_before_close: double (nullable = true)\n",
      " |-- nboqty_before_close: double (nullable = true)\n",
      " |-- nbbqty_before_close: double (nullable = true)\n",
      " |-- mid_1pm: double (nullable = true)\n",
      " |-- mid_4pm: double (nullable = true)\n",
      " |-- mid_after_open: double (nullable = true)\n",
      " |-- mid_before_close: double (nullable = true)\n",
      " |-- price_low_m: double (nullable = true)\n",
      " |-- price_high_m: double (nullable = true)\n",
      " |-- avg_price_m: double (nullable = true)\n",
      " |-- total_vol_m: double (nullable = true)\n",
      " |-- total_dollar_m: double (nullable = true)\n",
      " |-- total_n_trades_m: double (nullable = true)\n",
      " |-- vw_price_m: double (nullable = true)\n",
      " |-- price_low_b: double (nullable = true)\n",
      " |-- price_high_b: double (nullable = true)\n",
      " |-- avg_price_b: double (nullable = true)\n",
      " |-- total_vol_b: double (nullable = true)\n",
      " |-- total_dollar_b: double (nullable = true)\n",
      " |-- total_n_trades_b: double (nullable = true)\n",
      " |-- vw_price_b: double (nullable = true)\n",
      " |-- price_low_a: double (nullable = true)\n",
      " |-- price_high_a: double (nullable = true)\n",
      " |-- avg_price_a: double (nullable = true)\n",
      " |-- total_vol_a: double (nullable = true)\n",
      " |-- total_dollar_a: double (nullable = true)\n",
      " |-- total_n_trades_a: double (nullable = true)\n",
      " |-- vw_price_a: double (nullable = true)\n",
      " |-- ret_mkt_m: double (nullable = true)\n",
      " |-- n_outside_nbbo_trade: double (nullable = true)\n",
      " |-- n_oddlot_trade: double (nullable = true)\n",
      " |-- oddlot_vol: double (nullable = true)\n",
      " |-- oddlot_dollar: double (nullable = true)\n",
      " |-- n_iso_trade: double (nullable = true)\n",
      " |-- iso_vol: double (nullable = true)\n",
      " |-- iso_dollar: double (nullable = true)\n",
      " |-- BuyNumTrades_tick: double (nullable = true)\n",
      " |-- BuyVol_tick: double (nullable = true)\n",
      " |-- buy_dv_tick: double (nullable = true)\n",
      " |-- avg_buy_price_tick: double (nullable = true)\n",
      " |-- SellNumTrades_tick: double (nullable = true)\n",
      " |-- SellVol_tick: double (nullable = true)\n",
      " |-- sell_dv_tick: double (nullable = true)\n",
      " |-- avg_sell_price_tick: double (nullable = true)\n",
      " |-- total_trade_tick: double (nullable = true)\n",
      " |-- total_vol_tick: double (nullable = true)\n",
      " |-- total_dv_tick: double (nullable = true)\n",
      " |-- vwavg_buy_price_tick: double (nullable = true)\n",
      " |-- vwavg_sell_price_tick: double (nullable = true)\n",
      " |-- BuyNumTrades_wrds: double (nullable = true)\n",
      " |-- BuyVol_wrds: double (nullable = true)\n",
      " |-- buy_dv_wrds: double (nullable = true)\n",
      " |-- avg_buy_price_wrds: double (nullable = true)\n",
      " |-- SellNumTrades_wrds: double (nullable = true)\n",
      " |-- SellVol_wrds: double (nullable = true)\n",
      " |-- sell_dv_wrds: double (nullable = true)\n",
      " |-- avg_sell_price_wrds: double (nullable = true)\n",
      " |-- total_trade_wrds: double (nullable = true)\n",
      " |-- total_vol_wrds: double (nullable = true)\n",
      " |-- total_dv_wrds: double (nullable = true)\n",
      " |-- vwavg_buy_price_wrds: double (nullable = true)\n",
      " |-- vwavg_sell_price_wrds: double (nullable = true)\n",
      " |-- QuotedSpread_Dollar_tw: double (nullable = true)\n",
      " |-- QuotedSpread_Percent_tw: double (nullable = true)\n",
      " |-- BestOfrDepth_Dollar_tw: double (nullable = true)\n",
      " |-- BestBidDepth_Dollar_tw: double (nullable = true)\n",
      " |-- BestOfrDepth_Share_tw: double (nullable = true)\n",
      " |-- BestBidDepth_Share_tw: double (nullable = true)\n",
      " |-- EffectiveSpread_Dollar_Ave: double (nullable = true)\n",
      " |-- EffectiveSpread_Percent_Ave: double (nullable = true)\n",
      " |-- EffectiveSpread_Dollar_DW: double (nullable = true)\n",
      " |-- EffectiveSpread_Dollar_SW: double (nullable = true)\n",
      " |-- EffectiveSpread_Percent_DW: double (nullable = true)\n",
      " |-- EffectiveSpread_Percent_SW: double (nullable = true)\n",
      " |-- DollarRealizedSpread_LR_Ave: double (nullable = true)\n",
      " |-- PercentRealizedSpread_LR_Ave: double (nullable = true)\n",
      " |-- DollarPriceImpact_LR_Ave: double (nullable = true)\n",
      " |-- PercentPriceImpact_LR_Ave: double (nullable = true)\n",
      " |-- DollarRealizedSpread_LR_SW: double (nullable = true)\n",
      " |-- DollarRealizedSpread_LR_DW: double (nullable = true)\n",
      " |-- PercentRealizedSpread_LR_SW: double (nullable = true)\n",
      " |-- PercentRealizedSpread_LR_DW: double (nullable = true)\n",
      " |-- DollarPriceImpact_LR_SW: double (nullable = true)\n",
      " |-- DollarPriceImpact_LR_DW: double (nullable = true)\n",
      " |-- PercentPriceImpact_LR_SW: double (nullable = true)\n",
      " |-- PercentPriceImpact_LR_DW: double (nullable = true)\n",
      " |-- ivol_t: double (nullable = true)\n",
      " |-- ivol_q: double (nullable = true)\n",
      " |-- bs_ratio_num: double (nullable = true)\n",
      " |-- bs_ratio_vol: double (nullable = true)\n",
      " |-- TSignSqrtDVol1: double (nullable = true)\n",
      " |-- TSignSqrtDVol2: double (nullable = true)\n",
      " |-- n_obs: double (nullable = true)\n",
      " |-- n5_pos: double (nullable = true)\n",
      " |-- n30_pos: double (nullable = true)\n",
      " |-- HIndex: double (nullable = true)\n",
      " |-- var_ratio1: double (nullable = true)\n",
      " |-- var_ratio2: double (nullable = true)\n",
      " |-- var_ratio3: double (nullable = true)\n",
      " |-- var_ratio4: double (nullable = true)\n",
      " |-- var_ratio5: double (nullable = true)\n",
      " |-- BuyNumTrades_Retail: double (nullable = true)\n",
      " |-- BuyVol_Retail: double (nullable = true)\n",
      " |-- buy_dv_Retail: double (nullable = true)\n",
      " |-- SellNumTrades_Retail: double (nullable = true)\n",
      " |-- SellVol_Retail: double (nullable = true)\n",
      " |-- sell_dv_Retail: double (nullable = true)\n",
      " |-- total_trade_retail: double (nullable = true)\n",
      " |-- total_vol_retail: double (nullable = true)\n",
      " |-- total_dv_retail: double (nullable = true)\n",
      " |-- avg_buy_price_Retail: double (nullable = true)\n",
      " |-- avg_sell_price_Retail: double (nullable = true)\n",
      " |-- bs_ratio_retail_num: double (nullable = true)\n",
      " |-- bs_ratio_retail_vol: double (nullable = true)\n",
      " |-- BuyNumTrades_Inst20k: double (nullable = true)\n",
      " |-- BuyVol_Inst20k: double (nullable = true)\n",
      " |-- buy_dv_Inst20k: double (nullable = true)\n",
      " |-- SellNumTrades_Inst20k: double (nullable = true)\n",
      " |-- SellVol_Inst20k: double (nullable = true)\n",
      " |-- sell_dv_Inst20k: double (nullable = true)\n",
      " |-- total_trade_Inst20k: double (nullable = true)\n",
      " |-- total_vol_Inst20k: double (nullable = true)\n",
      " |-- total_dv_Inst20k: double (nullable = true)\n",
      " |-- avg_buy_price_Inst20k: double (nullable = true)\n",
      " |-- avg_sell_price_Inst20k: double (nullable = true)\n",
      " |-- bs_ratio_Inst20k_num: double (nullable = true)\n",
      " |-- bs_ratio_Inst20k_vol: double (nullable = true)\n",
      " |-- BuyNumTrades_Inst50k: double (nullable = true)\n",
      " |-- BuyVol_Inst50k: double (nullable = true)\n",
      " |-- buy_dv_Inst50k: double (nullable = true)\n",
      " |-- SellNumTrades_Inst50k: double (nullable = true)\n",
      " |-- SellVol_Inst50k: double (nullable = true)\n",
      " |-- sell_dv_Inst50k: double (nullable = true)\n",
      " |-- total_trade_Inst50k: double (nullable = true)\n",
      " |-- total_vol_Inst50k: double (nullable = true)\n",
      " |-- total_dv_Inst50k: double (nullable = true)\n",
      " |-- avg_buy_price_Inst50k: double (nullable = true)\n",
      " |-- avg_sell_price_Inst50k: double (nullable = true)\n",
      " |-- bs_ratio_Inst50k_num: double (nullable = true)\n",
      " |-- bs_ratio_Inst50k_vol: double (nullable = true)"
     ]
    }
   ],
   "source": [
    "iid.printSchema()"
   ]
  },
  {
   "cell_type": "code",
   "execution_count": 10,
   "id": "8fae34d1-1a6b-4a82-a413-5fc802e60256",
   "metadata": {
    "execution": {
     "iopub.execute_input": "2022-03-20T12:37:05.634907Z",
     "iopub.status.busy": "2022-03-20T12:37:05.634584Z",
     "iopub.status.idle": "2022-03-20T12:37:27.002289Z",
     "shell.execute_reply": "2022-03-20T12:37:27.001551Z",
     "shell.execute_reply.started": "2022-03-20T12:37:05.634868Z"
    },
    "tags": []
   },
   "outputs": [
    {
     "data": {
      "application/vnd.jupyter.widget-view+json": {
       "model_id": "caae8e1db45041409177af15a98382be",
       "version_major": 2,
       "version_minor": 0
      },
      "text/plain": [
       "VBox()"
      ]
     },
     "metadata": {},
     "output_type": "display_data"
    },
    {
     "data": {
      "application/vnd.jupyter.widget-view+json": {
       "model_id": "",
       "version_major": 2,
       "version_minor": 0
      },
      "text/plain": [
       "FloatProgress(value=0.0, bar_style='info', description='Progress:', layout=Layout(height='25px', width='50%'),…"
      ]
     },
     "metadata": {},
     "output_type": "display_data"
    },
    {
     "name": "stdout",
     "output_type": "stream",
     "text": [
      "[Row(Unnamed:_0=0, gvkey='001000', permno=25881.0, adate=datetime.datetime(1969, 12, 31, 0, 0), qdate=datetime.datetime(1970, 9, 30, 0, 0), public_date=datetime.datetime(1971, 1, 31, 0, 0), CAPEI=10.949958757217487, BE=10.211, bm=0.427327892864616, evm=1.7614826752618853, pe_op_basic=None, pe_op_dil=None, pe_exi=12.676056338028172, pe_inc=13.43283582089552, ps=0.6494265369353699, pcf=-3.254119569658178, dpr=0.0, npm=0.05960210903951733, opmbd=0.1327556696619598, opmad=0.10512943945228924, gpm=0.32643346170303805, ptpm=0.10122486093281984, cfm=0.07670089858793322, roa=0.2866547323439395, roe=0.2871225160381787, roce=0.3409071199375596, efftax=0.5151915455746366, aftret_eq=0.2106223588167499, aftret_invcapx=0.592462311557789, aftret_equity=0.2106223588167499, pretret_noa=0.4831612586037365, pretret_earnat=0.2495873015873016, GProf=0.4251184173864586, equity_invcap=0.8760622633571729, debt_invcap=0.1239377366428271, totdebt_invcap=0.7424484644509887, capital_ratio=0.12393773664282708, int_debt=0.3680506685432794, int_totdebt=0.1017410757708394, cash_lt=0.06902329603805199, invt_act=0.512417696661661, rect_act=0.38367794848099795, debt_at=0.3045416550571189, debt_ebitda=1.7614826752618853, short_debt=0.8330689029918404, curr_debt=0.7556348305496999, lt_debt=0.07745527268796283, profit_lct=0.3550786838340487, ocf_lct=-0.525250357653791, cash_debt=-0.3968974650018917, fcf_ocf=None, lt_ppent=2.190245057416835, dltt_be=0.14147137917787167, debt_assets=0.6443647255502926, debt_capital=0.5564918987011859, de_ratio=1.8120470127326151, intcov=4.508604206500956, intcov_ratio=7.516252390057361, cash_ratio=0.09134477825464947, quick_ratio=0.603862660944206, curr_ratio=1.2384835479256078, cash_conversion=70.63393548830251, inv_turn=5.2198963730569945, at_turn=2.1592654616850497, rect_turn=10.278174821330404, pay_turn=13.858005413283365, sale_invcap=3.0958350862431634, sale_equity=3.5338071456012288, sale_nwc=11.21535692861428, rd_sale=0.0, adv_sale=0.0, staff_sale=0.0, accrual=-0.5299994225327712, ret_crsp=-0.10000000149011612, gsector=None, gicdesc=None, sp500=0.0, mktcap=23.895, price=9.0, ptb=2.340123396337283, PEG_trailing=None, divyield=None, FFI5_desc='MANUF', FFI5=2.0, FFI10_desc='MANUF', FFI10=3.0, FFI12_desc='MANUF', FFI12=3.0, FFI17_desc='DURBL', FFI17=5.0, FFI30_desc=None, FFI30=None, FFI38_desc='RUBBR', FFI38=16.0, FFI48_desc='RUBBR', FFI48=15.0, FFI49_desc='RUBBR', FFI49=15.0, dt=3925.0, TICKER=None, cusip=None), Row(Unnamed:_0=1, gvkey='001000', permno=25881.0, adate=datetime.datetime(1970, 12, 31, 0, 0), qdate=datetime.datetime(1970, 12, 31, 0, 0), public_date=datetime.datetime(1971, 2, 28, 0, 0), CAPEI=35.40742627667225, BE=10.544, bm=0.43107113654946855, evm=7.009840326773117, pe_op_basic=None, pe_op_dil=None, pe_exi=19.866071428571427, pe_inc=65.44117647058823, ps=0.6515247601191132, pcf=24.410640495867785, dpr=0.0, npm=0.04142494761222013, opmbd=0.11880445571853974, opmad=0.08898202271975295, gpm=0.32659093415683244, ptpm=0.07985000551450315, cfm=0.07124738061100695, roa=0.1732891477108201, roe=0.18096844133943624, roce=0.1885355081438553, efftax=0.4812154696132597, aftret_eq=0.1809771610291992, aftret_invcapx=0.2342837512882171, aftret_equity=0.18096844133943624, pretret_noa=0.3599696604649088, pretret_earnat=0.14410230763735085, GProf=0.4426307922272047, equity_invcap=0.9199895297094496, debt_invcap=0.08001047029055057, totdebt_invcap=1.1600209405811008, capital_ratio=0.08001047029055057, int_debt=0.7234042553191489, int_totdebt=0.0771359862062707, cash_lt=0.07247009517157077, invt_act=0.4776825441431315, rect_act=0.4174511732471548, debt_at=0.3974588938714499, debt_ebitda=2.468436687708875, short_debt=0.9310267017675818, curr_debt=0.8554527198114031, lt_debt=0.04003317907971711, profit_lct=0.2748660372544017, ocf_lct=0.061750446542485286, cash_debt=0.05282458744433769, fcf_ocf=-1.286776859504134, lt_ppent=2.5806669671022986, dltt_be=0.08696889226100153, debt_assets=0.6847832585949177, debt_capital=0.6479818382132007, de_ratio=2.17242033383915, intcov=3.209411764705882, intcov_ratio=4.745882352941177, cash_ratio=0.08471548864506252, quick_ratio=0.5691247767287573, curr_ratio=1.0896146976269456, cash_conversion=115.76576814362663, inv_turn=3.2016150175659384, at_turn=1.4586081528908337, rect_turn=5.828619182309077, pay_turn=6.257931440919359, sale_invcap=3.9555885175813623, sale_equity=4.299601669195751, sale_nwc=25.81719817767653, rd_sale=0.0, adv_sale=0.0, staff_sale=0.0, accrual=-0.02149222997973041, ret_crsp=0.2361111044883728, gsector=None, gicdesc=None, sp500=0.0, mktcap=29.536875, price=11.125, ptb=2.8012969461305004, PEG_trailing=None, divyield=None, FFI5_desc='MANUF', FFI5=2.0, FFI10_desc='MANUF', FFI10=3.0, FFI12_desc='MANUF', FFI12=3.0, FFI17_desc='DURBL', FFI17=5.0, FFI30_desc=None, FFI30=None, FFI38_desc='RUBBR', FFI38=16.0, FFI48_desc='RUBBR', FFI48=15.0, FFI49_desc='RUBBR', FFI49=15.0, dt=4017.0, TICKER='AE', cusip='00003210'), Row(Unnamed:_0=2, gvkey='001000', permno=25881.0, adate=datetime.datetime(1970, 12, 31, 0, 0), qdate=datetime.datetime(1970, 12, 31, 0, 0), public_date=datetime.datetime(1971, 3, 31, 0, 0), CAPEI=31.03122752337569, BE=10.544, bm=0.43107113654946855, evm=7.009840326773117, pe_op_basic=None, pe_op_dil=None, pe_exi=17.410714285714285, pe_inc=57.352941176470594, ps=0.5709992279695599, pcf=21.393595041322328, dpr=0.0, npm=0.04142494761222013, opmbd=0.11880445571853974, opmad=0.08898202271975295, gpm=0.32659093415683244, ptpm=0.07985000551450315, cfm=0.07124738061100695, roa=0.1732891477108201, roe=0.18096844133943624, roce=0.1885355081438553, efftax=0.4812154696132597, aftret_eq=0.1809771610291992, aftret_invcapx=0.2342837512882171, aftret_equity=0.18096844133943624, pretret_noa=0.3599696604649088, pretret_earnat=0.14410230763735085, GProf=0.4426307922272047, equity_invcap=0.9199895297094496, debt_invcap=0.08001047029055057, totdebt_invcap=1.1600209405811008, capital_ratio=0.08001047029055057, int_debt=0.7234042553191489, int_totdebt=0.0771359862062707, cash_lt=0.07247009517157077, invt_act=0.4776825441431315, rect_act=0.4174511732471548, debt_at=0.3974588938714499, debt_ebitda=2.468436687708875, short_debt=0.9310267017675818, curr_debt=0.8554527198114031, lt_debt=0.04003317907971711, profit_lct=0.2748660372544017, ocf_lct=0.061750446542485286, cash_debt=0.05282458744433769, fcf_ocf=-1.286776859504134, lt_ppent=2.5806669671022986, dltt_be=0.08696889226100153, debt_assets=0.6847832585949177, debt_capital=0.6479818382132007, de_ratio=2.17242033383915, intcov=3.209411764705882, intcov_ratio=4.745882352941177, cash_ratio=0.08471548864506252, quick_ratio=0.5691247767287573, curr_ratio=1.0896146976269456, cash_conversion=115.76576814362663, inv_turn=3.2016150175659384, at_turn=1.4586081528908337, rect_turn=5.828619182309077, pay_turn=6.257931440919359, sale_invcap=3.9555885175813623, sale_equity=4.299601669195751, sale_nwc=25.81719817767653, rd_sale=0.0, adv_sale=0.0, staff_sale=0.0, accrual=-0.02149222997973041, ret_crsp=-0.12359550595283507, gsector=None, gicdesc=None, sp500=0.0, mktcap=25.88625, price=9.75, ptb=2.4550692336874045, PEG_trailing=None, divyield=None, FFI5_desc='MANUF', FFI5=2.0, FFI10_desc='MANUF', FFI10=3.0, FFI12_desc='MANUF', FFI12=3.0, FFI17_desc='DURBL', FFI17=5.0, FFI30_desc=None, FFI30=None, FFI38_desc='RUBBR', FFI38=16.0, FFI48_desc='RUBBR', FFI48=15.0, FFI49_desc='RUBBR', FFI49=15.0, dt=4017.0, TICKER='AE', cusip='00003210'), Row(Unnamed:_0=3, gvkey='001000', permno=25881.0, adate=datetime.datetime(1970, 12, 31, 0, 0), qdate=datetime.datetime(1970, 12, 31, 0, 0), public_date=datetime.datetime(1971, 4, 30, 0, 0), CAPEI=34.2139175257732, BE=10.544, bm=0.43107113654946855, evm=7.009840326773117, pe_op_basic=None, pe_op_dil=None, pe_exi=19.19642857142857, pe_inc=63.235294117647044, ps=0.6295632513510533, pcf=23.58780991735539, dpr=0.0, npm=0.04142494761222013, opmbd=0.11880445571853974, opmad=0.08898202271975295, gpm=0.32659093415683244, ptpm=0.07985000551450315, cfm=0.07124738061100695, roa=0.1732891477108201, roe=0.18096844133943624, roce=0.1885355081438553, efftax=0.4812154696132597, aftret_eq=0.1809771610291992, aftret_invcapx=0.2342837512882171, aftret_equity=0.18096844133943624, pretret_noa=0.3599696604649088, pretret_earnat=0.14410230763735085, GProf=0.4426307922272047, equity_invcap=0.9199895297094496, debt_invcap=0.08001047029055057, totdebt_invcap=1.1600209405811008, capital_ratio=0.08001047029055057, int_debt=0.7234042553191489, int_totdebt=0.0771359862062707, cash_lt=0.07247009517157077, invt_act=0.4776825441431315, rect_act=0.4174511732471548, debt_at=0.3974588938714499, debt_ebitda=2.468436687708875, short_debt=0.9310267017675818, curr_debt=0.8554527198114031, lt_debt=0.04003317907971711, profit_lct=0.2748660372544017, ocf_lct=0.061750446542485286, cash_debt=0.05282458744433769, fcf_ocf=-1.286776859504134, lt_ppent=2.5806669671022986, dltt_be=0.08696889226100153, debt_assets=0.6847832585949177, debt_capital=0.6479818382132007, de_ratio=2.17242033383915, intcov=3.209411764705882, intcov_ratio=4.745882352941177, cash_ratio=0.08471548864506252, quick_ratio=0.5691247767287573, curr_ratio=1.0896146976269456, cash_conversion=115.76576814362663, inv_turn=3.2016150175659384, at_turn=1.4586081528908337, rect_turn=5.828619182309077, pay_turn=6.257931440919359, sale_invcap=3.9555885175813623, sale_equity=4.299601669195751, sale_nwc=25.81719817767653, rd_sale=0.0, adv_sale=0.0, staff_sale=0.0, accrual=-0.02149222997973041, ret_crsp=0.10256410390138626, gsector=None, gicdesc=None, sp500=0.0, mktcap=28.54125, price=10.75, ptb=2.7068712063732927, PEG_trailing=None, divyield=None, FFI5_desc='MANUF', FFI5=2.0, FFI10_desc='MANUF', FFI10=3.0, FFI12_desc='MANUF', FFI12=3.0, FFI17_desc='DURBL', FFI17=5.0, FFI30_desc=None, FFI30=None, FFI38_desc='RUBBR', FFI38=16.0, FFI48_desc='RUBBR', FFI48=15.0, FFI49_desc='RUBBR', FFI49=15.0, dt=4017.0, TICKER='AE', cusip='00003210'), Row(Unnamed:_0=4, gvkey='001000', permno=25881.0, adate=datetime.datetime(1970, 12, 31, 0, 0), qdate=datetime.datetime(1971, 3, 31, 0, 0), public_date=datetime.datetime(1971, 5, 31, 0, 0), CAPEI=11.306738026380756, BE=10.544, bm=0.43107113654946855, evm=7.009840326773117, pe_op_basic=None, pe_op_dil=None, pe_exi=20.535714285714285, pe_inc=50.735294117647065, ps=0.5794962799878529, pcf=18.92510330578514, dpr=0.0, npm=0.0364662415224213, opmbd=0.11880445571853974, opmad=0.08898202271975295, gpm=0.32659093415683244, ptpm=0.07985000551450315, cfm=0.07124738061100695, roa=0.1732891477108201, roe=0.13666540212443096, roce=0.1885355081438553, efftax=0.4812154696132597, aftret_eq=0.13666540212443096, aftret_invcapx=0.08297705261321002, aftret_equity=0.13666540212443096, pretret_noa=0.3599696604649088, pretret_earnat=0.14410230763735085, GProf=0.4426307922272047, equity_invcap=0.9199895297094496, debt_invcap=0.08001047029055057, totdebt_invcap=1.1600209405811008, capital_ratio=0.08001047029055057, int_debt=0.7234042553191489, int_totdebt=0.0771359862062707, cash_lt=0.07247009517157077, invt_act=0.4776825441431315, rect_act=0.4174511732471548, debt_at=0.3974588938714499, debt_ebitda=2.468436687708875, short_debt=0.9310267017675818, curr_debt=0.8554527198114031, lt_debt=0.04003317907971711, profit_lct=0.2748660372544017, ocf_lct=0.061750446542485286, cash_debt=0.05282458744433769, fcf_ocf=-1.286776859504134, lt_ppent=2.5806669671022986, dltt_be=0.08696889226100153, debt_assets=0.6847832585949177, debt_capital=0.6479818382132007, de_ratio=2.17242033383915, intcov=3.209411764705882, intcov_ratio=4.745882352941177, cash_ratio=0.08471548864506252, quick_ratio=0.5691247767287573, curr_ratio=1.0896146976269456, cash_conversion=115.76576814362663, inv_turn=3.2016150175659384, at_turn=1.4586081528908337, rect_turn=5.828619182309077, pay_turn=6.257931440919359, sale_invcap=3.447866678300324, sale_equity=3.747723823975721, sale_nwc=25.81719817767653, rd_sale=0.0, adv_sale=0.0, staff_sale=0.0, accrual=-0.02149222997973041, ret_crsp=-0.197674423456192, gsector=None, gicdesc=None, sp500=0.0, mktcap=22.899375, price=8.625, ptb=2.1717920144157814, PEG_trailing=None, divyield=None, FFI5_desc='MANUF', FFI5=2.0, FFI10_desc='MANUF', FFI10=3.0, FFI12_desc='MANUF', FFI12=3.0, FFI17_desc='DURBL', FFI17=5.0, FFI30_desc=None, FFI30=None, FFI38_desc='RUBBR', FFI38=16.0, FFI48_desc='RUBBR', FFI48=15.0, FFI49_desc='RUBBR', FFI49=15.0, dt=4107.0, TICKER='AE', cusip='00003210'), Row(Unnamed:_0=5, gvkey='001000', permno=25881.0, adate=datetime.datetime(1970, 12, 31, 0, 0), qdate=datetime.datetime(1971, 3, 31, 0, 0), public_date=datetime.datetime(1971, 6, 30, 0, 0), CAPEI=10.815140720885939, BE=10.544, bm=0.43107113654946855, evm=7.009840326773117, pe_op_basic=None, pe_op_dil=None, pe_exi=19.642857142857142, pe_inc=48.529411764705884, ps=0.5543007895535984, pcf=18.10227272727274, dpr=0.0, npm=0.0364662415224213, opmbd=0.11880445571853974, opmad=0.08898202271975295, gpm=0.32659093415683244, ptpm=0.07985000551450315, cfm=0.07124738061100695, roa=0.1732891477108201, roe=0.13666540212443096, roce=0.1885355081438553, efftax=0.4812154696132597, aftret_eq=0.13666540212443096, aftret_invcapx=0.08297705261321002, aftret_equity=0.13666540212443096, pretret_noa=0.3599696604649088, pretret_earnat=0.14410230763735085, GProf=0.4426307922272047, equity_invcap=0.9199895297094496, debt_invcap=0.08001047029055057, totdebt_invcap=1.1600209405811008, capital_ratio=0.08001047029055057, int_debt=0.7234042553191489, int_totdebt=0.0771359862062707, cash_lt=0.07247009517157077, invt_act=0.4776825441431315, rect_act=0.4174511732471548, debt_at=0.3974588938714499, debt_ebitda=2.468436687708875, short_debt=0.9310267017675818, curr_debt=0.8554527198114031, lt_debt=0.04003317907971711, profit_lct=0.2748660372544017, ocf_lct=0.061750446542485286, cash_debt=0.05282458744433769, fcf_ocf=-1.286776859504134, lt_ppent=2.5806669671022986, dltt_be=0.08696889226100153, debt_assets=0.6847832585949177, debt_capital=0.6479818382132007, de_ratio=2.17242033383915, intcov=3.209411764705882, intcov_ratio=4.745882352941177, cash_ratio=0.08471548864506252, quick_ratio=0.5691247767287573, curr_ratio=1.0896146976269456, cash_conversion=115.76576814362663, inv_turn=3.2016150175659384, at_turn=1.4586081528908337, rect_turn=5.828619182309077, pay_turn=6.257931440919359, sale_invcap=3.447866678300324, sale_equity=3.747723823975721, sale_nwc=25.81719817767653, rd_sale=0.0, adv_sale=0.0, staff_sale=0.0, accrual=-0.02149222997973041, ret_crsp=-0.04347826167941093, gsector=None, gicdesc=None, sp500=0.0, mktcap=21.90375, price=8.25, ptb=2.0773662746585733, PEG_trailing=None, divyield=None, FFI5_desc='MANUF', FFI5=2.0, FFI10_desc='MANUF', FFI10=3.0, FFI12_desc='MANUF', FFI12=3.0, FFI17_desc='DURBL', FFI17=5.0, FFI30_desc=None, FFI30=None, FFI38_desc='RUBBR', FFI38=16.0, FFI48_desc='RUBBR', FFI48=15.0, FFI49_desc='RUBBR', FFI49=15.0, dt=4107.0, TICKER='AE', cusip='00003210'), Row(Unnamed:_0=6, gvkey='001000', permno=25881.0, adate=datetime.datetime(1970, 12, 31, 0, 0), qdate=datetime.datetime(1971, 3, 31, 0, 0), public_date=datetime.datetime(1971, 7, 31, 0, 0), CAPEI=8.02942265641532, BE=10.544, bm=0.43107113654946855, evm=7.009840326773117, pe_op_basic=None, pe_op_dil=None, pe_exi=14.583333333333332, pe_inc=36.029411764705884, ps=0.41152634375948977, pcf=13.439566115702489, dpr=0.0, npm=0.0364662415224213, opmbd=0.11880445571853974, opmad=0.08898202271975295, gpm=0.32659093415683244, ptpm=0.07985000551450315, cfm=0.07124738061100695, roa=0.1732891477108201, roe=0.13666540212443096, roce=0.1885355081438553, efftax=0.4812154696132597, aftret_eq=0.13666540212443096, aftret_invcapx=0.08297705261321002, aftret_equity=0.13666540212443096, pretret_noa=0.3599696604649088, pretret_earnat=0.14410230763735085, GProf=0.4426307922272047, equity_invcap=0.9199895297094496, debt_invcap=0.08001047029055057, totdebt_invcap=1.1600209405811008, capital_ratio=0.08001047029055057, int_debt=0.7234042553191489, int_totdebt=0.0771359862062707, cash_lt=0.07247009517157077, invt_act=0.4776825441431315, rect_act=0.4174511732471548, debt_at=0.3974588938714499, debt_ebitda=2.468436687708875, short_debt=0.9310267017675818, curr_debt=0.8554527198114031, lt_debt=0.04003317907971711, profit_lct=0.2748660372544017, ocf_lct=0.061750446542485286, cash_debt=0.05282458744433769, fcf_ocf=-1.286776859504134, lt_ppent=2.5806669671022986, dltt_be=0.08696889226100153, debt_assets=0.6847832585949177, debt_capital=0.6479818382132007, de_ratio=2.17242033383915, intcov=3.209411764705882, intcov_ratio=4.745882352941177, cash_ratio=0.08471548864506252, quick_ratio=0.5691247767287573, curr_ratio=1.0896146976269456, cash_conversion=115.76576814362663, inv_turn=3.2016150175659384, at_turn=1.4586081528908337, rect_turn=5.828619182309077, pay_turn=6.257931440919359, sale_invcap=3.447866678300324, sale_equity=3.747723823975721, sale_nwc=25.81719817767653, rd_sale=0.0, adv_sale=0.0, staff_sale=0.0, accrual=-0.02149222997973041, ret_crsp=-0.2575757503509521, gsector=None, gicdesc=None, sp500=0.0, mktcap=16.261875, price=6.125, ptb=1.5422870827010622, PEG_trailing=None, divyield=None, FFI5_desc='MANUF', FFI5=2.0, FFI10_desc='MANUF', FFI10=3.0, FFI12_desc='MANUF', FFI12=3.0, FFI17_desc='DURBL', FFI17=5.0, FFI30_desc=None, FFI30=None, FFI38_desc='RUBBR', FFI38=16.0, FFI48_desc='RUBBR', FFI48=15.0, FFI49_desc='RUBBR', FFI49=15.0, dt=4107.0, TICKER='AE', cusip='00003210'), Row(Unnamed:_0=7, gvkey='001000', permno=25881.0, adate=datetime.datetime(1970, 12, 31, 0, 0), qdate=datetime.datetime(1971, 6, 30, 0, 0), public_date=datetime.datetime(1971, 8, 31, 0, 0), CAPEI=7.369151467089613, BE=10.544, bm=0.43107113654946855, evm=7.009840326773117, pe_op_basic=None, pe_op_dil=None, pe_exi=19.444444444444443, pe_inc=30.882352941176467, ps=0.35301380270988986, pcf=11.519628099173564, dpr=0.0, npm=0.02418639989869571, opmbd=0.11880445571853974, opmad=0.08898202271975295, gpm=0.32659093415683244, ptpm=0.07985000551450315, cfm=0.07124738061100695, roa=0.1732891477108201, roe=0.09057283763277693, roce=0.1885355081438553, efftax=0.4812154696132597, aftret_eq=0.09057283763277693, aftret_invcapx=0.08297705261321002, aftret_equity=0.09057283763277693, pretret_noa=0.3599696604649088, pretret_earnat=0.14410230763735085, GProf=0.4426307922272047, equity_invcap=0.9199895297094496, debt_invcap=0.08001047029055057, totdebt_invcap=1.1600209405811008, capital_ratio=0.08001047029055057, int_debt=0.7234042553191489, int_totdebt=0.0771359862062707, cash_lt=0.07247009517157077, invt_act=0.4776825441431315, rect_act=0.4174511732471548, debt_at=0.3974588938714499, debt_ebitda=2.468436687708875, short_debt=0.9310267017675818, curr_debt=0.8554527198114031, lt_debt=0.04003317907971711, profit_lct=0.2748660372544017, ocf_lct=0.061750446542485286, cash_debt=0.05282458744433769, fcf_ocf=-1.286776859504134, lt_ppent=2.5806669671022986, dltt_be=0.08696889226100153, debt_assets=0.6847832585949177, debt_capital=0.6479818382132007, de_ratio=2.17242033383915, intcov=3.209411764705882, intcov_ratio=4.745882352941177, cash_ratio=0.08471548864506252, quick_ratio=0.5691247767287573, curr_ratio=1.0896146976269456, cash_conversion=115.76576814362663, inv_turn=3.2016150175659384, at_turn=1.4586081528908337, rect_turn=5.828619182309077, pay_turn=6.257931440919359, sale_invcap=3.4451618532414274, sale_equity=3.7447837632776935, sale_nwc=25.81719817767653, rd_sale=0.0, adv_sale=0.0, staff_sale=0.0, accrual=-0.02149222997973041, ret_crsp=-0.1428571492433548, gsector=None, gicdesc=None, sp500=0.0, mktcap=13.93875, price=5.25, ptb=1.3219603566009104, PEG_trailing=None, divyield=None, FFI5_desc='MANUF', FFI5=2.0, FFI10_desc='MANUF', FFI10=3.0, FFI12_desc='MANUF', FFI12=3.0, FFI17_desc='DURBL', FFI17=5.0, FFI30_desc=None, FFI30=None, FFI38_desc='RUBBR', FFI38=16.0, FFI48_desc='RUBBR', FFI48=15.0, FFI49_desc='RUBBR', FFI49=15.0, dt=4198.0, TICKER='AE', cusip='00003210'), Row(Unnamed:_0=8, gvkey='001000', permno=25881.0, adate=datetime.datetime(1970, 12, 31, 0, 0), qdate=datetime.datetime(1971, 6, 30, 0, 0), public_date=datetime.datetime(1971, 9, 30, 0, 0), CAPEI=6.491871530531324, BE=10.544, bm=0.43107113654946855, evm=7.009840326773117, pe_op_basic=None, pe_op_dil=None, pe_exi=17.12962962962963, pe_inc=27.20588235294117, ps=0.3109883500063315, pcf=10.1482438016529, dpr=0.0, npm=0.02418639989869571, opmbd=0.11880445571853974, opmad=0.08898202271975295, gpm=0.32659093415683244, ptpm=0.07985000551450315, cfm=0.07124738061100695, roa=0.1732891477108201, roe=0.09057283763277693, roce=0.1885355081438553, efftax=0.4812154696132597, aftret_eq=0.09057283763277693, aftret_invcapx=0.08297705261321002, aftret_equity=0.09057283763277693, pretret_noa=0.3599696604649088, pretret_earnat=0.14410230763735085, GProf=0.4426307922272047, equity_invcap=0.9199895297094496, debt_invcap=0.08001047029055057, totdebt_invcap=1.1600209405811008, capital_ratio=0.08001047029055057, int_debt=0.7234042553191489, int_totdebt=0.0771359862062707, cash_lt=0.07247009517157077, invt_act=0.4776825441431315, rect_act=0.4174511732471548, debt_at=0.3974588938714499, debt_ebitda=2.468436687708875, short_debt=0.9310267017675818, curr_debt=0.8554527198114031, lt_debt=0.04003317907971711, profit_lct=0.2748660372544017, ocf_lct=0.061750446542485286, cash_debt=0.05282458744433769, fcf_ocf=-1.286776859504134, lt_ppent=2.5806669671022986, dltt_be=0.08696889226100153, debt_assets=0.6847832585949177, debt_capital=0.6479818382132007, de_ratio=2.17242033383915, intcov=3.209411764705882, intcov_ratio=4.745882352941177, cash_ratio=0.08471548864506252, quick_ratio=0.5691247767287573, curr_ratio=1.0896146976269456, cash_conversion=115.76576814362663, inv_turn=3.2016150175659384, at_turn=1.4586081528908337, rect_turn=5.828619182309077, pay_turn=6.257931440919359, sale_invcap=3.4451618532414274, sale_equity=3.7447837632776935, sale_nwc=25.81719817767653, rd_sale=0.0, adv_sale=0.0, staff_sale=0.0, accrual=-0.02149222997973041, ret_crsp=-0.1190476194024086, gsector=None, gicdesc=None, sp500=0.0, mktcap=12.279375, price=4.625, ptb=1.1645841236722303, PEG_trailing=None, divyield=None, FFI5_desc='MANUF', FFI5=2.0, FFI10_desc='MANUF', FFI10=3.0, FFI12_desc='MANUF', FFI12=3.0, FFI17_desc='DURBL', FFI17=5.0, FFI30_desc=None, FFI30=None, FFI38_desc='RUBBR', FFI38=16.0, FFI48_desc='RUBBR', FFI48=15.0, FFI49_desc='RUBBR', FFI49=15.0, dt=4198.0, TICKER='AE', cusip='00003210'), Row(Unnamed:_0=9, gvkey='001000', permno=25881.0, adate=datetime.datetime(1970, 12, 31, 0, 0), qdate=datetime.datetime(1971, 6, 30, 0, 0), public_date=datetime.datetime(1971, 10, 31, 0, 0), CAPEI=6.84278350515464, BE=10.544, bm=0.43107113654946855, evm=7.009840326773117, pe_op_basic=None, pe_op_dil=None, pe_exi=18.055555555555557, pe_inc=28.676470588235286, ps=0.3277985310877549, pcf=10.696797520661166, dpr=0.0, npm=0.02418639989869571, opmbd=0.11880445571853974, opmad=0.08898202271975295, gpm=0.32659093415683244, ptpm=0.07985000551450315, cfm=0.07124738061100695, roa=0.1732891477108201, roe=0.09057283763277693, roce=0.1885355081438553, efftax=0.4812154696132597, aftret_eq=0.09057283763277693, aftret_invcapx=0.08297705261321002, aftret_equity=0.09057283763277693, pretret_noa=0.3599696604649088, pretret_earnat=0.14410230763735085, GProf=0.4426307922272047, equity_invcap=0.9199895297094496, debt_invcap=0.08001047029055057, totdebt_invcap=1.1600209405811008, capital_ratio=0.08001047029055057, int_debt=0.7234042553191489, int_totdebt=0.0771359862062707, cash_lt=0.07247009517157077, invt_act=0.4776825441431315, rect_act=0.4174511732471548, debt_at=0.3974588938714499, debt_ebitda=2.468436687708875, short_debt=0.9310267017675818, curr_debt=0.8554527198114031, lt_debt=0.04003317907971711, profit_lct=0.2748660372544017, ocf_lct=0.061750446542485286, cash_debt=0.05282458744433769, fcf_ocf=-1.286776859504134, lt_ppent=2.5806669671022986, dltt_be=0.08696889226100153, debt_assets=0.6847832585949177, debt_capital=0.6479818382132007, de_ratio=2.17242033383915, intcov=3.209411764705882, intcov_ratio=4.745882352941177, cash_ratio=0.08471548864506252, quick_ratio=0.5691247767287573, curr_ratio=1.0896146976269456, cash_conversion=115.76576814362663, inv_turn=3.2016150175659384, at_turn=1.4586081528908337, rect_turn=5.828619182309077, pay_turn=6.257931440919359, sale_invcap=3.4451618532414274, sale_equity=3.7447837632776935, sale_nwc=25.81719817767653, rd_sale=0.0, adv_sale=0.0, staff_sale=0.0, accrual=-0.02149222997973041, ret_crsp=0.054054055362939835, gsector=None, gicdesc=None, sp500=0.0, mktcap=12.943125, price=4.875, ptb=1.2275346168437025, PEG_trailing=None, divyield=None, FFI5_desc='MANUF', FFI5=2.0, FFI10_desc='MANUF', FFI10=3.0, FFI12_desc='MANUF', FFI12=3.0, FFI17_desc='DURBL', FFI17=5.0, FFI30_desc=None, FFI30=None, FFI38_desc='RUBBR', FFI38=16.0, FFI48_desc='RUBBR', FFI48=15.0, FFI49_desc='RUBBR', FFI49=15.0, dt=4198.0, TICKER='AE', cusip='00003210')]"
     ]
    }
   ],
   "source": [
    "ratio.head(10)"
   ]
  },
  {
   "cell_type": "code",
   "execution_count": 7,
   "id": "503574c4-3d42-488d-8a36-6f8a81468aa3",
   "metadata": {
    "execution": {
     "iopub.execute_input": "2022-03-20T12:28:18.775349Z",
     "iopub.status.busy": "2022-03-20T12:28:18.775118Z",
     "iopub.status.idle": "2022-03-20T12:28:18.832970Z",
     "shell.execute_reply": "2022-03-20T12:28:18.832374Z",
     "shell.execute_reply.started": "2022-03-20T12:28:18.775324Z"
    }
   },
   "outputs": [
    {
     "data": {
      "application/vnd.jupyter.widget-view+json": {
       "model_id": "1b562540b7d04848a44d0492813c65b9",
       "version_major": 2,
       "version_minor": 0
      },
      "text/plain": [
       "VBox()"
      ]
     },
     "metadata": {},
     "output_type": "display_data"
    },
    {
     "data": {
      "application/vnd.jupyter.widget-view+json": {
       "model_id": "",
       "version_major": 2,
       "version_minor": 0
      },
      "text/plain": [
       "FloatProgress(value=0.0, bar_style='info', description='Progress:', layout=Layout(height='25px', width='50%'),…"
      ]
     },
     "metadata": {},
     "output_type": "display_data"
    },
    {
     "name": "stderr",
     "output_type": "stream",
     "text": [
      "An error was encountered:\n",
      "'Column' object is not callable\n",
      "Traceback (most recent call last):\n",
      "TypeError: 'Column' object is not callable\n",
      "\n"
     ]
    }
   ],
   "source": []
  },
  {
   "cell_type": "code",
   "execution_count": 19,
   "id": "aaea6bb7-dce5-45ce-8af7-8c9eefebba58",
   "metadata": {
    "execution": {
     "iopub.execute_input": "2022-03-20T13:06:49.669126Z",
     "iopub.status.busy": "2022-03-20T13:06:49.668875Z",
     "iopub.status.idle": "2022-03-20T13:06:49.934550Z",
     "shell.execute_reply": "2022-03-20T13:06:49.933945Z",
     "shell.execute_reply.started": "2022-03-20T13:06:49.669089Z"
    },
    "tags": []
   },
   "outputs": [
    {
     "data": {
      "application/vnd.jupyter.widget-view+json": {
       "model_id": "d7c4a440d545418bb1d12b84d9fa10bb",
       "version_major": 2,
       "version_minor": 0
      },
      "text/plain": [
       "VBox()"
      ]
     },
     "metadata": {},
     "output_type": "display_data"
    },
    {
     "data": {
      "application/vnd.jupyter.widget-view+json": {
       "model_id": "",
       "version_major": 2,
       "version_minor": 0
      },
      "text/plain": [
       "FloatProgress(value=0.0, bar_style='info', description='Progress:', layout=Layout(height='25px', width='50%'),…"
      ]
     },
     "metadata": {},
     "output_type": "display_data"
    }
   ],
   "source": [
    "full = test.join(iid,[test.Date==iid.DATE, test.Ticker==iid.symbol],'left')\n"
   ]
  },
  {
   "cell_type": "code",
   "execution_count": 12,
   "id": "b973683a-7475-4b56-82a8-17b8ee71db38",
   "metadata": {
    "execution": {
     "iopub.execute_input": "2022-03-20T12:42:22.686632Z",
     "iopub.status.busy": "2022-03-20T12:42:22.686411Z",
     "iopub.status.idle": "2022-03-20T12:42:22.944464Z",
     "shell.execute_reply": "2022-03-20T12:42:22.943741Z",
     "shell.execute_reply.started": "2022-03-20T12:42:22.686610Z"
    },
    "tags": []
   },
   "outputs": [
    {
     "data": {
      "application/vnd.jupyter.widget-view+json": {
       "model_id": "2f8af5c232c04bb180344249da8e9a3b",
       "version_major": 2,
       "version_minor": 0
      },
      "text/plain": [
       "VBox()"
      ]
     },
     "metadata": {},
     "output_type": "display_data"
    },
    {
     "data": {
      "application/vnd.jupyter.widget-view+json": {
       "model_id": "",
       "version_major": 2,
       "version_minor": 0
      },
      "text/plain": [
       "FloatProgress(value=0.0, bar_style='info', description='Progress:', layout=Layout(height='25px', width='50%'),…"
      ]
     },
     "metadata": {},
     "output_type": "display_data"
    },
    {
     "name": "stderr",
     "output_type": "stream",
     "text": [
      "An error was encountered:\n",
      "Reference 'Date' is ambiguous, could be: Date, Date.\n",
      "Traceback (most recent call last):\n",
      "  File \"/usr/lib/spark/python/lib/pyspark.zip/pyspark/sql/dataframe.py\", line 1647, in __getattr__\n",
      "    jc = self._jdf.apply(name)\n",
      "  File \"/usr/lib/spark/python/lib/py4j-0.10.9-src.zip/py4j/java_gateway.py\", line 1305, in __call__\n",
      "    answer, self.gateway_client, self.target_id, self.name)\n",
      "  File \"/usr/lib/spark/python/lib/pyspark.zip/pyspark/sql/utils.py\", line 117, in deco\n",
      "    raise converted from None\n",
      "pyspark.sql.utils.AnalysisException: Reference 'Date' is ambiguous, could be: Date, Date.\n",
      "\n"
     ]
    }
   ],
   "source": [
    "full = full.join(ratio,[full.Date==ratio.public_date, full.Ticker==ratio.TICKER],'inner')"
   ]
  },
  {
   "cell_type": "code",
   "execution_count": 22,
   "id": "051ebc29-68b0-4ab8-8a39-27a7a41ca424",
   "metadata": {
    "execution": {
     "iopub.execute_input": "2022-03-20T13:22:31.695256Z",
     "iopub.status.busy": "2022-03-20T13:22:31.695028Z",
     "iopub.status.idle": "2022-03-20T13:22:31.953174Z",
     "shell.execute_reply": "2022-03-20T13:22:31.952498Z",
     "shell.execute_reply.started": "2022-03-20T13:22:31.695232Z"
    },
    "tags": []
   },
   "outputs": [
    {
     "data": {
      "application/vnd.jupyter.widget-view+json": {
       "model_id": "ceedff82d22f4e7fbfbe128d820b54a6",
       "version_major": 2,
       "version_minor": 0
      },
      "text/plain": [
       "VBox()"
      ]
     },
     "metadata": {},
     "output_type": "display_data"
    },
    {
     "data": {
      "application/vnd.jupyter.widget-view+json": {
       "model_id": "",
       "version_major": 2,
       "version_minor": 0
      },
      "text/plain": [
       "FloatProgress(value=0.0, bar_style='info', description='Progress:', layout=Layout(height='25px', width='50%'),…"
      ]
     },
     "metadata": {},
     "output_type": "display_data"
    },
    {
     "name": "stdout",
     "output_type": "stream",
     "text": [
      "root\n",
      " |-- Date: timestamp (nullable = true)\n",
      " |-- Ticker: string (nullable = true)\n",
      " |-- TimeBarStart: string (nullable = true)\n",
      " |-- OpenBarTime: string (nullable = true)\n",
      " |-- OpenBidPrice: string (nullable = true)\n",
      " |-- OpenBidSize: string (nullable = true)\n",
      " |-- OpenAskPrice: string (nullable = true)\n",
      " |-- OpenAskSize: string (nullable = true)\n",
      " |-- FirstTradeTime: string (nullable = true)\n",
      " |-- FirstTradePrice: string (nullable = true)\n",
      " |-- FirstTradeSize: string (nullable = true)\n",
      " |-- HighBidTime: string (nullable = true)\n",
      " |-- HighBidPrice: string (nullable = true)\n",
      " |-- HighBidSize: string (nullable = true)\n",
      " |-- HighAskTime: string (nullable = true)\n",
      " |-- HighAskPrice: string (nullable = true)\n",
      " |-- HighAskSize: string (nullable = true)\n",
      " |-- HighTradeTime: string (nullable = true)\n",
      " |-- HighTradePrice: string (nullable = true)\n",
      " |-- HighTradeSize: string (nullable = true)\n",
      " |-- LowBidTime: string (nullable = true)\n",
      " |-- LowBidPrice: string (nullable = true)\n",
      " |-- LowBidSize: string (nullable = true)\n",
      " |-- LowAskTime: string (nullable = true)\n",
      " |-- LowAskPrice: string (nullable = true)\n",
      " |-- LowAskSize: string (nullable = true)\n",
      " |-- LowTradeTime: string (nullable = true)\n",
      " |-- LowTradePrice: string (nullable = true)\n",
      " |-- LowTradeSize: string (nullable = true)\n",
      " |-- CloseBarTime: string (nullable = true)\n",
      " |-- CloseBidPrice: string (nullable = true)\n",
      " |-- CloseBidSize: string (nullable = true)\n",
      " |-- CloseAskPrice: string (nullable = true)\n",
      " |-- CloseAskSize: string (nullable = true)\n",
      " |-- LastTradeTime: string (nullable = true)\n",
      " |-- LastTradePrice: string (nullable = true)\n",
      " |-- LastTradeSize: string (nullable = true)\n",
      " |-- MinSpread: string (nullable = true)\n",
      " |-- MaxSpread: string (nullable = true)\n",
      " |-- CancelSize: string (nullable = true)\n",
      " |-- VolumeWeightPrice: string (nullable = true)\n",
      " |-- NBBOQuoteCount: string (nullable = true)\n",
      " |-- TradeAtBid: string (nullable = true)\n",
      " |-- TradeAtBidMid: string (nullable = true)\n",
      " |-- TradeAtMid: string (nullable = true)\n",
      " |-- TradeAtMidAsk: string (nullable = true)\n",
      " |-- TradeAtAsk: string (nullable = true)\n",
      " |-- TradeAtCrossOrLocked: string (nullable = true)\n",
      " |-- Volume: string (nullable = true)\n",
      " |-- TotalTrades: string (nullable = true)\n",
      " |-- FinraVolume: string (nullable = true)\n",
      " |-- FinraVolumeWeightPrice: string (nullable = true)\n",
      " |-- UptickVolume: string (nullable = true)\n",
      " |-- DowntickVolume: string (nullable = true)\n",
      " |-- RepeatUptickVolume: string (nullable = true)\n",
      " |-- RepeatDowntickVolume: string (nullable = true)\n",
      " |-- UnknownTickVolume: string (nullable = true)\n",
      " |-- TradeToMidVolWeight: string (nullable = true)\n",
      " |-- TradeToMidVolWeightRelative: string (nullable = true)\n",
      " |-- TimeWeightBid: string (nullable = true)\n",
      " |-- TimeWeightAsk: string (nullable = true)\n",
      " |-- Unnamed:_0: long (nullable = true)\n",
      " |-- DATE: timestamp (nullable = true)\n",
      " |-- SYM_ROOT: string (nullable = true)\n",
      " |-- SYM_SUFFIX: string (nullable = true)\n",
      " |-- BuyNumTrades_LR: double (nullable = true)\n",
      " |-- SellNumTrades_LR: double (nullable = true)\n",
      " |-- total_trade: double (nullable = true)\n",
      " |-- BuyVol_LR: double (nullable = true)\n",
      " |-- SellVol_LR: double (nullable = true)\n",
      " |-- total_vol: double (nullable = true)\n",
      " |-- avg_buy_price_LR: double (nullable = true)\n",
      " |-- avg_sell_price_LR: double (nullable = true)\n",
      " |-- buy_dv_LR: double (nullable = true)\n",
      " |-- sell_dv_LR: double (nullable = true)\n",
      " |-- total_dv_LR: double (nullable = true)\n",
      " |-- vwavg_buy_price_LR: double (nullable = true)\n",
      " |-- vwavg_sell_price_LR: double (nullable = true)\n",
      " |-- symbol: string (nullable = true)\n",
      " |-- CTime: double (nullable = true)\n",
      " |-- CEX: string (nullable = true)\n",
      " |-- CSize: double (nullable = true)\n",
      " |-- CPrc: double (nullable = true)\n",
      " |-- TR_SEQNUM_close: double (nullable = true)\n",
      " |-- C_official: double (nullable = true)\n",
      " |-- OTime: double (nullable = true)\n",
      " |-- OEX: string (nullable = true)\n",
      " |-- OSize: double (nullable = true)\n",
      " |-- OPrc: double (nullable = true)\n",
      " |-- TR_SEQNUM_open: double (nullable = true)\n",
      " |-- O_official: double (nullable = true)\n",
      " |-- size_1pm: double (nullable = true)\n",
      " |-- ttime_1pm: double (nullable = true)\n",
      " |-- ptime_1pm: double (nullable = true)\n",
      " |-- size_4pm: double (nullable = true)\n",
      " |-- ttime_4pm: double (nullable = true)\n",
      " |-- ptime_4pm: double (nullable = true)\n",
      " |-- stime_open: double (nullable = true)\n",
      " |-- ttime_open: double (nullable = true)\n",
      " |-- ptime_open: double (nullable = true)\n",
      " |-- stime_close: double (nullable = true)\n",
      " |-- ttime_close: double (nullable = true)\n",
      " |-- ptime_close: double (nullable = true)\n",
      " |-- nbbot_1pm: double (nullable = true)\n",
      " |-- nbo_1pm: double (nullable = true)\n",
      " |-- nbb_1pm: double (nullable = true)\n",
      " |-- nboqty_1pm: double (nullable = true)\n",
      " |-- nbbqty_1pm: double (nullable = true)\n",
      " |-- nbbot_4pm: double (nullable = true)\n",
      " |-- nbo_4pm: double (nullable = true)\n",
      " |-- nbb_4pm: double (nullable = true)\n",
      " |-- nboqty_4pm: double (nullable = true)\n",
      " |-- nbbqty_4pm: double (nullable = true)\n",
      " |-- nbbot_after_open: double (nullable = true)\n",
      " |-- nbo_after_open: double (nullable = true)\n",
      " |-- nbb_after_open: double (nullable = true)\n",
      " |-- nboqty_after_open: double (nullable = true)\n",
      " |-- nbbqty_after_open: double (nullable = true)\n",
      " |-- nbbot_before_close: double (nullable = true)\n",
      " |-- nbo_before_close: double (nullable = true)\n",
      " |-- nbb_before_close: double (nullable = true)\n",
      " |-- nboqty_before_close: double (nullable = true)\n",
      " |-- nbbqty_before_close: double (nullable = true)\n",
      " |-- mid_1pm: double (nullable = true)\n",
      " |-- mid_4pm: double (nullable = true)\n",
      " |-- mid_after_open: double (nullable = true)\n",
      " |-- mid_before_close: double (nullable = true)\n",
      " |-- price_low_m: double (nullable = true)\n",
      " |-- price_high_m: double (nullable = true)\n",
      " |-- avg_price_m: double (nullable = true)\n",
      " |-- total_vol_m: double (nullable = true)\n",
      " |-- total_dollar_m: double (nullable = true)\n",
      " |-- total_n_trades_m: double (nullable = true)\n",
      " |-- vw_price_m: double (nullable = true)\n",
      " |-- price_low_b: double (nullable = true)\n",
      " |-- price_high_b: double (nullable = true)\n",
      " |-- avg_price_b: double (nullable = true)\n",
      " |-- total_vol_b: double (nullable = true)\n",
      " |-- total_dollar_b: double (nullable = true)\n",
      " |-- total_n_trades_b: double (nullable = true)\n",
      " |-- vw_price_b: double (nullable = true)\n",
      " |-- price_low_a: double (nullable = true)\n",
      " |-- price_high_a: double (nullable = true)\n",
      " |-- avg_price_a: double (nullable = true)\n",
      " |-- total_vol_a: double (nullable = true)\n",
      " |-- total_dollar_a: double (nullable = true)\n",
      " |-- total_n_trades_a: double (nullable = true)\n",
      " |-- vw_price_a: double (nullable = true)\n",
      " |-- ret_mkt_m: double (nullable = true)\n",
      " |-- n_outside_nbbo_trade: double (nullable = true)\n",
      " |-- n_oddlot_trade: double (nullable = true)\n",
      " |-- oddlot_vol: double (nullable = true)\n",
      " |-- oddlot_dollar: double (nullable = true)\n",
      " |-- n_iso_trade: double (nullable = true)\n",
      " |-- iso_vol: double (nullable = true)\n",
      " |-- iso_dollar: double (nullable = true)\n",
      " |-- BuyNumTrades_tick: double (nullable = true)\n",
      " |-- BuyVol_tick: double (nullable = true)\n",
      " |-- buy_dv_tick: double (nullable = true)\n",
      " |-- avg_buy_price_tick: double (nullable = true)\n",
      " |-- SellNumTrades_tick: double (nullable = true)\n",
      " |-- SellVol_tick: double (nullable = true)\n",
      " |-- sell_dv_tick: double (nullable = true)\n",
      " |-- avg_sell_price_tick: double (nullable = true)\n",
      " |-- total_trade_tick: double (nullable = true)\n",
      " |-- total_vol_tick: double (nullable = true)\n",
      " |-- total_dv_tick: double (nullable = true)\n",
      " |-- vwavg_buy_price_tick: double (nullable = true)\n",
      " |-- vwavg_sell_price_tick: double (nullable = true)\n",
      " |-- BuyNumTrades_wrds: double (nullable = true)\n",
      " |-- BuyVol_wrds: double (nullable = true)\n",
      " |-- buy_dv_wrds: double (nullable = true)\n",
      " |-- avg_buy_price_wrds: double (nullable = true)\n",
      " |-- SellNumTrades_wrds: double (nullable = true)\n",
      " |-- SellVol_wrds: double (nullable = true)\n",
      " |-- sell_dv_wrds: double (nullable = true)\n",
      " |-- avg_sell_price_wrds: double (nullable = true)\n",
      " |-- total_trade_wrds: double (nullable = true)\n",
      " |-- total_vol_wrds: double (nullable = true)\n",
      " |-- total_dv_wrds: double (nullable = true)\n",
      " |-- vwavg_buy_price_wrds: double (nullable = true)\n",
      " |-- vwavg_sell_price_wrds: double (nullable = true)\n",
      " |-- QuotedSpread_Dollar_tw: double (nullable = true)\n",
      " |-- QuotedSpread_Percent_tw: double (nullable = true)\n",
      " |-- BestOfrDepth_Dollar_tw: double (nullable = true)\n",
      " |-- BestBidDepth_Dollar_tw: double (nullable = true)\n",
      " |-- BestOfrDepth_Share_tw: double (nullable = true)\n",
      " |-- BestBidDepth_Share_tw: double (nullable = true)\n",
      " |-- EffectiveSpread_Dollar_Ave: double (nullable = true)\n",
      " |-- EffectiveSpread_Percent_Ave: double (nullable = true)\n",
      " |-- EffectiveSpread_Dollar_DW: double (nullable = true)\n",
      " |-- EffectiveSpread_Dollar_SW: double (nullable = true)\n",
      " |-- EffectiveSpread_Percent_DW: double (nullable = true)\n",
      " |-- EffectiveSpread_Percent_SW: double (nullable = true)\n",
      " |-- DollarRealizedSpread_LR_Ave: double (nullable = true)\n",
      " |-- PercentRealizedSpread_LR_Ave: double (nullable = true)\n",
      " |-- DollarPriceImpact_LR_Ave: double (nullable = true)\n",
      " |-- PercentPriceImpact_LR_Ave: double (nullable = true)\n",
      " |-- DollarRealizedSpread_LR_SW: double (nullable = true)\n",
      " |-- DollarRealizedSpread_LR_DW: double (nullable = true)\n",
      " |-- PercentRealizedSpread_LR_SW: double (nullable = true)\n",
      " |-- PercentRealizedSpread_LR_DW: double (nullable = true)\n",
      " |-- DollarPriceImpact_LR_SW: double (nullable = true)\n",
      " |-- DollarPriceImpact_LR_DW: double (nullable = true)\n",
      " |-- PercentPriceImpact_LR_SW: double (nullable = true)\n",
      " |-- PercentPriceImpact_LR_DW: double (nullable = true)\n",
      " |-- ivol_t: double (nullable = true)\n",
      " |-- ivol_q: double (nullable = true)\n",
      " |-- bs_ratio_num: double (nullable = true)\n",
      " |-- bs_ratio_vol: double (nullable = true)\n",
      " |-- TSignSqrtDVol1: double (nullable = true)\n",
      " |-- TSignSqrtDVol2: double (nullable = true)\n",
      " |-- n_obs: double (nullable = true)\n",
      " |-- n5_pos: double (nullable = true)\n",
      " |-- n30_pos: double (nullable = true)\n",
      " |-- HIndex: double (nullable = true)\n",
      " |-- var_ratio1: double (nullable = true)\n",
      " |-- var_ratio2: double (nullable = true)\n",
      " |-- var_ratio3: double (nullable = true)\n",
      " |-- var_ratio4: double (nullable = true)\n",
      " |-- var_ratio5: double (nullable = true)\n",
      " |-- BuyNumTrades_Retail: double (nullable = true)\n",
      " |-- BuyVol_Retail: double (nullable = true)\n",
      " |-- buy_dv_Retail: double (nullable = true)\n",
      " |-- SellNumTrades_Retail: double (nullable = true)\n",
      " |-- SellVol_Retail: double (nullable = true)\n",
      " |-- sell_dv_Retail: double (nullable = true)\n",
      " |-- total_trade_retail: double (nullable = true)\n",
      " |-- total_vol_retail: double (nullable = true)\n",
      " |-- total_dv_retail: double (nullable = true)\n",
      " |-- avg_buy_price_Retail: double (nullable = true)\n",
      " |-- avg_sell_price_Retail: double (nullable = true)\n",
      " |-- bs_ratio_retail_num: double (nullable = true)\n",
      " |-- bs_ratio_retail_vol: double (nullable = true)\n",
      " |-- BuyNumTrades_Inst20k: double (nullable = true)\n",
      " |-- BuyVol_Inst20k: double (nullable = true)\n",
      " |-- buy_dv_Inst20k: double (nullable = true)\n",
      " |-- SellNumTrades_Inst20k: double (nullable = true)\n",
      " |-- SellVol_Inst20k: double (nullable = true)\n",
      " |-- sell_dv_Inst20k: double (nullable = true)\n",
      " |-- total_trade_Inst20k: double (nullable = true)\n",
      " |-- total_vol_Inst20k: double (nullable = true)\n",
      " |-- total_dv_Inst20k: double (nullable = true)\n",
      " |-- avg_buy_price_Inst20k: double (nullable = true)\n",
      " |-- avg_sell_price_Inst20k: double (nullable = true)\n",
      " |-- bs_ratio_Inst20k_num: double (nullable = true)\n",
      " |-- bs_ratio_Inst20k_vol: double (nullable = true)\n",
      " |-- BuyNumTrades_Inst50k: double (nullable = true)\n",
      " |-- BuyVol_Inst50k: double (nullable = true)\n",
      " |-- buy_dv_Inst50k: double (nullable = true)\n",
      " |-- SellNumTrades_Inst50k: double (nullable = true)\n",
      " |-- SellVol_Inst50k: double (nullable = true)\n",
      " |-- sell_dv_Inst50k: double (nullable = true)\n",
      " |-- total_trade_Inst50k: double (nullable = true)\n",
      " |-- total_vol_Inst50k: double (nullable = true)\n",
      " |-- total_dv_Inst50k: double (nullable = true)\n",
      " |-- avg_buy_price_Inst50k: double (nullable = true)\n",
      " |-- avg_sell_price_Inst50k: double (nullable = true)\n",
      " |-- bs_ratio_Inst50k_num: double (nullable = true)\n",
      " |-- bs_ratio_Inst50k_vol: double (nullable = true)"
     ]
    }
   ],
   "source": [
    "full.printSchema()"
   ]
  },
  {
   "cell_type": "code",
   "execution_count": 20,
   "id": "6f2e07ad-a5bd-4c7d-86d3-5dd7f54c3755",
   "metadata": {
    "execution": {
     "iopub.execute_input": "2022-03-20T13:06:53.999842Z",
     "iopub.status.busy": "2022-03-20T13:06:53.999620Z",
     "iopub.status.idle": "2022-03-20T13:10:21.768437Z",
     "shell.execute_reply": "2022-03-20T13:10:21.767829Z",
     "shell.execute_reply.started": "2022-03-20T13:06:53.999818Z"
    },
    "tags": []
   },
   "outputs": [
    {
     "data": {
      "application/vnd.jupyter.widget-view+json": {
       "model_id": "c27eff758c314e44b6104024edbd3799",
       "version_major": 2,
       "version_minor": 0
      },
      "text/plain": [
       "VBox()"
      ]
     },
     "metadata": {},
     "output_type": "display_data"
    },
    {
     "data": {
      "application/vnd.jupyter.widget-view+json": {
       "model_id": "",
       "version_major": 2,
       "version_minor": 0
      },
      "text/plain": [
       "FloatProgress(value=0.0, bar_style='info', description='Progress:', layout=Layout(height='25px', width='50%'),…"
      ]
     },
     "metadata": {},
     "output_type": "display_data"
    },
    {
     "name": "stderr",
     "output_type": "stream",
     "text": [
      "An error was encountered:\n",
      "An error occurred while calling o183.collectToPython.\n",
      ": org.apache.spark.SparkException: Job aborted due to stage failure: Task 20 in stage 18.0 failed 4 times, most recent failure: Lost task 20.3 in stage 18.0 (TID 43165) (ip-10-0-20-12.ec2.internal executor 31): ExecutorLostFailure (executor 31 exited caused by one of the running tasks) Reason: Container from a bad node: container_1647757004392_0005_01_000044 on host: ip-10-0-20-12.ec2.internal. Exit status: 137. Diagnostics: [2022-03-20 13:10:19.619]Container killed on request. Exit code is 137\n",
      "[2022-03-20 13:10:19.619]Container exited with a non-zero exit code 137. \n",
      "[2022-03-20 13:10:19.620]Killed by external signal\n",
      ".\n",
      "Driver stacktrace:\n",
      "\tat org.apache.spark.scheduler.DAGScheduler.failJobAndIndependentStages(DAGScheduler.scala:2470)\n",
      "\tat org.apache.spark.scheduler.DAGScheduler.$anonfun$abortStage$2(DAGScheduler.scala:2419)\n",
      "\tat org.apache.spark.scheduler.DAGScheduler.$anonfun$abortStage$2$adapted(DAGScheduler.scala:2418)\n",
      "\tat scala.collection.mutable.ResizableArray.foreach(ResizableArray.scala:62)\n",
      "\tat scala.collection.mutable.ResizableArray.foreach$(ResizableArray.scala:55)\n",
      "\tat scala.collection.mutable.ArrayBuffer.foreach(ArrayBuffer.scala:49)\n",
      "\tat org.apache.spark.scheduler.DAGScheduler.abortStage(DAGScheduler.scala:2418)\n",
      "\tat org.apache.spark.scheduler.DAGScheduler.$anonfun$handleTaskSetFailed$1(DAGScheduler.scala:1125)\n",
      "\tat org.apache.spark.scheduler.DAGScheduler.$anonfun$handleTaskSetFailed$1$adapted(DAGScheduler.scala:1125)\n",
      "\tat scala.Option.foreach(Option.scala:407)\n",
      "\tat org.apache.spark.scheduler.DAGScheduler.handleTaskSetFailed(DAGScheduler.scala:1125)\n",
      "\tat org.apache.spark.scheduler.DAGSchedulerEventProcessLoop.doOnReceive(DAGScheduler.scala:2684)\n",
      "\tat org.apache.spark.scheduler.DAGSchedulerEventProcessLoop.onReceive(DAGScheduler.scala:2626)\n",
      "\tat org.apache.spark.scheduler.DAGSchedulerEventProcessLoop.onReceive(DAGScheduler.scala:2615)\n",
      "\tat org.apache.spark.util.EventLoop$$anon$1.run(EventLoop.scala:49)\n",
      "\tat org.apache.spark.sql.execution.adaptive.AdaptiveExecutor.checkNoFailures(AdaptiveExecutor.scala:147)\n",
      "\tat org.apache.spark.sql.execution.adaptive.AdaptiveExecutor.doRun(AdaptiveExecutor.scala:88)\n",
      "\tat org.apache.spark.sql.execution.adaptive.AdaptiveExecutor.tryRunningAndGetFuture(AdaptiveExecutor.scala:66)\n",
      "\tat org.apache.spark.sql.execution.adaptive.AdaptiveExecutor.execute(AdaptiveExecutor.scala:57)\n",
      "\tat org.apache.spark.sql.execution.adaptive.AdaptiveSparkPlanExec.$anonfun$getFinalPhysicalPlan$1(AdaptiveSparkPlanExec.scala:184)\n",
      "\tat org.apache.spark.sql.SparkSession.withActive(SparkSession.scala:775)\n",
      "\tat org.apache.spark.sql.execution.adaptive.AdaptiveSparkPlanExec.getFinalPhysicalPlan(AdaptiveSparkPlanExec.scala:183)\n",
      "\tat org.apache.spark.sql.execution.adaptive.AdaptiveSparkPlanExec.executeCollect(AdaptiveSparkPlanExec.scala:405)\n",
      "\tat org.apache.spark.sql.Dataset.$anonfun$collectToPython$1(Dataset.scala:3587)\n",
      "\tat org.apache.spark.sql.Dataset.$anonfun$withAction$1(Dataset.scala:3751)\n",
      "\tat org.apache.spark.sql.catalyst.QueryPlanningTracker$.withTracker(QueryPlanningTracker.scala:107)\n",
      "\tat org.apache.spark.sql.execution.SQLExecution$.withTracker(SQLExecution.scala:232)\n",
      "\tat org.apache.spark.sql.execution.SQLExecution$.executeQuery$1(SQLExecution.scala:110)\n",
      "\tat org.apache.spark.sql.execution.SQLExecution$.$anonfun$withNewExecutionId$6(SQLExecution.scala:135)\n",
      "\tat org.apache.spark.sql.catalyst.QueryPlanningTracker$.withTracker(QueryPlanningTracker.scala:107)\n",
      "\tat org.apache.spark.sql.execution.SQLExecution$.withTracker(SQLExecution.scala:232)\n",
      "\tat org.apache.spark.sql.execution.SQLExecution$.$anonfun$withNewExecutionId$5(SQLExecution.scala:135)\n",
      "\tat org.apache.spark.sql.execution.SQLExecution$.withSQLConfPropagated(SQLExecution.scala:253)\n",
      "\tat org.apache.spark.sql.execution.SQLExecution$.$anonfun$withNewExecutionId$1(SQLExecution.scala:134)\n",
      "\tat org.apache.spark.sql.SparkSession.withActive(SparkSession.scala:775)\n",
      "\tat org.apache.spark.sql.execution.SQLExecution$.withNewExecutionId(SQLExecution.scala:68)\n",
      "\tat org.apache.spark.sql.Dataset.withAction(Dataset.scala:3749)\n",
      "\tat org.apache.spark.sql.Dataset.collectToPython(Dataset.scala:3584)\n",
      "\tat sun.reflect.NativeMethodAccessorImpl.invoke0(Native Method)\n",
      "\tat sun.reflect.NativeMethodAccessorImpl.invoke(NativeMethodAccessorImpl.java:62)\n",
      "\tat sun.reflect.DelegatingMethodAccessorImpl.invoke(DelegatingMethodAccessorImpl.java:43)\n",
      "\tat java.lang.reflect.Method.invoke(Method.java:498)\n",
      "\tat py4j.reflection.MethodInvoker.invoke(MethodInvoker.java:244)\n",
      "\tat py4j.reflection.ReflectionEngine.invoke(ReflectionEngine.java:357)\n",
      "\tat py4j.Gateway.invoke(Gateway.java:282)\n",
      "\tat py4j.commands.AbstractCommand.invokeMethod(AbstractCommand.java:132)\n",
      "\tat py4j.commands.CallCommand.execute(CallCommand.java:79)\n",
      "\tat py4j.GatewayConnection.run(GatewayConnection.java:238)\n",
      "\tat java.lang.Thread.run(Thread.java:750)\n",
      "\n",
      "Traceback (most recent call last):\n",
      "  File \"/usr/lib/spark/python/lib/pyspark.zip/pyspark/sql/dataframe.py\", line 1591, in head\n",
      "    return self.take(n)\n",
      "  File \"/usr/lib/spark/python/lib/pyspark.zip/pyspark/sql/dataframe.py\", line 729, in take\n",
      "    return self.limit(num).collect()\n",
      "  File \"/usr/lib/spark/python/lib/pyspark.zip/pyspark/sql/dataframe.py\", line 678, in collect\n",
      "    sock_info = self._jdf.collectToPython()\n",
      "  File \"/usr/lib/spark/python/lib/py4j-0.10.9-src.zip/py4j/java_gateway.py\", line 1305, in __call__\n",
      "    answer, self.gateway_client, self.target_id, self.name)\n",
      "  File \"/usr/lib/spark/python/lib/pyspark.zip/pyspark/sql/utils.py\", line 111, in deco\n",
      "    return f(*a, **kw)\n",
      "  File \"/usr/lib/spark/python/lib/py4j-0.10.9-src.zip/py4j/protocol.py\", line 328, in get_return_value\n",
      "    format(target_id, \".\", name), value)\n",
      "py4j.protocol.Py4JJavaError: An error occurred while calling o183.collectToPython.\n",
      ": org.apache.spark.SparkException: Job aborted due to stage failure: Task 20 in stage 18.0 failed 4 times, most recent failure: Lost task 20.3 in stage 18.0 (TID 43165) (ip-10-0-20-12.ec2.internal executor 31): ExecutorLostFailure (executor 31 exited caused by one of the running tasks) Reason: Container from a bad node: container_1647757004392_0005_01_000044 on host: ip-10-0-20-12.ec2.internal. Exit status: 137. Diagnostics: [2022-03-20 13:10:19.619]Container killed on request. Exit code is 137\n",
      "[2022-03-20 13:10:19.619]Container exited with a non-zero exit code 137. \n",
      "[2022-03-20 13:10:19.620]Killed by external signal\n",
      ".\n",
      "Driver stacktrace:\n",
      "\tat org.apache.spark.scheduler.DAGScheduler.failJobAndIndependentStages(DAGScheduler.scala:2470)\n",
      "\tat org.apache.spark.scheduler.DAGScheduler.$anonfun$abortStage$2(DAGScheduler.scala:2419)\n",
      "\tat org.apache.spark.scheduler.DAGScheduler.$anonfun$abortStage$2$adapted(DAGScheduler.scala:2418)\n",
      "\tat scala.collection.mutable.ResizableArray.foreach(ResizableArray.scala:62)\n",
      "\tat scala.collection.mutable.ResizableArray.foreach$(ResizableArray.scala:55)\n",
      "\tat scala.collection.mutable.ArrayBuffer.foreach(ArrayBuffer.scala:49)\n",
      "\tat org.apache.spark.scheduler.DAGScheduler.abortStage(DAGScheduler.scala:2418)\n",
      "\tat org.apache.spark.scheduler.DAGScheduler.$anonfun$handleTaskSetFailed$1(DAGScheduler.scala:1125)\n",
      "\tat org.apache.spark.scheduler.DAGScheduler.$anonfun$handleTaskSetFailed$1$adapted(DAGScheduler.scala:1125)\n",
      "\tat scala.Option.foreach(Option.scala:407)\n",
      "\tat org.apache.spark.scheduler.DAGScheduler.handleTaskSetFailed(DAGScheduler.scala:1125)\n",
      "\tat org.apache.spark.scheduler.DAGSchedulerEventProcessLoop.doOnReceive(DAGScheduler.scala:2684)\n",
      "\tat org.apache.spark.scheduler.DAGSchedulerEventProcessLoop.onReceive(DAGScheduler.scala:2626)\n",
      "\tat org.apache.spark.scheduler.DAGSchedulerEventProcessLoop.onReceive(DAGScheduler.scala:2615)\n",
      "\tat org.apache.spark.util.EventLoop$$anon$1.run(EventLoop.scala:49)\n",
      "\tat org.apache.spark.sql.execution.adaptive.AdaptiveExecutor.checkNoFailures(AdaptiveExecutor.scala:147)\n",
      "\tat org.apache.spark.sql.execution.adaptive.AdaptiveExecutor.doRun(AdaptiveExecutor.scala:88)\n",
      "\tat org.apache.spark.sql.execution.adaptive.AdaptiveExecutor.tryRunningAndGetFuture(AdaptiveExecutor.scala:66)\n",
      "\tat org.apache.spark.sql.execution.adaptive.AdaptiveExecutor.execute(AdaptiveExecutor.scala:57)\n",
      "\tat org.apache.spark.sql.execution.adaptive.AdaptiveSparkPlanExec.$anonfun$getFinalPhysicalPlan$1(AdaptiveSparkPlanExec.scala:184)\n",
      "\tat org.apache.spark.sql.SparkSession.withActive(SparkSession.scala:775)\n",
      "\tat org.apache.spark.sql.execution.adaptive.AdaptiveSparkPlanExec.getFinalPhysicalPlan(AdaptiveSparkPlanExec.scala:183)\n",
      "\tat org.apache.spark.sql.execution.adaptive.AdaptiveSparkPlanExec.executeCollect(AdaptiveSparkPlanExec.scala:405)\n",
      "\tat org.apache.spark.sql.Dataset.$anonfun$collectToPython$1(Dataset.scala:3587)\n",
      "\tat org.apache.spark.sql.Dataset.$anonfun$withAction$1(Dataset.scala:3751)\n",
      "\tat org.apache.spark.sql.catalyst.QueryPlanningTracker$.withTracker(QueryPlanningTracker.scala:107)\n",
      "\tat org.apache.spark.sql.execution.SQLExecution$.withTracker(SQLExecution.scala:232)\n",
      "\tat org.apache.spark.sql.execution.SQLExecution$.executeQuery$1(SQLExecution.scala:110)\n",
      "\tat org.apache.spark.sql.execution.SQLExecution$.$anonfun$withNewExecutionId$6(SQLExecution.scala:135)\n",
      "\tat org.apache.spark.sql.catalyst.QueryPlanningTracker$.withTracker(QueryPlanningTracker.scala:107)\n",
      "\tat org.apache.spark.sql.execution.SQLExecution$.withTracker(SQLExecution.scala:232)\n",
      "\tat org.apache.spark.sql.execution.SQLExecution$.$anonfun$withNewExecutionId$5(SQLExecution.scala:135)\n",
      "\tat org.apache.spark.sql.execution.SQLExecution$.withSQLConfPropagated(SQLExecution.scala:253)\n",
      "\tat org.apache.spark.sql.execution.SQLExecution$.$anonfun$withNewExecutionId$1(SQLExecution.scala:134)\n",
      "\tat org.apache.spark.sql.SparkSession.withActive(SparkSession.scala:775)\n",
      "\tat org.apache.spark.sql.execution.SQLExecution$.withNewExecutionId(SQLExecution.scala:68)\n",
      "\tat org.apache.spark.sql.Dataset.withAction(Dataset.scala:3749)\n",
      "\tat org.apache.spark.sql.Dataset.collectToPython(Dataset.scala:3584)\n",
      "\tat sun.reflect.NativeMethodAccessorImpl.invoke0(Native Method)\n",
      "\tat sun.reflect.NativeMethodAccessorImpl.invoke(NativeMethodAccessorImpl.java:62)\n",
      "\tat sun.reflect.DelegatingMethodAccessorImpl.invoke(DelegatingMethodAccessorImpl.java:43)\n",
      "\tat java.lang.reflect.Method.invoke(Method.java:498)\n",
      "\tat py4j.reflection.MethodInvoker.invoke(MethodInvoker.java:244)\n",
      "\tat py4j.reflection.ReflectionEngine.invoke(ReflectionEngine.java:357)\n",
      "\tat py4j.Gateway.invoke(Gateway.java:282)\n",
      "\tat py4j.commands.AbstractCommand.invokeMethod(AbstractCommand.java:132)\n",
      "\tat py4j.commands.CallCommand.execute(CallCommand.java:79)\n",
      "\tat py4j.GatewayConnection.run(GatewayConnection.java:238)\n",
      "\tat java.lang.Thread.run(Thread.java:750)\n",
      "\n",
      "\n"
     ]
    }
   ],
   "source": [
    "full.head(5)"
   ]
  },
  {
   "cell_type": "code",
   "execution_count": null,
   "id": "788dea66-7bf1-453a-a03a-2f8effc04236",
   "metadata": {},
   "outputs": [],
   "source": []
  },
  {
   "cell_type": "code",
   "execution_count": 13,
   "id": "1fc020fe-1a1d-4d1e-8e1b-1ad3f73d8742",
   "metadata": {
    "execution": {
     "iopub.execute_input": "2022-03-20T10:43:45.533413Z",
     "iopub.status.busy": "2022-03-20T10:43:45.533089Z",
     "iopub.status.idle": "2022-03-20T10:45:55.167842Z",
     "shell.execute_reply": "2022-03-20T10:45:55.167193Z",
     "shell.execute_reply.started": "2022-03-20T10:43:45.533374Z"
    },
    "tags": []
   },
   "outputs": [
    {
     "data": {
      "application/vnd.jupyter.widget-view+json": {
       "model_id": "776e9d4afaaa40e7929852b3c6d90197",
       "version_major": 2,
       "version_minor": 0
      },
      "text/plain": [
       "VBox()"
      ]
     },
     "metadata": {},
     "output_type": "display_data"
    },
    {
     "data": {
      "application/vnd.jupyter.widget-view+json": {
       "model_id": "",
       "version_major": 2,
       "version_minor": 0
      },
      "text/plain": [
       "FloatProgress(value=0.0, bar_style='info', description='Progress:', layout=Layout(height='25px', width='50%'),…"
      ]
     },
     "metadata": {},
     "output_type": "display_data"
    }
   ],
   "source": [
    "full.head()"
   ]
  },
  {
   "cell_type": "code",
   "execution_count": null,
   "id": "1b8104f1-5265-43f5-9620-7252914341f1",
   "metadata": {},
   "outputs": [],
   "source": []
  },
  {
   "cell_type": "code",
   "execution_count": 21,
   "id": "49cfd59c-ad5b-4f0b-93ea-3f6071350143",
   "metadata": {
    "execution": {
     "iopub.execute_input": "2022-03-20T13:11:51.967826Z",
     "iopub.status.busy": "2022-03-20T13:11:51.967588Z",
     "iopub.status.idle": "2022-03-20T13:11:52.726968Z",
     "shell.execute_reply": "2022-03-20T13:11:52.726375Z",
     "shell.execute_reply.started": "2022-03-20T13:11:51.967788Z"
    },
    "tags": []
   },
   "outputs": [
    {
     "data": {
      "application/vnd.jupyter.widget-view+json": {
       "model_id": "9d939593f6064fe9a5235f72c883343f",
       "version_major": 2,
       "version_minor": 0
      },
      "text/plain": [
       "VBox()"
      ]
     },
     "metadata": {},
     "output_type": "display_data"
    },
    {
     "data": {
      "application/vnd.jupyter.widget-view+json": {
       "model_id": "",
       "version_major": 2,
       "version_minor": 0
      },
      "text/plain": [
       "FloatProgress(value=0.0, bar_style='info', description='Progress:', layout=Layout(height='25px', width='50%'),…"
      ]
     },
     "metadata": {},
     "output_type": "display_data"
    }
   ],
   "source": [
    "import awswrangler as wr"
   ]
  },
  {
   "cell_type": "markdown",
   "id": "358c63dc-76d4-4fad-bfa4-bcb38afe5029",
   "metadata": {},
   "source": [
    "# Scratch "
   ]
  },
  {
   "cell_type": "code",
   "execution_count": 14,
   "id": "411ac6e7-301f-4185-9ef5-78bcc793efff",
   "metadata": {
    "execution": {
     "iopub.execute_input": "2022-03-20T10:53:51.476101Z",
     "iopub.status.busy": "2022-03-20T10:53:51.475835Z",
     "iopub.status.idle": "2022-03-20T10:54:08.827802Z",
     "shell.execute_reply": "2022-03-20T10:54:08.827111Z",
     "shell.execute_reply.started": "2022-03-20T10:53:51.476075Z"
    }
   },
   "outputs": [
    {
     "data": {
      "application/vnd.jupyter.widget-view+json": {
       "model_id": "a148df955b4b4e5da8c9a6164c2fe79d",
       "version_major": 2,
       "version_minor": 0
      },
      "text/plain": [
       "VBox()"
      ]
     },
     "metadata": {},
     "output_type": "display_data"
    },
    {
     "data": {
      "application/vnd.jupyter.widget-view+json": {
       "model_id": "",
       "version_major": 2,
       "version_minor": 0
      },
      "text/plain": [
       "FloatProgress(value=0.0, bar_style='info', description='Progress:', layout=Layout(height='25px', width='50%'),…"
      ]
     },
     "metadata": {},
     "output_type": "display_data"
    }
   ],
   "source": [
    "eqindex = spark.read.csv('s3://s3datalakeinventories/algoseek/us-equity-1min-taq/*.csv.gz')"
   ]
  },
  {
   "cell_type": "code",
   "execution_count": 17,
   "id": "2a0110ea-4a56-4e3e-8b98-c735fc48d0e7",
   "metadata": {
    "execution": {
     "iopub.execute_input": "2022-03-20T10:55:14.727347Z",
     "iopub.status.busy": "2022-03-20T10:55:14.727115Z",
     "iopub.status.idle": "2022-03-20T10:55:15.501979Z",
     "shell.execute_reply": "2022-03-20T10:55:15.501265Z",
     "shell.execute_reply.started": "2022-03-20T10:55:14.727322Z"
    },
    "tags": []
   },
   "outputs": [
    {
     "data": {
      "application/vnd.jupyter.widget-view+json": {
       "model_id": "91242d62cb4748e5bd47ab4fc96540d0",
       "version_major": 2,
       "version_minor": 0
      },
      "text/plain": [
       "VBox()"
      ]
     },
     "metadata": {},
     "output_type": "display_data"
    },
    {
     "data": {
      "application/vnd.jupyter.widget-view+json": {
       "model_id": "",
       "version_major": 2,
       "version_minor": 0
      },
      "text/plain": [
       "FloatProgress(value=0.0, bar_style='info', description='Progress:', layout=Layout(height='25px', width='50%'),…"
      ]
     },
     "metadata": {},
     "output_type": "display_data"
    }
   ],
   "source": [
    "nd100 = wr.s3.read_csv('s3://miscellaneousbucketfordatalake/nasdaq100names.csv')\n",
    "nd100files=nd100 + '.csv.gz'\n",
    "nd100list = nd100files['AAL'].values.tolist()"
   ]
  },
  {
   "cell_type": "code",
   "execution_count": 18,
   "id": "3a50b094-f4bb-4600-94bb-29b6ff602e23",
   "metadata": {
    "execution": {
     "iopub.execute_input": "2022-03-20T10:56:36.849095Z",
     "iopub.status.busy": "2022-03-20T10:56:36.848870Z",
     "iopub.status.idle": "2022-03-20T10:56:37.616595Z",
     "shell.execute_reply": "2022-03-20T10:56:37.615990Z",
     "shell.execute_reply.started": "2022-03-20T10:56:36.849071Z"
    }
   },
   "outputs": [
    {
     "data": {
      "application/vnd.jupyter.widget-view+json": {
       "model_id": "ac7048e2de444153a171fbe0e6a6f73c",
       "version_major": 2,
       "version_minor": 0
      },
      "text/plain": [
       "VBox()"
      ]
     },
     "metadata": {},
     "output_type": "display_data"
    },
    {
     "data": {
      "application/vnd.jupyter.widget-view+json": {
       "model_id": "",
       "version_major": 2,
       "version_minor": 0
      },
      "text/plain": [
       "FloatProgress(value=0.0, bar_style='info', description='Progress:', layout=Layout(height='25px', width='50%'),…"
      ]
     },
     "metadata": {},
     "output_type": "display_data"
    }
   ],
   "source": [
    "fullnd100 = eqindex.filter(eqindex['_c2'].isin(nd100list))"
   ]
  },
  {
   "cell_type": "code",
   "execution_count": 19,
   "id": "6cd71083-f701-48a4-a787-a61098aa0196",
   "metadata": {
    "execution": {
     "iopub.execute_input": "2022-03-20T10:57:59.471519Z",
     "iopub.status.busy": "2022-03-20T10:57:59.471281Z",
     "iopub.status.idle": "2022-03-20T10:57:59.730054Z",
     "shell.execute_reply": "2022-03-20T10:57:59.729269Z",
     "shell.execute_reply.started": "2022-03-20T10:57:59.471494Z"
    }
   },
   "outputs": [
    {
     "data": {
      "application/vnd.jupyter.widget-view+json": {
       "model_id": "c0b6fe80fa1b4cddaf21b88ed8308e4a",
       "version_major": 2,
       "version_minor": 0
      },
      "text/plain": [
       "VBox()"
      ]
     },
     "metadata": {},
     "output_type": "display_data"
    },
    {
     "data": {
      "application/vnd.jupyter.widget-view+json": {
       "model_id": "",
       "version_major": 2,
       "version_minor": 0
      },
      "text/plain": [
       "FloatProgress(value=0.0, bar_style='info', description='Progress:', layout=Layout(height='25px', width='50%'),…"
      ]
     },
     "metadata": {},
     "output_type": "display_data"
    }
   ],
   "source": [
    "from pyspark.sql.types import IntegerType\n",
    "\n",
    "fullnd100 = fullnd100.withColumn('compressed', fullnd100['_c3'].cast(IntegerType()))\n",
    "fullnd100 = fullnd100.withColumn('uncompressed', fullnd100['_c4'].cast(IntegerType()))"
   ]
  },
  {
   "cell_type": "code",
   "execution_count": 21,
   "id": "cd840dd4-3c6f-4a23-80a2-3fbf8b275ed2",
   "metadata": {
    "execution": {
     "iopub.execute_input": "2022-03-20T10:58:39.045311Z",
     "iopub.status.busy": "2022-03-20T10:58:39.045088Z",
     "iopub.status.idle": "2022-03-20T10:58:39.100915Z",
     "shell.execute_reply": "2022-03-20T10:58:39.100064Z",
     "shell.execute_reply.started": "2022-03-20T10:58:39.045288Z"
    },
    "tags": []
   },
   "outputs": [
    {
     "data": {
      "application/vnd.jupyter.widget-view+json": {
       "model_id": "18252a9e3b664f43a9c82314afb9f0a6",
       "version_major": 2,
       "version_minor": 0
      },
      "text/plain": [
       "VBox()"
      ]
     },
     "metadata": {},
     "output_type": "display_data"
    },
    {
     "data": {
      "application/vnd.jupyter.widget-view+json": {
       "model_id": "",
       "version_major": 2,
       "version_minor": 0
      },
      "text/plain": [
       "FloatProgress(value=0.0, bar_style='info', description='Progress:', layout=Layout(height='25px', width='50%'),…"
      ]
     },
     "metadata": {},
     "output_type": "display_data"
    }
   ],
   "source": [
    "fullnd100 = fullnd100.drop(\"_c3\",\"_c4\")"
   ]
  },
  {
   "cell_type": "code",
   "execution_count": 22,
   "id": "b4dc9f45-2489-4513-8dba-e9d7572d9a6f",
   "metadata": {
    "execution": {
     "iopub.execute_input": "2022-03-20T11:05:06.894015Z",
     "iopub.status.busy": "2022-03-20T11:05:06.893792Z",
     "iopub.status.idle": "2022-03-20T11:06:00.317165Z",
     "shell.execute_reply": "2022-03-20T11:06:00.316545Z",
     "shell.execute_reply.started": "2022-03-20T11:05:06.893991Z"
    }
   },
   "outputs": [
    {
     "data": {
      "application/vnd.jupyter.widget-view+json": {
       "model_id": "984e8843d51b4e3c8b239c51a178ae70",
       "version_major": 2,
       "version_minor": 0
      },
      "text/plain": [
       "VBox()"
      ]
     },
     "metadata": {},
     "output_type": "display_data"
    },
    {
     "data": {
      "application/vnd.jupyter.widget-view+json": {
       "model_id": "",
       "version_major": 2,
       "version_minor": 0
      },
      "text/plain": [
       "FloatProgress(value=0.0, bar_style='info', description='Progress:', layout=Layout(height='25px', width='50%'),…"
      ]
     },
     "metadata": {},
     "output_type": "display_data"
    },
    {
     "name": "stdout",
     "output_type": "stream",
     "text": [
      "{'paths': ['s3://miscellaneousbucketfordatalake/nasdaq100files2017.csv'], 'partitions_values': {}}"
     ]
    }
   ],
   "source": [
    "nd1002020 = fullnd100.filter(fullnd100['_c0'] == 'us-equity-1min-taq-2020')\n",
    "nd1002019 = fullnd100.filter(fullnd100['_c0'] == 'us-equity-1min-taq-2019')\n",
    "nd1002018 = fullnd100.filter(fullnd100['_c0'] == 'us-equity-1min-taq-2018')\n",
    "nd1002017 = fullnd100.filter(fullnd100['_c0'] == 'us-equity-1min-taq-2017')\n",
    "\n",
    "pd2020 = nd1002020.toPandas()\n",
    "pd2019 = nd1002019.toPandas()\n",
    "pd2018 = nd1002018.toPandas()\n",
    "pd2017 = nd1002017.toPandas()\n",
    "\n",
    "wr.s3.to_csv(pd2020, 's3://miscellaneousbucketfordatalake/nasdaq100files2020.csv',index=False)\n",
    "wr.s3.to_csv(pd2019, 's3://miscellaneousbucketfordatalake/nasdaq100files2019.csv',index=False)\n",
    "wr.s3.to_csv(pd2018, 's3://miscellaneousbucketfordatalake/nasdaq100files2018.csv',index=False)\n",
    "wr.s3.to_csv(pd2017, 's3://miscellaneousbucketfordatalake/nasdaq100files2017.csv',index=False)\n"
   ]
  },
  {
   "cell_type": "code",
   "execution_count": null,
   "id": "695eada7-a39c-45f3-b268-84368ac49d73",
   "metadata": {},
   "outputs": [],
   "source": []
  }
 ],
 "metadata": {
  "kernelspec": {
   "display_name": "PySpark",
   "language": "",
   "name": "pysparkkernel"
  },
  "language_info": {
   "codemirror_mode": {
    "name": "python",
    "version": 3
   },
   "mimetype": "text/x-python",
   "name": "pyspark",
   "pygments_lexer": "python3"
  }
 },
 "nbformat": 4,
 "nbformat_minor": 5
}
