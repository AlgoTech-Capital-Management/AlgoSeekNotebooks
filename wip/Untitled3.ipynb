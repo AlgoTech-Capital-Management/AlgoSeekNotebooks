{
 "cells": [
  {
   "cell_type": "code",
   "execution_count": 1,
   "id": "6f5ffa1c-301f-4ac5-bf9b-454292e865fc",
   "metadata": {
    "execution": {
     "iopub.execute_input": "2022-04-30T04:39:48.976673Z",
     "iopub.status.busy": "2022-04-30T04:39:48.976420Z",
     "iopub.status.idle": "2022-04-30T04:40:17.884623Z",
     "shell.execute_reply": "2022-04-30T04:40:17.883897Z",
     "shell.execute_reply.started": "2022-04-30T04:39:48.976646Z"
    },
    "tags": [],
    "vscode": {
     "languageId": "python"
    },
    "pycharm": {
     "name": "#%%\n"
    }
   },
   "outputs": [
    {
     "data": {
      "application/vnd.jupyter.widget-view+json": {
       "model_id": "6a4f50a4d83949ddb5487f6082c3b9fd",
       "version_major": 2,
       "version_minor": 0
      },
      "text/plain": [
       "VBox()"
      ]
     },
     "metadata": {},
     "output_type": "display_data"
    },
    {
     "name": "stdout",
     "output_type": "stream",
     "text": [
      "Starting Spark application\n"
     ]
    },
    {
     "data": {
      "text/html": [
       "<table>\n",
       "<tbody><tr><th>ID</th><th>YARN Application ID</th><th>Kind</th><th>State</th><th>Spark UI</th><th>Driver log</th><th>User</th><th>Current session?</th></tr><tr><td>2</td><td>application_1651289553996_0003</td><td>pyspark</td><td>idle</td><td><a target=\"_blank\" href=\"http://ip-10-0-20-5.ec2.internal:20888/proxy/application_1651289553996_0003/\" class=\"emr-proxy-link j-5B7HSBRGUDR4 application_1651289553996_0003\" emr-resource=\"j-5B7HSBRGUDR4\n",
       "\" application-id=\"application_1651289553996_0003\">Link</a></td><td><a target=\"_blank\" href=\"http://ip-10-0-20-230.ec2.internal:8042/node/containerlogs/container_1651289553996_0003_01_000001/livy\">Link</a></td><td>None</td><td>✔</td></tr></tbody></table>"
      ],
      "text/plain": [
       "<IPython.core.display.HTML object>"
      ]
     },
     "metadata": {},
     "output_type": "display_data"
    },
    {
     "data": {
      "application/vnd.jupyter.widget-view+json": {
       "model_id": "",
       "version_major": 2,
       "version_minor": 0
      },
      "text/plain": [
       "FloatProgress(value=0.0, bar_style='info', description='Progress:', layout=Layout(height='25px', width='50%'),…"
      ]
     },
     "metadata": {},
     "output_type": "display_data"
    },
    {
     "name": "stdout",
     "output_type": "stream",
     "text": [
      "SparkSession available as 'spark'.\n"
     ]
    },
    {
     "data": {
      "application/vnd.jupyter.widget-view+json": {
       "model_id": "",
       "version_major": 2,
       "version_minor": 0
      },
      "text/plain": [
       "FloatProgress(value=0.0, bar_style='info', description='Progress:', layout=Layout(height='25px', width='50%'),…"
      ]
     },
     "metadata": {},
     "output_type": "display_data"
    }
   ],
   "source": [
    "from pyspark.sql.functions import *\n",
    "from pyspark.sql.window import Window\n",
    "import pyspark\n",
    "from pyspark.sql.types import *"
   ]
  },
  {
   "cell_type": "code",
   "execution_count": 2,
   "id": "1bb8a80f-65b3-4345-86c5-a39391ccaf12",
   "metadata": {
    "execution": {
     "iopub.execute_input": "2022-04-30T04:41:05.501989Z",
     "iopub.status.busy": "2022-04-30T04:41:05.501701Z",
     "iopub.status.idle": "2022-04-30T04:41:05.563093Z",
     "shell.execute_reply": "2022-04-30T04:41:05.562450Z",
     "shell.execute_reply.started": "2022-04-30T04:41:05.501961Z"
    },
    "tags": [],
    "vscode": {
     "languageId": "python"
    },
    "pycharm": {
     "name": "#%%\n"
    }
   },
   "outputs": [
    {
     "data": {
      "application/vnd.jupyter.widget-view+json": {
       "model_id": "04d73bc376054e2f857bd18079b6a32c",
       "version_major": 2,
       "version_minor": 0
      },
      "text/plain": [
       "VBox()"
      ]
     },
     "metadata": {},
     "output_type": "display_data"
    },
    {
     "data": {
      "application/vnd.jupyter.widget-view+json": {
       "model_id": "",
       "version_major": 2,
       "version_minor": 0
      },
      "text/plain": [
       "FloatProgress(value=0.0, bar_style='info', description='Progress:', layout=Layout(height='25px', width='50%'),…"
      ]
     },
     "metadata": {},
     "output_type": "display_data"
    }
   ],
   "source": [
    "indexSchema = StructType([\n",
    "    StructField(\"Bucket\",StringType(),True),\n",
    "    StructField(\"Path\",StringType(),True),\n",
    "    StructField(\"Filename\",StringType(),True),\n",
    "    StructField(\"CompressedSize\",IntegerType(),True),\n",
    "    StructField(\"UncompressedSize\",IntegerType(),True)\n",
    "])"
   ]
  },
  {
   "cell_type": "code",
   "execution_count": 3,
   "id": "3024e303-d9e7-4c31-9113-720bf134ecfb",
   "metadata": {
    "execution": {
     "iopub.execute_input": "2022-04-30T04:41:06.728859Z",
     "iopub.status.busy": "2022-04-30T04:41:06.728637Z",
     "iopub.status.idle": "2022-04-30T04:41:18.063453Z",
     "shell.execute_reply": "2022-04-30T04:41:18.062706Z",
     "shell.execute_reply.started": "2022-04-30T04:41:06.728836Z"
    },
    "tags": [],
    "vscode": {
     "languageId": "python"
    },
    "pycharm": {
     "name": "#%%\n"
    }
   },
   "outputs": [
    {
     "data": {
      "application/vnd.jupyter.widget-view+json": {
       "model_id": "7fd6f6bf5fc2424086d7ec0ff97dfa2f",
       "version_major": 2,
       "version_minor": 0
      },
      "text/plain": [
       "VBox()"
      ]
     },
     "metadata": {},
     "output_type": "display_data"
    },
    {
     "data": {
      "application/vnd.jupyter.widget-view+json": {
       "model_id": "",
       "version_major": 2,
       "version_minor": 0
      },
      "text/plain": [
       "FloatProgress(value=0.0, bar_style='info', description='Progress:', layout=Layout(height='25px', width='50%'),…"
      ]
     },
     "metadata": {},
     "output_type": "display_data"
    }
   ],
   "source": [
    "index = spark.read.load(\"s3://s3datalakeinventories/algoseek/us-equity-1min-taq/*.csv.gz\",format=\"csv\",schema=indexSchema)"
   ]
  },
  {
   "cell_type": "code",
   "execution_count": 15,
   "id": "28776127-b57a-4dec-b563-e904d41f0c84",
   "metadata": {
    "execution": {
     "iopub.execute_input": "2022-04-30T04:22:19.981966Z",
     "iopub.status.busy": "2022-04-30T04:22:19.981706Z",
     "iopub.status.idle": "2022-04-30T04:22:20.043678Z",
     "shell.execute_reply": "2022-04-30T04:22:20.043132Z",
     "shell.execute_reply.started": "2022-04-30T04:22:19.981941Z"
    },
    "tags": [],
    "vscode": {
     "languageId": "python"
    },
    "pycharm": {
     "name": "#%%\n"
    }
   },
   "outputs": [
    {
     "data": {
      "application/vnd.jupyter.widget-view+json": {
       "model_id": "267a88eb964a4772a087ee9bcb36625b",
       "version_major": 2,
       "version_minor": 0
      },
      "text/plain": [
       "VBox()"
      ]
     },
     "metadata": {},
     "output_type": "display_data"
    },
    {
     "data": {
      "application/vnd.jupyter.widget-view+json": {
       "model_id": "",
       "version_major": 2,
       "version_minor": 0
      },
      "text/plain": [
       "FloatProgress(value=0.0, bar_style='info', description='Progress:', layout=Layout(height='25px', width='50%'),…"
      ]
     },
     "metadata": {},
     "output_type": "display_data"
    },
    {
     "name": "stdout",
     "output_type": "stream",
     "text": [
      "root\n",
      " |-- Bucket: string (nullable = true)\n",
      " |-- Path: string (nullable = true)\n",
      " |-- Filename: string (nullable = true)\n",
      " |-- CompressedSize: integer (nullable = true)\n",
      " |-- UncompressedSize: integer (nullable = true)"
     ]
    }
   ],
   "source": [
    "index.printSchema()"
   ]
  },
  {
   "cell_type": "code",
   "execution_count": 16,
   "id": "38c37c07-5595-420d-a4b2-11d26b524d5e",
   "metadata": {
    "execution": {
     "iopub.execute_input": "2022-04-30T04:22:23.237350Z",
     "iopub.status.busy": "2022-04-30T04:22:23.237114Z",
     "iopub.status.idle": "2022-04-30T04:22:25.548038Z",
     "shell.execute_reply": "2022-04-30T04:22:25.547317Z",
     "shell.execute_reply.started": "2022-04-30T04:22:23.237326Z"
    },
    "tags": [],
    "vscode": {
     "languageId": "python"
    },
    "pycharm": {
     "name": "#%%\n"
    }
   },
   "outputs": [
    {
     "data": {
      "application/vnd.jupyter.widget-view+json": {
       "model_id": "9832834844de40d79f2c7c14541a84a9",
       "version_major": 2,
       "version_minor": 0
      },
      "text/plain": [
       "VBox()"
      ]
     },
     "metadata": {},
     "output_type": "display_data"
    },
    {
     "data": {
      "application/vnd.jupyter.widget-view+json": {
       "model_id": "",
       "version_major": 2,
       "version_minor": 0
      },
      "text/plain": [
       "FloatProgress(value=0.0, bar_style='info', description='Progress:', layout=Layout(height='25px', width='50%'),…"
      ]
     },
     "metadata": {},
     "output_type": "display_data"
    },
    {
     "name": "stdout",
     "output_type": "stream",
     "text": [
      "+--------------------+----------+--------------+--------------+----------------+\n",
      "|              Bucket|      Path|      Filename|CompressedSize|UncompressedSize|\n",
      "+--------------------+----------+--------------+--------------+----------------+\n",
      "|us-equity-1min-ta...|20220307/C|   CRNT.csv.gz|         28513|          269867|\n",
      "|us-equity-1min-ta...|20220307/C|   CURO.csv.gz|         42316|          294862|\n",
      "|us-equity-1min-ta...|20220307/C|   CHAD.csv.gz|         27598|          290190|\n",
      "|us-equity-1min-ta...|20220307/C|    CDW.csv.gz|         69343|          330865|\n",
      "|us-equity-1min-ta...|20220307/C|  CHSCO.csv.gz|         17781|          218412|\n",
      "|us-equity-1min-ta...|20220307/C|   CMCL.csv.gz|         23128|          289937|\n",
      "|us-equity-1min-ta...|20220307/C|   CSCW.csv.gz|         67880|          373054|\n",
      "|us-equity-1min-ta...|20220307/C|CEFD.FF.csv.gz|           321|             830|\n",
      "|us-equity-1min-ta...|20220307/C|  CDZIP.csv.gz|          9459|          181263|\n",
      "|us-equity-1min-ta...|20220307/C|    CMA.csv.gz|         72678|          339292|\n",
      "|us-equity-1min-ta...|20220307/C|   COCP.csv.gz|         25597|          302018|\n",
      "|us-equity-1min-ta...|20220307/C|   COLB.csv.gz|         58682|          284863|\n",
      "|us-equity-1min-ta...|20220307/C|  COWNL.csv.gz|         11590|          223841|\n",
      "|us-equity-1min-ta...|20220307/C|   COOP.csv.gz|         64250|          322656|\n",
      "|us-equity-1min-ta...|20220307/C|    CSB.csv.gz|         39253|          271300|\n",
      "|us-equity-1min-ta...|20220307/C|  CTAQW.csv.gz|         11387|          244203|\n",
      "|us-equity-1min-ta...|20220307/C|   CLDX.csv.gz|         54751|          293583|\n",
      "|us-equity-1min-ta...|20220307/C|   CIIG.csv.gz|         12898|          208349|\n",
      "|us-equity-1min-ta...|20220307/C| CMREpB.csv.gz|          7897|          130450|\n",
      "|us-equity-1min-ta...|20220307/C|  CRD.A.csv.gz|         21402|          200525|\n",
      "+--------------------+----------+--------------+--------------+----------------+\n",
      "only showing top 20 rows"
     ]
    }
   ],
   "source": [
    "index.show()"
   ]
  },
  {
   "cell_type": "code",
   "execution_count": 4,
   "id": "5713e1b8-ea21-4e19-bcfd-fa8586f2d85c",
   "metadata": {
    "execution": {
     "iopub.execute_input": "2022-04-30T04:41:29.477974Z",
     "iopub.status.busy": "2022-04-30T04:41:29.477707Z",
     "iopub.status.idle": "2022-04-30T04:45:11.329259Z",
     "shell.execute_reply": "2022-04-30T04:45:11.328563Z",
     "shell.execute_reply.started": "2022-04-30T04:41:29.477947Z"
    },
    "tags": [],
    "vscode": {
     "languageId": "python"
    },
    "pycharm": {
     "name": "#%%\n"
    }
   },
   "outputs": [
    {
     "data": {
      "application/vnd.jupyter.widget-view+json": {
       "model_id": "bae23347a7904ae6b7477e2a90881ccf",
       "version_major": 2,
       "version_minor": 0
      },
      "text/plain": [
       "VBox()"
      ]
     },
     "metadata": {},
     "output_type": "display_data"
    },
    {
     "data": {
      "application/vnd.jupyter.widget-view+json": {
       "model_id": "6868e4e583af4f9b84ebd7724f446c8f",
       "version_major": 2,
       "version_minor": 0
      },
      "text/plain": [
       "FloatProgress(value=0.0, bar_style='info', description='Progress:', layout=Layout(height='25px', width='50%'),…"
      ]
     },
     "metadata": {},
     "output_type": "display_data"
    },
    {
     "name": "stderr",
     "output_type": "stream",
     "text": [
      "An error was encountered:\n",
      "Invalid status code '400' from http://localhost:8998/sessions/2/statements/4 with error payload: {\"msg\":\"requirement failed: Session isn't active.\"}\n"
     ]
    }
   ],
   "source": [
    "indexdf = index.toPandas()"
   ]
  },
  {
   "cell_type": "code",
   "execution_count": 18,
   "id": "cfa26290-6580-4c11-810b-e6e87b61e39a",
   "metadata": {
    "execution": {
     "iopub.execute_input": "2022-04-30T04:35:48.828348Z",
     "iopub.status.busy": "2022-04-30T04:35:48.828042Z",
     "iopub.status.idle": "2022-04-30T04:35:49.097059Z",
     "shell.execute_reply": "2022-04-30T04:35:49.096312Z",
     "shell.execute_reply.started": "2022-04-30T04:35:48.828310Z"
    },
    "vscode": {
     "languageId": "python"
    },
    "pycharm": {
     "name": "#%%\n"
    }
   },
   "outputs": [
    {
     "data": {
      "application/vnd.jupyter.widget-view+json": {
       "model_id": "e434509b530142c9a64a48e8c6939f64",
       "version_major": 2,
       "version_minor": 0
      },
      "text/plain": [
       "VBox()"
      ]
     },
     "metadata": {},
     "output_type": "display_data"
    },
    {
     "name": "stderr",
     "output_type": "stream",
     "text": [
      "An error was encountered:\n",
      "Session 1 unexpectedly reached final status 'dead'. See logs:\n",
      "stdout: \n",
      "\n",
      "stderr: \n",
      "22/04/30 04:04:04 WARN NativeCodeLoader: Unable to load native-hadoop library for your platform... using builtin-java classes where applicable\n",
      "22/04/30 04:04:05 INFO RMProxy: Connecting to ResourceManager at ip-10-0-20-5.ec2.internal/10.0.20.5:8032\n",
      "22/04/30 04:04:05 INFO Client: Requesting a new application from cluster with 4 NodeManagers\n",
      "22/04/30 04:04:05 INFO Configuration: resource-types.xml not found\n",
      "22/04/30 04:04:05 INFO ResourceUtils: Unable to find 'resource-types.xml'.\n",
      "22/04/30 04:04:05 INFO Client: Verifying our application has not requested more than the maximum memory capability of the cluster (12288 MB per container)\n",
      "22/04/30 04:04:05 INFO Client: Will allocate AM container, with 2432 MB memory including 384 MB overhead\n",
      "22/04/30 04:04:05 INFO Client: Setting up container launch context for our AM\n",
      "22/04/30 04:04:05 INFO Client: Setting up the launch environment for our AM container\n",
      "22/04/30 04:04:05 INFO Client: Preparing resources for our AM container\n",
      "22/04/30 04:04:05 WARN Client: Neither spark.yarn.jars nor spark.yarn.archive is set, falling back to uploading libraries under SPARK_HOME.\n",
      "22/04/30 04:04:09 INFO Client: Uploading resource file:/mnt/tmp/spark-5f7661ab-45f0-4704-8caf-94d95f1f760b/__spark_libs__2989919458363935217.zip -> hdfs://ip-10-0-20-5.ec2.internal:8020/user/livy/.sparkStaging/application_1651289553996_0002/__spark_libs__2989919458363935217.zip\n",
      "22/04/30 04:04:10 INFO Client: Uploading resource file:/usr/lib/livy/rsc-jars/arpack_combined_all-0.1.jar -> hdfs://ip-10-0-20-5.ec2.internal:8020/user/livy/.sparkStaging/application_1651289553996_0002/arpack_combined_all-0.1.jar\n",
      "22/04/30 04:04:10 INFO Client: Uploading resource file:/usr/lib/livy/rsc-jars/core-1.1.2.jar -> hdfs://ip-10-0-20-5.ec2.internal:8020/user/livy/.sparkStaging/application_1651289553996_0002/core-1.1.2.jar\n",
      "22/04/30 04:04:11 INFO Client: Uploading resource file:/usr/lib/livy/rsc-jars/jniloader-1.1.jar -> hdfs://ip-10-0-20-5.ec2.internal:8020/user/livy/.sparkStaging/application_1651289553996_0002/jniloader-1.1.jar\n",
      "22/04/30 04:04:11 INFO Client: Uploading resource file:/usr/lib/livy/rsc-jars/livy-api-0.7.1-incubating.jar -> hdfs://ip-10-0-20-5.ec2.internal:8020/user/livy/.sparkStaging/application_1651289553996_0002/livy-api-0.7.1-incubating.jar\n",
      "22/04/30 04:04:11 INFO Client: Uploading resource file:/usr/lib/livy/rsc-jars/livy-rsc-0.7.1-incubating.jar -> hdfs://ip-10-0-20-5.ec2.internal:8020/user/livy/.sparkStaging/application_1651289553996_0002/livy-rsc-0.7.1-incubating.jar\n",
      "22/04/30 04:04:11 INFO Client: Uploading resource file:/usr/lib/livy/rsc-jars/livy-thriftserver-session-0.7.1-incubating.jar -> hdfs://ip-10-0-20-5.ec2.internal:8020/user/livy/.sparkStaging/application_1651289553996_0002/livy-thriftserver-session-0.7.1-incubating.jar\n",
      "22/04/30 04:04:11 INFO Client: Uploading resource file:/usr/lib/livy/rsc-jars/native_ref-java-1.1.jar -> hdfs://ip-10-0-20-5.ec2.internal:8020/user/livy/.sparkStaging/application_1651289553996_0002/native_ref-java-1.1.jar\n",
      "22/04/30 04:04:11 INFO Client: Uploading resource file:/usr/lib/livy/rsc-jars/native_system-java-1.1.jar -> hdfs://ip-10-0-20-5.ec2.internal:8020/user/livy/.sparkStaging/application_1651289553996_0002/native_system-java-1.1.jar\n",
      "22/04/30 04:04:11 INFO Client: Uploading resource file:/usr/lib/livy/rsc-jars/netlib-native_ref-linux-armhf-1.1-natives.jar -> hdfs://ip-10-0-20-5.ec2.internal:8020/user/livy/.sparkStaging/application_1651289553996_0002/netlib-native_ref-linux-armhf-1.1-natives.jar\n",
      "22/04/30 04:04:11 INFO Client: Uploading resource file:/usr/lib/livy/rsc-jars/netlib-native_ref-linux-i686-1.1-natives.jar -> hdfs://ip-10-0-20-5.ec2.internal:8020/user/livy/.sparkStaging/application_1651289553996_0002/netlib-native_ref-linux-i686-1.1-natives.jar\n",
      "22/04/30 04:04:11 INFO Client: Uploading resource file:/usr/lib/livy/rsc-jars/netlib-native_ref-linux-x86_64-1.1-natives.jar -> hdfs://ip-10-0-20-5.ec2.internal:8020/user/livy/.sparkStaging/application_1651289553996_0002/netlib-native_ref-linux-x86_64-1.1-natives.jar\n",
      "22/04/30 04:04:11 INFO Client: Uploading resource file:/usr/lib/livy/rsc-jars/netlib-native_ref-osx-x86_64-1.1-natives.jar -> hdfs://ip-10-0-20-5.ec2.internal:8020/user/livy/.sparkStaging/application_1651289553996_0002/netlib-native_ref-osx-x86_64-1.1-natives.jar\n",
      "22/04/30 04:04:11 INFO Client: Uploading resource file:/usr/lib/livy/rsc-jars/netlib-native_ref-win-i686-1.1-natives.jar -> hdfs://ip-10-0-20-5.ec2.internal:8020/user/livy/.sparkStaging/application_1651289553996_0002/netlib-native_ref-win-i686-1.1-natives.jar\n",
      "22/04/30 04:04:11 INFO Client: Uploading resource file:/usr/lib/livy/rsc-jars/netlib-native_ref-win-x86_64-1.1-natives.jar -> hdfs://ip-10-0-20-5.ec2.internal:8020/user/livy/.sparkStaging/application_1651289553996_0002/netlib-native_ref-win-x86_64-1.1-natives.jar\n",
      "22/04/30 04:04:11 INFO Client: Uploading resource file:/usr/lib/livy/rsc-jars/netlib-native_system-linux-armhf-1.1-natives.jar -> hdfs://ip-10-0-20-5.ec2.internal:8020/user/livy/.sparkStaging/application_1651289553996_0002/netlib-native_system-linux-armhf-1.1-natives.jar\n",
      "22/04/30 04:04:11 INFO Client: Uploading resource file:/usr/lib/livy/rsc-jars/netlib-native_system-linux-i686-1.1-natives.jar -> hdfs://ip-10-0-20-5.ec2.internal:8020/user/livy/.sparkStaging/application_1651289553996_0002/netlib-native_system-linux-i686-1.1-natives.jar\n",
      "22/04/30 04:04:11 INFO Client: Uploading resource file:/usr/lib/livy/rsc-jars/netlib-native_system-linux-x86_64-1.1-natives.jar -> hdfs://ip-10-0-20-5.ec2.internal:8020/user/livy/.sparkStaging/application_1651289553996_0002/netlib-native_system-linux-x86_64-1.1-natives.jar\n",
      "22/04/30 04:04:11 INFO Client: Uploading resource file:/usr/lib/livy/rsc-jars/netlib-native_system-osx-x86_64-1.1-natives.jar -> hdfs://ip-10-0-20-5.ec2.internal:8020/user/livy/.sparkStaging/application_1651289553996_0002/netlib-native_system-osx-x86_64-1.1-natives.jar\n",
      "22/04/30 04:04:11 INFO Client: Uploading resource file:/usr/lib/livy/rsc-jars/netlib-native_system-win-i686-1.1-natives.jar -> hdfs://ip-10-0-20-5.ec2.internal:8020/user/livy/.sparkStaging/application_1651289553996_0002/netlib-native_system-win-i686-1.1-natives.jar\n",
      "22/04/30 04:04:11 INFO Client: Uploading resource file:/usr/lib/livy/rsc-jars/netlib-native_system-win-x86_64-1.1-natives.jar -> hdfs://ip-10-0-20-5.ec2.internal:8020/user/livy/.sparkStaging/application_1651289553996_0002/netlib-native_system-win-x86_64-1.1-natives.jar\n",
      "22/04/30 04:04:11 INFO Client: Uploading resource file:/usr/lib/livy/rsc-jars/netty-all-4.1.17.Final.jar -> hdfs://ip-10-0-20-5.ec2.internal:8020/user/livy/.sparkStaging/application_1651289553996_0002/netty-all-4.1.17.Final.jar\n",
      "22/04/30 04:04:11 INFO Client: Uploading resource file:/usr/lib/livy/repl_2.12-jars/commons-codec-1.9.jar -> hdfs://ip-10-0-20-5.ec2.internal:8020/user/livy/.sparkStaging/application_1651289553996_0002/commons-codec-1.9.jar\n",
      "22/04/30 04:04:11 INFO Client: Uploading resource file:/usr/lib/livy/repl_2.12-jars/livy-core_2.12-0.7.1-incubating.jar -> hdfs://ip-10-0-20-5.ec2.internal:8020/user/livy/.sparkStaging/application_1651289553996_0002/livy-core_2.12-0.7.1-incubating.jar\n",
      "22/04/30 04:04:11 INFO Client: Uploading resource file:/usr/lib/livy/repl_2.12-jars/livy-repl_2.12-0.7.1-incubating.jar -> hdfs://ip-10-0-20-5.ec2.internal:8020/user/livy/.sparkStaging/application_1651289553996_0002/livy-repl_2.12-0.7.1-incubating.jar\n",
      "22/04/30 04:04:11 INFO Client: Uploading resource file:/etc/spark/conf.dist/hive-site.xml -> hdfs://ip-10-0-20-5.ec2.internal:8020/user/livy/.sparkStaging/application_1651289553996_0002/hive-site.xml\n",
      "22/04/30 04:04:11 INFO Client: Uploading resource file:/etc/hudi/conf.dist/hudi-defaults.conf -> hdfs://ip-10-0-20-5.ec2.internal:8020/user/livy/.sparkStaging/application_1651289553996_0002/hudi-defaults.conf\n",
      "22/04/30 04:04:11 INFO Client: Uploading resource file:/usr/lib/spark/R/lib/sparkr.zip#sparkr -> hdfs://ip-10-0-20-5.ec2.internal:8020/user/livy/.sparkStaging/application_1651289553996_0002/sparkr.zip\n",
      "22/04/30 04:04:11 INFO Client: Uploading resource file:/usr/lib/spark/python/lib/pyspark.zip -> hdfs://ip-10-0-20-5.ec2.internal:8020/user/livy/.sparkStaging/application_1651289553996_0002/pyspark.zip\n",
      "22/04/30 04:04:11 INFO Client: Uploading resource file:/usr/lib/spark/python/lib/py4j-0.10.9.2-src.zip -> hdfs://ip-10-0-20-5.ec2.internal:8020/user/livy/.sparkStaging/application_1651289553996_0002/py4j-0.10.9.2-src.zip\n",
      "22/04/30 04:04:11 INFO Client: Uploading resource file:/mnt/tmp/spark-5f7661ab-45f0-4704-8caf-94d95f1f760b/__spark_conf__1638756471674914017.zip -> hdfs://ip-10-0-20-5.ec2.internal:8020/user/livy/.sparkStaging/application_1651289553996_0002/__spark_conf__.zip\n",
      "22/04/30 04:04:11 INFO SecurityManager: Changing view acls to: livy\n",
      "22/04/30 04:04:11 INFO SecurityManager: Changing modify acls to: livy\n",
      "22/04/30 04:04:11 INFO SecurityManager: Changing view acls groups to: \n",
      "22/04/30 04:04:11 INFO SecurityManager: Changing modify acls groups to: \n",
      "22/04/30 04:04:11 INFO SecurityManager: SecurityManager: authentication disabled; ui acls disabled; users  with view permissions: Set(livy); groups with view permissions: Set(); users  with modify permissions: Set(livy); groups with modify permissions: Set()\n",
      "22/04/30 04:04:11 INFO Client: Submitting application application_1651289553996_0002 to ResourceManager\n",
      "22/04/30 04:04:11 INFO YarnClientImpl: Submitted application application_1651289553996_0002\n",
      "22/04/30 04:04:11 INFO Client: Application report for application_1651289553996_0002 (state: ACCEPTED)\n",
      "22/04/30 04:04:11 INFO Client: \n",
      "\t client token: N/A\n",
      "\t diagnostics: [Sat Apr 30 04:04:11 +0000 2022] Application is Activated, waiting for resources to be assigned for AM.  Details : AM Partition = <DEFAULT_PARTITION> ; Partition Resource = <memory:47616, vCores:48> ; Queue's Absolute capacity = 100.0 % ; Queue's Absolute used capacity = 0.0 % ; Queue's Absolute max capacity = 100.0 % ; Queue's capacity (absolute resource) = <memory:47616, vCores:48> ; Queue's used capacity (absolute resource) = <memory:0, vCores:0> ; Queue's max capacity (absolute resource) = <memory:47616, vCores:48> ; \n",
      "\t ApplicationMaster host: N/A\n",
      "\t ApplicationMaster RPC port: -1\n",
      "\t queue: default\n",
      "\t start time: 1651291451935\n",
      "\t final status: UNDEFINED\n",
      "\t tracking URL: http://ip-10-0-20-5.ec2.internal:20888/proxy/application_1651289553996_0002/\n",
      "\t user: livy\n",
      "22/04/30 04:04:11 INFO ShutdownHookManager: Shutdown hook called\n",
      "22/04/30 04:04:11 INFO ShutdownHookManager: Deleting directory /mnt/tmp/spark-b5541fbf-120d-4e66-b669-a4ee44df0191\n",
      "22/04/30 04:04:12 INFO ShutdownHookManager: Deleting directory /mnt/tmp/spark-5f7661ab-45f0-4704-8caf-94d95f1f760b\n",
      "\n",
      "YARN Diagnostics: \n",
      "Application application_1651289553996_0002 failed 1 times (global limit =2; local limit is =1) due to AM Container for appattempt_1651289553996_0002_000001 exited with  exitCode: 137\n",
      "Failing this attempt.Diagnostics: [2022-04-30 04:35:47.895]Container killed on request. Exit code is 137\n",
      "[2022-04-30 04:35:47.895]Container exited with a non-zero exit code 137. \n",
      "[2022-04-30 04:35:47.895]Killed by external signal\n",
      "For more detailed output, check the application tracking page: http://ip-10-0-20-5.ec2.internal:8088/cluster/app/application_1651289553996_0002 Then click on links to logs of each attempt.\n",
      ". Failing the application.\n"
     ]
    }
   ],
   "source": [
    "import awswrangler as wr"
   ]
  },
  {
   "cell_type": "code",
   "execution_count": null,
   "id": "b49b4940-f80e-4e91-9983-7555f30c90c9",
   "metadata": {
    "tags": [],
    "vscode": {
     "languageId": "python"
    },
    "pycharm": {
     "name": "#%%\n"
    }
   },
   "outputs": [],
   "source": [
    "index.select(\"_c2\").distinct().collect()"
   ]
  },
  {
   "cell_type": "code",
   "execution_count": 11,
   "id": "1682e61d-7658-4f5f-9e9e-f5555e3cd645",
   "metadata": {
    "execution": {
     "iopub.execute_input": "2022-04-30T04:13:43.112620Z",
     "iopub.status.busy": "2022-04-30T04:13:43.112389Z",
     "iopub.status.idle": "2022-04-30T04:13:43.187325Z",
     "shell.execute_reply": "2022-04-30T04:13:43.186455Z",
     "shell.execute_reply.started": "2022-04-30T04:13:43.112585Z"
    },
    "tags": [],
    "vscode": {
     "languageId": "python"
    },
    "pycharm": {
     "name": "#%%\n"
    }
   },
   "outputs": [
    {
     "data": {
      "application/vnd.jupyter.widget-view+json": {
       "model_id": "1835356fb3944c7d91abdd0fea8c3b40",
       "version_major": 2,
       "version_minor": 0
      },
      "text/plain": [
       "VBox()"
      ]
     },
     "metadata": {},
     "output_type": "display_data"
    },
    {
     "data": {
      "application/vnd.jupyter.widget-view+json": {
       "model_id": "",
       "version_major": 2,
       "version_minor": 0
      },
      "text/plain": [
       "FloatProgress(value=0.0, bar_style='info', description='Progress:', layout=Layout(height='25px', width='50%'),…"
      ]
     },
     "metadata": {},
     "output_type": "display_data"
    },
    {
     "name": "stderr",
     "output_type": "stream",
     "text": [
      "An error was encountered:\n",
      "'GroupedData' object has no attribute 'show'\n",
      "Traceback (most recent call last):\n",
      "AttributeError: 'GroupedData' object has no attribute 'show'\n",
      "\n"
     ]
    }
   ],
   "source": [
    "index.groupBy('_c2').show()"
   ]
  }
 ],
 "metadata": {
  "kernelspec": {
   "display_name": "PySpark",
   "language": "python",
   "name": "pysparkkernel"
  },
  "language_info": {
   "codemirror_mode": {
    "name": "python",
    "version": 3
   },
   "file_extension": ".py",
   "mimetype": "text/x-python",
   "name": "pyspark",
   "pygments_lexer": "python3"
  }
 },
 "nbformat": 4,
 "nbformat_minor": 5
}