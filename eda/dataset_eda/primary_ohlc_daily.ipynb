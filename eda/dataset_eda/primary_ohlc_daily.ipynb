{
 "cells": [
  {
   "cell_type": "markdown",
   "source": [
    "# EDA - Primary OHLC Daily"
   ],
   "metadata": {
    "collapsed": false,
    "pycharm": {
     "name": "#%% md\n"
    }
   }
  },
  {
   "cell_type": "code",
   "execution_count": null,
   "outputs": [],
   "source": [
    "# import libraries\n",
    "import algoseek_connector\n",
    "import pandas as pd\n"
   ],
   "metadata": {
    "collapsed": false,
    "pycharm": {
     "name": "#%%\n"
    }
   }
  },
  {
   "cell_type": "markdown",
   "source": [
    "Primary OHLC Daily Datafield:\n",
    "\n",
    "| Field                   | Type (Format)     | Description                  |\n",
    "|-------------------------|-------------------|------------------------------|\n",
    "| SecId                   | integer           | algoseek unique security id  |\n",
    "| TradeDate               | string (YYYYMMDD) | Trading date in YYYYMMDD format |\n",
    "| Ticker                  | string            | Symbol name |\n",
    "| Name                    | string            | Name of Equity Security |\n",
    "| PrimaryExchange         | string            | Primary listing exchange on this trade date |\n",
    "| ISIN                    | string            | ISIN as of this trade date |\n",
    "| OpenPrice               | decimal           | Primary exchange opening trade (see section “Opening Trade Identification”) |\n",
    "| OpenSize                | integer           |  Primary exchange open trade size |\n",
    "| OpenTime                | time | Time of the primary exchange opening trade |\n",
    "| HighPrice               | decimal | Highest trade price from any exchange or Trade Reporting Facility (TRF) |\n",
    "| HighTime                | time | Time of the highest trade |\n",
    "| LowPrice                | decimal | Lowest trade price from any exchange or Trade Reporting Facility (TRF) |\n",
    "| LowTime                 | time | Time of the lowest trade |\n",
    "| ClosePrice              | decimal | Primary exchange closing trade (see section “Closing Trade Identification”) |\n",
    "| CloseSize               | integer | Primary exchange close trade size |\n",
    "| CloseTime               | time | Time of the primary exchange closing trade |\n",
    "| ListedMarketHoursVolume | integer | Public Listed exchanges trading volume during regular market hours only |\n",
    "| ListedMarketHoursTrades | integer | Number of trades during regular market hours in public listed exchanges |\n",
    "| ListedTotalVolume       | integer | Public Listed exchanges trading volume for the whole day (includes pre, regular, and post-market) |\n",
    "| ListedTotalTrades       | integer | Public Total number of trades for the trade date (includes pre-, regular, and post-market) in listed exchanges |\n",
    "| FinraMarketHoursVolume  | integer | FINRA/TRF trading volume during regular market hours only (normal trade day is 09:30:00 to 16:00:00 EST). FINRA/TRP represents off-exchange trading. |\n",
    "| FinraMarketHoursTrades  | integer | The number of FINRA/TRF trades during regular market hours. FINRA/TRF represents off-exchange trading. |\n",
    "| FinraTotalVolume        | integer | FINRA/TRF trading volume for the whole day (includes pre-, regular, and post-market) |\n",
    "| FinraTotalTrades        | integer | Total number of FINRA/TRF trades for the trade date (includes pre, regular, and post-market). FINRA/TRF represents off-exchange trading. |\n",
    "| MarketVWAP | decimal | Volume weighted average price during regular market hours, normally between 09:30:00 and 16:00:00 EST plus the Opening and Closing Cross (which may be after 16:00:00 EST) |\n",
    "| DailyVWAP | decimal | Volume weighted average price for the whole day including pre, regular, and post-market trades |\n",
    "\n"
   ],
   "metadata": {
    "collapsed": false,
    "pycharm": {
     "name": "#%% md\n"
    }
   }
  },
  {
   "cell_type": "code",
   "execution_count": null,
   "outputs": [],
   "source": [
    "import algoseek_connector\n",
    "import algoseek_connector.functions as fn\n",
    "import pandas as pd\n",
    "import os\n",
    "from dotenv import load_dotenv\n",
    "\n",
    "\n",
    "\n",
    "pd.set_option('display.max_columns',150)\n",
    "pd.set_option('display.max_rows', 100)\n",
    "\n",
    "load_dotenv()\n",
    "\n",
    "jhost = os.getenv('host_julian')\n",
    "juser = os.getenv('user_julian')\n",
    "jpass = os.getenv('password_julian')\n",
    "\n",
    "session = algoseek_connector.Session(\n",
    "    jhost, juser,jpass\n",
    ")\n",
    "session.ping() # Verify that the session was instantiated corrected\n",
    "resource = algoseek_connector.DataResource(session)\n",
    "look = pd.read_parquet('data/us_equity/ref/lookup.parquet')\n",
    "tickers = look['Ticker'].unique()"
   ],
   "metadata": {
    "collapsed": false,
    "pycharm": {
     "name": "#%%\n"
    }
   }
  },
  {
   "cell_type": "code",
   "execution_count": null,
   "outputs": [],
   "source": [
    "primary_ohlc_daily = resource.datagroups.USEquityMarketData.datasets.PrimaryOHLCDaily\n",
    "\n",
    "aapl = primary_ohlc_daily.select(\n",
    "       primary_ohlc_daily.TradeDate,\n",
    "       primary_ohlc_daily.SecId,\n",
    "       primary_ohlc_daily.Ticker,\n",
    "       primary_ohlc_daily.Name,\n",
    "       primary_ohlc_daily.PrimaryExchange,\n",
    "       primary_ohlc_daily.ISIN,\n",
    "       primary_ohlc_daily.OpenTime,\n",
    "       primary_ohlc_daily.OpenPrice,\n",
    "       primary_ohlc_daily.OpenSize,\n",
    "       primary_ohlc_daily.HighTime,\n",
    "       primary_ohlc_daily.HighPrice,\n",
    "       primary_ohlc_daily.LowTime,\n",
    "       primary_ohlc_daily.LowPrice,\n",
    "       primary_ohlc_daily.CloseTime,\n",
    "       primary_ohlc_daily.ClosePrice,\n",
    "       primary_ohlc_daily.CloseSize,\n",
    "       primary_ohlc_daily.ListedMarketHoursVolume,\n",
    "       primary_ohlc_daily.ListedMarketHoursTrades,\n",
    "       primary_ohlc_daily.ListedTotalVolume,\n",
    "       primary_ohlc_daily.ListedTotalTrades,\n",
    "       primary_ohlc_daily.FinraMarketHoursVolume,\n",
    "       primary_ohlc_daily.FinraMarketHoursTrades,\n",
    "       primary_ohlc_daily.FinraTotalVolume,\n",
    "       primary_ohlc_daily.FinraTotalTrades,\n",
    "       primary_ohlc_daily.MarketVWAP,\n",
    "       primary_ohlc_daily.DailyVWAP\n",
    ").filter(\n",
    "    (primary_ohlc_daily.Ticker=='AAPL')\n",
    ").fetch()"
   ],
   "metadata": {
    "collapsed": false,
    "pycharm": {
     "name": "#%%\n"
    }
   }
  },
  {
   "cell_type": "code",
   "execution_count": null,
   "outputs": [],
   "source": [],
   "metadata": {
    "collapsed": false,
    "pycharm": {
     "name": "#%%\n"
    }
   }
  }
 ],
 "metadata": {
  "kernelspec": {
   "display_name": "Python 3",
   "language": "python",
   "name": "python3"
  },
  "language_info": {
   "codemirror_mode": {
    "name": "ipython",
    "version": 2
   },
   "file_extension": ".py",
   "mimetype": "text/x-python",
   "name": "python",
   "nbconvert_exporter": "python",
   "pygments_lexer": "ipython2",
   "version": "2.7.6"
  }
 },
 "nbformat": 4,
 "nbformat_minor": 0
}