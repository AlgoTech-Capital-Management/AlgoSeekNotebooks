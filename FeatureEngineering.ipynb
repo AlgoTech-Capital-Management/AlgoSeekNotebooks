{
 "cells": [
  {
   "cell_type": "markdown",
   "source": [
    "# Create Features Dataset for Machine Learning"
   ],
   "metadata": {
    "collapsed": false
   }
  },
  {
   "cell_type": "code",
   "execution_count": 1,
   "outputs": [],
   "source": [
    "import pandas as pd\n",
    "import pyarrow as pa\n",
    "import pyarrow.dataset as ds\n",
    "import pyarrow.parquet as pq\n",
    "import os\n"
   ],
   "metadata": {
    "collapsed": false
   }
  },
  {
   "cell_type": "code",
   "execution_count": 2,
   "outputs": [],
   "source": [
    "dataset = ds.dataset('C:/Users/julia/Documents/Coding/JupyterSamples/AlgoSeekNotebooks/data/us_equity/dataset/',format=\"parquet\")"
   ],
   "metadata": {
    "collapsed": false
   }
  },
  {
   "cell_type": "code",
   "execution_count": 3,
   "outputs": [
    {
     "data": {
      "text/plain": "TradeDate: timestamp[us]\nSecId: int64\nOpenBarTimeOffset: decimal128(1, 0)\nOpenBidPrice: double\nOpenBidSize: int64\nOpenAskPrice: double\nOpenAskSize: int64\nFirstTradeTimeOffset: decimal128(11, 9)\nFirstTradePrice: double\nFirstTradeSize: int64\nHighBidTimeOffset: decimal128(11, 9)\nHighBidPrice: double\nHighBidSize: int64\nHighAskTimeOffset: decimal128(11, 9)\nHighAskPrice: double\nHighAskSize: int64\nHighTradeTimeOffset: decimal128(11, 9)\nHighTradePrice: double\nHighTradeSize: int64\nLowBidTimeOffset: decimal128(11, 9)\nLowBidPrice: double\nLowBidSize: int64\nLowAskTimeOffset: decimal128(11, 9)\nLowAskPrice: double\nLowAskSize: int64\nLowTradeTimeOffset: decimal128(11, 9)\nLowTradePrice: double\nLowTradeSize: int64\nCloseBarTimeOffset: decimal128(11, 9)\nCloseBidPrice: double\nCloseBidSize: int64\nCloseAskPrice: double\nCloseAskSize: int64\nLastTradeTimeOffset: decimal128(11, 9)\nLastTradePrice: double\nLastTradeSize: int64\nMinSpread: double\nMaxSpread: double\nCancelSize: int64\nVolumeWeightPrice: double\nNBBOQuoteCount: int64\nTradeAtBid: int64\nTradeAtBidMid: int64\nTradeAtMid: int64\nTradeAtMidAsk: int64\nTradeAtAsk: int64\nTradeAtCrossOrLocked: int64\nVolume: int64\nTotalTrades: int64\nFinraVolume: int64\nFinraVolumeWeightPrice: double\nUptickVolume: int64\nDowntickVolume: int64\nRepeatUptickVolume: int64\nRepeatDowntickVolume: int64\nUnknownTickVolume: int64\nTradeToMidVolWeight: double\nTradeToMidVolWeightRelative: double\nTimeWeightBid: double\nTimeWeightAsk: double\nret1min: double\nret2min: double\nret3min: double\nret4min: double\nret5min: double\nret6min: double\nret7min: double\nret8min: double\nret9min: double\nret10min: double\nret11min: double\nret12min: double\nret13min: double\nret14min: double\nret20min: double\nret25min: double\nret30min: double\nret35min: double\nret40min: double\nret45min: double\nret50min: double\nret55min: double\nret60min: double\nret90min: double\nret120min: double\nquarter: int64\nBarDateTime: timestamp[us, tz=US/Eastern]\n-- schema metadata --\npandas: '{\"index_columns\": [\"Ticker\", \"BarDateTime\"], \"column_indexes\": [' + 11651"
     },
     "execution_count": 3,
     "metadata": {},
     "output_type": "execute_result"
    }
   ],
   "source": [
    "dataset.schema"
   ],
   "metadata": {
    "collapsed": false
   }
  },
  {
   "cell_type": "code",
   "execution_count": 4,
   "outputs": [
    {
     "data": {
      "text/plain": "[<pyarrow.dataset.ParquetFileFragment path=C:/Users/julia/Documents/Coding/JupyterSamples/AlgoSeekNotebooks/data/us_equity/dataset/year=2012/month=1/day=10/Ticker=AAPL/1356f8473e554c4fb01e4ea97e1739d8-0.parquet>]"
     },
     "execution_count": 4,
     "metadata": {},
     "output_type": "execute_result"
    }
   ],
   "source": [
    "fragments = list(dataset.get_fragments())\n",
    "fragments[0].split_by_row_group()"
   ],
   "metadata": {
    "collapsed": false
   }
  },
  {
   "cell_type": "code",
   "execution_count": 5,
   "outputs": [],
   "source": [
    "import pyarrow.compute as pc\n",
    "col2_sum = 0\n",
    "count = 0\n",
    "for batch in dataset.to_batches(columns=[\"LastTradePrice\"], filter=~ds.field(\"LastTradePrice\").is_null()):\n",
    "\n",
    "    col2_sum += pc.sum(batch.column(\"LastTradePrice\")).as_py()\n",
    "\n",
    "    count += batch.num_rows"
   ],
   "metadata": {
    "collapsed": false
   }
  },
  {
   "cell_type": "code",
   "execution_count": 6,
   "outputs": [
    {
     "data": {
      "text/plain": "9463350820.327988"
     },
     "execution_count": 6,
     "metadata": {},
     "output_type": "execute_result"
    }
   ],
   "source": [
    "col2_sum"
   ],
   "metadata": {
    "collapsed": false
   }
  },
  {
   "cell_type": "code",
   "execution_count": null,
   "outputs": [],
   "source": [],
   "metadata": {
    "collapsed": false
   }
  }
 ],
 "metadata": {
  "kernelspec": {
   "display_name": "Python 3",
   "language": "python",
   "name": "python3"
  },
  "language_info": {
   "codemirror_mode": {
    "name": "ipython",
    "version": 2
   },
   "file_extension": ".py",
   "mimetype": "text/x-python",
   "name": "python",
   "nbconvert_exporter": "python",
   "pygments_lexer": "ipython2",
   "version": "2.7.6"
  }
 },
 "nbformat": 4,
 "nbformat_minor": 0
}
